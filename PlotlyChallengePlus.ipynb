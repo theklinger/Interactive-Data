{
 "cells": [
  {
   "cell_type": "code",
   "execution_count": 1,
   "id": "bf00a5af",
   "metadata": {},
   "outputs": [],
   "source": [
    "import pandas as pd\n",
    "from matplotlib import pyplot as plt\n",
    "import plotly.express as px\n",
    "import numpy as np"
   ]
  },
  {
   "cell_type": "code",
   "execution_count": 2,
   "id": "d86de3ec",
   "metadata": {},
   "outputs": [],
   "source": [
    "data = pd.read_csv('Fuel_Consumption_2000-2022.csv')\n",
    "# OMIT the Length as this is a questoin in the challenge: len(data)"
   ]
  },
  {
   "cell_type": "code",
   "execution_count": 3,
   "id": "b49ef5e5",
   "metadata": {},
   "outputs": [
    {
     "data": {
      "text/html": [
       "<div>\n",
       "<style scoped>\n",
       "    .dataframe tbody tr th:only-of-type {\n",
       "        vertical-align: middle;\n",
       "    }\n",
       "\n",
       "    .dataframe tbody tr th {\n",
       "        vertical-align: top;\n",
       "    }\n",
       "\n",
       "    .dataframe thead th {\n",
       "        text-align: right;\n",
       "    }\n",
       "</style>\n",
       "<table border=\"1\" class=\"dataframe\">\n",
       "  <thead>\n",
       "    <tr style=\"text-align: right;\">\n",
       "      <th></th>\n",
       "      <th>ID</th>\n",
       "      <th>YEAR</th>\n",
       "      <th>MAKE</th>\n",
       "      <th>MODEL</th>\n",
       "      <th>VEHICLE CLASS</th>\n",
       "      <th>ENGINE SIZE</th>\n",
       "      <th>CYLINDERS</th>\n",
       "      <th>TRANSMISSION</th>\n",
       "      <th>FUEL</th>\n",
       "      <th>FUEL CONSUMPTION</th>\n",
       "      <th>COMB (mpg)</th>\n",
       "      <th>EMISSIONS</th>\n",
       "    </tr>\n",
       "  </thead>\n",
       "  <tbody>\n",
       "    <tr>\n",
       "      <th>0</th>\n",
       "      <td>1</td>\n",
       "      <td>2000</td>\n",
       "      <td>ACURA</td>\n",
       "      <td>1.6EL</td>\n",
       "      <td>COMPACT</td>\n",
       "      <td>1.6</td>\n",
       "      <td>4</td>\n",
       "      <td>A4</td>\n",
       "      <td>X</td>\n",
       "      <td>9.2</td>\n",
       "      <td>35</td>\n",
       "      <td>186</td>\n",
       "    </tr>\n",
       "    <tr>\n",
       "      <th>1</th>\n",
       "      <td>2</td>\n",
       "      <td>2000</td>\n",
       "      <td>ACURA</td>\n",
       "      <td>1.6EL</td>\n",
       "      <td>COMPACT</td>\n",
       "      <td>1.6</td>\n",
       "      <td>4</td>\n",
       "      <td>M5</td>\n",
       "      <td>X</td>\n",
       "      <td>8.5</td>\n",
       "      <td>37</td>\n",
       "      <td>175</td>\n",
       "    </tr>\n",
       "    <tr>\n",
       "      <th>2</th>\n",
       "      <td>3</td>\n",
       "      <td>2000</td>\n",
       "      <td>ACURA</td>\n",
       "      <td>3.2TL</td>\n",
       "      <td>MID-SIZE</td>\n",
       "      <td>3.2</td>\n",
       "      <td>6</td>\n",
       "      <td>AS5</td>\n",
       "      <td>Z</td>\n",
       "      <td>12.2</td>\n",
       "      <td>28</td>\n",
       "      <td>230</td>\n",
       "    </tr>\n",
       "    <tr>\n",
       "      <th>3</th>\n",
       "      <td>4</td>\n",
       "      <td>2000</td>\n",
       "      <td>ACURA</td>\n",
       "      <td>3.5RL</td>\n",
       "      <td>MID-SIZE</td>\n",
       "      <td>3.5</td>\n",
       "      <td>6</td>\n",
       "      <td>A4</td>\n",
       "      <td>Z</td>\n",
       "      <td>13.4</td>\n",
       "      <td>25</td>\n",
       "      <td>264</td>\n",
       "    </tr>\n",
       "    <tr>\n",
       "      <th>4</th>\n",
       "      <td>5</td>\n",
       "      <td>2000</td>\n",
       "      <td>ACURA</td>\n",
       "      <td>INTEGRA</td>\n",
       "      <td>SUBCOMPACT</td>\n",
       "      <td>1.8</td>\n",
       "      <td>4</td>\n",
       "      <td>A4</td>\n",
       "      <td>X</td>\n",
       "      <td>10.0</td>\n",
       "      <td>33</td>\n",
       "      <td>198</td>\n",
       "    </tr>\n",
       "    <tr>\n",
       "      <th>...</th>\n",
       "      <td>...</td>\n",
       "      <td>...</td>\n",
       "      <td>...</td>\n",
       "      <td>...</td>\n",
       "      <td>...</td>\n",
       "      <td>...</td>\n",
       "      <td>...</td>\n",
       "      <td>...</td>\n",
       "      <td>...</td>\n",
       "      <td>...</td>\n",
       "      <td>...</td>\n",
       "      <td>...</td>\n",
       "    </tr>\n",
       "    <tr>\n",
       "      <th>22551</th>\n",
       "      <td>22552</td>\n",
       "      <td>2022</td>\n",
       "      <td>VOLVO</td>\n",
       "      <td>XC40 T5 AWD</td>\n",
       "      <td>SUV - SMALL</td>\n",
       "      <td>2.0</td>\n",
       "      <td>4</td>\n",
       "      <td>AS8</td>\n",
       "      <td>Z</td>\n",
       "      <td>10.7</td>\n",
       "      <td>30</td>\n",
       "      <td>219</td>\n",
       "    </tr>\n",
       "    <tr>\n",
       "      <th>22552</th>\n",
       "      <td>22553</td>\n",
       "      <td>2022</td>\n",
       "      <td>VOLVO</td>\n",
       "      <td>XC60 B5 AWD</td>\n",
       "      <td>SUV - SMALL</td>\n",
       "      <td>2.0</td>\n",
       "      <td>4</td>\n",
       "      <td>AS8</td>\n",
       "      <td>Z</td>\n",
       "      <td>10.5</td>\n",
       "      <td>30</td>\n",
       "      <td>219</td>\n",
       "    </tr>\n",
       "    <tr>\n",
       "      <th>22553</th>\n",
       "      <td>22554</td>\n",
       "      <td>2022</td>\n",
       "      <td>VOLVO</td>\n",
       "      <td>XC60 B6 AWD</td>\n",
       "      <td>SUV - SMALL</td>\n",
       "      <td>2.0</td>\n",
       "      <td>4</td>\n",
       "      <td>AS8</td>\n",
       "      <td>Z</td>\n",
       "      <td>11.0</td>\n",
       "      <td>29</td>\n",
       "      <td>232</td>\n",
       "    </tr>\n",
       "    <tr>\n",
       "      <th>22554</th>\n",
       "      <td>22555</td>\n",
       "      <td>2022</td>\n",
       "      <td>VOLVO</td>\n",
       "      <td>XC90 T5 AWD</td>\n",
       "      <td>SUV - STANDARD</td>\n",
       "      <td>2.0</td>\n",
       "      <td>4</td>\n",
       "      <td>AS8</td>\n",
       "      <td>Z</td>\n",
       "      <td>11.5</td>\n",
       "      <td>28</td>\n",
       "      <td>236</td>\n",
       "    </tr>\n",
       "    <tr>\n",
       "      <th>22555</th>\n",
       "      <td>22556</td>\n",
       "      <td>2022</td>\n",
       "      <td>VOLVO</td>\n",
       "      <td>XC90 T6 AWD</td>\n",
       "      <td>SUV - STANDARD</td>\n",
       "      <td>2.0</td>\n",
       "      <td>4</td>\n",
       "      <td>AS8</td>\n",
       "      <td>Z</td>\n",
       "      <td>12.4</td>\n",
       "      <td>26</td>\n",
       "      <td>252</td>\n",
       "    </tr>\n",
       "  </tbody>\n",
       "</table>\n",
       "<p>22556 rows × 12 columns</p>\n",
       "</div>"
      ],
      "text/plain": [
       "          ID  YEAR   MAKE        MODEL   VEHICLE CLASS  ENGINE SIZE  \\\n",
       "0          1  2000  ACURA        1.6EL         COMPACT          1.6   \n",
       "1          2  2000  ACURA        1.6EL         COMPACT          1.6   \n",
       "2          3  2000  ACURA        3.2TL        MID-SIZE          3.2   \n",
       "3          4  2000  ACURA        3.5RL        MID-SIZE          3.5   \n",
       "4          5  2000  ACURA      INTEGRA      SUBCOMPACT          1.8   \n",
       "...      ...   ...    ...          ...             ...          ...   \n",
       "22551  22552  2022  VOLVO  XC40 T5 AWD     SUV - SMALL          2.0   \n",
       "22552  22553  2022  VOLVO  XC60 B5 AWD     SUV - SMALL          2.0   \n",
       "22553  22554  2022  VOLVO  XC60 B6 AWD     SUV - SMALL          2.0   \n",
       "22554  22555  2022  VOLVO  XC90 T5 AWD  SUV - STANDARD          2.0   \n",
       "22555  22556  2022  VOLVO  XC90 T6 AWD  SUV - STANDARD          2.0   \n",
       "\n",
       "       CYLINDERS TRANSMISSION FUEL  FUEL CONSUMPTION  COMB (mpg)  EMISSIONS  \n",
       "0              4           A4    X               9.2          35        186  \n",
       "1              4           M5    X               8.5          37        175  \n",
       "2              6          AS5    Z              12.2          28        230  \n",
       "3              6           A4    Z              13.4          25        264  \n",
       "4              4           A4    X              10.0          33        198  \n",
       "...          ...          ...  ...               ...         ...        ...  \n",
       "22551          4          AS8    Z              10.7          30        219  \n",
       "22552          4          AS8    Z              10.5          30        219  \n",
       "22553          4          AS8    Z              11.0          29        232  \n",
       "22554          4          AS8    Z              11.5          28        236  \n",
       "22555          4          AS8    Z              12.4          26        252  \n",
       "\n",
       "[22556 rows x 12 columns]"
      ]
     },
     "execution_count": 3,
     "metadata": {},
     "output_type": "execute_result"
    }
   ],
   "source": [
    "data"
   ]
  },
  {
   "cell_type": "code",
   "execution_count": 4,
   "id": "44ae8e30",
   "metadata": {},
   "outputs": [
    {
     "data": {
      "text/html": [
       "<div>\n",
       "<style scoped>\n",
       "    .dataframe tbody tr th:only-of-type {\n",
       "        vertical-align: middle;\n",
       "    }\n",
       "\n",
       "    .dataframe tbody tr th {\n",
       "        vertical-align: top;\n",
       "    }\n",
       "\n",
       "    .dataframe thead tr th {\n",
       "        text-align: left;\n",
       "    }\n",
       "\n",
       "    .dataframe thead tr:last-of-type th {\n",
       "        text-align: right;\n",
       "    }\n",
       "</style>\n",
       "<table border=\"1\" class=\"dataframe\">\n",
       "  <thead>\n",
       "    <tr>\n",
       "      <th></th>\n",
       "      <th></th>\n",
       "      <th colspan=\"8\" halign=\"left\">ID</th>\n",
       "      <th colspan=\"2\" halign=\"left\">ENGINE SIZE</th>\n",
       "      <th>...</th>\n",
       "      <th colspan=\"2\" halign=\"left\">COMB (mpg)</th>\n",
       "      <th colspan=\"8\" halign=\"left\">EMISSIONS</th>\n",
       "    </tr>\n",
       "    <tr>\n",
       "      <th></th>\n",
       "      <th></th>\n",
       "      <th>count</th>\n",
       "      <th>mean</th>\n",
       "      <th>std</th>\n",
       "      <th>min</th>\n",
       "      <th>25%</th>\n",
       "      <th>50%</th>\n",
       "      <th>75%</th>\n",
       "      <th>max</th>\n",
       "      <th>count</th>\n",
       "      <th>mean</th>\n",
       "      <th>...</th>\n",
       "      <th>75%</th>\n",
       "      <th>max</th>\n",
       "      <th>count</th>\n",
       "      <th>mean</th>\n",
       "      <th>std</th>\n",
       "      <th>min</th>\n",
       "      <th>25%</th>\n",
       "      <th>50%</th>\n",
       "      <th>75%</th>\n",
       "      <th>max</th>\n",
       "    </tr>\n",
       "    <tr>\n",
       "      <th>YEAR</th>\n",
       "      <th>VEHICLE CLASS</th>\n",
       "      <th></th>\n",
       "      <th></th>\n",
       "      <th></th>\n",
       "      <th></th>\n",
       "      <th></th>\n",
       "      <th></th>\n",
       "      <th></th>\n",
       "      <th></th>\n",
       "      <th></th>\n",
       "      <th></th>\n",
       "      <th></th>\n",
       "      <th></th>\n",
       "      <th></th>\n",
       "      <th></th>\n",
       "      <th></th>\n",
       "      <th></th>\n",
       "      <th></th>\n",
       "      <th></th>\n",
       "      <th></th>\n",
       "      <th></th>\n",
       "      <th></th>\n",
       "    </tr>\n",
       "  </thead>\n",
       "  <tbody>\n",
       "    <tr>\n",
       "      <th rowspan=\"5\" valign=\"top\">2000</th>\n",
       "      <th>COMPACT</th>\n",
       "      <td>105.0</td>\n",
       "      <td>329.219048</td>\n",
       "      <td>221.470782</td>\n",
       "      <td>1.0</td>\n",
       "      <td>54.00</td>\n",
       "      <td>375.0</td>\n",
       "      <td>549.00</td>\n",
       "      <td>624.0</td>\n",
       "      <td>105.0</td>\n",
       "      <td>2.348571</td>\n",
       "      <td>...</td>\n",
       "      <td>34.00</td>\n",
       "      <td>55.0</td>\n",
       "      <td>105.0</td>\n",
       "      <td>213.371429</td>\n",
       "      <td>33.433993</td>\n",
       "      <td>138.0</td>\n",
       "      <td>193.0</td>\n",
       "      <td>216.0</td>\n",
       "      <td>232.0</td>\n",
       "      <td>331.0</td>\n",
       "    </tr>\n",
       "    <tr>\n",
       "      <th>FULL-SIZE</th>\n",
       "      <td>28.0</td>\n",
       "      <td>241.642857</td>\n",
       "      <td>174.074955</td>\n",
       "      <td>50.0</td>\n",
       "      <td>104.75</td>\n",
       "      <td>142.5</td>\n",
       "      <td>431.25</td>\n",
       "      <td>544.0</td>\n",
       "      <td>28.0</td>\n",
       "      <td>3.710714</td>\n",
       "      <td>...</td>\n",
       "      <td>28.25</td>\n",
       "      <td>30.0</td>\n",
       "      <td>28.0</td>\n",
       "      <td>248.535714</td>\n",
       "      <td>22.802667</td>\n",
       "      <td>218.0</td>\n",
       "      <td>229.5</td>\n",
       "      <td>246.0</td>\n",
       "      <td>260.5</td>\n",
       "      <td>331.0</td>\n",
       "    </tr>\n",
       "    <tr>\n",
       "      <th>MID-SIZE</th>\n",
       "      <td>77.0</td>\n",
       "      <td>347.064935</td>\n",
       "      <td>202.177250</td>\n",
       "      <td>3.0</td>\n",
       "      <td>136.00</td>\n",
       "      <td>390.0</td>\n",
       "      <td>492.00</td>\n",
       "      <td>632.0</td>\n",
       "      <td>77.0</td>\n",
       "      <td>3.029870</td>\n",
       "      <td>...</td>\n",
       "      <td>29.00</td>\n",
       "      <td>34.0</td>\n",
       "      <td>77.0</td>\n",
       "      <td>239.000000</td>\n",
       "      <td>22.919769</td>\n",
       "      <td>189.0</td>\n",
       "      <td>223.0</td>\n",
       "      <td>235.0</td>\n",
       "      <td>260.0</td>\n",
       "      <td>292.0</td>\n",
       "    </tr>\n",
       "    <tr>\n",
       "      <th>MINICOMPACT</th>\n",
       "      <td>11.0</td>\n",
       "      <td>328.727273</td>\n",
       "      <td>193.007301</td>\n",
       "      <td>28.0</td>\n",
       "      <td>208.00</td>\n",
       "      <td>419.0</td>\n",
       "      <td>483.50</td>\n",
       "      <td>486.0</td>\n",
       "      <td>11.0</td>\n",
       "      <td>3.263636</td>\n",
       "      <td>...</td>\n",
       "      <td>27.50</td>\n",
       "      <td>29.0</td>\n",
       "      <td>11.0</td>\n",
       "      <td>257.090909</td>\n",
       "      <td>21.092437</td>\n",
       "      <td>225.0</td>\n",
       "      <td>239.5</td>\n",
       "      <td>264.0</td>\n",
       "      <td>271.5</td>\n",
       "      <td>285.0</td>\n",
       "    </tr>\n",
       "    <tr>\n",
       "      <th>MINIVAN</th>\n",
       "      <td>26.0</td>\n",
       "      <td>275.807692</td>\n",
       "      <td>152.079195</td>\n",
       "      <td>134.0</td>\n",
       "      <td>167.25</td>\n",
       "      <td>186.5</td>\n",
       "      <td>387.75</td>\n",
       "      <td>586.0</td>\n",
       "      <td>26.0</td>\n",
       "      <td>3.357692</td>\n",
       "      <td>...</td>\n",
       "      <td>26.00</td>\n",
       "      <td>26.0</td>\n",
       "      <td>26.0</td>\n",
       "      <td>266.076923</td>\n",
       "      <td>20.478131</td>\n",
       "      <td>246.0</td>\n",
       "      <td>253.0</td>\n",
       "      <td>261.0</td>\n",
       "      <td>274.0</td>\n",
       "      <td>331.0</td>\n",
       "    </tr>\n",
       "    <tr>\n",
       "      <th>...</th>\n",
       "      <th>...</th>\n",
       "      <td>...</td>\n",
       "      <td>...</td>\n",
       "      <td>...</td>\n",
       "      <td>...</td>\n",
       "      <td>...</td>\n",
       "      <td>...</td>\n",
       "      <td>...</td>\n",
       "      <td>...</td>\n",
       "      <td>...</td>\n",
       "      <td>...</td>\n",
       "      <td>...</td>\n",
       "      <td>...</td>\n",
       "      <td>...</td>\n",
       "      <td>...</td>\n",
       "      <td>...</td>\n",
       "      <td>...</td>\n",
       "      <td>...</td>\n",
       "      <td>...</td>\n",
       "      <td>...</td>\n",
       "      <td>...</td>\n",
       "      <td>...</td>\n",
       "    </tr>\n",
       "    <tr>\n",
       "      <th rowspan=\"5\" valign=\"top\">2022</th>\n",
       "      <th>STATION WAGON - SMALL</th>\n",
       "      <td>19.0</td>\n",
       "      <td>22235.894737</td>\n",
       "      <td>217.971429</td>\n",
       "      <td>21624.0</td>\n",
       "      <td>22143.50</td>\n",
       "      <td>22260.0</td>\n",
       "      <td>22345.50</td>\n",
       "      <td>22549.0</td>\n",
       "      <td>19.0</td>\n",
       "      <td>1.905263</td>\n",
       "      <td>...</td>\n",
       "      <td>36.00</td>\n",
       "      <td>61.0</td>\n",
       "      <td>19.0</td>\n",
       "      <td>192.473684</td>\n",
       "      <td>39.748331</td>\n",
       "      <td>110.0</td>\n",
       "      <td>184.0</td>\n",
       "      <td>200.0</td>\n",
       "      <td>217.0</td>\n",
       "      <td>260.0</td>\n",
       "    </tr>\n",
       "    <tr>\n",
       "      <th>SUBCOMPACT</th>\n",
       "      <td>79.0</td>\n",
       "      <td>21945.189873</td>\n",
       "      <td>252.686695</td>\n",
       "      <td>21621.0</td>\n",
       "      <td>21697.50</td>\n",
       "      <td>21945.0</td>\n",
       "      <td>22232.00</td>\n",
       "      <td>22324.0</td>\n",
       "      <td>79.0</td>\n",
       "      <td>3.098734</td>\n",
       "      <td>...</td>\n",
       "      <td>31.00</td>\n",
       "      <td>40.0</td>\n",
       "      <td>79.0</td>\n",
       "      <td>248.341772</td>\n",
       "      <td>51.964704</td>\n",
       "      <td>165.0</td>\n",
       "      <td>211.0</td>\n",
       "      <td>242.0</td>\n",
       "      <td>286.0</td>\n",
       "      <td>392.0</td>\n",
       "    </tr>\n",
       "    <tr>\n",
       "      <th>SUV - SMALL</th>\n",
       "      <td>197.0</td>\n",
       "      <td>22081.477157</td>\n",
       "      <td>275.913854</td>\n",
       "      <td>21603.0</td>\n",
       "      <td>21878.00</td>\n",
       "      <td>22103.0</td>\n",
       "      <td>22274.00</td>\n",
       "      <td>22554.0</td>\n",
       "      <td>197.0</td>\n",
       "      <td>2.328426</td>\n",
       "      <td>...</td>\n",
       "      <td>32.00</td>\n",
       "      <td>49.0</td>\n",
       "      <td>197.0</td>\n",
       "      <td>229.857868</td>\n",
       "      <td>41.351160</td>\n",
       "      <td>136.0</td>\n",
       "      <td>204.0</td>\n",
       "      <td>224.0</td>\n",
       "      <td>252.0</td>\n",
       "      <td>387.0</td>\n",
       "    </tr>\n",
       "    <tr>\n",
       "      <th>SUV - STANDARD</th>\n",
       "      <td>149.0</td>\n",
       "      <td>22044.738255</td>\n",
       "      <td>239.832470</td>\n",
       "      <td>21619.0</td>\n",
       "      <td>21840.00</td>\n",
       "      <td>22027.0</td>\n",
       "      <td>22210.00</td>\n",
       "      <td>22556.0</td>\n",
       "      <td>149.0</td>\n",
       "      <td>3.970470</td>\n",
       "      <td>...</td>\n",
       "      <td>25.00</td>\n",
       "      <td>42.0</td>\n",
       "      <td>149.0</td>\n",
       "      <td>305.174497</td>\n",
       "      <td>46.350418</td>\n",
       "      <td>156.0</td>\n",
       "      <td>272.0</td>\n",
       "      <td>309.0</td>\n",
       "      <td>343.0</td>\n",
       "      <td>412.0</td>\n",
       "    </tr>\n",
       "    <tr>\n",
       "      <th>TWO-SEATER</th>\n",
       "      <td>51.0</td>\n",
       "      <td>22138.490196</td>\n",
       "      <td>276.644420</td>\n",
       "      <td>21620.0</td>\n",
       "      <td>22016.50</td>\n",
       "      <td>22166.0</td>\n",
       "      <td>22366.50</td>\n",
       "      <td>22503.0</td>\n",
       "      <td>51.0</td>\n",
       "      <td>4.035294</td>\n",
       "      <td>...</td>\n",
       "      <td>27.00</td>\n",
       "      <td>36.0</td>\n",
       "      <td>51.0</td>\n",
       "      <td>307.254902</td>\n",
       "      <td>99.568839</td>\n",
       "      <td>186.0</td>\n",
       "      <td>245.0</td>\n",
       "      <td>284.0</td>\n",
       "      <td>339.0</td>\n",
       "      <td>608.0</td>\n",
       "    </tr>\n",
       "  </tbody>\n",
       "</table>\n",
       "<p>335 rows × 48 columns</p>\n",
       "</div>"
      ],
      "text/plain": [
       "                               ID                                     \\\n",
       "                            count          mean         std      min   \n",
       "YEAR VEHICLE CLASS                                                     \n",
       "2000 COMPACT                105.0    329.219048  221.470782      1.0   \n",
       "     FULL-SIZE               28.0    241.642857  174.074955     50.0   \n",
       "     MID-SIZE                77.0    347.064935  202.177250      3.0   \n",
       "     MINICOMPACT             11.0    328.727273  193.007301     28.0   \n",
       "     MINIVAN                 26.0    275.807692  152.079195    134.0   \n",
       "...                           ...           ...         ...      ...   \n",
       "2022 STATION WAGON - SMALL   19.0  22235.894737  217.971429  21624.0   \n",
       "     SUBCOMPACT              79.0  21945.189873  252.686695  21621.0   \n",
       "     SUV - SMALL            197.0  22081.477157  275.913854  21603.0   \n",
       "     SUV - STANDARD         149.0  22044.738255  239.832470  21619.0   \n",
       "     TWO-SEATER              51.0  22138.490196  276.644420  21620.0   \n",
       "\n",
       "                                                                 ENGINE SIZE  \\\n",
       "                                 25%      50%       75%      max       count   \n",
       "YEAR VEHICLE CLASS                                                             \n",
       "2000 COMPACT                   54.00    375.0    549.00    624.0       105.0   \n",
       "     FULL-SIZE                104.75    142.5    431.25    544.0        28.0   \n",
       "     MID-SIZE                 136.00    390.0    492.00    632.0        77.0   \n",
       "     MINICOMPACT              208.00    419.0    483.50    486.0        11.0   \n",
       "     MINIVAN                  167.25    186.5    387.75    586.0        26.0   \n",
       "...                              ...      ...       ...      ...         ...   \n",
       "2022 STATION WAGON - SMALL  22143.50  22260.0  22345.50  22549.0        19.0   \n",
       "     SUBCOMPACT             21697.50  21945.0  22232.00  22324.0        79.0   \n",
       "     SUV - SMALL            21878.00  22103.0  22274.00  22554.0       197.0   \n",
       "     SUV - STANDARD         21840.00  22027.0  22210.00  22556.0       149.0   \n",
       "     TWO-SEATER             22016.50  22166.0  22366.50  22503.0        51.0   \n",
       "\n",
       "                                      ... COMB (mpg)       EMISSIONS  \\\n",
       "                                mean  ...        75%   max     count   \n",
       "YEAR VEHICLE CLASS                    ...                              \n",
       "2000 COMPACT                2.348571  ...      34.00  55.0     105.0   \n",
       "     FULL-SIZE              3.710714  ...      28.25  30.0      28.0   \n",
       "     MID-SIZE               3.029870  ...      29.00  34.0      77.0   \n",
       "     MINICOMPACT            3.263636  ...      27.50  29.0      11.0   \n",
       "     MINIVAN                3.357692  ...      26.00  26.0      26.0   \n",
       "...                              ...  ...        ...   ...       ...   \n",
       "2022 STATION WAGON - SMALL  1.905263  ...      36.00  61.0      19.0   \n",
       "     SUBCOMPACT             3.098734  ...      31.00  40.0      79.0   \n",
       "     SUV - SMALL            2.328426  ...      32.00  49.0     197.0   \n",
       "     SUV - STANDARD         3.970470  ...      25.00  42.0     149.0   \n",
       "     TWO-SEATER             4.035294  ...      27.00  36.0      51.0   \n",
       "\n",
       "                                                                               \\\n",
       "                                  mean        std    min    25%    50%    75%   \n",
       "YEAR VEHICLE CLASS                                                              \n",
       "2000 COMPACT                213.371429  33.433993  138.0  193.0  216.0  232.0   \n",
       "     FULL-SIZE              248.535714  22.802667  218.0  229.5  246.0  260.5   \n",
       "     MID-SIZE               239.000000  22.919769  189.0  223.0  235.0  260.0   \n",
       "     MINICOMPACT            257.090909  21.092437  225.0  239.5  264.0  271.5   \n",
       "     MINIVAN                266.076923  20.478131  246.0  253.0  261.0  274.0   \n",
       "...                                ...        ...    ...    ...    ...    ...   \n",
       "2022 STATION WAGON - SMALL  192.473684  39.748331  110.0  184.0  200.0  217.0   \n",
       "     SUBCOMPACT             248.341772  51.964704  165.0  211.0  242.0  286.0   \n",
       "     SUV - SMALL            229.857868  41.351160  136.0  204.0  224.0  252.0   \n",
       "     SUV - STANDARD         305.174497  46.350418  156.0  272.0  309.0  343.0   \n",
       "     TWO-SEATER             307.254902  99.568839  186.0  245.0  284.0  339.0   \n",
       "\n",
       "                                   \n",
       "                              max  \n",
       "YEAR VEHICLE CLASS                 \n",
       "2000 COMPACT                331.0  \n",
       "     FULL-SIZE              331.0  \n",
       "     MID-SIZE               292.0  \n",
       "     MINICOMPACT            285.0  \n",
       "     MINIVAN                331.0  \n",
       "...                           ...  \n",
       "2022 STATION WAGON - SMALL  260.0  \n",
       "     SUBCOMPACT             392.0  \n",
       "     SUV - SMALL            387.0  \n",
       "     SUV - STANDARD         412.0  \n",
       "     TWO-SEATER             608.0  \n",
       "\n",
       "[335 rows x 48 columns]"
      ]
     },
     "execution_count": 4,
     "metadata": {},
     "output_type": "execute_result"
    }
   ],
   "source": [
    "data_group = data.astype({'YEAR': 'category', 'VEHICLE CLASS': 'category', 'MAKE': 'category'})\n",
    "data_to_display = data_group.groupby(['YEAR', 'VEHICLE CLASS']).describe()\n",
    "data_to_display"
   ]
  },
  {
   "cell_type": "code",
   "execution_count": 75,
   "id": "49ca3eca",
   "metadata": {
    "collapsed": true
   },
   "outputs": [
    {
     "data": {
      "text/plain": [
       "MultiIndex([(2000,                  'COMPACT'),\n",
       "            (2000,                'FULL-SIZE'),\n",
       "            (2000,                 'MID-SIZE'),\n",
       "            (2000,              'MINICOMPACT'),\n",
       "            (2000,                  'MINIVAN'),\n",
       "            (2000,     'PICKUP TRUCK - SMALL'),\n",
       "            (2000,  'PICKUP TRUCK - STANDARD'),\n",
       "            (2000, 'STATION WAGON - MID-SIZE'),\n",
       "            (2000,    'STATION WAGON - SMALL'),\n",
       "            (2000,               'SUBCOMPACT'),\n",
       "            ...\n",
       "            (2022,                  'MINIVAN'),\n",
       "            (2022,     'PICKUP TRUCK - SMALL'),\n",
       "            (2022,  'PICKUP TRUCK - STANDARD'),\n",
       "            (2022,  'SPECIAL PURPOSE VEHICLE'),\n",
       "            (2022, 'STATION WAGON - MID-SIZE'),\n",
       "            (2022,    'STATION WAGON - SMALL'),\n",
       "            (2022,               'SUBCOMPACT'),\n",
       "            (2022,              'SUV - SMALL'),\n",
       "            (2022,           'SUV - STANDARD'),\n",
       "            (2022,               'TWO-SEATER')],\n",
       "           names=['YEAR', 'VEHICLE CLASS'], length=335)"
      ]
     },
     "execution_count": 75,
     "metadata": {},
     "output_type": "execute_result"
    }
   ],
   "source": [
    "data_to_display.index"
   ]
  },
  {
   "cell_type": "code",
   "execution_count": 76,
   "id": "e3002e97",
   "metadata": {
    "collapsed": true
   },
   "outputs": [
    {
     "data": {
      "text/plain": [
       "[2000,\n",
       " 2000,\n",
       " 2000,\n",
       " 2000,\n",
       " 2000,\n",
       " 2000,\n",
       " 2000,\n",
       " 2000,\n",
       " 2000,\n",
       " 2000,\n",
       " 2000,\n",
       " 2000,\n",
       " 2000,\n",
       " 2000,\n",
       " 2001,\n",
       " 2001,\n",
       " 2001,\n",
       " 2001,\n",
       " 2001,\n",
       " 2001,\n",
       " 2001,\n",
       " 2001,\n",
       " 2001,\n",
       " 2001,\n",
       " 2001,\n",
       " 2001,\n",
       " 2001,\n",
       " 2001,\n",
       " 2002,\n",
       " 2002,\n",
       " 2002,\n",
       " 2002,\n",
       " 2002,\n",
       " 2002,\n",
       " 2002,\n",
       " 2002,\n",
       " 2002,\n",
       " 2002,\n",
       " 2002,\n",
       " 2002,\n",
       " 2002,\n",
       " 2002,\n",
       " 2003,\n",
       " 2003,\n",
       " 2003,\n",
       " 2003,\n",
       " 2003,\n",
       " 2003,\n",
       " 2003,\n",
       " 2003,\n",
       " 2003,\n",
       " 2003,\n",
       " 2003,\n",
       " 2003,\n",
       " 2003,\n",
       " 2003,\n",
       " 2004,\n",
       " 2004,\n",
       " 2004,\n",
       " 2004,\n",
       " 2004,\n",
       " 2004,\n",
       " 2004,\n",
       " 2004,\n",
       " 2004,\n",
       " 2004,\n",
       " 2004,\n",
       " 2004,\n",
       " 2004,\n",
       " 2004,\n",
       " 2005,\n",
       " 2005,\n",
       " 2005,\n",
       " 2005,\n",
       " 2005,\n",
       " 2005,\n",
       " 2005,\n",
       " 2005,\n",
       " 2005,\n",
       " 2005,\n",
       " 2005,\n",
       " 2005,\n",
       " 2005,\n",
       " 2006,\n",
       " 2006,\n",
       " 2006,\n",
       " 2006,\n",
       " 2006,\n",
       " 2006,\n",
       " 2006,\n",
       " 2006,\n",
       " 2006,\n",
       " 2006,\n",
       " 2006,\n",
       " 2006,\n",
       " 2006,\n",
       " 2007,\n",
       " 2007,\n",
       " 2007,\n",
       " 2007,\n",
       " 2007,\n",
       " 2007,\n",
       " 2007,\n",
       " 2007,\n",
       " 2007,\n",
       " 2007,\n",
       " 2007,\n",
       " 2007,\n",
       " 2007,\n",
       " 2007,\n",
       " 2008,\n",
       " 2008,\n",
       " 2008,\n",
       " 2008,\n",
       " 2008,\n",
       " 2008,\n",
       " 2008,\n",
       " 2008,\n",
       " 2008,\n",
       " 2008,\n",
       " 2008,\n",
       " 2008,\n",
       " 2008,\n",
       " 2008,\n",
       " 2009,\n",
       " 2009,\n",
       " 2009,\n",
       " 2009,\n",
       " 2009,\n",
       " 2009,\n",
       " 2009,\n",
       " 2009,\n",
       " 2009,\n",
       " 2009,\n",
       " 2009,\n",
       " 2009,\n",
       " 2009,\n",
       " 2009,\n",
       " 2010,\n",
       " 2010,\n",
       " 2010,\n",
       " 2010,\n",
       " 2010,\n",
       " 2010,\n",
       " 2010,\n",
       " 2010,\n",
       " 2010,\n",
       " 2010,\n",
       " 2010,\n",
       " 2010,\n",
       " 2010,\n",
       " 2010,\n",
       " 2010,\n",
       " 2011,\n",
       " 2011,\n",
       " 2011,\n",
       " 2011,\n",
       " 2011,\n",
       " 2011,\n",
       " 2011,\n",
       " 2011,\n",
       " 2011,\n",
       " 2011,\n",
       " 2011,\n",
       " 2011,\n",
       " 2011,\n",
       " 2011,\n",
       " 2011,\n",
       " 2012,\n",
       " 2012,\n",
       " 2012,\n",
       " 2012,\n",
       " 2012,\n",
       " 2012,\n",
       " 2012,\n",
       " 2012,\n",
       " 2012,\n",
       " 2012,\n",
       " 2012,\n",
       " 2012,\n",
       " 2012,\n",
       " 2012,\n",
       " 2012,\n",
       " 2012,\n",
       " 2013,\n",
       " 2013,\n",
       " 2013,\n",
       " 2013,\n",
       " 2013,\n",
       " 2013,\n",
       " 2013,\n",
       " 2013,\n",
       " 2013,\n",
       " 2013,\n",
       " 2013,\n",
       " 2013,\n",
       " 2013,\n",
       " 2013,\n",
       " 2013,\n",
       " 2013,\n",
       " 2014,\n",
       " 2014,\n",
       " 2014,\n",
       " 2014,\n",
       " 2014,\n",
       " 2014,\n",
       " 2014,\n",
       " 2014,\n",
       " 2014,\n",
       " 2014,\n",
       " 2014,\n",
       " 2014,\n",
       " 2014,\n",
       " 2014,\n",
       " 2014,\n",
       " 2014,\n",
       " 2015,\n",
       " 2015,\n",
       " 2015,\n",
       " 2015,\n",
       " 2015,\n",
       " 2015,\n",
       " 2015,\n",
       " 2015,\n",
       " 2015,\n",
       " 2015,\n",
       " 2015,\n",
       " 2015,\n",
       " 2015,\n",
       " 2015,\n",
       " 2015,\n",
       " 2016,\n",
       " 2016,\n",
       " 2016,\n",
       " 2016,\n",
       " 2016,\n",
       " 2016,\n",
       " 2016,\n",
       " 2016,\n",
       " 2016,\n",
       " 2016,\n",
       " 2016,\n",
       " 2016,\n",
       " 2016,\n",
       " 2016,\n",
       " 2016,\n",
       " 2017,\n",
       " 2017,\n",
       " 2017,\n",
       " 2017,\n",
       " 2017,\n",
       " 2017,\n",
       " 2017,\n",
       " 2017,\n",
       " 2017,\n",
       " 2017,\n",
       " 2017,\n",
       " 2017,\n",
       " 2017,\n",
       " 2017,\n",
       " 2017,\n",
       " 2018,\n",
       " 2018,\n",
       " 2018,\n",
       " 2018,\n",
       " 2018,\n",
       " 2018,\n",
       " 2018,\n",
       " 2018,\n",
       " 2018,\n",
       " 2018,\n",
       " 2018,\n",
       " 2018,\n",
       " 2018,\n",
       " 2018,\n",
       " 2018,\n",
       " 2019,\n",
       " 2019,\n",
       " 2019,\n",
       " 2019,\n",
       " 2019,\n",
       " 2019,\n",
       " 2019,\n",
       " 2019,\n",
       " 2019,\n",
       " 2019,\n",
       " 2019,\n",
       " 2019,\n",
       " 2019,\n",
       " 2019,\n",
       " 2019,\n",
       " 2020,\n",
       " 2020,\n",
       " 2020,\n",
       " 2020,\n",
       " 2020,\n",
       " 2020,\n",
       " 2020,\n",
       " 2020,\n",
       " 2020,\n",
       " 2020,\n",
       " 2020,\n",
       " 2020,\n",
       " 2020,\n",
       " 2020,\n",
       " 2020,\n",
       " 2021,\n",
       " 2021,\n",
       " 2021,\n",
       " 2021,\n",
       " 2021,\n",
       " 2021,\n",
       " 2021,\n",
       " 2021,\n",
       " 2021,\n",
       " 2021,\n",
       " 2021,\n",
       " 2021,\n",
       " 2021,\n",
       " 2021,\n",
       " 2021,\n",
       " 2022,\n",
       " 2022,\n",
       " 2022,\n",
       " 2022,\n",
       " 2022,\n",
       " 2022,\n",
       " 2022,\n",
       " 2022,\n",
       " 2022,\n",
       " 2022,\n",
       " 2022,\n",
       " 2022,\n",
       " 2022,\n",
       " 2022]"
      ]
     },
     "execution_count": 76,
     "metadata": {},
     "output_type": "execute_result"
    }
   ],
   "source": [
    "[x[0] for x in data_to_display.index]"
   ]
  },
  {
   "cell_type": "code",
   "execution_count": 77,
   "id": "b62053d2",
   "metadata": {
    "collapsed": true
   },
   "outputs": [
    {
     "data": {
      "text/plain": [
       "['COMPACT',\n",
       " 'FULL-SIZE',\n",
       " 'MID-SIZE',\n",
       " 'MINICOMPACT',\n",
       " 'MINIVAN',\n",
       " 'PICKUP TRUCK - SMALL',\n",
       " 'PICKUP TRUCK - STANDARD',\n",
       " 'STATION WAGON - MID-SIZE',\n",
       " 'STATION WAGON - SMALL',\n",
       " 'SUBCOMPACT',\n",
       " 'SUV',\n",
       " 'TWO-SEATER',\n",
       " 'VAN - CARGO',\n",
       " 'VAN - PASSENGER',\n",
       " 'COMPACT',\n",
       " 'FULL-SIZE',\n",
       " 'MID-SIZE',\n",
       " 'MINICOMPACT',\n",
       " 'MINIVAN',\n",
       " 'PICKUP TRUCK - SMALL',\n",
       " 'PICKUP TRUCK - STANDARD',\n",
       " 'STATION WAGON - MID-SIZE',\n",
       " 'STATION WAGON - SMALL',\n",
       " 'SUBCOMPACT',\n",
       " 'SUV',\n",
       " 'TWO-SEATER',\n",
       " 'VAN - CARGO',\n",
       " 'VAN - PASSENGER',\n",
       " 'COMPACT',\n",
       " 'FULL-SIZE',\n",
       " 'MID-SIZE',\n",
       " 'MINICOMPACT',\n",
       " 'MINIVAN',\n",
       " 'PICKUP TRUCK - SMALL',\n",
       " 'PICKUP TRUCK - STANDARD',\n",
       " 'STATION WAGON - MID-SIZE',\n",
       " 'STATION WAGON - SMALL',\n",
       " 'SUBCOMPACT',\n",
       " 'SUV',\n",
       " 'TWO-SEATER',\n",
       " 'VAN - CARGO',\n",
       " 'VAN - PASSENGER',\n",
       " 'COMPACT',\n",
       " 'FULL-SIZE',\n",
       " 'MID-SIZE',\n",
       " 'MINICOMPACT',\n",
       " 'MINIVAN',\n",
       " 'PICKUP TRUCK - SMALL',\n",
       " 'PICKUP TRUCK - STANDARD',\n",
       " 'STATION WAGON - MID-SIZE',\n",
       " 'STATION WAGON - SMALL',\n",
       " 'SUBCOMPACT',\n",
       " 'SUV',\n",
       " 'TWO-SEATER',\n",
       " 'VAN - CARGO',\n",
       " 'VAN - PASSENGER',\n",
       " 'COMPACT',\n",
       " 'FULL-SIZE',\n",
       " 'MID-SIZE',\n",
       " 'MINICOMPACT',\n",
       " 'MINIVAN',\n",
       " 'PICKUP TRUCK - SMALL',\n",
       " 'PICKUP TRUCK - STANDARD',\n",
       " 'STATION WAGON - MID-SIZE',\n",
       " 'STATION WAGON - SMALL',\n",
       " 'SUBCOMPACT',\n",
       " 'SUV',\n",
       " 'TWO-SEATER',\n",
       " 'VAN - CARGO',\n",
       " 'VAN - PASSENGER',\n",
       " 'COMPACT',\n",
       " 'FULL-SIZE',\n",
       " 'MID-SIZE',\n",
       " 'MINICOMPACT',\n",
       " 'MINIVAN',\n",
       " 'PICKUP TRUCK - STANDARD',\n",
       " 'STATION WAGON - MID-SIZE',\n",
       " 'STATION WAGON - SMALL',\n",
       " 'SUBCOMPACT',\n",
       " 'SUV',\n",
       " 'TWO-SEATER',\n",
       " 'VAN - CARGO',\n",
       " 'VAN - PASSENGER',\n",
       " 'COMPACT',\n",
       " 'FULL-SIZE',\n",
       " 'MID-SIZE',\n",
       " 'MINICOMPACT',\n",
       " 'MINIVAN',\n",
       " 'PICKUP TRUCK - STANDARD',\n",
       " 'STATION WAGON - MID-SIZE',\n",
       " 'STATION WAGON - SMALL',\n",
       " 'SUBCOMPACT',\n",
       " 'SUV',\n",
       " 'TWO-SEATER',\n",
       " 'VAN - CARGO',\n",
       " 'VAN - PASSENGER',\n",
       " 'COMPACT',\n",
       " 'FULL-SIZE',\n",
       " 'MID-SIZE',\n",
       " 'MINICOMPACT',\n",
       " 'MINIVAN',\n",
       " 'PICKUP TRUCK - STANDARD',\n",
       " 'STATION WAGON - MID-SIZE',\n",
       " 'STATION WAGON - SMALL',\n",
       " 'SUBCOMPACT',\n",
       " 'SUV',\n",
       " 'SUV - STANDARD',\n",
       " 'TWO-SEATER',\n",
       " 'VAN - CARGO',\n",
       " 'VAN - PASSENGER',\n",
       " 'COMPACT',\n",
       " 'FULL-SIZE',\n",
       " 'MID-SIZE',\n",
       " 'MINICOMPACT',\n",
       " 'MINIVAN',\n",
       " 'PICKUP TRUCK - SMALL',\n",
       " 'PICKUP TRUCK - STANDARD',\n",
       " 'STATION WAGON - MID-SIZE',\n",
       " 'STATION WAGON - SMALL',\n",
       " 'SUBCOMPACT',\n",
       " 'SUV',\n",
       " 'TWO-SEATER',\n",
       " 'VAN - CARGO',\n",
       " 'VAN - PASSENGER',\n",
       " 'COMPACT',\n",
       " 'FULL-SIZE',\n",
       " 'MID-SIZE',\n",
       " 'MINICOMPACT',\n",
       " 'MINIVAN',\n",
       " 'PICKUP TRUCK - SMALL',\n",
       " 'PICKUP TRUCK - STANDARD',\n",
       " 'STATION WAGON - MID-SIZE',\n",
       " 'STATION WAGON - SMALL',\n",
       " 'SUBCOMPACT',\n",
       " 'SUV',\n",
       " 'TWO-SEATER',\n",
       " 'VAN - CARGO',\n",
       " 'VAN - PASSENGER',\n",
       " 'COMPACT',\n",
       " 'FULL-SIZE',\n",
       " 'MID-SIZE',\n",
       " 'MINICOMPACT',\n",
       " 'MINIVAN',\n",
       " 'PICKUP TRUCK - SMALL',\n",
       " 'PICKUP TRUCK - STANDARD',\n",
       " 'SPECIAL PURPOSE VEHICLE',\n",
       " 'STATION WAGON - MID-SIZE',\n",
       " 'STATION WAGON - SMALL',\n",
       " 'SUBCOMPACT',\n",
       " 'SUV',\n",
       " 'TWO-SEATER',\n",
       " 'VAN - CARGO',\n",
       " 'VAN - PASSENGER',\n",
       " 'COMPACT',\n",
       " 'FULL-SIZE',\n",
       " 'MID-SIZE',\n",
       " 'MINICOMPACT',\n",
       " 'MINIVAN',\n",
       " 'PICKUP TRUCK - SMALL',\n",
       " 'PICKUP TRUCK - STANDARD',\n",
       " 'SPECIAL PURPOSE VEHICLE',\n",
       " 'STATION WAGON - MID-SIZE',\n",
       " 'STATION WAGON - SMALL',\n",
       " 'SUBCOMPACT',\n",
       " 'SUV',\n",
       " 'TWO-SEATER',\n",
       " 'VAN - CARGO',\n",
       " 'VAN - PASSENGER',\n",
       " 'COMPACT',\n",
       " 'FULL-SIZE',\n",
       " 'MID-SIZE',\n",
       " 'MINICOMPACT',\n",
       " 'MINIVAN',\n",
       " 'PICKUP TRUCK - SMALL',\n",
       " 'PICKUP TRUCK - STANDARD',\n",
       " 'SPECIAL PURPOSE VEHICLE',\n",
       " 'STATION WAGON - MID-SIZE',\n",
       " 'STATION WAGON - SMALL',\n",
       " 'SUBCOMPACT',\n",
       " 'SUV',\n",
       " 'SUV - STANDARD',\n",
       " 'TWO-SEATER',\n",
       " 'VAN - CARGO',\n",
       " 'VAN - PASSENGER',\n",
       " 'COMPACT',\n",
       " 'FULL-SIZE',\n",
       " 'MID-SIZE',\n",
       " 'MINICOMPACT',\n",
       " 'MINIVAN',\n",
       " 'PICKUP TRUCK - SMALL',\n",
       " 'PICKUP TRUCK - STANDARD',\n",
       " 'SPECIAL PURPOSE VEHICLE',\n",
       " 'STATION WAGON - MID-SIZE',\n",
       " 'STATION WAGON - SMALL',\n",
       " 'SUBCOMPACT',\n",
       " 'SUV - SMALL',\n",
       " 'SUV - STANDARD',\n",
       " 'TWO-SEATER',\n",
       " 'VAN - CARGO',\n",
       " 'VAN - PASSENGER',\n",
       " 'COMPACT',\n",
       " 'FULL-SIZE',\n",
       " 'MID-SIZE',\n",
       " 'MINICOMPACT',\n",
       " 'MINIVAN',\n",
       " 'PICKUP TRUCK - SMALL',\n",
       " 'PICKUP TRUCK - STANDARD',\n",
       " 'SPECIAL PURPOSE VEHICLE',\n",
       " 'STATION WAGON - MID-SIZE',\n",
       " 'STATION WAGON - SMALL',\n",
       " 'SUBCOMPACT',\n",
       " 'SUV - SMALL',\n",
       " 'SUV - STANDARD',\n",
       " 'TWO-SEATER',\n",
       " 'VAN - CARGO',\n",
       " 'VAN - PASSENGER',\n",
       " 'COMPACT',\n",
       " 'FULL-SIZE',\n",
       " 'MID-SIZE',\n",
       " 'MINICOMPACT',\n",
       " 'MINIVAN',\n",
       " 'PICKUP TRUCK - SMALL',\n",
       " 'PICKUP TRUCK - STANDARD',\n",
       " 'SPECIAL PURPOSE VEHICLE',\n",
       " 'STATION WAGON - MID-SIZE',\n",
       " 'STATION WAGON - SMALL',\n",
       " 'SUBCOMPACT',\n",
       " 'SUV - SMALL',\n",
       " 'SUV - STANDARD',\n",
       " 'TWO-SEATER',\n",
       " 'VAN - PASSENGER',\n",
       " 'COMPACT',\n",
       " 'FULL-SIZE',\n",
       " 'MID-SIZE',\n",
       " 'MINICOMPACT',\n",
       " 'MINIVAN',\n",
       " 'PICKUP TRUCK - SMALL',\n",
       " 'PICKUP TRUCK - STANDARD',\n",
       " 'SPECIAL PURPOSE VEHICLE',\n",
       " 'STATION WAGON - MID-SIZE',\n",
       " 'STATION WAGON - SMALL',\n",
       " 'SUBCOMPACT',\n",
       " 'SUV - SMALL',\n",
       " 'SUV - STANDARD',\n",
       " 'TWO-SEATER',\n",
       " 'VAN - PASSENGER',\n",
       " 'COMPACT',\n",
       " 'FULL-SIZE',\n",
       " 'MID-SIZE',\n",
       " 'MINICOMPACT',\n",
       " 'MINIVAN',\n",
       " 'PICKUP TRUCK - SMALL',\n",
       " 'PICKUP TRUCK - STANDARD',\n",
       " 'SPECIAL PURPOSE VEHICLE',\n",
       " 'STATION WAGON - MID-SIZE',\n",
       " 'STATION WAGON - SMALL',\n",
       " 'SUBCOMPACT',\n",
       " 'SUV - SMALL',\n",
       " 'SUV - STANDARD',\n",
       " 'TWO-SEATER',\n",
       " 'VAN - PASSENGER',\n",
       " 'COMPACT',\n",
       " 'FULL-SIZE',\n",
       " 'MID-SIZE',\n",
       " 'MINICOMPACT',\n",
       " 'MINIVAN',\n",
       " 'PICKUP TRUCK - SMALL',\n",
       " 'PICKUP TRUCK - STANDARD',\n",
       " 'SPECIAL PURPOSE VEHICLE',\n",
       " 'STATION WAGON - MID-SIZE',\n",
       " 'STATION WAGON - SMALL',\n",
       " 'SUBCOMPACT',\n",
       " 'SUV - SMALL',\n",
       " 'SUV - STANDARD',\n",
       " 'TWO-SEATER',\n",
       " 'VAN - PASSENGER',\n",
       " 'COMPACT',\n",
       " 'FULL-SIZE',\n",
       " 'MID-SIZE',\n",
       " 'MINICOMPACT',\n",
       " 'MINIVAN',\n",
       " 'PICKUP TRUCK - SMALL',\n",
       " 'PICKUP TRUCK - STANDARD',\n",
       " 'SPECIAL PURPOSE VEHICLE',\n",
       " 'STATION WAGON - MID-SIZE',\n",
       " 'STATION WAGON - SMALL',\n",
       " 'SUBCOMPACT',\n",
       " 'SUV - SMALL',\n",
       " 'SUV - STANDARD',\n",
       " 'TWO-SEATER',\n",
       " 'VAN - PASSENGER',\n",
       " 'COMPACT',\n",
       " 'FULL-SIZE',\n",
       " 'MID-SIZE',\n",
       " 'MINICOMPACT',\n",
       " 'MINIVAN',\n",
       " 'PICKUP TRUCK - SMALL',\n",
       " 'PICKUP TRUCK - STANDARD',\n",
       " 'SPECIAL PURPOSE VEHICLE',\n",
       " 'STATION WAGON - MID-SIZE',\n",
       " 'STATION WAGON - SMALL',\n",
       " 'SUBCOMPACT',\n",
       " 'SUV - SMALL',\n",
       " 'SUV - STANDARD',\n",
       " 'TWO-SEATER',\n",
       " 'VAN - PASSENGER',\n",
       " 'COMPACT',\n",
       " 'FULL-SIZE',\n",
       " 'MID-SIZE',\n",
       " 'MINICOMPACT',\n",
       " 'MINIVAN',\n",
       " 'PICKUP TRUCK - SMALL',\n",
       " 'PICKUP TRUCK - STANDARD',\n",
       " 'SPECIAL PURPOSE VEHICLE',\n",
       " 'STATION WAGON - MID-SIZE',\n",
       " 'STATION WAGON - SMALL',\n",
       " 'SUBCOMPACT',\n",
       " 'SUV - SMALL',\n",
       " 'SUV - STANDARD',\n",
       " 'TWO-SEATER',\n",
       " 'VAN - PASSENGER',\n",
       " 'COMPACT',\n",
       " 'FULL-SIZE',\n",
       " 'MID-SIZE',\n",
       " 'MINICOMPACT',\n",
       " 'MINIVAN',\n",
       " 'PICKUP TRUCK - SMALL',\n",
       " 'PICKUP TRUCK - STANDARD',\n",
       " 'SPECIAL PURPOSE VEHICLE',\n",
       " 'STATION WAGON - MID-SIZE',\n",
       " 'STATION WAGON - SMALL',\n",
       " 'SUBCOMPACT',\n",
       " 'SUV - SMALL',\n",
       " 'SUV - STANDARD',\n",
       " 'TWO-SEATER']"
      ]
     },
     "execution_count": 77,
     "metadata": {},
     "output_type": "execute_result"
    }
   ],
   "source": [
    "[x[1] for x in data_to_display.index]"
   ]
  },
  {
   "cell_type": "code",
   "execution_count": 78,
   "id": "a9f53a62",
   "metadata": {
    "collapsed": true
   },
   "outputs": [
    {
     "data": {
      "text/plain": [
       "[31.504761904761907,\n",
       " 26.428571428571427,\n",
       " 27.441558441558442,\n",
       " 25.636363636363637,\n",
       " 23.96153846153846,\n",
       " 26.272727272727273,\n",
       " 20.945652173913043,\n",
       " 28.44,\n",
       " 31.692307692307693,\n",
       " 31.48076923076923,\n",
       " 22.84536082474227,\n",
       " 23.4,\n",
       " 19.82608695652174,\n",
       " 18.647058823529413,\n",
       " 31.93793103448276,\n",
       " 26.033333333333335,\n",
       " 27.353658536585368,\n",
       " 25.235294117647058,\n",
       " 24.88235294117647,\n",
       " 23.5,\n",
       " 20.792079207920793,\n",
       " 28.870967741935484,\n",
       " 31.916666666666668,\n",
       " 31.258064516129032,\n",
       " 23.081632653061224,\n",
       " 27.548387096774192,\n",
       " 19.26086956521739,\n",
       " 19.055555555555557,\n",
       " 31.969924812030076,\n",
       " 25.689655172413794,\n",
       " 27.444444444444443,\n",
       " 25.363636363636363,\n",
       " 24.545454545454547,\n",
       " 23.166666666666668,\n",
       " 20.177570093457945,\n",
       " 29.15625,\n",
       " 29.27777777777778,\n",
       " 29.15068493150685,\n",
       " 22.572580645161292,\n",
       " 25.972972972972972,\n",
       " 19.434782608695652,\n",
       " 18.77777777777778,\n",
       " 32.37062937062937,\n",
       " 26.28,\n",
       " 27.48314606741573,\n",
       " 27.575757575757574,\n",
       " 24.392857142857142,\n",
       " 24.75,\n",
       " 21.00943396226415,\n",
       " 29.0,\n",
       " 31.644444444444446,\n",
       " 27.984615384615385,\n",
       " 22.5125,\n",
       " 25.475,\n",
       " 18.666666666666668,\n",
       " 18.615384615384617,\n",
       " 31.603896103896105,\n",
       " 24.735294117647058,\n",
       " 27.92233009708738,\n",
       " 29.2,\n",
       " 25.571428571428573,\n",
       " 20.0,\n",
       " 20.66393442622951,\n",
       " 28.414634146341463,\n",
       " 31.27906976744186,\n",
       " 28.96511627906977,\n",
       " 21.957894736842107,\n",
       " 25.065217391304348,\n",
       " 18.80952380952381,\n",
       " 19.181818181818183,\n",
       " 31.698630136986303,\n",
       " 24.155555555555555,\n",
       " 28.140350877192983,\n",
       " 26.256756756756758,\n",
       " 24.727272727272727,\n",
       " 21.393700787401574,\n",
       " 28.210526315789473,\n",
       " 30.814814814814813,\n",
       " 29.82758620689655,\n",
       " 23.0,\n",
       " 26.03846153846154,\n",
       " 20.384615384615383,\n",
       " 19.666666666666668,\n",
       " 31.233576642335766,\n",
       " 24.625,\n",
       " 28.18918918918919,\n",
       " 28.43243243243243,\n",
       " 24.714285714285715,\n",
       " 21.907801418439718,\n",
       " 28.035714285714285,\n",
       " 31.735849056603772,\n",
       " 29.743589743589745,\n",
       " 23.755656108597286,\n",
       " 26.93877551020408,\n",
       " 20.214285714285715,\n",
       " 19.75,\n",
       " 30.25,\n",
       " 24.462962962962962,\n",
       " 29.115107913669064,\n",
       " 27.5531914893617,\n",
       " 24.08823529411765,\n",
       " 21.623376623376622,\n",
       " 28.625,\n",
       " 31.59090909090909,\n",
       " 29.50602409638554,\n",
       " 24.748953974895397,\n",
       " 20.0,\n",
       " 25.049180327868854,\n",
       " 18.666666666666668,\n",
       " 17.5,\n",
       " 30.2027027027027,\n",
       " 24.50793650793651,\n",
       " 28.970149253731343,\n",
       " 27.897959183673468,\n",
       " 25.0,\n",
       " 24.76923076923077,\n",
       " 20.09722222222222,\n",
       " 28.5,\n",
       " 31.58139534883721,\n",
       " 29.86,\n",
       " 24.95505617977528,\n",
       " 25.575342465753426,\n",
       " 18.53846153846154,\n",
       " 17.666666666666668,\n",
       " 30.326666666666668,\n",
       " 24.676470588235293,\n",
       " 29.024,\n",
       " 31.023255813953487,\n",
       " 26.0,\n",
       " 25.338983050847457,\n",
       " 20.54736842105263,\n",
       " 28.53846153846154,\n",
       " 32.351851851851855,\n",
       " 29.98989898989899,\n",
       " 25.100746268656717,\n",
       " 24.109375,\n",
       " 18.53846153846154,\n",
       " 17.666666666666668,\n",
       " 32.17142857142857,\n",
       " 24.441558441558442,\n",
       " 29.95,\n",
       " 30.4390243902439,\n",
       " 26.142857142857142,\n",
       " 25.48148148148148,\n",
       " 20.054794520547944,\n",
       " 32.0,\n",
       " 28.88888888888889,\n",
       " 33.56666666666667,\n",
       " 30.510204081632654,\n",
       " 26.417670682730925,\n",
       " 25.16949152542373,\n",
       " 17.666666666666668,\n",
       " 16.75,\n",
       " 33.653225806451616,\n",
       " 25.08450704225352,\n",
       " 31.96969696969697,\n",
       " 30.169811320754718,\n",
       " 25.5,\n",
       " 25.529411764705884,\n",
       " 20.270588235294117,\n",
       " 31.0,\n",
       " 28.5,\n",
       " 33.55357142857143,\n",
       " 31.01923076923077,\n",
       " 26.600746268656717,\n",
       " 26.65625,\n",
       " 17.454545454545453,\n",
       " 15.62962962962963,\n",
       " 35.06015037593985,\n",
       " 26.098765432098766,\n",
       " 32.86259541984733,\n",
       " 30.56578947368421,\n",
       " 27.375,\n",
       " 25.767441860465116,\n",
       " 20.468354430379748,\n",
       " 32.5,\n",
       " 35.0,\n",
       " 34.57446808510638,\n",
       " 30.735294117647058,\n",
       " 26.57872340425532,\n",
       " 25.5,\n",
       " 29.289473684210527,\n",
       " 17.40909090909091,\n",
       " 15.612903225806452,\n",
       " 35.214285714285715,\n",
       " 26.894736842105264,\n",
       " 35.44444444444444,\n",
       " 34.41509433962264,\n",
       " 27.2,\n",
       " 26.583333333333332,\n",
       " 20.726190476190474,\n",
       " 31.6,\n",
       " 39.0,\n",
       " 34.79545454545455,\n",
       " 30.63157894736842,\n",
       " 30.892086330935253,\n",
       " 22.396039603960396,\n",
       " 31.75862068965517,\n",
       " 17.40909090909091,\n",
       " 15.633333333333333,\n",
       " 36.19047619047619,\n",
       " 27.607142857142858,\n",
       " 35.752941176470586,\n",
       " 33.744680851063826,\n",
       " 26.928571428571427,\n",
       " 26.5,\n",
       " 22.112903225806452,\n",
       " 31.857142857142858,\n",
       " 35.5,\n",
       " 35.470588235294116,\n",
       " 31.903225806451612,\n",
       " 31.316129032258065,\n",
       " 22.813725490196077,\n",
       " 31.271428571428572,\n",
       " 17.318181818181817,\n",
       " 16.0,\n",
       " 31.333333333333332,\n",
       " 24.0,\n",
       " 31.044444444444444,\n",
       " 28.593220338983052,\n",
       " 23.8,\n",
       " 23.954545454545453,\n",
       " 20.48076923076923,\n",
       " 28.22222222222222,\n",
       " 30.625,\n",
       " 33.48571428571429,\n",
       " 28.66304347826087,\n",
       " 27.70949720670391,\n",
       " 21.08080808080808,\n",
       " 26.404761904761905,\n",
       " 14.736842105263158,\n",
       " 31.414364640883978,\n",
       " 24.27777777777778,\n",
       " 31.335106382978722,\n",
       " 28.557692307692307,\n",
       " 23.916666666666668,\n",
       " 24.884615384615383,\n",
       " 20.5,\n",
       " 25.647058823529413,\n",
       " 30.857142857142858,\n",
       " 33.270270270270274,\n",
       " 28.513157894736842,\n",
       " 28.227777777777778,\n",
       " 21.850467289719628,\n",
       " 25.441176470588236,\n",
       " 15.571428571428571,\n",
       " 31.60377358490566,\n",
       " 26.402439024390244,\n",
       " 31.166666666666668,\n",
       " 29.84090909090909,\n",
       " 25.0,\n",
       " 24.392857142857142,\n",
       " 20.56,\n",
       " 25.8,\n",
       " 32.125,\n",
       " 35.06666666666667,\n",
       " 27.580645161290324,\n",
       " 27.775862068965516,\n",
       " 21.598039215686274,\n",
       " 24.75438596491228,\n",
       " 16.0,\n",
       " 32.23770491803279,\n",
       " 27.192660550458715,\n",
       " 31.664556962025316,\n",
       " 28.245283018867923,\n",
       " 24.454545454545453,\n",
       " 24.296296296296298,\n",
       " 21.329896907216494,\n",
       " 25.4,\n",
       " 30.2,\n",
       " 35.17948717948718,\n",
       " 27.78125,\n",
       " 28.372881355932204,\n",
       " 21.601941747572816,\n",
       " 24.333333333333332,\n",
       " 19.0,\n",
       " 32.43396226415094,\n",
       " 26.603960396039604,\n",
       " 32.66206896551724,\n",
       " 28.0,\n",
       " 24.666666666666668,\n",
       " 24.16,\n",
       " 21.32323232323232,\n",
       " 27.071428571428573,\n",
       " 26.11111111111111,\n",
       " 34.891891891891895,\n",
       " 27.948979591836736,\n",
       " 28.913793103448278,\n",
       " 21.756756756756758,\n",
       " 24.37142857142857,\n",
       " 19.0,\n",
       " 32.28703703703704,\n",
       " 28.102564102564102,\n",
       " 31.365079365079364,\n",
       " 26.652173913043477,\n",
       " 25.5,\n",
       " 24.526315789473685,\n",
       " 22.13186813186813,\n",
       " 27.615384615384617,\n",
       " 24.0,\n",
       " 36.2,\n",
       " 26.821052631578947,\n",
       " 28.824468085106382,\n",
       " 22.084745762711865,\n",
       " 24.421875,\n",
       " 16.75,\n",
       " 32.92941176470588,\n",
       " 29.0,\n",
       " 31.42105263157895,\n",
       " 24.9,\n",
       " 30.714285714285715,\n",
       " 24.58823529411765,\n",
       " 21.8,\n",
       " 27.076923076923077,\n",
       " 24.0,\n",
       " 36.4,\n",
       " 27.373493975903614,\n",
       " 29.435233160621763,\n",
       " 22.58267716535433,\n",
       " 23.0,\n",
       " 16.75,\n",
       " 33.22857142857143,\n",
       " 28.890625,\n",
       " 31.034188034188034,\n",
       " 24.224489795918366,\n",
       " 31.0,\n",
       " 26.0,\n",
       " 21.460176991150444,\n",
       " 26.75,\n",
       " 24.25,\n",
       " 36.26315789473684,\n",
       " 27.620253164556964,\n",
       " 29.781725888324875,\n",
       " 22.463087248322147,\n",
       " 23.15686274509804]"
      ]
     },
     "execution_count": 78,
     "metadata": {},
     "output_type": "execute_result"
    }
   ],
   "source": [
    "data_to_display['COMB (mpg)']['mean'].values.tolist()"
   ]
  },
  {
   "cell_type": "code",
   "execution_count": 13,
   "id": "dc4d9f25",
   "metadata": {
    "scrolled": false
   },
   "outputs": [
    {
     "data": {
      "application/vnd.plotly.v1+json": {
       "config": {
        "plotlyServerURL": "https://plot.ly"
       },
       "data": [
        {
         "hovertemplate": "color=COMPACT<br>symbol=COMPACT<br>x=%{x}<br>y=%{y}<extra></extra>",
         "legendgroup": "COMPACT, COMPACT",
         "line": {
          "color": "#636efa",
          "dash": "solid"
         },
         "marker": {
          "symbol": "circle"
         },
         "mode": "markers+lines",
         "name": "COMPACT, COMPACT",
         "orientation": "v",
         "showlegend": true,
         "type": "scatter",
         "x": [
          2000,
          2001,
          2002,
          2003,
          2004,
          2005,
          2006,
          2007,
          2008,
          2009,
          2010,
          2011,
          2012,
          2013,
          2014,
          2015,
          2016,
          2017,
          2018,
          2019,
          2020,
          2021,
          2022
         ],
         "xaxis": "x",
         "y": [
          31.504761904761907,
          31.93793103448276,
          31.969924812030076,
          32.37062937062937,
          31.603896103896105,
          31.698630136986303,
          31.233576642335766,
          30.25,
          30.2027027027027,
          30.326666666666668,
          32.17142857142857,
          33.653225806451616,
          35.06015037593985,
          35.214285714285715,
          36.19047619047619,
          31.333333333333332,
          31.414364640883978,
          31.60377358490566,
          32.23770491803279,
          32.43396226415094,
          32.28703703703704,
          32.92941176470588,
          33.22857142857143
         ],
         "yaxis": "y"
        },
        {
         "hovertemplate": "color=FULL-SIZE<br>symbol=FULL-SIZE<br>x=%{x}<br>y=%{y}<extra></extra>",
         "legendgroup": "FULL-SIZE, FULL-SIZE",
         "line": {
          "color": "#EF553B",
          "dash": "solid"
         },
         "marker": {
          "symbol": "diamond"
         },
         "mode": "markers+lines",
         "name": "FULL-SIZE, FULL-SIZE",
         "orientation": "v",
         "showlegend": true,
         "type": "scatter",
         "x": [
          2000,
          2001,
          2002,
          2003,
          2004,
          2005,
          2006,
          2007,
          2008,
          2009,
          2010,
          2011,
          2012,
          2013,
          2014,
          2015,
          2016,
          2017,
          2018,
          2019,
          2020,
          2021,
          2022
         ],
         "xaxis": "x",
         "y": [
          26.428571428571427,
          26.033333333333335,
          25.689655172413794,
          26.28,
          24.735294117647058,
          24.155555555555555,
          24.625,
          24.462962962962962,
          24.50793650793651,
          24.676470588235293,
          24.441558441558442,
          25.08450704225352,
          26.098765432098766,
          26.894736842105264,
          27.607142857142858,
          24,
          24.27777777777778,
          26.402439024390244,
          27.192660550458715,
          26.603960396039604,
          28.102564102564102,
          29,
          28.890625
         ],
         "yaxis": "y"
        },
        {
         "hovertemplate": "color=MID-SIZE<br>symbol=MID-SIZE<br>x=%{x}<br>y=%{y}<extra></extra>",
         "legendgroup": "MID-SIZE, MID-SIZE",
         "line": {
          "color": "#00cc96",
          "dash": "solid"
         },
         "marker": {
          "symbol": "square"
         },
         "mode": "markers+lines",
         "name": "MID-SIZE, MID-SIZE",
         "orientation": "v",
         "showlegend": true,
         "type": "scatter",
         "x": [
          2000,
          2001,
          2002,
          2003,
          2004,
          2005,
          2006,
          2007,
          2008,
          2009,
          2010,
          2011,
          2012,
          2013,
          2014,
          2015,
          2016,
          2017,
          2018,
          2019,
          2020,
          2021,
          2022
         ],
         "xaxis": "x",
         "y": [
          27.441558441558442,
          27.353658536585368,
          27.444444444444443,
          27.48314606741573,
          27.92233009708738,
          28.140350877192983,
          28.18918918918919,
          29.115107913669064,
          28.970149253731343,
          29.024,
          29.95,
          31.96969696969697,
          32.86259541984733,
          35.44444444444444,
          35.752941176470586,
          31.044444444444444,
          31.335106382978722,
          31.166666666666668,
          31.664556962025316,
          32.66206896551724,
          31.365079365079364,
          31.42105263157895,
          31.034188034188034
         ],
         "yaxis": "y"
        },
        {
         "hovertemplate": "color=MINICOMPACT<br>symbol=MINICOMPACT<br>x=%{x}<br>y=%{y}<extra></extra>",
         "legendgroup": "MINICOMPACT, MINICOMPACT",
         "line": {
          "color": "#ab63fa",
          "dash": "solid"
         },
         "marker": {
          "symbol": "x"
         },
         "mode": "markers+lines",
         "name": "MINICOMPACT, MINICOMPACT",
         "orientation": "v",
         "showlegend": true,
         "type": "scatter",
         "x": [
          2000,
          2001,
          2002,
          2003,
          2004,
          2005,
          2006,
          2007,
          2008,
          2009,
          2010,
          2011,
          2012,
          2013,
          2014,
          2015,
          2016,
          2017,
          2018,
          2019,
          2020,
          2021,
          2022
         ],
         "xaxis": "x",
         "y": [
          25.636363636363637,
          25.235294117647058,
          25.363636363636363,
          27.575757575757574,
          29.2,
          26.256756756756758,
          28.43243243243243,
          27.5531914893617,
          27.897959183673468,
          31.023255813953487,
          30.4390243902439,
          30.169811320754718,
          30.56578947368421,
          34.41509433962264,
          33.744680851063826,
          28.593220338983052,
          28.557692307692307,
          29.84090909090909,
          28.245283018867923,
          28,
          26.652173913043477,
          24.9,
          24.224489795918366
         ],
         "yaxis": "y"
        },
        {
         "hovertemplate": "color=MINIVAN<br>symbol=MINIVAN<br>x=%{x}<br>y=%{y}<extra></extra>",
         "legendgroup": "MINIVAN, MINIVAN",
         "line": {
          "color": "#FFA15A",
          "dash": "solid"
         },
         "marker": {
          "symbol": "cross"
         },
         "mode": "markers+lines",
         "name": "MINIVAN, MINIVAN",
         "orientation": "v",
         "showlegend": true,
         "type": "scatter",
         "x": [
          2000,
          2001,
          2002,
          2003,
          2004,
          2005,
          2006,
          2007,
          2008,
          2009,
          2010,
          2011,
          2012,
          2013,
          2014,
          2015,
          2016,
          2017,
          2018,
          2019,
          2020,
          2021,
          2022
         ],
         "xaxis": "x",
         "y": [
          23.96153846153846,
          24.88235294117647,
          24.545454545454547,
          24.392857142857142,
          25.571428571428573,
          24.727272727272727,
          24.714285714285715,
          24.08823529411765,
          25,
          26,
          26.142857142857142,
          25.5,
          27.375,
          27.2,
          26.928571428571427,
          23.8,
          23.916666666666668,
          25,
          24.454545454545453,
          24.666666666666668,
          25.5,
          30.714285714285715,
          31
         ],
         "yaxis": "y"
        },
        {
         "hovertemplate": "color=PICKUP TRUCK - SMALL<br>symbol=PICKUP TRUCK - SMALL<br>x=%{x}<br>y=%{y}<extra></extra>",
         "legendgroup": "PICKUP TRUCK - SMALL, PICKUP TRUCK - SMALL",
         "line": {
          "color": "#19d3f3",
          "dash": "solid"
         },
         "marker": {
          "symbol": "circle"
         },
         "mode": "markers+lines",
         "name": "PICKUP TRUCK - SMALL, PICKUP TRUCK - SMALL",
         "orientation": "v",
         "showlegend": true,
         "type": "scatter",
         "x": [
          2000,
          2001,
          2002,
          2003,
          2004,
          2008,
          2009,
          2010,
          2011,
          2012,
          2013,
          2014,
          2015,
          2016,
          2017,
          2018,
          2019,
          2020,
          2021,
          2022
         ],
         "xaxis": "x",
         "y": [
          26.272727272727273,
          23.5,
          23.166666666666668,
          24.75,
          20,
          24.76923076923077,
          25.338983050847457,
          25.48148148148148,
          25.529411764705884,
          25.767441860465116,
          26.583333333333332,
          26.5,
          23.954545454545453,
          24.884615384615383,
          24.392857142857142,
          24.296296296296298,
          24.16,
          24.526315789473685,
          24.58823529411765,
          26
         ],
         "yaxis": "y"
        },
        {
         "hovertemplate": "color=PICKUP TRUCK - STANDARD<br>symbol=PICKUP TRUCK - STANDARD<br>x=%{x}<br>y=%{y}<extra></extra>",
         "legendgroup": "PICKUP TRUCK - STANDARD, PICKUP TRUCK - STANDARD",
         "line": {
          "color": "#FF6692",
          "dash": "solid"
         },
         "marker": {
          "symbol": "diamond"
         },
         "mode": "markers+lines",
         "name": "PICKUP TRUCK - STANDARD, PICKUP TRUCK - STANDARD",
         "orientation": "v",
         "showlegend": true,
         "type": "scatter",
         "x": [
          2000,
          2001,
          2002,
          2003,
          2004,
          2005,
          2006,
          2007,
          2008,
          2009,
          2010,
          2011,
          2012,
          2013,
          2014,
          2015,
          2016,
          2017,
          2018,
          2019,
          2020,
          2021,
          2022
         ],
         "xaxis": "x",
         "y": [
          20.945652173913043,
          20.792079207920793,
          20.177570093457945,
          21.00943396226415,
          20.66393442622951,
          21.393700787401574,
          21.907801418439718,
          21.623376623376622,
          20.09722222222222,
          20.54736842105263,
          20.054794520547944,
          20.270588235294117,
          20.468354430379748,
          20.726190476190474,
          22.112903225806452,
          20.48076923076923,
          20.5,
          20.56,
          21.329896907216494,
          21.32323232323232,
          22.13186813186813,
          21.8,
          21.460176991150444
         ],
         "yaxis": "y"
        },
        {
         "hovertemplate": "color=STATION WAGON - MID-SIZE<br>symbol=STATION WAGON - MID-SIZE<br>x=%{x}<br>y=%{y}<extra></extra>",
         "legendgroup": "STATION WAGON - MID-SIZE, STATION WAGON - MID-SIZE",
         "line": {
          "color": "#B6E880",
          "dash": "solid"
         },
         "marker": {
          "symbol": "square"
         },
         "mode": "markers+lines",
         "name": "STATION WAGON - MID-SIZE, STATION WAGON - MID-SIZE",
         "orientation": "v",
         "showlegend": true,
         "type": "scatter",
         "x": [
          2000,
          2001,
          2002,
          2003,
          2004,
          2005,
          2006,
          2007,
          2008,
          2009,
          2010,
          2011,
          2012,
          2013,
          2014,
          2015,
          2016,
          2017,
          2018,
          2019,
          2020,
          2021,
          2022
         ],
         "xaxis": "x",
         "y": [
          28.44,
          28.870967741935484,
          29.15625,
          29,
          28.414634146341463,
          28.210526315789473,
          28.035714285714285,
          28.625,
          28.5,
          28.53846153846154,
          28.88888888888889,
          28.5,
          35,
          39,
          35.5,
          30.625,
          30.857142857142858,
          32.125,
          30.2,
          26.11111111111111,
          24,
          24,
          24.25
         ],
         "yaxis": "y"
        },
        {
         "hovertemplate": "color=STATION WAGON - SMALL<br>symbol=STATION WAGON - SMALL<br>x=%{x}<br>y=%{y}<extra></extra>",
         "legendgroup": "STATION WAGON - SMALL, STATION WAGON - SMALL",
         "line": {
          "color": "#FF97FF",
          "dash": "solid"
         },
         "marker": {
          "symbol": "x"
         },
         "mode": "markers+lines",
         "name": "STATION WAGON - SMALL, STATION WAGON - SMALL",
         "orientation": "v",
         "showlegend": true,
         "type": "scatter",
         "x": [
          2000,
          2001,
          2002,
          2003,
          2004,
          2005,
          2006,
          2007,
          2008,
          2009,
          2010,
          2011,
          2012,
          2013,
          2014,
          2015,
          2016,
          2017,
          2018,
          2019,
          2020,
          2021,
          2022
         ],
         "xaxis": "x",
         "y": [
          31.692307692307693,
          31.916666666666668,
          29.27777777777778,
          31.644444444444446,
          31.27906976744186,
          30.814814814814813,
          31.735849056603772,
          31.59090909090909,
          31.58139534883721,
          32.351851851851855,
          33.56666666666667,
          33.55357142857143,
          34.57446808510638,
          34.79545454545455,
          35.470588235294116,
          33.48571428571429,
          33.270270270270274,
          35.06666666666667,
          35.17948717948718,
          34.891891891891895,
          36.2,
          36.4,
          36.26315789473684
         ],
         "yaxis": "y"
        },
        {
         "hovertemplate": "color=SUBCOMPACT<br>symbol=SUBCOMPACT<br>x=%{x}<br>y=%{y}<extra></extra>",
         "legendgroup": "SUBCOMPACT, SUBCOMPACT",
         "line": {
          "color": "#FECB52",
          "dash": "solid"
         },
         "marker": {
          "symbol": "cross"
         },
         "mode": "markers+lines",
         "name": "SUBCOMPACT, SUBCOMPACT",
         "orientation": "v",
         "showlegend": true,
         "type": "scatter",
         "x": [
          2000,
          2001,
          2002,
          2003,
          2004,
          2005,
          2006,
          2007,
          2008,
          2009,
          2010,
          2011,
          2012,
          2013,
          2014,
          2015,
          2016,
          2017,
          2018,
          2019,
          2020,
          2021,
          2022
         ],
         "xaxis": "x",
         "y": [
          31.48076923076923,
          31.258064516129032,
          29.15068493150685,
          27.984615384615385,
          28.96511627906977,
          29.82758620689655,
          29.743589743589745,
          29.50602409638554,
          29.86,
          29.98989898989899,
          30.510204081632654,
          31.01923076923077,
          30.735294117647058,
          30.63157894736842,
          31.903225806451612,
          28.66304347826087,
          28.513157894736842,
          27.580645161290324,
          27.78125,
          27.948979591836736,
          26.821052631578947,
          27.373493975903614,
          27.620253164556964
         ],
         "yaxis": "y"
        },
        {
         "hovertemplate": "color=SUV<br>symbol=SUV<br>x=%{x}<br>y=%{y}<extra></extra>",
         "legendgroup": "SUV, SUV",
         "line": {
          "color": "#636efa",
          "dash": "solid"
         },
         "marker": {
          "symbol": "circle"
         },
         "mode": "markers+lines",
         "name": "SUV, SUV",
         "orientation": "v",
         "showlegend": true,
         "type": "scatter",
         "x": [
          2000,
          2001,
          2002,
          2003,
          2004,
          2005,
          2006,
          2007,
          2008,
          2009,
          2010,
          2011,
          2012
         ],
         "xaxis": "x",
         "y": [
          22.84536082474227,
          23.081632653061224,
          22.572580645161292,
          22.5125,
          21.957894736842107,
          23,
          23.755656108597286,
          24.748953974895397,
          24.95505617977528,
          25.100746268656717,
          26.417670682730925,
          26.600746268656717,
          26.57872340425532
         ],
         "yaxis": "y"
        },
        {
         "hovertemplate": "color=TWO-SEATER<br>symbol=TWO-SEATER<br>x=%{x}<br>y=%{y}<extra></extra>",
         "legendgroup": "TWO-SEATER, TWO-SEATER",
         "line": {
          "color": "#EF553B",
          "dash": "solid"
         },
         "marker": {
          "symbol": "diamond"
         },
         "mode": "markers+lines",
         "name": "TWO-SEATER, TWO-SEATER",
         "orientation": "v",
         "showlegend": true,
         "type": "scatter",
         "x": [
          2000,
          2001,
          2002,
          2003,
          2004,
          2005,
          2006,
          2007,
          2008,
          2009,
          2010,
          2011,
          2012,
          2013,
          2014,
          2015,
          2016,
          2017,
          2018,
          2019,
          2020,
          2021,
          2022
         ],
         "xaxis": "x",
         "y": [
          23.4,
          27.548387096774192,
          25.972972972972972,
          25.475,
          25.065217391304348,
          26.03846153846154,
          26.93877551020408,
          25.049180327868854,
          25.575342465753426,
          24.109375,
          25.16949152542373,
          26.65625,
          29.289473684210527,
          31.75862068965517,
          31.271428571428572,
          26.404761904761905,
          25.441176470588236,
          24.75438596491228,
          24.333333333333332,
          24.37142857142857,
          24.421875,
          23,
          23.15686274509804
         ],
         "yaxis": "y"
        },
        {
         "hovertemplate": "color=VAN - CARGO<br>symbol=VAN - CARGO<br>x=%{x}<br>y=%{y}<extra></extra>",
         "legendgroup": "VAN - CARGO, VAN - CARGO",
         "line": {
          "color": "#00cc96",
          "dash": "solid"
         },
         "marker": {
          "symbol": "square"
         },
         "mode": "markers+lines",
         "name": "VAN - CARGO, VAN - CARGO",
         "orientation": "v",
         "showlegend": true,
         "type": "scatter",
         "x": [
          2000,
          2001,
          2002,
          2003,
          2004,
          2005,
          2006,
          2007,
          2008,
          2009,
          2010,
          2011,
          2012,
          2013,
          2014
         ],
         "xaxis": "x",
         "y": [
          19.82608695652174,
          19.26086956521739,
          19.434782608695652,
          18.666666666666668,
          18.80952380952381,
          20.384615384615383,
          20.214285714285715,
          18.666666666666668,
          18.53846153846154,
          18.53846153846154,
          17.666666666666668,
          17.454545454545453,
          17.40909090909091,
          17.40909090909091,
          17.318181818181817
         ],
         "yaxis": "y"
        },
        {
         "hovertemplate": "color=VAN - PASSENGER<br>symbol=VAN - PASSENGER<br>x=%{x}<br>y=%{y}<extra></extra>",
         "legendgroup": "VAN - PASSENGER, VAN - PASSENGER",
         "line": {
          "color": "#ab63fa",
          "dash": "solid"
         },
         "marker": {
          "symbol": "x"
         },
         "mode": "markers+lines",
         "name": "VAN - PASSENGER, VAN - PASSENGER",
         "orientation": "v",
         "showlegend": true,
         "type": "scatter",
         "x": [
          2000,
          2001,
          2002,
          2003,
          2004,
          2005,
          2006,
          2007,
          2008,
          2009,
          2010,
          2011,
          2012,
          2013,
          2014,
          2015,
          2016,
          2017,
          2018,
          2019,
          2020,
          2021
         ],
         "xaxis": "x",
         "y": [
          18.647058823529413,
          19.055555555555557,
          18.77777777777778,
          18.615384615384617,
          19.181818181818183,
          19.666666666666668,
          19.75,
          17.5,
          17.666666666666668,
          17.666666666666668,
          16.75,
          15.62962962962963,
          15.612903225806452,
          15.633333333333333,
          16,
          14.736842105263158,
          15.571428571428571,
          16,
          19,
          19,
          16.75,
          16.75
         ],
         "yaxis": "y"
        },
        {
         "hovertemplate": "color=SUV - STANDARD<br>symbol=SUV - STANDARD<br>x=%{x}<br>y=%{y}<extra></extra>",
         "legendgroup": "SUV - STANDARD, SUV - STANDARD",
         "line": {
          "color": "#FFA15A",
          "dash": "solid"
         },
         "marker": {
          "symbol": "cross"
         },
         "mode": "markers+lines",
         "name": "SUV - STANDARD, SUV - STANDARD",
         "orientation": "v",
         "showlegend": true,
         "type": "scatter",
         "x": [
          2007,
          2012,
          2013,
          2014,
          2015,
          2016,
          2017,
          2018,
          2019,
          2020,
          2021,
          2022
         ],
         "xaxis": "x",
         "y": [
          20,
          25.5,
          22.396039603960396,
          22.813725490196077,
          21.08080808080808,
          21.850467289719628,
          21.598039215686274,
          21.601941747572816,
          21.756756756756758,
          22.084745762711865,
          22.58267716535433,
          22.463087248322147
         ],
         "yaxis": "y"
        },
        {
         "hovertemplate": "color=SPECIAL PURPOSE VEHICLE<br>symbol=SPECIAL PURPOSE VEHICLE<br>x=%{x}<br>y=%{y}<extra></extra>",
         "legendgroup": "SPECIAL PURPOSE VEHICLE, SPECIAL PURPOSE VEHICLE",
         "line": {
          "color": "#19d3f3",
          "dash": "solid"
         },
         "marker": {
          "symbol": "circle"
         },
         "mode": "markers+lines",
         "name": "SPECIAL PURPOSE VEHICLE, SPECIAL PURPOSE VEHICLE",
         "orientation": "v",
         "showlegend": true,
         "type": "scatter",
         "x": [
          2010,
          2011,
          2012,
          2013,
          2014,
          2015,
          2016,
          2017,
          2018,
          2019,
          2020,
          2021,
          2022
         ],
         "xaxis": "x",
         "y": [
          32,
          31,
          32.5,
          31.6,
          31.857142857142858,
          28.22222222222222,
          25.647058823529413,
          25.8,
          25.4,
          27.071428571428573,
          27.615384615384617,
          27.076923076923077,
          26.75
         ],
         "yaxis": "y"
        },
        {
         "hovertemplate": "color=SUV - SMALL<br>symbol=SUV - SMALL<br>x=%{x}<br>y=%{y}<extra></extra>",
         "legendgroup": "SUV - SMALL, SUV - SMALL",
         "line": {
          "color": "#FF6692",
          "dash": "solid"
         },
         "marker": {
          "symbol": "diamond"
         },
         "mode": "markers+lines",
         "name": "SUV - SMALL, SUV - SMALL",
         "orientation": "v",
         "showlegend": true,
         "type": "scatter",
         "x": [
          2013,
          2014,
          2015,
          2016,
          2017,
          2018,
          2019,
          2020,
          2021,
          2022
         ],
         "xaxis": "x",
         "y": [
          30.892086330935253,
          31.316129032258065,
          27.70949720670391,
          28.227777777777778,
          27.775862068965516,
          28.372881355932204,
          28.913793103448278,
          28.824468085106382,
          29.435233160621763,
          29.781725888324875
         ],
         "yaxis": "y"
        }
       ],
       "layout": {
        "legend": {
         "title": {
          "text": "Vehicle Class"
         },
         "tracegroupgap": 0
        },
        "margin": {
         "t": 60
        },
        "template": {
         "data": {
          "bar": [
           {
            "error_x": {
             "color": "#2a3f5f"
            },
            "error_y": {
             "color": "#2a3f5f"
            },
            "marker": {
             "line": {
              "color": "#E5ECF6",
              "width": 0.5
             },
             "pattern": {
              "fillmode": "overlay",
              "size": 10,
              "solidity": 0.2
             }
            },
            "type": "bar"
           }
          ],
          "barpolar": [
           {
            "marker": {
             "line": {
              "color": "#E5ECF6",
              "width": 0.5
             },
             "pattern": {
              "fillmode": "overlay",
              "size": 10,
              "solidity": 0.2
             }
            },
            "type": "barpolar"
           }
          ],
          "carpet": [
           {
            "aaxis": {
             "endlinecolor": "#2a3f5f",
             "gridcolor": "white",
             "linecolor": "white",
             "minorgridcolor": "white",
             "startlinecolor": "#2a3f5f"
            },
            "baxis": {
             "endlinecolor": "#2a3f5f",
             "gridcolor": "white",
             "linecolor": "white",
             "minorgridcolor": "white",
             "startlinecolor": "#2a3f5f"
            },
            "type": "carpet"
           }
          ],
          "choropleth": [
           {
            "colorbar": {
             "outlinewidth": 0,
             "ticks": ""
            },
            "type": "choropleth"
           }
          ],
          "contour": [
           {
            "colorbar": {
             "outlinewidth": 0,
             "ticks": ""
            },
            "colorscale": [
             [
              0,
              "#0d0887"
             ],
             [
              0.1111111111111111,
              "#46039f"
             ],
             [
              0.2222222222222222,
              "#7201a8"
             ],
             [
              0.3333333333333333,
              "#9c179e"
             ],
             [
              0.4444444444444444,
              "#bd3786"
             ],
             [
              0.5555555555555556,
              "#d8576b"
             ],
             [
              0.6666666666666666,
              "#ed7953"
             ],
             [
              0.7777777777777778,
              "#fb9f3a"
             ],
             [
              0.8888888888888888,
              "#fdca26"
             ],
             [
              1,
              "#f0f921"
             ]
            ],
            "type": "contour"
           }
          ],
          "contourcarpet": [
           {
            "colorbar": {
             "outlinewidth": 0,
             "ticks": ""
            },
            "type": "contourcarpet"
           }
          ],
          "heatmap": [
           {
            "colorbar": {
             "outlinewidth": 0,
             "ticks": ""
            },
            "colorscale": [
             [
              0,
              "#0d0887"
             ],
             [
              0.1111111111111111,
              "#46039f"
             ],
             [
              0.2222222222222222,
              "#7201a8"
             ],
             [
              0.3333333333333333,
              "#9c179e"
             ],
             [
              0.4444444444444444,
              "#bd3786"
             ],
             [
              0.5555555555555556,
              "#d8576b"
             ],
             [
              0.6666666666666666,
              "#ed7953"
             ],
             [
              0.7777777777777778,
              "#fb9f3a"
             ],
             [
              0.8888888888888888,
              "#fdca26"
             ],
             [
              1,
              "#f0f921"
             ]
            ],
            "type": "heatmap"
           }
          ],
          "heatmapgl": [
           {
            "colorbar": {
             "outlinewidth": 0,
             "ticks": ""
            },
            "colorscale": [
             [
              0,
              "#0d0887"
             ],
             [
              0.1111111111111111,
              "#46039f"
             ],
             [
              0.2222222222222222,
              "#7201a8"
             ],
             [
              0.3333333333333333,
              "#9c179e"
             ],
             [
              0.4444444444444444,
              "#bd3786"
             ],
             [
              0.5555555555555556,
              "#d8576b"
             ],
             [
              0.6666666666666666,
              "#ed7953"
             ],
             [
              0.7777777777777778,
              "#fb9f3a"
             ],
             [
              0.8888888888888888,
              "#fdca26"
             ],
             [
              1,
              "#f0f921"
             ]
            ],
            "type": "heatmapgl"
           }
          ],
          "histogram": [
           {
            "marker": {
             "pattern": {
              "fillmode": "overlay",
              "size": 10,
              "solidity": 0.2
             }
            },
            "type": "histogram"
           }
          ],
          "histogram2d": [
           {
            "colorbar": {
             "outlinewidth": 0,
             "ticks": ""
            },
            "colorscale": [
             [
              0,
              "#0d0887"
             ],
             [
              0.1111111111111111,
              "#46039f"
             ],
             [
              0.2222222222222222,
              "#7201a8"
             ],
             [
              0.3333333333333333,
              "#9c179e"
             ],
             [
              0.4444444444444444,
              "#bd3786"
             ],
             [
              0.5555555555555556,
              "#d8576b"
             ],
             [
              0.6666666666666666,
              "#ed7953"
             ],
             [
              0.7777777777777778,
              "#fb9f3a"
             ],
             [
              0.8888888888888888,
              "#fdca26"
             ],
             [
              1,
              "#f0f921"
             ]
            ],
            "type": "histogram2d"
           }
          ],
          "histogram2dcontour": [
           {
            "colorbar": {
             "outlinewidth": 0,
             "ticks": ""
            },
            "colorscale": [
             [
              0,
              "#0d0887"
             ],
             [
              0.1111111111111111,
              "#46039f"
             ],
             [
              0.2222222222222222,
              "#7201a8"
             ],
             [
              0.3333333333333333,
              "#9c179e"
             ],
             [
              0.4444444444444444,
              "#bd3786"
             ],
             [
              0.5555555555555556,
              "#d8576b"
             ],
             [
              0.6666666666666666,
              "#ed7953"
             ],
             [
              0.7777777777777778,
              "#fb9f3a"
             ],
             [
              0.8888888888888888,
              "#fdca26"
             ],
             [
              1,
              "#f0f921"
             ]
            ],
            "type": "histogram2dcontour"
           }
          ],
          "mesh3d": [
           {
            "colorbar": {
             "outlinewidth": 0,
             "ticks": ""
            },
            "type": "mesh3d"
           }
          ],
          "parcoords": [
           {
            "line": {
             "colorbar": {
              "outlinewidth": 0,
              "ticks": ""
             }
            },
            "type": "parcoords"
           }
          ],
          "pie": [
           {
            "automargin": true,
            "type": "pie"
           }
          ],
          "scatter": [
           {
            "fillpattern": {
             "fillmode": "overlay",
             "size": 10,
             "solidity": 0.2
            },
            "type": "scatter"
           }
          ],
          "scatter3d": [
           {
            "line": {
             "colorbar": {
              "outlinewidth": 0,
              "ticks": ""
             }
            },
            "marker": {
             "colorbar": {
              "outlinewidth": 0,
              "ticks": ""
             }
            },
            "type": "scatter3d"
           }
          ],
          "scattercarpet": [
           {
            "marker": {
             "colorbar": {
              "outlinewidth": 0,
              "ticks": ""
             }
            },
            "type": "scattercarpet"
           }
          ],
          "scattergeo": [
           {
            "marker": {
             "colorbar": {
              "outlinewidth": 0,
              "ticks": ""
             }
            },
            "type": "scattergeo"
           }
          ],
          "scattergl": [
           {
            "marker": {
             "colorbar": {
              "outlinewidth": 0,
              "ticks": ""
             }
            },
            "type": "scattergl"
           }
          ],
          "scattermapbox": [
           {
            "marker": {
             "colorbar": {
              "outlinewidth": 0,
              "ticks": ""
             }
            },
            "type": "scattermapbox"
           }
          ],
          "scatterpolar": [
           {
            "marker": {
             "colorbar": {
              "outlinewidth": 0,
              "ticks": ""
             }
            },
            "type": "scatterpolar"
           }
          ],
          "scatterpolargl": [
           {
            "marker": {
             "colorbar": {
              "outlinewidth": 0,
              "ticks": ""
             }
            },
            "type": "scatterpolargl"
           }
          ],
          "scatterternary": [
           {
            "marker": {
             "colorbar": {
              "outlinewidth": 0,
              "ticks": ""
             }
            },
            "type": "scatterternary"
           }
          ],
          "surface": [
           {
            "colorbar": {
             "outlinewidth": 0,
             "ticks": ""
            },
            "colorscale": [
             [
              0,
              "#0d0887"
             ],
             [
              0.1111111111111111,
              "#46039f"
             ],
             [
              0.2222222222222222,
              "#7201a8"
             ],
             [
              0.3333333333333333,
              "#9c179e"
             ],
             [
              0.4444444444444444,
              "#bd3786"
             ],
             [
              0.5555555555555556,
              "#d8576b"
             ],
             [
              0.6666666666666666,
              "#ed7953"
             ],
             [
              0.7777777777777778,
              "#fb9f3a"
             ],
             [
              0.8888888888888888,
              "#fdca26"
             ],
             [
              1,
              "#f0f921"
             ]
            ],
            "type": "surface"
           }
          ],
          "table": [
           {
            "cells": {
             "fill": {
              "color": "#EBF0F8"
             },
             "line": {
              "color": "white"
             }
            },
            "header": {
             "fill": {
              "color": "#C8D4E3"
             },
             "line": {
              "color": "white"
             }
            },
            "type": "table"
           }
          ]
         },
         "layout": {
          "annotationdefaults": {
           "arrowcolor": "#2a3f5f",
           "arrowhead": 0,
           "arrowwidth": 1
          },
          "autotypenumbers": "strict",
          "coloraxis": {
           "colorbar": {
            "outlinewidth": 0,
            "ticks": ""
           }
          },
          "colorscale": {
           "diverging": [
            [
             0,
             "#8e0152"
            ],
            [
             0.1,
             "#c51b7d"
            ],
            [
             0.2,
             "#de77ae"
            ],
            [
             0.3,
             "#f1b6da"
            ],
            [
             0.4,
             "#fde0ef"
            ],
            [
             0.5,
             "#f7f7f7"
            ],
            [
             0.6,
             "#e6f5d0"
            ],
            [
             0.7,
             "#b8e186"
            ],
            [
             0.8,
             "#7fbc41"
            ],
            [
             0.9,
             "#4d9221"
            ],
            [
             1,
             "#276419"
            ]
           ],
           "sequential": [
            [
             0,
             "#0d0887"
            ],
            [
             0.1111111111111111,
             "#46039f"
            ],
            [
             0.2222222222222222,
             "#7201a8"
            ],
            [
             0.3333333333333333,
             "#9c179e"
            ],
            [
             0.4444444444444444,
             "#bd3786"
            ],
            [
             0.5555555555555556,
             "#d8576b"
            ],
            [
             0.6666666666666666,
             "#ed7953"
            ],
            [
             0.7777777777777778,
             "#fb9f3a"
            ],
            [
             0.8888888888888888,
             "#fdca26"
            ],
            [
             1,
             "#f0f921"
            ]
           ],
           "sequentialminus": [
            [
             0,
             "#0d0887"
            ],
            [
             0.1111111111111111,
             "#46039f"
            ],
            [
             0.2222222222222222,
             "#7201a8"
            ],
            [
             0.3333333333333333,
             "#9c179e"
            ],
            [
             0.4444444444444444,
             "#bd3786"
            ],
            [
             0.5555555555555556,
             "#d8576b"
            ],
            [
             0.6666666666666666,
             "#ed7953"
            ],
            [
             0.7777777777777778,
             "#fb9f3a"
            ],
            [
             0.8888888888888888,
             "#fdca26"
            ],
            [
             1,
             "#f0f921"
            ]
           ]
          },
          "colorway": [
           "#636efa",
           "#EF553B",
           "#00cc96",
           "#ab63fa",
           "#FFA15A",
           "#19d3f3",
           "#FF6692",
           "#B6E880",
           "#FF97FF",
           "#FECB52"
          ],
          "font": {
           "color": "#2a3f5f"
          },
          "geo": {
           "bgcolor": "white",
           "lakecolor": "white",
           "landcolor": "#E5ECF6",
           "showlakes": true,
           "showland": true,
           "subunitcolor": "white"
          },
          "hoverlabel": {
           "align": "left"
          },
          "hovermode": "closest",
          "mapbox": {
           "style": "light"
          },
          "paper_bgcolor": "white",
          "plot_bgcolor": "#E5ECF6",
          "polar": {
           "angularaxis": {
            "gridcolor": "white",
            "linecolor": "white",
            "ticks": ""
           },
           "bgcolor": "#E5ECF6",
           "radialaxis": {
            "gridcolor": "white",
            "linecolor": "white",
            "ticks": ""
           }
          },
          "scene": {
           "xaxis": {
            "backgroundcolor": "#E5ECF6",
            "gridcolor": "white",
            "gridwidth": 2,
            "linecolor": "white",
            "showbackground": true,
            "ticks": "",
            "zerolinecolor": "white"
           },
           "yaxis": {
            "backgroundcolor": "#E5ECF6",
            "gridcolor": "white",
            "gridwidth": 2,
            "linecolor": "white",
            "showbackground": true,
            "ticks": "",
            "zerolinecolor": "white"
           },
           "zaxis": {
            "backgroundcolor": "#E5ECF6",
            "gridcolor": "white",
            "gridwidth": 2,
            "linecolor": "white",
            "showbackground": true,
            "ticks": "",
            "zerolinecolor": "white"
           }
          },
          "shapedefaults": {
           "line": {
            "color": "#2a3f5f"
           }
          },
          "ternary": {
           "aaxis": {
            "gridcolor": "white",
            "linecolor": "white",
            "ticks": ""
           },
           "baxis": {
            "gridcolor": "white",
            "linecolor": "white",
            "ticks": ""
           },
           "bgcolor": "#E5ECF6",
           "caxis": {
            "gridcolor": "white",
            "linecolor": "white",
            "ticks": ""
           }
          },
          "title": {
           "x": 0.05
          },
          "xaxis": {
           "automargin": true,
           "gridcolor": "white",
           "linecolor": "white",
           "ticks": "",
           "title": {
            "standoff": 15
           },
           "zerolinecolor": "white",
           "zerolinewidth": 2
          },
          "yaxis": {
           "automargin": true,
           "gridcolor": "white",
           "linecolor": "white",
           "ticks": "",
           "title": {
            "standoff": 15
           },
           "zerolinecolor": "white",
           "zerolinewidth": 2
          }
         }
        },
        "title": {
         "text": "Average Combine MPG per Vehicle Class per Year"
        },
        "xaxis": {
         "anchor": "y",
         "domain": [
          0,
          1
         ],
         "minor": {
          "showgrid": true,
          "tickcolor": "black",
          "ticklen": 5
         },
         "tickangle": 45,
         "title": {
          "text": "Year"
         }
        },
        "yaxis": {
         "anchor": "x",
         "domain": [
          0,
          1
         ],
         "title": {
          "text": "Combine MPG Average"
         }
        }
       }
      },
      "text/html": [
       "<div>                            <div id=\"8710ebd7-3f18-42fc-aca6-c547351874e0\" class=\"plotly-graph-div\" style=\"height:525px; width:100%;\"></div>            <script type=\"text/javascript\">                require([\"plotly\"], function(Plotly) {                    window.PLOTLYENV=window.PLOTLYENV || {};                                    if (document.getElementById(\"8710ebd7-3f18-42fc-aca6-c547351874e0\")) {                    Plotly.newPlot(                        \"8710ebd7-3f18-42fc-aca6-c547351874e0\",                        [{\"hovertemplate\":\"color=COMPACT<br>symbol=COMPACT<br>x=%{x}<br>y=%{y}<extra></extra>\",\"legendgroup\":\"COMPACT, COMPACT\",\"line\":{\"color\":\"#636efa\",\"dash\":\"solid\"},\"marker\":{\"symbol\":\"circle\"},\"mode\":\"markers+lines\",\"name\":\"COMPACT, COMPACT\",\"orientation\":\"v\",\"showlegend\":true,\"x\":[2000,2001,2002,2003,2004,2005,2006,2007,2008,2009,2010,2011,2012,2013,2014,2015,2016,2017,2018,2019,2020,2021,2022],\"xaxis\":\"x\",\"y\":[31.504761904761907,31.93793103448276,31.969924812030076,32.37062937062937,31.603896103896105,31.698630136986303,31.233576642335766,30.25,30.2027027027027,30.326666666666668,32.17142857142857,33.653225806451616,35.06015037593985,35.214285714285715,36.19047619047619,31.333333333333332,31.414364640883978,31.60377358490566,32.23770491803279,32.43396226415094,32.28703703703704,32.92941176470588,33.22857142857143],\"yaxis\":\"y\",\"type\":\"scatter\"},{\"hovertemplate\":\"color=FULL-SIZE<br>symbol=FULL-SIZE<br>x=%{x}<br>y=%{y}<extra></extra>\",\"legendgroup\":\"FULL-SIZE, FULL-SIZE\",\"line\":{\"color\":\"#EF553B\",\"dash\":\"solid\"},\"marker\":{\"symbol\":\"diamond\"},\"mode\":\"markers+lines\",\"name\":\"FULL-SIZE, FULL-SIZE\",\"orientation\":\"v\",\"showlegend\":true,\"x\":[2000,2001,2002,2003,2004,2005,2006,2007,2008,2009,2010,2011,2012,2013,2014,2015,2016,2017,2018,2019,2020,2021,2022],\"xaxis\":\"x\",\"y\":[26.428571428571427,26.033333333333335,25.689655172413794,26.28,24.735294117647058,24.155555555555555,24.625,24.462962962962962,24.50793650793651,24.676470588235293,24.441558441558442,25.08450704225352,26.098765432098766,26.894736842105264,27.607142857142858,24.0,24.27777777777778,26.402439024390244,27.192660550458715,26.603960396039604,28.102564102564102,29.0,28.890625],\"yaxis\":\"y\",\"type\":\"scatter\"},{\"hovertemplate\":\"color=MID-SIZE<br>symbol=MID-SIZE<br>x=%{x}<br>y=%{y}<extra></extra>\",\"legendgroup\":\"MID-SIZE, MID-SIZE\",\"line\":{\"color\":\"#00cc96\",\"dash\":\"solid\"},\"marker\":{\"symbol\":\"square\"},\"mode\":\"markers+lines\",\"name\":\"MID-SIZE, MID-SIZE\",\"orientation\":\"v\",\"showlegend\":true,\"x\":[2000,2001,2002,2003,2004,2005,2006,2007,2008,2009,2010,2011,2012,2013,2014,2015,2016,2017,2018,2019,2020,2021,2022],\"xaxis\":\"x\",\"y\":[27.441558441558442,27.353658536585368,27.444444444444443,27.48314606741573,27.92233009708738,28.140350877192983,28.18918918918919,29.115107913669064,28.970149253731343,29.024,29.95,31.96969696969697,32.86259541984733,35.44444444444444,35.752941176470586,31.044444444444444,31.335106382978722,31.166666666666668,31.664556962025316,32.66206896551724,31.365079365079364,31.42105263157895,31.034188034188034],\"yaxis\":\"y\",\"type\":\"scatter\"},{\"hovertemplate\":\"color=MINICOMPACT<br>symbol=MINICOMPACT<br>x=%{x}<br>y=%{y}<extra></extra>\",\"legendgroup\":\"MINICOMPACT, MINICOMPACT\",\"line\":{\"color\":\"#ab63fa\",\"dash\":\"solid\"},\"marker\":{\"symbol\":\"x\"},\"mode\":\"markers+lines\",\"name\":\"MINICOMPACT, MINICOMPACT\",\"orientation\":\"v\",\"showlegend\":true,\"x\":[2000,2001,2002,2003,2004,2005,2006,2007,2008,2009,2010,2011,2012,2013,2014,2015,2016,2017,2018,2019,2020,2021,2022],\"xaxis\":\"x\",\"y\":[25.636363636363637,25.235294117647058,25.363636363636363,27.575757575757574,29.2,26.256756756756758,28.43243243243243,27.5531914893617,27.897959183673468,31.023255813953487,30.4390243902439,30.169811320754718,30.56578947368421,34.41509433962264,33.744680851063826,28.593220338983052,28.557692307692307,29.84090909090909,28.245283018867923,28.0,26.652173913043477,24.9,24.224489795918366],\"yaxis\":\"y\",\"type\":\"scatter\"},{\"hovertemplate\":\"color=MINIVAN<br>symbol=MINIVAN<br>x=%{x}<br>y=%{y}<extra></extra>\",\"legendgroup\":\"MINIVAN, MINIVAN\",\"line\":{\"color\":\"#FFA15A\",\"dash\":\"solid\"},\"marker\":{\"symbol\":\"cross\"},\"mode\":\"markers+lines\",\"name\":\"MINIVAN, MINIVAN\",\"orientation\":\"v\",\"showlegend\":true,\"x\":[2000,2001,2002,2003,2004,2005,2006,2007,2008,2009,2010,2011,2012,2013,2014,2015,2016,2017,2018,2019,2020,2021,2022],\"xaxis\":\"x\",\"y\":[23.96153846153846,24.88235294117647,24.545454545454547,24.392857142857142,25.571428571428573,24.727272727272727,24.714285714285715,24.08823529411765,25.0,26.0,26.142857142857142,25.5,27.375,27.2,26.928571428571427,23.8,23.916666666666668,25.0,24.454545454545453,24.666666666666668,25.5,30.714285714285715,31.0],\"yaxis\":\"y\",\"type\":\"scatter\"},{\"hovertemplate\":\"color=PICKUP TRUCK - SMALL<br>symbol=PICKUP TRUCK - SMALL<br>x=%{x}<br>y=%{y}<extra></extra>\",\"legendgroup\":\"PICKUP TRUCK - SMALL, PICKUP TRUCK - SMALL\",\"line\":{\"color\":\"#19d3f3\",\"dash\":\"solid\"},\"marker\":{\"symbol\":\"circle\"},\"mode\":\"markers+lines\",\"name\":\"PICKUP TRUCK - SMALL, PICKUP TRUCK - SMALL\",\"orientation\":\"v\",\"showlegend\":true,\"x\":[2000,2001,2002,2003,2004,2008,2009,2010,2011,2012,2013,2014,2015,2016,2017,2018,2019,2020,2021,2022],\"xaxis\":\"x\",\"y\":[26.272727272727273,23.5,23.166666666666668,24.75,20.0,24.76923076923077,25.338983050847457,25.48148148148148,25.529411764705884,25.767441860465116,26.583333333333332,26.5,23.954545454545453,24.884615384615383,24.392857142857142,24.296296296296298,24.16,24.526315789473685,24.58823529411765,26.0],\"yaxis\":\"y\",\"type\":\"scatter\"},{\"hovertemplate\":\"color=PICKUP TRUCK - STANDARD<br>symbol=PICKUP TRUCK - STANDARD<br>x=%{x}<br>y=%{y}<extra></extra>\",\"legendgroup\":\"PICKUP TRUCK - STANDARD, PICKUP TRUCK - STANDARD\",\"line\":{\"color\":\"#FF6692\",\"dash\":\"solid\"},\"marker\":{\"symbol\":\"diamond\"},\"mode\":\"markers+lines\",\"name\":\"PICKUP TRUCK - STANDARD, PICKUP TRUCK - STANDARD\",\"orientation\":\"v\",\"showlegend\":true,\"x\":[2000,2001,2002,2003,2004,2005,2006,2007,2008,2009,2010,2011,2012,2013,2014,2015,2016,2017,2018,2019,2020,2021,2022],\"xaxis\":\"x\",\"y\":[20.945652173913043,20.792079207920793,20.177570093457945,21.00943396226415,20.66393442622951,21.393700787401574,21.907801418439718,21.623376623376622,20.09722222222222,20.54736842105263,20.054794520547944,20.270588235294117,20.468354430379748,20.726190476190474,22.112903225806452,20.48076923076923,20.5,20.56,21.329896907216494,21.32323232323232,22.13186813186813,21.8,21.460176991150444],\"yaxis\":\"y\",\"type\":\"scatter\"},{\"hovertemplate\":\"color=STATION WAGON - MID-SIZE<br>symbol=STATION WAGON - MID-SIZE<br>x=%{x}<br>y=%{y}<extra></extra>\",\"legendgroup\":\"STATION WAGON - MID-SIZE, STATION WAGON - MID-SIZE\",\"line\":{\"color\":\"#B6E880\",\"dash\":\"solid\"},\"marker\":{\"symbol\":\"square\"},\"mode\":\"markers+lines\",\"name\":\"STATION WAGON - MID-SIZE, STATION WAGON - MID-SIZE\",\"orientation\":\"v\",\"showlegend\":true,\"x\":[2000,2001,2002,2003,2004,2005,2006,2007,2008,2009,2010,2011,2012,2013,2014,2015,2016,2017,2018,2019,2020,2021,2022],\"xaxis\":\"x\",\"y\":[28.44,28.870967741935484,29.15625,29.0,28.414634146341463,28.210526315789473,28.035714285714285,28.625,28.5,28.53846153846154,28.88888888888889,28.5,35.0,39.0,35.5,30.625,30.857142857142858,32.125,30.2,26.11111111111111,24.0,24.0,24.25],\"yaxis\":\"y\",\"type\":\"scatter\"},{\"hovertemplate\":\"color=STATION WAGON - SMALL<br>symbol=STATION WAGON - SMALL<br>x=%{x}<br>y=%{y}<extra></extra>\",\"legendgroup\":\"STATION WAGON - SMALL, STATION WAGON - SMALL\",\"line\":{\"color\":\"#FF97FF\",\"dash\":\"solid\"},\"marker\":{\"symbol\":\"x\"},\"mode\":\"markers+lines\",\"name\":\"STATION WAGON - SMALL, STATION WAGON - SMALL\",\"orientation\":\"v\",\"showlegend\":true,\"x\":[2000,2001,2002,2003,2004,2005,2006,2007,2008,2009,2010,2011,2012,2013,2014,2015,2016,2017,2018,2019,2020,2021,2022],\"xaxis\":\"x\",\"y\":[31.692307692307693,31.916666666666668,29.27777777777778,31.644444444444446,31.27906976744186,30.814814814814813,31.735849056603772,31.59090909090909,31.58139534883721,32.351851851851855,33.56666666666667,33.55357142857143,34.57446808510638,34.79545454545455,35.470588235294116,33.48571428571429,33.270270270270274,35.06666666666667,35.17948717948718,34.891891891891895,36.2,36.4,36.26315789473684],\"yaxis\":\"y\",\"type\":\"scatter\"},{\"hovertemplate\":\"color=SUBCOMPACT<br>symbol=SUBCOMPACT<br>x=%{x}<br>y=%{y}<extra></extra>\",\"legendgroup\":\"SUBCOMPACT, SUBCOMPACT\",\"line\":{\"color\":\"#FECB52\",\"dash\":\"solid\"},\"marker\":{\"symbol\":\"cross\"},\"mode\":\"markers+lines\",\"name\":\"SUBCOMPACT, SUBCOMPACT\",\"orientation\":\"v\",\"showlegend\":true,\"x\":[2000,2001,2002,2003,2004,2005,2006,2007,2008,2009,2010,2011,2012,2013,2014,2015,2016,2017,2018,2019,2020,2021,2022],\"xaxis\":\"x\",\"y\":[31.48076923076923,31.258064516129032,29.15068493150685,27.984615384615385,28.96511627906977,29.82758620689655,29.743589743589745,29.50602409638554,29.86,29.98989898989899,30.510204081632654,31.01923076923077,30.735294117647058,30.63157894736842,31.903225806451612,28.66304347826087,28.513157894736842,27.580645161290324,27.78125,27.948979591836736,26.821052631578947,27.373493975903614,27.620253164556964],\"yaxis\":\"y\",\"type\":\"scatter\"},{\"hovertemplate\":\"color=SUV<br>symbol=SUV<br>x=%{x}<br>y=%{y}<extra></extra>\",\"legendgroup\":\"SUV, SUV\",\"line\":{\"color\":\"#636efa\",\"dash\":\"solid\"},\"marker\":{\"symbol\":\"circle\"},\"mode\":\"markers+lines\",\"name\":\"SUV, SUV\",\"orientation\":\"v\",\"showlegend\":true,\"x\":[2000,2001,2002,2003,2004,2005,2006,2007,2008,2009,2010,2011,2012],\"xaxis\":\"x\",\"y\":[22.84536082474227,23.081632653061224,22.572580645161292,22.5125,21.957894736842107,23.0,23.755656108597286,24.748953974895397,24.95505617977528,25.100746268656717,26.417670682730925,26.600746268656717,26.57872340425532],\"yaxis\":\"y\",\"type\":\"scatter\"},{\"hovertemplate\":\"color=TWO-SEATER<br>symbol=TWO-SEATER<br>x=%{x}<br>y=%{y}<extra></extra>\",\"legendgroup\":\"TWO-SEATER, TWO-SEATER\",\"line\":{\"color\":\"#EF553B\",\"dash\":\"solid\"},\"marker\":{\"symbol\":\"diamond\"},\"mode\":\"markers+lines\",\"name\":\"TWO-SEATER, TWO-SEATER\",\"orientation\":\"v\",\"showlegend\":true,\"x\":[2000,2001,2002,2003,2004,2005,2006,2007,2008,2009,2010,2011,2012,2013,2014,2015,2016,2017,2018,2019,2020,2021,2022],\"xaxis\":\"x\",\"y\":[23.4,27.548387096774192,25.972972972972972,25.475,25.065217391304348,26.03846153846154,26.93877551020408,25.049180327868854,25.575342465753426,24.109375,25.16949152542373,26.65625,29.289473684210527,31.75862068965517,31.271428571428572,26.404761904761905,25.441176470588236,24.75438596491228,24.333333333333332,24.37142857142857,24.421875,23.0,23.15686274509804],\"yaxis\":\"y\",\"type\":\"scatter\"},{\"hovertemplate\":\"color=VAN - CARGO<br>symbol=VAN - CARGO<br>x=%{x}<br>y=%{y}<extra></extra>\",\"legendgroup\":\"VAN - CARGO, VAN - CARGO\",\"line\":{\"color\":\"#00cc96\",\"dash\":\"solid\"},\"marker\":{\"symbol\":\"square\"},\"mode\":\"markers+lines\",\"name\":\"VAN - CARGO, VAN - CARGO\",\"orientation\":\"v\",\"showlegend\":true,\"x\":[2000,2001,2002,2003,2004,2005,2006,2007,2008,2009,2010,2011,2012,2013,2014],\"xaxis\":\"x\",\"y\":[19.82608695652174,19.26086956521739,19.434782608695652,18.666666666666668,18.80952380952381,20.384615384615383,20.214285714285715,18.666666666666668,18.53846153846154,18.53846153846154,17.666666666666668,17.454545454545453,17.40909090909091,17.40909090909091,17.318181818181817],\"yaxis\":\"y\",\"type\":\"scatter\"},{\"hovertemplate\":\"color=VAN - PASSENGER<br>symbol=VAN - PASSENGER<br>x=%{x}<br>y=%{y}<extra></extra>\",\"legendgroup\":\"VAN - PASSENGER, VAN - PASSENGER\",\"line\":{\"color\":\"#ab63fa\",\"dash\":\"solid\"},\"marker\":{\"symbol\":\"x\"},\"mode\":\"markers+lines\",\"name\":\"VAN - PASSENGER, VAN - PASSENGER\",\"orientation\":\"v\",\"showlegend\":true,\"x\":[2000,2001,2002,2003,2004,2005,2006,2007,2008,2009,2010,2011,2012,2013,2014,2015,2016,2017,2018,2019,2020,2021],\"xaxis\":\"x\",\"y\":[18.647058823529413,19.055555555555557,18.77777777777778,18.615384615384617,19.181818181818183,19.666666666666668,19.75,17.5,17.666666666666668,17.666666666666668,16.75,15.62962962962963,15.612903225806452,15.633333333333333,16.0,14.736842105263158,15.571428571428571,16.0,19.0,19.0,16.75,16.75],\"yaxis\":\"y\",\"type\":\"scatter\"},{\"hovertemplate\":\"color=SUV - STANDARD<br>symbol=SUV - STANDARD<br>x=%{x}<br>y=%{y}<extra></extra>\",\"legendgroup\":\"SUV - STANDARD, SUV - STANDARD\",\"line\":{\"color\":\"#FFA15A\",\"dash\":\"solid\"},\"marker\":{\"symbol\":\"cross\"},\"mode\":\"markers+lines\",\"name\":\"SUV - STANDARD, SUV - STANDARD\",\"orientation\":\"v\",\"showlegend\":true,\"x\":[2007,2012,2013,2014,2015,2016,2017,2018,2019,2020,2021,2022],\"xaxis\":\"x\",\"y\":[20.0,25.5,22.396039603960396,22.813725490196077,21.08080808080808,21.850467289719628,21.598039215686274,21.601941747572816,21.756756756756758,22.084745762711865,22.58267716535433,22.463087248322147],\"yaxis\":\"y\",\"type\":\"scatter\"},{\"hovertemplate\":\"color=SPECIAL PURPOSE VEHICLE<br>symbol=SPECIAL PURPOSE VEHICLE<br>x=%{x}<br>y=%{y}<extra></extra>\",\"legendgroup\":\"SPECIAL PURPOSE VEHICLE, SPECIAL PURPOSE VEHICLE\",\"line\":{\"color\":\"#19d3f3\",\"dash\":\"solid\"},\"marker\":{\"symbol\":\"circle\"},\"mode\":\"markers+lines\",\"name\":\"SPECIAL PURPOSE VEHICLE, SPECIAL PURPOSE VEHICLE\",\"orientation\":\"v\",\"showlegend\":true,\"x\":[2010,2011,2012,2013,2014,2015,2016,2017,2018,2019,2020,2021,2022],\"xaxis\":\"x\",\"y\":[32.0,31.0,32.5,31.6,31.857142857142858,28.22222222222222,25.647058823529413,25.8,25.4,27.071428571428573,27.615384615384617,27.076923076923077,26.75],\"yaxis\":\"y\",\"type\":\"scatter\"},{\"hovertemplate\":\"color=SUV - SMALL<br>symbol=SUV - SMALL<br>x=%{x}<br>y=%{y}<extra></extra>\",\"legendgroup\":\"SUV - SMALL, SUV - SMALL\",\"line\":{\"color\":\"#FF6692\",\"dash\":\"solid\"},\"marker\":{\"symbol\":\"diamond\"},\"mode\":\"markers+lines\",\"name\":\"SUV - SMALL, SUV - SMALL\",\"orientation\":\"v\",\"showlegend\":true,\"x\":[2013,2014,2015,2016,2017,2018,2019,2020,2021,2022],\"xaxis\":\"x\",\"y\":[30.892086330935253,31.316129032258065,27.70949720670391,28.227777777777778,27.775862068965516,28.372881355932204,28.913793103448278,28.824468085106382,29.435233160621763,29.781725888324875],\"yaxis\":\"y\",\"type\":\"scatter\"}],                        {\"template\":{\"data\":{\"histogram2dcontour\":[{\"type\":\"histogram2dcontour\",\"colorbar\":{\"outlinewidth\":0,\"ticks\":\"\"},\"colorscale\":[[0.0,\"#0d0887\"],[0.1111111111111111,\"#46039f\"],[0.2222222222222222,\"#7201a8\"],[0.3333333333333333,\"#9c179e\"],[0.4444444444444444,\"#bd3786\"],[0.5555555555555556,\"#d8576b\"],[0.6666666666666666,\"#ed7953\"],[0.7777777777777778,\"#fb9f3a\"],[0.8888888888888888,\"#fdca26\"],[1.0,\"#f0f921\"]]}],\"choropleth\":[{\"type\":\"choropleth\",\"colorbar\":{\"outlinewidth\":0,\"ticks\":\"\"}}],\"histogram2d\":[{\"type\":\"histogram2d\",\"colorbar\":{\"outlinewidth\":0,\"ticks\":\"\"},\"colorscale\":[[0.0,\"#0d0887\"],[0.1111111111111111,\"#46039f\"],[0.2222222222222222,\"#7201a8\"],[0.3333333333333333,\"#9c179e\"],[0.4444444444444444,\"#bd3786\"],[0.5555555555555556,\"#d8576b\"],[0.6666666666666666,\"#ed7953\"],[0.7777777777777778,\"#fb9f3a\"],[0.8888888888888888,\"#fdca26\"],[1.0,\"#f0f921\"]]}],\"heatmap\":[{\"type\":\"heatmap\",\"colorbar\":{\"outlinewidth\":0,\"ticks\":\"\"},\"colorscale\":[[0.0,\"#0d0887\"],[0.1111111111111111,\"#46039f\"],[0.2222222222222222,\"#7201a8\"],[0.3333333333333333,\"#9c179e\"],[0.4444444444444444,\"#bd3786\"],[0.5555555555555556,\"#d8576b\"],[0.6666666666666666,\"#ed7953\"],[0.7777777777777778,\"#fb9f3a\"],[0.8888888888888888,\"#fdca26\"],[1.0,\"#f0f921\"]]}],\"heatmapgl\":[{\"type\":\"heatmapgl\",\"colorbar\":{\"outlinewidth\":0,\"ticks\":\"\"},\"colorscale\":[[0.0,\"#0d0887\"],[0.1111111111111111,\"#46039f\"],[0.2222222222222222,\"#7201a8\"],[0.3333333333333333,\"#9c179e\"],[0.4444444444444444,\"#bd3786\"],[0.5555555555555556,\"#d8576b\"],[0.6666666666666666,\"#ed7953\"],[0.7777777777777778,\"#fb9f3a\"],[0.8888888888888888,\"#fdca26\"],[1.0,\"#f0f921\"]]}],\"contourcarpet\":[{\"type\":\"contourcarpet\",\"colorbar\":{\"outlinewidth\":0,\"ticks\":\"\"}}],\"contour\":[{\"type\":\"contour\",\"colorbar\":{\"outlinewidth\":0,\"ticks\":\"\"},\"colorscale\":[[0.0,\"#0d0887\"],[0.1111111111111111,\"#46039f\"],[0.2222222222222222,\"#7201a8\"],[0.3333333333333333,\"#9c179e\"],[0.4444444444444444,\"#bd3786\"],[0.5555555555555556,\"#d8576b\"],[0.6666666666666666,\"#ed7953\"],[0.7777777777777778,\"#fb9f3a\"],[0.8888888888888888,\"#fdca26\"],[1.0,\"#f0f921\"]]}],\"surface\":[{\"type\":\"surface\",\"colorbar\":{\"outlinewidth\":0,\"ticks\":\"\"},\"colorscale\":[[0.0,\"#0d0887\"],[0.1111111111111111,\"#46039f\"],[0.2222222222222222,\"#7201a8\"],[0.3333333333333333,\"#9c179e\"],[0.4444444444444444,\"#bd3786\"],[0.5555555555555556,\"#d8576b\"],[0.6666666666666666,\"#ed7953\"],[0.7777777777777778,\"#fb9f3a\"],[0.8888888888888888,\"#fdca26\"],[1.0,\"#f0f921\"]]}],\"mesh3d\":[{\"type\":\"mesh3d\",\"colorbar\":{\"outlinewidth\":0,\"ticks\":\"\"}}],\"scatter\":[{\"fillpattern\":{\"fillmode\":\"overlay\",\"size\":10,\"solidity\":0.2},\"type\":\"scatter\"}],\"parcoords\":[{\"type\":\"parcoords\",\"line\":{\"colorbar\":{\"outlinewidth\":0,\"ticks\":\"\"}}}],\"scatterpolargl\":[{\"type\":\"scatterpolargl\",\"marker\":{\"colorbar\":{\"outlinewidth\":0,\"ticks\":\"\"}}}],\"bar\":[{\"error_x\":{\"color\":\"#2a3f5f\"},\"error_y\":{\"color\":\"#2a3f5f\"},\"marker\":{\"line\":{\"color\":\"#E5ECF6\",\"width\":0.5},\"pattern\":{\"fillmode\":\"overlay\",\"size\":10,\"solidity\":0.2}},\"type\":\"bar\"}],\"scattergeo\":[{\"type\":\"scattergeo\",\"marker\":{\"colorbar\":{\"outlinewidth\":0,\"ticks\":\"\"}}}],\"scatterpolar\":[{\"type\":\"scatterpolar\",\"marker\":{\"colorbar\":{\"outlinewidth\":0,\"ticks\":\"\"}}}],\"histogram\":[{\"marker\":{\"pattern\":{\"fillmode\":\"overlay\",\"size\":10,\"solidity\":0.2}},\"type\":\"histogram\"}],\"scattergl\":[{\"type\":\"scattergl\",\"marker\":{\"colorbar\":{\"outlinewidth\":0,\"ticks\":\"\"}}}],\"scatter3d\":[{\"type\":\"scatter3d\",\"line\":{\"colorbar\":{\"outlinewidth\":0,\"ticks\":\"\"}},\"marker\":{\"colorbar\":{\"outlinewidth\":0,\"ticks\":\"\"}}}],\"scattermapbox\":[{\"type\":\"scattermapbox\",\"marker\":{\"colorbar\":{\"outlinewidth\":0,\"ticks\":\"\"}}}],\"scatterternary\":[{\"type\":\"scatterternary\",\"marker\":{\"colorbar\":{\"outlinewidth\":0,\"ticks\":\"\"}}}],\"scattercarpet\":[{\"type\":\"scattercarpet\",\"marker\":{\"colorbar\":{\"outlinewidth\":0,\"ticks\":\"\"}}}],\"carpet\":[{\"aaxis\":{\"endlinecolor\":\"#2a3f5f\",\"gridcolor\":\"white\",\"linecolor\":\"white\",\"minorgridcolor\":\"white\",\"startlinecolor\":\"#2a3f5f\"},\"baxis\":{\"endlinecolor\":\"#2a3f5f\",\"gridcolor\":\"white\",\"linecolor\":\"white\",\"minorgridcolor\":\"white\",\"startlinecolor\":\"#2a3f5f\"},\"type\":\"carpet\"}],\"table\":[{\"cells\":{\"fill\":{\"color\":\"#EBF0F8\"},\"line\":{\"color\":\"white\"}},\"header\":{\"fill\":{\"color\":\"#C8D4E3\"},\"line\":{\"color\":\"white\"}},\"type\":\"table\"}],\"barpolar\":[{\"marker\":{\"line\":{\"color\":\"#E5ECF6\",\"width\":0.5},\"pattern\":{\"fillmode\":\"overlay\",\"size\":10,\"solidity\":0.2}},\"type\":\"barpolar\"}],\"pie\":[{\"automargin\":true,\"type\":\"pie\"}]},\"layout\":{\"autotypenumbers\":\"strict\",\"colorway\":[\"#636efa\",\"#EF553B\",\"#00cc96\",\"#ab63fa\",\"#FFA15A\",\"#19d3f3\",\"#FF6692\",\"#B6E880\",\"#FF97FF\",\"#FECB52\"],\"font\":{\"color\":\"#2a3f5f\"},\"hovermode\":\"closest\",\"hoverlabel\":{\"align\":\"left\"},\"paper_bgcolor\":\"white\",\"plot_bgcolor\":\"#E5ECF6\",\"polar\":{\"bgcolor\":\"#E5ECF6\",\"angularaxis\":{\"gridcolor\":\"white\",\"linecolor\":\"white\",\"ticks\":\"\"},\"radialaxis\":{\"gridcolor\":\"white\",\"linecolor\":\"white\",\"ticks\":\"\"}},\"ternary\":{\"bgcolor\":\"#E5ECF6\",\"aaxis\":{\"gridcolor\":\"white\",\"linecolor\":\"white\",\"ticks\":\"\"},\"baxis\":{\"gridcolor\":\"white\",\"linecolor\":\"white\",\"ticks\":\"\"},\"caxis\":{\"gridcolor\":\"white\",\"linecolor\":\"white\",\"ticks\":\"\"}},\"coloraxis\":{\"colorbar\":{\"outlinewidth\":0,\"ticks\":\"\"}},\"colorscale\":{\"sequential\":[[0.0,\"#0d0887\"],[0.1111111111111111,\"#46039f\"],[0.2222222222222222,\"#7201a8\"],[0.3333333333333333,\"#9c179e\"],[0.4444444444444444,\"#bd3786\"],[0.5555555555555556,\"#d8576b\"],[0.6666666666666666,\"#ed7953\"],[0.7777777777777778,\"#fb9f3a\"],[0.8888888888888888,\"#fdca26\"],[1.0,\"#f0f921\"]],\"sequentialminus\":[[0.0,\"#0d0887\"],[0.1111111111111111,\"#46039f\"],[0.2222222222222222,\"#7201a8\"],[0.3333333333333333,\"#9c179e\"],[0.4444444444444444,\"#bd3786\"],[0.5555555555555556,\"#d8576b\"],[0.6666666666666666,\"#ed7953\"],[0.7777777777777778,\"#fb9f3a\"],[0.8888888888888888,\"#fdca26\"],[1.0,\"#f0f921\"]],\"diverging\":[[0,\"#8e0152\"],[0.1,\"#c51b7d\"],[0.2,\"#de77ae\"],[0.3,\"#f1b6da\"],[0.4,\"#fde0ef\"],[0.5,\"#f7f7f7\"],[0.6,\"#e6f5d0\"],[0.7,\"#b8e186\"],[0.8,\"#7fbc41\"],[0.9,\"#4d9221\"],[1,\"#276419\"]]},\"xaxis\":{\"gridcolor\":\"white\",\"linecolor\":\"white\",\"ticks\":\"\",\"title\":{\"standoff\":15},\"zerolinecolor\":\"white\",\"automargin\":true,\"zerolinewidth\":2},\"yaxis\":{\"gridcolor\":\"white\",\"linecolor\":\"white\",\"ticks\":\"\",\"title\":{\"standoff\":15},\"zerolinecolor\":\"white\",\"automargin\":true,\"zerolinewidth\":2},\"scene\":{\"xaxis\":{\"backgroundcolor\":\"#E5ECF6\",\"gridcolor\":\"white\",\"linecolor\":\"white\",\"showbackground\":true,\"ticks\":\"\",\"zerolinecolor\":\"white\",\"gridwidth\":2},\"yaxis\":{\"backgroundcolor\":\"#E5ECF6\",\"gridcolor\":\"white\",\"linecolor\":\"white\",\"showbackground\":true,\"ticks\":\"\",\"zerolinecolor\":\"white\",\"gridwidth\":2},\"zaxis\":{\"backgroundcolor\":\"#E5ECF6\",\"gridcolor\":\"white\",\"linecolor\":\"white\",\"showbackground\":true,\"ticks\":\"\",\"zerolinecolor\":\"white\",\"gridwidth\":2}},\"shapedefaults\":{\"line\":{\"color\":\"#2a3f5f\"}},\"annotationdefaults\":{\"arrowcolor\":\"#2a3f5f\",\"arrowhead\":0,\"arrowwidth\":1},\"geo\":{\"bgcolor\":\"white\",\"landcolor\":\"#E5ECF6\",\"subunitcolor\":\"white\",\"showland\":true,\"showlakes\":true,\"lakecolor\":\"white\"},\"title\":{\"x\":0.05},\"mapbox\":{\"style\":\"light\"}}},\"xaxis\":{\"anchor\":\"y\",\"domain\":[0.0,1.0],\"title\":{\"text\":\"Year\"},\"minor\":{\"ticklen\":5,\"tickcolor\":\"black\",\"showgrid\":true},\"tickangle\":45},\"yaxis\":{\"anchor\":\"x\",\"domain\":[0.0,1.0],\"title\":{\"text\":\"Combine MPG Average\"}},\"legend\":{\"title\":{\"text\":\"Vehicle Class\"},\"tracegroupgap\":0},\"margin\":{\"t\":60},\"title\":{\"text\":\"Average Combine MPG per Vehicle Class per Year\"}},                        {\"responsive\": true}                    ).then(function(){\n",
       "                            \n",
       "var gd = document.getElementById('8710ebd7-3f18-42fc-aca6-c547351874e0');\n",
       "var x = new MutationObserver(function (mutations, observer) {{\n",
       "        var display = window.getComputedStyle(gd).display;\n",
       "        if (!display || display === 'none') {{\n",
       "            console.log([gd, 'removed!']);\n",
       "            Plotly.purge(gd);\n",
       "            observer.disconnect();\n",
       "        }}\n",
       "}});\n",
       "\n",
       "// Listen for the removal of the full notebook cells\n",
       "var notebookContainer = gd.closest('#notebook-container');\n",
       "if (notebookContainer) {{\n",
       "    x.observe(notebookContainer, {childList: true});\n",
       "}}\n",
       "\n",
       "// Listen for the clearing of the current output cell\n",
       "var outputEl = gd.closest('.output');\n",
       "if (outputEl) {{\n",
       "    x.observe(outputEl, {childList: true});\n",
       "}}\n",
       "\n",
       "                        })                };                });            </script>        </div>"
      ]
     },
     "metadata": {},
     "output_type": "display_data"
    }
   ],
   "source": [
    "Year = [x[0] for x in data_to_display.index]\n",
    "CombineMPG = data_to_display['COMB (mpg)']['mean'].values.tolist()\n",
    "VehicleClass = [x[1] for x in data_to_display.index]\n",
    "\n",
    "\n",
    "fig = px.line(x=Year,\n",
    "              y=CombineMPG, \n",
    "              symbol=VehicleClass,\n",
    "              color=VehicleClass,\n",
    "              markers=True\n",
    "              )\n",
    "\n",
    "fig.update_layout(title='Average Combine MPG per Vehicle Class per Year',\n",
    "                  xaxis_title='Year',\n",
    "                  yaxis_title='Combine MPG Average',\n",
    "                  legend_title='Vehicle Class'\n",
    "                  )\n",
    "#fig.update_xaxes(tickvals=Year, tickangle=45)\n",
    "fig.update_xaxes(tickangle=45,minor=dict(ticklen=5, tickcolor=\"black\", showgrid=True))\n",
    "                 \n",
    "fig.show()\n",
    "\n",
    " "
   ]
  },
  {
   "cell_type": "code",
   "execution_count": 6,
   "id": "8a5caa72",
   "metadata": {},
   "outputs": [
    {
     "data": {
      "application/vnd.plotly.v1+json": {
       "config": {
        "plotlyServerURL": "https://plot.ly"
       },
       "data": [
        {
         "hovertemplate": "color=COMPACT<br>animation_frame=2000<br>x=%{x}<br>y=%{y}<extra></extra>",
         "ids": [
          "COMPACT"
         ],
         "legendgroup": "COMPACT",
         "line": {
          "color": "#2E91E5",
          "dash": "solid"
         },
         "marker": {
          "symbol": "circle"
         },
         "mode": "markers+lines",
         "name": "COMPACT",
         "orientation": "v",
         "showlegend": true,
         "type": "scatter",
         "x": [
          2000
         ],
         "xaxis": "x",
         "y": [
          31.504761904761907
         ],
         "yaxis": "y"
        },
        {
         "hovertemplate": "color=FULL-SIZE<br>animation_frame=2000<br>x=%{x}<br>y=%{y}<extra></extra>",
         "ids": [
          "FULL-SIZE"
         ],
         "legendgroup": "FULL-SIZE",
         "line": {
          "color": "#E15F99",
          "dash": "solid"
         },
         "marker": {
          "symbol": "circle"
         },
         "mode": "markers+lines",
         "name": "FULL-SIZE",
         "orientation": "v",
         "showlegend": true,
         "type": "scatter",
         "x": [
          2000
         ],
         "xaxis": "x",
         "y": [
          26.428571428571427
         ],
         "yaxis": "y"
        },
        {
         "hovertemplate": "color=MID-SIZE<br>animation_frame=2000<br>x=%{x}<br>y=%{y}<extra></extra>",
         "ids": [
          "MID-SIZE"
         ],
         "legendgroup": "MID-SIZE",
         "line": {
          "color": "#1CA71C",
          "dash": "solid"
         },
         "marker": {
          "symbol": "circle"
         },
         "mode": "markers+lines",
         "name": "MID-SIZE",
         "orientation": "v",
         "showlegend": true,
         "type": "scatter",
         "x": [
          2000
         ],
         "xaxis": "x",
         "y": [
          27.441558441558442
         ],
         "yaxis": "y"
        },
        {
         "hovertemplate": "color=MINICOMPACT<br>animation_frame=2000<br>x=%{x}<br>y=%{y}<extra></extra>",
         "ids": [
          "MINICOMPACT"
         ],
         "legendgroup": "MINICOMPACT",
         "line": {
          "color": "#FB0D0D",
          "dash": "solid"
         },
         "marker": {
          "symbol": "circle"
         },
         "mode": "markers+lines",
         "name": "MINICOMPACT",
         "orientation": "v",
         "showlegend": true,
         "type": "scatter",
         "x": [
          2000
         ],
         "xaxis": "x",
         "y": [
          25.636363636363637
         ],
         "yaxis": "y"
        },
        {
         "hovertemplate": "color=MINIVAN<br>animation_frame=2000<br>x=%{x}<br>y=%{y}<extra></extra>",
         "ids": [
          "MINIVAN"
         ],
         "legendgroup": "MINIVAN",
         "line": {
          "color": "#DA16FF",
          "dash": "solid"
         },
         "marker": {
          "symbol": "circle"
         },
         "mode": "markers+lines",
         "name": "MINIVAN",
         "orientation": "v",
         "showlegend": true,
         "type": "scatter",
         "x": [
          2000
         ],
         "xaxis": "x",
         "y": [
          23.96153846153846
         ],
         "yaxis": "y"
        },
        {
         "hovertemplate": "color=PICKUP TRUCK - SMALL<br>animation_frame=2000<br>x=%{x}<br>y=%{y}<extra></extra>",
         "ids": [
          "PICKUP TRUCK - SMALL"
         ],
         "legendgroup": "PICKUP TRUCK - SMALL",
         "line": {
          "color": "#222A2A",
          "dash": "solid"
         },
         "marker": {
          "symbol": "circle"
         },
         "mode": "markers+lines",
         "name": "PICKUP TRUCK - SMALL",
         "orientation": "v",
         "showlegend": true,
         "type": "scatter",
         "x": [
          2000
         ],
         "xaxis": "x",
         "y": [
          26.272727272727273
         ],
         "yaxis": "y"
        },
        {
         "hovertemplate": "color=PICKUP TRUCK - STANDARD<br>animation_frame=2000<br>x=%{x}<br>y=%{y}<extra></extra>",
         "ids": [
          "PICKUP TRUCK - STANDARD"
         ],
         "legendgroup": "PICKUP TRUCK - STANDARD",
         "line": {
          "color": "#B68100",
          "dash": "solid"
         },
         "marker": {
          "symbol": "circle"
         },
         "mode": "markers+lines",
         "name": "PICKUP TRUCK - STANDARD",
         "orientation": "v",
         "showlegend": true,
         "type": "scatter",
         "x": [
          2000
         ],
         "xaxis": "x",
         "y": [
          20.945652173913043
         ],
         "yaxis": "y"
        },
        {
         "hovertemplate": "color=STATION WAGON - MID-SIZE<br>animation_frame=2000<br>x=%{x}<br>y=%{y}<extra></extra>",
         "ids": [
          "STATION WAGON - MID-SIZE"
         ],
         "legendgroup": "STATION WAGON - MID-SIZE",
         "line": {
          "color": "#750D86",
          "dash": "solid"
         },
         "marker": {
          "symbol": "circle"
         },
         "mode": "markers+lines",
         "name": "STATION WAGON - MID-SIZE",
         "orientation": "v",
         "showlegend": true,
         "type": "scatter",
         "x": [
          2000
         ],
         "xaxis": "x",
         "y": [
          28.44
         ],
         "yaxis": "y"
        },
        {
         "hovertemplate": "color=STATION WAGON - SMALL<br>animation_frame=2000<br>x=%{x}<br>y=%{y}<extra></extra>",
         "ids": [
          "STATION WAGON - SMALL"
         ],
         "legendgroup": "STATION WAGON - SMALL",
         "line": {
          "color": "#EB663B",
          "dash": "solid"
         },
         "marker": {
          "symbol": "circle"
         },
         "mode": "markers+lines",
         "name": "STATION WAGON - SMALL",
         "orientation": "v",
         "showlegend": true,
         "type": "scatter",
         "x": [
          2000
         ],
         "xaxis": "x",
         "y": [
          31.692307692307693
         ],
         "yaxis": "y"
        },
        {
         "hovertemplate": "color=SUBCOMPACT<br>animation_frame=2000<br>x=%{x}<br>y=%{y}<extra></extra>",
         "ids": [
          "SUBCOMPACT"
         ],
         "legendgroup": "SUBCOMPACT",
         "line": {
          "color": "#511CFB",
          "dash": "solid"
         },
         "marker": {
          "symbol": "circle"
         },
         "mode": "markers+lines",
         "name": "SUBCOMPACT",
         "orientation": "v",
         "showlegend": true,
         "type": "scatter",
         "x": [
          2000
         ],
         "xaxis": "x",
         "y": [
          31.48076923076923
         ],
         "yaxis": "y"
        },
        {
         "hovertemplate": "color=SUV<br>animation_frame=2000<br>x=%{x}<br>y=%{y}<extra></extra>",
         "ids": [
          "SUV"
         ],
         "legendgroup": "SUV",
         "line": {
          "color": "#00A08B",
          "dash": "solid"
         },
         "marker": {
          "symbol": "circle"
         },
         "mode": "markers+lines",
         "name": "SUV",
         "orientation": "v",
         "showlegend": true,
         "type": "scatter",
         "x": [
          2000
         ],
         "xaxis": "x",
         "y": [
          22.84536082474227
         ],
         "yaxis": "y"
        },
        {
         "hovertemplate": "color=TWO-SEATER<br>animation_frame=2000<br>x=%{x}<br>y=%{y}<extra></extra>",
         "ids": [
          "TWO-SEATER"
         ],
         "legendgroup": "TWO-SEATER",
         "line": {
          "color": "#FB00D1",
          "dash": "solid"
         },
         "marker": {
          "symbol": "circle"
         },
         "mode": "markers+lines",
         "name": "TWO-SEATER",
         "orientation": "v",
         "showlegend": true,
         "type": "scatter",
         "x": [
          2000
         ],
         "xaxis": "x",
         "y": [
          23.4
         ],
         "yaxis": "y"
        },
        {
         "hovertemplate": "color=VAN - CARGO<br>animation_frame=2000<br>x=%{x}<br>y=%{y}<extra></extra>",
         "ids": [
          "VAN - CARGO"
         ],
         "legendgroup": "VAN - CARGO",
         "line": {
          "color": "#FC0080",
          "dash": "solid"
         },
         "marker": {
          "symbol": "circle"
         },
         "mode": "markers+lines",
         "name": "VAN - CARGO",
         "orientation": "v",
         "showlegend": true,
         "type": "scatter",
         "x": [
          2000
         ],
         "xaxis": "x",
         "y": [
          19.82608695652174
         ],
         "yaxis": "y"
        },
        {
         "hovertemplate": "color=VAN - PASSENGER<br>animation_frame=2000<br>x=%{x}<br>y=%{y}<extra></extra>",
         "ids": [
          "VAN - PASSENGER"
         ],
         "legendgroup": "VAN - PASSENGER",
         "line": {
          "color": "#B2828D",
          "dash": "solid"
         },
         "marker": {
          "symbol": "circle"
         },
         "mode": "markers+lines",
         "name": "VAN - PASSENGER",
         "orientation": "v",
         "showlegend": true,
         "type": "scatter",
         "x": [
          2000
         ],
         "xaxis": "x",
         "y": [
          18.647058823529413
         ],
         "yaxis": "y"
        }
       ],
       "frames": [
        {
         "data": [
          {
           "hovertemplate": "color=COMPACT<br>animation_frame=2000<br>x=%{x}<br>y=%{y}<extra></extra>",
           "ids": [
            "COMPACT"
           ],
           "legendgroup": "COMPACT",
           "line": {
            "color": "#2E91E5",
            "dash": "solid"
           },
           "marker": {
            "symbol": "circle"
           },
           "mode": "markers+lines",
           "name": "COMPACT",
           "orientation": "v",
           "showlegend": true,
           "type": "scatter",
           "x": [
            2000
           ],
           "xaxis": "x",
           "y": [
            31.504761904761907
           ],
           "yaxis": "y"
          },
          {
           "hovertemplate": "color=FULL-SIZE<br>animation_frame=2000<br>x=%{x}<br>y=%{y}<extra></extra>",
           "ids": [
            "FULL-SIZE"
           ],
           "legendgroup": "FULL-SIZE",
           "line": {
            "color": "#E15F99",
            "dash": "solid"
           },
           "marker": {
            "symbol": "circle"
           },
           "mode": "markers+lines",
           "name": "FULL-SIZE",
           "orientation": "v",
           "showlegend": true,
           "type": "scatter",
           "x": [
            2000
           ],
           "xaxis": "x",
           "y": [
            26.428571428571427
           ],
           "yaxis": "y"
          },
          {
           "hovertemplate": "color=MID-SIZE<br>animation_frame=2000<br>x=%{x}<br>y=%{y}<extra></extra>",
           "ids": [
            "MID-SIZE"
           ],
           "legendgroup": "MID-SIZE",
           "line": {
            "color": "#1CA71C",
            "dash": "solid"
           },
           "marker": {
            "symbol": "circle"
           },
           "mode": "markers+lines",
           "name": "MID-SIZE",
           "orientation": "v",
           "showlegend": true,
           "type": "scatter",
           "x": [
            2000
           ],
           "xaxis": "x",
           "y": [
            27.441558441558442
           ],
           "yaxis": "y"
          },
          {
           "hovertemplate": "color=MINICOMPACT<br>animation_frame=2000<br>x=%{x}<br>y=%{y}<extra></extra>",
           "ids": [
            "MINICOMPACT"
           ],
           "legendgroup": "MINICOMPACT",
           "line": {
            "color": "#FB0D0D",
            "dash": "solid"
           },
           "marker": {
            "symbol": "circle"
           },
           "mode": "markers+lines",
           "name": "MINICOMPACT",
           "orientation": "v",
           "showlegend": true,
           "type": "scatter",
           "x": [
            2000
           ],
           "xaxis": "x",
           "y": [
            25.636363636363637
           ],
           "yaxis": "y"
          },
          {
           "hovertemplate": "color=MINIVAN<br>animation_frame=2000<br>x=%{x}<br>y=%{y}<extra></extra>",
           "ids": [
            "MINIVAN"
           ],
           "legendgroup": "MINIVAN",
           "line": {
            "color": "#DA16FF",
            "dash": "solid"
           },
           "marker": {
            "symbol": "circle"
           },
           "mode": "markers+lines",
           "name": "MINIVAN",
           "orientation": "v",
           "showlegend": true,
           "type": "scatter",
           "x": [
            2000
           ],
           "xaxis": "x",
           "y": [
            23.96153846153846
           ],
           "yaxis": "y"
          },
          {
           "hovertemplate": "color=PICKUP TRUCK - SMALL<br>animation_frame=2000<br>x=%{x}<br>y=%{y}<extra></extra>",
           "ids": [
            "PICKUP TRUCK - SMALL"
           ],
           "legendgroup": "PICKUP TRUCK - SMALL",
           "line": {
            "color": "#222A2A",
            "dash": "solid"
           },
           "marker": {
            "symbol": "circle"
           },
           "mode": "markers+lines",
           "name": "PICKUP TRUCK - SMALL",
           "orientation": "v",
           "showlegend": true,
           "type": "scatter",
           "x": [
            2000
           ],
           "xaxis": "x",
           "y": [
            26.272727272727273
           ],
           "yaxis": "y"
          },
          {
           "hovertemplate": "color=PICKUP TRUCK - STANDARD<br>animation_frame=2000<br>x=%{x}<br>y=%{y}<extra></extra>",
           "ids": [
            "PICKUP TRUCK - STANDARD"
           ],
           "legendgroup": "PICKUP TRUCK - STANDARD",
           "line": {
            "color": "#B68100",
            "dash": "solid"
           },
           "marker": {
            "symbol": "circle"
           },
           "mode": "markers+lines",
           "name": "PICKUP TRUCK - STANDARD",
           "orientation": "v",
           "showlegend": true,
           "type": "scatter",
           "x": [
            2000
           ],
           "xaxis": "x",
           "y": [
            20.945652173913043
           ],
           "yaxis": "y"
          },
          {
           "hovertemplate": "color=STATION WAGON - MID-SIZE<br>animation_frame=2000<br>x=%{x}<br>y=%{y}<extra></extra>",
           "ids": [
            "STATION WAGON - MID-SIZE"
           ],
           "legendgroup": "STATION WAGON - MID-SIZE",
           "line": {
            "color": "#750D86",
            "dash": "solid"
           },
           "marker": {
            "symbol": "circle"
           },
           "mode": "markers+lines",
           "name": "STATION WAGON - MID-SIZE",
           "orientation": "v",
           "showlegend": true,
           "type": "scatter",
           "x": [
            2000
           ],
           "xaxis": "x",
           "y": [
            28.44
           ],
           "yaxis": "y"
          },
          {
           "hovertemplate": "color=STATION WAGON - SMALL<br>animation_frame=2000<br>x=%{x}<br>y=%{y}<extra></extra>",
           "ids": [
            "STATION WAGON - SMALL"
           ],
           "legendgroup": "STATION WAGON - SMALL",
           "line": {
            "color": "#EB663B",
            "dash": "solid"
           },
           "marker": {
            "symbol": "circle"
           },
           "mode": "markers+lines",
           "name": "STATION WAGON - SMALL",
           "orientation": "v",
           "showlegend": true,
           "type": "scatter",
           "x": [
            2000
           ],
           "xaxis": "x",
           "y": [
            31.692307692307693
           ],
           "yaxis": "y"
          },
          {
           "hovertemplate": "color=SUBCOMPACT<br>animation_frame=2000<br>x=%{x}<br>y=%{y}<extra></extra>",
           "ids": [
            "SUBCOMPACT"
           ],
           "legendgroup": "SUBCOMPACT",
           "line": {
            "color": "#511CFB",
            "dash": "solid"
           },
           "marker": {
            "symbol": "circle"
           },
           "mode": "markers+lines",
           "name": "SUBCOMPACT",
           "orientation": "v",
           "showlegend": true,
           "type": "scatter",
           "x": [
            2000
           ],
           "xaxis": "x",
           "y": [
            31.48076923076923
           ],
           "yaxis": "y"
          },
          {
           "hovertemplate": "color=SUV<br>animation_frame=2000<br>x=%{x}<br>y=%{y}<extra></extra>",
           "ids": [
            "SUV"
           ],
           "legendgroup": "SUV",
           "line": {
            "color": "#00A08B",
            "dash": "solid"
           },
           "marker": {
            "symbol": "circle"
           },
           "mode": "markers+lines",
           "name": "SUV",
           "orientation": "v",
           "showlegend": true,
           "type": "scatter",
           "x": [
            2000
           ],
           "xaxis": "x",
           "y": [
            22.84536082474227
           ],
           "yaxis": "y"
          },
          {
           "hovertemplate": "color=TWO-SEATER<br>animation_frame=2000<br>x=%{x}<br>y=%{y}<extra></extra>",
           "ids": [
            "TWO-SEATER"
           ],
           "legendgroup": "TWO-SEATER",
           "line": {
            "color": "#FB00D1",
            "dash": "solid"
           },
           "marker": {
            "symbol": "circle"
           },
           "mode": "markers+lines",
           "name": "TWO-SEATER",
           "orientation": "v",
           "showlegend": true,
           "type": "scatter",
           "x": [
            2000
           ],
           "xaxis": "x",
           "y": [
            23.4
           ],
           "yaxis": "y"
          },
          {
           "hovertemplate": "color=VAN - CARGO<br>animation_frame=2000<br>x=%{x}<br>y=%{y}<extra></extra>",
           "ids": [
            "VAN - CARGO"
           ],
           "legendgroup": "VAN - CARGO",
           "line": {
            "color": "#FC0080",
            "dash": "solid"
           },
           "marker": {
            "symbol": "circle"
           },
           "mode": "markers+lines",
           "name": "VAN - CARGO",
           "orientation": "v",
           "showlegend": true,
           "type": "scatter",
           "x": [
            2000
           ],
           "xaxis": "x",
           "y": [
            19.82608695652174
           ],
           "yaxis": "y"
          },
          {
           "hovertemplate": "color=VAN - PASSENGER<br>animation_frame=2000<br>x=%{x}<br>y=%{y}<extra></extra>",
           "ids": [
            "VAN - PASSENGER"
           ],
           "legendgroup": "VAN - PASSENGER",
           "line": {
            "color": "#B2828D",
            "dash": "solid"
           },
           "marker": {
            "symbol": "circle"
           },
           "mode": "markers+lines",
           "name": "VAN - PASSENGER",
           "orientation": "v",
           "showlegend": true,
           "type": "scatter",
           "x": [
            2000
           ],
           "xaxis": "x",
           "y": [
            18.647058823529413
           ],
           "yaxis": "y"
          }
         ],
         "name": "2000"
        },
        {
         "data": [
          {
           "hovertemplate": "color=COMPACT<br>animation_frame=2001<br>x=%{x}<br>y=%{y}<extra></extra>",
           "ids": [
            "COMPACT"
           ],
           "legendgroup": "COMPACT",
           "line": {
            "color": "#2E91E5",
            "dash": "solid"
           },
           "marker": {
            "symbol": "circle"
           },
           "mode": "markers+lines",
           "name": "COMPACT",
           "orientation": "v",
           "showlegend": true,
           "type": "scatter",
           "x": [
            2001
           ],
           "xaxis": "x",
           "y": [
            31.93793103448276
           ],
           "yaxis": "y"
          },
          {
           "hovertemplate": "color=FULL-SIZE<br>animation_frame=2001<br>x=%{x}<br>y=%{y}<extra></extra>",
           "ids": [
            "FULL-SIZE"
           ],
           "legendgroup": "FULL-SIZE",
           "line": {
            "color": "#E15F99",
            "dash": "solid"
           },
           "marker": {
            "symbol": "circle"
           },
           "mode": "markers+lines",
           "name": "FULL-SIZE",
           "orientation": "v",
           "showlegend": true,
           "type": "scatter",
           "x": [
            2001
           ],
           "xaxis": "x",
           "y": [
            26.033333333333335
           ],
           "yaxis": "y"
          },
          {
           "hovertemplate": "color=MID-SIZE<br>animation_frame=2001<br>x=%{x}<br>y=%{y}<extra></extra>",
           "ids": [
            "MID-SIZE"
           ],
           "legendgroup": "MID-SIZE",
           "line": {
            "color": "#1CA71C",
            "dash": "solid"
           },
           "marker": {
            "symbol": "circle"
           },
           "mode": "markers+lines",
           "name": "MID-SIZE",
           "orientation": "v",
           "showlegend": true,
           "type": "scatter",
           "x": [
            2001
           ],
           "xaxis": "x",
           "y": [
            27.353658536585368
           ],
           "yaxis": "y"
          },
          {
           "hovertemplate": "color=MINICOMPACT<br>animation_frame=2001<br>x=%{x}<br>y=%{y}<extra></extra>",
           "ids": [
            "MINICOMPACT"
           ],
           "legendgroup": "MINICOMPACT",
           "line": {
            "color": "#FB0D0D",
            "dash": "solid"
           },
           "marker": {
            "symbol": "circle"
           },
           "mode": "markers+lines",
           "name": "MINICOMPACT",
           "orientation": "v",
           "showlegend": true,
           "type": "scatter",
           "x": [
            2001
           ],
           "xaxis": "x",
           "y": [
            25.235294117647058
           ],
           "yaxis": "y"
          },
          {
           "hovertemplate": "color=MINIVAN<br>animation_frame=2001<br>x=%{x}<br>y=%{y}<extra></extra>",
           "ids": [
            "MINIVAN"
           ],
           "legendgroup": "MINIVAN",
           "line": {
            "color": "#DA16FF",
            "dash": "solid"
           },
           "marker": {
            "symbol": "circle"
           },
           "mode": "markers+lines",
           "name": "MINIVAN",
           "orientation": "v",
           "showlegend": true,
           "type": "scatter",
           "x": [
            2001
           ],
           "xaxis": "x",
           "y": [
            24.88235294117647
           ],
           "yaxis": "y"
          },
          {
           "hovertemplate": "color=PICKUP TRUCK - SMALL<br>animation_frame=2001<br>x=%{x}<br>y=%{y}<extra></extra>",
           "ids": [
            "PICKUP TRUCK - SMALL"
           ],
           "legendgroup": "PICKUP TRUCK - SMALL",
           "line": {
            "color": "#222A2A",
            "dash": "solid"
           },
           "marker": {
            "symbol": "circle"
           },
           "mode": "markers+lines",
           "name": "PICKUP TRUCK - SMALL",
           "orientation": "v",
           "showlegend": true,
           "type": "scatter",
           "x": [
            2001
           ],
           "xaxis": "x",
           "y": [
            23.5
           ],
           "yaxis": "y"
          },
          {
           "hovertemplate": "color=PICKUP TRUCK - STANDARD<br>animation_frame=2001<br>x=%{x}<br>y=%{y}<extra></extra>",
           "ids": [
            "PICKUP TRUCK - STANDARD"
           ],
           "legendgroup": "PICKUP TRUCK - STANDARD",
           "line": {
            "color": "#B68100",
            "dash": "solid"
           },
           "marker": {
            "symbol": "circle"
           },
           "mode": "markers+lines",
           "name": "PICKUP TRUCK - STANDARD",
           "orientation": "v",
           "showlegend": true,
           "type": "scatter",
           "x": [
            2001
           ],
           "xaxis": "x",
           "y": [
            20.792079207920793
           ],
           "yaxis": "y"
          },
          {
           "hovertemplate": "color=STATION WAGON - MID-SIZE<br>animation_frame=2001<br>x=%{x}<br>y=%{y}<extra></extra>",
           "ids": [
            "STATION WAGON - MID-SIZE"
           ],
           "legendgroup": "STATION WAGON - MID-SIZE",
           "line": {
            "color": "#750D86",
            "dash": "solid"
           },
           "marker": {
            "symbol": "circle"
           },
           "mode": "markers+lines",
           "name": "STATION WAGON - MID-SIZE",
           "orientation": "v",
           "showlegend": true,
           "type": "scatter",
           "x": [
            2001
           ],
           "xaxis": "x",
           "y": [
            28.870967741935484
           ],
           "yaxis": "y"
          },
          {
           "hovertemplate": "color=STATION WAGON - SMALL<br>animation_frame=2001<br>x=%{x}<br>y=%{y}<extra></extra>",
           "ids": [
            "STATION WAGON - SMALL"
           ],
           "legendgroup": "STATION WAGON - SMALL",
           "line": {
            "color": "#EB663B",
            "dash": "solid"
           },
           "marker": {
            "symbol": "circle"
           },
           "mode": "markers+lines",
           "name": "STATION WAGON - SMALL",
           "orientation": "v",
           "showlegend": true,
           "type": "scatter",
           "x": [
            2001
           ],
           "xaxis": "x",
           "y": [
            31.916666666666668
           ],
           "yaxis": "y"
          },
          {
           "hovertemplate": "color=SUBCOMPACT<br>animation_frame=2001<br>x=%{x}<br>y=%{y}<extra></extra>",
           "ids": [
            "SUBCOMPACT"
           ],
           "legendgroup": "SUBCOMPACT",
           "line": {
            "color": "#511CFB",
            "dash": "solid"
           },
           "marker": {
            "symbol": "circle"
           },
           "mode": "markers+lines",
           "name": "SUBCOMPACT",
           "orientation": "v",
           "showlegend": true,
           "type": "scatter",
           "x": [
            2001
           ],
           "xaxis": "x",
           "y": [
            31.258064516129032
           ],
           "yaxis": "y"
          },
          {
           "hovertemplate": "color=SUV<br>animation_frame=2001<br>x=%{x}<br>y=%{y}<extra></extra>",
           "ids": [
            "SUV"
           ],
           "legendgroup": "SUV",
           "line": {
            "color": "#00A08B",
            "dash": "solid"
           },
           "marker": {
            "symbol": "circle"
           },
           "mode": "markers+lines",
           "name": "SUV",
           "orientation": "v",
           "showlegend": true,
           "type": "scatter",
           "x": [
            2001
           ],
           "xaxis": "x",
           "y": [
            23.081632653061224
           ],
           "yaxis": "y"
          },
          {
           "hovertemplate": "color=TWO-SEATER<br>animation_frame=2001<br>x=%{x}<br>y=%{y}<extra></extra>",
           "ids": [
            "TWO-SEATER"
           ],
           "legendgroup": "TWO-SEATER",
           "line": {
            "color": "#FB00D1",
            "dash": "solid"
           },
           "marker": {
            "symbol": "circle"
           },
           "mode": "markers+lines",
           "name": "TWO-SEATER",
           "orientation": "v",
           "showlegend": true,
           "type": "scatter",
           "x": [
            2001
           ],
           "xaxis": "x",
           "y": [
            27.548387096774192
           ],
           "yaxis": "y"
          },
          {
           "hovertemplate": "color=VAN - CARGO<br>animation_frame=2001<br>x=%{x}<br>y=%{y}<extra></extra>",
           "ids": [
            "VAN - CARGO"
           ],
           "legendgroup": "VAN - CARGO",
           "line": {
            "color": "#FC0080",
            "dash": "solid"
           },
           "marker": {
            "symbol": "circle"
           },
           "mode": "markers+lines",
           "name": "VAN - CARGO",
           "orientation": "v",
           "showlegend": true,
           "type": "scatter",
           "x": [
            2001
           ],
           "xaxis": "x",
           "y": [
            19.26086956521739
           ],
           "yaxis": "y"
          },
          {
           "hovertemplate": "color=VAN - PASSENGER<br>animation_frame=2001<br>x=%{x}<br>y=%{y}<extra></extra>",
           "ids": [
            "VAN - PASSENGER"
           ],
           "legendgroup": "VAN - PASSENGER",
           "line": {
            "color": "#B2828D",
            "dash": "solid"
           },
           "marker": {
            "symbol": "circle"
           },
           "mode": "markers+lines",
           "name": "VAN - PASSENGER",
           "orientation": "v",
           "showlegend": true,
           "type": "scatter",
           "x": [
            2001
           ],
           "xaxis": "x",
           "y": [
            19.055555555555557
           ],
           "yaxis": "y"
          }
         ],
         "name": "2001"
        },
        {
         "data": [
          {
           "hovertemplate": "color=COMPACT<br>animation_frame=2002<br>x=%{x}<br>y=%{y}<extra></extra>",
           "ids": [
            "COMPACT"
           ],
           "legendgroup": "COMPACT",
           "line": {
            "color": "#2E91E5",
            "dash": "solid"
           },
           "marker": {
            "symbol": "circle"
           },
           "mode": "markers+lines",
           "name": "COMPACT",
           "orientation": "v",
           "showlegend": true,
           "type": "scatter",
           "x": [
            2002
           ],
           "xaxis": "x",
           "y": [
            31.969924812030076
           ],
           "yaxis": "y"
          },
          {
           "hovertemplate": "color=FULL-SIZE<br>animation_frame=2002<br>x=%{x}<br>y=%{y}<extra></extra>",
           "ids": [
            "FULL-SIZE"
           ],
           "legendgroup": "FULL-SIZE",
           "line": {
            "color": "#E15F99",
            "dash": "solid"
           },
           "marker": {
            "symbol": "circle"
           },
           "mode": "markers+lines",
           "name": "FULL-SIZE",
           "orientation": "v",
           "showlegend": true,
           "type": "scatter",
           "x": [
            2002
           ],
           "xaxis": "x",
           "y": [
            25.689655172413794
           ],
           "yaxis": "y"
          },
          {
           "hovertemplate": "color=MID-SIZE<br>animation_frame=2002<br>x=%{x}<br>y=%{y}<extra></extra>",
           "ids": [
            "MID-SIZE"
           ],
           "legendgroup": "MID-SIZE",
           "line": {
            "color": "#1CA71C",
            "dash": "solid"
           },
           "marker": {
            "symbol": "circle"
           },
           "mode": "markers+lines",
           "name": "MID-SIZE",
           "orientation": "v",
           "showlegend": true,
           "type": "scatter",
           "x": [
            2002
           ],
           "xaxis": "x",
           "y": [
            27.444444444444443
           ],
           "yaxis": "y"
          },
          {
           "hovertemplate": "color=MINICOMPACT<br>animation_frame=2002<br>x=%{x}<br>y=%{y}<extra></extra>",
           "ids": [
            "MINICOMPACT"
           ],
           "legendgroup": "MINICOMPACT",
           "line": {
            "color": "#FB0D0D",
            "dash": "solid"
           },
           "marker": {
            "symbol": "circle"
           },
           "mode": "markers+lines",
           "name": "MINICOMPACT",
           "orientation": "v",
           "showlegend": true,
           "type": "scatter",
           "x": [
            2002
           ],
           "xaxis": "x",
           "y": [
            25.363636363636363
           ],
           "yaxis": "y"
          },
          {
           "hovertemplate": "color=MINIVAN<br>animation_frame=2002<br>x=%{x}<br>y=%{y}<extra></extra>",
           "ids": [
            "MINIVAN"
           ],
           "legendgroup": "MINIVAN",
           "line": {
            "color": "#DA16FF",
            "dash": "solid"
           },
           "marker": {
            "symbol": "circle"
           },
           "mode": "markers+lines",
           "name": "MINIVAN",
           "orientation": "v",
           "showlegend": true,
           "type": "scatter",
           "x": [
            2002
           ],
           "xaxis": "x",
           "y": [
            24.545454545454547
           ],
           "yaxis": "y"
          },
          {
           "hovertemplate": "color=PICKUP TRUCK - SMALL<br>animation_frame=2002<br>x=%{x}<br>y=%{y}<extra></extra>",
           "ids": [
            "PICKUP TRUCK - SMALL"
           ],
           "legendgroup": "PICKUP TRUCK - SMALL",
           "line": {
            "color": "#222A2A",
            "dash": "solid"
           },
           "marker": {
            "symbol": "circle"
           },
           "mode": "markers+lines",
           "name": "PICKUP TRUCK - SMALL",
           "orientation": "v",
           "showlegend": true,
           "type": "scatter",
           "x": [
            2002
           ],
           "xaxis": "x",
           "y": [
            23.166666666666668
           ],
           "yaxis": "y"
          },
          {
           "hovertemplate": "color=PICKUP TRUCK - STANDARD<br>animation_frame=2002<br>x=%{x}<br>y=%{y}<extra></extra>",
           "ids": [
            "PICKUP TRUCK - STANDARD"
           ],
           "legendgroup": "PICKUP TRUCK - STANDARD",
           "line": {
            "color": "#B68100",
            "dash": "solid"
           },
           "marker": {
            "symbol": "circle"
           },
           "mode": "markers+lines",
           "name": "PICKUP TRUCK - STANDARD",
           "orientation": "v",
           "showlegend": true,
           "type": "scatter",
           "x": [
            2002
           ],
           "xaxis": "x",
           "y": [
            20.177570093457945
           ],
           "yaxis": "y"
          },
          {
           "hovertemplate": "color=STATION WAGON - MID-SIZE<br>animation_frame=2002<br>x=%{x}<br>y=%{y}<extra></extra>",
           "ids": [
            "STATION WAGON - MID-SIZE"
           ],
           "legendgroup": "STATION WAGON - MID-SIZE",
           "line": {
            "color": "#750D86",
            "dash": "solid"
           },
           "marker": {
            "symbol": "circle"
           },
           "mode": "markers+lines",
           "name": "STATION WAGON - MID-SIZE",
           "orientation": "v",
           "showlegend": true,
           "type": "scatter",
           "x": [
            2002
           ],
           "xaxis": "x",
           "y": [
            29.15625
           ],
           "yaxis": "y"
          },
          {
           "hovertemplate": "color=STATION WAGON - SMALL<br>animation_frame=2002<br>x=%{x}<br>y=%{y}<extra></extra>",
           "ids": [
            "STATION WAGON - SMALL"
           ],
           "legendgroup": "STATION WAGON - SMALL",
           "line": {
            "color": "#EB663B",
            "dash": "solid"
           },
           "marker": {
            "symbol": "circle"
           },
           "mode": "markers+lines",
           "name": "STATION WAGON - SMALL",
           "orientation": "v",
           "showlegend": true,
           "type": "scatter",
           "x": [
            2002
           ],
           "xaxis": "x",
           "y": [
            29.27777777777778
           ],
           "yaxis": "y"
          },
          {
           "hovertemplate": "color=SUBCOMPACT<br>animation_frame=2002<br>x=%{x}<br>y=%{y}<extra></extra>",
           "ids": [
            "SUBCOMPACT"
           ],
           "legendgroup": "SUBCOMPACT",
           "line": {
            "color": "#511CFB",
            "dash": "solid"
           },
           "marker": {
            "symbol": "circle"
           },
           "mode": "markers+lines",
           "name": "SUBCOMPACT",
           "orientation": "v",
           "showlegend": true,
           "type": "scatter",
           "x": [
            2002
           ],
           "xaxis": "x",
           "y": [
            29.15068493150685
           ],
           "yaxis": "y"
          },
          {
           "hovertemplate": "color=SUV<br>animation_frame=2002<br>x=%{x}<br>y=%{y}<extra></extra>",
           "ids": [
            "SUV"
           ],
           "legendgroup": "SUV",
           "line": {
            "color": "#00A08B",
            "dash": "solid"
           },
           "marker": {
            "symbol": "circle"
           },
           "mode": "markers+lines",
           "name": "SUV",
           "orientation": "v",
           "showlegend": true,
           "type": "scatter",
           "x": [
            2002
           ],
           "xaxis": "x",
           "y": [
            22.572580645161292
           ],
           "yaxis": "y"
          },
          {
           "hovertemplate": "color=TWO-SEATER<br>animation_frame=2002<br>x=%{x}<br>y=%{y}<extra></extra>",
           "ids": [
            "TWO-SEATER"
           ],
           "legendgroup": "TWO-SEATER",
           "line": {
            "color": "#FB00D1",
            "dash": "solid"
           },
           "marker": {
            "symbol": "circle"
           },
           "mode": "markers+lines",
           "name": "TWO-SEATER",
           "orientation": "v",
           "showlegend": true,
           "type": "scatter",
           "x": [
            2002
           ],
           "xaxis": "x",
           "y": [
            25.972972972972972
           ],
           "yaxis": "y"
          },
          {
           "hovertemplate": "color=VAN - CARGO<br>animation_frame=2002<br>x=%{x}<br>y=%{y}<extra></extra>",
           "ids": [
            "VAN - CARGO"
           ],
           "legendgroup": "VAN - CARGO",
           "line": {
            "color": "#FC0080",
            "dash": "solid"
           },
           "marker": {
            "symbol": "circle"
           },
           "mode": "markers+lines",
           "name": "VAN - CARGO",
           "orientation": "v",
           "showlegend": true,
           "type": "scatter",
           "x": [
            2002
           ],
           "xaxis": "x",
           "y": [
            19.434782608695652
           ],
           "yaxis": "y"
          },
          {
           "hovertemplate": "color=VAN - PASSENGER<br>animation_frame=2002<br>x=%{x}<br>y=%{y}<extra></extra>",
           "ids": [
            "VAN - PASSENGER"
           ],
           "legendgroup": "VAN - PASSENGER",
           "line": {
            "color": "#B2828D",
            "dash": "solid"
           },
           "marker": {
            "symbol": "circle"
           },
           "mode": "markers+lines",
           "name": "VAN - PASSENGER",
           "orientation": "v",
           "showlegend": true,
           "type": "scatter",
           "x": [
            2002
           ],
           "xaxis": "x",
           "y": [
            18.77777777777778
           ],
           "yaxis": "y"
          }
         ],
         "name": "2002"
        },
        {
         "data": [
          {
           "hovertemplate": "color=COMPACT<br>animation_frame=2003<br>x=%{x}<br>y=%{y}<extra></extra>",
           "ids": [
            "COMPACT"
           ],
           "legendgroup": "COMPACT",
           "line": {
            "color": "#2E91E5",
            "dash": "solid"
           },
           "marker": {
            "symbol": "circle"
           },
           "mode": "markers+lines",
           "name": "COMPACT",
           "orientation": "v",
           "showlegend": true,
           "type": "scatter",
           "x": [
            2003
           ],
           "xaxis": "x",
           "y": [
            32.37062937062937
           ],
           "yaxis": "y"
          },
          {
           "hovertemplate": "color=FULL-SIZE<br>animation_frame=2003<br>x=%{x}<br>y=%{y}<extra></extra>",
           "ids": [
            "FULL-SIZE"
           ],
           "legendgroup": "FULL-SIZE",
           "line": {
            "color": "#E15F99",
            "dash": "solid"
           },
           "marker": {
            "symbol": "circle"
           },
           "mode": "markers+lines",
           "name": "FULL-SIZE",
           "orientation": "v",
           "showlegend": true,
           "type": "scatter",
           "x": [
            2003
           ],
           "xaxis": "x",
           "y": [
            26.28
           ],
           "yaxis": "y"
          },
          {
           "hovertemplate": "color=MID-SIZE<br>animation_frame=2003<br>x=%{x}<br>y=%{y}<extra></extra>",
           "ids": [
            "MID-SIZE"
           ],
           "legendgroup": "MID-SIZE",
           "line": {
            "color": "#1CA71C",
            "dash": "solid"
           },
           "marker": {
            "symbol": "circle"
           },
           "mode": "markers+lines",
           "name": "MID-SIZE",
           "orientation": "v",
           "showlegend": true,
           "type": "scatter",
           "x": [
            2003
           ],
           "xaxis": "x",
           "y": [
            27.48314606741573
           ],
           "yaxis": "y"
          },
          {
           "hovertemplate": "color=MINICOMPACT<br>animation_frame=2003<br>x=%{x}<br>y=%{y}<extra></extra>",
           "ids": [
            "MINICOMPACT"
           ],
           "legendgroup": "MINICOMPACT",
           "line": {
            "color": "#FB0D0D",
            "dash": "solid"
           },
           "marker": {
            "symbol": "circle"
           },
           "mode": "markers+lines",
           "name": "MINICOMPACT",
           "orientation": "v",
           "showlegend": true,
           "type": "scatter",
           "x": [
            2003
           ],
           "xaxis": "x",
           "y": [
            27.575757575757574
           ],
           "yaxis": "y"
          },
          {
           "hovertemplate": "color=MINIVAN<br>animation_frame=2003<br>x=%{x}<br>y=%{y}<extra></extra>",
           "ids": [
            "MINIVAN"
           ],
           "legendgroup": "MINIVAN",
           "line": {
            "color": "#DA16FF",
            "dash": "solid"
           },
           "marker": {
            "symbol": "circle"
           },
           "mode": "markers+lines",
           "name": "MINIVAN",
           "orientation": "v",
           "showlegend": true,
           "type": "scatter",
           "x": [
            2003
           ],
           "xaxis": "x",
           "y": [
            24.392857142857142
           ],
           "yaxis": "y"
          },
          {
           "hovertemplate": "color=PICKUP TRUCK - SMALL<br>animation_frame=2003<br>x=%{x}<br>y=%{y}<extra></extra>",
           "ids": [
            "PICKUP TRUCK - SMALL"
           ],
           "legendgroup": "PICKUP TRUCK - SMALL",
           "line": {
            "color": "#222A2A",
            "dash": "solid"
           },
           "marker": {
            "symbol": "circle"
           },
           "mode": "markers+lines",
           "name": "PICKUP TRUCK - SMALL",
           "orientation": "v",
           "showlegend": true,
           "type": "scatter",
           "x": [
            2003
           ],
           "xaxis": "x",
           "y": [
            24.75
           ],
           "yaxis": "y"
          },
          {
           "hovertemplate": "color=PICKUP TRUCK - STANDARD<br>animation_frame=2003<br>x=%{x}<br>y=%{y}<extra></extra>",
           "ids": [
            "PICKUP TRUCK - STANDARD"
           ],
           "legendgroup": "PICKUP TRUCK - STANDARD",
           "line": {
            "color": "#B68100",
            "dash": "solid"
           },
           "marker": {
            "symbol": "circle"
           },
           "mode": "markers+lines",
           "name": "PICKUP TRUCK - STANDARD",
           "orientation": "v",
           "showlegend": true,
           "type": "scatter",
           "x": [
            2003
           ],
           "xaxis": "x",
           "y": [
            21.00943396226415
           ],
           "yaxis": "y"
          },
          {
           "hovertemplate": "color=STATION WAGON - MID-SIZE<br>animation_frame=2003<br>x=%{x}<br>y=%{y}<extra></extra>",
           "ids": [
            "STATION WAGON - MID-SIZE"
           ],
           "legendgroup": "STATION WAGON - MID-SIZE",
           "line": {
            "color": "#750D86",
            "dash": "solid"
           },
           "marker": {
            "symbol": "circle"
           },
           "mode": "markers+lines",
           "name": "STATION WAGON - MID-SIZE",
           "orientation": "v",
           "showlegend": true,
           "type": "scatter",
           "x": [
            2003
           ],
           "xaxis": "x",
           "y": [
            29
           ],
           "yaxis": "y"
          },
          {
           "hovertemplate": "color=STATION WAGON - SMALL<br>animation_frame=2003<br>x=%{x}<br>y=%{y}<extra></extra>",
           "ids": [
            "STATION WAGON - SMALL"
           ],
           "legendgroup": "STATION WAGON - SMALL",
           "line": {
            "color": "#EB663B",
            "dash": "solid"
           },
           "marker": {
            "symbol": "circle"
           },
           "mode": "markers+lines",
           "name": "STATION WAGON - SMALL",
           "orientation": "v",
           "showlegend": true,
           "type": "scatter",
           "x": [
            2003
           ],
           "xaxis": "x",
           "y": [
            31.644444444444446
           ],
           "yaxis": "y"
          },
          {
           "hovertemplate": "color=SUBCOMPACT<br>animation_frame=2003<br>x=%{x}<br>y=%{y}<extra></extra>",
           "ids": [
            "SUBCOMPACT"
           ],
           "legendgroup": "SUBCOMPACT",
           "line": {
            "color": "#511CFB",
            "dash": "solid"
           },
           "marker": {
            "symbol": "circle"
           },
           "mode": "markers+lines",
           "name": "SUBCOMPACT",
           "orientation": "v",
           "showlegend": true,
           "type": "scatter",
           "x": [
            2003
           ],
           "xaxis": "x",
           "y": [
            27.984615384615385
           ],
           "yaxis": "y"
          },
          {
           "hovertemplate": "color=SUV<br>animation_frame=2003<br>x=%{x}<br>y=%{y}<extra></extra>",
           "ids": [
            "SUV"
           ],
           "legendgroup": "SUV",
           "line": {
            "color": "#00A08B",
            "dash": "solid"
           },
           "marker": {
            "symbol": "circle"
           },
           "mode": "markers+lines",
           "name": "SUV",
           "orientation": "v",
           "showlegend": true,
           "type": "scatter",
           "x": [
            2003
           ],
           "xaxis": "x",
           "y": [
            22.5125
           ],
           "yaxis": "y"
          },
          {
           "hovertemplate": "color=TWO-SEATER<br>animation_frame=2003<br>x=%{x}<br>y=%{y}<extra></extra>",
           "ids": [
            "TWO-SEATER"
           ],
           "legendgroup": "TWO-SEATER",
           "line": {
            "color": "#FB00D1",
            "dash": "solid"
           },
           "marker": {
            "symbol": "circle"
           },
           "mode": "markers+lines",
           "name": "TWO-SEATER",
           "orientation": "v",
           "showlegend": true,
           "type": "scatter",
           "x": [
            2003
           ],
           "xaxis": "x",
           "y": [
            25.475
           ],
           "yaxis": "y"
          },
          {
           "hovertemplate": "color=VAN - CARGO<br>animation_frame=2003<br>x=%{x}<br>y=%{y}<extra></extra>",
           "ids": [
            "VAN - CARGO"
           ],
           "legendgroup": "VAN - CARGO",
           "line": {
            "color": "#FC0080",
            "dash": "solid"
           },
           "marker": {
            "symbol": "circle"
           },
           "mode": "markers+lines",
           "name": "VAN - CARGO",
           "orientation": "v",
           "showlegend": true,
           "type": "scatter",
           "x": [
            2003
           ],
           "xaxis": "x",
           "y": [
            18.666666666666668
           ],
           "yaxis": "y"
          },
          {
           "hovertemplate": "color=VAN - PASSENGER<br>animation_frame=2003<br>x=%{x}<br>y=%{y}<extra></extra>",
           "ids": [
            "VAN - PASSENGER"
           ],
           "legendgroup": "VAN - PASSENGER",
           "line": {
            "color": "#B2828D",
            "dash": "solid"
           },
           "marker": {
            "symbol": "circle"
           },
           "mode": "markers+lines",
           "name": "VAN - PASSENGER",
           "orientation": "v",
           "showlegend": true,
           "type": "scatter",
           "x": [
            2003
           ],
           "xaxis": "x",
           "y": [
            18.615384615384617
           ],
           "yaxis": "y"
          }
         ],
         "name": "2003"
        },
        {
         "data": [
          {
           "hovertemplate": "color=COMPACT<br>animation_frame=2004<br>x=%{x}<br>y=%{y}<extra></extra>",
           "ids": [
            "COMPACT"
           ],
           "legendgroup": "COMPACT",
           "line": {
            "color": "#2E91E5",
            "dash": "solid"
           },
           "marker": {
            "symbol": "circle"
           },
           "mode": "markers+lines",
           "name": "COMPACT",
           "orientation": "v",
           "showlegend": true,
           "type": "scatter",
           "x": [
            2004
           ],
           "xaxis": "x",
           "y": [
            31.603896103896105
           ],
           "yaxis": "y"
          },
          {
           "hovertemplate": "color=FULL-SIZE<br>animation_frame=2004<br>x=%{x}<br>y=%{y}<extra></extra>",
           "ids": [
            "FULL-SIZE"
           ],
           "legendgroup": "FULL-SIZE",
           "line": {
            "color": "#E15F99",
            "dash": "solid"
           },
           "marker": {
            "symbol": "circle"
           },
           "mode": "markers+lines",
           "name": "FULL-SIZE",
           "orientation": "v",
           "showlegend": true,
           "type": "scatter",
           "x": [
            2004
           ],
           "xaxis": "x",
           "y": [
            24.735294117647058
           ],
           "yaxis": "y"
          },
          {
           "hovertemplate": "color=MID-SIZE<br>animation_frame=2004<br>x=%{x}<br>y=%{y}<extra></extra>",
           "ids": [
            "MID-SIZE"
           ],
           "legendgroup": "MID-SIZE",
           "line": {
            "color": "#1CA71C",
            "dash": "solid"
           },
           "marker": {
            "symbol": "circle"
           },
           "mode": "markers+lines",
           "name": "MID-SIZE",
           "orientation": "v",
           "showlegend": true,
           "type": "scatter",
           "x": [
            2004
           ],
           "xaxis": "x",
           "y": [
            27.92233009708738
           ],
           "yaxis": "y"
          },
          {
           "hovertemplate": "color=MINICOMPACT<br>animation_frame=2004<br>x=%{x}<br>y=%{y}<extra></extra>",
           "ids": [
            "MINICOMPACT"
           ],
           "legendgroup": "MINICOMPACT",
           "line": {
            "color": "#FB0D0D",
            "dash": "solid"
           },
           "marker": {
            "symbol": "circle"
           },
           "mode": "markers+lines",
           "name": "MINICOMPACT",
           "orientation": "v",
           "showlegend": true,
           "type": "scatter",
           "x": [
            2004
           ],
           "xaxis": "x",
           "y": [
            29.2
           ],
           "yaxis": "y"
          },
          {
           "hovertemplate": "color=MINIVAN<br>animation_frame=2004<br>x=%{x}<br>y=%{y}<extra></extra>",
           "ids": [
            "MINIVAN"
           ],
           "legendgroup": "MINIVAN",
           "line": {
            "color": "#DA16FF",
            "dash": "solid"
           },
           "marker": {
            "symbol": "circle"
           },
           "mode": "markers+lines",
           "name": "MINIVAN",
           "orientation": "v",
           "showlegend": true,
           "type": "scatter",
           "x": [
            2004
           ],
           "xaxis": "x",
           "y": [
            25.571428571428573
           ],
           "yaxis": "y"
          },
          {
           "hovertemplate": "color=PICKUP TRUCK - SMALL<br>animation_frame=2004<br>x=%{x}<br>y=%{y}<extra></extra>",
           "ids": [
            "PICKUP TRUCK - SMALL"
           ],
           "legendgroup": "PICKUP TRUCK - SMALL",
           "line": {
            "color": "#222A2A",
            "dash": "solid"
           },
           "marker": {
            "symbol": "circle"
           },
           "mode": "markers+lines",
           "name": "PICKUP TRUCK - SMALL",
           "orientation": "v",
           "showlegend": true,
           "type": "scatter",
           "x": [
            2004
           ],
           "xaxis": "x",
           "y": [
            20
           ],
           "yaxis": "y"
          },
          {
           "hovertemplate": "color=PICKUP TRUCK - STANDARD<br>animation_frame=2004<br>x=%{x}<br>y=%{y}<extra></extra>",
           "ids": [
            "PICKUP TRUCK - STANDARD"
           ],
           "legendgroup": "PICKUP TRUCK - STANDARD",
           "line": {
            "color": "#B68100",
            "dash": "solid"
           },
           "marker": {
            "symbol": "circle"
           },
           "mode": "markers+lines",
           "name": "PICKUP TRUCK - STANDARD",
           "orientation": "v",
           "showlegend": true,
           "type": "scatter",
           "x": [
            2004
           ],
           "xaxis": "x",
           "y": [
            20.66393442622951
           ],
           "yaxis": "y"
          },
          {
           "hovertemplate": "color=STATION WAGON - MID-SIZE<br>animation_frame=2004<br>x=%{x}<br>y=%{y}<extra></extra>",
           "ids": [
            "STATION WAGON - MID-SIZE"
           ],
           "legendgroup": "STATION WAGON - MID-SIZE",
           "line": {
            "color": "#750D86",
            "dash": "solid"
           },
           "marker": {
            "symbol": "circle"
           },
           "mode": "markers+lines",
           "name": "STATION WAGON - MID-SIZE",
           "orientation": "v",
           "showlegend": true,
           "type": "scatter",
           "x": [
            2004
           ],
           "xaxis": "x",
           "y": [
            28.414634146341463
           ],
           "yaxis": "y"
          },
          {
           "hovertemplate": "color=STATION WAGON - SMALL<br>animation_frame=2004<br>x=%{x}<br>y=%{y}<extra></extra>",
           "ids": [
            "STATION WAGON - SMALL"
           ],
           "legendgroup": "STATION WAGON - SMALL",
           "line": {
            "color": "#EB663B",
            "dash": "solid"
           },
           "marker": {
            "symbol": "circle"
           },
           "mode": "markers+lines",
           "name": "STATION WAGON - SMALL",
           "orientation": "v",
           "showlegend": true,
           "type": "scatter",
           "x": [
            2004
           ],
           "xaxis": "x",
           "y": [
            31.27906976744186
           ],
           "yaxis": "y"
          },
          {
           "hovertemplate": "color=SUBCOMPACT<br>animation_frame=2004<br>x=%{x}<br>y=%{y}<extra></extra>",
           "ids": [
            "SUBCOMPACT"
           ],
           "legendgroup": "SUBCOMPACT",
           "line": {
            "color": "#511CFB",
            "dash": "solid"
           },
           "marker": {
            "symbol": "circle"
           },
           "mode": "markers+lines",
           "name": "SUBCOMPACT",
           "orientation": "v",
           "showlegend": true,
           "type": "scatter",
           "x": [
            2004
           ],
           "xaxis": "x",
           "y": [
            28.96511627906977
           ],
           "yaxis": "y"
          },
          {
           "hovertemplate": "color=SUV<br>animation_frame=2004<br>x=%{x}<br>y=%{y}<extra></extra>",
           "ids": [
            "SUV"
           ],
           "legendgroup": "SUV",
           "line": {
            "color": "#00A08B",
            "dash": "solid"
           },
           "marker": {
            "symbol": "circle"
           },
           "mode": "markers+lines",
           "name": "SUV",
           "orientation": "v",
           "showlegend": true,
           "type": "scatter",
           "x": [
            2004
           ],
           "xaxis": "x",
           "y": [
            21.957894736842107
           ],
           "yaxis": "y"
          },
          {
           "hovertemplate": "color=TWO-SEATER<br>animation_frame=2004<br>x=%{x}<br>y=%{y}<extra></extra>",
           "ids": [
            "TWO-SEATER"
           ],
           "legendgroup": "TWO-SEATER",
           "line": {
            "color": "#FB00D1",
            "dash": "solid"
           },
           "marker": {
            "symbol": "circle"
           },
           "mode": "markers+lines",
           "name": "TWO-SEATER",
           "orientation": "v",
           "showlegend": true,
           "type": "scatter",
           "x": [
            2004
           ],
           "xaxis": "x",
           "y": [
            25.065217391304348
           ],
           "yaxis": "y"
          },
          {
           "hovertemplate": "color=VAN - CARGO<br>animation_frame=2004<br>x=%{x}<br>y=%{y}<extra></extra>",
           "ids": [
            "VAN - CARGO"
           ],
           "legendgroup": "VAN - CARGO",
           "line": {
            "color": "#FC0080",
            "dash": "solid"
           },
           "marker": {
            "symbol": "circle"
           },
           "mode": "markers+lines",
           "name": "VAN - CARGO",
           "orientation": "v",
           "showlegend": true,
           "type": "scatter",
           "x": [
            2004
           ],
           "xaxis": "x",
           "y": [
            18.80952380952381
           ],
           "yaxis": "y"
          },
          {
           "hovertemplate": "color=VAN - PASSENGER<br>animation_frame=2004<br>x=%{x}<br>y=%{y}<extra></extra>",
           "ids": [
            "VAN - PASSENGER"
           ],
           "legendgroup": "VAN - PASSENGER",
           "line": {
            "color": "#B2828D",
            "dash": "solid"
           },
           "marker": {
            "symbol": "circle"
           },
           "mode": "markers+lines",
           "name": "VAN - PASSENGER",
           "orientation": "v",
           "showlegend": true,
           "type": "scatter",
           "x": [
            2004
           ],
           "xaxis": "x",
           "y": [
            19.181818181818183
           ],
           "yaxis": "y"
          }
         ],
         "name": "2004"
        },
        {
         "data": [
          {
           "hovertemplate": "color=COMPACT<br>animation_frame=2005<br>x=%{x}<br>y=%{y}<extra></extra>",
           "ids": [
            "COMPACT"
           ],
           "legendgroup": "COMPACT",
           "line": {
            "color": "#2E91E5",
            "dash": "solid"
           },
           "marker": {
            "symbol": "circle"
           },
           "mode": "markers+lines",
           "name": "COMPACT",
           "orientation": "v",
           "showlegend": true,
           "type": "scatter",
           "x": [
            2005
           ],
           "xaxis": "x",
           "y": [
            31.698630136986303
           ],
           "yaxis": "y"
          },
          {
           "hovertemplate": "color=FULL-SIZE<br>animation_frame=2005<br>x=%{x}<br>y=%{y}<extra></extra>",
           "ids": [
            "FULL-SIZE"
           ],
           "legendgroup": "FULL-SIZE",
           "line": {
            "color": "#E15F99",
            "dash": "solid"
           },
           "marker": {
            "symbol": "circle"
           },
           "mode": "markers+lines",
           "name": "FULL-SIZE",
           "orientation": "v",
           "showlegend": true,
           "type": "scatter",
           "x": [
            2005
           ],
           "xaxis": "x",
           "y": [
            24.155555555555555
           ],
           "yaxis": "y"
          },
          {
           "hovertemplate": "color=MID-SIZE<br>animation_frame=2005<br>x=%{x}<br>y=%{y}<extra></extra>",
           "ids": [
            "MID-SIZE"
           ],
           "legendgroup": "MID-SIZE",
           "line": {
            "color": "#1CA71C",
            "dash": "solid"
           },
           "marker": {
            "symbol": "circle"
           },
           "mode": "markers+lines",
           "name": "MID-SIZE",
           "orientation": "v",
           "showlegend": true,
           "type": "scatter",
           "x": [
            2005
           ],
           "xaxis": "x",
           "y": [
            28.140350877192983
           ],
           "yaxis": "y"
          },
          {
           "hovertemplate": "color=MINICOMPACT<br>animation_frame=2005<br>x=%{x}<br>y=%{y}<extra></extra>",
           "ids": [
            "MINICOMPACT"
           ],
           "legendgroup": "MINICOMPACT",
           "line": {
            "color": "#FB0D0D",
            "dash": "solid"
           },
           "marker": {
            "symbol": "circle"
           },
           "mode": "markers+lines",
           "name": "MINICOMPACT",
           "orientation": "v",
           "showlegend": true,
           "type": "scatter",
           "x": [
            2005
           ],
           "xaxis": "x",
           "y": [
            26.256756756756758
           ],
           "yaxis": "y"
          },
          {
           "hovertemplate": "color=MINIVAN<br>animation_frame=2005<br>x=%{x}<br>y=%{y}<extra></extra>",
           "ids": [
            "MINIVAN"
           ],
           "legendgroup": "MINIVAN",
           "line": {
            "color": "#DA16FF",
            "dash": "solid"
           },
           "marker": {
            "symbol": "circle"
           },
           "mode": "markers+lines",
           "name": "MINIVAN",
           "orientation": "v",
           "showlegend": true,
           "type": "scatter",
           "x": [
            2005
           ],
           "xaxis": "x",
           "y": [
            24.727272727272727
           ],
           "yaxis": "y"
          },
          {
           "hovertemplate": "color=PICKUP TRUCK - STANDARD<br>animation_frame=2005<br>x=%{x}<br>y=%{y}<extra></extra>",
           "ids": [
            "PICKUP TRUCK - STANDARD"
           ],
           "legendgroup": "PICKUP TRUCK - STANDARD",
           "line": {
            "color": "#B68100",
            "dash": "solid"
           },
           "marker": {
            "symbol": "circle"
           },
           "mode": "markers+lines",
           "name": "PICKUP TRUCK - STANDARD",
           "orientation": "v",
           "showlegend": true,
           "type": "scatter",
           "x": [
            2005
           ],
           "xaxis": "x",
           "y": [
            21.393700787401574
           ],
           "yaxis": "y"
          },
          {
           "hovertemplate": "color=STATION WAGON - MID-SIZE<br>animation_frame=2005<br>x=%{x}<br>y=%{y}<extra></extra>",
           "ids": [
            "STATION WAGON - MID-SIZE"
           ],
           "legendgroup": "STATION WAGON - MID-SIZE",
           "line": {
            "color": "#750D86",
            "dash": "solid"
           },
           "marker": {
            "symbol": "circle"
           },
           "mode": "markers+lines",
           "name": "STATION WAGON - MID-SIZE",
           "orientation": "v",
           "showlegend": true,
           "type": "scatter",
           "x": [
            2005
           ],
           "xaxis": "x",
           "y": [
            28.210526315789473
           ],
           "yaxis": "y"
          },
          {
           "hovertemplate": "color=STATION WAGON - SMALL<br>animation_frame=2005<br>x=%{x}<br>y=%{y}<extra></extra>",
           "ids": [
            "STATION WAGON - SMALL"
           ],
           "legendgroup": "STATION WAGON - SMALL",
           "line": {
            "color": "#EB663B",
            "dash": "solid"
           },
           "marker": {
            "symbol": "circle"
           },
           "mode": "markers+lines",
           "name": "STATION WAGON - SMALL",
           "orientation": "v",
           "showlegend": true,
           "type": "scatter",
           "x": [
            2005
           ],
           "xaxis": "x",
           "y": [
            30.814814814814813
           ],
           "yaxis": "y"
          },
          {
           "hovertemplate": "color=SUBCOMPACT<br>animation_frame=2005<br>x=%{x}<br>y=%{y}<extra></extra>",
           "ids": [
            "SUBCOMPACT"
           ],
           "legendgroup": "SUBCOMPACT",
           "line": {
            "color": "#511CFB",
            "dash": "solid"
           },
           "marker": {
            "symbol": "circle"
           },
           "mode": "markers+lines",
           "name": "SUBCOMPACT",
           "orientation": "v",
           "showlegend": true,
           "type": "scatter",
           "x": [
            2005
           ],
           "xaxis": "x",
           "y": [
            29.82758620689655
           ],
           "yaxis": "y"
          },
          {
           "hovertemplate": "color=SUV<br>animation_frame=2005<br>x=%{x}<br>y=%{y}<extra></extra>",
           "ids": [
            "SUV"
           ],
           "legendgroup": "SUV",
           "line": {
            "color": "#00A08B",
            "dash": "solid"
           },
           "marker": {
            "symbol": "circle"
           },
           "mode": "markers+lines",
           "name": "SUV",
           "orientation": "v",
           "showlegend": true,
           "type": "scatter",
           "x": [
            2005
           ],
           "xaxis": "x",
           "y": [
            23
           ],
           "yaxis": "y"
          },
          {
           "hovertemplate": "color=TWO-SEATER<br>animation_frame=2005<br>x=%{x}<br>y=%{y}<extra></extra>",
           "ids": [
            "TWO-SEATER"
           ],
           "legendgroup": "TWO-SEATER",
           "line": {
            "color": "#FB00D1",
            "dash": "solid"
           },
           "marker": {
            "symbol": "circle"
           },
           "mode": "markers+lines",
           "name": "TWO-SEATER",
           "orientation": "v",
           "showlegend": true,
           "type": "scatter",
           "x": [
            2005
           ],
           "xaxis": "x",
           "y": [
            26.03846153846154
           ],
           "yaxis": "y"
          },
          {
           "hovertemplate": "color=VAN - CARGO<br>animation_frame=2005<br>x=%{x}<br>y=%{y}<extra></extra>",
           "ids": [
            "VAN - CARGO"
           ],
           "legendgroup": "VAN - CARGO",
           "line": {
            "color": "#FC0080",
            "dash": "solid"
           },
           "marker": {
            "symbol": "circle"
           },
           "mode": "markers+lines",
           "name": "VAN - CARGO",
           "orientation": "v",
           "showlegend": true,
           "type": "scatter",
           "x": [
            2005
           ],
           "xaxis": "x",
           "y": [
            20.384615384615383
           ],
           "yaxis": "y"
          },
          {
           "hovertemplate": "color=VAN - PASSENGER<br>animation_frame=2005<br>x=%{x}<br>y=%{y}<extra></extra>",
           "ids": [
            "VAN - PASSENGER"
           ],
           "legendgroup": "VAN - PASSENGER",
           "line": {
            "color": "#B2828D",
            "dash": "solid"
           },
           "marker": {
            "symbol": "circle"
           },
           "mode": "markers+lines",
           "name": "VAN - PASSENGER",
           "orientation": "v",
           "showlegend": true,
           "type": "scatter",
           "x": [
            2005
           ],
           "xaxis": "x",
           "y": [
            19.666666666666668
           ],
           "yaxis": "y"
          }
         ],
         "name": "2005"
        },
        {
         "data": [
          {
           "hovertemplate": "color=COMPACT<br>animation_frame=2006<br>x=%{x}<br>y=%{y}<extra></extra>",
           "ids": [
            "COMPACT"
           ],
           "legendgroup": "COMPACT",
           "line": {
            "color": "#2E91E5",
            "dash": "solid"
           },
           "marker": {
            "symbol": "circle"
           },
           "mode": "markers+lines",
           "name": "COMPACT",
           "orientation": "v",
           "showlegend": true,
           "type": "scatter",
           "x": [
            2006
           ],
           "xaxis": "x",
           "y": [
            31.233576642335766
           ],
           "yaxis": "y"
          },
          {
           "hovertemplate": "color=FULL-SIZE<br>animation_frame=2006<br>x=%{x}<br>y=%{y}<extra></extra>",
           "ids": [
            "FULL-SIZE"
           ],
           "legendgroup": "FULL-SIZE",
           "line": {
            "color": "#E15F99",
            "dash": "solid"
           },
           "marker": {
            "symbol": "circle"
           },
           "mode": "markers+lines",
           "name": "FULL-SIZE",
           "orientation": "v",
           "showlegend": true,
           "type": "scatter",
           "x": [
            2006
           ],
           "xaxis": "x",
           "y": [
            24.625
           ],
           "yaxis": "y"
          },
          {
           "hovertemplate": "color=MID-SIZE<br>animation_frame=2006<br>x=%{x}<br>y=%{y}<extra></extra>",
           "ids": [
            "MID-SIZE"
           ],
           "legendgroup": "MID-SIZE",
           "line": {
            "color": "#1CA71C",
            "dash": "solid"
           },
           "marker": {
            "symbol": "circle"
           },
           "mode": "markers+lines",
           "name": "MID-SIZE",
           "orientation": "v",
           "showlegend": true,
           "type": "scatter",
           "x": [
            2006
           ],
           "xaxis": "x",
           "y": [
            28.18918918918919
           ],
           "yaxis": "y"
          },
          {
           "hovertemplate": "color=MINICOMPACT<br>animation_frame=2006<br>x=%{x}<br>y=%{y}<extra></extra>",
           "ids": [
            "MINICOMPACT"
           ],
           "legendgroup": "MINICOMPACT",
           "line": {
            "color": "#FB0D0D",
            "dash": "solid"
           },
           "marker": {
            "symbol": "circle"
           },
           "mode": "markers+lines",
           "name": "MINICOMPACT",
           "orientation": "v",
           "showlegend": true,
           "type": "scatter",
           "x": [
            2006
           ],
           "xaxis": "x",
           "y": [
            28.43243243243243
           ],
           "yaxis": "y"
          },
          {
           "hovertemplate": "color=MINIVAN<br>animation_frame=2006<br>x=%{x}<br>y=%{y}<extra></extra>",
           "ids": [
            "MINIVAN"
           ],
           "legendgroup": "MINIVAN",
           "line": {
            "color": "#DA16FF",
            "dash": "solid"
           },
           "marker": {
            "symbol": "circle"
           },
           "mode": "markers+lines",
           "name": "MINIVAN",
           "orientation": "v",
           "showlegend": true,
           "type": "scatter",
           "x": [
            2006
           ],
           "xaxis": "x",
           "y": [
            24.714285714285715
           ],
           "yaxis": "y"
          },
          {
           "hovertemplate": "color=PICKUP TRUCK - STANDARD<br>animation_frame=2006<br>x=%{x}<br>y=%{y}<extra></extra>",
           "ids": [
            "PICKUP TRUCK - STANDARD"
           ],
           "legendgroup": "PICKUP TRUCK - STANDARD",
           "line": {
            "color": "#B68100",
            "dash": "solid"
           },
           "marker": {
            "symbol": "circle"
           },
           "mode": "markers+lines",
           "name": "PICKUP TRUCK - STANDARD",
           "orientation": "v",
           "showlegend": true,
           "type": "scatter",
           "x": [
            2006
           ],
           "xaxis": "x",
           "y": [
            21.907801418439718
           ],
           "yaxis": "y"
          },
          {
           "hovertemplate": "color=STATION WAGON - MID-SIZE<br>animation_frame=2006<br>x=%{x}<br>y=%{y}<extra></extra>",
           "ids": [
            "STATION WAGON - MID-SIZE"
           ],
           "legendgroup": "STATION WAGON - MID-SIZE",
           "line": {
            "color": "#750D86",
            "dash": "solid"
           },
           "marker": {
            "symbol": "circle"
           },
           "mode": "markers+lines",
           "name": "STATION WAGON - MID-SIZE",
           "orientation": "v",
           "showlegend": true,
           "type": "scatter",
           "x": [
            2006
           ],
           "xaxis": "x",
           "y": [
            28.035714285714285
           ],
           "yaxis": "y"
          },
          {
           "hovertemplate": "color=STATION WAGON - SMALL<br>animation_frame=2006<br>x=%{x}<br>y=%{y}<extra></extra>",
           "ids": [
            "STATION WAGON - SMALL"
           ],
           "legendgroup": "STATION WAGON - SMALL",
           "line": {
            "color": "#EB663B",
            "dash": "solid"
           },
           "marker": {
            "symbol": "circle"
           },
           "mode": "markers+lines",
           "name": "STATION WAGON - SMALL",
           "orientation": "v",
           "showlegend": true,
           "type": "scatter",
           "x": [
            2006
           ],
           "xaxis": "x",
           "y": [
            31.735849056603772
           ],
           "yaxis": "y"
          },
          {
           "hovertemplate": "color=SUBCOMPACT<br>animation_frame=2006<br>x=%{x}<br>y=%{y}<extra></extra>",
           "ids": [
            "SUBCOMPACT"
           ],
           "legendgroup": "SUBCOMPACT",
           "line": {
            "color": "#511CFB",
            "dash": "solid"
           },
           "marker": {
            "symbol": "circle"
           },
           "mode": "markers+lines",
           "name": "SUBCOMPACT",
           "orientation": "v",
           "showlegend": true,
           "type": "scatter",
           "x": [
            2006
           ],
           "xaxis": "x",
           "y": [
            29.743589743589745
           ],
           "yaxis": "y"
          },
          {
           "hovertemplate": "color=SUV<br>animation_frame=2006<br>x=%{x}<br>y=%{y}<extra></extra>",
           "ids": [
            "SUV"
           ],
           "legendgroup": "SUV",
           "line": {
            "color": "#00A08B",
            "dash": "solid"
           },
           "marker": {
            "symbol": "circle"
           },
           "mode": "markers+lines",
           "name": "SUV",
           "orientation": "v",
           "showlegend": true,
           "type": "scatter",
           "x": [
            2006
           ],
           "xaxis": "x",
           "y": [
            23.755656108597286
           ],
           "yaxis": "y"
          },
          {
           "hovertemplate": "color=TWO-SEATER<br>animation_frame=2006<br>x=%{x}<br>y=%{y}<extra></extra>",
           "ids": [
            "TWO-SEATER"
           ],
           "legendgroup": "TWO-SEATER",
           "line": {
            "color": "#FB00D1",
            "dash": "solid"
           },
           "marker": {
            "symbol": "circle"
           },
           "mode": "markers+lines",
           "name": "TWO-SEATER",
           "orientation": "v",
           "showlegend": true,
           "type": "scatter",
           "x": [
            2006
           ],
           "xaxis": "x",
           "y": [
            26.93877551020408
           ],
           "yaxis": "y"
          },
          {
           "hovertemplate": "color=VAN - CARGO<br>animation_frame=2006<br>x=%{x}<br>y=%{y}<extra></extra>",
           "ids": [
            "VAN - CARGO"
           ],
           "legendgroup": "VAN - CARGO",
           "line": {
            "color": "#FC0080",
            "dash": "solid"
           },
           "marker": {
            "symbol": "circle"
           },
           "mode": "markers+lines",
           "name": "VAN - CARGO",
           "orientation": "v",
           "showlegend": true,
           "type": "scatter",
           "x": [
            2006
           ],
           "xaxis": "x",
           "y": [
            20.214285714285715
           ],
           "yaxis": "y"
          },
          {
           "hovertemplate": "color=VAN - PASSENGER<br>animation_frame=2006<br>x=%{x}<br>y=%{y}<extra></extra>",
           "ids": [
            "VAN - PASSENGER"
           ],
           "legendgroup": "VAN - PASSENGER",
           "line": {
            "color": "#B2828D",
            "dash": "solid"
           },
           "marker": {
            "symbol": "circle"
           },
           "mode": "markers+lines",
           "name": "VAN - PASSENGER",
           "orientation": "v",
           "showlegend": true,
           "type": "scatter",
           "x": [
            2006
           ],
           "xaxis": "x",
           "y": [
            19.75
           ],
           "yaxis": "y"
          }
         ],
         "name": "2006"
        },
        {
         "data": [
          {
           "hovertemplate": "color=COMPACT<br>animation_frame=2007<br>x=%{x}<br>y=%{y}<extra></extra>",
           "ids": [
            "COMPACT"
           ],
           "legendgroup": "COMPACT",
           "line": {
            "color": "#2E91E5",
            "dash": "solid"
           },
           "marker": {
            "symbol": "circle"
           },
           "mode": "markers+lines",
           "name": "COMPACT",
           "orientation": "v",
           "showlegend": true,
           "type": "scatter",
           "x": [
            2007
           ],
           "xaxis": "x",
           "y": [
            30.25
           ],
           "yaxis": "y"
          },
          {
           "hovertemplate": "color=FULL-SIZE<br>animation_frame=2007<br>x=%{x}<br>y=%{y}<extra></extra>",
           "ids": [
            "FULL-SIZE"
           ],
           "legendgroup": "FULL-SIZE",
           "line": {
            "color": "#E15F99",
            "dash": "solid"
           },
           "marker": {
            "symbol": "circle"
           },
           "mode": "markers+lines",
           "name": "FULL-SIZE",
           "orientation": "v",
           "showlegend": true,
           "type": "scatter",
           "x": [
            2007
           ],
           "xaxis": "x",
           "y": [
            24.462962962962962
           ],
           "yaxis": "y"
          },
          {
           "hovertemplate": "color=MID-SIZE<br>animation_frame=2007<br>x=%{x}<br>y=%{y}<extra></extra>",
           "ids": [
            "MID-SIZE"
           ],
           "legendgroup": "MID-SIZE",
           "line": {
            "color": "#1CA71C",
            "dash": "solid"
           },
           "marker": {
            "symbol": "circle"
           },
           "mode": "markers+lines",
           "name": "MID-SIZE",
           "orientation": "v",
           "showlegend": true,
           "type": "scatter",
           "x": [
            2007
           ],
           "xaxis": "x",
           "y": [
            29.115107913669064
           ],
           "yaxis": "y"
          },
          {
           "hovertemplate": "color=MINICOMPACT<br>animation_frame=2007<br>x=%{x}<br>y=%{y}<extra></extra>",
           "ids": [
            "MINICOMPACT"
           ],
           "legendgroup": "MINICOMPACT",
           "line": {
            "color": "#FB0D0D",
            "dash": "solid"
           },
           "marker": {
            "symbol": "circle"
           },
           "mode": "markers+lines",
           "name": "MINICOMPACT",
           "orientation": "v",
           "showlegend": true,
           "type": "scatter",
           "x": [
            2007
           ],
           "xaxis": "x",
           "y": [
            27.5531914893617
           ],
           "yaxis": "y"
          },
          {
           "hovertemplate": "color=MINIVAN<br>animation_frame=2007<br>x=%{x}<br>y=%{y}<extra></extra>",
           "ids": [
            "MINIVAN"
           ],
           "legendgroup": "MINIVAN",
           "line": {
            "color": "#DA16FF",
            "dash": "solid"
           },
           "marker": {
            "symbol": "circle"
           },
           "mode": "markers+lines",
           "name": "MINIVAN",
           "orientation": "v",
           "showlegend": true,
           "type": "scatter",
           "x": [
            2007
           ],
           "xaxis": "x",
           "y": [
            24.08823529411765
           ],
           "yaxis": "y"
          },
          {
           "hovertemplate": "color=PICKUP TRUCK - STANDARD<br>animation_frame=2007<br>x=%{x}<br>y=%{y}<extra></extra>",
           "ids": [
            "PICKUP TRUCK - STANDARD"
           ],
           "legendgroup": "PICKUP TRUCK - STANDARD",
           "line": {
            "color": "#B68100",
            "dash": "solid"
           },
           "marker": {
            "symbol": "circle"
           },
           "mode": "markers+lines",
           "name": "PICKUP TRUCK - STANDARD",
           "orientation": "v",
           "showlegend": true,
           "type": "scatter",
           "x": [
            2007
           ],
           "xaxis": "x",
           "y": [
            21.623376623376622
           ],
           "yaxis": "y"
          },
          {
           "hovertemplate": "color=STATION WAGON - MID-SIZE<br>animation_frame=2007<br>x=%{x}<br>y=%{y}<extra></extra>",
           "ids": [
            "STATION WAGON - MID-SIZE"
           ],
           "legendgroup": "STATION WAGON - MID-SIZE",
           "line": {
            "color": "#750D86",
            "dash": "solid"
           },
           "marker": {
            "symbol": "circle"
           },
           "mode": "markers+lines",
           "name": "STATION WAGON - MID-SIZE",
           "orientation": "v",
           "showlegend": true,
           "type": "scatter",
           "x": [
            2007
           ],
           "xaxis": "x",
           "y": [
            28.625
           ],
           "yaxis": "y"
          },
          {
           "hovertemplate": "color=STATION WAGON - SMALL<br>animation_frame=2007<br>x=%{x}<br>y=%{y}<extra></extra>",
           "ids": [
            "STATION WAGON - SMALL"
           ],
           "legendgroup": "STATION WAGON - SMALL",
           "line": {
            "color": "#EB663B",
            "dash": "solid"
           },
           "marker": {
            "symbol": "circle"
           },
           "mode": "markers+lines",
           "name": "STATION WAGON - SMALL",
           "orientation": "v",
           "showlegend": true,
           "type": "scatter",
           "x": [
            2007
           ],
           "xaxis": "x",
           "y": [
            31.59090909090909
           ],
           "yaxis": "y"
          },
          {
           "hovertemplate": "color=SUBCOMPACT<br>animation_frame=2007<br>x=%{x}<br>y=%{y}<extra></extra>",
           "ids": [
            "SUBCOMPACT"
           ],
           "legendgroup": "SUBCOMPACT",
           "line": {
            "color": "#511CFB",
            "dash": "solid"
           },
           "marker": {
            "symbol": "circle"
           },
           "mode": "markers+lines",
           "name": "SUBCOMPACT",
           "orientation": "v",
           "showlegend": true,
           "type": "scatter",
           "x": [
            2007
           ],
           "xaxis": "x",
           "y": [
            29.50602409638554
           ],
           "yaxis": "y"
          },
          {
           "hovertemplate": "color=SUV<br>animation_frame=2007<br>x=%{x}<br>y=%{y}<extra></extra>",
           "ids": [
            "SUV"
           ],
           "legendgroup": "SUV",
           "line": {
            "color": "#00A08B",
            "dash": "solid"
           },
           "marker": {
            "symbol": "circle"
           },
           "mode": "markers+lines",
           "name": "SUV",
           "orientation": "v",
           "showlegend": true,
           "type": "scatter",
           "x": [
            2007
           ],
           "xaxis": "x",
           "y": [
            24.748953974895397
           ],
           "yaxis": "y"
          },
          {
           "hovertemplate": "color=TWO-SEATER<br>animation_frame=2007<br>x=%{x}<br>y=%{y}<extra></extra>",
           "ids": [
            "TWO-SEATER"
           ],
           "legendgroup": "TWO-SEATER",
           "line": {
            "color": "#FB00D1",
            "dash": "solid"
           },
           "marker": {
            "symbol": "circle"
           },
           "mode": "markers+lines",
           "name": "TWO-SEATER",
           "orientation": "v",
           "showlegend": true,
           "type": "scatter",
           "x": [
            2007
           ],
           "xaxis": "x",
           "y": [
            25.049180327868854
           ],
           "yaxis": "y"
          },
          {
           "hovertemplate": "color=VAN - CARGO<br>animation_frame=2007<br>x=%{x}<br>y=%{y}<extra></extra>",
           "ids": [
            "VAN - CARGO"
           ],
           "legendgroup": "VAN - CARGO",
           "line": {
            "color": "#FC0080",
            "dash": "solid"
           },
           "marker": {
            "symbol": "circle"
           },
           "mode": "markers+lines",
           "name": "VAN - CARGO",
           "orientation": "v",
           "showlegend": true,
           "type": "scatter",
           "x": [
            2007
           ],
           "xaxis": "x",
           "y": [
            18.666666666666668
           ],
           "yaxis": "y"
          },
          {
           "hovertemplate": "color=VAN - PASSENGER<br>animation_frame=2007<br>x=%{x}<br>y=%{y}<extra></extra>",
           "ids": [
            "VAN - PASSENGER"
           ],
           "legendgroup": "VAN - PASSENGER",
           "line": {
            "color": "#B2828D",
            "dash": "solid"
           },
           "marker": {
            "symbol": "circle"
           },
           "mode": "markers+lines",
           "name": "VAN - PASSENGER",
           "orientation": "v",
           "showlegend": true,
           "type": "scatter",
           "x": [
            2007
           ],
           "xaxis": "x",
           "y": [
            17.5
           ],
           "yaxis": "y"
          },
          {
           "hovertemplate": "color=SUV - STANDARD<br>animation_frame=2007<br>x=%{x}<br>y=%{y}<extra></extra>",
           "ids": [
            "SUV - STANDARD"
           ],
           "legendgroup": "SUV - STANDARD",
           "line": {
            "color": "#6C7C32",
            "dash": "solid"
           },
           "marker": {
            "symbol": "circle"
           },
           "mode": "markers+lines",
           "name": "SUV - STANDARD",
           "orientation": "v",
           "showlegend": true,
           "type": "scatter",
           "x": [
            2007
           ],
           "xaxis": "x",
           "y": [
            20
           ],
           "yaxis": "y"
          }
         ],
         "name": "2007"
        },
        {
         "data": [
          {
           "hovertemplate": "color=COMPACT<br>animation_frame=2008<br>x=%{x}<br>y=%{y}<extra></extra>",
           "ids": [
            "COMPACT"
           ],
           "legendgroup": "COMPACT",
           "line": {
            "color": "#2E91E5",
            "dash": "solid"
           },
           "marker": {
            "symbol": "circle"
           },
           "mode": "markers+lines",
           "name": "COMPACT",
           "orientation": "v",
           "showlegend": true,
           "type": "scatter",
           "x": [
            2008
           ],
           "xaxis": "x",
           "y": [
            30.2027027027027
           ],
           "yaxis": "y"
          },
          {
           "hovertemplate": "color=FULL-SIZE<br>animation_frame=2008<br>x=%{x}<br>y=%{y}<extra></extra>",
           "ids": [
            "FULL-SIZE"
           ],
           "legendgroup": "FULL-SIZE",
           "line": {
            "color": "#E15F99",
            "dash": "solid"
           },
           "marker": {
            "symbol": "circle"
           },
           "mode": "markers+lines",
           "name": "FULL-SIZE",
           "orientation": "v",
           "showlegend": true,
           "type": "scatter",
           "x": [
            2008
           ],
           "xaxis": "x",
           "y": [
            24.50793650793651
           ],
           "yaxis": "y"
          },
          {
           "hovertemplate": "color=MID-SIZE<br>animation_frame=2008<br>x=%{x}<br>y=%{y}<extra></extra>",
           "ids": [
            "MID-SIZE"
           ],
           "legendgroup": "MID-SIZE",
           "line": {
            "color": "#1CA71C",
            "dash": "solid"
           },
           "marker": {
            "symbol": "circle"
           },
           "mode": "markers+lines",
           "name": "MID-SIZE",
           "orientation": "v",
           "showlegend": true,
           "type": "scatter",
           "x": [
            2008
           ],
           "xaxis": "x",
           "y": [
            28.970149253731343
           ],
           "yaxis": "y"
          },
          {
           "hovertemplate": "color=MINICOMPACT<br>animation_frame=2008<br>x=%{x}<br>y=%{y}<extra></extra>",
           "ids": [
            "MINICOMPACT"
           ],
           "legendgroup": "MINICOMPACT",
           "line": {
            "color": "#FB0D0D",
            "dash": "solid"
           },
           "marker": {
            "symbol": "circle"
           },
           "mode": "markers+lines",
           "name": "MINICOMPACT",
           "orientation": "v",
           "showlegend": true,
           "type": "scatter",
           "x": [
            2008
           ],
           "xaxis": "x",
           "y": [
            27.897959183673468
           ],
           "yaxis": "y"
          },
          {
           "hovertemplate": "color=MINIVAN<br>animation_frame=2008<br>x=%{x}<br>y=%{y}<extra></extra>",
           "ids": [
            "MINIVAN"
           ],
           "legendgroup": "MINIVAN",
           "line": {
            "color": "#DA16FF",
            "dash": "solid"
           },
           "marker": {
            "symbol": "circle"
           },
           "mode": "markers+lines",
           "name": "MINIVAN",
           "orientation": "v",
           "showlegend": true,
           "type": "scatter",
           "x": [
            2008
           ],
           "xaxis": "x",
           "y": [
            25
           ],
           "yaxis": "y"
          },
          {
           "hovertemplate": "color=PICKUP TRUCK - SMALL<br>animation_frame=2008<br>x=%{x}<br>y=%{y}<extra></extra>",
           "ids": [
            "PICKUP TRUCK - SMALL"
           ],
           "legendgroup": "PICKUP TRUCK - SMALL",
           "line": {
            "color": "#222A2A",
            "dash": "solid"
           },
           "marker": {
            "symbol": "circle"
           },
           "mode": "markers+lines",
           "name": "PICKUP TRUCK - SMALL",
           "orientation": "v",
           "showlegend": true,
           "type": "scatter",
           "x": [
            2008
           ],
           "xaxis": "x",
           "y": [
            24.76923076923077
           ],
           "yaxis": "y"
          },
          {
           "hovertemplate": "color=PICKUP TRUCK - STANDARD<br>animation_frame=2008<br>x=%{x}<br>y=%{y}<extra></extra>",
           "ids": [
            "PICKUP TRUCK - STANDARD"
           ],
           "legendgroup": "PICKUP TRUCK - STANDARD",
           "line": {
            "color": "#B68100",
            "dash": "solid"
           },
           "marker": {
            "symbol": "circle"
           },
           "mode": "markers+lines",
           "name": "PICKUP TRUCK - STANDARD",
           "orientation": "v",
           "showlegend": true,
           "type": "scatter",
           "x": [
            2008
           ],
           "xaxis": "x",
           "y": [
            20.09722222222222
           ],
           "yaxis": "y"
          },
          {
           "hovertemplate": "color=STATION WAGON - MID-SIZE<br>animation_frame=2008<br>x=%{x}<br>y=%{y}<extra></extra>",
           "ids": [
            "STATION WAGON - MID-SIZE"
           ],
           "legendgroup": "STATION WAGON - MID-SIZE",
           "line": {
            "color": "#750D86",
            "dash": "solid"
           },
           "marker": {
            "symbol": "circle"
           },
           "mode": "markers+lines",
           "name": "STATION WAGON - MID-SIZE",
           "orientation": "v",
           "showlegend": true,
           "type": "scatter",
           "x": [
            2008
           ],
           "xaxis": "x",
           "y": [
            28.5
           ],
           "yaxis": "y"
          },
          {
           "hovertemplate": "color=STATION WAGON - SMALL<br>animation_frame=2008<br>x=%{x}<br>y=%{y}<extra></extra>",
           "ids": [
            "STATION WAGON - SMALL"
           ],
           "legendgroup": "STATION WAGON - SMALL",
           "line": {
            "color": "#EB663B",
            "dash": "solid"
           },
           "marker": {
            "symbol": "circle"
           },
           "mode": "markers+lines",
           "name": "STATION WAGON - SMALL",
           "orientation": "v",
           "showlegend": true,
           "type": "scatter",
           "x": [
            2008
           ],
           "xaxis": "x",
           "y": [
            31.58139534883721
           ],
           "yaxis": "y"
          },
          {
           "hovertemplate": "color=SUBCOMPACT<br>animation_frame=2008<br>x=%{x}<br>y=%{y}<extra></extra>",
           "ids": [
            "SUBCOMPACT"
           ],
           "legendgroup": "SUBCOMPACT",
           "line": {
            "color": "#511CFB",
            "dash": "solid"
           },
           "marker": {
            "symbol": "circle"
           },
           "mode": "markers+lines",
           "name": "SUBCOMPACT",
           "orientation": "v",
           "showlegend": true,
           "type": "scatter",
           "x": [
            2008
           ],
           "xaxis": "x",
           "y": [
            29.86
           ],
           "yaxis": "y"
          },
          {
           "hovertemplate": "color=SUV<br>animation_frame=2008<br>x=%{x}<br>y=%{y}<extra></extra>",
           "ids": [
            "SUV"
           ],
           "legendgroup": "SUV",
           "line": {
            "color": "#00A08B",
            "dash": "solid"
           },
           "marker": {
            "symbol": "circle"
           },
           "mode": "markers+lines",
           "name": "SUV",
           "orientation": "v",
           "showlegend": true,
           "type": "scatter",
           "x": [
            2008
           ],
           "xaxis": "x",
           "y": [
            24.95505617977528
           ],
           "yaxis": "y"
          },
          {
           "hovertemplate": "color=TWO-SEATER<br>animation_frame=2008<br>x=%{x}<br>y=%{y}<extra></extra>",
           "ids": [
            "TWO-SEATER"
           ],
           "legendgroup": "TWO-SEATER",
           "line": {
            "color": "#FB00D1",
            "dash": "solid"
           },
           "marker": {
            "symbol": "circle"
           },
           "mode": "markers+lines",
           "name": "TWO-SEATER",
           "orientation": "v",
           "showlegend": true,
           "type": "scatter",
           "x": [
            2008
           ],
           "xaxis": "x",
           "y": [
            25.575342465753426
           ],
           "yaxis": "y"
          },
          {
           "hovertemplate": "color=VAN - CARGO<br>animation_frame=2008<br>x=%{x}<br>y=%{y}<extra></extra>",
           "ids": [
            "VAN - CARGO"
           ],
           "legendgroup": "VAN - CARGO",
           "line": {
            "color": "#FC0080",
            "dash": "solid"
           },
           "marker": {
            "symbol": "circle"
           },
           "mode": "markers+lines",
           "name": "VAN - CARGO",
           "orientation": "v",
           "showlegend": true,
           "type": "scatter",
           "x": [
            2008
           ],
           "xaxis": "x",
           "y": [
            18.53846153846154
           ],
           "yaxis": "y"
          },
          {
           "hovertemplate": "color=VAN - PASSENGER<br>animation_frame=2008<br>x=%{x}<br>y=%{y}<extra></extra>",
           "ids": [
            "VAN - PASSENGER"
           ],
           "legendgroup": "VAN - PASSENGER",
           "line": {
            "color": "#B2828D",
            "dash": "solid"
           },
           "marker": {
            "symbol": "circle"
           },
           "mode": "markers+lines",
           "name": "VAN - PASSENGER",
           "orientation": "v",
           "showlegend": true,
           "type": "scatter",
           "x": [
            2008
           ],
           "xaxis": "x",
           "y": [
            17.666666666666668
           ],
           "yaxis": "y"
          }
         ],
         "name": "2008"
        },
        {
         "data": [
          {
           "hovertemplate": "color=COMPACT<br>animation_frame=2009<br>x=%{x}<br>y=%{y}<extra></extra>",
           "ids": [
            "COMPACT"
           ],
           "legendgroup": "COMPACT",
           "line": {
            "color": "#2E91E5",
            "dash": "solid"
           },
           "marker": {
            "symbol": "circle"
           },
           "mode": "markers+lines",
           "name": "COMPACT",
           "orientation": "v",
           "showlegend": true,
           "type": "scatter",
           "x": [
            2009
           ],
           "xaxis": "x",
           "y": [
            30.326666666666668
           ],
           "yaxis": "y"
          },
          {
           "hovertemplate": "color=FULL-SIZE<br>animation_frame=2009<br>x=%{x}<br>y=%{y}<extra></extra>",
           "ids": [
            "FULL-SIZE"
           ],
           "legendgroup": "FULL-SIZE",
           "line": {
            "color": "#E15F99",
            "dash": "solid"
           },
           "marker": {
            "symbol": "circle"
           },
           "mode": "markers+lines",
           "name": "FULL-SIZE",
           "orientation": "v",
           "showlegend": true,
           "type": "scatter",
           "x": [
            2009
           ],
           "xaxis": "x",
           "y": [
            24.676470588235293
           ],
           "yaxis": "y"
          },
          {
           "hovertemplate": "color=MID-SIZE<br>animation_frame=2009<br>x=%{x}<br>y=%{y}<extra></extra>",
           "ids": [
            "MID-SIZE"
           ],
           "legendgroup": "MID-SIZE",
           "line": {
            "color": "#1CA71C",
            "dash": "solid"
           },
           "marker": {
            "symbol": "circle"
           },
           "mode": "markers+lines",
           "name": "MID-SIZE",
           "orientation": "v",
           "showlegend": true,
           "type": "scatter",
           "x": [
            2009
           ],
           "xaxis": "x",
           "y": [
            29.024
           ],
           "yaxis": "y"
          },
          {
           "hovertemplate": "color=MINICOMPACT<br>animation_frame=2009<br>x=%{x}<br>y=%{y}<extra></extra>",
           "ids": [
            "MINICOMPACT"
           ],
           "legendgroup": "MINICOMPACT",
           "line": {
            "color": "#FB0D0D",
            "dash": "solid"
           },
           "marker": {
            "symbol": "circle"
           },
           "mode": "markers+lines",
           "name": "MINICOMPACT",
           "orientation": "v",
           "showlegend": true,
           "type": "scatter",
           "x": [
            2009
           ],
           "xaxis": "x",
           "y": [
            31.023255813953487
           ],
           "yaxis": "y"
          },
          {
           "hovertemplate": "color=MINIVAN<br>animation_frame=2009<br>x=%{x}<br>y=%{y}<extra></extra>",
           "ids": [
            "MINIVAN"
           ],
           "legendgroup": "MINIVAN",
           "line": {
            "color": "#DA16FF",
            "dash": "solid"
           },
           "marker": {
            "symbol": "circle"
           },
           "mode": "markers+lines",
           "name": "MINIVAN",
           "orientation": "v",
           "showlegend": true,
           "type": "scatter",
           "x": [
            2009
           ],
           "xaxis": "x",
           "y": [
            26
           ],
           "yaxis": "y"
          },
          {
           "hovertemplate": "color=PICKUP TRUCK - SMALL<br>animation_frame=2009<br>x=%{x}<br>y=%{y}<extra></extra>",
           "ids": [
            "PICKUP TRUCK - SMALL"
           ],
           "legendgroup": "PICKUP TRUCK - SMALL",
           "line": {
            "color": "#222A2A",
            "dash": "solid"
           },
           "marker": {
            "symbol": "circle"
           },
           "mode": "markers+lines",
           "name": "PICKUP TRUCK - SMALL",
           "orientation": "v",
           "showlegend": true,
           "type": "scatter",
           "x": [
            2009
           ],
           "xaxis": "x",
           "y": [
            25.338983050847457
           ],
           "yaxis": "y"
          },
          {
           "hovertemplate": "color=PICKUP TRUCK - STANDARD<br>animation_frame=2009<br>x=%{x}<br>y=%{y}<extra></extra>",
           "ids": [
            "PICKUP TRUCK - STANDARD"
           ],
           "legendgroup": "PICKUP TRUCK - STANDARD",
           "line": {
            "color": "#B68100",
            "dash": "solid"
           },
           "marker": {
            "symbol": "circle"
           },
           "mode": "markers+lines",
           "name": "PICKUP TRUCK - STANDARD",
           "orientation": "v",
           "showlegend": true,
           "type": "scatter",
           "x": [
            2009
           ],
           "xaxis": "x",
           "y": [
            20.54736842105263
           ],
           "yaxis": "y"
          },
          {
           "hovertemplate": "color=STATION WAGON - MID-SIZE<br>animation_frame=2009<br>x=%{x}<br>y=%{y}<extra></extra>",
           "ids": [
            "STATION WAGON - MID-SIZE"
           ],
           "legendgroup": "STATION WAGON - MID-SIZE",
           "line": {
            "color": "#750D86",
            "dash": "solid"
           },
           "marker": {
            "symbol": "circle"
           },
           "mode": "markers+lines",
           "name": "STATION WAGON - MID-SIZE",
           "orientation": "v",
           "showlegend": true,
           "type": "scatter",
           "x": [
            2009
           ],
           "xaxis": "x",
           "y": [
            28.53846153846154
           ],
           "yaxis": "y"
          },
          {
           "hovertemplate": "color=STATION WAGON - SMALL<br>animation_frame=2009<br>x=%{x}<br>y=%{y}<extra></extra>",
           "ids": [
            "STATION WAGON - SMALL"
           ],
           "legendgroup": "STATION WAGON - SMALL",
           "line": {
            "color": "#EB663B",
            "dash": "solid"
           },
           "marker": {
            "symbol": "circle"
           },
           "mode": "markers+lines",
           "name": "STATION WAGON - SMALL",
           "orientation": "v",
           "showlegend": true,
           "type": "scatter",
           "x": [
            2009
           ],
           "xaxis": "x",
           "y": [
            32.351851851851855
           ],
           "yaxis": "y"
          },
          {
           "hovertemplate": "color=SUBCOMPACT<br>animation_frame=2009<br>x=%{x}<br>y=%{y}<extra></extra>",
           "ids": [
            "SUBCOMPACT"
           ],
           "legendgroup": "SUBCOMPACT",
           "line": {
            "color": "#511CFB",
            "dash": "solid"
           },
           "marker": {
            "symbol": "circle"
           },
           "mode": "markers+lines",
           "name": "SUBCOMPACT",
           "orientation": "v",
           "showlegend": true,
           "type": "scatter",
           "x": [
            2009
           ],
           "xaxis": "x",
           "y": [
            29.98989898989899
           ],
           "yaxis": "y"
          },
          {
           "hovertemplate": "color=SUV<br>animation_frame=2009<br>x=%{x}<br>y=%{y}<extra></extra>",
           "ids": [
            "SUV"
           ],
           "legendgroup": "SUV",
           "line": {
            "color": "#00A08B",
            "dash": "solid"
           },
           "marker": {
            "symbol": "circle"
           },
           "mode": "markers+lines",
           "name": "SUV",
           "orientation": "v",
           "showlegend": true,
           "type": "scatter",
           "x": [
            2009
           ],
           "xaxis": "x",
           "y": [
            25.100746268656717
           ],
           "yaxis": "y"
          },
          {
           "hovertemplate": "color=TWO-SEATER<br>animation_frame=2009<br>x=%{x}<br>y=%{y}<extra></extra>",
           "ids": [
            "TWO-SEATER"
           ],
           "legendgroup": "TWO-SEATER",
           "line": {
            "color": "#FB00D1",
            "dash": "solid"
           },
           "marker": {
            "symbol": "circle"
           },
           "mode": "markers+lines",
           "name": "TWO-SEATER",
           "orientation": "v",
           "showlegend": true,
           "type": "scatter",
           "x": [
            2009
           ],
           "xaxis": "x",
           "y": [
            24.109375
           ],
           "yaxis": "y"
          },
          {
           "hovertemplate": "color=VAN - CARGO<br>animation_frame=2009<br>x=%{x}<br>y=%{y}<extra></extra>",
           "ids": [
            "VAN - CARGO"
           ],
           "legendgroup": "VAN - CARGO",
           "line": {
            "color": "#FC0080",
            "dash": "solid"
           },
           "marker": {
            "symbol": "circle"
           },
           "mode": "markers+lines",
           "name": "VAN - CARGO",
           "orientation": "v",
           "showlegend": true,
           "type": "scatter",
           "x": [
            2009
           ],
           "xaxis": "x",
           "y": [
            18.53846153846154
           ],
           "yaxis": "y"
          },
          {
           "hovertemplate": "color=VAN - PASSENGER<br>animation_frame=2009<br>x=%{x}<br>y=%{y}<extra></extra>",
           "ids": [
            "VAN - PASSENGER"
           ],
           "legendgroup": "VAN - PASSENGER",
           "line": {
            "color": "#B2828D",
            "dash": "solid"
           },
           "marker": {
            "symbol": "circle"
           },
           "mode": "markers+lines",
           "name": "VAN - PASSENGER",
           "orientation": "v",
           "showlegend": true,
           "type": "scatter",
           "x": [
            2009
           ],
           "xaxis": "x",
           "y": [
            17.666666666666668
           ],
           "yaxis": "y"
          }
         ],
         "name": "2009"
        },
        {
         "data": [
          {
           "hovertemplate": "color=COMPACT<br>animation_frame=2010<br>x=%{x}<br>y=%{y}<extra></extra>",
           "ids": [
            "COMPACT"
           ],
           "legendgroup": "COMPACT",
           "line": {
            "color": "#2E91E5",
            "dash": "solid"
           },
           "marker": {
            "symbol": "circle"
           },
           "mode": "markers+lines",
           "name": "COMPACT",
           "orientation": "v",
           "showlegend": true,
           "type": "scatter",
           "x": [
            2010
           ],
           "xaxis": "x",
           "y": [
            32.17142857142857
           ],
           "yaxis": "y"
          },
          {
           "hovertemplate": "color=FULL-SIZE<br>animation_frame=2010<br>x=%{x}<br>y=%{y}<extra></extra>",
           "ids": [
            "FULL-SIZE"
           ],
           "legendgroup": "FULL-SIZE",
           "line": {
            "color": "#E15F99",
            "dash": "solid"
           },
           "marker": {
            "symbol": "circle"
           },
           "mode": "markers+lines",
           "name": "FULL-SIZE",
           "orientation": "v",
           "showlegend": true,
           "type": "scatter",
           "x": [
            2010
           ],
           "xaxis": "x",
           "y": [
            24.441558441558442
           ],
           "yaxis": "y"
          },
          {
           "hovertemplate": "color=MID-SIZE<br>animation_frame=2010<br>x=%{x}<br>y=%{y}<extra></extra>",
           "ids": [
            "MID-SIZE"
           ],
           "legendgroup": "MID-SIZE",
           "line": {
            "color": "#1CA71C",
            "dash": "solid"
           },
           "marker": {
            "symbol": "circle"
           },
           "mode": "markers+lines",
           "name": "MID-SIZE",
           "orientation": "v",
           "showlegend": true,
           "type": "scatter",
           "x": [
            2010
           ],
           "xaxis": "x",
           "y": [
            29.95
           ],
           "yaxis": "y"
          },
          {
           "hovertemplate": "color=MINICOMPACT<br>animation_frame=2010<br>x=%{x}<br>y=%{y}<extra></extra>",
           "ids": [
            "MINICOMPACT"
           ],
           "legendgroup": "MINICOMPACT",
           "line": {
            "color": "#FB0D0D",
            "dash": "solid"
           },
           "marker": {
            "symbol": "circle"
           },
           "mode": "markers+lines",
           "name": "MINICOMPACT",
           "orientation": "v",
           "showlegend": true,
           "type": "scatter",
           "x": [
            2010
           ],
           "xaxis": "x",
           "y": [
            30.4390243902439
           ],
           "yaxis": "y"
          },
          {
           "hovertemplate": "color=MINIVAN<br>animation_frame=2010<br>x=%{x}<br>y=%{y}<extra></extra>",
           "ids": [
            "MINIVAN"
           ],
           "legendgroup": "MINIVAN",
           "line": {
            "color": "#DA16FF",
            "dash": "solid"
           },
           "marker": {
            "symbol": "circle"
           },
           "mode": "markers+lines",
           "name": "MINIVAN",
           "orientation": "v",
           "showlegend": true,
           "type": "scatter",
           "x": [
            2010
           ],
           "xaxis": "x",
           "y": [
            26.142857142857142
           ],
           "yaxis": "y"
          },
          {
           "hovertemplate": "color=PICKUP TRUCK - SMALL<br>animation_frame=2010<br>x=%{x}<br>y=%{y}<extra></extra>",
           "ids": [
            "PICKUP TRUCK - SMALL"
           ],
           "legendgroup": "PICKUP TRUCK - SMALL",
           "line": {
            "color": "#222A2A",
            "dash": "solid"
           },
           "marker": {
            "symbol": "circle"
           },
           "mode": "markers+lines",
           "name": "PICKUP TRUCK - SMALL",
           "orientation": "v",
           "showlegend": true,
           "type": "scatter",
           "x": [
            2010
           ],
           "xaxis": "x",
           "y": [
            25.48148148148148
           ],
           "yaxis": "y"
          },
          {
           "hovertemplate": "color=PICKUP TRUCK - STANDARD<br>animation_frame=2010<br>x=%{x}<br>y=%{y}<extra></extra>",
           "ids": [
            "PICKUP TRUCK - STANDARD"
           ],
           "legendgroup": "PICKUP TRUCK - STANDARD",
           "line": {
            "color": "#B68100",
            "dash": "solid"
           },
           "marker": {
            "symbol": "circle"
           },
           "mode": "markers+lines",
           "name": "PICKUP TRUCK - STANDARD",
           "orientation": "v",
           "showlegend": true,
           "type": "scatter",
           "x": [
            2010
           ],
           "xaxis": "x",
           "y": [
            20.054794520547944
           ],
           "yaxis": "y"
          },
          {
           "hovertemplate": "color=STATION WAGON - MID-SIZE<br>animation_frame=2010<br>x=%{x}<br>y=%{y}<extra></extra>",
           "ids": [
            "STATION WAGON - MID-SIZE"
           ],
           "legendgroup": "STATION WAGON - MID-SIZE",
           "line": {
            "color": "#750D86",
            "dash": "solid"
           },
           "marker": {
            "symbol": "circle"
           },
           "mode": "markers+lines",
           "name": "STATION WAGON - MID-SIZE",
           "orientation": "v",
           "showlegend": true,
           "type": "scatter",
           "x": [
            2010
           ],
           "xaxis": "x",
           "y": [
            28.88888888888889
           ],
           "yaxis": "y"
          },
          {
           "hovertemplate": "color=STATION WAGON - SMALL<br>animation_frame=2010<br>x=%{x}<br>y=%{y}<extra></extra>",
           "ids": [
            "STATION WAGON - SMALL"
           ],
           "legendgroup": "STATION WAGON - SMALL",
           "line": {
            "color": "#EB663B",
            "dash": "solid"
           },
           "marker": {
            "symbol": "circle"
           },
           "mode": "markers+lines",
           "name": "STATION WAGON - SMALL",
           "orientation": "v",
           "showlegend": true,
           "type": "scatter",
           "x": [
            2010
           ],
           "xaxis": "x",
           "y": [
            33.56666666666667
           ],
           "yaxis": "y"
          },
          {
           "hovertemplate": "color=SUBCOMPACT<br>animation_frame=2010<br>x=%{x}<br>y=%{y}<extra></extra>",
           "ids": [
            "SUBCOMPACT"
           ],
           "legendgroup": "SUBCOMPACT",
           "line": {
            "color": "#511CFB",
            "dash": "solid"
           },
           "marker": {
            "symbol": "circle"
           },
           "mode": "markers+lines",
           "name": "SUBCOMPACT",
           "orientation": "v",
           "showlegend": true,
           "type": "scatter",
           "x": [
            2010
           ],
           "xaxis": "x",
           "y": [
            30.510204081632654
           ],
           "yaxis": "y"
          },
          {
           "hovertemplate": "color=SUV<br>animation_frame=2010<br>x=%{x}<br>y=%{y}<extra></extra>",
           "ids": [
            "SUV"
           ],
           "legendgroup": "SUV",
           "line": {
            "color": "#00A08B",
            "dash": "solid"
           },
           "marker": {
            "symbol": "circle"
           },
           "mode": "markers+lines",
           "name": "SUV",
           "orientation": "v",
           "showlegend": true,
           "type": "scatter",
           "x": [
            2010
           ],
           "xaxis": "x",
           "y": [
            26.417670682730925
           ],
           "yaxis": "y"
          },
          {
           "hovertemplate": "color=TWO-SEATER<br>animation_frame=2010<br>x=%{x}<br>y=%{y}<extra></extra>",
           "ids": [
            "TWO-SEATER"
           ],
           "legendgroup": "TWO-SEATER",
           "line": {
            "color": "#FB00D1",
            "dash": "solid"
           },
           "marker": {
            "symbol": "circle"
           },
           "mode": "markers+lines",
           "name": "TWO-SEATER",
           "orientation": "v",
           "showlegend": true,
           "type": "scatter",
           "x": [
            2010
           ],
           "xaxis": "x",
           "y": [
            25.16949152542373
           ],
           "yaxis": "y"
          },
          {
           "hovertemplate": "color=VAN - CARGO<br>animation_frame=2010<br>x=%{x}<br>y=%{y}<extra></extra>",
           "ids": [
            "VAN - CARGO"
           ],
           "legendgroup": "VAN - CARGO",
           "line": {
            "color": "#FC0080",
            "dash": "solid"
           },
           "marker": {
            "symbol": "circle"
           },
           "mode": "markers+lines",
           "name": "VAN - CARGO",
           "orientation": "v",
           "showlegend": true,
           "type": "scatter",
           "x": [
            2010
           ],
           "xaxis": "x",
           "y": [
            17.666666666666668
           ],
           "yaxis": "y"
          },
          {
           "hovertemplate": "color=VAN - PASSENGER<br>animation_frame=2010<br>x=%{x}<br>y=%{y}<extra></extra>",
           "ids": [
            "VAN - PASSENGER"
           ],
           "legendgroup": "VAN - PASSENGER",
           "line": {
            "color": "#B2828D",
            "dash": "solid"
           },
           "marker": {
            "symbol": "circle"
           },
           "mode": "markers+lines",
           "name": "VAN - PASSENGER",
           "orientation": "v",
           "showlegend": true,
           "type": "scatter",
           "x": [
            2010
           ],
           "xaxis": "x",
           "y": [
            16.75
           ],
           "yaxis": "y"
          },
          {
           "hovertemplate": "color=SPECIAL PURPOSE VEHICLE<br>animation_frame=2010<br>x=%{x}<br>y=%{y}<extra></extra>",
           "ids": [
            "SPECIAL PURPOSE VEHICLE"
           ],
           "legendgroup": "SPECIAL PURPOSE VEHICLE",
           "line": {
            "color": "#778AAE",
            "dash": "solid"
           },
           "marker": {
            "symbol": "circle"
           },
           "mode": "markers+lines",
           "name": "SPECIAL PURPOSE VEHICLE",
           "orientation": "v",
           "showlegend": true,
           "type": "scatter",
           "x": [
            2010
           ],
           "xaxis": "x",
           "y": [
            32
           ],
           "yaxis": "y"
          }
         ],
         "name": "2010"
        },
        {
         "data": [
          {
           "hovertemplate": "color=COMPACT<br>animation_frame=2011<br>x=%{x}<br>y=%{y}<extra></extra>",
           "ids": [
            "COMPACT"
           ],
           "legendgroup": "COMPACT",
           "line": {
            "color": "#2E91E5",
            "dash": "solid"
           },
           "marker": {
            "symbol": "circle"
           },
           "mode": "markers+lines",
           "name": "COMPACT",
           "orientation": "v",
           "showlegend": true,
           "type": "scatter",
           "x": [
            2011
           ],
           "xaxis": "x",
           "y": [
            33.653225806451616
           ],
           "yaxis": "y"
          },
          {
           "hovertemplate": "color=FULL-SIZE<br>animation_frame=2011<br>x=%{x}<br>y=%{y}<extra></extra>",
           "ids": [
            "FULL-SIZE"
           ],
           "legendgroup": "FULL-SIZE",
           "line": {
            "color": "#E15F99",
            "dash": "solid"
           },
           "marker": {
            "symbol": "circle"
           },
           "mode": "markers+lines",
           "name": "FULL-SIZE",
           "orientation": "v",
           "showlegend": true,
           "type": "scatter",
           "x": [
            2011
           ],
           "xaxis": "x",
           "y": [
            25.08450704225352
           ],
           "yaxis": "y"
          },
          {
           "hovertemplate": "color=MID-SIZE<br>animation_frame=2011<br>x=%{x}<br>y=%{y}<extra></extra>",
           "ids": [
            "MID-SIZE"
           ],
           "legendgroup": "MID-SIZE",
           "line": {
            "color": "#1CA71C",
            "dash": "solid"
           },
           "marker": {
            "symbol": "circle"
           },
           "mode": "markers+lines",
           "name": "MID-SIZE",
           "orientation": "v",
           "showlegend": true,
           "type": "scatter",
           "x": [
            2011
           ],
           "xaxis": "x",
           "y": [
            31.96969696969697
           ],
           "yaxis": "y"
          },
          {
           "hovertemplate": "color=MINICOMPACT<br>animation_frame=2011<br>x=%{x}<br>y=%{y}<extra></extra>",
           "ids": [
            "MINICOMPACT"
           ],
           "legendgroup": "MINICOMPACT",
           "line": {
            "color": "#FB0D0D",
            "dash": "solid"
           },
           "marker": {
            "symbol": "circle"
           },
           "mode": "markers+lines",
           "name": "MINICOMPACT",
           "orientation": "v",
           "showlegend": true,
           "type": "scatter",
           "x": [
            2011
           ],
           "xaxis": "x",
           "y": [
            30.169811320754718
           ],
           "yaxis": "y"
          },
          {
           "hovertemplate": "color=MINIVAN<br>animation_frame=2011<br>x=%{x}<br>y=%{y}<extra></extra>",
           "ids": [
            "MINIVAN"
           ],
           "legendgroup": "MINIVAN",
           "line": {
            "color": "#DA16FF",
            "dash": "solid"
           },
           "marker": {
            "symbol": "circle"
           },
           "mode": "markers+lines",
           "name": "MINIVAN",
           "orientation": "v",
           "showlegend": true,
           "type": "scatter",
           "x": [
            2011
           ],
           "xaxis": "x",
           "y": [
            25.5
           ],
           "yaxis": "y"
          },
          {
           "hovertemplate": "color=PICKUP TRUCK - SMALL<br>animation_frame=2011<br>x=%{x}<br>y=%{y}<extra></extra>",
           "ids": [
            "PICKUP TRUCK - SMALL"
           ],
           "legendgroup": "PICKUP TRUCK - SMALL",
           "line": {
            "color": "#222A2A",
            "dash": "solid"
           },
           "marker": {
            "symbol": "circle"
           },
           "mode": "markers+lines",
           "name": "PICKUP TRUCK - SMALL",
           "orientation": "v",
           "showlegend": true,
           "type": "scatter",
           "x": [
            2011
           ],
           "xaxis": "x",
           "y": [
            25.529411764705884
           ],
           "yaxis": "y"
          },
          {
           "hovertemplate": "color=PICKUP TRUCK - STANDARD<br>animation_frame=2011<br>x=%{x}<br>y=%{y}<extra></extra>",
           "ids": [
            "PICKUP TRUCK - STANDARD"
           ],
           "legendgroup": "PICKUP TRUCK - STANDARD",
           "line": {
            "color": "#B68100",
            "dash": "solid"
           },
           "marker": {
            "symbol": "circle"
           },
           "mode": "markers+lines",
           "name": "PICKUP TRUCK - STANDARD",
           "orientation": "v",
           "showlegend": true,
           "type": "scatter",
           "x": [
            2011
           ],
           "xaxis": "x",
           "y": [
            20.270588235294117
           ],
           "yaxis": "y"
          },
          {
           "hovertemplate": "color=STATION WAGON - MID-SIZE<br>animation_frame=2011<br>x=%{x}<br>y=%{y}<extra></extra>",
           "ids": [
            "STATION WAGON - MID-SIZE"
           ],
           "legendgroup": "STATION WAGON - MID-SIZE",
           "line": {
            "color": "#750D86",
            "dash": "solid"
           },
           "marker": {
            "symbol": "circle"
           },
           "mode": "markers+lines",
           "name": "STATION WAGON - MID-SIZE",
           "orientation": "v",
           "showlegend": true,
           "type": "scatter",
           "x": [
            2011
           ],
           "xaxis": "x",
           "y": [
            28.5
           ],
           "yaxis": "y"
          },
          {
           "hovertemplate": "color=STATION WAGON - SMALL<br>animation_frame=2011<br>x=%{x}<br>y=%{y}<extra></extra>",
           "ids": [
            "STATION WAGON - SMALL"
           ],
           "legendgroup": "STATION WAGON - SMALL",
           "line": {
            "color": "#EB663B",
            "dash": "solid"
           },
           "marker": {
            "symbol": "circle"
           },
           "mode": "markers+lines",
           "name": "STATION WAGON - SMALL",
           "orientation": "v",
           "showlegend": true,
           "type": "scatter",
           "x": [
            2011
           ],
           "xaxis": "x",
           "y": [
            33.55357142857143
           ],
           "yaxis": "y"
          },
          {
           "hovertemplate": "color=SUBCOMPACT<br>animation_frame=2011<br>x=%{x}<br>y=%{y}<extra></extra>",
           "ids": [
            "SUBCOMPACT"
           ],
           "legendgroup": "SUBCOMPACT",
           "line": {
            "color": "#511CFB",
            "dash": "solid"
           },
           "marker": {
            "symbol": "circle"
           },
           "mode": "markers+lines",
           "name": "SUBCOMPACT",
           "orientation": "v",
           "showlegend": true,
           "type": "scatter",
           "x": [
            2011
           ],
           "xaxis": "x",
           "y": [
            31.01923076923077
           ],
           "yaxis": "y"
          },
          {
           "hovertemplate": "color=SUV<br>animation_frame=2011<br>x=%{x}<br>y=%{y}<extra></extra>",
           "ids": [
            "SUV"
           ],
           "legendgroup": "SUV",
           "line": {
            "color": "#00A08B",
            "dash": "solid"
           },
           "marker": {
            "symbol": "circle"
           },
           "mode": "markers+lines",
           "name": "SUV",
           "orientation": "v",
           "showlegend": true,
           "type": "scatter",
           "x": [
            2011
           ],
           "xaxis": "x",
           "y": [
            26.600746268656717
           ],
           "yaxis": "y"
          },
          {
           "hovertemplate": "color=TWO-SEATER<br>animation_frame=2011<br>x=%{x}<br>y=%{y}<extra></extra>",
           "ids": [
            "TWO-SEATER"
           ],
           "legendgroup": "TWO-SEATER",
           "line": {
            "color": "#FB00D1",
            "dash": "solid"
           },
           "marker": {
            "symbol": "circle"
           },
           "mode": "markers+lines",
           "name": "TWO-SEATER",
           "orientation": "v",
           "showlegend": true,
           "type": "scatter",
           "x": [
            2011
           ],
           "xaxis": "x",
           "y": [
            26.65625
           ],
           "yaxis": "y"
          },
          {
           "hovertemplate": "color=VAN - CARGO<br>animation_frame=2011<br>x=%{x}<br>y=%{y}<extra></extra>",
           "ids": [
            "VAN - CARGO"
           ],
           "legendgroup": "VAN - CARGO",
           "line": {
            "color": "#FC0080",
            "dash": "solid"
           },
           "marker": {
            "symbol": "circle"
           },
           "mode": "markers+lines",
           "name": "VAN - CARGO",
           "orientation": "v",
           "showlegend": true,
           "type": "scatter",
           "x": [
            2011
           ],
           "xaxis": "x",
           "y": [
            17.454545454545453
           ],
           "yaxis": "y"
          },
          {
           "hovertemplate": "color=VAN - PASSENGER<br>animation_frame=2011<br>x=%{x}<br>y=%{y}<extra></extra>",
           "ids": [
            "VAN - PASSENGER"
           ],
           "legendgroup": "VAN - PASSENGER",
           "line": {
            "color": "#B2828D",
            "dash": "solid"
           },
           "marker": {
            "symbol": "circle"
           },
           "mode": "markers+lines",
           "name": "VAN - PASSENGER",
           "orientation": "v",
           "showlegend": true,
           "type": "scatter",
           "x": [
            2011
           ],
           "xaxis": "x",
           "y": [
            15.62962962962963
           ],
           "yaxis": "y"
          },
          {
           "hovertemplate": "color=SPECIAL PURPOSE VEHICLE<br>animation_frame=2011<br>x=%{x}<br>y=%{y}<extra></extra>",
           "ids": [
            "SPECIAL PURPOSE VEHICLE"
           ],
           "legendgroup": "SPECIAL PURPOSE VEHICLE",
           "line": {
            "color": "#778AAE",
            "dash": "solid"
           },
           "marker": {
            "symbol": "circle"
           },
           "mode": "markers+lines",
           "name": "SPECIAL PURPOSE VEHICLE",
           "orientation": "v",
           "showlegend": true,
           "type": "scatter",
           "x": [
            2011
           ],
           "xaxis": "x",
           "y": [
            31
           ],
           "yaxis": "y"
          }
         ],
         "name": "2011"
        },
        {
         "data": [
          {
           "hovertemplate": "color=COMPACT<br>animation_frame=2012<br>x=%{x}<br>y=%{y}<extra></extra>",
           "ids": [
            "COMPACT"
           ],
           "legendgroup": "COMPACT",
           "line": {
            "color": "#2E91E5",
            "dash": "solid"
           },
           "marker": {
            "symbol": "circle"
           },
           "mode": "markers+lines",
           "name": "COMPACT",
           "orientation": "v",
           "showlegend": true,
           "type": "scatter",
           "x": [
            2012
           ],
           "xaxis": "x",
           "y": [
            35.06015037593985
           ],
           "yaxis": "y"
          },
          {
           "hovertemplate": "color=FULL-SIZE<br>animation_frame=2012<br>x=%{x}<br>y=%{y}<extra></extra>",
           "ids": [
            "FULL-SIZE"
           ],
           "legendgroup": "FULL-SIZE",
           "line": {
            "color": "#E15F99",
            "dash": "solid"
           },
           "marker": {
            "symbol": "circle"
           },
           "mode": "markers+lines",
           "name": "FULL-SIZE",
           "orientation": "v",
           "showlegend": true,
           "type": "scatter",
           "x": [
            2012
           ],
           "xaxis": "x",
           "y": [
            26.098765432098766
           ],
           "yaxis": "y"
          },
          {
           "hovertemplate": "color=MID-SIZE<br>animation_frame=2012<br>x=%{x}<br>y=%{y}<extra></extra>",
           "ids": [
            "MID-SIZE"
           ],
           "legendgroup": "MID-SIZE",
           "line": {
            "color": "#1CA71C",
            "dash": "solid"
           },
           "marker": {
            "symbol": "circle"
           },
           "mode": "markers+lines",
           "name": "MID-SIZE",
           "orientation": "v",
           "showlegend": true,
           "type": "scatter",
           "x": [
            2012
           ],
           "xaxis": "x",
           "y": [
            32.86259541984733
           ],
           "yaxis": "y"
          },
          {
           "hovertemplate": "color=MINICOMPACT<br>animation_frame=2012<br>x=%{x}<br>y=%{y}<extra></extra>",
           "ids": [
            "MINICOMPACT"
           ],
           "legendgroup": "MINICOMPACT",
           "line": {
            "color": "#FB0D0D",
            "dash": "solid"
           },
           "marker": {
            "symbol": "circle"
           },
           "mode": "markers+lines",
           "name": "MINICOMPACT",
           "orientation": "v",
           "showlegend": true,
           "type": "scatter",
           "x": [
            2012
           ],
           "xaxis": "x",
           "y": [
            30.56578947368421
           ],
           "yaxis": "y"
          },
          {
           "hovertemplate": "color=MINIVAN<br>animation_frame=2012<br>x=%{x}<br>y=%{y}<extra></extra>",
           "ids": [
            "MINIVAN"
           ],
           "legendgroup": "MINIVAN",
           "line": {
            "color": "#DA16FF",
            "dash": "solid"
           },
           "marker": {
            "symbol": "circle"
           },
           "mode": "markers+lines",
           "name": "MINIVAN",
           "orientation": "v",
           "showlegend": true,
           "type": "scatter",
           "x": [
            2012
           ],
           "xaxis": "x",
           "y": [
            27.375
           ],
           "yaxis": "y"
          },
          {
           "hovertemplate": "color=PICKUP TRUCK - SMALL<br>animation_frame=2012<br>x=%{x}<br>y=%{y}<extra></extra>",
           "ids": [
            "PICKUP TRUCK - SMALL"
           ],
           "legendgroup": "PICKUP TRUCK - SMALL",
           "line": {
            "color": "#222A2A",
            "dash": "solid"
           },
           "marker": {
            "symbol": "circle"
           },
           "mode": "markers+lines",
           "name": "PICKUP TRUCK - SMALL",
           "orientation": "v",
           "showlegend": true,
           "type": "scatter",
           "x": [
            2012
           ],
           "xaxis": "x",
           "y": [
            25.767441860465116
           ],
           "yaxis": "y"
          },
          {
           "hovertemplate": "color=PICKUP TRUCK - STANDARD<br>animation_frame=2012<br>x=%{x}<br>y=%{y}<extra></extra>",
           "ids": [
            "PICKUP TRUCK - STANDARD"
           ],
           "legendgroup": "PICKUP TRUCK - STANDARD",
           "line": {
            "color": "#B68100",
            "dash": "solid"
           },
           "marker": {
            "symbol": "circle"
           },
           "mode": "markers+lines",
           "name": "PICKUP TRUCK - STANDARD",
           "orientation": "v",
           "showlegend": true,
           "type": "scatter",
           "x": [
            2012
           ],
           "xaxis": "x",
           "y": [
            20.468354430379748
           ],
           "yaxis": "y"
          },
          {
           "hovertemplate": "color=STATION WAGON - MID-SIZE<br>animation_frame=2012<br>x=%{x}<br>y=%{y}<extra></extra>",
           "ids": [
            "STATION WAGON - MID-SIZE"
           ],
           "legendgroup": "STATION WAGON - MID-SIZE",
           "line": {
            "color": "#750D86",
            "dash": "solid"
           },
           "marker": {
            "symbol": "circle"
           },
           "mode": "markers+lines",
           "name": "STATION WAGON - MID-SIZE",
           "orientation": "v",
           "showlegend": true,
           "type": "scatter",
           "x": [
            2012
           ],
           "xaxis": "x",
           "y": [
            35
           ],
           "yaxis": "y"
          },
          {
           "hovertemplate": "color=STATION WAGON - SMALL<br>animation_frame=2012<br>x=%{x}<br>y=%{y}<extra></extra>",
           "ids": [
            "STATION WAGON - SMALL"
           ],
           "legendgroup": "STATION WAGON - SMALL",
           "line": {
            "color": "#EB663B",
            "dash": "solid"
           },
           "marker": {
            "symbol": "circle"
           },
           "mode": "markers+lines",
           "name": "STATION WAGON - SMALL",
           "orientation": "v",
           "showlegend": true,
           "type": "scatter",
           "x": [
            2012
           ],
           "xaxis": "x",
           "y": [
            34.57446808510638
           ],
           "yaxis": "y"
          },
          {
           "hovertemplate": "color=SUBCOMPACT<br>animation_frame=2012<br>x=%{x}<br>y=%{y}<extra></extra>",
           "ids": [
            "SUBCOMPACT"
           ],
           "legendgroup": "SUBCOMPACT",
           "line": {
            "color": "#511CFB",
            "dash": "solid"
           },
           "marker": {
            "symbol": "circle"
           },
           "mode": "markers+lines",
           "name": "SUBCOMPACT",
           "orientation": "v",
           "showlegend": true,
           "type": "scatter",
           "x": [
            2012
           ],
           "xaxis": "x",
           "y": [
            30.735294117647058
           ],
           "yaxis": "y"
          },
          {
           "hovertemplate": "color=SUV<br>animation_frame=2012<br>x=%{x}<br>y=%{y}<extra></extra>",
           "ids": [
            "SUV"
           ],
           "legendgroup": "SUV",
           "line": {
            "color": "#00A08B",
            "dash": "solid"
           },
           "marker": {
            "symbol": "circle"
           },
           "mode": "markers+lines",
           "name": "SUV",
           "orientation": "v",
           "showlegend": true,
           "type": "scatter",
           "x": [
            2012
           ],
           "xaxis": "x",
           "y": [
            26.57872340425532
           ],
           "yaxis": "y"
          },
          {
           "hovertemplate": "color=TWO-SEATER<br>animation_frame=2012<br>x=%{x}<br>y=%{y}<extra></extra>",
           "ids": [
            "TWO-SEATER"
           ],
           "legendgroup": "TWO-SEATER",
           "line": {
            "color": "#FB00D1",
            "dash": "solid"
           },
           "marker": {
            "symbol": "circle"
           },
           "mode": "markers+lines",
           "name": "TWO-SEATER",
           "orientation": "v",
           "showlegend": true,
           "type": "scatter",
           "x": [
            2012
           ],
           "xaxis": "x",
           "y": [
            29.289473684210527
           ],
           "yaxis": "y"
          },
          {
           "hovertemplate": "color=VAN - CARGO<br>animation_frame=2012<br>x=%{x}<br>y=%{y}<extra></extra>",
           "ids": [
            "VAN - CARGO"
           ],
           "legendgroup": "VAN - CARGO",
           "line": {
            "color": "#FC0080",
            "dash": "solid"
           },
           "marker": {
            "symbol": "circle"
           },
           "mode": "markers+lines",
           "name": "VAN - CARGO",
           "orientation": "v",
           "showlegend": true,
           "type": "scatter",
           "x": [
            2012
           ],
           "xaxis": "x",
           "y": [
            17.40909090909091
           ],
           "yaxis": "y"
          },
          {
           "hovertemplate": "color=VAN - PASSENGER<br>animation_frame=2012<br>x=%{x}<br>y=%{y}<extra></extra>",
           "ids": [
            "VAN - PASSENGER"
           ],
           "legendgroup": "VAN - PASSENGER",
           "line": {
            "color": "#B2828D",
            "dash": "solid"
           },
           "marker": {
            "symbol": "circle"
           },
           "mode": "markers+lines",
           "name": "VAN - PASSENGER",
           "orientation": "v",
           "showlegend": true,
           "type": "scatter",
           "x": [
            2012
           ],
           "xaxis": "x",
           "y": [
            15.612903225806452
           ],
           "yaxis": "y"
          },
          {
           "hovertemplate": "color=SUV - STANDARD<br>animation_frame=2012<br>x=%{x}<br>y=%{y}<extra></extra>",
           "ids": [
            "SUV - STANDARD"
           ],
           "legendgroup": "SUV - STANDARD",
           "line": {
            "color": "#6C7C32",
            "dash": "solid"
           },
           "marker": {
            "symbol": "circle"
           },
           "mode": "markers+lines",
           "name": "SUV - STANDARD",
           "orientation": "v",
           "showlegend": true,
           "type": "scatter",
           "x": [
            2012
           ],
           "xaxis": "x",
           "y": [
            25.5
           ],
           "yaxis": "y"
          },
          {
           "hovertemplate": "color=SPECIAL PURPOSE VEHICLE<br>animation_frame=2012<br>x=%{x}<br>y=%{y}<extra></extra>",
           "ids": [
            "SPECIAL PURPOSE VEHICLE"
           ],
           "legendgroup": "SPECIAL PURPOSE VEHICLE",
           "line": {
            "color": "#778AAE",
            "dash": "solid"
           },
           "marker": {
            "symbol": "circle"
           },
           "mode": "markers+lines",
           "name": "SPECIAL PURPOSE VEHICLE",
           "orientation": "v",
           "showlegend": true,
           "type": "scatter",
           "x": [
            2012
           ],
           "xaxis": "x",
           "y": [
            32.5
           ],
           "yaxis": "y"
          }
         ],
         "name": "2012"
        },
        {
         "data": [
          {
           "hovertemplate": "color=COMPACT<br>animation_frame=2013<br>x=%{x}<br>y=%{y}<extra></extra>",
           "ids": [
            "COMPACT"
           ],
           "legendgroup": "COMPACT",
           "line": {
            "color": "#2E91E5",
            "dash": "solid"
           },
           "marker": {
            "symbol": "circle"
           },
           "mode": "markers+lines",
           "name": "COMPACT",
           "orientation": "v",
           "showlegend": true,
           "type": "scatter",
           "x": [
            2013
           ],
           "xaxis": "x",
           "y": [
            35.214285714285715
           ],
           "yaxis": "y"
          },
          {
           "hovertemplate": "color=FULL-SIZE<br>animation_frame=2013<br>x=%{x}<br>y=%{y}<extra></extra>",
           "ids": [
            "FULL-SIZE"
           ],
           "legendgroup": "FULL-SIZE",
           "line": {
            "color": "#E15F99",
            "dash": "solid"
           },
           "marker": {
            "symbol": "circle"
           },
           "mode": "markers+lines",
           "name": "FULL-SIZE",
           "orientation": "v",
           "showlegend": true,
           "type": "scatter",
           "x": [
            2013
           ],
           "xaxis": "x",
           "y": [
            26.894736842105264
           ],
           "yaxis": "y"
          },
          {
           "hovertemplate": "color=MID-SIZE<br>animation_frame=2013<br>x=%{x}<br>y=%{y}<extra></extra>",
           "ids": [
            "MID-SIZE"
           ],
           "legendgroup": "MID-SIZE",
           "line": {
            "color": "#1CA71C",
            "dash": "solid"
           },
           "marker": {
            "symbol": "circle"
           },
           "mode": "markers+lines",
           "name": "MID-SIZE",
           "orientation": "v",
           "showlegend": true,
           "type": "scatter",
           "x": [
            2013
           ],
           "xaxis": "x",
           "y": [
            35.44444444444444
           ],
           "yaxis": "y"
          },
          {
           "hovertemplate": "color=MINICOMPACT<br>animation_frame=2013<br>x=%{x}<br>y=%{y}<extra></extra>",
           "ids": [
            "MINICOMPACT"
           ],
           "legendgroup": "MINICOMPACT",
           "line": {
            "color": "#FB0D0D",
            "dash": "solid"
           },
           "marker": {
            "symbol": "circle"
           },
           "mode": "markers+lines",
           "name": "MINICOMPACT",
           "orientation": "v",
           "showlegend": true,
           "type": "scatter",
           "x": [
            2013
           ],
           "xaxis": "x",
           "y": [
            34.41509433962264
           ],
           "yaxis": "y"
          },
          {
           "hovertemplate": "color=MINIVAN<br>animation_frame=2013<br>x=%{x}<br>y=%{y}<extra></extra>",
           "ids": [
            "MINIVAN"
           ],
           "legendgroup": "MINIVAN",
           "line": {
            "color": "#DA16FF",
            "dash": "solid"
           },
           "marker": {
            "symbol": "circle"
           },
           "mode": "markers+lines",
           "name": "MINIVAN",
           "orientation": "v",
           "showlegend": true,
           "type": "scatter",
           "x": [
            2013
           ],
           "xaxis": "x",
           "y": [
            27.2
           ],
           "yaxis": "y"
          },
          {
           "hovertemplate": "color=PICKUP TRUCK - SMALL<br>animation_frame=2013<br>x=%{x}<br>y=%{y}<extra></extra>",
           "ids": [
            "PICKUP TRUCK - SMALL"
           ],
           "legendgroup": "PICKUP TRUCK - SMALL",
           "line": {
            "color": "#222A2A",
            "dash": "solid"
           },
           "marker": {
            "symbol": "circle"
           },
           "mode": "markers+lines",
           "name": "PICKUP TRUCK - SMALL",
           "orientation": "v",
           "showlegend": true,
           "type": "scatter",
           "x": [
            2013
           ],
           "xaxis": "x",
           "y": [
            26.583333333333332
           ],
           "yaxis": "y"
          },
          {
           "hovertemplate": "color=PICKUP TRUCK - STANDARD<br>animation_frame=2013<br>x=%{x}<br>y=%{y}<extra></extra>",
           "ids": [
            "PICKUP TRUCK - STANDARD"
           ],
           "legendgroup": "PICKUP TRUCK - STANDARD",
           "line": {
            "color": "#B68100",
            "dash": "solid"
           },
           "marker": {
            "symbol": "circle"
           },
           "mode": "markers+lines",
           "name": "PICKUP TRUCK - STANDARD",
           "orientation": "v",
           "showlegend": true,
           "type": "scatter",
           "x": [
            2013
           ],
           "xaxis": "x",
           "y": [
            20.726190476190474
           ],
           "yaxis": "y"
          },
          {
           "hovertemplate": "color=STATION WAGON - MID-SIZE<br>animation_frame=2013<br>x=%{x}<br>y=%{y}<extra></extra>",
           "ids": [
            "STATION WAGON - MID-SIZE"
           ],
           "legendgroup": "STATION WAGON - MID-SIZE",
           "line": {
            "color": "#750D86",
            "dash": "solid"
           },
           "marker": {
            "symbol": "circle"
           },
           "mode": "markers+lines",
           "name": "STATION WAGON - MID-SIZE",
           "orientation": "v",
           "showlegend": true,
           "type": "scatter",
           "x": [
            2013
           ],
           "xaxis": "x",
           "y": [
            39
           ],
           "yaxis": "y"
          },
          {
           "hovertemplate": "color=STATION WAGON - SMALL<br>animation_frame=2013<br>x=%{x}<br>y=%{y}<extra></extra>",
           "ids": [
            "STATION WAGON - SMALL"
           ],
           "legendgroup": "STATION WAGON - SMALL",
           "line": {
            "color": "#EB663B",
            "dash": "solid"
           },
           "marker": {
            "symbol": "circle"
           },
           "mode": "markers+lines",
           "name": "STATION WAGON - SMALL",
           "orientation": "v",
           "showlegend": true,
           "type": "scatter",
           "x": [
            2013
           ],
           "xaxis": "x",
           "y": [
            34.79545454545455
           ],
           "yaxis": "y"
          },
          {
           "hovertemplate": "color=SUBCOMPACT<br>animation_frame=2013<br>x=%{x}<br>y=%{y}<extra></extra>",
           "ids": [
            "SUBCOMPACT"
           ],
           "legendgroup": "SUBCOMPACT",
           "line": {
            "color": "#511CFB",
            "dash": "solid"
           },
           "marker": {
            "symbol": "circle"
           },
           "mode": "markers+lines",
           "name": "SUBCOMPACT",
           "orientation": "v",
           "showlegend": true,
           "type": "scatter",
           "x": [
            2013
           ],
           "xaxis": "x",
           "y": [
            30.63157894736842
           ],
           "yaxis": "y"
          },
          {
           "hovertemplate": "color=TWO-SEATER<br>animation_frame=2013<br>x=%{x}<br>y=%{y}<extra></extra>",
           "ids": [
            "TWO-SEATER"
           ],
           "legendgroup": "TWO-SEATER",
           "line": {
            "color": "#FB00D1",
            "dash": "solid"
           },
           "marker": {
            "symbol": "circle"
           },
           "mode": "markers+lines",
           "name": "TWO-SEATER",
           "orientation": "v",
           "showlegend": true,
           "type": "scatter",
           "x": [
            2013
           ],
           "xaxis": "x",
           "y": [
            31.75862068965517
           ],
           "yaxis": "y"
          },
          {
           "hovertemplate": "color=VAN - CARGO<br>animation_frame=2013<br>x=%{x}<br>y=%{y}<extra></extra>",
           "ids": [
            "VAN - CARGO"
           ],
           "legendgroup": "VAN - CARGO",
           "line": {
            "color": "#FC0080",
            "dash": "solid"
           },
           "marker": {
            "symbol": "circle"
           },
           "mode": "markers+lines",
           "name": "VAN - CARGO",
           "orientation": "v",
           "showlegend": true,
           "type": "scatter",
           "x": [
            2013
           ],
           "xaxis": "x",
           "y": [
            17.40909090909091
           ],
           "yaxis": "y"
          },
          {
           "hovertemplate": "color=VAN - PASSENGER<br>animation_frame=2013<br>x=%{x}<br>y=%{y}<extra></extra>",
           "ids": [
            "VAN - PASSENGER"
           ],
           "legendgroup": "VAN - PASSENGER",
           "line": {
            "color": "#B2828D",
            "dash": "solid"
           },
           "marker": {
            "symbol": "circle"
           },
           "mode": "markers+lines",
           "name": "VAN - PASSENGER",
           "orientation": "v",
           "showlegend": true,
           "type": "scatter",
           "x": [
            2013
           ],
           "xaxis": "x",
           "y": [
            15.633333333333333
           ],
           "yaxis": "y"
          },
          {
           "hovertemplate": "color=SUV - STANDARD<br>animation_frame=2013<br>x=%{x}<br>y=%{y}<extra></extra>",
           "ids": [
            "SUV - STANDARD"
           ],
           "legendgroup": "SUV - STANDARD",
           "line": {
            "color": "#6C7C32",
            "dash": "solid"
           },
           "marker": {
            "symbol": "circle"
           },
           "mode": "markers+lines",
           "name": "SUV - STANDARD",
           "orientation": "v",
           "showlegend": true,
           "type": "scatter",
           "x": [
            2013
           ],
           "xaxis": "x",
           "y": [
            22.396039603960396
           ],
           "yaxis": "y"
          },
          {
           "hovertemplate": "color=SPECIAL PURPOSE VEHICLE<br>animation_frame=2013<br>x=%{x}<br>y=%{y}<extra></extra>",
           "ids": [
            "SPECIAL PURPOSE VEHICLE"
           ],
           "legendgroup": "SPECIAL PURPOSE VEHICLE",
           "line": {
            "color": "#778AAE",
            "dash": "solid"
           },
           "marker": {
            "symbol": "circle"
           },
           "mode": "markers+lines",
           "name": "SPECIAL PURPOSE VEHICLE",
           "orientation": "v",
           "showlegend": true,
           "type": "scatter",
           "x": [
            2013
           ],
           "xaxis": "x",
           "y": [
            31.6
           ],
           "yaxis": "y"
          },
          {
           "hovertemplate": "color=SUV - SMALL<br>animation_frame=2013<br>x=%{x}<br>y=%{y}<extra></extra>",
           "ids": [
            "SUV - SMALL"
           ],
           "legendgroup": "SUV - SMALL",
           "line": {
            "color": "#862A16",
            "dash": "solid"
           },
           "marker": {
            "symbol": "circle"
           },
           "mode": "markers+lines",
           "name": "SUV - SMALL",
           "orientation": "v",
           "showlegend": true,
           "type": "scatter",
           "x": [
            2013
           ],
           "xaxis": "x",
           "y": [
            30.892086330935253
           ],
           "yaxis": "y"
          }
         ],
         "name": "2013"
        },
        {
         "data": [
          {
           "hovertemplate": "color=COMPACT<br>animation_frame=2014<br>x=%{x}<br>y=%{y}<extra></extra>",
           "ids": [
            "COMPACT"
           ],
           "legendgroup": "COMPACT",
           "line": {
            "color": "#2E91E5",
            "dash": "solid"
           },
           "marker": {
            "symbol": "circle"
           },
           "mode": "markers+lines",
           "name": "COMPACT",
           "orientation": "v",
           "showlegend": true,
           "type": "scatter",
           "x": [
            2014
           ],
           "xaxis": "x",
           "y": [
            36.19047619047619
           ],
           "yaxis": "y"
          },
          {
           "hovertemplate": "color=FULL-SIZE<br>animation_frame=2014<br>x=%{x}<br>y=%{y}<extra></extra>",
           "ids": [
            "FULL-SIZE"
           ],
           "legendgroup": "FULL-SIZE",
           "line": {
            "color": "#E15F99",
            "dash": "solid"
           },
           "marker": {
            "symbol": "circle"
           },
           "mode": "markers+lines",
           "name": "FULL-SIZE",
           "orientation": "v",
           "showlegend": true,
           "type": "scatter",
           "x": [
            2014
           ],
           "xaxis": "x",
           "y": [
            27.607142857142858
           ],
           "yaxis": "y"
          },
          {
           "hovertemplate": "color=MID-SIZE<br>animation_frame=2014<br>x=%{x}<br>y=%{y}<extra></extra>",
           "ids": [
            "MID-SIZE"
           ],
           "legendgroup": "MID-SIZE",
           "line": {
            "color": "#1CA71C",
            "dash": "solid"
           },
           "marker": {
            "symbol": "circle"
           },
           "mode": "markers+lines",
           "name": "MID-SIZE",
           "orientation": "v",
           "showlegend": true,
           "type": "scatter",
           "x": [
            2014
           ],
           "xaxis": "x",
           "y": [
            35.752941176470586
           ],
           "yaxis": "y"
          },
          {
           "hovertemplate": "color=MINICOMPACT<br>animation_frame=2014<br>x=%{x}<br>y=%{y}<extra></extra>",
           "ids": [
            "MINICOMPACT"
           ],
           "legendgroup": "MINICOMPACT",
           "line": {
            "color": "#FB0D0D",
            "dash": "solid"
           },
           "marker": {
            "symbol": "circle"
           },
           "mode": "markers+lines",
           "name": "MINICOMPACT",
           "orientation": "v",
           "showlegend": true,
           "type": "scatter",
           "x": [
            2014
           ],
           "xaxis": "x",
           "y": [
            33.744680851063826
           ],
           "yaxis": "y"
          },
          {
           "hovertemplate": "color=MINIVAN<br>animation_frame=2014<br>x=%{x}<br>y=%{y}<extra></extra>",
           "ids": [
            "MINIVAN"
           ],
           "legendgroup": "MINIVAN",
           "line": {
            "color": "#DA16FF",
            "dash": "solid"
           },
           "marker": {
            "symbol": "circle"
           },
           "mode": "markers+lines",
           "name": "MINIVAN",
           "orientation": "v",
           "showlegend": true,
           "type": "scatter",
           "x": [
            2014
           ],
           "xaxis": "x",
           "y": [
            26.928571428571427
           ],
           "yaxis": "y"
          },
          {
           "hovertemplate": "color=PICKUP TRUCK - SMALL<br>animation_frame=2014<br>x=%{x}<br>y=%{y}<extra></extra>",
           "ids": [
            "PICKUP TRUCK - SMALL"
           ],
           "legendgroup": "PICKUP TRUCK - SMALL",
           "line": {
            "color": "#222A2A",
            "dash": "solid"
           },
           "marker": {
            "symbol": "circle"
           },
           "mode": "markers+lines",
           "name": "PICKUP TRUCK - SMALL",
           "orientation": "v",
           "showlegend": true,
           "type": "scatter",
           "x": [
            2014
           ],
           "xaxis": "x",
           "y": [
            26.5
           ],
           "yaxis": "y"
          },
          {
           "hovertemplate": "color=PICKUP TRUCK - STANDARD<br>animation_frame=2014<br>x=%{x}<br>y=%{y}<extra></extra>",
           "ids": [
            "PICKUP TRUCK - STANDARD"
           ],
           "legendgroup": "PICKUP TRUCK - STANDARD",
           "line": {
            "color": "#B68100",
            "dash": "solid"
           },
           "marker": {
            "symbol": "circle"
           },
           "mode": "markers+lines",
           "name": "PICKUP TRUCK - STANDARD",
           "orientation": "v",
           "showlegend": true,
           "type": "scatter",
           "x": [
            2014
           ],
           "xaxis": "x",
           "y": [
            22.112903225806452
           ],
           "yaxis": "y"
          },
          {
           "hovertemplate": "color=STATION WAGON - MID-SIZE<br>animation_frame=2014<br>x=%{x}<br>y=%{y}<extra></extra>",
           "ids": [
            "STATION WAGON - MID-SIZE"
           ],
           "legendgroup": "STATION WAGON - MID-SIZE",
           "line": {
            "color": "#750D86",
            "dash": "solid"
           },
           "marker": {
            "symbol": "circle"
           },
           "mode": "markers+lines",
           "name": "STATION WAGON - MID-SIZE",
           "orientation": "v",
           "showlegend": true,
           "type": "scatter",
           "x": [
            2014
           ],
           "xaxis": "x",
           "y": [
            35.5
           ],
           "yaxis": "y"
          },
          {
           "hovertemplate": "color=STATION WAGON - SMALL<br>animation_frame=2014<br>x=%{x}<br>y=%{y}<extra></extra>",
           "ids": [
            "STATION WAGON - SMALL"
           ],
           "legendgroup": "STATION WAGON - SMALL",
           "line": {
            "color": "#EB663B",
            "dash": "solid"
           },
           "marker": {
            "symbol": "circle"
           },
           "mode": "markers+lines",
           "name": "STATION WAGON - SMALL",
           "orientation": "v",
           "showlegend": true,
           "type": "scatter",
           "x": [
            2014
           ],
           "xaxis": "x",
           "y": [
            35.470588235294116
           ],
           "yaxis": "y"
          },
          {
           "hovertemplate": "color=SUBCOMPACT<br>animation_frame=2014<br>x=%{x}<br>y=%{y}<extra></extra>",
           "ids": [
            "SUBCOMPACT"
           ],
           "legendgroup": "SUBCOMPACT",
           "line": {
            "color": "#511CFB",
            "dash": "solid"
           },
           "marker": {
            "symbol": "circle"
           },
           "mode": "markers+lines",
           "name": "SUBCOMPACT",
           "orientation": "v",
           "showlegend": true,
           "type": "scatter",
           "x": [
            2014
           ],
           "xaxis": "x",
           "y": [
            31.903225806451612
           ],
           "yaxis": "y"
          },
          {
           "hovertemplate": "color=TWO-SEATER<br>animation_frame=2014<br>x=%{x}<br>y=%{y}<extra></extra>",
           "ids": [
            "TWO-SEATER"
           ],
           "legendgroup": "TWO-SEATER",
           "line": {
            "color": "#FB00D1",
            "dash": "solid"
           },
           "marker": {
            "symbol": "circle"
           },
           "mode": "markers+lines",
           "name": "TWO-SEATER",
           "orientation": "v",
           "showlegend": true,
           "type": "scatter",
           "x": [
            2014
           ],
           "xaxis": "x",
           "y": [
            31.271428571428572
           ],
           "yaxis": "y"
          },
          {
           "hovertemplate": "color=VAN - CARGO<br>animation_frame=2014<br>x=%{x}<br>y=%{y}<extra></extra>",
           "ids": [
            "VAN - CARGO"
           ],
           "legendgroup": "VAN - CARGO",
           "line": {
            "color": "#FC0080",
            "dash": "solid"
           },
           "marker": {
            "symbol": "circle"
           },
           "mode": "markers+lines",
           "name": "VAN - CARGO",
           "orientation": "v",
           "showlegend": true,
           "type": "scatter",
           "x": [
            2014
           ],
           "xaxis": "x",
           "y": [
            17.318181818181817
           ],
           "yaxis": "y"
          },
          {
           "hovertemplate": "color=VAN - PASSENGER<br>animation_frame=2014<br>x=%{x}<br>y=%{y}<extra></extra>",
           "ids": [
            "VAN - PASSENGER"
           ],
           "legendgroup": "VAN - PASSENGER",
           "line": {
            "color": "#B2828D",
            "dash": "solid"
           },
           "marker": {
            "symbol": "circle"
           },
           "mode": "markers+lines",
           "name": "VAN - PASSENGER",
           "orientation": "v",
           "showlegend": true,
           "type": "scatter",
           "x": [
            2014
           ],
           "xaxis": "x",
           "y": [
            16
           ],
           "yaxis": "y"
          },
          {
           "hovertemplate": "color=SUV - STANDARD<br>animation_frame=2014<br>x=%{x}<br>y=%{y}<extra></extra>",
           "ids": [
            "SUV - STANDARD"
           ],
           "legendgroup": "SUV - STANDARD",
           "line": {
            "color": "#6C7C32",
            "dash": "solid"
           },
           "marker": {
            "symbol": "circle"
           },
           "mode": "markers+lines",
           "name": "SUV - STANDARD",
           "orientation": "v",
           "showlegend": true,
           "type": "scatter",
           "x": [
            2014
           ],
           "xaxis": "x",
           "y": [
            22.813725490196077
           ],
           "yaxis": "y"
          },
          {
           "hovertemplate": "color=SPECIAL PURPOSE VEHICLE<br>animation_frame=2014<br>x=%{x}<br>y=%{y}<extra></extra>",
           "ids": [
            "SPECIAL PURPOSE VEHICLE"
           ],
           "legendgroup": "SPECIAL PURPOSE VEHICLE",
           "line": {
            "color": "#778AAE",
            "dash": "solid"
           },
           "marker": {
            "symbol": "circle"
           },
           "mode": "markers+lines",
           "name": "SPECIAL PURPOSE VEHICLE",
           "orientation": "v",
           "showlegend": true,
           "type": "scatter",
           "x": [
            2014
           ],
           "xaxis": "x",
           "y": [
            31.857142857142858
           ],
           "yaxis": "y"
          },
          {
           "hovertemplate": "color=SUV - SMALL<br>animation_frame=2014<br>x=%{x}<br>y=%{y}<extra></extra>",
           "ids": [
            "SUV - SMALL"
           ],
           "legendgroup": "SUV - SMALL",
           "line": {
            "color": "#862A16",
            "dash": "solid"
           },
           "marker": {
            "symbol": "circle"
           },
           "mode": "markers+lines",
           "name": "SUV - SMALL",
           "orientation": "v",
           "showlegend": true,
           "type": "scatter",
           "x": [
            2014
           ],
           "xaxis": "x",
           "y": [
            31.316129032258065
           ],
           "yaxis": "y"
          }
         ],
         "name": "2014"
        },
        {
         "data": [
          {
           "hovertemplate": "color=COMPACT<br>animation_frame=2015<br>x=%{x}<br>y=%{y}<extra></extra>",
           "ids": [
            "COMPACT"
           ],
           "legendgroup": "COMPACT",
           "line": {
            "color": "#2E91E5",
            "dash": "solid"
           },
           "marker": {
            "symbol": "circle"
           },
           "mode": "markers+lines",
           "name": "COMPACT",
           "orientation": "v",
           "showlegend": true,
           "type": "scatter",
           "x": [
            2015
           ],
           "xaxis": "x",
           "y": [
            31.333333333333332
           ],
           "yaxis": "y"
          },
          {
           "hovertemplate": "color=FULL-SIZE<br>animation_frame=2015<br>x=%{x}<br>y=%{y}<extra></extra>",
           "ids": [
            "FULL-SIZE"
           ],
           "legendgroup": "FULL-SIZE",
           "line": {
            "color": "#E15F99",
            "dash": "solid"
           },
           "marker": {
            "symbol": "circle"
           },
           "mode": "markers+lines",
           "name": "FULL-SIZE",
           "orientation": "v",
           "showlegend": true,
           "type": "scatter",
           "x": [
            2015
           ],
           "xaxis": "x",
           "y": [
            24
           ],
           "yaxis": "y"
          },
          {
           "hovertemplate": "color=MID-SIZE<br>animation_frame=2015<br>x=%{x}<br>y=%{y}<extra></extra>",
           "ids": [
            "MID-SIZE"
           ],
           "legendgroup": "MID-SIZE",
           "line": {
            "color": "#1CA71C",
            "dash": "solid"
           },
           "marker": {
            "symbol": "circle"
           },
           "mode": "markers+lines",
           "name": "MID-SIZE",
           "orientation": "v",
           "showlegend": true,
           "type": "scatter",
           "x": [
            2015
           ],
           "xaxis": "x",
           "y": [
            31.044444444444444
           ],
           "yaxis": "y"
          },
          {
           "hovertemplate": "color=MINICOMPACT<br>animation_frame=2015<br>x=%{x}<br>y=%{y}<extra></extra>",
           "ids": [
            "MINICOMPACT"
           ],
           "legendgroup": "MINICOMPACT",
           "line": {
            "color": "#FB0D0D",
            "dash": "solid"
           },
           "marker": {
            "symbol": "circle"
           },
           "mode": "markers+lines",
           "name": "MINICOMPACT",
           "orientation": "v",
           "showlegend": true,
           "type": "scatter",
           "x": [
            2015
           ],
           "xaxis": "x",
           "y": [
            28.593220338983052
           ],
           "yaxis": "y"
          },
          {
           "hovertemplate": "color=MINIVAN<br>animation_frame=2015<br>x=%{x}<br>y=%{y}<extra></extra>",
           "ids": [
            "MINIVAN"
           ],
           "legendgroup": "MINIVAN",
           "line": {
            "color": "#DA16FF",
            "dash": "solid"
           },
           "marker": {
            "symbol": "circle"
           },
           "mode": "markers+lines",
           "name": "MINIVAN",
           "orientation": "v",
           "showlegend": true,
           "type": "scatter",
           "x": [
            2015
           ],
           "xaxis": "x",
           "y": [
            23.8
           ],
           "yaxis": "y"
          },
          {
           "hovertemplate": "color=PICKUP TRUCK - SMALL<br>animation_frame=2015<br>x=%{x}<br>y=%{y}<extra></extra>",
           "ids": [
            "PICKUP TRUCK - SMALL"
           ],
           "legendgroup": "PICKUP TRUCK - SMALL",
           "line": {
            "color": "#222A2A",
            "dash": "solid"
           },
           "marker": {
            "symbol": "circle"
           },
           "mode": "markers+lines",
           "name": "PICKUP TRUCK - SMALL",
           "orientation": "v",
           "showlegend": true,
           "type": "scatter",
           "x": [
            2015
           ],
           "xaxis": "x",
           "y": [
            23.954545454545453
           ],
           "yaxis": "y"
          },
          {
           "hovertemplate": "color=PICKUP TRUCK - STANDARD<br>animation_frame=2015<br>x=%{x}<br>y=%{y}<extra></extra>",
           "ids": [
            "PICKUP TRUCK - STANDARD"
           ],
           "legendgroup": "PICKUP TRUCK - STANDARD",
           "line": {
            "color": "#B68100",
            "dash": "solid"
           },
           "marker": {
            "symbol": "circle"
           },
           "mode": "markers+lines",
           "name": "PICKUP TRUCK - STANDARD",
           "orientation": "v",
           "showlegend": true,
           "type": "scatter",
           "x": [
            2015
           ],
           "xaxis": "x",
           "y": [
            20.48076923076923
           ],
           "yaxis": "y"
          },
          {
           "hovertemplate": "color=STATION WAGON - MID-SIZE<br>animation_frame=2015<br>x=%{x}<br>y=%{y}<extra></extra>",
           "ids": [
            "STATION WAGON - MID-SIZE"
           ],
           "legendgroup": "STATION WAGON - MID-SIZE",
           "line": {
            "color": "#750D86",
            "dash": "solid"
           },
           "marker": {
            "symbol": "circle"
           },
           "mode": "markers+lines",
           "name": "STATION WAGON - MID-SIZE",
           "orientation": "v",
           "showlegend": true,
           "type": "scatter",
           "x": [
            2015
           ],
           "xaxis": "x",
           "y": [
            30.625
           ],
           "yaxis": "y"
          },
          {
           "hovertemplate": "color=STATION WAGON - SMALL<br>animation_frame=2015<br>x=%{x}<br>y=%{y}<extra></extra>",
           "ids": [
            "STATION WAGON - SMALL"
           ],
           "legendgroup": "STATION WAGON - SMALL",
           "line": {
            "color": "#EB663B",
            "dash": "solid"
           },
           "marker": {
            "symbol": "circle"
           },
           "mode": "markers+lines",
           "name": "STATION WAGON - SMALL",
           "orientation": "v",
           "showlegend": true,
           "type": "scatter",
           "x": [
            2015
           ],
           "xaxis": "x",
           "y": [
            33.48571428571429
           ],
           "yaxis": "y"
          },
          {
           "hovertemplate": "color=SUBCOMPACT<br>animation_frame=2015<br>x=%{x}<br>y=%{y}<extra></extra>",
           "ids": [
            "SUBCOMPACT"
           ],
           "legendgroup": "SUBCOMPACT",
           "line": {
            "color": "#511CFB",
            "dash": "solid"
           },
           "marker": {
            "symbol": "circle"
           },
           "mode": "markers+lines",
           "name": "SUBCOMPACT",
           "orientation": "v",
           "showlegend": true,
           "type": "scatter",
           "x": [
            2015
           ],
           "xaxis": "x",
           "y": [
            28.66304347826087
           ],
           "yaxis": "y"
          },
          {
           "hovertemplate": "color=TWO-SEATER<br>animation_frame=2015<br>x=%{x}<br>y=%{y}<extra></extra>",
           "ids": [
            "TWO-SEATER"
           ],
           "legendgroup": "TWO-SEATER",
           "line": {
            "color": "#FB00D1",
            "dash": "solid"
           },
           "marker": {
            "symbol": "circle"
           },
           "mode": "markers+lines",
           "name": "TWO-SEATER",
           "orientation": "v",
           "showlegend": true,
           "type": "scatter",
           "x": [
            2015
           ],
           "xaxis": "x",
           "y": [
            26.404761904761905
           ],
           "yaxis": "y"
          },
          {
           "hovertemplate": "color=VAN - PASSENGER<br>animation_frame=2015<br>x=%{x}<br>y=%{y}<extra></extra>",
           "ids": [
            "VAN - PASSENGER"
           ],
           "legendgroup": "VAN - PASSENGER",
           "line": {
            "color": "#B2828D",
            "dash": "solid"
           },
           "marker": {
            "symbol": "circle"
           },
           "mode": "markers+lines",
           "name": "VAN - PASSENGER",
           "orientation": "v",
           "showlegend": true,
           "type": "scatter",
           "x": [
            2015
           ],
           "xaxis": "x",
           "y": [
            14.736842105263158
           ],
           "yaxis": "y"
          },
          {
           "hovertemplate": "color=SUV - STANDARD<br>animation_frame=2015<br>x=%{x}<br>y=%{y}<extra></extra>",
           "ids": [
            "SUV - STANDARD"
           ],
           "legendgroup": "SUV - STANDARD",
           "line": {
            "color": "#6C7C32",
            "dash": "solid"
           },
           "marker": {
            "symbol": "circle"
           },
           "mode": "markers+lines",
           "name": "SUV - STANDARD",
           "orientation": "v",
           "showlegend": true,
           "type": "scatter",
           "x": [
            2015
           ],
           "xaxis": "x",
           "y": [
            21.08080808080808
           ],
           "yaxis": "y"
          },
          {
           "hovertemplate": "color=SPECIAL PURPOSE VEHICLE<br>animation_frame=2015<br>x=%{x}<br>y=%{y}<extra></extra>",
           "ids": [
            "SPECIAL PURPOSE VEHICLE"
           ],
           "legendgroup": "SPECIAL PURPOSE VEHICLE",
           "line": {
            "color": "#778AAE",
            "dash": "solid"
           },
           "marker": {
            "symbol": "circle"
           },
           "mode": "markers+lines",
           "name": "SPECIAL PURPOSE VEHICLE",
           "orientation": "v",
           "showlegend": true,
           "type": "scatter",
           "x": [
            2015
           ],
           "xaxis": "x",
           "y": [
            28.22222222222222
           ],
           "yaxis": "y"
          },
          {
           "hovertemplate": "color=SUV - SMALL<br>animation_frame=2015<br>x=%{x}<br>y=%{y}<extra></extra>",
           "ids": [
            "SUV - SMALL"
           ],
           "legendgroup": "SUV - SMALL",
           "line": {
            "color": "#862A16",
            "dash": "solid"
           },
           "marker": {
            "symbol": "circle"
           },
           "mode": "markers+lines",
           "name": "SUV - SMALL",
           "orientation": "v",
           "showlegend": true,
           "type": "scatter",
           "x": [
            2015
           ],
           "xaxis": "x",
           "y": [
            27.70949720670391
           ],
           "yaxis": "y"
          }
         ],
         "name": "2015"
        },
        {
         "data": [
          {
           "hovertemplate": "color=COMPACT<br>animation_frame=2016<br>x=%{x}<br>y=%{y}<extra></extra>",
           "ids": [
            "COMPACT"
           ],
           "legendgroup": "COMPACT",
           "line": {
            "color": "#2E91E5",
            "dash": "solid"
           },
           "marker": {
            "symbol": "circle"
           },
           "mode": "markers+lines",
           "name": "COMPACT",
           "orientation": "v",
           "showlegend": true,
           "type": "scatter",
           "x": [
            2016
           ],
           "xaxis": "x",
           "y": [
            31.414364640883978
           ],
           "yaxis": "y"
          },
          {
           "hovertemplate": "color=FULL-SIZE<br>animation_frame=2016<br>x=%{x}<br>y=%{y}<extra></extra>",
           "ids": [
            "FULL-SIZE"
           ],
           "legendgroup": "FULL-SIZE",
           "line": {
            "color": "#E15F99",
            "dash": "solid"
           },
           "marker": {
            "symbol": "circle"
           },
           "mode": "markers+lines",
           "name": "FULL-SIZE",
           "orientation": "v",
           "showlegend": true,
           "type": "scatter",
           "x": [
            2016
           ],
           "xaxis": "x",
           "y": [
            24.27777777777778
           ],
           "yaxis": "y"
          },
          {
           "hovertemplate": "color=MID-SIZE<br>animation_frame=2016<br>x=%{x}<br>y=%{y}<extra></extra>",
           "ids": [
            "MID-SIZE"
           ],
           "legendgroup": "MID-SIZE",
           "line": {
            "color": "#1CA71C",
            "dash": "solid"
           },
           "marker": {
            "symbol": "circle"
           },
           "mode": "markers+lines",
           "name": "MID-SIZE",
           "orientation": "v",
           "showlegend": true,
           "type": "scatter",
           "x": [
            2016
           ],
           "xaxis": "x",
           "y": [
            31.335106382978722
           ],
           "yaxis": "y"
          },
          {
           "hovertemplate": "color=MINICOMPACT<br>animation_frame=2016<br>x=%{x}<br>y=%{y}<extra></extra>",
           "ids": [
            "MINICOMPACT"
           ],
           "legendgroup": "MINICOMPACT",
           "line": {
            "color": "#FB0D0D",
            "dash": "solid"
           },
           "marker": {
            "symbol": "circle"
           },
           "mode": "markers+lines",
           "name": "MINICOMPACT",
           "orientation": "v",
           "showlegend": true,
           "type": "scatter",
           "x": [
            2016
           ],
           "xaxis": "x",
           "y": [
            28.557692307692307
           ],
           "yaxis": "y"
          },
          {
           "hovertemplate": "color=MINIVAN<br>animation_frame=2016<br>x=%{x}<br>y=%{y}<extra></extra>",
           "ids": [
            "MINIVAN"
           ],
           "legendgroup": "MINIVAN",
           "line": {
            "color": "#DA16FF",
            "dash": "solid"
           },
           "marker": {
            "symbol": "circle"
           },
           "mode": "markers+lines",
           "name": "MINIVAN",
           "orientation": "v",
           "showlegend": true,
           "type": "scatter",
           "x": [
            2016
           ],
           "xaxis": "x",
           "y": [
            23.916666666666668
           ],
           "yaxis": "y"
          },
          {
           "hovertemplate": "color=PICKUP TRUCK - SMALL<br>animation_frame=2016<br>x=%{x}<br>y=%{y}<extra></extra>",
           "ids": [
            "PICKUP TRUCK - SMALL"
           ],
           "legendgroup": "PICKUP TRUCK - SMALL",
           "line": {
            "color": "#222A2A",
            "dash": "solid"
           },
           "marker": {
            "symbol": "circle"
           },
           "mode": "markers+lines",
           "name": "PICKUP TRUCK - SMALL",
           "orientation": "v",
           "showlegend": true,
           "type": "scatter",
           "x": [
            2016
           ],
           "xaxis": "x",
           "y": [
            24.884615384615383
           ],
           "yaxis": "y"
          },
          {
           "hovertemplate": "color=PICKUP TRUCK - STANDARD<br>animation_frame=2016<br>x=%{x}<br>y=%{y}<extra></extra>",
           "ids": [
            "PICKUP TRUCK - STANDARD"
           ],
           "legendgroup": "PICKUP TRUCK - STANDARD",
           "line": {
            "color": "#B68100",
            "dash": "solid"
           },
           "marker": {
            "symbol": "circle"
           },
           "mode": "markers+lines",
           "name": "PICKUP TRUCK - STANDARD",
           "orientation": "v",
           "showlegend": true,
           "type": "scatter",
           "x": [
            2016
           ],
           "xaxis": "x",
           "y": [
            20.5
           ],
           "yaxis": "y"
          },
          {
           "hovertemplate": "color=STATION WAGON - MID-SIZE<br>animation_frame=2016<br>x=%{x}<br>y=%{y}<extra></extra>",
           "ids": [
            "STATION WAGON - MID-SIZE"
           ],
           "legendgroup": "STATION WAGON - MID-SIZE",
           "line": {
            "color": "#750D86",
            "dash": "solid"
           },
           "marker": {
            "symbol": "circle"
           },
           "mode": "markers+lines",
           "name": "STATION WAGON - MID-SIZE",
           "orientation": "v",
           "showlegend": true,
           "type": "scatter",
           "x": [
            2016
           ],
           "xaxis": "x",
           "y": [
            30.857142857142858
           ],
           "yaxis": "y"
          },
          {
           "hovertemplate": "color=STATION WAGON - SMALL<br>animation_frame=2016<br>x=%{x}<br>y=%{y}<extra></extra>",
           "ids": [
            "STATION WAGON - SMALL"
           ],
           "legendgroup": "STATION WAGON - SMALL",
           "line": {
            "color": "#EB663B",
            "dash": "solid"
           },
           "marker": {
            "symbol": "circle"
           },
           "mode": "markers+lines",
           "name": "STATION WAGON - SMALL",
           "orientation": "v",
           "showlegend": true,
           "type": "scatter",
           "x": [
            2016
           ],
           "xaxis": "x",
           "y": [
            33.270270270270274
           ],
           "yaxis": "y"
          },
          {
           "hovertemplate": "color=SUBCOMPACT<br>animation_frame=2016<br>x=%{x}<br>y=%{y}<extra></extra>",
           "ids": [
            "SUBCOMPACT"
           ],
           "legendgroup": "SUBCOMPACT",
           "line": {
            "color": "#511CFB",
            "dash": "solid"
           },
           "marker": {
            "symbol": "circle"
           },
           "mode": "markers+lines",
           "name": "SUBCOMPACT",
           "orientation": "v",
           "showlegend": true,
           "type": "scatter",
           "x": [
            2016
           ],
           "xaxis": "x",
           "y": [
            28.513157894736842
           ],
           "yaxis": "y"
          },
          {
           "hovertemplate": "color=TWO-SEATER<br>animation_frame=2016<br>x=%{x}<br>y=%{y}<extra></extra>",
           "ids": [
            "TWO-SEATER"
           ],
           "legendgroup": "TWO-SEATER",
           "line": {
            "color": "#FB00D1",
            "dash": "solid"
           },
           "marker": {
            "symbol": "circle"
           },
           "mode": "markers+lines",
           "name": "TWO-SEATER",
           "orientation": "v",
           "showlegend": true,
           "type": "scatter",
           "x": [
            2016
           ],
           "xaxis": "x",
           "y": [
            25.441176470588236
           ],
           "yaxis": "y"
          },
          {
           "hovertemplate": "color=VAN - PASSENGER<br>animation_frame=2016<br>x=%{x}<br>y=%{y}<extra></extra>",
           "ids": [
            "VAN - PASSENGER"
           ],
           "legendgroup": "VAN - PASSENGER",
           "line": {
            "color": "#B2828D",
            "dash": "solid"
           },
           "marker": {
            "symbol": "circle"
           },
           "mode": "markers+lines",
           "name": "VAN - PASSENGER",
           "orientation": "v",
           "showlegend": true,
           "type": "scatter",
           "x": [
            2016
           ],
           "xaxis": "x",
           "y": [
            15.571428571428571
           ],
           "yaxis": "y"
          },
          {
           "hovertemplate": "color=SUV - STANDARD<br>animation_frame=2016<br>x=%{x}<br>y=%{y}<extra></extra>",
           "ids": [
            "SUV - STANDARD"
           ],
           "legendgroup": "SUV - STANDARD",
           "line": {
            "color": "#6C7C32",
            "dash": "solid"
           },
           "marker": {
            "symbol": "circle"
           },
           "mode": "markers+lines",
           "name": "SUV - STANDARD",
           "orientation": "v",
           "showlegend": true,
           "type": "scatter",
           "x": [
            2016
           ],
           "xaxis": "x",
           "y": [
            21.850467289719628
           ],
           "yaxis": "y"
          },
          {
           "hovertemplate": "color=SPECIAL PURPOSE VEHICLE<br>animation_frame=2016<br>x=%{x}<br>y=%{y}<extra></extra>",
           "ids": [
            "SPECIAL PURPOSE VEHICLE"
           ],
           "legendgroup": "SPECIAL PURPOSE VEHICLE",
           "line": {
            "color": "#778AAE",
            "dash": "solid"
           },
           "marker": {
            "symbol": "circle"
           },
           "mode": "markers+lines",
           "name": "SPECIAL PURPOSE VEHICLE",
           "orientation": "v",
           "showlegend": true,
           "type": "scatter",
           "x": [
            2016
           ],
           "xaxis": "x",
           "y": [
            25.647058823529413
           ],
           "yaxis": "y"
          },
          {
           "hovertemplate": "color=SUV - SMALL<br>animation_frame=2016<br>x=%{x}<br>y=%{y}<extra></extra>",
           "ids": [
            "SUV - SMALL"
           ],
           "legendgroup": "SUV - SMALL",
           "line": {
            "color": "#862A16",
            "dash": "solid"
           },
           "marker": {
            "symbol": "circle"
           },
           "mode": "markers+lines",
           "name": "SUV - SMALL",
           "orientation": "v",
           "showlegend": true,
           "type": "scatter",
           "x": [
            2016
           ],
           "xaxis": "x",
           "y": [
            28.227777777777778
           ],
           "yaxis": "y"
          }
         ],
         "name": "2016"
        },
        {
         "data": [
          {
           "hovertemplate": "color=COMPACT<br>animation_frame=2017<br>x=%{x}<br>y=%{y}<extra></extra>",
           "ids": [
            "COMPACT"
           ],
           "legendgroup": "COMPACT",
           "line": {
            "color": "#2E91E5",
            "dash": "solid"
           },
           "marker": {
            "symbol": "circle"
           },
           "mode": "markers+lines",
           "name": "COMPACT",
           "orientation": "v",
           "showlegend": true,
           "type": "scatter",
           "x": [
            2017
           ],
           "xaxis": "x",
           "y": [
            31.60377358490566
           ],
           "yaxis": "y"
          },
          {
           "hovertemplate": "color=FULL-SIZE<br>animation_frame=2017<br>x=%{x}<br>y=%{y}<extra></extra>",
           "ids": [
            "FULL-SIZE"
           ],
           "legendgroup": "FULL-SIZE",
           "line": {
            "color": "#E15F99",
            "dash": "solid"
           },
           "marker": {
            "symbol": "circle"
           },
           "mode": "markers+lines",
           "name": "FULL-SIZE",
           "orientation": "v",
           "showlegend": true,
           "type": "scatter",
           "x": [
            2017
           ],
           "xaxis": "x",
           "y": [
            26.402439024390244
           ],
           "yaxis": "y"
          },
          {
           "hovertemplate": "color=MID-SIZE<br>animation_frame=2017<br>x=%{x}<br>y=%{y}<extra></extra>",
           "ids": [
            "MID-SIZE"
           ],
           "legendgroup": "MID-SIZE",
           "line": {
            "color": "#1CA71C",
            "dash": "solid"
           },
           "marker": {
            "symbol": "circle"
           },
           "mode": "markers+lines",
           "name": "MID-SIZE",
           "orientation": "v",
           "showlegend": true,
           "type": "scatter",
           "x": [
            2017
           ],
           "xaxis": "x",
           "y": [
            31.166666666666668
           ],
           "yaxis": "y"
          },
          {
           "hovertemplate": "color=MINICOMPACT<br>animation_frame=2017<br>x=%{x}<br>y=%{y}<extra></extra>",
           "ids": [
            "MINICOMPACT"
           ],
           "legendgroup": "MINICOMPACT",
           "line": {
            "color": "#FB0D0D",
            "dash": "solid"
           },
           "marker": {
            "symbol": "circle"
           },
           "mode": "markers+lines",
           "name": "MINICOMPACT",
           "orientation": "v",
           "showlegend": true,
           "type": "scatter",
           "x": [
            2017
           ],
           "xaxis": "x",
           "y": [
            29.84090909090909
           ],
           "yaxis": "y"
          },
          {
           "hovertemplate": "color=MINIVAN<br>animation_frame=2017<br>x=%{x}<br>y=%{y}<extra></extra>",
           "ids": [
            "MINIVAN"
           ],
           "legendgroup": "MINIVAN",
           "line": {
            "color": "#DA16FF",
            "dash": "solid"
           },
           "marker": {
            "symbol": "circle"
           },
           "mode": "markers+lines",
           "name": "MINIVAN",
           "orientation": "v",
           "showlegend": true,
           "type": "scatter",
           "x": [
            2017
           ],
           "xaxis": "x",
           "y": [
            25
           ],
           "yaxis": "y"
          },
          {
           "hovertemplate": "color=PICKUP TRUCK - SMALL<br>animation_frame=2017<br>x=%{x}<br>y=%{y}<extra></extra>",
           "ids": [
            "PICKUP TRUCK - SMALL"
           ],
           "legendgroup": "PICKUP TRUCK - SMALL",
           "line": {
            "color": "#222A2A",
            "dash": "solid"
           },
           "marker": {
            "symbol": "circle"
           },
           "mode": "markers+lines",
           "name": "PICKUP TRUCK - SMALL",
           "orientation": "v",
           "showlegend": true,
           "type": "scatter",
           "x": [
            2017
           ],
           "xaxis": "x",
           "y": [
            24.392857142857142
           ],
           "yaxis": "y"
          },
          {
           "hovertemplate": "color=PICKUP TRUCK - STANDARD<br>animation_frame=2017<br>x=%{x}<br>y=%{y}<extra></extra>",
           "ids": [
            "PICKUP TRUCK - STANDARD"
           ],
           "legendgroup": "PICKUP TRUCK - STANDARD",
           "line": {
            "color": "#B68100",
            "dash": "solid"
           },
           "marker": {
            "symbol": "circle"
           },
           "mode": "markers+lines",
           "name": "PICKUP TRUCK - STANDARD",
           "orientation": "v",
           "showlegend": true,
           "type": "scatter",
           "x": [
            2017
           ],
           "xaxis": "x",
           "y": [
            20.56
           ],
           "yaxis": "y"
          },
          {
           "hovertemplate": "color=STATION WAGON - MID-SIZE<br>animation_frame=2017<br>x=%{x}<br>y=%{y}<extra></extra>",
           "ids": [
            "STATION WAGON - MID-SIZE"
           ],
           "legendgroup": "STATION WAGON - MID-SIZE",
           "line": {
            "color": "#750D86",
            "dash": "solid"
           },
           "marker": {
            "symbol": "circle"
           },
           "mode": "markers+lines",
           "name": "STATION WAGON - MID-SIZE",
           "orientation": "v",
           "showlegend": true,
           "type": "scatter",
           "x": [
            2017
           ],
           "xaxis": "x",
           "y": [
            32.125
           ],
           "yaxis": "y"
          },
          {
           "hovertemplate": "color=STATION WAGON - SMALL<br>animation_frame=2017<br>x=%{x}<br>y=%{y}<extra></extra>",
           "ids": [
            "STATION WAGON - SMALL"
           ],
           "legendgroup": "STATION WAGON - SMALL",
           "line": {
            "color": "#EB663B",
            "dash": "solid"
           },
           "marker": {
            "symbol": "circle"
           },
           "mode": "markers+lines",
           "name": "STATION WAGON - SMALL",
           "orientation": "v",
           "showlegend": true,
           "type": "scatter",
           "x": [
            2017
           ],
           "xaxis": "x",
           "y": [
            35.06666666666667
           ],
           "yaxis": "y"
          },
          {
           "hovertemplate": "color=SUBCOMPACT<br>animation_frame=2017<br>x=%{x}<br>y=%{y}<extra></extra>",
           "ids": [
            "SUBCOMPACT"
           ],
           "legendgroup": "SUBCOMPACT",
           "line": {
            "color": "#511CFB",
            "dash": "solid"
           },
           "marker": {
            "symbol": "circle"
           },
           "mode": "markers+lines",
           "name": "SUBCOMPACT",
           "orientation": "v",
           "showlegend": true,
           "type": "scatter",
           "x": [
            2017
           ],
           "xaxis": "x",
           "y": [
            27.580645161290324
           ],
           "yaxis": "y"
          },
          {
           "hovertemplate": "color=TWO-SEATER<br>animation_frame=2017<br>x=%{x}<br>y=%{y}<extra></extra>",
           "ids": [
            "TWO-SEATER"
           ],
           "legendgroup": "TWO-SEATER",
           "line": {
            "color": "#FB00D1",
            "dash": "solid"
           },
           "marker": {
            "symbol": "circle"
           },
           "mode": "markers+lines",
           "name": "TWO-SEATER",
           "orientation": "v",
           "showlegend": true,
           "type": "scatter",
           "x": [
            2017
           ],
           "xaxis": "x",
           "y": [
            24.75438596491228
           ],
           "yaxis": "y"
          },
          {
           "hovertemplate": "color=VAN - PASSENGER<br>animation_frame=2017<br>x=%{x}<br>y=%{y}<extra></extra>",
           "ids": [
            "VAN - PASSENGER"
           ],
           "legendgroup": "VAN - PASSENGER",
           "line": {
            "color": "#B2828D",
            "dash": "solid"
           },
           "marker": {
            "symbol": "circle"
           },
           "mode": "markers+lines",
           "name": "VAN - PASSENGER",
           "orientation": "v",
           "showlegend": true,
           "type": "scatter",
           "x": [
            2017
           ],
           "xaxis": "x",
           "y": [
            16
           ],
           "yaxis": "y"
          },
          {
           "hovertemplate": "color=SUV - STANDARD<br>animation_frame=2017<br>x=%{x}<br>y=%{y}<extra></extra>",
           "ids": [
            "SUV - STANDARD"
           ],
           "legendgroup": "SUV - STANDARD",
           "line": {
            "color": "#6C7C32",
            "dash": "solid"
           },
           "marker": {
            "symbol": "circle"
           },
           "mode": "markers+lines",
           "name": "SUV - STANDARD",
           "orientation": "v",
           "showlegend": true,
           "type": "scatter",
           "x": [
            2017
           ],
           "xaxis": "x",
           "y": [
            21.598039215686274
           ],
           "yaxis": "y"
          },
          {
           "hovertemplate": "color=SPECIAL PURPOSE VEHICLE<br>animation_frame=2017<br>x=%{x}<br>y=%{y}<extra></extra>",
           "ids": [
            "SPECIAL PURPOSE VEHICLE"
           ],
           "legendgroup": "SPECIAL PURPOSE VEHICLE",
           "line": {
            "color": "#778AAE",
            "dash": "solid"
           },
           "marker": {
            "symbol": "circle"
           },
           "mode": "markers+lines",
           "name": "SPECIAL PURPOSE VEHICLE",
           "orientation": "v",
           "showlegend": true,
           "type": "scatter",
           "x": [
            2017
           ],
           "xaxis": "x",
           "y": [
            25.8
           ],
           "yaxis": "y"
          },
          {
           "hovertemplate": "color=SUV - SMALL<br>animation_frame=2017<br>x=%{x}<br>y=%{y}<extra></extra>",
           "ids": [
            "SUV - SMALL"
           ],
           "legendgroup": "SUV - SMALL",
           "line": {
            "color": "#862A16",
            "dash": "solid"
           },
           "marker": {
            "symbol": "circle"
           },
           "mode": "markers+lines",
           "name": "SUV - SMALL",
           "orientation": "v",
           "showlegend": true,
           "type": "scatter",
           "x": [
            2017
           ],
           "xaxis": "x",
           "y": [
            27.775862068965516
           ],
           "yaxis": "y"
          }
         ],
         "name": "2017"
        },
        {
         "data": [
          {
           "hovertemplate": "color=COMPACT<br>animation_frame=2018<br>x=%{x}<br>y=%{y}<extra></extra>",
           "ids": [
            "COMPACT"
           ],
           "legendgroup": "COMPACT",
           "line": {
            "color": "#2E91E5",
            "dash": "solid"
           },
           "marker": {
            "symbol": "circle"
           },
           "mode": "markers+lines",
           "name": "COMPACT",
           "orientation": "v",
           "showlegend": true,
           "type": "scatter",
           "x": [
            2018
           ],
           "xaxis": "x",
           "y": [
            32.23770491803279
           ],
           "yaxis": "y"
          },
          {
           "hovertemplate": "color=FULL-SIZE<br>animation_frame=2018<br>x=%{x}<br>y=%{y}<extra></extra>",
           "ids": [
            "FULL-SIZE"
           ],
           "legendgroup": "FULL-SIZE",
           "line": {
            "color": "#E15F99",
            "dash": "solid"
           },
           "marker": {
            "symbol": "circle"
           },
           "mode": "markers+lines",
           "name": "FULL-SIZE",
           "orientation": "v",
           "showlegend": true,
           "type": "scatter",
           "x": [
            2018
           ],
           "xaxis": "x",
           "y": [
            27.192660550458715
           ],
           "yaxis": "y"
          },
          {
           "hovertemplate": "color=MID-SIZE<br>animation_frame=2018<br>x=%{x}<br>y=%{y}<extra></extra>",
           "ids": [
            "MID-SIZE"
           ],
           "legendgroup": "MID-SIZE",
           "line": {
            "color": "#1CA71C",
            "dash": "solid"
           },
           "marker": {
            "symbol": "circle"
           },
           "mode": "markers+lines",
           "name": "MID-SIZE",
           "orientation": "v",
           "showlegend": true,
           "type": "scatter",
           "x": [
            2018
           ],
           "xaxis": "x",
           "y": [
            31.664556962025316
           ],
           "yaxis": "y"
          },
          {
           "hovertemplate": "color=MINICOMPACT<br>animation_frame=2018<br>x=%{x}<br>y=%{y}<extra></extra>",
           "ids": [
            "MINICOMPACT"
           ],
           "legendgroup": "MINICOMPACT",
           "line": {
            "color": "#FB0D0D",
            "dash": "solid"
           },
           "marker": {
            "symbol": "circle"
           },
           "mode": "markers+lines",
           "name": "MINICOMPACT",
           "orientation": "v",
           "showlegend": true,
           "type": "scatter",
           "x": [
            2018
           ],
           "xaxis": "x",
           "y": [
            28.245283018867923
           ],
           "yaxis": "y"
          },
          {
           "hovertemplate": "color=MINIVAN<br>animation_frame=2018<br>x=%{x}<br>y=%{y}<extra></extra>",
           "ids": [
            "MINIVAN"
           ],
           "legendgroup": "MINIVAN",
           "line": {
            "color": "#DA16FF",
            "dash": "solid"
           },
           "marker": {
            "symbol": "circle"
           },
           "mode": "markers+lines",
           "name": "MINIVAN",
           "orientation": "v",
           "showlegend": true,
           "type": "scatter",
           "x": [
            2018
           ],
           "xaxis": "x",
           "y": [
            24.454545454545453
           ],
           "yaxis": "y"
          },
          {
           "hovertemplate": "color=PICKUP TRUCK - SMALL<br>animation_frame=2018<br>x=%{x}<br>y=%{y}<extra></extra>",
           "ids": [
            "PICKUP TRUCK - SMALL"
           ],
           "legendgroup": "PICKUP TRUCK - SMALL",
           "line": {
            "color": "#222A2A",
            "dash": "solid"
           },
           "marker": {
            "symbol": "circle"
           },
           "mode": "markers+lines",
           "name": "PICKUP TRUCK - SMALL",
           "orientation": "v",
           "showlegend": true,
           "type": "scatter",
           "x": [
            2018
           ],
           "xaxis": "x",
           "y": [
            24.296296296296298
           ],
           "yaxis": "y"
          },
          {
           "hovertemplate": "color=PICKUP TRUCK - STANDARD<br>animation_frame=2018<br>x=%{x}<br>y=%{y}<extra></extra>",
           "ids": [
            "PICKUP TRUCK - STANDARD"
           ],
           "legendgroup": "PICKUP TRUCK - STANDARD",
           "line": {
            "color": "#B68100",
            "dash": "solid"
           },
           "marker": {
            "symbol": "circle"
           },
           "mode": "markers+lines",
           "name": "PICKUP TRUCK - STANDARD",
           "orientation": "v",
           "showlegend": true,
           "type": "scatter",
           "x": [
            2018
           ],
           "xaxis": "x",
           "y": [
            21.329896907216494
           ],
           "yaxis": "y"
          },
          {
           "hovertemplate": "color=STATION WAGON - MID-SIZE<br>animation_frame=2018<br>x=%{x}<br>y=%{y}<extra></extra>",
           "ids": [
            "STATION WAGON - MID-SIZE"
           ],
           "legendgroup": "STATION WAGON - MID-SIZE",
           "line": {
            "color": "#750D86",
            "dash": "solid"
           },
           "marker": {
            "symbol": "circle"
           },
           "mode": "markers+lines",
           "name": "STATION WAGON - MID-SIZE",
           "orientation": "v",
           "showlegend": true,
           "type": "scatter",
           "x": [
            2018
           ],
           "xaxis": "x",
           "y": [
            30.2
           ],
           "yaxis": "y"
          },
          {
           "hovertemplate": "color=STATION WAGON - SMALL<br>animation_frame=2018<br>x=%{x}<br>y=%{y}<extra></extra>",
           "ids": [
            "STATION WAGON - SMALL"
           ],
           "legendgroup": "STATION WAGON - SMALL",
           "line": {
            "color": "#EB663B",
            "dash": "solid"
           },
           "marker": {
            "symbol": "circle"
           },
           "mode": "markers+lines",
           "name": "STATION WAGON - SMALL",
           "orientation": "v",
           "showlegend": true,
           "type": "scatter",
           "x": [
            2018
           ],
           "xaxis": "x",
           "y": [
            35.17948717948718
           ],
           "yaxis": "y"
          },
          {
           "hovertemplate": "color=SUBCOMPACT<br>animation_frame=2018<br>x=%{x}<br>y=%{y}<extra></extra>",
           "ids": [
            "SUBCOMPACT"
           ],
           "legendgroup": "SUBCOMPACT",
           "line": {
            "color": "#511CFB",
            "dash": "solid"
           },
           "marker": {
            "symbol": "circle"
           },
           "mode": "markers+lines",
           "name": "SUBCOMPACT",
           "orientation": "v",
           "showlegend": true,
           "type": "scatter",
           "x": [
            2018
           ],
           "xaxis": "x",
           "y": [
            27.78125
           ],
           "yaxis": "y"
          },
          {
           "hovertemplate": "color=TWO-SEATER<br>animation_frame=2018<br>x=%{x}<br>y=%{y}<extra></extra>",
           "ids": [
            "TWO-SEATER"
           ],
           "legendgroup": "TWO-SEATER",
           "line": {
            "color": "#FB00D1",
            "dash": "solid"
           },
           "marker": {
            "symbol": "circle"
           },
           "mode": "markers+lines",
           "name": "TWO-SEATER",
           "orientation": "v",
           "showlegend": true,
           "type": "scatter",
           "x": [
            2018
           ],
           "xaxis": "x",
           "y": [
            24.333333333333332
           ],
           "yaxis": "y"
          },
          {
           "hovertemplate": "color=VAN - PASSENGER<br>animation_frame=2018<br>x=%{x}<br>y=%{y}<extra></extra>",
           "ids": [
            "VAN - PASSENGER"
           ],
           "legendgroup": "VAN - PASSENGER",
           "line": {
            "color": "#B2828D",
            "dash": "solid"
           },
           "marker": {
            "symbol": "circle"
           },
           "mode": "markers+lines",
           "name": "VAN - PASSENGER",
           "orientation": "v",
           "showlegend": true,
           "type": "scatter",
           "x": [
            2018
           ],
           "xaxis": "x",
           "y": [
            19
           ],
           "yaxis": "y"
          },
          {
           "hovertemplate": "color=SUV - STANDARD<br>animation_frame=2018<br>x=%{x}<br>y=%{y}<extra></extra>",
           "ids": [
            "SUV - STANDARD"
           ],
           "legendgroup": "SUV - STANDARD",
           "line": {
            "color": "#6C7C32",
            "dash": "solid"
           },
           "marker": {
            "symbol": "circle"
           },
           "mode": "markers+lines",
           "name": "SUV - STANDARD",
           "orientation": "v",
           "showlegend": true,
           "type": "scatter",
           "x": [
            2018
           ],
           "xaxis": "x",
           "y": [
            21.601941747572816
           ],
           "yaxis": "y"
          },
          {
           "hovertemplate": "color=SPECIAL PURPOSE VEHICLE<br>animation_frame=2018<br>x=%{x}<br>y=%{y}<extra></extra>",
           "ids": [
            "SPECIAL PURPOSE VEHICLE"
           ],
           "legendgroup": "SPECIAL PURPOSE VEHICLE",
           "line": {
            "color": "#778AAE",
            "dash": "solid"
           },
           "marker": {
            "symbol": "circle"
           },
           "mode": "markers+lines",
           "name": "SPECIAL PURPOSE VEHICLE",
           "orientation": "v",
           "showlegend": true,
           "type": "scatter",
           "x": [
            2018
           ],
           "xaxis": "x",
           "y": [
            25.4
           ],
           "yaxis": "y"
          },
          {
           "hovertemplate": "color=SUV - SMALL<br>animation_frame=2018<br>x=%{x}<br>y=%{y}<extra></extra>",
           "ids": [
            "SUV - SMALL"
           ],
           "legendgroup": "SUV - SMALL",
           "line": {
            "color": "#862A16",
            "dash": "solid"
           },
           "marker": {
            "symbol": "circle"
           },
           "mode": "markers+lines",
           "name": "SUV - SMALL",
           "orientation": "v",
           "showlegend": true,
           "type": "scatter",
           "x": [
            2018
           ],
           "xaxis": "x",
           "y": [
            28.372881355932204
           ],
           "yaxis": "y"
          }
         ],
         "name": "2018"
        },
        {
         "data": [
          {
           "hovertemplate": "color=COMPACT<br>animation_frame=2019<br>x=%{x}<br>y=%{y}<extra></extra>",
           "ids": [
            "COMPACT"
           ],
           "legendgroup": "COMPACT",
           "line": {
            "color": "#2E91E5",
            "dash": "solid"
           },
           "marker": {
            "symbol": "circle"
           },
           "mode": "markers+lines",
           "name": "COMPACT",
           "orientation": "v",
           "showlegend": true,
           "type": "scatter",
           "x": [
            2019
           ],
           "xaxis": "x",
           "y": [
            32.43396226415094
           ],
           "yaxis": "y"
          },
          {
           "hovertemplate": "color=FULL-SIZE<br>animation_frame=2019<br>x=%{x}<br>y=%{y}<extra></extra>",
           "ids": [
            "FULL-SIZE"
           ],
           "legendgroup": "FULL-SIZE",
           "line": {
            "color": "#E15F99",
            "dash": "solid"
           },
           "marker": {
            "symbol": "circle"
           },
           "mode": "markers+lines",
           "name": "FULL-SIZE",
           "orientation": "v",
           "showlegend": true,
           "type": "scatter",
           "x": [
            2019
           ],
           "xaxis": "x",
           "y": [
            26.603960396039604
           ],
           "yaxis": "y"
          },
          {
           "hovertemplate": "color=MID-SIZE<br>animation_frame=2019<br>x=%{x}<br>y=%{y}<extra></extra>",
           "ids": [
            "MID-SIZE"
           ],
           "legendgroup": "MID-SIZE",
           "line": {
            "color": "#1CA71C",
            "dash": "solid"
           },
           "marker": {
            "symbol": "circle"
           },
           "mode": "markers+lines",
           "name": "MID-SIZE",
           "orientation": "v",
           "showlegend": true,
           "type": "scatter",
           "x": [
            2019
           ],
           "xaxis": "x",
           "y": [
            32.66206896551724
           ],
           "yaxis": "y"
          },
          {
           "hovertemplate": "color=MINICOMPACT<br>animation_frame=2019<br>x=%{x}<br>y=%{y}<extra></extra>",
           "ids": [
            "MINICOMPACT"
           ],
           "legendgroup": "MINICOMPACT",
           "line": {
            "color": "#FB0D0D",
            "dash": "solid"
           },
           "marker": {
            "symbol": "circle"
           },
           "mode": "markers+lines",
           "name": "MINICOMPACT",
           "orientation": "v",
           "showlegend": true,
           "type": "scatter",
           "x": [
            2019
           ],
           "xaxis": "x",
           "y": [
            28
           ],
           "yaxis": "y"
          },
          {
           "hovertemplate": "color=MINIVAN<br>animation_frame=2019<br>x=%{x}<br>y=%{y}<extra></extra>",
           "ids": [
            "MINIVAN"
           ],
           "legendgroup": "MINIVAN",
           "line": {
            "color": "#DA16FF",
            "dash": "solid"
           },
           "marker": {
            "symbol": "circle"
           },
           "mode": "markers+lines",
           "name": "MINIVAN",
           "orientation": "v",
           "showlegend": true,
           "type": "scatter",
           "x": [
            2019
           ],
           "xaxis": "x",
           "y": [
            24.666666666666668
           ],
           "yaxis": "y"
          },
          {
           "hovertemplate": "color=PICKUP TRUCK - SMALL<br>animation_frame=2019<br>x=%{x}<br>y=%{y}<extra></extra>",
           "ids": [
            "PICKUP TRUCK - SMALL"
           ],
           "legendgroup": "PICKUP TRUCK - SMALL",
           "line": {
            "color": "#222A2A",
            "dash": "solid"
           },
           "marker": {
            "symbol": "circle"
           },
           "mode": "markers+lines",
           "name": "PICKUP TRUCK - SMALL",
           "orientation": "v",
           "showlegend": true,
           "type": "scatter",
           "x": [
            2019
           ],
           "xaxis": "x",
           "y": [
            24.16
           ],
           "yaxis": "y"
          },
          {
           "hovertemplate": "color=PICKUP TRUCK - STANDARD<br>animation_frame=2019<br>x=%{x}<br>y=%{y}<extra></extra>",
           "ids": [
            "PICKUP TRUCK - STANDARD"
           ],
           "legendgroup": "PICKUP TRUCK - STANDARD",
           "line": {
            "color": "#B68100",
            "dash": "solid"
           },
           "marker": {
            "symbol": "circle"
           },
           "mode": "markers+lines",
           "name": "PICKUP TRUCK - STANDARD",
           "orientation": "v",
           "showlegend": true,
           "type": "scatter",
           "x": [
            2019
           ],
           "xaxis": "x",
           "y": [
            21.32323232323232
           ],
           "yaxis": "y"
          },
          {
           "hovertemplate": "color=STATION WAGON - MID-SIZE<br>animation_frame=2019<br>x=%{x}<br>y=%{y}<extra></extra>",
           "ids": [
            "STATION WAGON - MID-SIZE"
           ],
           "legendgroup": "STATION WAGON - MID-SIZE",
           "line": {
            "color": "#750D86",
            "dash": "solid"
           },
           "marker": {
            "symbol": "circle"
           },
           "mode": "markers+lines",
           "name": "STATION WAGON - MID-SIZE",
           "orientation": "v",
           "showlegend": true,
           "type": "scatter",
           "x": [
            2019
           ],
           "xaxis": "x",
           "y": [
            26.11111111111111
           ],
           "yaxis": "y"
          },
          {
           "hovertemplate": "color=STATION WAGON - SMALL<br>animation_frame=2019<br>x=%{x}<br>y=%{y}<extra></extra>",
           "ids": [
            "STATION WAGON - SMALL"
           ],
           "legendgroup": "STATION WAGON - SMALL",
           "line": {
            "color": "#EB663B",
            "dash": "solid"
           },
           "marker": {
            "symbol": "circle"
           },
           "mode": "markers+lines",
           "name": "STATION WAGON - SMALL",
           "orientation": "v",
           "showlegend": true,
           "type": "scatter",
           "x": [
            2019
           ],
           "xaxis": "x",
           "y": [
            34.891891891891895
           ],
           "yaxis": "y"
          },
          {
           "hovertemplate": "color=SUBCOMPACT<br>animation_frame=2019<br>x=%{x}<br>y=%{y}<extra></extra>",
           "ids": [
            "SUBCOMPACT"
           ],
           "legendgroup": "SUBCOMPACT",
           "line": {
            "color": "#511CFB",
            "dash": "solid"
           },
           "marker": {
            "symbol": "circle"
           },
           "mode": "markers+lines",
           "name": "SUBCOMPACT",
           "orientation": "v",
           "showlegend": true,
           "type": "scatter",
           "x": [
            2019
           ],
           "xaxis": "x",
           "y": [
            27.948979591836736
           ],
           "yaxis": "y"
          },
          {
           "hovertemplate": "color=TWO-SEATER<br>animation_frame=2019<br>x=%{x}<br>y=%{y}<extra></extra>",
           "ids": [
            "TWO-SEATER"
           ],
           "legendgroup": "TWO-SEATER",
           "line": {
            "color": "#FB00D1",
            "dash": "solid"
           },
           "marker": {
            "symbol": "circle"
           },
           "mode": "markers+lines",
           "name": "TWO-SEATER",
           "orientation": "v",
           "showlegend": true,
           "type": "scatter",
           "x": [
            2019
           ],
           "xaxis": "x",
           "y": [
            24.37142857142857
           ],
           "yaxis": "y"
          },
          {
           "hovertemplate": "color=VAN - PASSENGER<br>animation_frame=2019<br>x=%{x}<br>y=%{y}<extra></extra>",
           "ids": [
            "VAN - PASSENGER"
           ],
           "legendgroup": "VAN - PASSENGER",
           "line": {
            "color": "#B2828D",
            "dash": "solid"
           },
           "marker": {
            "symbol": "circle"
           },
           "mode": "markers+lines",
           "name": "VAN - PASSENGER",
           "orientation": "v",
           "showlegend": true,
           "type": "scatter",
           "x": [
            2019
           ],
           "xaxis": "x",
           "y": [
            19
           ],
           "yaxis": "y"
          },
          {
           "hovertemplate": "color=SUV - STANDARD<br>animation_frame=2019<br>x=%{x}<br>y=%{y}<extra></extra>",
           "ids": [
            "SUV - STANDARD"
           ],
           "legendgroup": "SUV - STANDARD",
           "line": {
            "color": "#6C7C32",
            "dash": "solid"
           },
           "marker": {
            "symbol": "circle"
           },
           "mode": "markers+lines",
           "name": "SUV - STANDARD",
           "orientation": "v",
           "showlegend": true,
           "type": "scatter",
           "x": [
            2019
           ],
           "xaxis": "x",
           "y": [
            21.756756756756758
           ],
           "yaxis": "y"
          },
          {
           "hovertemplate": "color=SPECIAL PURPOSE VEHICLE<br>animation_frame=2019<br>x=%{x}<br>y=%{y}<extra></extra>",
           "ids": [
            "SPECIAL PURPOSE VEHICLE"
           ],
           "legendgroup": "SPECIAL PURPOSE VEHICLE",
           "line": {
            "color": "#778AAE",
            "dash": "solid"
           },
           "marker": {
            "symbol": "circle"
           },
           "mode": "markers+lines",
           "name": "SPECIAL PURPOSE VEHICLE",
           "orientation": "v",
           "showlegend": true,
           "type": "scatter",
           "x": [
            2019
           ],
           "xaxis": "x",
           "y": [
            27.071428571428573
           ],
           "yaxis": "y"
          },
          {
           "hovertemplate": "color=SUV - SMALL<br>animation_frame=2019<br>x=%{x}<br>y=%{y}<extra></extra>",
           "ids": [
            "SUV - SMALL"
           ],
           "legendgroup": "SUV - SMALL",
           "line": {
            "color": "#862A16",
            "dash": "solid"
           },
           "marker": {
            "symbol": "circle"
           },
           "mode": "markers+lines",
           "name": "SUV - SMALL",
           "orientation": "v",
           "showlegend": true,
           "type": "scatter",
           "x": [
            2019
           ],
           "xaxis": "x",
           "y": [
            28.913793103448278
           ],
           "yaxis": "y"
          }
         ],
         "name": "2019"
        },
        {
         "data": [
          {
           "hovertemplate": "color=COMPACT<br>animation_frame=2020<br>x=%{x}<br>y=%{y}<extra></extra>",
           "ids": [
            "COMPACT"
           ],
           "legendgroup": "COMPACT",
           "line": {
            "color": "#2E91E5",
            "dash": "solid"
           },
           "marker": {
            "symbol": "circle"
           },
           "mode": "markers+lines",
           "name": "COMPACT",
           "orientation": "v",
           "showlegend": true,
           "type": "scatter",
           "x": [
            2020
           ],
           "xaxis": "x",
           "y": [
            32.28703703703704
           ],
           "yaxis": "y"
          },
          {
           "hovertemplate": "color=FULL-SIZE<br>animation_frame=2020<br>x=%{x}<br>y=%{y}<extra></extra>",
           "ids": [
            "FULL-SIZE"
           ],
           "legendgroup": "FULL-SIZE",
           "line": {
            "color": "#E15F99",
            "dash": "solid"
           },
           "marker": {
            "symbol": "circle"
           },
           "mode": "markers+lines",
           "name": "FULL-SIZE",
           "orientation": "v",
           "showlegend": true,
           "type": "scatter",
           "x": [
            2020
           ],
           "xaxis": "x",
           "y": [
            28.102564102564102
           ],
           "yaxis": "y"
          },
          {
           "hovertemplate": "color=MID-SIZE<br>animation_frame=2020<br>x=%{x}<br>y=%{y}<extra></extra>",
           "ids": [
            "MID-SIZE"
           ],
           "legendgroup": "MID-SIZE",
           "line": {
            "color": "#1CA71C",
            "dash": "solid"
           },
           "marker": {
            "symbol": "circle"
           },
           "mode": "markers+lines",
           "name": "MID-SIZE",
           "orientation": "v",
           "showlegend": true,
           "type": "scatter",
           "x": [
            2020
           ],
           "xaxis": "x",
           "y": [
            31.365079365079364
           ],
           "yaxis": "y"
          },
          {
           "hovertemplate": "color=MINICOMPACT<br>animation_frame=2020<br>x=%{x}<br>y=%{y}<extra></extra>",
           "ids": [
            "MINICOMPACT"
           ],
           "legendgroup": "MINICOMPACT",
           "line": {
            "color": "#FB0D0D",
            "dash": "solid"
           },
           "marker": {
            "symbol": "circle"
           },
           "mode": "markers+lines",
           "name": "MINICOMPACT",
           "orientation": "v",
           "showlegend": true,
           "type": "scatter",
           "x": [
            2020
           ],
           "xaxis": "x",
           "y": [
            26.652173913043477
           ],
           "yaxis": "y"
          },
          {
           "hovertemplate": "color=MINIVAN<br>animation_frame=2020<br>x=%{x}<br>y=%{y}<extra></extra>",
           "ids": [
            "MINIVAN"
           ],
           "legendgroup": "MINIVAN",
           "line": {
            "color": "#DA16FF",
            "dash": "solid"
           },
           "marker": {
            "symbol": "circle"
           },
           "mode": "markers+lines",
           "name": "MINIVAN",
           "orientation": "v",
           "showlegend": true,
           "type": "scatter",
           "x": [
            2020
           ],
           "xaxis": "x",
           "y": [
            25.5
           ],
           "yaxis": "y"
          },
          {
           "hovertemplate": "color=PICKUP TRUCK - SMALL<br>animation_frame=2020<br>x=%{x}<br>y=%{y}<extra></extra>",
           "ids": [
            "PICKUP TRUCK - SMALL"
           ],
           "legendgroup": "PICKUP TRUCK - SMALL",
           "line": {
            "color": "#222A2A",
            "dash": "solid"
           },
           "marker": {
            "symbol": "circle"
           },
           "mode": "markers+lines",
           "name": "PICKUP TRUCK - SMALL",
           "orientation": "v",
           "showlegend": true,
           "type": "scatter",
           "x": [
            2020
           ],
           "xaxis": "x",
           "y": [
            24.526315789473685
           ],
           "yaxis": "y"
          },
          {
           "hovertemplate": "color=PICKUP TRUCK - STANDARD<br>animation_frame=2020<br>x=%{x}<br>y=%{y}<extra></extra>",
           "ids": [
            "PICKUP TRUCK - STANDARD"
           ],
           "legendgroup": "PICKUP TRUCK - STANDARD",
           "line": {
            "color": "#B68100",
            "dash": "solid"
           },
           "marker": {
            "symbol": "circle"
           },
           "mode": "markers+lines",
           "name": "PICKUP TRUCK - STANDARD",
           "orientation": "v",
           "showlegend": true,
           "type": "scatter",
           "x": [
            2020
           ],
           "xaxis": "x",
           "y": [
            22.13186813186813
           ],
           "yaxis": "y"
          },
          {
           "hovertemplate": "color=STATION WAGON - MID-SIZE<br>animation_frame=2020<br>x=%{x}<br>y=%{y}<extra></extra>",
           "ids": [
            "STATION WAGON - MID-SIZE"
           ],
           "legendgroup": "STATION WAGON - MID-SIZE",
           "line": {
            "color": "#750D86",
            "dash": "solid"
           },
           "marker": {
            "symbol": "circle"
           },
           "mode": "markers+lines",
           "name": "STATION WAGON - MID-SIZE",
           "orientation": "v",
           "showlegend": true,
           "type": "scatter",
           "x": [
            2020
           ],
           "xaxis": "x",
           "y": [
            24
           ],
           "yaxis": "y"
          },
          {
           "hovertemplate": "color=STATION WAGON - SMALL<br>animation_frame=2020<br>x=%{x}<br>y=%{y}<extra></extra>",
           "ids": [
            "STATION WAGON - SMALL"
           ],
           "legendgroup": "STATION WAGON - SMALL",
           "line": {
            "color": "#EB663B",
            "dash": "solid"
           },
           "marker": {
            "symbol": "circle"
           },
           "mode": "markers+lines",
           "name": "STATION WAGON - SMALL",
           "orientation": "v",
           "showlegend": true,
           "type": "scatter",
           "x": [
            2020
           ],
           "xaxis": "x",
           "y": [
            36.2
           ],
           "yaxis": "y"
          },
          {
           "hovertemplate": "color=SUBCOMPACT<br>animation_frame=2020<br>x=%{x}<br>y=%{y}<extra></extra>",
           "ids": [
            "SUBCOMPACT"
           ],
           "legendgroup": "SUBCOMPACT",
           "line": {
            "color": "#511CFB",
            "dash": "solid"
           },
           "marker": {
            "symbol": "circle"
           },
           "mode": "markers+lines",
           "name": "SUBCOMPACT",
           "orientation": "v",
           "showlegend": true,
           "type": "scatter",
           "x": [
            2020
           ],
           "xaxis": "x",
           "y": [
            26.821052631578947
           ],
           "yaxis": "y"
          },
          {
           "hovertemplate": "color=TWO-SEATER<br>animation_frame=2020<br>x=%{x}<br>y=%{y}<extra></extra>",
           "ids": [
            "TWO-SEATER"
           ],
           "legendgroup": "TWO-SEATER",
           "line": {
            "color": "#FB00D1",
            "dash": "solid"
           },
           "marker": {
            "symbol": "circle"
           },
           "mode": "markers+lines",
           "name": "TWO-SEATER",
           "orientation": "v",
           "showlegend": true,
           "type": "scatter",
           "x": [
            2020
           ],
           "xaxis": "x",
           "y": [
            24.421875
           ],
           "yaxis": "y"
          },
          {
           "hovertemplate": "color=VAN - PASSENGER<br>animation_frame=2020<br>x=%{x}<br>y=%{y}<extra></extra>",
           "ids": [
            "VAN - PASSENGER"
           ],
           "legendgroup": "VAN - PASSENGER",
           "line": {
            "color": "#B2828D",
            "dash": "solid"
           },
           "marker": {
            "symbol": "circle"
           },
           "mode": "markers+lines",
           "name": "VAN - PASSENGER",
           "orientation": "v",
           "showlegend": true,
           "type": "scatter",
           "x": [
            2020
           ],
           "xaxis": "x",
           "y": [
            16.75
           ],
           "yaxis": "y"
          },
          {
           "hovertemplate": "color=SUV - STANDARD<br>animation_frame=2020<br>x=%{x}<br>y=%{y}<extra></extra>",
           "ids": [
            "SUV - STANDARD"
           ],
           "legendgroup": "SUV - STANDARD",
           "line": {
            "color": "#6C7C32",
            "dash": "solid"
           },
           "marker": {
            "symbol": "circle"
           },
           "mode": "markers+lines",
           "name": "SUV - STANDARD",
           "orientation": "v",
           "showlegend": true,
           "type": "scatter",
           "x": [
            2020
           ],
           "xaxis": "x",
           "y": [
            22.084745762711865
           ],
           "yaxis": "y"
          },
          {
           "hovertemplate": "color=SPECIAL PURPOSE VEHICLE<br>animation_frame=2020<br>x=%{x}<br>y=%{y}<extra></extra>",
           "ids": [
            "SPECIAL PURPOSE VEHICLE"
           ],
           "legendgroup": "SPECIAL PURPOSE VEHICLE",
           "line": {
            "color": "#778AAE",
            "dash": "solid"
           },
           "marker": {
            "symbol": "circle"
           },
           "mode": "markers+lines",
           "name": "SPECIAL PURPOSE VEHICLE",
           "orientation": "v",
           "showlegend": true,
           "type": "scatter",
           "x": [
            2020
           ],
           "xaxis": "x",
           "y": [
            27.615384615384617
           ],
           "yaxis": "y"
          },
          {
           "hovertemplate": "color=SUV - SMALL<br>animation_frame=2020<br>x=%{x}<br>y=%{y}<extra></extra>",
           "ids": [
            "SUV - SMALL"
           ],
           "legendgroup": "SUV - SMALL",
           "line": {
            "color": "#862A16",
            "dash": "solid"
           },
           "marker": {
            "symbol": "circle"
           },
           "mode": "markers+lines",
           "name": "SUV - SMALL",
           "orientation": "v",
           "showlegend": true,
           "type": "scatter",
           "x": [
            2020
           ],
           "xaxis": "x",
           "y": [
            28.824468085106382
           ],
           "yaxis": "y"
          }
         ],
         "name": "2020"
        },
        {
         "data": [
          {
           "hovertemplate": "color=COMPACT<br>animation_frame=2021<br>x=%{x}<br>y=%{y}<extra></extra>",
           "ids": [
            "COMPACT"
           ],
           "legendgroup": "COMPACT",
           "line": {
            "color": "#2E91E5",
            "dash": "solid"
           },
           "marker": {
            "symbol": "circle"
           },
           "mode": "markers+lines",
           "name": "COMPACT",
           "orientation": "v",
           "showlegend": true,
           "type": "scatter",
           "x": [
            2021
           ],
           "xaxis": "x",
           "y": [
            32.92941176470588
           ],
           "yaxis": "y"
          },
          {
           "hovertemplate": "color=FULL-SIZE<br>animation_frame=2021<br>x=%{x}<br>y=%{y}<extra></extra>",
           "ids": [
            "FULL-SIZE"
           ],
           "legendgroup": "FULL-SIZE",
           "line": {
            "color": "#E15F99",
            "dash": "solid"
           },
           "marker": {
            "symbol": "circle"
           },
           "mode": "markers+lines",
           "name": "FULL-SIZE",
           "orientation": "v",
           "showlegend": true,
           "type": "scatter",
           "x": [
            2021
           ],
           "xaxis": "x",
           "y": [
            29
           ],
           "yaxis": "y"
          },
          {
           "hovertemplate": "color=MID-SIZE<br>animation_frame=2021<br>x=%{x}<br>y=%{y}<extra></extra>",
           "ids": [
            "MID-SIZE"
           ],
           "legendgroup": "MID-SIZE",
           "line": {
            "color": "#1CA71C",
            "dash": "solid"
           },
           "marker": {
            "symbol": "circle"
           },
           "mode": "markers+lines",
           "name": "MID-SIZE",
           "orientation": "v",
           "showlegend": true,
           "type": "scatter",
           "x": [
            2021
           ],
           "xaxis": "x",
           "y": [
            31.42105263157895
           ],
           "yaxis": "y"
          },
          {
           "hovertemplate": "color=MINICOMPACT<br>animation_frame=2021<br>x=%{x}<br>y=%{y}<extra></extra>",
           "ids": [
            "MINICOMPACT"
           ],
           "legendgroup": "MINICOMPACT",
           "line": {
            "color": "#FB0D0D",
            "dash": "solid"
           },
           "marker": {
            "symbol": "circle"
           },
           "mode": "markers+lines",
           "name": "MINICOMPACT",
           "orientation": "v",
           "showlegend": true,
           "type": "scatter",
           "x": [
            2021
           ],
           "xaxis": "x",
           "y": [
            24.9
           ],
           "yaxis": "y"
          },
          {
           "hovertemplate": "color=MINIVAN<br>animation_frame=2021<br>x=%{x}<br>y=%{y}<extra></extra>",
           "ids": [
            "MINIVAN"
           ],
           "legendgroup": "MINIVAN",
           "line": {
            "color": "#DA16FF",
            "dash": "solid"
           },
           "marker": {
            "symbol": "circle"
           },
           "mode": "markers+lines",
           "name": "MINIVAN",
           "orientation": "v",
           "showlegend": true,
           "type": "scatter",
           "x": [
            2021
           ],
           "xaxis": "x",
           "y": [
            30.714285714285715
           ],
           "yaxis": "y"
          },
          {
           "hovertemplate": "color=PICKUP TRUCK - SMALL<br>animation_frame=2021<br>x=%{x}<br>y=%{y}<extra></extra>",
           "ids": [
            "PICKUP TRUCK - SMALL"
           ],
           "legendgroup": "PICKUP TRUCK - SMALL",
           "line": {
            "color": "#222A2A",
            "dash": "solid"
           },
           "marker": {
            "symbol": "circle"
           },
           "mode": "markers+lines",
           "name": "PICKUP TRUCK - SMALL",
           "orientation": "v",
           "showlegend": true,
           "type": "scatter",
           "x": [
            2021
           ],
           "xaxis": "x",
           "y": [
            24.58823529411765
           ],
           "yaxis": "y"
          },
          {
           "hovertemplate": "color=PICKUP TRUCK - STANDARD<br>animation_frame=2021<br>x=%{x}<br>y=%{y}<extra></extra>",
           "ids": [
            "PICKUP TRUCK - STANDARD"
           ],
           "legendgroup": "PICKUP TRUCK - STANDARD",
           "line": {
            "color": "#B68100",
            "dash": "solid"
           },
           "marker": {
            "symbol": "circle"
           },
           "mode": "markers+lines",
           "name": "PICKUP TRUCK - STANDARD",
           "orientation": "v",
           "showlegend": true,
           "type": "scatter",
           "x": [
            2021
           ],
           "xaxis": "x",
           "y": [
            21.8
           ],
           "yaxis": "y"
          },
          {
           "hovertemplate": "color=STATION WAGON - MID-SIZE<br>animation_frame=2021<br>x=%{x}<br>y=%{y}<extra></extra>",
           "ids": [
            "STATION WAGON - MID-SIZE"
           ],
           "legendgroup": "STATION WAGON - MID-SIZE",
           "line": {
            "color": "#750D86",
            "dash": "solid"
           },
           "marker": {
            "symbol": "circle"
           },
           "mode": "markers+lines",
           "name": "STATION WAGON - MID-SIZE",
           "orientation": "v",
           "showlegend": true,
           "type": "scatter",
           "x": [
            2021
           ],
           "xaxis": "x",
           "y": [
            24
           ],
           "yaxis": "y"
          },
          {
           "hovertemplate": "color=STATION WAGON - SMALL<br>animation_frame=2021<br>x=%{x}<br>y=%{y}<extra></extra>",
           "ids": [
            "STATION WAGON - SMALL"
           ],
           "legendgroup": "STATION WAGON - SMALL",
           "line": {
            "color": "#EB663B",
            "dash": "solid"
           },
           "marker": {
            "symbol": "circle"
           },
           "mode": "markers+lines",
           "name": "STATION WAGON - SMALL",
           "orientation": "v",
           "showlegend": true,
           "type": "scatter",
           "x": [
            2021
           ],
           "xaxis": "x",
           "y": [
            36.4
           ],
           "yaxis": "y"
          },
          {
           "hovertemplate": "color=SUBCOMPACT<br>animation_frame=2021<br>x=%{x}<br>y=%{y}<extra></extra>",
           "ids": [
            "SUBCOMPACT"
           ],
           "legendgroup": "SUBCOMPACT",
           "line": {
            "color": "#511CFB",
            "dash": "solid"
           },
           "marker": {
            "symbol": "circle"
           },
           "mode": "markers+lines",
           "name": "SUBCOMPACT",
           "orientation": "v",
           "showlegend": true,
           "type": "scatter",
           "x": [
            2021
           ],
           "xaxis": "x",
           "y": [
            27.373493975903614
           ],
           "yaxis": "y"
          },
          {
           "hovertemplate": "color=TWO-SEATER<br>animation_frame=2021<br>x=%{x}<br>y=%{y}<extra></extra>",
           "ids": [
            "TWO-SEATER"
           ],
           "legendgroup": "TWO-SEATER",
           "line": {
            "color": "#FB00D1",
            "dash": "solid"
           },
           "marker": {
            "symbol": "circle"
           },
           "mode": "markers+lines",
           "name": "TWO-SEATER",
           "orientation": "v",
           "showlegend": true,
           "type": "scatter",
           "x": [
            2021
           ],
           "xaxis": "x",
           "y": [
            23
           ],
           "yaxis": "y"
          },
          {
           "hovertemplate": "color=VAN - PASSENGER<br>animation_frame=2021<br>x=%{x}<br>y=%{y}<extra></extra>",
           "ids": [
            "VAN - PASSENGER"
           ],
           "legendgroup": "VAN - PASSENGER",
           "line": {
            "color": "#B2828D",
            "dash": "solid"
           },
           "marker": {
            "symbol": "circle"
           },
           "mode": "markers+lines",
           "name": "VAN - PASSENGER",
           "orientation": "v",
           "showlegend": true,
           "type": "scatter",
           "x": [
            2021
           ],
           "xaxis": "x",
           "y": [
            16.75
           ],
           "yaxis": "y"
          },
          {
           "hovertemplate": "color=SUV - STANDARD<br>animation_frame=2021<br>x=%{x}<br>y=%{y}<extra></extra>",
           "ids": [
            "SUV - STANDARD"
           ],
           "legendgroup": "SUV - STANDARD",
           "line": {
            "color": "#6C7C32",
            "dash": "solid"
           },
           "marker": {
            "symbol": "circle"
           },
           "mode": "markers+lines",
           "name": "SUV - STANDARD",
           "orientation": "v",
           "showlegend": true,
           "type": "scatter",
           "x": [
            2021
           ],
           "xaxis": "x",
           "y": [
            22.58267716535433
           ],
           "yaxis": "y"
          },
          {
           "hovertemplate": "color=SPECIAL PURPOSE VEHICLE<br>animation_frame=2021<br>x=%{x}<br>y=%{y}<extra></extra>",
           "ids": [
            "SPECIAL PURPOSE VEHICLE"
           ],
           "legendgroup": "SPECIAL PURPOSE VEHICLE",
           "line": {
            "color": "#778AAE",
            "dash": "solid"
           },
           "marker": {
            "symbol": "circle"
           },
           "mode": "markers+lines",
           "name": "SPECIAL PURPOSE VEHICLE",
           "orientation": "v",
           "showlegend": true,
           "type": "scatter",
           "x": [
            2021
           ],
           "xaxis": "x",
           "y": [
            27.076923076923077
           ],
           "yaxis": "y"
          },
          {
           "hovertemplate": "color=SUV - SMALL<br>animation_frame=2021<br>x=%{x}<br>y=%{y}<extra></extra>",
           "ids": [
            "SUV - SMALL"
           ],
           "legendgroup": "SUV - SMALL",
           "line": {
            "color": "#862A16",
            "dash": "solid"
           },
           "marker": {
            "symbol": "circle"
           },
           "mode": "markers+lines",
           "name": "SUV - SMALL",
           "orientation": "v",
           "showlegend": true,
           "type": "scatter",
           "x": [
            2021
           ],
           "xaxis": "x",
           "y": [
            29.435233160621763
           ],
           "yaxis": "y"
          }
         ],
         "name": "2021"
        },
        {
         "data": [
          {
           "hovertemplate": "color=COMPACT<br>animation_frame=2022<br>x=%{x}<br>y=%{y}<extra></extra>",
           "ids": [
            "COMPACT"
           ],
           "legendgroup": "COMPACT",
           "line": {
            "color": "#2E91E5",
            "dash": "solid"
           },
           "marker": {
            "symbol": "circle"
           },
           "mode": "markers+lines",
           "name": "COMPACT",
           "orientation": "v",
           "showlegend": true,
           "type": "scatter",
           "x": [
            2022
           ],
           "xaxis": "x",
           "y": [
            33.22857142857143
           ],
           "yaxis": "y"
          },
          {
           "hovertemplate": "color=FULL-SIZE<br>animation_frame=2022<br>x=%{x}<br>y=%{y}<extra></extra>",
           "ids": [
            "FULL-SIZE"
           ],
           "legendgroup": "FULL-SIZE",
           "line": {
            "color": "#E15F99",
            "dash": "solid"
           },
           "marker": {
            "symbol": "circle"
           },
           "mode": "markers+lines",
           "name": "FULL-SIZE",
           "orientation": "v",
           "showlegend": true,
           "type": "scatter",
           "x": [
            2022
           ],
           "xaxis": "x",
           "y": [
            28.890625
           ],
           "yaxis": "y"
          },
          {
           "hovertemplate": "color=MID-SIZE<br>animation_frame=2022<br>x=%{x}<br>y=%{y}<extra></extra>",
           "ids": [
            "MID-SIZE"
           ],
           "legendgroup": "MID-SIZE",
           "line": {
            "color": "#1CA71C",
            "dash": "solid"
           },
           "marker": {
            "symbol": "circle"
           },
           "mode": "markers+lines",
           "name": "MID-SIZE",
           "orientation": "v",
           "showlegend": true,
           "type": "scatter",
           "x": [
            2022
           ],
           "xaxis": "x",
           "y": [
            31.034188034188034
           ],
           "yaxis": "y"
          },
          {
           "hovertemplate": "color=MINICOMPACT<br>animation_frame=2022<br>x=%{x}<br>y=%{y}<extra></extra>",
           "ids": [
            "MINICOMPACT"
           ],
           "legendgroup": "MINICOMPACT",
           "line": {
            "color": "#FB0D0D",
            "dash": "solid"
           },
           "marker": {
            "symbol": "circle"
           },
           "mode": "markers+lines",
           "name": "MINICOMPACT",
           "orientation": "v",
           "showlegend": true,
           "type": "scatter",
           "x": [
            2022
           ],
           "xaxis": "x",
           "y": [
            24.224489795918366
           ],
           "yaxis": "y"
          },
          {
           "hovertemplate": "color=MINIVAN<br>animation_frame=2022<br>x=%{x}<br>y=%{y}<extra></extra>",
           "ids": [
            "MINIVAN"
           ],
           "legendgroup": "MINIVAN",
           "line": {
            "color": "#DA16FF",
            "dash": "solid"
           },
           "marker": {
            "symbol": "circle"
           },
           "mode": "markers+lines",
           "name": "MINIVAN",
           "orientation": "v",
           "showlegend": true,
           "type": "scatter",
           "x": [
            2022
           ],
           "xaxis": "x",
           "y": [
            31
           ],
           "yaxis": "y"
          },
          {
           "hovertemplate": "color=PICKUP TRUCK - SMALL<br>animation_frame=2022<br>x=%{x}<br>y=%{y}<extra></extra>",
           "ids": [
            "PICKUP TRUCK - SMALL"
           ],
           "legendgroup": "PICKUP TRUCK - SMALL",
           "line": {
            "color": "#222A2A",
            "dash": "solid"
           },
           "marker": {
            "symbol": "circle"
           },
           "mode": "markers+lines",
           "name": "PICKUP TRUCK - SMALL",
           "orientation": "v",
           "showlegend": true,
           "type": "scatter",
           "x": [
            2022
           ],
           "xaxis": "x",
           "y": [
            26
           ],
           "yaxis": "y"
          },
          {
           "hovertemplate": "color=PICKUP TRUCK - STANDARD<br>animation_frame=2022<br>x=%{x}<br>y=%{y}<extra></extra>",
           "ids": [
            "PICKUP TRUCK - STANDARD"
           ],
           "legendgroup": "PICKUP TRUCK - STANDARD",
           "line": {
            "color": "#B68100",
            "dash": "solid"
           },
           "marker": {
            "symbol": "circle"
           },
           "mode": "markers+lines",
           "name": "PICKUP TRUCK - STANDARD",
           "orientation": "v",
           "showlegend": true,
           "type": "scatter",
           "x": [
            2022
           ],
           "xaxis": "x",
           "y": [
            21.460176991150444
           ],
           "yaxis": "y"
          },
          {
           "hovertemplate": "color=STATION WAGON - MID-SIZE<br>animation_frame=2022<br>x=%{x}<br>y=%{y}<extra></extra>",
           "ids": [
            "STATION WAGON - MID-SIZE"
           ],
           "legendgroup": "STATION WAGON - MID-SIZE",
           "line": {
            "color": "#750D86",
            "dash": "solid"
           },
           "marker": {
            "symbol": "circle"
           },
           "mode": "markers+lines",
           "name": "STATION WAGON - MID-SIZE",
           "orientation": "v",
           "showlegend": true,
           "type": "scatter",
           "x": [
            2022
           ],
           "xaxis": "x",
           "y": [
            24.25
           ],
           "yaxis": "y"
          },
          {
           "hovertemplate": "color=STATION WAGON - SMALL<br>animation_frame=2022<br>x=%{x}<br>y=%{y}<extra></extra>",
           "ids": [
            "STATION WAGON - SMALL"
           ],
           "legendgroup": "STATION WAGON - SMALL",
           "line": {
            "color": "#EB663B",
            "dash": "solid"
           },
           "marker": {
            "symbol": "circle"
           },
           "mode": "markers+lines",
           "name": "STATION WAGON - SMALL",
           "orientation": "v",
           "showlegend": true,
           "type": "scatter",
           "x": [
            2022
           ],
           "xaxis": "x",
           "y": [
            36.26315789473684
           ],
           "yaxis": "y"
          },
          {
           "hovertemplate": "color=SUBCOMPACT<br>animation_frame=2022<br>x=%{x}<br>y=%{y}<extra></extra>",
           "ids": [
            "SUBCOMPACT"
           ],
           "legendgroup": "SUBCOMPACT",
           "line": {
            "color": "#511CFB",
            "dash": "solid"
           },
           "marker": {
            "symbol": "circle"
           },
           "mode": "markers+lines",
           "name": "SUBCOMPACT",
           "orientation": "v",
           "showlegend": true,
           "type": "scatter",
           "x": [
            2022
           ],
           "xaxis": "x",
           "y": [
            27.620253164556964
           ],
           "yaxis": "y"
          },
          {
           "hovertemplate": "color=TWO-SEATER<br>animation_frame=2022<br>x=%{x}<br>y=%{y}<extra></extra>",
           "ids": [
            "TWO-SEATER"
           ],
           "legendgroup": "TWO-SEATER",
           "line": {
            "color": "#FB00D1",
            "dash": "solid"
           },
           "marker": {
            "symbol": "circle"
           },
           "mode": "markers+lines",
           "name": "TWO-SEATER",
           "orientation": "v",
           "showlegend": true,
           "type": "scatter",
           "x": [
            2022
           ],
           "xaxis": "x",
           "y": [
            23.15686274509804
           ],
           "yaxis": "y"
          },
          {
           "hovertemplate": "color=SUV - STANDARD<br>animation_frame=2022<br>x=%{x}<br>y=%{y}<extra></extra>",
           "ids": [
            "SUV - STANDARD"
           ],
           "legendgroup": "SUV - STANDARD",
           "line": {
            "color": "#6C7C32",
            "dash": "solid"
           },
           "marker": {
            "symbol": "circle"
           },
           "mode": "markers+lines",
           "name": "SUV - STANDARD",
           "orientation": "v",
           "showlegend": true,
           "type": "scatter",
           "x": [
            2022
           ],
           "xaxis": "x",
           "y": [
            22.463087248322147
           ],
           "yaxis": "y"
          },
          {
           "hovertemplate": "color=SPECIAL PURPOSE VEHICLE<br>animation_frame=2022<br>x=%{x}<br>y=%{y}<extra></extra>",
           "ids": [
            "SPECIAL PURPOSE VEHICLE"
           ],
           "legendgroup": "SPECIAL PURPOSE VEHICLE",
           "line": {
            "color": "#778AAE",
            "dash": "solid"
           },
           "marker": {
            "symbol": "circle"
           },
           "mode": "markers+lines",
           "name": "SPECIAL PURPOSE VEHICLE",
           "orientation": "v",
           "showlegend": true,
           "type": "scatter",
           "x": [
            2022
           ],
           "xaxis": "x",
           "y": [
            26.75
           ],
           "yaxis": "y"
          },
          {
           "hovertemplate": "color=SUV - SMALL<br>animation_frame=2022<br>x=%{x}<br>y=%{y}<extra></extra>",
           "ids": [
            "SUV - SMALL"
           ],
           "legendgroup": "SUV - SMALL",
           "line": {
            "color": "#862A16",
            "dash": "solid"
           },
           "marker": {
            "symbol": "circle"
           },
           "mode": "markers+lines",
           "name": "SUV - SMALL",
           "orientation": "v",
           "showlegend": true,
           "type": "scatter",
           "x": [
            2022
           ],
           "xaxis": "x",
           "y": [
            29.781725888324875
           ],
           "yaxis": "y"
          }
         ],
         "name": "2022"
        }
       ],
       "layout": {
        "legend": {
         "title": {
          "text": "color"
         },
         "tracegroupgap": 0
        },
        "margin": {
         "t": 60
        },
        "sliders": [
         {
          "active": 0,
          "currentvalue": {
           "prefix": "animation_frame="
          },
          "len": 0.9,
          "pad": {
           "b": 10,
           "t": 60
          },
          "steps": [
           {
            "args": [
             [
              "2000"
             ],
             {
              "frame": {
               "duration": 0,
               "redraw": false
              },
              "fromcurrent": true,
              "mode": "immediate",
              "transition": {
               "duration": 0,
               "easing": "linear"
              }
             }
            ],
            "label": "2000",
            "method": "animate"
           },
           {
            "args": [
             [
              "2001"
             ],
             {
              "frame": {
               "duration": 0,
               "redraw": false
              },
              "fromcurrent": true,
              "mode": "immediate",
              "transition": {
               "duration": 0,
               "easing": "linear"
              }
             }
            ],
            "label": "2001",
            "method": "animate"
           },
           {
            "args": [
             [
              "2002"
             ],
             {
              "frame": {
               "duration": 0,
               "redraw": false
              },
              "fromcurrent": true,
              "mode": "immediate",
              "transition": {
               "duration": 0,
               "easing": "linear"
              }
             }
            ],
            "label": "2002",
            "method": "animate"
           },
           {
            "args": [
             [
              "2003"
             ],
             {
              "frame": {
               "duration": 0,
               "redraw": false
              },
              "fromcurrent": true,
              "mode": "immediate",
              "transition": {
               "duration": 0,
               "easing": "linear"
              }
             }
            ],
            "label": "2003",
            "method": "animate"
           },
           {
            "args": [
             [
              "2004"
             ],
             {
              "frame": {
               "duration": 0,
               "redraw": false
              },
              "fromcurrent": true,
              "mode": "immediate",
              "transition": {
               "duration": 0,
               "easing": "linear"
              }
             }
            ],
            "label": "2004",
            "method": "animate"
           },
           {
            "args": [
             [
              "2005"
             ],
             {
              "frame": {
               "duration": 0,
               "redraw": false
              },
              "fromcurrent": true,
              "mode": "immediate",
              "transition": {
               "duration": 0,
               "easing": "linear"
              }
             }
            ],
            "label": "2005",
            "method": "animate"
           },
           {
            "args": [
             [
              "2006"
             ],
             {
              "frame": {
               "duration": 0,
               "redraw": false
              },
              "fromcurrent": true,
              "mode": "immediate",
              "transition": {
               "duration": 0,
               "easing": "linear"
              }
             }
            ],
            "label": "2006",
            "method": "animate"
           },
           {
            "args": [
             [
              "2007"
             ],
             {
              "frame": {
               "duration": 0,
               "redraw": false
              },
              "fromcurrent": true,
              "mode": "immediate",
              "transition": {
               "duration": 0,
               "easing": "linear"
              }
             }
            ],
            "label": "2007",
            "method": "animate"
           },
           {
            "args": [
             [
              "2008"
             ],
             {
              "frame": {
               "duration": 0,
               "redraw": false
              },
              "fromcurrent": true,
              "mode": "immediate",
              "transition": {
               "duration": 0,
               "easing": "linear"
              }
             }
            ],
            "label": "2008",
            "method": "animate"
           },
           {
            "args": [
             [
              "2009"
             ],
             {
              "frame": {
               "duration": 0,
               "redraw": false
              },
              "fromcurrent": true,
              "mode": "immediate",
              "transition": {
               "duration": 0,
               "easing": "linear"
              }
             }
            ],
            "label": "2009",
            "method": "animate"
           },
           {
            "args": [
             [
              "2010"
             ],
             {
              "frame": {
               "duration": 0,
               "redraw": false
              },
              "fromcurrent": true,
              "mode": "immediate",
              "transition": {
               "duration": 0,
               "easing": "linear"
              }
             }
            ],
            "label": "2010",
            "method": "animate"
           },
           {
            "args": [
             [
              "2011"
             ],
             {
              "frame": {
               "duration": 0,
               "redraw": false
              },
              "fromcurrent": true,
              "mode": "immediate",
              "transition": {
               "duration": 0,
               "easing": "linear"
              }
             }
            ],
            "label": "2011",
            "method": "animate"
           },
           {
            "args": [
             [
              "2012"
             ],
             {
              "frame": {
               "duration": 0,
               "redraw": false
              },
              "fromcurrent": true,
              "mode": "immediate",
              "transition": {
               "duration": 0,
               "easing": "linear"
              }
             }
            ],
            "label": "2012",
            "method": "animate"
           },
           {
            "args": [
             [
              "2013"
             ],
             {
              "frame": {
               "duration": 0,
               "redraw": false
              },
              "fromcurrent": true,
              "mode": "immediate",
              "transition": {
               "duration": 0,
               "easing": "linear"
              }
             }
            ],
            "label": "2013",
            "method": "animate"
           },
           {
            "args": [
             [
              "2014"
             ],
             {
              "frame": {
               "duration": 0,
               "redraw": false
              },
              "fromcurrent": true,
              "mode": "immediate",
              "transition": {
               "duration": 0,
               "easing": "linear"
              }
             }
            ],
            "label": "2014",
            "method": "animate"
           },
           {
            "args": [
             [
              "2015"
             ],
             {
              "frame": {
               "duration": 0,
               "redraw": false
              },
              "fromcurrent": true,
              "mode": "immediate",
              "transition": {
               "duration": 0,
               "easing": "linear"
              }
             }
            ],
            "label": "2015",
            "method": "animate"
           },
           {
            "args": [
             [
              "2016"
             ],
             {
              "frame": {
               "duration": 0,
               "redraw": false
              },
              "fromcurrent": true,
              "mode": "immediate",
              "transition": {
               "duration": 0,
               "easing": "linear"
              }
             }
            ],
            "label": "2016",
            "method": "animate"
           },
           {
            "args": [
             [
              "2017"
             ],
             {
              "frame": {
               "duration": 0,
               "redraw": false
              },
              "fromcurrent": true,
              "mode": "immediate",
              "transition": {
               "duration": 0,
               "easing": "linear"
              }
             }
            ],
            "label": "2017",
            "method": "animate"
           },
           {
            "args": [
             [
              "2018"
             ],
             {
              "frame": {
               "duration": 0,
               "redraw": false
              },
              "fromcurrent": true,
              "mode": "immediate",
              "transition": {
               "duration": 0,
               "easing": "linear"
              }
             }
            ],
            "label": "2018",
            "method": "animate"
           },
           {
            "args": [
             [
              "2019"
             ],
             {
              "frame": {
               "duration": 0,
               "redraw": false
              },
              "fromcurrent": true,
              "mode": "immediate",
              "transition": {
               "duration": 0,
               "easing": "linear"
              }
             }
            ],
            "label": "2019",
            "method": "animate"
           },
           {
            "args": [
             [
              "2020"
             ],
             {
              "frame": {
               "duration": 0,
               "redraw": false
              },
              "fromcurrent": true,
              "mode": "immediate",
              "transition": {
               "duration": 0,
               "easing": "linear"
              }
             }
            ],
            "label": "2020",
            "method": "animate"
           },
           {
            "args": [
             [
              "2021"
             ],
             {
              "frame": {
               "duration": 0,
               "redraw": false
              },
              "fromcurrent": true,
              "mode": "immediate",
              "transition": {
               "duration": 0,
               "easing": "linear"
              }
             }
            ],
            "label": "2021",
            "method": "animate"
           },
           {
            "args": [
             [
              "2022"
             ],
             {
              "frame": {
               "duration": 0,
               "redraw": false
              },
              "fromcurrent": true,
              "mode": "immediate",
              "transition": {
               "duration": 0,
               "easing": "linear"
              }
             }
            ],
            "label": "2022",
            "method": "animate"
           }
          ],
          "x": 0.1,
          "xanchor": "left",
          "y": 0,
          "yanchor": "top"
         }
        ],
        "template": {
         "data": {
          "bar": [
           {
            "error_x": {
             "color": "#2a3f5f"
            },
            "error_y": {
             "color": "#2a3f5f"
            },
            "marker": {
             "line": {
              "color": "#E5ECF6",
              "width": 0.5
             },
             "pattern": {
              "fillmode": "overlay",
              "size": 10,
              "solidity": 0.2
             }
            },
            "type": "bar"
           }
          ],
          "barpolar": [
           {
            "marker": {
             "line": {
              "color": "#E5ECF6",
              "width": 0.5
             },
             "pattern": {
              "fillmode": "overlay",
              "size": 10,
              "solidity": 0.2
             }
            },
            "type": "barpolar"
           }
          ],
          "carpet": [
           {
            "aaxis": {
             "endlinecolor": "#2a3f5f",
             "gridcolor": "white",
             "linecolor": "white",
             "minorgridcolor": "white",
             "startlinecolor": "#2a3f5f"
            },
            "baxis": {
             "endlinecolor": "#2a3f5f",
             "gridcolor": "white",
             "linecolor": "white",
             "minorgridcolor": "white",
             "startlinecolor": "#2a3f5f"
            },
            "type": "carpet"
           }
          ],
          "choropleth": [
           {
            "colorbar": {
             "outlinewidth": 0,
             "ticks": ""
            },
            "type": "choropleth"
           }
          ],
          "contour": [
           {
            "colorbar": {
             "outlinewidth": 0,
             "ticks": ""
            },
            "colorscale": [
             [
              0,
              "#0d0887"
             ],
             [
              0.1111111111111111,
              "#46039f"
             ],
             [
              0.2222222222222222,
              "#7201a8"
             ],
             [
              0.3333333333333333,
              "#9c179e"
             ],
             [
              0.4444444444444444,
              "#bd3786"
             ],
             [
              0.5555555555555556,
              "#d8576b"
             ],
             [
              0.6666666666666666,
              "#ed7953"
             ],
             [
              0.7777777777777778,
              "#fb9f3a"
             ],
             [
              0.8888888888888888,
              "#fdca26"
             ],
             [
              1,
              "#f0f921"
             ]
            ],
            "type": "contour"
           }
          ],
          "contourcarpet": [
           {
            "colorbar": {
             "outlinewidth": 0,
             "ticks": ""
            },
            "type": "contourcarpet"
           }
          ],
          "heatmap": [
           {
            "colorbar": {
             "outlinewidth": 0,
             "ticks": ""
            },
            "colorscale": [
             [
              0,
              "#0d0887"
             ],
             [
              0.1111111111111111,
              "#46039f"
             ],
             [
              0.2222222222222222,
              "#7201a8"
             ],
             [
              0.3333333333333333,
              "#9c179e"
             ],
             [
              0.4444444444444444,
              "#bd3786"
             ],
             [
              0.5555555555555556,
              "#d8576b"
             ],
             [
              0.6666666666666666,
              "#ed7953"
             ],
             [
              0.7777777777777778,
              "#fb9f3a"
             ],
             [
              0.8888888888888888,
              "#fdca26"
             ],
             [
              1,
              "#f0f921"
             ]
            ],
            "type": "heatmap"
           }
          ],
          "heatmapgl": [
           {
            "colorbar": {
             "outlinewidth": 0,
             "ticks": ""
            },
            "colorscale": [
             [
              0,
              "#0d0887"
             ],
             [
              0.1111111111111111,
              "#46039f"
             ],
             [
              0.2222222222222222,
              "#7201a8"
             ],
             [
              0.3333333333333333,
              "#9c179e"
             ],
             [
              0.4444444444444444,
              "#bd3786"
             ],
             [
              0.5555555555555556,
              "#d8576b"
             ],
             [
              0.6666666666666666,
              "#ed7953"
             ],
             [
              0.7777777777777778,
              "#fb9f3a"
             ],
             [
              0.8888888888888888,
              "#fdca26"
             ],
             [
              1,
              "#f0f921"
             ]
            ],
            "type": "heatmapgl"
           }
          ],
          "histogram": [
           {
            "marker": {
             "pattern": {
              "fillmode": "overlay",
              "size": 10,
              "solidity": 0.2
             }
            },
            "type": "histogram"
           }
          ],
          "histogram2d": [
           {
            "colorbar": {
             "outlinewidth": 0,
             "ticks": ""
            },
            "colorscale": [
             [
              0,
              "#0d0887"
             ],
             [
              0.1111111111111111,
              "#46039f"
             ],
             [
              0.2222222222222222,
              "#7201a8"
             ],
             [
              0.3333333333333333,
              "#9c179e"
             ],
             [
              0.4444444444444444,
              "#bd3786"
             ],
             [
              0.5555555555555556,
              "#d8576b"
             ],
             [
              0.6666666666666666,
              "#ed7953"
             ],
             [
              0.7777777777777778,
              "#fb9f3a"
             ],
             [
              0.8888888888888888,
              "#fdca26"
             ],
             [
              1,
              "#f0f921"
             ]
            ],
            "type": "histogram2d"
           }
          ],
          "histogram2dcontour": [
           {
            "colorbar": {
             "outlinewidth": 0,
             "ticks": ""
            },
            "colorscale": [
             [
              0,
              "#0d0887"
             ],
             [
              0.1111111111111111,
              "#46039f"
             ],
             [
              0.2222222222222222,
              "#7201a8"
             ],
             [
              0.3333333333333333,
              "#9c179e"
             ],
             [
              0.4444444444444444,
              "#bd3786"
             ],
             [
              0.5555555555555556,
              "#d8576b"
             ],
             [
              0.6666666666666666,
              "#ed7953"
             ],
             [
              0.7777777777777778,
              "#fb9f3a"
             ],
             [
              0.8888888888888888,
              "#fdca26"
             ],
             [
              1,
              "#f0f921"
             ]
            ],
            "type": "histogram2dcontour"
           }
          ],
          "mesh3d": [
           {
            "colorbar": {
             "outlinewidth": 0,
             "ticks": ""
            },
            "type": "mesh3d"
           }
          ],
          "parcoords": [
           {
            "line": {
             "colorbar": {
              "outlinewidth": 0,
              "ticks": ""
             }
            },
            "type": "parcoords"
           }
          ],
          "pie": [
           {
            "automargin": true,
            "type": "pie"
           }
          ],
          "scatter": [
           {
            "fillpattern": {
             "fillmode": "overlay",
             "size": 10,
             "solidity": 0.2
            },
            "type": "scatter"
           }
          ],
          "scatter3d": [
           {
            "line": {
             "colorbar": {
              "outlinewidth": 0,
              "ticks": ""
             }
            },
            "marker": {
             "colorbar": {
              "outlinewidth": 0,
              "ticks": ""
             }
            },
            "type": "scatter3d"
           }
          ],
          "scattercarpet": [
           {
            "marker": {
             "colorbar": {
              "outlinewidth": 0,
              "ticks": ""
             }
            },
            "type": "scattercarpet"
           }
          ],
          "scattergeo": [
           {
            "marker": {
             "colorbar": {
              "outlinewidth": 0,
              "ticks": ""
             }
            },
            "type": "scattergeo"
           }
          ],
          "scattergl": [
           {
            "marker": {
             "colorbar": {
              "outlinewidth": 0,
              "ticks": ""
             }
            },
            "type": "scattergl"
           }
          ],
          "scattermapbox": [
           {
            "marker": {
             "colorbar": {
              "outlinewidth": 0,
              "ticks": ""
             }
            },
            "type": "scattermapbox"
           }
          ],
          "scatterpolar": [
           {
            "marker": {
             "colorbar": {
              "outlinewidth": 0,
              "ticks": ""
             }
            },
            "type": "scatterpolar"
           }
          ],
          "scatterpolargl": [
           {
            "marker": {
             "colorbar": {
              "outlinewidth": 0,
              "ticks": ""
             }
            },
            "type": "scatterpolargl"
           }
          ],
          "scatterternary": [
           {
            "marker": {
             "colorbar": {
              "outlinewidth": 0,
              "ticks": ""
             }
            },
            "type": "scatterternary"
           }
          ],
          "surface": [
           {
            "colorbar": {
             "outlinewidth": 0,
             "ticks": ""
            },
            "colorscale": [
             [
              0,
              "#0d0887"
             ],
             [
              0.1111111111111111,
              "#46039f"
             ],
             [
              0.2222222222222222,
              "#7201a8"
             ],
             [
              0.3333333333333333,
              "#9c179e"
             ],
             [
              0.4444444444444444,
              "#bd3786"
             ],
             [
              0.5555555555555556,
              "#d8576b"
             ],
             [
              0.6666666666666666,
              "#ed7953"
             ],
             [
              0.7777777777777778,
              "#fb9f3a"
             ],
             [
              0.8888888888888888,
              "#fdca26"
             ],
             [
              1,
              "#f0f921"
             ]
            ],
            "type": "surface"
           }
          ],
          "table": [
           {
            "cells": {
             "fill": {
              "color": "#EBF0F8"
             },
             "line": {
              "color": "white"
             }
            },
            "header": {
             "fill": {
              "color": "#C8D4E3"
             },
             "line": {
              "color": "white"
             }
            },
            "type": "table"
           }
          ]
         },
         "layout": {
          "annotationdefaults": {
           "arrowcolor": "#2a3f5f",
           "arrowhead": 0,
           "arrowwidth": 1
          },
          "autotypenumbers": "strict",
          "coloraxis": {
           "colorbar": {
            "outlinewidth": 0,
            "ticks": ""
           }
          },
          "colorscale": {
           "diverging": [
            [
             0,
             "#8e0152"
            ],
            [
             0.1,
             "#c51b7d"
            ],
            [
             0.2,
             "#de77ae"
            ],
            [
             0.3,
             "#f1b6da"
            ],
            [
             0.4,
             "#fde0ef"
            ],
            [
             0.5,
             "#f7f7f7"
            ],
            [
             0.6,
             "#e6f5d0"
            ],
            [
             0.7,
             "#b8e186"
            ],
            [
             0.8,
             "#7fbc41"
            ],
            [
             0.9,
             "#4d9221"
            ],
            [
             1,
             "#276419"
            ]
           ],
           "sequential": [
            [
             0,
             "#0d0887"
            ],
            [
             0.1111111111111111,
             "#46039f"
            ],
            [
             0.2222222222222222,
             "#7201a8"
            ],
            [
             0.3333333333333333,
             "#9c179e"
            ],
            [
             0.4444444444444444,
             "#bd3786"
            ],
            [
             0.5555555555555556,
             "#d8576b"
            ],
            [
             0.6666666666666666,
             "#ed7953"
            ],
            [
             0.7777777777777778,
             "#fb9f3a"
            ],
            [
             0.8888888888888888,
             "#fdca26"
            ],
            [
             1,
             "#f0f921"
            ]
           ],
           "sequentialminus": [
            [
             0,
             "#0d0887"
            ],
            [
             0.1111111111111111,
             "#46039f"
            ],
            [
             0.2222222222222222,
             "#7201a8"
            ],
            [
             0.3333333333333333,
             "#9c179e"
            ],
            [
             0.4444444444444444,
             "#bd3786"
            ],
            [
             0.5555555555555556,
             "#d8576b"
            ],
            [
             0.6666666666666666,
             "#ed7953"
            ],
            [
             0.7777777777777778,
             "#fb9f3a"
            ],
            [
             0.8888888888888888,
             "#fdca26"
            ],
            [
             1,
             "#f0f921"
            ]
           ]
          },
          "colorway": [
           "#636efa",
           "#EF553B",
           "#00cc96",
           "#ab63fa",
           "#FFA15A",
           "#19d3f3",
           "#FF6692",
           "#B6E880",
           "#FF97FF",
           "#FECB52"
          ],
          "font": {
           "color": "#2a3f5f"
          },
          "geo": {
           "bgcolor": "white",
           "lakecolor": "white",
           "landcolor": "#E5ECF6",
           "showlakes": true,
           "showland": true,
           "subunitcolor": "white"
          },
          "hoverlabel": {
           "align": "left"
          },
          "hovermode": "closest",
          "mapbox": {
           "style": "light"
          },
          "paper_bgcolor": "white",
          "plot_bgcolor": "#E5ECF6",
          "polar": {
           "angularaxis": {
            "gridcolor": "white",
            "linecolor": "white",
            "ticks": ""
           },
           "bgcolor": "#E5ECF6",
           "radialaxis": {
            "gridcolor": "white",
            "linecolor": "white",
            "ticks": ""
           }
          },
          "scene": {
           "xaxis": {
            "backgroundcolor": "#E5ECF6",
            "gridcolor": "white",
            "gridwidth": 2,
            "linecolor": "white",
            "showbackground": true,
            "ticks": "",
            "zerolinecolor": "white"
           },
           "yaxis": {
            "backgroundcolor": "#E5ECF6",
            "gridcolor": "white",
            "gridwidth": 2,
            "linecolor": "white",
            "showbackground": true,
            "ticks": "",
            "zerolinecolor": "white"
           },
           "zaxis": {
            "backgroundcolor": "#E5ECF6",
            "gridcolor": "white",
            "gridwidth": 2,
            "linecolor": "white",
            "showbackground": true,
            "ticks": "",
            "zerolinecolor": "white"
           }
          },
          "shapedefaults": {
           "line": {
            "color": "#2a3f5f"
           }
          },
          "ternary": {
           "aaxis": {
            "gridcolor": "white",
            "linecolor": "white",
            "ticks": ""
           },
           "baxis": {
            "gridcolor": "white",
            "linecolor": "white",
            "ticks": ""
           },
           "bgcolor": "#E5ECF6",
           "caxis": {
            "gridcolor": "white",
            "linecolor": "white",
            "ticks": ""
           }
          },
          "title": {
           "x": 0.05
          },
          "xaxis": {
           "automargin": true,
           "gridcolor": "white",
           "linecolor": "white",
           "ticks": "",
           "title": {
            "standoff": 15
           },
           "zerolinecolor": "white",
           "zerolinewidth": 2
          },
          "yaxis": {
           "automargin": true,
           "gridcolor": "white",
           "linecolor": "white",
           "ticks": "",
           "title": {
            "standoff": 15
           },
           "zerolinecolor": "white",
           "zerolinewidth": 2
          }
         }
        },
        "title": {
         "text": "Average Combine MPG per Vehicle Class per Year"
        },
        "updatemenus": [
         {
          "buttons": [
           {
            "args": [
             null,
             {
              "frame": {
               "duration": 500,
               "redraw": false
              },
              "fromcurrent": true,
              "mode": "immediate",
              "transition": {
               "duration": 500,
               "easing": "linear"
              }
             }
            ],
            "label": "&#9654;",
            "method": "animate"
           },
           {
            "args": [
             [
              null
             ],
             {
              "frame": {
               "duration": 0,
               "redraw": false
              },
              "fromcurrent": true,
              "mode": "immediate",
              "transition": {
               "duration": 0,
               "easing": "linear"
              }
             }
            ],
            "label": "&#9724;",
            "method": "animate"
           }
          ],
          "direction": "left",
          "pad": {
           "r": 10,
           "t": 70
          },
          "showactive": false,
          "type": "buttons",
          "x": 0.1,
          "xanchor": "right",
          "y": 0,
          "yanchor": "top"
         }
        ],
        "xaxis": {
         "anchor": "y",
         "domain": [
          0,
          1
         ],
         "minor": {
          "showgrid": true,
          "tickcolor": "black",
          "ticklen": 5
         },
         "range": [
          3.3008127941181167,
          3.3059958827708047
         ],
         "tickangle": 45,
         "title": {
          "text": "Year"
         },
         "type": "log"
        },
        "yaxis": {
         "anchor": "x",
         "domain": [
          0,
          1
         ],
         "range": [
          14,
          40
         ],
         "title": {
          "text": "Combine MPG Average"
         }
        }
       }
      },
      "text/html": [
       "<div>                            <div id=\"5276f79a-2896-4170-b985-e344fe4380c1\" class=\"plotly-graph-div\" style=\"height:525px; width:100%;\"></div>            <script type=\"text/javascript\">                require([\"plotly\"], function(Plotly) {                    window.PLOTLYENV=window.PLOTLYENV || {};                                    if (document.getElementById(\"5276f79a-2896-4170-b985-e344fe4380c1\")) {                    Plotly.newPlot(                        \"5276f79a-2896-4170-b985-e344fe4380c1\",                        [{\"hovertemplate\":\"color=COMPACT<br>animation_frame=2000<br>x=%{x}<br>y=%{y}<extra></extra>\",\"ids\":[\"COMPACT\"],\"legendgroup\":\"COMPACT\",\"line\":{\"color\":\"#2E91E5\",\"dash\":\"solid\"},\"marker\":{\"symbol\":\"circle\"},\"mode\":\"markers+lines\",\"name\":\"COMPACT\",\"orientation\":\"v\",\"showlegend\":true,\"x\":[2000],\"xaxis\":\"x\",\"y\":[31.504761904761907],\"yaxis\":\"y\",\"type\":\"scatter\"},{\"hovertemplate\":\"color=FULL-SIZE<br>animation_frame=2000<br>x=%{x}<br>y=%{y}<extra></extra>\",\"ids\":[\"FULL-SIZE\"],\"legendgroup\":\"FULL-SIZE\",\"line\":{\"color\":\"#E15F99\",\"dash\":\"solid\"},\"marker\":{\"symbol\":\"circle\"},\"mode\":\"markers+lines\",\"name\":\"FULL-SIZE\",\"orientation\":\"v\",\"showlegend\":true,\"x\":[2000],\"xaxis\":\"x\",\"y\":[26.428571428571427],\"yaxis\":\"y\",\"type\":\"scatter\"},{\"hovertemplate\":\"color=MID-SIZE<br>animation_frame=2000<br>x=%{x}<br>y=%{y}<extra></extra>\",\"ids\":[\"MID-SIZE\"],\"legendgroup\":\"MID-SIZE\",\"line\":{\"color\":\"#1CA71C\",\"dash\":\"solid\"},\"marker\":{\"symbol\":\"circle\"},\"mode\":\"markers+lines\",\"name\":\"MID-SIZE\",\"orientation\":\"v\",\"showlegend\":true,\"x\":[2000],\"xaxis\":\"x\",\"y\":[27.441558441558442],\"yaxis\":\"y\",\"type\":\"scatter\"},{\"hovertemplate\":\"color=MINICOMPACT<br>animation_frame=2000<br>x=%{x}<br>y=%{y}<extra></extra>\",\"ids\":[\"MINICOMPACT\"],\"legendgroup\":\"MINICOMPACT\",\"line\":{\"color\":\"#FB0D0D\",\"dash\":\"solid\"},\"marker\":{\"symbol\":\"circle\"},\"mode\":\"markers+lines\",\"name\":\"MINICOMPACT\",\"orientation\":\"v\",\"showlegend\":true,\"x\":[2000],\"xaxis\":\"x\",\"y\":[25.636363636363637],\"yaxis\":\"y\",\"type\":\"scatter\"},{\"hovertemplate\":\"color=MINIVAN<br>animation_frame=2000<br>x=%{x}<br>y=%{y}<extra></extra>\",\"ids\":[\"MINIVAN\"],\"legendgroup\":\"MINIVAN\",\"line\":{\"color\":\"#DA16FF\",\"dash\":\"solid\"},\"marker\":{\"symbol\":\"circle\"},\"mode\":\"markers+lines\",\"name\":\"MINIVAN\",\"orientation\":\"v\",\"showlegend\":true,\"x\":[2000],\"xaxis\":\"x\",\"y\":[23.96153846153846],\"yaxis\":\"y\",\"type\":\"scatter\"},{\"hovertemplate\":\"color=PICKUP TRUCK - SMALL<br>animation_frame=2000<br>x=%{x}<br>y=%{y}<extra></extra>\",\"ids\":[\"PICKUP TRUCK - SMALL\"],\"legendgroup\":\"PICKUP TRUCK - SMALL\",\"line\":{\"color\":\"#222A2A\",\"dash\":\"solid\"},\"marker\":{\"symbol\":\"circle\"},\"mode\":\"markers+lines\",\"name\":\"PICKUP TRUCK - SMALL\",\"orientation\":\"v\",\"showlegend\":true,\"x\":[2000],\"xaxis\":\"x\",\"y\":[26.272727272727273],\"yaxis\":\"y\",\"type\":\"scatter\"},{\"hovertemplate\":\"color=PICKUP TRUCK - STANDARD<br>animation_frame=2000<br>x=%{x}<br>y=%{y}<extra></extra>\",\"ids\":[\"PICKUP TRUCK - STANDARD\"],\"legendgroup\":\"PICKUP TRUCK - STANDARD\",\"line\":{\"color\":\"#B68100\",\"dash\":\"solid\"},\"marker\":{\"symbol\":\"circle\"},\"mode\":\"markers+lines\",\"name\":\"PICKUP TRUCK - STANDARD\",\"orientation\":\"v\",\"showlegend\":true,\"x\":[2000],\"xaxis\":\"x\",\"y\":[20.945652173913043],\"yaxis\":\"y\",\"type\":\"scatter\"},{\"hovertemplate\":\"color=STATION WAGON - MID-SIZE<br>animation_frame=2000<br>x=%{x}<br>y=%{y}<extra></extra>\",\"ids\":[\"STATION WAGON - MID-SIZE\"],\"legendgroup\":\"STATION WAGON - MID-SIZE\",\"line\":{\"color\":\"#750D86\",\"dash\":\"solid\"},\"marker\":{\"symbol\":\"circle\"},\"mode\":\"markers+lines\",\"name\":\"STATION WAGON - MID-SIZE\",\"orientation\":\"v\",\"showlegend\":true,\"x\":[2000],\"xaxis\":\"x\",\"y\":[28.44],\"yaxis\":\"y\",\"type\":\"scatter\"},{\"hovertemplate\":\"color=STATION WAGON - SMALL<br>animation_frame=2000<br>x=%{x}<br>y=%{y}<extra></extra>\",\"ids\":[\"STATION WAGON - SMALL\"],\"legendgroup\":\"STATION WAGON - SMALL\",\"line\":{\"color\":\"#EB663B\",\"dash\":\"solid\"},\"marker\":{\"symbol\":\"circle\"},\"mode\":\"markers+lines\",\"name\":\"STATION WAGON - SMALL\",\"orientation\":\"v\",\"showlegend\":true,\"x\":[2000],\"xaxis\":\"x\",\"y\":[31.692307692307693],\"yaxis\":\"y\",\"type\":\"scatter\"},{\"hovertemplate\":\"color=SUBCOMPACT<br>animation_frame=2000<br>x=%{x}<br>y=%{y}<extra></extra>\",\"ids\":[\"SUBCOMPACT\"],\"legendgroup\":\"SUBCOMPACT\",\"line\":{\"color\":\"#511CFB\",\"dash\":\"solid\"},\"marker\":{\"symbol\":\"circle\"},\"mode\":\"markers+lines\",\"name\":\"SUBCOMPACT\",\"orientation\":\"v\",\"showlegend\":true,\"x\":[2000],\"xaxis\":\"x\",\"y\":[31.48076923076923],\"yaxis\":\"y\",\"type\":\"scatter\"},{\"hovertemplate\":\"color=SUV<br>animation_frame=2000<br>x=%{x}<br>y=%{y}<extra></extra>\",\"ids\":[\"SUV\"],\"legendgroup\":\"SUV\",\"line\":{\"color\":\"#00A08B\",\"dash\":\"solid\"},\"marker\":{\"symbol\":\"circle\"},\"mode\":\"markers+lines\",\"name\":\"SUV\",\"orientation\":\"v\",\"showlegend\":true,\"x\":[2000],\"xaxis\":\"x\",\"y\":[22.84536082474227],\"yaxis\":\"y\",\"type\":\"scatter\"},{\"hovertemplate\":\"color=TWO-SEATER<br>animation_frame=2000<br>x=%{x}<br>y=%{y}<extra></extra>\",\"ids\":[\"TWO-SEATER\"],\"legendgroup\":\"TWO-SEATER\",\"line\":{\"color\":\"#FB00D1\",\"dash\":\"solid\"},\"marker\":{\"symbol\":\"circle\"},\"mode\":\"markers+lines\",\"name\":\"TWO-SEATER\",\"orientation\":\"v\",\"showlegend\":true,\"x\":[2000],\"xaxis\":\"x\",\"y\":[23.4],\"yaxis\":\"y\",\"type\":\"scatter\"},{\"hovertemplate\":\"color=VAN - CARGO<br>animation_frame=2000<br>x=%{x}<br>y=%{y}<extra></extra>\",\"ids\":[\"VAN - CARGO\"],\"legendgroup\":\"VAN - CARGO\",\"line\":{\"color\":\"#FC0080\",\"dash\":\"solid\"},\"marker\":{\"symbol\":\"circle\"},\"mode\":\"markers+lines\",\"name\":\"VAN - CARGO\",\"orientation\":\"v\",\"showlegend\":true,\"x\":[2000],\"xaxis\":\"x\",\"y\":[19.82608695652174],\"yaxis\":\"y\",\"type\":\"scatter\"},{\"hovertemplate\":\"color=VAN - PASSENGER<br>animation_frame=2000<br>x=%{x}<br>y=%{y}<extra></extra>\",\"ids\":[\"VAN - PASSENGER\"],\"legendgroup\":\"VAN - PASSENGER\",\"line\":{\"color\":\"#B2828D\",\"dash\":\"solid\"},\"marker\":{\"symbol\":\"circle\"},\"mode\":\"markers+lines\",\"name\":\"VAN - PASSENGER\",\"orientation\":\"v\",\"showlegend\":true,\"x\":[2000],\"xaxis\":\"x\",\"y\":[18.647058823529413],\"yaxis\":\"y\",\"type\":\"scatter\"}],                        {\"template\":{\"data\":{\"histogram2dcontour\":[{\"type\":\"histogram2dcontour\",\"colorbar\":{\"outlinewidth\":0,\"ticks\":\"\"},\"colorscale\":[[0.0,\"#0d0887\"],[0.1111111111111111,\"#46039f\"],[0.2222222222222222,\"#7201a8\"],[0.3333333333333333,\"#9c179e\"],[0.4444444444444444,\"#bd3786\"],[0.5555555555555556,\"#d8576b\"],[0.6666666666666666,\"#ed7953\"],[0.7777777777777778,\"#fb9f3a\"],[0.8888888888888888,\"#fdca26\"],[1.0,\"#f0f921\"]]}],\"choropleth\":[{\"type\":\"choropleth\",\"colorbar\":{\"outlinewidth\":0,\"ticks\":\"\"}}],\"histogram2d\":[{\"type\":\"histogram2d\",\"colorbar\":{\"outlinewidth\":0,\"ticks\":\"\"},\"colorscale\":[[0.0,\"#0d0887\"],[0.1111111111111111,\"#46039f\"],[0.2222222222222222,\"#7201a8\"],[0.3333333333333333,\"#9c179e\"],[0.4444444444444444,\"#bd3786\"],[0.5555555555555556,\"#d8576b\"],[0.6666666666666666,\"#ed7953\"],[0.7777777777777778,\"#fb9f3a\"],[0.8888888888888888,\"#fdca26\"],[1.0,\"#f0f921\"]]}],\"heatmap\":[{\"type\":\"heatmap\",\"colorbar\":{\"outlinewidth\":0,\"ticks\":\"\"},\"colorscale\":[[0.0,\"#0d0887\"],[0.1111111111111111,\"#46039f\"],[0.2222222222222222,\"#7201a8\"],[0.3333333333333333,\"#9c179e\"],[0.4444444444444444,\"#bd3786\"],[0.5555555555555556,\"#d8576b\"],[0.6666666666666666,\"#ed7953\"],[0.7777777777777778,\"#fb9f3a\"],[0.8888888888888888,\"#fdca26\"],[1.0,\"#f0f921\"]]}],\"heatmapgl\":[{\"type\":\"heatmapgl\",\"colorbar\":{\"outlinewidth\":0,\"ticks\":\"\"},\"colorscale\":[[0.0,\"#0d0887\"],[0.1111111111111111,\"#46039f\"],[0.2222222222222222,\"#7201a8\"],[0.3333333333333333,\"#9c179e\"],[0.4444444444444444,\"#bd3786\"],[0.5555555555555556,\"#d8576b\"],[0.6666666666666666,\"#ed7953\"],[0.7777777777777778,\"#fb9f3a\"],[0.8888888888888888,\"#fdca26\"],[1.0,\"#f0f921\"]]}],\"contourcarpet\":[{\"type\":\"contourcarpet\",\"colorbar\":{\"outlinewidth\":0,\"ticks\":\"\"}}],\"contour\":[{\"type\":\"contour\",\"colorbar\":{\"outlinewidth\":0,\"ticks\":\"\"},\"colorscale\":[[0.0,\"#0d0887\"],[0.1111111111111111,\"#46039f\"],[0.2222222222222222,\"#7201a8\"],[0.3333333333333333,\"#9c179e\"],[0.4444444444444444,\"#bd3786\"],[0.5555555555555556,\"#d8576b\"],[0.6666666666666666,\"#ed7953\"],[0.7777777777777778,\"#fb9f3a\"],[0.8888888888888888,\"#fdca26\"],[1.0,\"#f0f921\"]]}],\"surface\":[{\"type\":\"surface\",\"colorbar\":{\"outlinewidth\":0,\"ticks\":\"\"},\"colorscale\":[[0.0,\"#0d0887\"],[0.1111111111111111,\"#46039f\"],[0.2222222222222222,\"#7201a8\"],[0.3333333333333333,\"#9c179e\"],[0.4444444444444444,\"#bd3786\"],[0.5555555555555556,\"#d8576b\"],[0.6666666666666666,\"#ed7953\"],[0.7777777777777778,\"#fb9f3a\"],[0.8888888888888888,\"#fdca26\"],[1.0,\"#f0f921\"]]}],\"mesh3d\":[{\"type\":\"mesh3d\",\"colorbar\":{\"outlinewidth\":0,\"ticks\":\"\"}}],\"scatter\":[{\"fillpattern\":{\"fillmode\":\"overlay\",\"size\":10,\"solidity\":0.2},\"type\":\"scatter\"}],\"parcoords\":[{\"type\":\"parcoords\",\"line\":{\"colorbar\":{\"outlinewidth\":0,\"ticks\":\"\"}}}],\"scatterpolargl\":[{\"type\":\"scatterpolargl\",\"marker\":{\"colorbar\":{\"outlinewidth\":0,\"ticks\":\"\"}}}],\"bar\":[{\"error_x\":{\"color\":\"#2a3f5f\"},\"error_y\":{\"color\":\"#2a3f5f\"},\"marker\":{\"line\":{\"color\":\"#E5ECF6\",\"width\":0.5},\"pattern\":{\"fillmode\":\"overlay\",\"size\":10,\"solidity\":0.2}},\"type\":\"bar\"}],\"scattergeo\":[{\"type\":\"scattergeo\",\"marker\":{\"colorbar\":{\"outlinewidth\":0,\"ticks\":\"\"}}}],\"scatterpolar\":[{\"type\":\"scatterpolar\",\"marker\":{\"colorbar\":{\"outlinewidth\":0,\"ticks\":\"\"}}}],\"histogram\":[{\"marker\":{\"pattern\":{\"fillmode\":\"overlay\",\"size\":10,\"solidity\":0.2}},\"type\":\"histogram\"}],\"scattergl\":[{\"type\":\"scattergl\",\"marker\":{\"colorbar\":{\"outlinewidth\":0,\"ticks\":\"\"}}}],\"scatter3d\":[{\"type\":\"scatter3d\",\"line\":{\"colorbar\":{\"outlinewidth\":0,\"ticks\":\"\"}},\"marker\":{\"colorbar\":{\"outlinewidth\":0,\"ticks\":\"\"}}}],\"scattermapbox\":[{\"type\":\"scattermapbox\",\"marker\":{\"colorbar\":{\"outlinewidth\":0,\"ticks\":\"\"}}}],\"scatterternary\":[{\"type\":\"scatterternary\",\"marker\":{\"colorbar\":{\"outlinewidth\":0,\"ticks\":\"\"}}}],\"scattercarpet\":[{\"type\":\"scattercarpet\",\"marker\":{\"colorbar\":{\"outlinewidth\":0,\"ticks\":\"\"}}}],\"carpet\":[{\"aaxis\":{\"endlinecolor\":\"#2a3f5f\",\"gridcolor\":\"white\",\"linecolor\":\"white\",\"minorgridcolor\":\"white\",\"startlinecolor\":\"#2a3f5f\"},\"baxis\":{\"endlinecolor\":\"#2a3f5f\",\"gridcolor\":\"white\",\"linecolor\":\"white\",\"minorgridcolor\":\"white\",\"startlinecolor\":\"#2a3f5f\"},\"type\":\"carpet\"}],\"table\":[{\"cells\":{\"fill\":{\"color\":\"#EBF0F8\"},\"line\":{\"color\":\"white\"}},\"header\":{\"fill\":{\"color\":\"#C8D4E3\"},\"line\":{\"color\":\"white\"}},\"type\":\"table\"}],\"barpolar\":[{\"marker\":{\"line\":{\"color\":\"#E5ECF6\",\"width\":0.5},\"pattern\":{\"fillmode\":\"overlay\",\"size\":10,\"solidity\":0.2}},\"type\":\"barpolar\"}],\"pie\":[{\"automargin\":true,\"type\":\"pie\"}]},\"layout\":{\"autotypenumbers\":\"strict\",\"colorway\":[\"#636efa\",\"#EF553B\",\"#00cc96\",\"#ab63fa\",\"#FFA15A\",\"#19d3f3\",\"#FF6692\",\"#B6E880\",\"#FF97FF\",\"#FECB52\"],\"font\":{\"color\":\"#2a3f5f\"},\"hovermode\":\"closest\",\"hoverlabel\":{\"align\":\"left\"},\"paper_bgcolor\":\"white\",\"plot_bgcolor\":\"#E5ECF6\",\"polar\":{\"bgcolor\":\"#E5ECF6\",\"angularaxis\":{\"gridcolor\":\"white\",\"linecolor\":\"white\",\"ticks\":\"\"},\"radialaxis\":{\"gridcolor\":\"white\",\"linecolor\":\"white\",\"ticks\":\"\"}},\"ternary\":{\"bgcolor\":\"#E5ECF6\",\"aaxis\":{\"gridcolor\":\"white\",\"linecolor\":\"white\",\"ticks\":\"\"},\"baxis\":{\"gridcolor\":\"white\",\"linecolor\":\"white\",\"ticks\":\"\"},\"caxis\":{\"gridcolor\":\"white\",\"linecolor\":\"white\",\"ticks\":\"\"}},\"coloraxis\":{\"colorbar\":{\"outlinewidth\":0,\"ticks\":\"\"}},\"colorscale\":{\"sequential\":[[0.0,\"#0d0887\"],[0.1111111111111111,\"#46039f\"],[0.2222222222222222,\"#7201a8\"],[0.3333333333333333,\"#9c179e\"],[0.4444444444444444,\"#bd3786\"],[0.5555555555555556,\"#d8576b\"],[0.6666666666666666,\"#ed7953\"],[0.7777777777777778,\"#fb9f3a\"],[0.8888888888888888,\"#fdca26\"],[1.0,\"#f0f921\"]],\"sequentialminus\":[[0.0,\"#0d0887\"],[0.1111111111111111,\"#46039f\"],[0.2222222222222222,\"#7201a8\"],[0.3333333333333333,\"#9c179e\"],[0.4444444444444444,\"#bd3786\"],[0.5555555555555556,\"#d8576b\"],[0.6666666666666666,\"#ed7953\"],[0.7777777777777778,\"#fb9f3a\"],[0.8888888888888888,\"#fdca26\"],[1.0,\"#f0f921\"]],\"diverging\":[[0,\"#8e0152\"],[0.1,\"#c51b7d\"],[0.2,\"#de77ae\"],[0.3,\"#f1b6da\"],[0.4,\"#fde0ef\"],[0.5,\"#f7f7f7\"],[0.6,\"#e6f5d0\"],[0.7,\"#b8e186\"],[0.8,\"#7fbc41\"],[0.9,\"#4d9221\"],[1,\"#276419\"]]},\"xaxis\":{\"gridcolor\":\"white\",\"linecolor\":\"white\",\"ticks\":\"\",\"title\":{\"standoff\":15},\"zerolinecolor\":\"white\",\"automargin\":true,\"zerolinewidth\":2},\"yaxis\":{\"gridcolor\":\"white\",\"linecolor\":\"white\",\"ticks\":\"\",\"title\":{\"standoff\":15},\"zerolinecolor\":\"white\",\"automargin\":true,\"zerolinewidth\":2},\"scene\":{\"xaxis\":{\"backgroundcolor\":\"#E5ECF6\",\"gridcolor\":\"white\",\"linecolor\":\"white\",\"showbackground\":true,\"ticks\":\"\",\"zerolinecolor\":\"white\",\"gridwidth\":2},\"yaxis\":{\"backgroundcolor\":\"#E5ECF6\",\"gridcolor\":\"white\",\"linecolor\":\"white\",\"showbackground\":true,\"ticks\":\"\",\"zerolinecolor\":\"white\",\"gridwidth\":2},\"zaxis\":{\"backgroundcolor\":\"#E5ECF6\",\"gridcolor\":\"white\",\"linecolor\":\"white\",\"showbackground\":true,\"ticks\":\"\",\"zerolinecolor\":\"white\",\"gridwidth\":2}},\"shapedefaults\":{\"line\":{\"color\":\"#2a3f5f\"}},\"annotationdefaults\":{\"arrowcolor\":\"#2a3f5f\",\"arrowhead\":0,\"arrowwidth\":1},\"geo\":{\"bgcolor\":\"white\",\"landcolor\":\"#E5ECF6\",\"subunitcolor\":\"white\",\"showland\":true,\"showlakes\":true,\"lakecolor\":\"white\"},\"title\":{\"x\":0.05},\"mapbox\":{\"style\":\"light\"}}},\"xaxis\":{\"anchor\":\"y\",\"domain\":[0.0,1.0],\"title\":{\"text\":\"Year\"},\"type\":\"log\",\"range\":[3.3008127941181167,3.3059958827708047],\"minor\":{\"ticklen\":5,\"tickcolor\":\"black\",\"showgrid\":true},\"tickangle\":45},\"yaxis\":{\"anchor\":\"x\",\"domain\":[0.0,1.0],\"title\":{\"text\":\"Combine MPG Average\"},\"range\":[14,40]},\"legend\":{\"title\":{\"text\":\"color\"},\"tracegroupgap\":0},\"margin\":{\"t\":60},\"updatemenus\":[{\"buttons\":[{\"args\":[null,{\"frame\":{\"duration\":500,\"redraw\":false},\"mode\":\"immediate\",\"fromcurrent\":true,\"transition\":{\"duration\":500,\"easing\":\"linear\"}}],\"label\":\"&#9654;\",\"method\":\"animate\"},{\"args\":[[null],{\"frame\":{\"duration\":0,\"redraw\":false},\"mode\":\"immediate\",\"fromcurrent\":true,\"transition\":{\"duration\":0,\"easing\":\"linear\"}}],\"label\":\"&#9724;\",\"method\":\"animate\"}],\"direction\":\"left\",\"pad\":{\"r\":10,\"t\":70},\"showactive\":false,\"type\":\"buttons\",\"x\":0.1,\"xanchor\":\"right\",\"y\":0,\"yanchor\":\"top\"}],\"sliders\":[{\"active\":0,\"currentvalue\":{\"prefix\":\"animation_frame=\"},\"len\":0.9,\"pad\":{\"b\":10,\"t\":60},\"steps\":[{\"args\":[[\"2000\"],{\"frame\":{\"duration\":0,\"redraw\":false},\"mode\":\"immediate\",\"fromcurrent\":true,\"transition\":{\"duration\":0,\"easing\":\"linear\"}}],\"label\":\"2000\",\"method\":\"animate\"},{\"args\":[[\"2001\"],{\"frame\":{\"duration\":0,\"redraw\":false},\"mode\":\"immediate\",\"fromcurrent\":true,\"transition\":{\"duration\":0,\"easing\":\"linear\"}}],\"label\":\"2001\",\"method\":\"animate\"},{\"args\":[[\"2002\"],{\"frame\":{\"duration\":0,\"redraw\":false},\"mode\":\"immediate\",\"fromcurrent\":true,\"transition\":{\"duration\":0,\"easing\":\"linear\"}}],\"label\":\"2002\",\"method\":\"animate\"},{\"args\":[[\"2003\"],{\"frame\":{\"duration\":0,\"redraw\":false},\"mode\":\"immediate\",\"fromcurrent\":true,\"transition\":{\"duration\":0,\"easing\":\"linear\"}}],\"label\":\"2003\",\"method\":\"animate\"},{\"args\":[[\"2004\"],{\"frame\":{\"duration\":0,\"redraw\":false},\"mode\":\"immediate\",\"fromcurrent\":true,\"transition\":{\"duration\":0,\"easing\":\"linear\"}}],\"label\":\"2004\",\"method\":\"animate\"},{\"args\":[[\"2005\"],{\"frame\":{\"duration\":0,\"redraw\":false},\"mode\":\"immediate\",\"fromcurrent\":true,\"transition\":{\"duration\":0,\"easing\":\"linear\"}}],\"label\":\"2005\",\"method\":\"animate\"},{\"args\":[[\"2006\"],{\"frame\":{\"duration\":0,\"redraw\":false},\"mode\":\"immediate\",\"fromcurrent\":true,\"transition\":{\"duration\":0,\"easing\":\"linear\"}}],\"label\":\"2006\",\"method\":\"animate\"},{\"args\":[[\"2007\"],{\"frame\":{\"duration\":0,\"redraw\":false},\"mode\":\"immediate\",\"fromcurrent\":true,\"transition\":{\"duration\":0,\"easing\":\"linear\"}}],\"label\":\"2007\",\"method\":\"animate\"},{\"args\":[[\"2008\"],{\"frame\":{\"duration\":0,\"redraw\":false},\"mode\":\"immediate\",\"fromcurrent\":true,\"transition\":{\"duration\":0,\"easing\":\"linear\"}}],\"label\":\"2008\",\"method\":\"animate\"},{\"args\":[[\"2009\"],{\"frame\":{\"duration\":0,\"redraw\":false},\"mode\":\"immediate\",\"fromcurrent\":true,\"transition\":{\"duration\":0,\"easing\":\"linear\"}}],\"label\":\"2009\",\"method\":\"animate\"},{\"args\":[[\"2010\"],{\"frame\":{\"duration\":0,\"redraw\":false},\"mode\":\"immediate\",\"fromcurrent\":true,\"transition\":{\"duration\":0,\"easing\":\"linear\"}}],\"label\":\"2010\",\"method\":\"animate\"},{\"args\":[[\"2011\"],{\"frame\":{\"duration\":0,\"redraw\":false},\"mode\":\"immediate\",\"fromcurrent\":true,\"transition\":{\"duration\":0,\"easing\":\"linear\"}}],\"label\":\"2011\",\"method\":\"animate\"},{\"args\":[[\"2012\"],{\"frame\":{\"duration\":0,\"redraw\":false},\"mode\":\"immediate\",\"fromcurrent\":true,\"transition\":{\"duration\":0,\"easing\":\"linear\"}}],\"label\":\"2012\",\"method\":\"animate\"},{\"args\":[[\"2013\"],{\"frame\":{\"duration\":0,\"redraw\":false},\"mode\":\"immediate\",\"fromcurrent\":true,\"transition\":{\"duration\":0,\"easing\":\"linear\"}}],\"label\":\"2013\",\"method\":\"animate\"},{\"args\":[[\"2014\"],{\"frame\":{\"duration\":0,\"redraw\":false},\"mode\":\"immediate\",\"fromcurrent\":true,\"transition\":{\"duration\":0,\"easing\":\"linear\"}}],\"label\":\"2014\",\"method\":\"animate\"},{\"args\":[[\"2015\"],{\"frame\":{\"duration\":0,\"redraw\":false},\"mode\":\"immediate\",\"fromcurrent\":true,\"transition\":{\"duration\":0,\"easing\":\"linear\"}}],\"label\":\"2015\",\"method\":\"animate\"},{\"args\":[[\"2016\"],{\"frame\":{\"duration\":0,\"redraw\":false},\"mode\":\"immediate\",\"fromcurrent\":true,\"transition\":{\"duration\":0,\"easing\":\"linear\"}}],\"label\":\"2016\",\"method\":\"animate\"},{\"args\":[[\"2017\"],{\"frame\":{\"duration\":0,\"redraw\":false},\"mode\":\"immediate\",\"fromcurrent\":true,\"transition\":{\"duration\":0,\"easing\":\"linear\"}}],\"label\":\"2017\",\"method\":\"animate\"},{\"args\":[[\"2018\"],{\"frame\":{\"duration\":0,\"redraw\":false},\"mode\":\"immediate\",\"fromcurrent\":true,\"transition\":{\"duration\":0,\"easing\":\"linear\"}}],\"label\":\"2018\",\"method\":\"animate\"},{\"args\":[[\"2019\"],{\"frame\":{\"duration\":0,\"redraw\":false},\"mode\":\"immediate\",\"fromcurrent\":true,\"transition\":{\"duration\":0,\"easing\":\"linear\"}}],\"label\":\"2019\",\"method\":\"animate\"},{\"args\":[[\"2020\"],{\"frame\":{\"duration\":0,\"redraw\":false},\"mode\":\"immediate\",\"fromcurrent\":true,\"transition\":{\"duration\":0,\"easing\":\"linear\"}}],\"label\":\"2020\",\"method\":\"animate\"},{\"args\":[[\"2021\"],{\"frame\":{\"duration\":0,\"redraw\":false},\"mode\":\"immediate\",\"fromcurrent\":true,\"transition\":{\"duration\":0,\"easing\":\"linear\"}}],\"label\":\"2021\",\"method\":\"animate\"},{\"args\":[[\"2022\"],{\"frame\":{\"duration\":0,\"redraw\":false},\"mode\":\"immediate\",\"fromcurrent\":true,\"transition\":{\"duration\":0,\"easing\":\"linear\"}}],\"label\":\"2022\",\"method\":\"animate\"}],\"x\":0.1,\"xanchor\":\"left\",\"y\":0,\"yanchor\":\"top\"}],\"title\":{\"text\":\"Average Combine MPG per Vehicle Class per Year\"}},                        {\"responsive\": true}                    ).then(function(){\n",
       "                            Plotly.addFrames('5276f79a-2896-4170-b985-e344fe4380c1', [{\"data\":[{\"hovertemplate\":\"color=COMPACT<br>animation_frame=2000<br>x=%{x}<br>y=%{y}<extra></extra>\",\"ids\":[\"COMPACT\"],\"legendgroup\":\"COMPACT\",\"line\":{\"color\":\"#2E91E5\",\"dash\":\"solid\"},\"marker\":{\"symbol\":\"circle\"},\"mode\":\"markers+lines\",\"name\":\"COMPACT\",\"orientation\":\"v\",\"showlegend\":true,\"x\":[2000],\"xaxis\":\"x\",\"y\":[31.504761904761907],\"yaxis\":\"y\",\"type\":\"scatter\"},{\"hovertemplate\":\"color=FULL-SIZE<br>animation_frame=2000<br>x=%{x}<br>y=%{y}<extra></extra>\",\"ids\":[\"FULL-SIZE\"],\"legendgroup\":\"FULL-SIZE\",\"line\":{\"color\":\"#E15F99\",\"dash\":\"solid\"},\"marker\":{\"symbol\":\"circle\"},\"mode\":\"markers+lines\",\"name\":\"FULL-SIZE\",\"orientation\":\"v\",\"showlegend\":true,\"x\":[2000],\"xaxis\":\"x\",\"y\":[26.428571428571427],\"yaxis\":\"y\",\"type\":\"scatter\"},{\"hovertemplate\":\"color=MID-SIZE<br>animation_frame=2000<br>x=%{x}<br>y=%{y}<extra></extra>\",\"ids\":[\"MID-SIZE\"],\"legendgroup\":\"MID-SIZE\",\"line\":{\"color\":\"#1CA71C\",\"dash\":\"solid\"},\"marker\":{\"symbol\":\"circle\"},\"mode\":\"markers+lines\",\"name\":\"MID-SIZE\",\"orientation\":\"v\",\"showlegend\":true,\"x\":[2000],\"xaxis\":\"x\",\"y\":[27.441558441558442],\"yaxis\":\"y\",\"type\":\"scatter\"},{\"hovertemplate\":\"color=MINICOMPACT<br>animation_frame=2000<br>x=%{x}<br>y=%{y}<extra></extra>\",\"ids\":[\"MINICOMPACT\"],\"legendgroup\":\"MINICOMPACT\",\"line\":{\"color\":\"#FB0D0D\",\"dash\":\"solid\"},\"marker\":{\"symbol\":\"circle\"},\"mode\":\"markers+lines\",\"name\":\"MINICOMPACT\",\"orientation\":\"v\",\"showlegend\":true,\"x\":[2000],\"xaxis\":\"x\",\"y\":[25.636363636363637],\"yaxis\":\"y\",\"type\":\"scatter\"},{\"hovertemplate\":\"color=MINIVAN<br>animation_frame=2000<br>x=%{x}<br>y=%{y}<extra></extra>\",\"ids\":[\"MINIVAN\"],\"legendgroup\":\"MINIVAN\",\"line\":{\"color\":\"#DA16FF\",\"dash\":\"solid\"},\"marker\":{\"symbol\":\"circle\"},\"mode\":\"markers+lines\",\"name\":\"MINIVAN\",\"orientation\":\"v\",\"showlegend\":true,\"x\":[2000],\"xaxis\":\"x\",\"y\":[23.96153846153846],\"yaxis\":\"y\",\"type\":\"scatter\"},{\"hovertemplate\":\"color=PICKUP TRUCK - SMALL<br>animation_frame=2000<br>x=%{x}<br>y=%{y}<extra></extra>\",\"ids\":[\"PICKUP TRUCK - SMALL\"],\"legendgroup\":\"PICKUP TRUCK - SMALL\",\"line\":{\"color\":\"#222A2A\",\"dash\":\"solid\"},\"marker\":{\"symbol\":\"circle\"},\"mode\":\"markers+lines\",\"name\":\"PICKUP TRUCK - SMALL\",\"orientation\":\"v\",\"showlegend\":true,\"x\":[2000],\"xaxis\":\"x\",\"y\":[26.272727272727273],\"yaxis\":\"y\",\"type\":\"scatter\"},{\"hovertemplate\":\"color=PICKUP TRUCK - STANDARD<br>animation_frame=2000<br>x=%{x}<br>y=%{y}<extra></extra>\",\"ids\":[\"PICKUP TRUCK - STANDARD\"],\"legendgroup\":\"PICKUP TRUCK - STANDARD\",\"line\":{\"color\":\"#B68100\",\"dash\":\"solid\"},\"marker\":{\"symbol\":\"circle\"},\"mode\":\"markers+lines\",\"name\":\"PICKUP TRUCK - STANDARD\",\"orientation\":\"v\",\"showlegend\":true,\"x\":[2000],\"xaxis\":\"x\",\"y\":[20.945652173913043],\"yaxis\":\"y\",\"type\":\"scatter\"},{\"hovertemplate\":\"color=STATION WAGON - MID-SIZE<br>animation_frame=2000<br>x=%{x}<br>y=%{y}<extra></extra>\",\"ids\":[\"STATION WAGON - MID-SIZE\"],\"legendgroup\":\"STATION WAGON - MID-SIZE\",\"line\":{\"color\":\"#750D86\",\"dash\":\"solid\"},\"marker\":{\"symbol\":\"circle\"},\"mode\":\"markers+lines\",\"name\":\"STATION WAGON - MID-SIZE\",\"orientation\":\"v\",\"showlegend\":true,\"x\":[2000],\"xaxis\":\"x\",\"y\":[28.44],\"yaxis\":\"y\",\"type\":\"scatter\"},{\"hovertemplate\":\"color=STATION WAGON - SMALL<br>animation_frame=2000<br>x=%{x}<br>y=%{y}<extra></extra>\",\"ids\":[\"STATION WAGON - SMALL\"],\"legendgroup\":\"STATION WAGON - SMALL\",\"line\":{\"color\":\"#EB663B\",\"dash\":\"solid\"},\"marker\":{\"symbol\":\"circle\"},\"mode\":\"markers+lines\",\"name\":\"STATION WAGON - SMALL\",\"orientation\":\"v\",\"showlegend\":true,\"x\":[2000],\"xaxis\":\"x\",\"y\":[31.692307692307693],\"yaxis\":\"y\",\"type\":\"scatter\"},{\"hovertemplate\":\"color=SUBCOMPACT<br>animation_frame=2000<br>x=%{x}<br>y=%{y}<extra></extra>\",\"ids\":[\"SUBCOMPACT\"],\"legendgroup\":\"SUBCOMPACT\",\"line\":{\"color\":\"#511CFB\",\"dash\":\"solid\"},\"marker\":{\"symbol\":\"circle\"},\"mode\":\"markers+lines\",\"name\":\"SUBCOMPACT\",\"orientation\":\"v\",\"showlegend\":true,\"x\":[2000],\"xaxis\":\"x\",\"y\":[31.48076923076923],\"yaxis\":\"y\",\"type\":\"scatter\"},{\"hovertemplate\":\"color=SUV<br>animation_frame=2000<br>x=%{x}<br>y=%{y}<extra></extra>\",\"ids\":[\"SUV\"],\"legendgroup\":\"SUV\",\"line\":{\"color\":\"#00A08B\",\"dash\":\"solid\"},\"marker\":{\"symbol\":\"circle\"},\"mode\":\"markers+lines\",\"name\":\"SUV\",\"orientation\":\"v\",\"showlegend\":true,\"x\":[2000],\"xaxis\":\"x\",\"y\":[22.84536082474227],\"yaxis\":\"y\",\"type\":\"scatter\"},{\"hovertemplate\":\"color=TWO-SEATER<br>animation_frame=2000<br>x=%{x}<br>y=%{y}<extra></extra>\",\"ids\":[\"TWO-SEATER\"],\"legendgroup\":\"TWO-SEATER\",\"line\":{\"color\":\"#FB00D1\",\"dash\":\"solid\"},\"marker\":{\"symbol\":\"circle\"},\"mode\":\"markers+lines\",\"name\":\"TWO-SEATER\",\"orientation\":\"v\",\"showlegend\":true,\"x\":[2000],\"xaxis\":\"x\",\"y\":[23.4],\"yaxis\":\"y\",\"type\":\"scatter\"},{\"hovertemplate\":\"color=VAN - CARGO<br>animation_frame=2000<br>x=%{x}<br>y=%{y}<extra></extra>\",\"ids\":[\"VAN - CARGO\"],\"legendgroup\":\"VAN - CARGO\",\"line\":{\"color\":\"#FC0080\",\"dash\":\"solid\"},\"marker\":{\"symbol\":\"circle\"},\"mode\":\"markers+lines\",\"name\":\"VAN - CARGO\",\"orientation\":\"v\",\"showlegend\":true,\"x\":[2000],\"xaxis\":\"x\",\"y\":[19.82608695652174],\"yaxis\":\"y\",\"type\":\"scatter\"},{\"hovertemplate\":\"color=VAN - PASSENGER<br>animation_frame=2000<br>x=%{x}<br>y=%{y}<extra></extra>\",\"ids\":[\"VAN - PASSENGER\"],\"legendgroup\":\"VAN - PASSENGER\",\"line\":{\"color\":\"#B2828D\",\"dash\":\"solid\"},\"marker\":{\"symbol\":\"circle\"},\"mode\":\"markers+lines\",\"name\":\"VAN - PASSENGER\",\"orientation\":\"v\",\"showlegend\":true,\"x\":[2000],\"xaxis\":\"x\",\"y\":[18.647058823529413],\"yaxis\":\"y\",\"type\":\"scatter\"}],\"name\":\"2000\"},{\"data\":[{\"hovertemplate\":\"color=COMPACT<br>animation_frame=2001<br>x=%{x}<br>y=%{y}<extra></extra>\",\"ids\":[\"COMPACT\"],\"legendgroup\":\"COMPACT\",\"line\":{\"color\":\"#2E91E5\",\"dash\":\"solid\"},\"marker\":{\"symbol\":\"circle\"},\"mode\":\"markers+lines\",\"name\":\"COMPACT\",\"orientation\":\"v\",\"showlegend\":true,\"x\":[2001],\"xaxis\":\"x\",\"y\":[31.93793103448276],\"yaxis\":\"y\",\"type\":\"scatter\"},{\"hovertemplate\":\"color=FULL-SIZE<br>animation_frame=2001<br>x=%{x}<br>y=%{y}<extra></extra>\",\"ids\":[\"FULL-SIZE\"],\"legendgroup\":\"FULL-SIZE\",\"line\":{\"color\":\"#E15F99\",\"dash\":\"solid\"},\"marker\":{\"symbol\":\"circle\"},\"mode\":\"markers+lines\",\"name\":\"FULL-SIZE\",\"orientation\":\"v\",\"showlegend\":true,\"x\":[2001],\"xaxis\":\"x\",\"y\":[26.033333333333335],\"yaxis\":\"y\",\"type\":\"scatter\"},{\"hovertemplate\":\"color=MID-SIZE<br>animation_frame=2001<br>x=%{x}<br>y=%{y}<extra></extra>\",\"ids\":[\"MID-SIZE\"],\"legendgroup\":\"MID-SIZE\",\"line\":{\"color\":\"#1CA71C\",\"dash\":\"solid\"},\"marker\":{\"symbol\":\"circle\"},\"mode\":\"markers+lines\",\"name\":\"MID-SIZE\",\"orientation\":\"v\",\"showlegend\":true,\"x\":[2001],\"xaxis\":\"x\",\"y\":[27.353658536585368],\"yaxis\":\"y\",\"type\":\"scatter\"},{\"hovertemplate\":\"color=MINICOMPACT<br>animation_frame=2001<br>x=%{x}<br>y=%{y}<extra></extra>\",\"ids\":[\"MINICOMPACT\"],\"legendgroup\":\"MINICOMPACT\",\"line\":{\"color\":\"#FB0D0D\",\"dash\":\"solid\"},\"marker\":{\"symbol\":\"circle\"},\"mode\":\"markers+lines\",\"name\":\"MINICOMPACT\",\"orientation\":\"v\",\"showlegend\":true,\"x\":[2001],\"xaxis\":\"x\",\"y\":[25.235294117647058],\"yaxis\":\"y\",\"type\":\"scatter\"},{\"hovertemplate\":\"color=MINIVAN<br>animation_frame=2001<br>x=%{x}<br>y=%{y}<extra></extra>\",\"ids\":[\"MINIVAN\"],\"legendgroup\":\"MINIVAN\",\"line\":{\"color\":\"#DA16FF\",\"dash\":\"solid\"},\"marker\":{\"symbol\":\"circle\"},\"mode\":\"markers+lines\",\"name\":\"MINIVAN\",\"orientation\":\"v\",\"showlegend\":true,\"x\":[2001],\"xaxis\":\"x\",\"y\":[24.88235294117647],\"yaxis\":\"y\",\"type\":\"scatter\"},{\"hovertemplate\":\"color=PICKUP TRUCK - SMALL<br>animation_frame=2001<br>x=%{x}<br>y=%{y}<extra></extra>\",\"ids\":[\"PICKUP TRUCK - SMALL\"],\"legendgroup\":\"PICKUP TRUCK - SMALL\",\"line\":{\"color\":\"#222A2A\",\"dash\":\"solid\"},\"marker\":{\"symbol\":\"circle\"},\"mode\":\"markers+lines\",\"name\":\"PICKUP TRUCK - SMALL\",\"orientation\":\"v\",\"showlegend\":true,\"x\":[2001],\"xaxis\":\"x\",\"y\":[23.5],\"yaxis\":\"y\",\"type\":\"scatter\"},{\"hovertemplate\":\"color=PICKUP TRUCK - STANDARD<br>animation_frame=2001<br>x=%{x}<br>y=%{y}<extra></extra>\",\"ids\":[\"PICKUP TRUCK - STANDARD\"],\"legendgroup\":\"PICKUP TRUCK - STANDARD\",\"line\":{\"color\":\"#B68100\",\"dash\":\"solid\"},\"marker\":{\"symbol\":\"circle\"},\"mode\":\"markers+lines\",\"name\":\"PICKUP TRUCK - STANDARD\",\"orientation\":\"v\",\"showlegend\":true,\"x\":[2001],\"xaxis\":\"x\",\"y\":[20.792079207920793],\"yaxis\":\"y\",\"type\":\"scatter\"},{\"hovertemplate\":\"color=STATION WAGON - MID-SIZE<br>animation_frame=2001<br>x=%{x}<br>y=%{y}<extra></extra>\",\"ids\":[\"STATION WAGON - MID-SIZE\"],\"legendgroup\":\"STATION WAGON - MID-SIZE\",\"line\":{\"color\":\"#750D86\",\"dash\":\"solid\"},\"marker\":{\"symbol\":\"circle\"},\"mode\":\"markers+lines\",\"name\":\"STATION WAGON - MID-SIZE\",\"orientation\":\"v\",\"showlegend\":true,\"x\":[2001],\"xaxis\":\"x\",\"y\":[28.870967741935484],\"yaxis\":\"y\",\"type\":\"scatter\"},{\"hovertemplate\":\"color=STATION WAGON - SMALL<br>animation_frame=2001<br>x=%{x}<br>y=%{y}<extra></extra>\",\"ids\":[\"STATION WAGON - SMALL\"],\"legendgroup\":\"STATION WAGON - SMALL\",\"line\":{\"color\":\"#EB663B\",\"dash\":\"solid\"},\"marker\":{\"symbol\":\"circle\"},\"mode\":\"markers+lines\",\"name\":\"STATION WAGON - SMALL\",\"orientation\":\"v\",\"showlegend\":true,\"x\":[2001],\"xaxis\":\"x\",\"y\":[31.916666666666668],\"yaxis\":\"y\",\"type\":\"scatter\"},{\"hovertemplate\":\"color=SUBCOMPACT<br>animation_frame=2001<br>x=%{x}<br>y=%{y}<extra></extra>\",\"ids\":[\"SUBCOMPACT\"],\"legendgroup\":\"SUBCOMPACT\",\"line\":{\"color\":\"#511CFB\",\"dash\":\"solid\"},\"marker\":{\"symbol\":\"circle\"},\"mode\":\"markers+lines\",\"name\":\"SUBCOMPACT\",\"orientation\":\"v\",\"showlegend\":true,\"x\":[2001],\"xaxis\":\"x\",\"y\":[31.258064516129032],\"yaxis\":\"y\",\"type\":\"scatter\"},{\"hovertemplate\":\"color=SUV<br>animation_frame=2001<br>x=%{x}<br>y=%{y}<extra></extra>\",\"ids\":[\"SUV\"],\"legendgroup\":\"SUV\",\"line\":{\"color\":\"#00A08B\",\"dash\":\"solid\"},\"marker\":{\"symbol\":\"circle\"},\"mode\":\"markers+lines\",\"name\":\"SUV\",\"orientation\":\"v\",\"showlegend\":true,\"x\":[2001],\"xaxis\":\"x\",\"y\":[23.081632653061224],\"yaxis\":\"y\",\"type\":\"scatter\"},{\"hovertemplate\":\"color=TWO-SEATER<br>animation_frame=2001<br>x=%{x}<br>y=%{y}<extra></extra>\",\"ids\":[\"TWO-SEATER\"],\"legendgroup\":\"TWO-SEATER\",\"line\":{\"color\":\"#FB00D1\",\"dash\":\"solid\"},\"marker\":{\"symbol\":\"circle\"},\"mode\":\"markers+lines\",\"name\":\"TWO-SEATER\",\"orientation\":\"v\",\"showlegend\":true,\"x\":[2001],\"xaxis\":\"x\",\"y\":[27.548387096774192],\"yaxis\":\"y\",\"type\":\"scatter\"},{\"hovertemplate\":\"color=VAN - CARGO<br>animation_frame=2001<br>x=%{x}<br>y=%{y}<extra></extra>\",\"ids\":[\"VAN - CARGO\"],\"legendgroup\":\"VAN - CARGO\",\"line\":{\"color\":\"#FC0080\",\"dash\":\"solid\"},\"marker\":{\"symbol\":\"circle\"},\"mode\":\"markers+lines\",\"name\":\"VAN - CARGO\",\"orientation\":\"v\",\"showlegend\":true,\"x\":[2001],\"xaxis\":\"x\",\"y\":[19.26086956521739],\"yaxis\":\"y\",\"type\":\"scatter\"},{\"hovertemplate\":\"color=VAN - PASSENGER<br>animation_frame=2001<br>x=%{x}<br>y=%{y}<extra></extra>\",\"ids\":[\"VAN - PASSENGER\"],\"legendgroup\":\"VAN - PASSENGER\",\"line\":{\"color\":\"#B2828D\",\"dash\":\"solid\"},\"marker\":{\"symbol\":\"circle\"},\"mode\":\"markers+lines\",\"name\":\"VAN - PASSENGER\",\"orientation\":\"v\",\"showlegend\":true,\"x\":[2001],\"xaxis\":\"x\",\"y\":[19.055555555555557],\"yaxis\":\"y\",\"type\":\"scatter\"}],\"name\":\"2001\"},{\"data\":[{\"hovertemplate\":\"color=COMPACT<br>animation_frame=2002<br>x=%{x}<br>y=%{y}<extra></extra>\",\"ids\":[\"COMPACT\"],\"legendgroup\":\"COMPACT\",\"line\":{\"color\":\"#2E91E5\",\"dash\":\"solid\"},\"marker\":{\"symbol\":\"circle\"},\"mode\":\"markers+lines\",\"name\":\"COMPACT\",\"orientation\":\"v\",\"showlegend\":true,\"x\":[2002],\"xaxis\":\"x\",\"y\":[31.969924812030076],\"yaxis\":\"y\",\"type\":\"scatter\"},{\"hovertemplate\":\"color=FULL-SIZE<br>animation_frame=2002<br>x=%{x}<br>y=%{y}<extra></extra>\",\"ids\":[\"FULL-SIZE\"],\"legendgroup\":\"FULL-SIZE\",\"line\":{\"color\":\"#E15F99\",\"dash\":\"solid\"},\"marker\":{\"symbol\":\"circle\"},\"mode\":\"markers+lines\",\"name\":\"FULL-SIZE\",\"orientation\":\"v\",\"showlegend\":true,\"x\":[2002],\"xaxis\":\"x\",\"y\":[25.689655172413794],\"yaxis\":\"y\",\"type\":\"scatter\"},{\"hovertemplate\":\"color=MID-SIZE<br>animation_frame=2002<br>x=%{x}<br>y=%{y}<extra></extra>\",\"ids\":[\"MID-SIZE\"],\"legendgroup\":\"MID-SIZE\",\"line\":{\"color\":\"#1CA71C\",\"dash\":\"solid\"},\"marker\":{\"symbol\":\"circle\"},\"mode\":\"markers+lines\",\"name\":\"MID-SIZE\",\"orientation\":\"v\",\"showlegend\":true,\"x\":[2002],\"xaxis\":\"x\",\"y\":[27.444444444444443],\"yaxis\":\"y\",\"type\":\"scatter\"},{\"hovertemplate\":\"color=MINICOMPACT<br>animation_frame=2002<br>x=%{x}<br>y=%{y}<extra></extra>\",\"ids\":[\"MINICOMPACT\"],\"legendgroup\":\"MINICOMPACT\",\"line\":{\"color\":\"#FB0D0D\",\"dash\":\"solid\"},\"marker\":{\"symbol\":\"circle\"},\"mode\":\"markers+lines\",\"name\":\"MINICOMPACT\",\"orientation\":\"v\",\"showlegend\":true,\"x\":[2002],\"xaxis\":\"x\",\"y\":[25.363636363636363],\"yaxis\":\"y\",\"type\":\"scatter\"},{\"hovertemplate\":\"color=MINIVAN<br>animation_frame=2002<br>x=%{x}<br>y=%{y}<extra></extra>\",\"ids\":[\"MINIVAN\"],\"legendgroup\":\"MINIVAN\",\"line\":{\"color\":\"#DA16FF\",\"dash\":\"solid\"},\"marker\":{\"symbol\":\"circle\"},\"mode\":\"markers+lines\",\"name\":\"MINIVAN\",\"orientation\":\"v\",\"showlegend\":true,\"x\":[2002],\"xaxis\":\"x\",\"y\":[24.545454545454547],\"yaxis\":\"y\",\"type\":\"scatter\"},{\"hovertemplate\":\"color=PICKUP TRUCK - SMALL<br>animation_frame=2002<br>x=%{x}<br>y=%{y}<extra></extra>\",\"ids\":[\"PICKUP TRUCK - SMALL\"],\"legendgroup\":\"PICKUP TRUCK - SMALL\",\"line\":{\"color\":\"#222A2A\",\"dash\":\"solid\"},\"marker\":{\"symbol\":\"circle\"},\"mode\":\"markers+lines\",\"name\":\"PICKUP TRUCK - SMALL\",\"orientation\":\"v\",\"showlegend\":true,\"x\":[2002],\"xaxis\":\"x\",\"y\":[23.166666666666668],\"yaxis\":\"y\",\"type\":\"scatter\"},{\"hovertemplate\":\"color=PICKUP TRUCK - STANDARD<br>animation_frame=2002<br>x=%{x}<br>y=%{y}<extra></extra>\",\"ids\":[\"PICKUP TRUCK - STANDARD\"],\"legendgroup\":\"PICKUP TRUCK - STANDARD\",\"line\":{\"color\":\"#B68100\",\"dash\":\"solid\"},\"marker\":{\"symbol\":\"circle\"},\"mode\":\"markers+lines\",\"name\":\"PICKUP TRUCK - STANDARD\",\"orientation\":\"v\",\"showlegend\":true,\"x\":[2002],\"xaxis\":\"x\",\"y\":[20.177570093457945],\"yaxis\":\"y\",\"type\":\"scatter\"},{\"hovertemplate\":\"color=STATION WAGON - MID-SIZE<br>animation_frame=2002<br>x=%{x}<br>y=%{y}<extra></extra>\",\"ids\":[\"STATION WAGON - MID-SIZE\"],\"legendgroup\":\"STATION WAGON - MID-SIZE\",\"line\":{\"color\":\"#750D86\",\"dash\":\"solid\"},\"marker\":{\"symbol\":\"circle\"},\"mode\":\"markers+lines\",\"name\":\"STATION WAGON - MID-SIZE\",\"orientation\":\"v\",\"showlegend\":true,\"x\":[2002],\"xaxis\":\"x\",\"y\":[29.15625],\"yaxis\":\"y\",\"type\":\"scatter\"},{\"hovertemplate\":\"color=STATION WAGON - SMALL<br>animation_frame=2002<br>x=%{x}<br>y=%{y}<extra></extra>\",\"ids\":[\"STATION WAGON - SMALL\"],\"legendgroup\":\"STATION WAGON - SMALL\",\"line\":{\"color\":\"#EB663B\",\"dash\":\"solid\"},\"marker\":{\"symbol\":\"circle\"},\"mode\":\"markers+lines\",\"name\":\"STATION WAGON - SMALL\",\"orientation\":\"v\",\"showlegend\":true,\"x\":[2002],\"xaxis\":\"x\",\"y\":[29.27777777777778],\"yaxis\":\"y\",\"type\":\"scatter\"},{\"hovertemplate\":\"color=SUBCOMPACT<br>animation_frame=2002<br>x=%{x}<br>y=%{y}<extra></extra>\",\"ids\":[\"SUBCOMPACT\"],\"legendgroup\":\"SUBCOMPACT\",\"line\":{\"color\":\"#511CFB\",\"dash\":\"solid\"},\"marker\":{\"symbol\":\"circle\"},\"mode\":\"markers+lines\",\"name\":\"SUBCOMPACT\",\"orientation\":\"v\",\"showlegend\":true,\"x\":[2002],\"xaxis\":\"x\",\"y\":[29.15068493150685],\"yaxis\":\"y\",\"type\":\"scatter\"},{\"hovertemplate\":\"color=SUV<br>animation_frame=2002<br>x=%{x}<br>y=%{y}<extra></extra>\",\"ids\":[\"SUV\"],\"legendgroup\":\"SUV\",\"line\":{\"color\":\"#00A08B\",\"dash\":\"solid\"},\"marker\":{\"symbol\":\"circle\"},\"mode\":\"markers+lines\",\"name\":\"SUV\",\"orientation\":\"v\",\"showlegend\":true,\"x\":[2002],\"xaxis\":\"x\",\"y\":[22.572580645161292],\"yaxis\":\"y\",\"type\":\"scatter\"},{\"hovertemplate\":\"color=TWO-SEATER<br>animation_frame=2002<br>x=%{x}<br>y=%{y}<extra></extra>\",\"ids\":[\"TWO-SEATER\"],\"legendgroup\":\"TWO-SEATER\",\"line\":{\"color\":\"#FB00D1\",\"dash\":\"solid\"},\"marker\":{\"symbol\":\"circle\"},\"mode\":\"markers+lines\",\"name\":\"TWO-SEATER\",\"orientation\":\"v\",\"showlegend\":true,\"x\":[2002],\"xaxis\":\"x\",\"y\":[25.972972972972972],\"yaxis\":\"y\",\"type\":\"scatter\"},{\"hovertemplate\":\"color=VAN - CARGO<br>animation_frame=2002<br>x=%{x}<br>y=%{y}<extra></extra>\",\"ids\":[\"VAN - CARGO\"],\"legendgroup\":\"VAN - CARGO\",\"line\":{\"color\":\"#FC0080\",\"dash\":\"solid\"},\"marker\":{\"symbol\":\"circle\"},\"mode\":\"markers+lines\",\"name\":\"VAN - CARGO\",\"orientation\":\"v\",\"showlegend\":true,\"x\":[2002],\"xaxis\":\"x\",\"y\":[19.434782608695652],\"yaxis\":\"y\",\"type\":\"scatter\"},{\"hovertemplate\":\"color=VAN - PASSENGER<br>animation_frame=2002<br>x=%{x}<br>y=%{y}<extra></extra>\",\"ids\":[\"VAN - PASSENGER\"],\"legendgroup\":\"VAN - PASSENGER\",\"line\":{\"color\":\"#B2828D\",\"dash\":\"solid\"},\"marker\":{\"symbol\":\"circle\"},\"mode\":\"markers+lines\",\"name\":\"VAN - PASSENGER\",\"orientation\":\"v\",\"showlegend\":true,\"x\":[2002],\"xaxis\":\"x\",\"y\":[18.77777777777778],\"yaxis\":\"y\",\"type\":\"scatter\"}],\"name\":\"2002\"},{\"data\":[{\"hovertemplate\":\"color=COMPACT<br>animation_frame=2003<br>x=%{x}<br>y=%{y}<extra></extra>\",\"ids\":[\"COMPACT\"],\"legendgroup\":\"COMPACT\",\"line\":{\"color\":\"#2E91E5\",\"dash\":\"solid\"},\"marker\":{\"symbol\":\"circle\"},\"mode\":\"markers+lines\",\"name\":\"COMPACT\",\"orientation\":\"v\",\"showlegend\":true,\"x\":[2003],\"xaxis\":\"x\",\"y\":[32.37062937062937],\"yaxis\":\"y\",\"type\":\"scatter\"},{\"hovertemplate\":\"color=FULL-SIZE<br>animation_frame=2003<br>x=%{x}<br>y=%{y}<extra></extra>\",\"ids\":[\"FULL-SIZE\"],\"legendgroup\":\"FULL-SIZE\",\"line\":{\"color\":\"#E15F99\",\"dash\":\"solid\"},\"marker\":{\"symbol\":\"circle\"},\"mode\":\"markers+lines\",\"name\":\"FULL-SIZE\",\"orientation\":\"v\",\"showlegend\":true,\"x\":[2003],\"xaxis\":\"x\",\"y\":[26.28],\"yaxis\":\"y\",\"type\":\"scatter\"},{\"hovertemplate\":\"color=MID-SIZE<br>animation_frame=2003<br>x=%{x}<br>y=%{y}<extra></extra>\",\"ids\":[\"MID-SIZE\"],\"legendgroup\":\"MID-SIZE\",\"line\":{\"color\":\"#1CA71C\",\"dash\":\"solid\"},\"marker\":{\"symbol\":\"circle\"},\"mode\":\"markers+lines\",\"name\":\"MID-SIZE\",\"orientation\":\"v\",\"showlegend\":true,\"x\":[2003],\"xaxis\":\"x\",\"y\":[27.48314606741573],\"yaxis\":\"y\",\"type\":\"scatter\"},{\"hovertemplate\":\"color=MINICOMPACT<br>animation_frame=2003<br>x=%{x}<br>y=%{y}<extra></extra>\",\"ids\":[\"MINICOMPACT\"],\"legendgroup\":\"MINICOMPACT\",\"line\":{\"color\":\"#FB0D0D\",\"dash\":\"solid\"},\"marker\":{\"symbol\":\"circle\"},\"mode\":\"markers+lines\",\"name\":\"MINICOMPACT\",\"orientation\":\"v\",\"showlegend\":true,\"x\":[2003],\"xaxis\":\"x\",\"y\":[27.575757575757574],\"yaxis\":\"y\",\"type\":\"scatter\"},{\"hovertemplate\":\"color=MINIVAN<br>animation_frame=2003<br>x=%{x}<br>y=%{y}<extra></extra>\",\"ids\":[\"MINIVAN\"],\"legendgroup\":\"MINIVAN\",\"line\":{\"color\":\"#DA16FF\",\"dash\":\"solid\"},\"marker\":{\"symbol\":\"circle\"},\"mode\":\"markers+lines\",\"name\":\"MINIVAN\",\"orientation\":\"v\",\"showlegend\":true,\"x\":[2003],\"xaxis\":\"x\",\"y\":[24.392857142857142],\"yaxis\":\"y\",\"type\":\"scatter\"},{\"hovertemplate\":\"color=PICKUP TRUCK - SMALL<br>animation_frame=2003<br>x=%{x}<br>y=%{y}<extra></extra>\",\"ids\":[\"PICKUP TRUCK - SMALL\"],\"legendgroup\":\"PICKUP TRUCK - SMALL\",\"line\":{\"color\":\"#222A2A\",\"dash\":\"solid\"},\"marker\":{\"symbol\":\"circle\"},\"mode\":\"markers+lines\",\"name\":\"PICKUP TRUCK - SMALL\",\"orientation\":\"v\",\"showlegend\":true,\"x\":[2003],\"xaxis\":\"x\",\"y\":[24.75],\"yaxis\":\"y\",\"type\":\"scatter\"},{\"hovertemplate\":\"color=PICKUP TRUCK - STANDARD<br>animation_frame=2003<br>x=%{x}<br>y=%{y}<extra></extra>\",\"ids\":[\"PICKUP TRUCK - STANDARD\"],\"legendgroup\":\"PICKUP TRUCK - STANDARD\",\"line\":{\"color\":\"#B68100\",\"dash\":\"solid\"},\"marker\":{\"symbol\":\"circle\"},\"mode\":\"markers+lines\",\"name\":\"PICKUP TRUCK - STANDARD\",\"orientation\":\"v\",\"showlegend\":true,\"x\":[2003],\"xaxis\":\"x\",\"y\":[21.00943396226415],\"yaxis\":\"y\",\"type\":\"scatter\"},{\"hovertemplate\":\"color=STATION WAGON - MID-SIZE<br>animation_frame=2003<br>x=%{x}<br>y=%{y}<extra></extra>\",\"ids\":[\"STATION WAGON - MID-SIZE\"],\"legendgroup\":\"STATION WAGON - MID-SIZE\",\"line\":{\"color\":\"#750D86\",\"dash\":\"solid\"},\"marker\":{\"symbol\":\"circle\"},\"mode\":\"markers+lines\",\"name\":\"STATION WAGON - MID-SIZE\",\"orientation\":\"v\",\"showlegend\":true,\"x\":[2003],\"xaxis\":\"x\",\"y\":[29.0],\"yaxis\":\"y\",\"type\":\"scatter\"},{\"hovertemplate\":\"color=STATION WAGON - SMALL<br>animation_frame=2003<br>x=%{x}<br>y=%{y}<extra></extra>\",\"ids\":[\"STATION WAGON - SMALL\"],\"legendgroup\":\"STATION WAGON - SMALL\",\"line\":{\"color\":\"#EB663B\",\"dash\":\"solid\"},\"marker\":{\"symbol\":\"circle\"},\"mode\":\"markers+lines\",\"name\":\"STATION WAGON - SMALL\",\"orientation\":\"v\",\"showlegend\":true,\"x\":[2003],\"xaxis\":\"x\",\"y\":[31.644444444444446],\"yaxis\":\"y\",\"type\":\"scatter\"},{\"hovertemplate\":\"color=SUBCOMPACT<br>animation_frame=2003<br>x=%{x}<br>y=%{y}<extra></extra>\",\"ids\":[\"SUBCOMPACT\"],\"legendgroup\":\"SUBCOMPACT\",\"line\":{\"color\":\"#511CFB\",\"dash\":\"solid\"},\"marker\":{\"symbol\":\"circle\"},\"mode\":\"markers+lines\",\"name\":\"SUBCOMPACT\",\"orientation\":\"v\",\"showlegend\":true,\"x\":[2003],\"xaxis\":\"x\",\"y\":[27.984615384615385],\"yaxis\":\"y\",\"type\":\"scatter\"},{\"hovertemplate\":\"color=SUV<br>animation_frame=2003<br>x=%{x}<br>y=%{y}<extra></extra>\",\"ids\":[\"SUV\"],\"legendgroup\":\"SUV\",\"line\":{\"color\":\"#00A08B\",\"dash\":\"solid\"},\"marker\":{\"symbol\":\"circle\"},\"mode\":\"markers+lines\",\"name\":\"SUV\",\"orientation\":\"v\",\"showlegend\":true,\"x\":[2003],\"xaxis\":\"x\",\"y\":[22.5125],\"yaxis\":\"y\",\"type\":\"scatter\"},{\"hovertemplate\":\"color=TWO-SEATER<br>animation_frame=2003<br>x=%{x}<br>y=%{y}<extra></extra>\",\"ids\":[\"TWO-SEATER\"],\"legendgroup\":\"TWO-SEATER\",\"line\":{\"color\":\"#FB00D1\",\"dash\":\"solid\"},\"marker\":{\"symbol\":\"circle\"},\"mode\":\"markers+lines\",\"name\":\"TWO-SEATER\",\"orientation\":\"v\",\"showlegend\":true,\"x\":[2003],\"xaxis\":\"x\",\"y\":[25.475],\"yaxis\":\"y\",\"type\":\"scatter\"},{\"hovertemplate\":\"color=VAN - CARGO<br>animation_frame=2003<br>x=%{x}<br>y=%{y}<extra></extra>\",\"ids\":[\"VAN - CARGO\"],\"legendgroup\":\"VAN - CARGO\",\"line\":{\"color\":\"#FC0080\",\"dash\":\"solid\"},\"marker\":{\"symbol\":\"circle\"},\"mode\":\"markers+lines\",\"name\":\"VAN - CARGO\",\"orientation\":\"v\",\"showlegend\":true,\"x\":[2003],\"xaxis\":\"x\",\"y\":[18.666666666666668],\"yaxis\":\"y\",\"type\":\"scatter\"},{\"hovertemplate\":\"color=VAN - PASSENGER<br>animation_frame=2003<br>x=%{x}<br>y=%{y}<extra></extra>\",\"ids\":[\"VAN - PASSENGER\"],\"legendgroup\":\"VAN - PASSENGER\",\"line\":{\"color\":\"#B2828D\",\"dash\":\"solid\"},\"marker\":{\"symbol\":\"circle\"},\"mode\":\"markers+lines\",\"name\":\"VAN - PASSENGER\",\"orientation\":\"v\",\"showlegend\":true,\"x\":[2003],\"xaxis\":\"x\",\"y\":[18.615384615384617],\"yaxis\":\"y\",\"type\":\"scatter\"}],\"name\":\"2003\"},{\"data\":[{\"hovertemplate\":\"color=COMPACT<br>animation_frame=2004<br>x=%{x}<br>y=%{y}<extra></extra>\",\"ids\":[\"COMPACT\"],\"legendgroup\":\"COMPACT\",\"line\":{\"color\":\"#2E91E5\",\"dash\":\"solid\"},\"marker\":{\"symbol\":\"circle\"},\"mode\":\"markers+lines\",\"name\":\"COMPACT\",\"orientation\":\"v\",\"showlegend\":true,\"x\":[2004],\"xaxis\":\"x\",\"y\":[31.603896103896105],\"yaxis\":\"y\",\"type\":\"scatter\"},{\"hovertemplate\":\"color=FULL-SIZE<br>animation_frame=2004<br>x=%{x}<br>y=%{y}<extra></extra>\",\"ids\":[\"FULL-SIZE\"],\"legendgroup\":\"FULL-SIZE\",\"line\":{\"color\":\"#E15F99\",\"dash\":\"solid\"},\"marker\":{\"symbol\":\"circle\"},\"mode\":\"markers+lines\",\"name\":\"FULL-SIZE\",\"orientation\":\"v\",\"showlegend\":true,\"x\":[2004],\"xaxis\":\"x\",\"y\":[24.735294117647058],\"yaxis\":\"y\",\"type\":\"scatter\"},{\"hovertemplate\":\"color=MID-SIZE<br>animation_frame=2004<br>x=%{x}<br>y=%{y}<extra></extra>\",\"ids\":[\"MID-SIZE\"],\"legendgroup\":\"MID-SIZE\",\"line\":{\"color\":\"#1CA71C\",\"dash\":\"solid\"},\"marker\":{\"symbol\":\"circle\"},\"mode\":\"markers+lines\",\"name\":\"MID-SIZE\",\"orientation\":\"v\",\"showlegend\":true,\"x\":[2004],\"xaxis\":\"x\",\"y\":[27.92233009708738],\"yaxis\":\"y\",\"type\":\"scatter\"},{\"hovertemplate\":\"color=MINICOMPACT<br>animation_frame=2004<br>x=%{x}<br>y=%{y}<extra></extra>\",\"ids\":[\"MINICOMPACT\"],\"legendgroup\":\"MINICOMPACT\",\"line\":{\"color\":\"#FB0D0D\",\"dash\":\"solid\"},\"marker\":{\"symbol\":\"circle\"},\"mode\":\"markers+lines\",\"name\":\"MINICOMPACT\",\"orientation\":\"v\",\"showlegend\":true,\"x\":[2004],\"xaxis\":\"x\",\"y\":[29.2],\"yaxis\":\"y\",\"type\":\"scatter\"},{\"hovertemplate\":\"color=MINIVAN<br>animation_frame=2004<br>x=%{x}<br>y=%{y}<extra></extra>\",\"ids\":[\"MINIVAN\"],\"legendgroup\":\"MINIVAN\",\"line\":{\"color\":\"#DA16FF\",\"dash\":\"solid\"},\"marker\":{\"symbol\":\"circle\"},\"mode\":\"markers+lines\",\"name\":\"MINIVAN\",\"orientation\":\"v\",\"showlegend\":true,\"x\":[2004],\"xaxis\":\"x\",\"y\":[25.571428571428573],\"yaxis\":\"y\",\"type\":\"scatter\"},{\"hovertemplate\":\"color=PICKUP TRUCK - SMALL<br>animation_frame=2004<br>x=%{x}<br>y=%{y}<extra></extra>\",\"ids\":[\"PICKUP TRUCK - SMALL\"],\"legendgroup\":\"PICKUP TRUCK - SMALL\",\"line\":{\"color\":\"#222A2A\",\"dash\":\"solid\"},\"marker\":{\"symbol\":\"circle\"},\"mode\":\"markers+lines\",\"name\":\"PICKUP TRUCK - SMALL\",\"orientation\":\"v\",\"showlegend\":true,\"x\":[2004],\"xaxis\":\"x\",\"y\":[20.0],\"yaxis\":\"y\",\"type\":\"scatter\"},{\"hovertemplate\":\"color=PICKUP TRUCK - STANDARD<br>animation_frame=2004<br>x=%{x}<br>y=%{y}<extra></extra>\",\"ids\":[\"PICKUP TRUCK - STANDARD\"],\"legendgroup\":\"PICKUP TRUCK - STANDARD\",\"line\":{\"color\":\"#B68100\",\"dash\":\"solid\"},\"marker\":{\"symbol\":\"circle\"},\"mode\":\"markers+lines\",\"name\":\"PICKUP TRUCK - STANDARD\",\"orientation\":\"v\",\"showlegend\":true,\"x\":[2004],\"xaxis\":\"x\",\"y\":[20.66393442622951],\"yaxis\":\"y\",\"type\":\"scatter\"},{\"hovertemplate\":\"color=STATION WAGON - MID-SIZE<br>animation_frame=2004<br>x=%{x}<br>y=%{y}<extra></extra>\",\"ids\":[\"STATION WAGON - MID-SIZE\"],\"legendgroup\":\"STATION WAGON - MID-SIZE\",\"line\":{\"color\":\"#750D86\",\"dash\":\"solid\"},\"marker\":{\"symbol\":\"circle\"},\"mode\":\"markers+lines\",\"name\":\"STATION WAGON - MID-SIZE\",\"orientation\":\"v\",\"showlegend\":true,\"x\":[2004],\"xaxis\":\"x\",\"y\":[28.414634146341463],\"yaxis\":\"y\",\"type\":\"scatter\"},{\"hovertemplate\":\"color=STATION WAGON - SMALL<br>animation_frame=2004<br>x=%{x}<br>y=%{y}<extra></extra>\",\"ids\":[\"STATION WAGON - SMALL\"],\"legendgroup\":\"STATION WAGON - SMALL\",\"line\":{\"color\":\"#EB663B\",\"dash\":\"solid\"},\"marker\":{\"symbol\":\"circle\"},\"mode\":\"markers+lines\",\"name\":\"STATION WAGON - SMALL\",\"orientation\":\"v\",\"showlegend\":true,\"x\":[2004],\"xaxis\":\"x\",\"y\":[31.27906976744186],\"yaxis\":\"y\",\"type\":\"scatter\"},{\"hovertemplate\":\"color=SUBCOMPACT<br>animation_frame=2004<br>x=%{x}<br>y=%{y}<extra></extra>\",\"ids\":[\"SUBCOMPACT\"],\"legendgroup\":\"SUBCOMPACT\",\"line\":{\"color\":\"#511CFB\",\"dash\":\"solid\"},\"marker\":{\"symbol\":\"circle\"},\"mode\":\"markers+lines\",\"name\":\"SUBCOMPACT\",\"orientation\":\"v\",\"showlegend\":true,\"x\":[2004],\"xaxis\":\"x\",\"y\":[28.96511627906977],\"yaxis\":\"y\",\"type\":\"scatter\"},{\"hovertemplate\":\"color=SUV<br>animation_frame=2004<br>x=%{x}<br>y=%{y}<extra></extra>\",\"ids\":[\"SUV\"],\"legendgroup\":\"SUV\",\"line\":{\"color\":\"#00A08B\",\"dash\":\"solid\"},\"marker\":{\"symbol\":\"circle\"},\"mode\":\"markers+lines\",\"name\":\"SUV\",\"orientation\":\"v\",\"showlegend\":true,\"x\":[2004],\"xaxis\":\"x\",\"y\":[21.957894736842107],\"yaxis\":\"y\",\"type\":\"scatter\"},{\"hovertemplate\":\"color=TWO-SEATER<br>animation_frame=2004<br>x=%{x}<br>y=%{y}<extra></extra>\",\"ids\":[\"TWO-SEATER\"],\"legendgroup\":\"TWO-SEATER\",\"line\":{\"color\":\"#FB00D1\",\"dash\":\"solid\"},\"marker\":{\"symbol\":\"circle\"},\"mode\":\"markers+lines\",\"name\":\"TWO-SEATER\",\"orientation\":\"v\",\"showlegend\":true,\"x\":[2004],\"xaxis\":\"x\",\"y\":[25.065217391304348],\"yaxis\":\"y\",\"type\":\"scatter\"},{\"hovertemplate\":\"color=VAN - CARGO<br>animation_frame=2004<br>x=%{x}<br>y=%{y}<extra></extra>\",\"ids\":[\"VAN - CARGO\"],\"legendgroup\":\"VAN - CARGO\",\"line\":{\"color\":\"#FC0080\",\"dash\":\"solid\"},\"marker\":{\"symbol\":\"circle\"},\"mode\":\"markers+lines\",\"name\":\"VAN - CARGO\",\"orientation\":\"v\",\"showlegend\":true,\"x\":[2004],\"xaxis\":\"x\",\"y\":[18.80952380952381],\"yaxis\":\"y\",\"type\":\"scatter\"},{\"hovertemplate\":\"color=VAN - PASSENGER<br>animation_frame=2004<br>x=%{x}<br>y=%{y}<extra></extra>\",\"ids\":[\"VAN - PASSENGER\"],\"legendgroup\":\"VAN - PASSENGER\",\"line\":{\"color\":\"#B2828D\",\"dash\":\"solid\"},\"marker\":{\"symbol\":\"circle\"},\"mode\":\"markers+lines\",\"name\":\"VAN - PASSENGER\",\"orientation\":\"v\",\"showlegend\":true,\"x\":[2004],\"xaxis\":\"x\",\"y\":[19.181818181818183],\"yaxis\":\"y\",\"type\":\"scatter\"}],\"name\":\"2004\"},{\"data\":[{\"hovertemplate\":\"color=COMPACT<br>animation_frame=2005<br>x=%{x}<br>y=%{y}<extra></extra>\",\"ids\":[\"COMPACT\"],\"legendgroup\":\"COMPACT\",\"line\":{\"color\":\"#2E91E5\",\"dash\":\"solid\"},\"marker\":{\"symbol\":\"circle\"},\"mode\":\"markers+lines\",\"name\":\"COMPACT\",\"orientation\":\"v\",\"showlegend\":true,\"x\":[2005],\"xaxis\":\"x\",\"y\":[31.698630136986303],\"yaxis\":\"y\",\"type\":\"scatter\"},{\"hovertemplate\":\"color=FULL-SIZE<br>animation_frame=2005<br>x=%{x}<br>y=%{y}<extra></extra>\",\"ids\":[\"FULL-SIZE\"],\"legendgroup\":\"FULL-SIZE\",\"line\":{\"color\":\"#E15F99\",\"dash\":\"solid\"},\"marker\":{\"symbol\":\"circle\"},\"mode\":\"markers+lines\",\"name\":\"FULL-SIZE\",\"orientation\":\"v\",\"showlegend\":true,\"x\":[2005],\"xaxis\":\"x\",\"y\":[24.155555555555555],\"yaxis\":\"y\",\"type\":\"scatter\"},{\"hovertemplate\":\"color=MID-SIZE<br>animation_frame=2005<br>x=%{x}<br>y=%{y}<extra></extra>\",\"ids\":[\"MID-SIZE\"],\"legendgroup\":\"MID-SIZE\",\"line\":{\"color\":\"#1CA71C\",\"dash\":\"solid\"},\"marker\":{\"symbol\":\"circle\"},\"mode\":\"markers+lines\",\"name\":\"MID-SIZE\",\"orientation\":\"v\",\"showlegend\":true,\"x\":[2005],\"xaxis\":\"x\",\"y\":[28.140350877192983],\"yaxis\":\"y\",\"type\":\"scatter\"},{\"hovertemplate\":\"color=MINICOMPACT<br>animation_frame=2005<br>x=%{x}<br>y=%{y}<extra></extra>\",\"ids\":[\"MINICOMPACT\"],\"legendgroup\":\"MINICOMPACT\",\"line\":{\"color\":\"#FB0D0D\",\"dash\":\"solid\"},\"marker\":{\"symbol\":\"circle\"},\"mode\":\"markers+lines\",\"name\":\"MINICOMPACT\",\"orientation\":\"v\",\"showlegend\":true,\"x\":[2005],\"xaxis\":\"x\",\"y\":[26.256756756756758],\"yaxis\":\"y\",\"type\":\"scatter\"},{\"hovertemplate\":\"color=MINIVAN<br>animation_frame=2005<br>x=%{x}<br>y=%{y}<extra></extra>\",\"ids\":[\"MINIVAN\"],\"legendgroup\":\"MINIVAN\",\"line\":{\"color\":\"#DA16FF\",\"dash\":\"solid\"},\"marker\":{\"symbol\":\"circle\"},\"mode\":\"markers+lines\",\"name\":\"MINIVAN\",\"orientation\":\"v\",\"showlegend\":true,\"x\":[2005],\"xaxis\":\"x\",\"y\":[24.727272727272727],\"yaxis\":\"y\",\"type\":\"scatter\"},{\"hovertemplate\":\"color=PICKUP TRUCK - STANDARD<br>animation_frame=2005<br>x=%{x}<br>y=%{y}<extra></extra>\",\"ids\":[\"PICKUP TRUCK - STANDARD\"],\"legendgroup\":\"PICKUP TRUCK - STANDARD\",\"line\":{\"color\":\"#B68100\",\"dash\":\"solid\"},\"marker\":{\"symbol\":\"circle\"},\"mode\":\"markers+lines\",\"name\":\"PICKUP TRUCK - STANDARD\",\"orientation\":\"v\",\"showlegend\":true,\"x\":[2005],\"xaxis\":\"x\",\"y\":[21.393700787401574],\"yaxis\":\"y\",\"type\":\"scatter\"},{\"hovertemplate\":\"color=STATION WAGON - MID-SIZE<br>animation_frame=2005<br>x=%{x}<br>y=%{y}<extra></extra>\",\"ids\":[\"STATION WAGON - MID-SIZE\"],\"legendgroup\":\"STATION WAGON - MID-SIZE\",\"line\":{\"color\":\"#750D86\",\"dash\":\"solid\"},\"marker\":{\"symbol\":\"circle\"},\"mode\":\"markers+lines\",\"name\":\"STATION WAGON - MID-SIZE\",\"orientation\":\"v\",\"showlegend\":true,\"x\":[2005],\"xaxis\":\"x\",\"y\":[28.210526315789473],\"yaxis\":\"y\",\"type\":\"scatter\"},{\"hovertemplate\":\"color=STATION WAGON - SMALL<br>animation_frame=2005<br>x=%{x}<br>y=%{y}<extra></extra>\",\"ids\":[\"STATION WAGON - SMALL\"],\"legendgroup\":\"STATION WAGON - SMALL\",\"line\":{\"color\":\"#EB663B\",\"dash\":\"solid\"},\"marker\":{\"symbol\":\"circle\"},\"mode\":\"markers+lines\",\"name\":\"STATION WAGON - SMALL\",\"orientation\":\"v\",\"showlegend\":true,\"x\":[2005],\"xaxis\":\"x\",\"y\":[30.814814814814813],\"yaxis\":\"y\",\"type\":\"scatter\"},{\"hovertemplate\":\"color=SUBCOMPACT<br>animation_frame=2005<br>x=%{x}<br>y=%{y}<extra></extra>\",\"ids\":[\"SUBCOMPACT\"],\"legendgroup\":\"SUBCOMPACT\",\"line\":{\"color\":\"#511CFB\",\"dash\":\"solid\"},\"marker\":{\"symbol\":\"circle\"},\"mode\":\"markers+lines\",\"name\":\"SUBCOMPACT\",\"orientation\":\"v\",\"showlegend\":true,\"x\":[2005],\"xaxis\":\"x\",\"y\":[29.82758620689655],\"yaxis\":\"y\",\"type\":\"scatter\"},{\"hovertemplate\":\"color=SUV<br>animation_frame=2005<br>x=%{x}<br>y=%{y}<extra></extra>\",\"ids\":[\"SUV\"],\"legendgroup\":\"SUV\",\"line\":{\"color\":\"#00A08B\",\"dash\":\"solid\"},\"marker\":{\"symbol\":\"circle\"},\"mode\":\"markers+lines\",\"name\":\"SUV\",\"orientation\":\"v\",\"showlegend\":true,\"x\":[2005],\"xaxis\":\"x\",\"y\":[23.0],\"yaxis\":\"y\",\"type\":\"scatter\"},{\"hovertemplate\":\"color=TWO-SEATER<br>animation_frame=2005<br>x=%{x}<br>y=%{y}<extra></extra>\",\"ids\":[\"TWO-SEATER\"],\"legendgroup\":\"TWO-SEATER\",\"line\":{\"color\":\"#FB00D1\",\"dash\":\"solid\"},\"marker\":{\"symbol\":\"circle\"},\"mode\":\"markers+lines\",\"name\":\"TWO-SEATER\",\"orientation\":\"v\",\"showlegend\":true,\"x\":[2005],\"xaxis\":\"x\",\"y\":[26.03846153846154],\"yaxis\":\"y\",\"type\":\"scatter\"},{\"hovertemplate\":\"color=VAN - CARGO<br>animation_frame=2005<br>x=%{x}<br>y=%{y}<extra></extra>\",\"ids\":[\"VAN - CARGO\"],\"legendgroup\":\"VAN - CARGO\",\"line\":{\"color\":\"#FC0080\",\"dash\":\"solid\"},\"marker\":{\"symbol\":\"circle\"},\"mode\":\"markers+lines\",\"name\":\"VAN - CARGO\",\"orientation\":\"v\",\"showlegend\":true,\"x\":[2005],\"xaxis\":\"x\",\"y\":[20.384615384615383],\"yaxis\":\"y\",\"type\":\"scatter\"},{\"hovertemplate\":\"color=VAN - PASSENGER<br>animation_frame=2005<br>x=%{x}<br>y=%{y}<extra></extra>\",\"ids\":[\"VAN - PASSENGER\"],\"legendgroup\":\"VAN - PASSENGER\",\"line\":{\"color\":\"#B2828D\",\"dash\":\"solid\"},\"marker\":{\"symbol\":\"circle\"},\"mode\":\"markers+lines\",\"name\":\"VAN - PASSENGER\",\"orientation\":\"v\",\"showlegend\":true,\"x\":[2005],\"xaxis\":\"x\",\"y\":[19.666666666666668],\"yaxis\":\"y\",\"type\":\"scatter\"}],\"name\":\"2005\"},{\"data\":[{\"hovertemplate\":\"color=COMPACT<br>animation_frame=2006<br>x=%{x}<br>y=%{y}<extra></extra>\",\"ids\":[\"COMPACT\"],\"legendgroup\":\"COMPACT\",\"line\":{\"color\":\"#2E91E5\",\"dash\":\"solid\"},\"marker\":{\"symbol\":\"circle\"},\"mode\":\"markers+lines\",\"name\":\"COMPACT\",\"orientation\":\"v\",\"showlegend\":true,\"x\":[2006],\"xaxis\":\"x\",\"y\":[31.233576642335766],\"yaxis\":\"y\",\"type\":\"scatter\"},{\"hovertemplate\":\"color=FULL-SIZE<br>animation_frame=2006<br>x=%{x}<br>y=%{y}<extra></extra>\",\"ids\":[\"FULL-SIZE\"],\"legendgroup\":\"FULL-SIZE\",\"line\":{\"color\":\"#E15F99\",\"dash\":\"solid\"},\"marker\":{\"symbol\":\"circle\"},\"mode\":\"markers+lines\",\"name\":\"FULL-SIZE\",\"orientation\":\"v\",\"showlegend\":true,\"x\":[2006],\"xaxis\":\"x\",\"y\":[24.625],\"yaxis\":\"y\",\"type\":\"scatter\"},{\"hovertemplate\":\"color=MID-SIZE<br>animation_frame=2006<br>x=%{x}<br>y=%{y}<extra></extra>\",\"ids\":[\"MID-SIZE\"],\"legendgroup\":\"MID-SIZE\",\"line\":{\"color\":\"#1CA71C\",\"dash\":\"solid\"},\"marker\":{\"symbol\":\"circle\"},\"mode\":\"markers+lines\",\"name\":\"MID-SIZE\",\"orientation\":\"v\",\"showlegend\":true,\"x\":[2006],\"xaxis\":\"x\",\"y\":[28.18918918918919],\"yaxis\":\"y\",\"type\":\"scatter\"},{\"hovertemplate\":\"color=MINICOMPACT<br>animation_frame=2006<br>x=%{x}<br>y=%{y}<extra></extra>\",\"ids\":[\"MINICOMPACT\"],\"legendgroup\":\"MINICOMPACT\",\"line\":{\"color\":\"#FB0D0D\",\"dash\":\"solid\"},\"marker\":{\"symbol\":\"circle\"},\"mode\":\"markers+lines\",\"name\":\"MINICOMPACT\",\"orientation\":\"v\",\"showlegend\":true,\"x\":[2006],\"xaxis\":\"x\",\"y\":[28.43243243243243],\"yaxis\":\"y\",\"type\":\"scatter\"},{\"hovertemplate\":\"color=MINIVAN<br>animation_frame=2006<br>x=%{x}<br>y=%{y}<extra></extra>\",\"ids\":[\"MINIVAN\"],\"legendgroup\":\"MINIVAN\",\"line\":{\"color\":\"#DA16FF\",\"dash\":\"solid\"},\"marker\":{\"symbol\":\"circle\"},\"mode\":\"markers+lines\",\"name\":\"MINIVAN\",\"orientation\":\"v\",\"showlegend\":true,\"x\":[2006],\"xaxis\":\"x\",\"y\":[24.714285714285715],\"yaxis\":\"y\",\"type\":\"scatter\"},{\"hovertemplate\":\"color=PICKUP TRUCK - STANDARD<br>animation_frame=2006<br>x=%{x}<br>y=%{y}<extra></extra>\",\"ids\":[\"PICKUP TRUCK - STANDARD\"],\"legendgroup\":\"PICKUP TRUCK - STANDARD\",\"line\":{\"color\":\"#B68100\",\"dash\":\"solid\"},\"marker\":{\"symbol\":\"circle\"},\"mode\":\"markers+lines\",\"name\":\"PICKUP TRUCK - STANDARD\",\"orientation\":\"v\",\"showlegend\":true,\"x\":[2006],\"xaxis\":\"x\",\"y\":[21.907801418439718],\"yaxis\":\"y\",\"type\":\"scatter\"},{\"hovertemplate\":\"color=STATION WAGON - MID-SIZE<br>animation_frame=2006<br>x=%{x}<br>y=%{y}<extra></extra>\",\"ids\":[\"STATION WAGON - MID-SIZE\"],\"legendgroup\":\"STATION WAGON - MID-SIZE\",\"line\":{\"color\":\"#750D86\",\"dash\":\"solid\"},\"marker\":{\"symbol\":\"circle\"},\"mode\":\"markers+lines\",\"name\":\"STATION WAGON - MID-SIZE\",\"orientation\":\"v\",\"showlegend\":true,\"x\":[2006],\"xaxis\":\"x\",\"y\":[28.035714285714285],\"yaxis\":\"y\",\"type\":\"scatter\"},{\"hovertemplate\":\"color=STATION WAGON - SMALL<br>animation_frame=2006<br>x=%{x}<br>y=%{y}<extra></extra>\",\"ids\":[\"STATION WAGON - SMALL\"],\"legendgroup\":\"STATION WAGON - SMALL\",\"line\":{\"color\":\"#EB663B\",\"dash\":\"solid\"},\"marker\":{\"symbol\":\"circle\"},\"mode\":\"markers+lines\",\"name\":\"STATION WAGON - SMALL\",\"orientation\":\"v\",\"showlegend\":true,\"x\":[2006],\"xaxis\":\"x\",\"y\":[31.735849056603772],\"yaxis\":\"y\",\"type\":\"scatter\"},{\"hovertemplate\":\"color=SUBCOMPACT<br>animation_frame=2006<br>x=%{x}<br>y=%{y}<extra></extra>\",\"ids\":[\"SUBCOMPACT\"],\"legendgroup\":\"SUBCOMPACT\",\"line\":{\"color\":\"#511CFB\",\"dash\":\"solid\"},\"marker\":{\"symbol\":\"circle\"},\"mode\":\"markers+lines\",\"name\":\"SUBCOMPACT\",\"orientation\":\"v\",\"showlegend\":true,\"x\":[2006],\"xaxis\":\"x\",\"y\":[29.743589743589745],\"yaxis\":\"y\",\"type\":\"scatter\"},{\"hovertemplate\":\"color=SUV<br>animation_frame=2006<br>x=%{x}<br>y=%{y}<extra></extra>\",\"ids\":[\"SUV\"],\"legendgroup\":\"SUV\",\"line\":{\"color\":\"#00A08B\",\"dash\":\"solid\"},\"marker\":{\"symbol\":\"circle\"},\"mode\":\"markers+lines\",\"name\":\"SUV\",\"orientation\":\"v\",\"showlegend\":true,\"x\":[2006],\"xaxis\":\"x\",\"y\":[23.755656108597286],\"yaxis\":\"y\",\"type\":\"scatter\"},{\"hovertemplate\":\"color=TWO-SEATER<br>animation_frame=2006<br>x=%{x}<br>y=%{y}<extra></extra>\",\"ids\":[\"TWO-SEATER\"],\"legendgroup\":\"TWO-SEATER\",\"line\":{\"color\":\"#FB00D1\",\"dash\":\"solid\"},\"marker\":{\"symbol\":\"circle\"},\"mode\":\"markers+lines\",\"name\":\"TWO-SEATER\",\"orientation\":\"v\",\"showlegend\":true,\"x\":[2006],\"xaxis\":\"x\",\"y\":[26.93877551020408],\"yaxis\":\"y\",\"type\":\"scatter\"},{\"hovertemplate\":\"color=VAN - CARGO<br>animation_frame=2006<br>x=%{x}<br>y=%{y}<extra></extra>\",\"ids\":[\"VAN - CARGO\"],\"legendgroup\":\"VAN - CARGO\",\"line\":{\"color\":\"#FC0080\",\"dash\":\"solid\"},\"marker\":{\"symbol\":\"circle\"},\"mode\":\"markers+lines\",\"name\":\"VAN - CARGO\",\"orientation\":\"v\",\"showlegend\":true,\"x\":[2006],\"xaxis\":\"x\",\"y\":[20.214285714285715],\"yaxis\":\"y\",\"type\":\"scatter\"},{\"hovertemplate\":\"color=VAN - PASSENGER<br>animation_frame=2006<br>x=%{x}<br>y=%{y}<extra></extra>\",\"ids\":[\"VAN - PASSENGER\"],\"legendgroup\":\"VAN - PASSENGER\",\"line\":{\"color\":\"#B2828D\",\"dash\":\"solid\"},\"marker\":{\"symbol\":\"circle\"},\"mode\":\"markers+lines\",\"name\":\"VAN - PASSENGER\",\"orientation\":\"v\",\"showlegend\":true,\"x\":[2006],\"xaxis\":\"x\",\"y\":[19.75],\"yaxis\":\"y\",\"type\":\"scatter\"}],\"name\":\"2006\"},{\"data\":[{\"hovertemplate\":\"color=COMPACT<br>animation_frame=2007<br>x=%{x}<br>y=%{y}<extra></extra>\",\"ids\":[\"COMPACT\"],\"legendgroup\":\"COMPACT\",\"line\":{\"color\":\"#2E91E5\",\"dash\":\"solid\"},\"marker\":{\"symbol\":\"circle\"},\"mode\":\"markers+lines\",\"name\":\"COMPACT\",\"orientation\":\"v\",\"showlegend\":true,\"x\":[2007],\"xaxis\":\"x\",\"y\":[30.25],\"yaxis\":\"y\",\"type\":\"scatter\"},{\"hovertemplate\":\"color=FULL-SIZE<br>animation_frame=2007<br>x=%{x}<br>y=%{y}<extra></extra>\",\"ids\":[\"FULL-SIZE\"],\"legendgroup\":\"FULL-SIZE\",\"line\":{\"color\":\"#E15F99\",\"dash\":\"solid\"},\"marker\":{\"symbol\":\"circle\"},\"mode\":\"markers+lines\",\"name\":\"FULL-SIZE\",\"orientation\":\"v\",\"showlegend\":true,\"x\":[2007],\"xaxis\":\"x\",\"y\":[24.462962962962962],\"yaxis\":\"y\",\"type\":\"scatter\"},{\"hovertemplate\":\"color=MID-SIZE<br>animation_frame=2007<br>x=%{x}<br>y=%{y}<extra></extra>\",\"ids\":[\"MID-SIZE\"],\"legendgroup\":\"MID-SIZE\",\"line\":{\"color\":\"#1CA71C\",\"dash\":\"solid\"},\"marker\":{\"symbol\":\"circle\"},\"mode\":\"markers+lines\",\"name\":\"MID-SIZE\",\"orientation\":\"v\",\"showlegend\":true,\"x\":[2007],\"xaxis\":\"x\",\"y\":[29.115107913669064],\"yaxis\":\"y\",\"type\":\"scatter\"},{\"hovertemplate\":\"color=MINICOMPACT<br>animation_frame=2007<br>x=%{x}<br>y=%{y}<extra></extra>\",\"ids\":[\"MINICOMPACT\"],\"legendgroup\":\"MINICOMPACT\",\"line\":{\"color\":\"#FB0D0D\",\"dash\":\"solid\"},\"marker\":{\"symbol\":\"circle\"},\"mode\":\"markers+lines\",\"name\":\"MINICOMPACT\",\"orientation\":\"v\",\"showlegend\":true,\"x\":[2007],\"xaxis\":\"x\",\"y\":[27.5531914893617],\"yaxis\":\"y\",\"type\":\"scatter\"},{\"hovertemplate\":\"color=MINIVAN<br>animation_frame=2007<br>x=%{x}<br>y=%{y}<extra></extra>\",\"ids\":[\"MINIVAN\"],\"legendgroup\":\"MINIVAN\",\"line\":{\"color\":\"#DA16FF\",\"dash\":\"solid\"},\"marker\":{\"symbol\":\"circle\"},\"mode\":\"markers+lines\",\"name\":\"MINIVAN\",\"orientation\":\"v\",\"showlegend\":true,\"x\":[2007],\"xaxis\":\"x\",\"y\":[24.08823529411765],\"yaxis\":\"y\",\"type\":\"scatter\"},{\"hovertemplate\":\"color=PICKUP TRUCK - STANDARD<br>animation_frame=2007<br>x=%{x}<br>y=%{y}<extra></extra>\",\"ids\":[\"PICKUP TRUCK - STANDARD\"],\"legendgroup\":\"PICKUP TRUCK - STANDARD\",\"line\":{\"color\":\"#B68100\",\"dash\":\"solid\"},\"marker\":{\"symbol\":\"circle\"},\"mode\":\"markers+lines\",\"name\":\"PICKUP TRUCK - STANDARD\",\"orientation\":\"v\",\"showlegend\":true,\"x\":[2007],\"xaxis\":\"x\",\"y\":[21.623376623376622],\"yaxis\":\"y\",\"type\":\"scatter\"},{\"hovertemplate\":\"color=STATION WAGON - MID-SIZE<br>animation_frame=2007<br>x=%{x}<br>y=%{y}<extra></extra>\",\"ids\":[\"STATION WAGON - MID-SIZE\"],\"legendgroup\":\"STATION WAGON - MID-SIZE\",\"line\":{\"color\":\"#750D86\",\"dash\":\"solid\"},\"marker\":{\"symbol\":\"circle\"},\"mode\":\"markers+lines\",\"name\":\"STATION WAGON - MID-SIZE\",\"orientation\":\"v\",\"showlegend\":true,\"x\":[2007],\"xaxis\":\"x\",\"y\":[28.625],\"yaxis\":\"y\",\"type\":\"scatter\"},{\"hovertemplate\":\"color=STATION WAGON - SMALL<br>animation_frame=2007<br>x=%{x}<br>y=%{y}<extra></extra>\",\"ids\":[\"STATION WAGON - SMALL\"],\"legendgroup\":\"STATION WAGON - SMALL\",\"line\":{\"color\":\"#EB663B\",\"dash\":\"solid\"},\"marker\":{\"symbol\":\"circle\"},\"mode\":\"markers+lines\",\"name\":\"STATION WAGON - SMALL\",\"orientation\":\"v\",\"showlegend\":true,\"x\":[2007],\"xaxis\":\"x\",\"y\":[31.59090909090909],\"yaxis\":\"y\",\"type\":\"scatter\"},{\"hovertemplate\":\"color=SUBCOMPACT<br>animation_frame=2007<br>x=%{x}<br>y=%{y}<extra></extra>\",\"ids\":[\"SUBCOMPACT\"],\"legendgroup\":\"SUBCOMPACT\",\"line\":{\"color\":\"#511CFB\",\"dash\":\"solid\"},\"marker\":{\"symbol\":\"circle\"},\"mode\":\"markers+lines\",\"name\":\"SUBCOMPACT\",\"orientation\":\"v\",\"showlegend\":true,\"x\":[2007],\"xaxis\":\"x\",\"y\":[29.50602409638554],\"yaxis\":\"y\",\"type\":\"scatter\"},{\"hovertemplate\":\"color=SUV<br>animation_frame=2007<br>x=%{x}<br>y=%{y}<extra></extra>\",\"ids\":[\"SUV\"],\"legendgroup\":\"SUV\",\"line\":{\"color\":\"#00A08B\",\"dash\":\"solid\"},\"marker\":{\"symbol\":\"circle\"},\"mode\":\"markers+lines\",\"name\":\"SUV\",\"orientation\":\"v\",\"showlegend\":true,\"x\":[2007],\"xaxis\":\"x\",\"y\":[24.748953974895397],\"yaxis\":\"y\",\"type\":\"scatter\"},{\"hovertemplate\":\"color=TWO-SEATER<br>animation_frame=2007<br>x=%{x}<br>y=%{y}<extra></extra>\",\"ids\":[\"TWO-SEATER\"],\"legendgroup\":\"TWO-SEATER\",\"line\":{\"color\":\"#FB00D1\",\"dash\":\"solid\"},\"marker\":{\"symbol\":\"circle\"},\"mode\":\"markers+lines\",\"name\":\"TWO-SEATER\",\"orientation\":\"v\",\"showlegend\":true,\"x\":[2007],\"xaxis\":\"x\",\"y\":[25.049180327868854],\"yaxis\":\"y\",\"type\":\"scatter\"},{\"hovertemplate\":\"color=VAN - CARGO<br>animation_frame=2007<br>x=%{x}<br>y=%{y}<extra></extra>\",\"ids\":[\"VAN - CARGO\"],\"legendgroup\":\"VAN - CARGO\",\"line\":{\"color\":\"#FC0080\",\"dash\":\"solid\"},\"marker\":{\"symbol\":\"circle\"},\"mode\":\"markers+lines\",\"name\":\"VAN - CARGO\",\"orientation\":\"v\",\"showlegend\":true,\"x\":[2007],\"xaxis\":\"x\",\"y\":[18.666666666666668],\"yaxis\":\"y\",\"type\":\"scatter\"},{\"hovertemplate\":\"color=VAN - PASSENGER<br>animation_frame=2007<br>x=%{x}<br>y=%{y}<extra></extra>\",\"ids\":[\"VAN - PASSENGER\"],\"legendgroup\":\"VAN - PASSENGER\",\"line\":{\"color\":\"#B2828D\",\"dash\":\"solid\"},\"marker\":{\"symbol\":\"circle\"},\"mode\":\"markers+lines\",\"name\":\"VAN - PASSENGER\",\"orientation\":\"v\",\"showlegend\":true,\"x\":[2007],\"xaxis\":\"x\",\"y\":[17.5],\"yaxis\":\"y\",\"type\":\"scatter\"},{\"hovertemplate\":\"color=SUV - STANDARD<br>animation_frame=2007<br>x=%{x}<br>y=%{y}<extra></extra>\",\"ids\":[\"SUV - STANDARD\"],\"legendgroup\":\"SUV - STANDARD\",\"line\":{\"color\":\"#6C7C32\",\"dash\":\"solid\"},\"marker\":{\"symbol\":\"circle\"},\"mode\":\"markers+lines\",\"name\":\"SUV - STANDARD\",\"orientation\":\"v\",\"showlegend\":true,\"x\":[2007],\"xaxis\":\"x\",\"y\":[20.0],\"yaxis\":\"y\",\"type\":\"scatter\"}],\"name\":\"2007\"},{\"data\":[{\"hovertemplate\":\"color=COMPACT<br>animation_frame=2008<br>x=%{x}<br>y=%{y}<extra></extra>\",\"ids\":[\"COMPACT\"],\"legendgroup\":\"COMPACT\",\"line\":{\"color\":\"#2E91E5\",\"dash\":\"solid\"},\"marker\":{\"symbol\":\"circle\"},\"mode\":\"markers+lines\",\"name\":\"COMPACT\",\"orientation\":\"v\",\"showlegend\":true,\"x\":[2008],\"xaxis\":\"x\",\"y\":[30.2027027027027],\"yaxis\":\"y\",\"type\":\"scatter\"},{\"hovertemplate\":\"color=FULL-SIZE<br>animation_frame=2008<br>x=%{x}<br>y=%{y}<extra></extra>\",\"ids\":[\"FULL-SIZE\"],\"legendgroup\":\"FULL-SIZE\",\"line\":{\"color\":\"#E15F99\",\"dash\":\"solid\"},\"marker\":{\"symbol\":\"circle\"},\"mode\":\"markers+lines\",\"name\":\"FULL-SIZE\",\"orientation\":\"v\",\"showlegend\":true,\"x\":[2008],\"xaxis\":\"x\",\"y\":[24.50793650793651],\"yaxis\":\"y\",\"type\":\"scatter\"},{\"hovertemplate\":\"color=MID-SIZE<br>animation_frame=2008<br>x=%{x}<br>y=%{y}<extra></extra>\",\"ids\":[\"MID-SIZE\"],\"legendgroup\":\"MID-SIZE\",\"line\":{\"color\":\"#1CA71C\",\"dash\":\"solid\"},\"marker\":{\"symbol\":\"circle\"},\"mode\":\"markers+lines\",\"name\":\"MID-SIZE\",\"orientation\":\"v\",\"showlegend\":true,\"x\":[2008],\"xaxis\":\"x\",\"y\":[28.970149253731343],\"yaxis\":\"y\",\"type\":\"scatter\"},{\"hovertemplate\":\"color=MINICOMPACT<br>animation_frame=2008<br>x=%{x}<br>y=%{y}<extra></extra>\",\"ids\":[\"MINICOMPACT\"],\"legendgroup\":\"MINICOMPACT\",\"line\":{\"color\":\"#FB0D0D\",\"dash\":\"solid\"},\"marker\":{\"symbol\":\"circle\"},\"mode\":\"markers+lines\",\"name\":\"MINICOMPACT\",\"orientation\":\"v\",\"showlegend\":true,\"x\":[2008],\"xaxis\":\"x\",\"y\":[27.897959183673468],\"yaxis\":\"y\",\"type\":\"scatter\"},{\"hovertemplate\":\"color=MINIVAN<br>animation_frame=2008<br>x=%{x}<br>y=%{y}<extra></extra>\",\"ids\":[\"MINIVAN\"],\"legendgroup\":\"MINIVAN\",\"line\":{\"color\":\"#DA16FF\",\"dash\":\"solid\"},\"marker\":{\"symbol\":\"circle\"},\"mode\":\"markers+lines\",\"name\":\"MINIVAN\",\"orientation\":\"v\",\"showlegend\":true,\"x\":[2008],\"xaxis\":\"x\",\"y\":[25.0],\"yaxis\":\"y\",\"type\":\"scatter\"},{\"hovertemplate\":\"color=PICKUP TRUCK - SMALL<br>animation_frame=2008<br>x=%{x}<br>y=%{y}<extra></extra>\",\"ids\":[\"PICKUP TRUCK - SMALL\"],\"legendgroup\":\"PICKUP TRUCK - SMALL\",\"line\":{\"color\":\"#222A2A\",\"dash\":\"solid\"},\"marker\":{\"symbol\":\"circle\"},\"mode\":\"markers+lines\",\"name\":\"PICKUP TRUCK - SMALL\",\"orientation\":\"v\",\"showlegend\":true,\"x\":[2008],\"xaxis\":\"x\",\"y\":[24.76923076923077],\"yaxis\":\"y\",\"type\":\"scatter\"},{\"hovertemplate\":\"color=PICKUP TRUCK - STANDARD<br>animation_frame=2008<br>x=%{x}<br>y=%{y}<extra></extra>\",\"ids\":[\"PICKUP TRUCK - STANDARD\"],\"legendgroup\":\"PICKUP TRUCK - STANDARD\",\"line\":{\"color\":\"#B68100\",\"dash\":\"solid\"},\"marker\":{\"symbol\":\"circle\"},\"mode\":\"markers+lines\",\"name\":\"PICKUP TRUCK - STANDARD\",\"orientation\":\"v\",\"showlegend\":true,\"x\":[2008],\"xaxis\":\"x\",\"y\":[20.09722222222222],\"yaxis\":\"y\",\"type\":\"scatter\"},{\"hovertemplate\":\"color=STATION WAGON - MID-SIZE<br>animation_frame=2008<br>x=%{x}<br>y=%{y}<extra></extra>\",\"ids\":[\"STATION WAGON - MID-SIZE\"],\"legendgroup\":\"STATION WAGON - MID-SIZE\",\"line\":{\"color\":\"#750D86\",\"dash\":\"solid\"},\"marker\":{\"symbol\":\"circle\"},\"mode\":\"markers+lines\",\"name\":\"STATION WAGON - MID-SIZE\",\"orientation\":\"v\",\"showlegend\":true,\"x\":[2008],\"xaxis\":\"x\",\"y\":[28.5],\"yaxis\":\"y\",\"type\":\"scatter\"},{\"hovertemplate\":\"color=STATION WAGON - SMALL<br>animation_frame=2008<br>x=%{x}<br>y=%{y}<extra></extra>\",\"ids\":[\"STATION WAGON - SMALL\"],\"legendgroup\":\"STATION WAGON - SMALL\",\"line\":{\"color\":\"#EB663B\",\"dash\":\"solid\"},\"marker\":{\"symbol\":\"circle\"},\"mode\":\"markers+lines\",\"name\":\"STATION WAGON - SMALL\",\"orientation\":\"v\",\"showlegend\":true,\"x\":[2008],\"xaxis\":\"x\",\"y\":[31.58139534883721],\"yaxis\":\"y\",\"type\":\"scatter\"},{\"hovertemplate\":\"color=SUBCOMPACT<br>animation_frame=2008<br>x=%{x}<br>y=%{y}<extra></extra>\",\"ids\":[\"SUBCOMPACT\"],\"legendgroup\":\"SUBCOMPACT\",\"line\":{\"color\":\"#511CFB\",\"dash\":\"solid\"},\"marker\":{\"symbol\":\"circle\"},\"mode\":\"markers+lines\",\"name\":\"SUBCOMPACT\",\"orientation\":\"v\",\"showlegend\":true,\"x\":[2008],\"xaxis\":\"x\",\"y\":[29.86],\"yaxis\":\"y\",\"type\":\"scatter\"},{\"hovertemplate\":\"color=SUV<br>animation_frame=2008<br>x=%{x}<br>y=%{y}<extra></extra>\",\"ids\":[\"SUV\"],\"legendgroup\":\"SUV\",\"line\":{\"color\":\"#00A08B\",\"dash\":\"solid\"},\"marker\":{\"symbol\":\"circle\"},\"mode\":\"markers+lines\",\"name\":\"SUV\",\"orientation\":\"v\",\"showlegend\":true,\"x\":[2008],\"xaxis\":\"x\",\"y\":[24.95505617977528],\"yaxis\":\"y\",\"type\":\"scatter\"},{\"hovertemplate\":\"color=TWO-SEATER<br>animation_frame=2008<br>x=%{x}<br>y=%{y}<extra></extra>\",\"ids\":[\"TWO-SEATER\"],\"legendgroup\":\"TWO-SEATER\",\"line\":{\"color\":\"#FB00D1\",\"dash\":\"solid\"},\"marker\":{\"symbol\":\"circle\"},\"mode\":\"markers+lines\",\"name\":\"TWO-SEATER\",\"orientation\":\"v\",\"showlegend\":true,\"x\":[2008],\"xaxis\":\"x\",\"y\":[25.575342465753426],\"yaxis\":\"y\",\"type\":\"scatter\"},{\"hovertemplate\":\"color=VAN - CARGO<br>animation_frame=2008<br>x=%{x}<br>y=%{y}<extra></extra>\",\"ids\":[\"VAN - CARGO\"],\"legendgroup\":\"VAN - CARGO\",\"line\":{\"color\":\"#FC0080\",\"dash\":\"solid\"},\"marker\":{\"symbol\":\"circle\"},\"mode\":\"markers+lines\",\"name\":\"VAN - CARGO\",\"orientation\":\"v\",\"showlegend\":true,\"x\":[2008],\"xaxis\":\"x\",\"y\":[18.53846153846154],\"yaxis\":\"y\",\"type\":\"scatter\"},{\"hovertemplate\":\"color=VAN - PASSENGER<br>animation_frame=2008<br>x=%{x}<br>y=%{y}<extra></extra>\",\"ids\":[\"VAN - PASSENGER\"],\"legendgroup\":\"VAN - PASSENGER\",\"line\":{\"color\":\"#B2828D\",\"dash\":\"solid\"},\"marker\":{\"symbol\":\"circle\"},\"mode\":\"markers+lines\",\"name\":\"VAN - PASSENGER\",\"orientation\":\"v\",\"showlegend\":true,\"x\":[2008],\"xaxis\":\"x\",\"y\":[17.666666666666668],\"yaxis\":\"y\",\"type\":\"scatter\"}],\"name\":\"2008\"},{\"data\":[{\"hovertemplate\":\"color=COMPACT<br>animation_frame=2009<br>x=%{x}<br>y=%{y}<extra></extra>\",\"ids\":[\"COMPACT\"],\"legendgroup\":\"COMPACT\",\"line\":{\"color\":\"#2E91E5\",\"dash\":\"solid\"},\"marker\":{\"symbol\":\"circle\"},\"mode\":\"markers+lines\",\"name\":\"COMPACT\",\"orientation\":\"v\",\"showlegend\":true,\"x\":[2009],\"xaxis\":\"x\",\"y\":[30.326666666666668],\"yaxis\":\"y\",\"type\":\"scatter\"},{\"hovertemplate\":\"color=FULL-SIZE<br>animation_frame=2009<br>x=%{x}<br>y=%{y}<extra></extra>\",\"ids\":[\"FULL-SIZE\"],\"legendgroup\":\"FULL-SIZE\",\"line\":{\"color\":\"#E15F99\",\"dash\":\"solid\"},\"marker\":{\"symbol\":\"circle\"},\"mode\":\"markers+lines\",\"name\":\"FULL-SIZE\",\"orientation\":\"v\",\"showlegend\":true,\"x\":[2009],\"xaxis\":\"x\",\"y\":[24.676470588235293],\"yaxis\":\"y\",\"type\":\"scatter\"},{\"hovertemplate\":\"color=MID-SIZE<br>animation_frame=2009<br>x=%{x}<br>y=%{y}<extra></extra>\",\"ids\":[\"MID-SIZE\"],\"legendgroup\":\"MID-SIZE\",\"line\":{\"color\":\"#1CA71C\",\"dash\":\"solid\"},\"marker\":{\"symbol\":\"circle\"},\"mode\":\"markers+lines\",\"name\":\"MID-SIZE\",\"orientation\":\"v\",\"showlegend\":true,\"x\":[2009],\"xaxis\":\"x\",\"y\":[29.024],\"yaxis\":\"y\",\"type\":\"scatter\"},{\"hovertemplate\":\"color=MINICOMPACT<br>animation_frame=2009<br>x=%{x}<br>y=%{y}<extra></extra>\",\"ids\":[\"MINICOMPACT\"],\"legendgroup\":\"MINICOMPACT\",\"line\":{\"color\":\"#FB0D0D\",\"dash\":\"solid\"},\"marker\":{\"symbol\":\"circle\"},\"mode\":\"markers+lines\",\"name\":\"MINICOMPACT\",\"orientation\":\"v\",\"showlegend\":true,\"x\":[2009],\"xaxis\":\"x\",\"y\":[31.023255813953487],\"yaxis\":\"y\",\"type\":\"scatter\"},{\"hovertemplate\":\"color=MINIVAN<br>animation_frame=2009<br>x=%{x}<br>y=%{y}<extra></extra>\",\"ids\":[\"MINIVAN\"],\"legendgroup\":\"MINIVAN\",\"line\":{\"color\":\"#DA16FF\",\"dash\":\"solid\"},\"marker\":{\"symbol\":\"circle\"},\"mode\":\"markers+lines\",\"name\":\"MINIVAN\",\"orientation\":\"v\",\"showlegend\":true,\"x\":[2009],\"xaxis\":\"x\",\"y\":[26.0],\"yaxis\":\"y\",\"type\":\"scatter\"},{\"hovertemplate\":\"color=PICKUP TRUCK - SMALL<br>animation_frame=2009<br>x=%{x}<br>y=%{y}<extra></extra>\",\"ids\":[\"PICKUP TRUCK - SMALL\"],\"legendgroup\":\"PICKUP TRUCK - SMALL\",\"line\":{\"color\":\"#222A2A\",\"dash\":\"solid\"},\"marker\":{\"symbol\":\"circle\"},\"mode\":\"markers+lines\",\"name\":\"PICKUP TRUCK - SMALL\",\"orientation\":\"v\",\"showlegend\":true,\"x\":[2009],\"xaxis\":\"x\",\"y\":[25.338983050847457],\"yaxis\":\"y\",\"type\":\"scatter\"},{\"hovertemplate\":\"color=PICKUP TRUCK - STANDARD<br>animation_frame=2009<br>x=%{x}<br>y=%{y}<extra></extra>\",\"ids\":[\"PICKUP TRUCK - STANDARD\"],\"legendgroup\":\"PICKUP TRUCK - STANDARD\",\"line\":{\"color\":\"#B68100\",\"dash\":\"solid\"},\"marker\":{\"symbol\":\"circle\"},\"mode\":\"markers+lines\",\"name\":\"PICKUP TRUCK - STANDARD\",\"orientation\":\"v\",\"showlegend\":true,\"x\":[2009],\"xaxis\":\"x\",\"y\":[20.54736842105263],\"yaxis\":\"y\",\"type\":\"scatter\"},{\"hovertemplate\":\"color=STATION WAGON - MID-SIZE<br>animation_frame=2009<br>x=%{x}<br>y=%{y}<extra></extra>\",\"ids\":[\"STATION WAGON - MID-SIZE\"],\"legendgroup\":\"STATION WAGON - MID-SIZE\",\"line\":{\"color\":\"#750D86\",\"dash\":\"solid\"},\"marker\":{\"symbol\":\"circle\"},\"mode\":\"markers+lines\",\"name\":\"STATION WAGON - MID-SIZE\",\"orientation\":\"v\",\"showlegend\":true,\"x\":[2009],\"xaxis\":\"x\",\"y\":[28.53846153846154],\"yaxis\":\"y\",\"type\":\"scatter\"},{\"hovertemplate\":\"color=STATION WAGON - SMALL<br>animation_frame=2009<br>x=%{x}<br>y=%{y}<extra></extra>\",\"ids\":[\"STATION WAGON - SMALL\"],\"legendgroup\":\"STATION WAGON - SMALL\",\"line\":{\"color\":\"#EB663B\",\"dash\":\"solid\"},\"marker\":{\"symbol\":\"circle\"},\"mode\":\"markers+lines\",\"name\":\"STATION WAGON - SMALL\",\"orientation\":\"v\",\"showlegend\":true,\"x\":[2009],\"xaxis\":\"x\",\"y\":[32.351851851851855],\"yaxis\":\"y\",\"type\":\"scatter\"},{\"hovertemplate\":\"color=SUBCOMPACT<br>animation_frame=2009<br>x=%{x}<br>y=%{y}<extra></extra>\",\"ids\":[\"SUBCOMPACT\"],\"legendgroup\":\"SUBCOMPACT\",\"line\":{\"color\":\"#511CFB\",\"dash\":\"solid\"},\"marker\":{\"symbol\":\"circle\"},\"mode\":\"markers+lines\",\"name\":\"SUBCOMPACT\",\"orientation\":\"v\",\"showlegend\":true,\"x\":[2009],\"xaxis\":\"x\",\"y\":[29.98989898989899],\"yaxis\":\"y\",\"type\":\"scatter\"},{\"hovertemplate\":\"color=SUV<br>animation_frame=2009<br>x=%{x}<br>y=%{y}<extra></extra>\",\"ids\":[\"SUV\"],\"legendgroup\":\"SUV\",\"line\":{\"color\":\"#00A08B\",\"dash\":\"solid\"},\"marker\":{\"symbol\":\"circle\"},\"mode\":\"markers+lines\",\"name\":\"SUV\",\"orientation\":\"v\",\"showlegend\":true,\"x\":[2009],\"xaxis\":\"x\",\"y\":[25.100746268656717],\"yaxis\":\"y\",\"type\":\"scatter\"},{\"hovertemplate\":\"color=TWO-SEATER<br>animation_frame=2009<br>x=%{x}<br>y=%{y}<extra></extra>\",\"ids\":[\"TWO-SEATER\"],\"legendgroup\":\"TWO-SEATER\",\"line\":{\"color\":\"#FB00D1\",\"dash\":\"solid\"},\"marker\":{\"symbol\":\"circle\"},\"mode\":\"markers+lines\",\"name\":\"TWO-SEATER\",\"orientation\":\"v\",\"showlegend\":true,\"x\":[2009],\"xaxis\":\"x\",\"y\":[24.109375],\"yaxis\":\"y\",\"type\":\"scatter\"},{\"hovertemplate\":\"color=VAN - CARGO<br>animation_frame=2009<br>x=%{x}<br>y=%{y}<extra></extra>\",\"ids\":[\"VAN - CARGO\"],\"legendgroup\":\"VAN - CARGO\",\"line\":{\"color\":\"#FC0080\",\"dash\":\"solid\"},\"marker\":{\"symbol\":\"circle\"},\"mode\":\"markers+lines\",\"name\":\"VAN - CARGO\",\"orientation\":\"v\",\"showlegend\":true,\"x\":[2009],\"xaxis\":\"x\",\"y\":[18.53846153846154],\"yaxis\":\"y\",\"type\":\"scatter\"},{\"hovertemplate\":\"color=VAN - PASSENGER<br>animation_frame=2009<br>x=%{x}<br>y=%{y}<extra></extra>\",\"ids\":[\"VAN - PASSENGER\"],\"legendgroup\":\"VAN - PASSENGER\",\"line\":{\"color\":\"#B2828D\",\"dash\":\"solid\"},\"marker\":{\"symbol\":\"circle\"},\"mode\":\"markers+lines\",\"name\":\"VAN - PASSENGER\",\"orientation\":\"v\",\"showlegend\":true,\"x\":[2009],\"xaxis\":\"x\",\"y\":[17.666666666666668],\"yaxis\":\"y\",\"type\":\"scatter\"}],\"name\":\"2009\"},{\"data\":[{\"hovertemplate\":\"color=COMPACT<br>animation_frame=2010<br>x=%{x}<br>y=%{y}<extra></extra>\",\"ids\":[\"COMPACT\"],\"legendgroup\":\"COMPACT\",\"line\":{\"color\":\"#2E91E5\",\"dash\":\"solid\"},\"marker\":{\"symbol\":\"circle\"},\"mode\":\"markers+lines\",\"name\":\"COMPACT\",\"orientation\":\"v\",\"showlegend\":true,\"x\":[2010],\"xaxis\":\"x\",\"y\":[32.17142857142857],\"yaxis\":\"y\",\"type\":\"scatter\"},{\"hovertemplate\":\"color=FULL-SIZE<br>animation_frame=2010<br>x=%{x}<br>y=%{y}<extra></extra>\",\"ids\":[\"FULL-SIZE\"],\"legendgroup\":\"FULL-SIZE\",\"line\":{\"color\":\"#E15F99\",\"dash\":\"solid\"},\"marker\":{\"symbol\":\"circle\"},\"mode\":\"markers+lines\",\"name\":\"FULL-SIZE\",\"orientation\":\"v\",\"showlegend\":true,\"x\":[2010],\"xaxis\":\"x\",\"y\":[24.441558441558442],\"yaxis\":\"y\",\"type\":\"scatter\"},{\"hovertemplate\":\"color=MID-SIZE<br>animation_frame=2010<br>x=%{x}<br>y=%{y}<extra></extra>\",\"ids\":[\"MID-SIZE\"],\"legendgroup\":\"MID-SIZE\",\"line\":{\"color\":\"#1CA71C\",\"dash\":\"solid\"},\"marker\":{\"symbol\":\"circle\"},\"mode\":\"markers+lines\",\"name\":\"MID-SIZE\",\"orientation\":\"v\",\"showlegend\":true,\"x\":[2010],\"xaxis\":\"x\",\"y\":[29.95],\"yaxis\":\"y\",\"type\":\"scatter\"},{\"hovertemplate\":\"color=MINICOMPACT<br>animation_frame=2010<br>x=%{x}<br>y=%{y}<extra></extra>\",\"ids\":[\"MINICOMPACT\"],\"legendgroup\":\"MINICOMPACT\",\"line\":{\"color\":\"#FB0D0D\",\"dash\":\"solid\"},\"marker\":{\"symbol\":\"circle\"},\"mode\":\"markers+lines\",\"name\":\"MINICOMPACT\",\"orientation\":\"v\",\"showlegend\":true,\"x\":[2010],\"xaxis\":\"x\",\"y\":[30.4390243902439],\"yaxis\":\"y\",\"type\":\"scatter\"},{\"hovertemplate\":\"color=MINIVAN<br>animation_frame=2010<br>x=%{x}<br>y=%{y}<extra></extra>\",\"ids\":[\"MINIVAN\"],\"legendgroup\":\"MINIVAN\",\"line\":{\"color\":\"#DA16FF\",\"dash\":\"solid\"},\"marker\":{\"symbol\":\"circle\"},\"mode\":\"markers+lines\",\"name\":\"MINIVAN\",\"orientation\":\"v\",\"showlegend\":true,\"x\":[2010],\"xaxis\":\"x\",\"y\":[26.142857142857142],\"yaxis\":\"y\",\"type\":\"scatter\"},{\"hovertemplate\":\"color=PICKUP TRUCK - SMALL<br>animation_frame=2010<br>x=%{x}<br>y=%{y}<extra></extra>\",\"ids\":[\"PICKUP TRUCK - SMALL\"],\"legendgroup\":\"PICKUP TRUCK - SMALL\",\"line\":{\"color\":\"#222A2A\",\"dash\":\"solid\"},\"marker\":{\"symbol\":\"circle\"},\"mode\":\"markers+lines\",\"name\":\"PICKUP TRUCK - SMALL\",\"orientation\":\"v\",\"showlegend\":true,\"x\":[2010],\"xaxis\":\"x\",\"y\":[25.48148148148148],\"yaxis\":\"y\",\"type\":\"scatter\"},{\"hovertemplate\":\"color=PICKUP TRUCK - STANDARD<br>animation_frame=2010<br>x=%{x}<br>y=%{y}<extra></extra>\",\"ids\":[\"PICKUP TRUCK - STANDARD\"],\"legendgroup\":\"PICKUP TRUCK - STANDARD\",\"line\":{\"color\":\"#B68100\",\"dash\":\"solid\"},\"marker\":{\"symbol\":\"circle\"},\"mode\":\"markers+lines\",\"name\":\"PICKUP TRUCK - STANDARD\",\"orientation\":\"v\",\"showlegend\":true,\"x\":[2010],\"xaxis\":\"x\",\"y\":[20.054794520547944],\"yaxis\":\"y\",\"type\":\"scatter\"},{\"hovertemplate\":\"color=STATION WAGON - MID-SIZE<br>animation_frame=2010<br>x=%{x}<br>y=%{y}<extra></extra>\",\"ids\":[\"STATION WAGON - MID-SIZE\"],\"legendgroup\":\"STATION WAGON - MID-SIZE\",\"line\":{\"color\":\"#750D86\",\"dash\":\"solid\"},\"marker\":{\"symbol\":\"circle\"},\"mode\":\"markers+lines\",\"name\":\"STATION WAGON - MID-SIZE\",\"orientation\":\"v\",\"showlegend\":true,\"x\":[2010],\"xaxis\":\"x\",\"y\":[28.88888888888889],\"yaxis\":\"y\",\"type\":\"scatter\"},{\"hovertemplate\":\"color=STATION WAGON - SMALL<br>animation_frame=2010<br>x=%{x}<br>y=%{y}<extra></extra>\",\"ids\":[\"STATION WAGON - SMALL\"],\"legendgroup\":\"STATION WAGON - SMALL\",\"line\":{\"color\":\"#EB663B\",\"dash\":\"solid\"},\"marker\":{\"symbol\":\"circle\"},\"mode\":\"markers+lines\",\"name\":\"STATION WAGON - SMALL\",\"orientation\":\"v\",\"showlegend\":true,\"x\":[2010],\"xaxis\":\"x\",\"y\":[33.56666666666667],\"yaxis\":\"y\",\"type\":\"scatter\"},{\"hovertemplate\":\"color=SUBCOMPACT<br>animation_frame=2010<br>x=%{x}<br>y=%{y}<extra></extra>\",\"ids\":[\"SUBCOMPACT\"],\"legendgroup\":\"SUBCOMPACT\",\"line\":{\"color\":\"#511CFB\",\"dash\":\"solid\"},\"marker\":{\"symbol\":\"circle\"},\"mode\":\"markers+lines\",\"name\":\"SUBCOMPACT\",\"orientation\":\"v\",\"showlegend\":true,\"x\":[2010],\"xaxis\":\"x\",\"y\":[30.510204081632654],\"yaxis\":\"y\",\"type\":\"scatter\"},{\"hovertemplate\":\"color=SUV<br>animation_frame=2010<br>x=%{x}<br>y=%{y}<extra></extra>\",\"ids\":[\"SUV\"],\"legendgroup\":\"SUV\",\"line\":{\"color\":\"#00A08B\",\"dash\":\"solid\"},\"marker\":{\"symbol\":\"circle\"},\"mode\":\"markers+lines\",\"name\":\"SUV\",\"orientation\":\"v\",\"showlegend\":true,\"x\":[2010],\"xaxis\":\"x\",\"y\":[26.417670682730925],\"yaxis\":\"y\",\"type\":\"scatter\"},{\"hovertemplate\":\"color=TWO-SEATER<br>animation_frame=2010<br>x=%{x}<br>y=%{y}<extra></extra>\",\"ids\":[\"TWO-SEATER\"],\"legendgroup\":\"TWO-SEATER\",\"line\":{\"color\":\"#FB00D1\",\"dash\":\"solid\"},\"marker\":{\"symbol\":\"circle\"},\"mode\":\"markers+lines\",\"name\":\"TWO-SEATER\",\"orientation\":\"v\",\"showlegend\":true,\"x\":[2010],\"xaxis\":\"x\",\"y\":[25.16949152542373],\"yaxis\":\"y\",\"type\":\"scatter\"},{\"hovertemplate\":\"color=VAN - CARGO<br>animation_frame=2010<br>x=%{x}<br>y=%{y}<extra></extra>\",\"ids\":[\"VAN - CARGO\"],\"legendgroup\":\"VAN - CARGO\",\"line\":{\"color\":\"#FC0080\",\"dash\":\"solid\"},\"marker\":{\"symbol\":\"circle\"},\"mode\":\"markers+lines\",\"name\":\"VAN - CARGO\",\"orientation\":\"v\",\"showlegend\":true,\"x\":[2010],\"xaxis\":\"x\",\"y\":[17.666666666666668],\"yaxis\":\"y\",\"type\":\"scatter\"},{\"hovertemplate\":\"color=VAN - PASSENGER<br>animation_frame=2010<br>x=%{x}<br>y=%{y}<extra></extra>\",\"ids\":[\"VAN - PASSENGER\"],\"legendgroup\":\"VAN - PASSENGER\",\"line\":{\"color\":\"#B2828D\",\"dash\":\"solid\"},\"marker\":{\"symbol\":\"circle\"},\"mode\":\"markers+lines\",\"name\":\"VAN - PASSENGER\",\"orientation\":\"v\",\"showlegend\":true,\"x\":[2010],\"xaxis\":\"x\",\"y\":[16.75],\"yaxis\":\"y\",\"type\":\"scatter\"},{\"hovertemplate\":\"color=SPECIAL PURPOSE VEHICLE<br>animation_frame=2010<br>x=%{x}<br>y=%{y}<extra></extra>\",\"ids\":[\"SPECIAL PURPOSE VEHICLE\"],\"legendgroup\":\"SPECIAL PURPOSE VEHICLE\",\"line\":{\"color\":\"#778AAE\",\"dash\":\"solid\"},\"marker\":{\"symbol\":\"circle\"},\"mode\":\"markers+lines\",\"name\":\"SPECIAL PURPOSE VEHICLE\",\"orientation\":\"v\",\"showlegend\":true,\"x\":[2010],\"xaxis\":\"x\",\"y\":[32.0],\"yaxis\":\"y\",\"type\":\"scatter\"}],\"name\":\"2010\"},{\"data\":[{\"hovertemplate\":\"color=COMPACT<br>animation_frame=2011<br>x=%{x}<br>y=%{y}<extra></extra>\",\"ids\":[\"COMPACT\"],\"legendgroup\":\"COMPACT\",\"line\":{\"color\":\"#2E91E5\",\"dash\":\"solid\"},\"marker\":{\"symbol\":\"circle\"},\"mode\":\"markers+lines\",\"name\":\"COMPACT\",\"orientation\":\"v\",\"showlegend\":true,\"x\":[2011],\"xaxis\":\"x\",\"y\":[33.653225806451616],\"yaxis\":\"y\",\"type\":\"scatter\"},{\"hovertemplate\":\"color=FULL-SIZE<br>animation_frame=2011<br>x=%{x}<br>y=%{y}<extra></extra>\",\"ids\":[\"FULL-SIZE\"],\"legendgroup\":\"FULL-SIZE\",\"line\":{\"color\":\"#E15F99\",\"dash\":\"solid\"},\"marker\":{\"symbol\":\"circle\"},\"mode\":\"markers+lines\",\"name\":\"FULL-SIZE\",\"orientation\":\"v\",\"showlegend\":true,\"x\":[2011],\"xaxis\":\"x\",\"y\":[25.08450704225352],\"yaxis\":\"y\",\"type\":\"scatter\"},{\"hovertemplate\":\"color=MID-SIZE<br>animation_frame=2011<br>x=%{x}<br>y=%{y}<extra></extra>\",\"ids\":[\"MID-SIZE\"],\"legendgroup\":\"MID-SIZE\",\"line\":{\"color\":\"#1CA71C\",\"dash\":\"solid\"},\"marker\":{\"symbol\":\"circle\"},\"mode\":\"markers+lines\",\"name\":\"MID-SIZE\",\"orientation\":\"v\",\"showlegend\":true,\"x\":[2011],\"xaxis\":\"x\",\"y\":[31.96969696969697],\"yaxis\":\"y\",\"type\":\"scatter\"},{\"hovertemplate\":\"color=MINICOMPACT<br>animation_frame=2011<br>x=%{x}<br>y=%{y}<extra></extra>\",\"ids\":[\"MINICOMPACT\"],\"legendgroup\":\"MINICOMPACT\",\"line\":{\"color\":\"#FB0D0D\",\"dash\":\"solid\"},\"marker\":{\"symbol\":\"circle\"},\"mode\":\"markers+lines\",\"name\":\"MINICOMPACT\",\"orientation\":\"v\",\"showlegend\":true,\"x\":[2011],\"xaxis\":\"x\",\"y\":[30.169811320754718],\"yaxis\":\"y\",\"type\":\"scatter\"},{\"hovertemplate\":\"color=MINIVAN<br>animation_frame=2011<br>x=%{x}<br>y=%{y}<extra></extra>\",\"ids\":[\"MINIVAN\"],\"legendgroup\":\"MINIVAN\",\"line\":{\"color\":\"#DA16FF\",\"dash\":\"solid\"},\"marker\":{\"symbol\":\"circle\"},\"mode\":\"markers+lines\",\"name\":\"MINIVAN\",\"orientation\":\"v\",\"showlegend\":true,\"x\":[2011],\"xaxis\":\"x\",\"y\":[25.5],\"yaxis\":\"y\",\"type\":\"scatter\"},{\"hovertemplate\":\"color=PICKUP TRUCK - SMALL<br>animation_frame=2011<br>x=%{x}<br>y=%{y}<extra></extra>\",\"ids\":[\"PICKUP TRUCK - SMALL\"],\"legendgroup\":\"PICKUP TRUCK - SMALL\",\"line\":{\"color\":\"#222A2A\",\"dash\":\"solid\"},\"marker\":{\"symbol\":\"circle\"},\"mode\":\"markers+lines\",\"name\":\"PICKUP TRUCK - SMALL\",\"orientation\":\"v\",\"showlegend\":true,\"x\":[2011],\"xaxis\":\"x\",\"y\":[25.529411764705884],\"yaxis\":\"y\",\"type\":\"scatter\"},{\"hovertemplate\":\"color=PICKUP TRUCK - STANDARD<br>animation_frame=2011<br>x=%{x}<br>y=%{y}<extra></extra>\",\"ids\":[\"PICKUP TRUCK - STANDARD\"],\"legendgroup\":\"PICKUP TRUCK - STANDARD\",\"line\":{\"color\":\"#B68100\",\"dash\":\"solid\"},\"marker\":{\"symbol\":\"circle\"},\"mode\":\"markers+lines\",\"name\":\"PICKUP TRUCK - STANDARD\",\"orientation\":\"v\",\"showlegend\":true,\"x\":[2011],\"xaxis\":\"x\",\"y\":[20.270588235294117],\"yaxis\":\"y\",\"type\":\"scatter\"},{\"hovertemplate\":\"color=STATION WAGON - MID-SIZE<br>animation_frame=2011<br>x=%{x}<br>y=%{y}<extra></extra>\",\"ids\":[\"STATION WAGON - MID-SIZE\"],\"legendgroup\":\"STATION WAGON - MID-SIZE\",\"line\":{\"color\":\"#750D86\",\"dash\":\"solid\"},\"marker\":{\"symbol\":\"circle\"},\"mode\":\"markers+lines\",\"name\":\"STATION WAGON - MID-SIZE\",\"orientation\":\"v\",\"showlegend\":true,\"x\":[2011],\"xaxis\":\"x\",\"y\":[28.5],\"yaxis\":\"y\",\"type\":\"scatter\"},{\"hovertemplate\":\"color=STATION WAGON - SMALL<br>animation_frame=2011<br>x=%{x}<br>y=%{y}<extra></extra>\",\"ids\":[\"STATION WAGON - SMALL\"],\"legendgroup\":\"STATION WAGON - SMALL\",\"line\":{\"color\":\"#EB663B\",\"dash\":\"solid\"},\"marker\":{\"symbol\":\"circle\"},\"mode\":\"markers+lines\",\"name\":\"STATION WAGON - SMALL\",\"orientation\":\"v\",\"showlegend\":true,\"x\":[2011],\"xaxis\":\"x\",\"y\":[33.55357142857143],\"yaxis\":\"y\",\"type\":\"scatter\"},{\"hovertemplate\":\"color=SUBCOMPACT<br>animation_frame=2011<br>x=%{x}<br>y=%{y}<extra></extra>\",\"ids\":[\"SUBCOMPACT\"],\"legendgroup\":\"SUBCOMPACT\",\"line\":{\"color\":\"#511CFB\",\"dash\":\"solid\"},\"marker\":{\"symbol\":\"circle\"},\"mode\":\"markers+lines\",\"name\":\"SUBCOMPACT\",\"orientation\":\"v\",\"showlegend\":true,\"x\":[2011],\"xaxis\":\"x\",\"y\":[31.01923076923077],\"yaxis\":\"y\",\"type\":\"scatter\"},{\"hovertemplate\":\"color=SUV<br>animation_frame=2011<br>x=%{x}<br>y=%{y}<extra></extra>\",\"ids\":[\"SUV\"],\"legendgroup\":\"SUV\",\"line\":{\"color\":\"#00A08B\",\"dash\":\"solid\"},\"marker\":{\"symbol\":\"circle\"},\"mode\":\"markers+lines\",\"name\":\"SUV\",\"orientation\":\"v\",\"showlegend\":true,\"x\":[2011],\"xaxis\":\"x\",\"y\":[26.600746268656717],\"yaxis\":\"y\",\"type\":\"scatter\"},{\"hovertemplate\":\"color=TWO-SEATER<br>animation_frame=2011<br>x=%{x}<br>y=%{y}<extra></extra>\",\"ids\":[\"TWO-SEATER\"],\"legendgroup\":\"TWO-SEATER\",\"line\":{\"color\":\"#FB00D1\",\"dash\":\"solid\"},\"marker\":{\"symbol\":\"circle\"},\"mode\":\"markers+lines\",\"name\":\"TWO-SEATER\",\"orientation\":\"v\",\"showlegend\":true,\"x\":[2011],\"xaxis\":\"x\",\"y\":[26.65625],\"yaxis\":\"y\",\"type\":\"scatter\"},{\"hovertemplate\":\"color=VAN - CARGO<br>animation_frame=2011<br>x=%{x}<br>y=%{y}<extra></extra>\",\"ids\":[\"VAN - CARGO\"],\"legendgroup\":\"VAN - CARGO\",\"line\":{\"color\":\"#FC0080\",\"dash\":\"solid\"},\"marker\":{\"symbol\":\"circle\"},\"mode\":\"markers+lines\",\"name\":\"VAN - CARGO\",\"orientation\":\"v\",\"showlegend\":true,\"x\":[2011],\"xaxis\":\"x\",\"y\":[17.454545454545453],\"yaxis\":\"y\",\"type\":\"scatter\"},{\"hovertemplate\":\"color=VAN - PASSENGER<br>animation_frame=2011<br>x=%{x}<br>y=%{y}<extra></extra>\",\"ids\":[\"VAN - PASSENGER\"],\"legendgroup\":\"VAN - PASSENGER\",\"line\":{\"color\":\"#B2828D\",\"dash\":\"solid\"},\"marker\":{\"symbol\":\"circle\"},\"mode\":\"markers+lines\",\"name\":\"VAN - PASSENGER\",\"orientation\":\"v\",\"showlegend\":true,\"x\":[2011],\"xaxis\":\"x\",\"y\":[15.62962962962963],\"yaxis\":\"y\",\"type\":\"scatter\"},{\"hovertemplate\":\"color=SPECIAL PURPOSE VEHICLE<br>animation_frame=2011<br>x=%{x}<br>y=%{y}<extra></extra>\",\"ids\":[\"SPECIAL PURPOSE VEHICLE\"],\"legendgroup\":\"SPECIAL PURPOSE VEHICLE\",\"line\":{\"color\":\"#778AAE\",\"dash\":\"solid\"},\"marker\":{\"symbol\":\"circle\"},\"mode\":\"markers+lines\",\"name\":\"SPECIAL PURPOSE VEHICLE\",\"orientation\":\"v\",\"showlegend\":true,\"x\":[2011],\"xaxis\":\"x\",\"y\":[31.0],\"yaxis\":\"y\",\"type\":\"scatter\"}],\"name\":\"2011\"},{\"data\":[{\"hovertemplate\":\"color=COMPACT<br>animation_frame=2012<br>x=%{x}<br>y=%{y}<extra></extra>\",\"ids\":[\"COMPACT\"],\"legendgroup\":\"COMPACT\",\"line\":{\"color\":\"#2E91E5\",\"dash\":\"solid\"},\"marker\":{\"symbol\":\"circle\"},\"mode\":\"markers+lines\",\"name\":\"COMPACT\",\"orientation\":\"v\",\"showlegend\":true,\"x\":[2012],\"xaxis\":\"x\",\"y\":[35.06015037593985],\"yaxis\":\"y\",\"type\":\"scatter\"},{\"hovertemplate\":\"color=FULL-SIZE<br>animation_frame=2012<br>x=%{x}<br>y=%{y}<extra></extra>\",\"ids\":[\"FULL-SIZE\"],\"legendgroup\":\"FULL-SIZE\",\"line\":{\"color\":\"#E15F99\",\"dash\":\"solid\"},\"marker\":{\"symbol\":\"circle\"},\"mode\":\"markers+lines\",\"name\":\"FULL-SIZE\",\"orientation\":\"v\",\"showlegend\":true,\"x\":[2012],\"xaxis\":\"x\",\"y\":[26.098765432098766],\"yaxis\":\"y\",\"type\":\"scatter\"},{\"hovertemplate\":\"color=MID-SIZE<br>animation_frame=2012<br>x=%{x}<br>y=%{y}<extra></extra>\",\"ids\":[\"MID-SIZE\"],\"legendgroup\":\"MID-SIZE\",\"line\":{\"color\":\"#1CA71C\",\"dash\":\"solid\"},\"marker\":{\"symbol\":\"circle\"},\"mode\":\"markers+lines\",\"name\":\"MID-SIZE\",\"orientation\":\"v\",\"showlegend\":true,\"x\":[2012],\"xaxis\":\"x\",\"y\":[32.86259541984733],\"yaxis\":\"y\",\"type\":\"scatter\"},{\"hovertemplate\":\"color=MINICOMPACT<br>animation_frame=2012<br>x=%{x}<br>y=%{y}<extra></extra>\",\"ids\":[\"MINICOMPACT\"],\"legendgroup\":\"MINICOMPACT\",\"line\":{\"color\":\"#FB0D0D\",\"dash\":\"solid\"},\"marker\":{\"symbol\":\"circle\"},\"mode\":\"markers+lines\",\"name\":\"MINICOMPACT\",\"orientation\":\"v\",\"showlegend\":true,\"x\":[2012],\"xaxis\":\"x\",\"y\":[30.56578947368421],\"yaxis\":\"y\",\"type\":\"scatter\"},{\"hovertemplate\":\"color=MINIVAN<br>animation_frame=2012<br>x=%{x}<br>y=%{y}<extra></extra>\",\"ids\":[\"MINIVAN\"],\"legendgroup\":\"MINIVAN\",\"line\":{\"color\":\"#DA16FF\",\"dash\":\"solid\"},\"marker\":{\"symbol\":\"circle\"},\"mode\":\"markers+lines\",\"name\":\"MINIVAN\",\"orientation\":\"v\",\"showlegend\":true,\"x\":[2012],\"xaxis\":\"x\",\"y\":[27.375],\"yaxis\":\"y\",\"type\":\"scatter\"},{\"hovertemplate\":\"color=PICKUP TRUCK - SMALL<br>animation_frame=2012<br>x=%{x}<br>y=%{y}<extra></extra>\",\"ids\":[\"PICKUP TRUCK - SMALL\"],\"legendgroup\":\"PICKUP TRUCK - SMALL\",\"line\":{\"color\":\"#222A2A\",\"dash\":\"solid\"},\"marker\":{\"symbol\":\"circle\"},\"mode\":\"markers+lines\",\"name\":\"PICKUP TRUCK - SMALL\",\"orientation\":\"v\",\"showlegend\":true,\"x\":[2012],\"xaxis\":\"x\",\"y\":[25.767441860465116],\"yaxis\":\"y\",\"type\":\"scatter\"},{\"hovertemplate\":\"color=PICKUP TRUCK - STANDARD<br>animation_frame=2012<br>x=%{x}<br>y=%{y}<extra></extra>\",\"ids\":[\"PICKUP TRUCK - STANDARD\"],\"legendgroup\":\"PICKUP TRUCK - STANDARD\",\"line\":{\"color\":\"#B68100\",\"dash\":\"solid\"},\"marker\":{\"symbol\":\"circle\"},\"mode\":\"markers+lines\",\"name\":\"PICKUP TRUCK - STANDARD\",\"orientation\":\"v\",\"showlegend\":true,\"x\":[2012],\"xaxis\":\"x\",\"y\":[20.468354430379748],\"yaxis\":\"y\",\"type\":\"scatter\"},{\"hovertemplate\":\"color=STATION WAGON - MID-SIZE<br>animation_frame=2012<br>x=%{x}<br>y=%{y}<extra></extra>\",\"ids\":[\"STATION WAGON - MID-SIZE\"],\"legendgroup\":\"STATION WAGON - MID-SIZE\",\"line\":{\"color\":\"#750D86\",\"dash\":\"solid\"},\"marker\":{\"symbol\":\"circle\"},\"mode\":\"markers+lines\",\"name\":\"STATION WAGON - MID-SIZE\",\"orientation\":\"v\",\"showlegend\":true,\"x\":[2012],\"xaxis\":\"x\",\"y\":[35.0],\"yaxis\":\"y\",\"type\":\"scatter\"},{\"hovertemplate\":\"color=STATION WAGON - SMALL<br>animation_frame=2012<br>x=%{x}<br>y=%{y}<extra></extra>\",\"ids\":[\"STATION WAGON - SMALL\"],\"legendgroup\":\"STATION WAGON - SMALL\",\"line\":{\"color\":\"#EB663B\",\"dash\":\"solid\"},\"marker\":{\"symbol\":\"circle\"},\"mode\":\"markers+lines\",\"name\":\"STATION WAGON - SMALL\",\"orientation\":\"v\",\"showlegend\":true,\"x\":[2012],\"xaxis\":\"x\",\"y\":[34.57446808510638],\"yaxis\":\"y\",\"type\":\"scatter\"},{\"hovertemplate\":\"color=SUBCOMPACT<br>animation_frame=2012<br>x=%{x}<br>y=%{y}<extra></extra>\",\"ids\":[\"SUBCOMPACT\"],\"legendgroup\":\"SUBCOMPACT\",\"line\":{\"color\":\"#511CFB\",\"dash\":\"solid\"},\"marker\":{\"symbol\":\"circle\"},\"mode\":\"markers+lines\",\"name\":\"SUBCOMPACT\",\"orientation\":\"v\",\"showlegend\":true,\"x\":[2012],\"xaxis\":\"x\",\"y\":[30.735294117647058],\"yaxis\":\"y\",\"type\":\"scatter\"},{\"hovertemplate\":\"color=SUV<br>animation_frame=2012<br>x=%{x}<br>y=%{y}<extra></extra>\",\"ids\":[\"SUV\"],\"legendgroup\":\"SUV\",\"line\":{\"color\":\"#00A08B\",\"dash\":\"solid\"},\"marker\":{\"symbol\":\"circle\"},\"mode\":\"markers+lines\",\"name\":\"SUV\",\"orientation\":\"v\",\"showlegend\":true,\"x\":[2012],\"xaxis\":\"x\",\"y\":[26.57872340425532],\"yaxis\":\"y\",\"type\":\"scatter\"},{\"hovertemplate\":\"color=TWO-SEATER<br>animation_frame=2012<br>x=%{x}<br>y=%{y}<extra></extra>\",\"ids\":[\"TWO-SEATER\"],\"legendgroup\":\"TWO-SEATER\",\"line\":{\"color\":\"#FB00D1\",\"dash\":\"solid\"},\"marker\":{\"symbol\":\"circle\"},\"mode\":\"markers+lines\",\"name\":\"TWO-SEATER\",\"orientation\":\"v\",\"showlegend\":true,\"x\":[2012],\"xaxis\":\"x\",\"y\":[29.289473684210527],\"yaxis\":\"y\",\"type\":\"scatter\"},{\"hovertemplate\":\"color=VAN - CARGO<br>animation_frame=2012<br>x=%{x}<br>y=%{y}<extra></extra>\",\"ids\":[\"VAN - CARGO\"],\"legendgroup\":\"VAN - CARGO\",\"line\":{\"color\":\"#FC0080\",\"dash\":\"solid\"},\"marker\":{\"symbol\":\"circle\"},\"mode\":\"markers+lines\",\"name\":\"VAN - CARGO\",\"orientation\":\"v\",\"showlegend\":true,\"x\":[2012],\"xaxis\":\"x\",\"y\":[17.40909090909091],\"yaxis\":\"y\",\"type\":\"scatter\"},{\"hovertemplate\":\"color=VAN - PASSENGER<br>animation_frame=2012<br>x=%{x}<br>y=%{y}<extra></extra>\",\"ids\":[\"VAN - PASSENGER\"],\"legendgroup\":\"VAN - PASSENGER\",\"line\":{\"color\":\"#B2828D\",\"dash\":\"solid\"},\"marker\":{\"symbol\":\"circle\"},\"mode\":\"markers+lines\",\"name\":\"VAN - PASSENGER\",\"orientation\":\"v\",\"showlegend\":true,\"x\":[2012],\"xaxis\":\"x\",\"y\":[15.612903225806452],\"yaxis\":\"y\",\"type\":\"scatter\"},{\"hovertemplate\":\"color=SUV - STANDARD<br>animation_frame=2012<br>x=%{x}<br>y=%{y}<extra></extra>\",\"ids\":[\"SUV - STANDARD\"],\"legendgroup\":\"SUV - STANDARD\",\"line\":{\"color\":\"#6C7C32\",\"dash\":\"solid\"},\"marker\":{\"symbol\":\"circle\"},\"mode\":\"markers+lines\",\"name\":\"SUV - STANDARD\",\"orientation\":\"v\",\"showlegend\":true,\"x\":[2012],\"xaxis\":\"x\",\"y\":[25.5],\"yaxis\":\"y\",\"type\":\"scatter\"},{\"hovertemplate\":\"color=SPECIAL PURPOSE VEHICLE<br>animation_frame=2012<br>x=%{x}<br>y=%{y}<extra></extra>\",\"ids\":[\"SPECIAL PURPOSE VEHICLE\"],\"legendgroup\":\"SPECIAL PURPOSE VEHICLE\",\"line\":{\"color\":\"#778AAE\",\"dash\":\"solid\"},\"marker\":{\"symbol\":\"circle\"},\"mode\":\"markers+lines\",\"name\":\"SPECIAL PURPOSE VEHICLE\",\"orientation\":\"v\",\"showlegend\":true,\"x\":[2012],\"xaxis\":\"x\",\"y\":[32.5],\"yaxis\":\"y\",\"type\":\"scatter\"}],\"name\":\"2012\"},{\"data\":[{\"hovertemplate\":\"color=COMPACT<br>animation_frame=2013<br>x=%{x}<br>y=%{y}<extra></extra>\",\"ids\":[\"COMPACT\"],\"legendgroup\":\"COMPACT\",\"line\":{\"color\":\"#2E91E5\",\"dash\":\"solid\"},\"marker\":{\"symbol\":\"circle\"},\"mode\":\"markers+lines\",\"name\":\"COMPACT\",\"orientation\":\"v\",\"showlegend\":true,\"x\":[2013],\"xaxis\":\"x\",\"y\":[35.214285714285715],\"yaxis\":\"y\",\"type\":\"scatter\"},{\"hovertemplate\":\"color=FULL-SIZE<br>animation_frame=2013<br>x=%{x}<br>y=%{y}<extra></extra>\",\"ids\":[\"FULL-SIZE\"],\"legendgroup\":\"FULL-SIZE\",\"line\":{\"color\":\"#E15F99\",\"dash\":\"solid\"},\"marker\":{\"symbol\":\"circle\"},\"mode\":\"markers+lines\",\"name\":\"FULL-SIZE\",\"orientation\":\"v\",\"showlegend\":true,\"x\":[2013],\"xaxis\":\"x\",\"y\":[26.894736842105264],\"yaxis\":\"y\",\"type\":\"scatter\"},{\"hovertemplate\":\"color=MID-SIZE<br>animation_frame=2013<br>x=%{x}<br>y=%{y}<extra></extra>\",\"ids\":[\"MID-SIZE\"],\"legendgroup\":\"MID-SIZE\",\"line\":{\"color\":\"#1CA71C\",\"dash\":\"solid\"},\"marker\":{\"symbol\":\"circle\"},\"mode\":\"markers+lines\",\"name\":\"MID-SIZE\",\"orientation\":\"v\",\"showlegend\":true,\"x\":[2013],\"xaxis\":\"x\",\"y\":[35.44444444444444],\"yaxis\":\"y\",\"type\":\"scatter\"},{\"hovertemplate\":\"color=MINICOMPACT<br>animation_frame=2013<br>x=%{x}<br>y=%{y}<extra></extra>\",\"ids\":[\"MINICOMPACT\"],\"legendgroup\":\"MINICOMPACT\",\"line\":{\"color\":\"#FB0D0D\",\"dash\":\"solid\"},\"marker\":{\"symbol\":\"circle\"},\"mode\":\"markers+lines\",\"name\":\"MINICOMPACT\",\"orientation\":\"v\",\"showlegend\":true,\"x\":[2013],\"xaxis\":\"x\",\"y\":[34.41509433962264],\"yaxis\":\"y\",\"type\":\"scatter\"},{\"hovertemplate\":\"color=MINIVAN<br>animation_frame=2013<br>x=%{x}<br>y=%{y}<extra></extra>\",\"ids\":[\"MINIVAN\"],\"legendgroup\":\"MINIVAN\",\"line\":{\"color\":\"#DA16FF\",\"dash\":\"solid\"},\"marker\":{\"symbol\":\"circle\"},\"mode\":\"markers+lines\",\"name\":\"MINIVAN\",\"orientation\":\"v\",\"showlegend\":true,\"x\":[2013],\"xaxis\":\"x\",\"y\":[27.2],\"yaxis\":\"y\",\"type\":\"scatter\"},{\"hovertemplate\":\"color=PICKUP TRUCK - SMALL<br>animation_frame=2013<br>x=%{x}<br>y=%{y}<extra></extra>\",\"ids\":[\"PICKUP TRUCK - SMALL\"],\"legendgroup\":\"PICKUP TRUCK - SMALL\",\"line\":{\"color\":\"#222A2A\",\"dash\":\"solid\"},\"marker\":{\"symbol\":\"circle\"},\"mode\":\"markers+lines\",\"name\":\"PICKUP TRUCK - SMALL\",\"orientation\":\"v\",\"showlegend\":true,\"x\":[2013],\"xaxis\":\"x\",\"y\":[26.583333333333332],\"yaxis\":\"y\",\"type\":\"scatter\"},{\"hovertemplate\":\"color=PICKUP TRUCK - STANDARD<br>animation_frame=2013<br>x=%{x}<br>y=%{y}<extra></extra>\",\"ids\":[\"PICKUP TRUCK - STANDARD\"],\"legendgroup\":\"PICKUP TRUCK - STANDARD\",\"line\":{\"color\":\"#B68100\",\"dash\":\"solid\"},\"marker\":{\"symbol\":\"circle\"},\"mode\":\"markers+lines\",\"name\":\"PICKUP TRUCK - STANDARD\",\"orientation\":\"v\",\"showlegend\":true,\"x\":[2013],\"xaxis\":\"x\",\"y\":[20.726190476190474],\"yaxis\":\"y\",\"type\":\"scatter\"},{\"hovertemplate\":\"color=STATION WAGON - MID-SIZE<br>animation_frame=2013<br>x=%{x}<br>y=%{y}<extra></extra>\",\"ids\":[\"STATION WAGON - MID-SIZE\"],\"legendgroup\":\"STATION WAGON - MID-SIZE\",\"line\":{\"color\":\"#750D86\",\"dash\":\"solid\"},\"marker\":{\"symbol\":\"circle\"},\"mode\":\"markers+lines\",\"name\":\"STATION WAGON - MID-SIZE\",\"orientation\":\"v\",\"showlegend\":true,\"x\":[2013],\"xaxis\":\"x\",\"y\":[39.0],\"yaxis\":\"y\",\"type\":\"scatter\"},{\"hovertemplate\":\"color=STATION WAGON - SMALL<br>animation_frame=2013<br>x=%{x}<br>y=%{y}<extra></extra>\",\"ids\":[\"STATION WAGON - SMALL\"],\"legendgroup\":\"STATION WAGON - SMALL\",\"line\":{\"color\":\"#EB663B\",\"dash\":\"solid\"},\"marker\":{\"symbol\":\"circle\"},\"mode\":\"markers+lines\",\"name\":\"STATION WAGON - SMALL\",\"orientation\":\"v\",\"showlegend\":true,\"x\":[2013],\"xaxis\":\"x\",\"y\":[34.79545454545455],\"yaxis\":\"y\",\"type\":\"scatter\"},{\"hovertemplate\":\"color=SUBCOMPACT<br>animation_frame=2013<br>x=%{x}<br>y=%{y}<extra></extra>\",\"ids\":[\"SUBCOMPACT\"],\"legendgroup\":\"SUBCOMPACT\",\"line\":{\"color\":\"#511CFB\",\"dash\":\"solid\"},\"marker\":{\"symbol\":\"circle\"},\"mode\":\"markers+lines\",\"name\":\"SUBCOMPACT\",\"orientation\":\"v\",\"showlegend\":true,\"x\":[2013],\"xaxis\":\"x\",\"y\":[30.63157894736842],\"yaxis\":\"y\",\"type\":\"scatter\"},{\"hovertemplate\":\"color=TWO-SEATER<br>animation_frame=2013<br>x=%{x}<br>y=%{y}<extra></extra>\",\"ids\":[\"TWO-SEATER\"],\"legendgroup\":\"TWO-SEATER\",\"line\":{\"color\":\"#FB00D1\",\"dash\":\"solid\"},\"marker\":{\"symbol\":\"circle\"},\"mode\":\"markers+lines\",\"name\":\"TWO-SEATER\",\"orientation\":\"v\",\"showlegend\":true,\"x\":[2013],\"xaxis\":\"x\",\"y\":[31.75862068965517],\"yaxis\":\"y\",\"type\":\"scatter\"},{\"hovertemplate\":\"color=VAN - CARGO<br>animation_frame=2013<br>x=%{x}<br>y=%{y}<extra></extra>\",\"ids\":[\"VAN - CARGO\"],\"legendgroup\":\"VAN - CARGO\",\"line\":{\"color\":\"#FC0080\",\"dash\":\"solid\"},\"marker\":{\"symbol\":\"circle\"},\"mode\":\"markers+lines\",\"name\":\"VAN - CARGO\",\"orientation\":\"v\",\"showlegend\":true,\"x\":[2013],\"xaxis\":\"x\",\"y\":[17.40909090909091],\"yaxis\":\"y\",\"type\":\"scatter\"},{\"hovertemplate\":\"color=VAN - PASSENGER<br>animation_frame=2013<br>x=%{x}<br>y=%{y}<extra></extra>\",\"ids\":[\"VAN - PASSENGER\"],\"legendgroup\":\"VAN - PASSENGER\",\"line\":{\"color\":\"#B2828D\",\"dash\":\"solid\"},\"marker\":{\"symbol\":\"circle\"},\"mode\":\"markers+lines\",\"name\":\"VAN - PASSENGER\",\"orientation\":\"v\",\"showlegend\":true,\"x\":[2013],\"xaxis\":\"x\",\"y\":[15.633333333333333],\"yaxis\":\"y\",\"type\":\"scatter\"},{\"hovertemplate\":\"color=SUV - STANDARD<br>animation_frame=2013<br>x=%{x}<br>y=%{y}<extra></extra>\",\"ids\":[\"SUV - STANDARD\"],\"legendgroup\":\"SUV - STANDARD\",\"line\":{\"color\":\"#6C7C32\",\"dash\":\"solid\"},\"marker\":{\"symbol\":\"circle\"},\"mode\":\"markers+lines\",\"name\":\"SUV - STANDARD\",\"orientation\":\"v\",\"showlegend\":true,\"x\":[2013],\"xaxis\":\"x\",\"y\":[22.396039603960396],\"yaxis\":\"y\",\"type\":\"scatter\"},{\"hovertemplate\":\"color=SPECIAL PURPOSE VEHICLE<br>animation_frame=2013<br>x=%{x}<br>y=%{y}<extra></extra>\",\"ids\":[\"SPECIAL PURPOSE VEHICLE\"],\"legendgroup\":\"SPECIAL PURPOSE VEHICLE\",\"line\":{\"color\":\"#778AAE\",\"dash\":\"solid\"},\"marker\":{\"symbol\":\"circle\"},\"mode\":\"markers+lines\",\"name\":\"SPECIAL PURPOSE VEHICLE\",\"orientation\":\"v\",\"showlegend\":true,\"x\":[2013],\"xaxis\":\"x\",\"y\":[31.6],\"yaxis\":\"y\",\"type\":\"scatter\"},{\"hovertemplate\":\"color=SUV - SMALL<br>animation_frame=2013<br>x=%{x}<br>y=%{y}<extra></extra>\",\"ids\":[\"SUV - SMALL\"],\"legendgroup\":\"SUV - SMALL\",\"line\":{\"color\":\"#862A16\",\"dash\":\"solid\"},\"marker\":{\"symbol\":\"circle\"},\"mode\":\"markers+lines\",\"name\":\"SUV - SMALL\",\"orientation\":\"v\",\"showlegend\":true,\"x\":[2013],\"xaxis\":\"x\",\"y\":[30.892086330935253],\"yaxis\":\"y\",\"type\":\"scatter\"}],\"name\":\"2013\"},{\"data\":[{\"hovertemplate\":\"color=COMPACT<br>animation_frame=2014<br>x=%{x}<br>y=%{y}<extra></extra>\",\"ids\":[\"COMPACT\"],\"legendgroup\":\"COMPACT\",\"line\":{\"color\":\"#2E91E5\",\"dash\":\"solid\"},\"marker\":{\"symbol\":\"circle\"},\"mode\":\"markers+lines\",\"name\":\"COMPACT\",\"orientation\":\"v\",\"showlegend\":true,\"x\":[2014],\"xaxis\":\"x\",\"y\":[36.19047619047619],\"yaxis\":\"y\",\"type\":\"scatter\"},{\"hovertemplate\":\"color=FULL-SIZE<br>animation_frame=2014<br>x=%{x}<br>y=%{y}<extra></extra>\",\"ids\":[\"FULL-SIZE\"],\"legendgroup\":\"FULL-SIZE\",\"line\":{\"color\":\"#E15F99\",\"dash\":\"solid\"},\"marker\":{\"symbol\":\"circle\"},\"mode\":\"markers+lines\",\"name\":\"FULL-SIZE\",\"orientation\":\"v\",\"showlegend\":true,\"x\":[2014],\"xaxis\":\"x\",\"y\":[27.607142857142858],\"yaxis\":\"y\",\"type\":\"scatter\"},{\"hovertemplate\":\"color=MID-SIZE<br>animation_frame=2014<br>x=%{x}<br>y=%{y}<extra></extra>\",\"ids\":[\"MID-SIZE\"],\"legendgroup\":\"MID-SIZE\",\"line\":{\"color\":\"#1CA71C\",\"dash\":\"solid\"},\"marker\":{\"symbol\":\"circle\"},\"mode\":\"markers+lines\",\"name\":\"MID-SIZE\",\"orientation\":\"v\",\"showlegend\":true,\"x\":[2014],\"xaxis\":\"x\",\"y\":[35.752941176470586],\"yaxis\":\"y\",\"type\":\"scatter\"},{\"hovertemplate\":\"color=MINICOMPACT<br>animation_frame=2014<br>x=%{x}<br>y=%{y}<extra></extra>\",\"ids\":[\"MINICOMPACT\"],\"legendgroup\":\"MINICOMPACT\",\"line\":{\"color\":\"#FB0D0D\",\"dash\":\"solid\"},\"marker\":{\"symbol\":\"circle\"},\"mode\":\"markers+lines\",\"name\":\"MINICOMPACT\",\"orientation\":\"v\",\"showlegend\":true,\"x\":[2014],\"xaxis\":\"x\",\"y\":[33.744680851063826],\"yaxis\":\"y\",\"type\":\"scatter\"},{\"hovertemplate\":\"color=MINIVAN<br>animation_frame=2014<br>x=%{x}<br>y=%{y}<extra></extra>\",\"ids\":[\"MINIVAN\"],\"legendgroup\":\"MINIVAN\",\"line\":{\"color\":\"#DA16FF\",\"dash\":\"solid\"},\"marker\":{\"symbol\":\"circle\"},\"mode\":\"markers+lines\",\"name\":\"MINIVAN\",\"orientation\":\"v\",\"showlegend\":true,\"x\":[2014],\"xaxis\":\"x\",\"y\":[26.928571428571427],\"yaxis\":\"y\",\"type\":\"scatter\"},{\"hovertemplate\":\"color=PICKUP TRUCK - SMALL<br>animation_frame=2014<br>x=%{x}<br>y=%{y}<extra></extra>\",\"ids\":[\"PICKUP TRUCK - SMALL\"],\"legendgroup\":\"PICKUP TRUCK - SMALL\",\"line\":{\"color\":\"#222A2A\",\"dash\":\"solid\"},\"marker\":{\"symbol\":\"circle\"},\"mode\":\"markers+lines\",\"name\":\"PICKUP TRUCK - SMALL\",\"orientation\":\"v\",\"showlegend\":true,\"x\":[2014],\"xaxis\":\"x\",\"y\":[26.5],\"yaxis\":\"y\",\"type\":\"scatter\"},{\"hovertemplate\":\"color=PICKUP TRUCK - STANDARD<br>animation_frame=2014<br>x=%{x}<br>y=%{y}<extra></extra>\",\"ids\":[\"PICKUP TRUCK - STANDARD\"],\"legendgroup\":\"PICKUP TRUCK - STANDARD\",\"line\":{\"color\":\"#B68100\",\"dash\":\"solid\"},\"marker\":{\"symbol\":\"circle\"},\"mode\":\"markers+lines\",\"name\":\"PICKUP TRUCK - STANDARD\",\"orientation\":\"v\",\"showlegend\":true,\"x\":[2014],\"xaxis\":\"x\",\"y\":[22.112903225806452],\"yaxis\":\"y\",\"type\":\"scatter\"},{\"hovertemplate\":\"color=STATION WAGON - MID-SIZE<br>animation_frame=2014<br>x=%{x}<br>y=%{y}<extra></extra>\",\"ids\":[\"STATION WAGON - MID-SIZE\"],\"legendgroup\":\"STATION WAGON - MID-SIZE\",\"line\":{\"color\":\"#750D86\",\"dash\":\"solid\"},\"marker\":{\"symbol\":\"circle\"},\"mode\":\"markers+lines\",\"name\":\"STATION WAGON - MID-SIZE\",\"orientation\":\"v\",\"showlegend\":true,\"x\":[2014],\"xaxis\":\"x\",\"y\":[35.5],\"yaxis\":\"y\",\"type\":\"scatter\"},{\"hovertemplate\":\"color=STATION WAGON - SMALL<br>animation_frame=2014<br>x=%{x}<br>y=%{y}<extra></extra>\",\"ids\":[\"STATION WAGON - SMALL\"],\"legendgroup\":\"STATION WAGON - SMALL\",\"line\":{\"color\":\"#EB663B\",\"dash\":\"solid\"},\"marker\":{\"symbol\":\"circle\"},\"mode\":\"markers+lines\",\"name\":\"STATION WAGON - SMALL\",\"orientation\":\"v\",\"showlegend\":true,\"x\":[2014],\"xaxis\":\"x\",\"y\":[35.470588235294116],\"yaxis\":\"y\",\"type\":\"scatter\"},{\"hovertemplate\":\"color=SUBCOMPACT<br>animation_frame=2014<br>x=%{x}<br>y=%{y}<extra></extra>\",\"ids\":[\"SUBCOMPACT\"],\"legendgroup\":\"SUBCOMPACT\",\"line\":{\"color\":\"#511CFB\",\"dash\":\"solid\"},\"marker\":{\"symbol\":\"circle\"},\"mode\":\"markers+lines\",\"name\":\"SUBCOMPACT\",\"orientation\":\"v\",\"showlegend\":true,\"x\":[2014],\"xaxis\":\"x\",\"y\":[31.903225806451612],\"yaxis\":\"y\",\"type\":\"scatter\"},{\"hovertemplate\":\"color=TWO-SEATER<br>animation_frame=2014<br>x=%{x}<br>y=%{y}<extra></extra>\",\"ids\":[\"TWO-SEATER\"],\"legendgroup\":\"TWO-SEATER\",\"line\":{\"color\":\"#FB00D1\",\"dash\":\"solid\"},\"marker\":{\"symbol\":\"circle\"},\"mode\":\"markers+lines\",\"name\":\"TWO-SEATER\",\"orientation\":\"v\",\"showlegend\":true,\"x\":[2014],\"xaxis\":\"x\",\"y\":[31.271428571428572],\"yaxis\":\"y\",\"type\":\"scatter\"},{\"hovertemplate\":\"color=VAN - CARGO<br>animation_frame=2014<br>x=%{x}<br>y=%{y}<extra></extra>\",\"ids\":[\"VAN - CARGO\"],\"legendgroup\":\"VAN - CARGO\",\"line\":{\"color\":\"#FC0080\",\"dash\":\"solid\"},\"marker\":{\"symbol\":\"circle\"},\"mode\":\"markers+lines\",\"name\":\"VAN - CARGO\",\"orientation\":\"v\",\"showlegend\":true,\"x\":[2014],\"xaxis\":\"x\",\"y\":[17.318181818181817],\"yaxis\":\"y\",\"type\":\"scatter\"},{\"hovertemplate\":\"color=VAN - PASSENGER<br>animation_frame=2014<br>x=%{x}<br>y=%{y}<extra></extra>\",\"ids\":[\"VAN - PASSENGER\"],\"legendgroup\":\"VAN - PASSENGER\",\"line\":{\"color\":\"#B2828D\",\"dash\":\"solid\"},\"marker\":{\"symbol\":\"circle\"},\"mode\":\"markers+lines\",\"name\":\"VAN - PASSENGER\",\"orientation\":\"v\",\"showlegend\":true,\"x\":[2014],\"xaxis\":\"x\",\"y\":[16.0],\"yaxis\":\"y\",\"type\":\"scatter\"},{\"hovertemplate\":\"color=SUV - STANDARD<br>animation_frame=2014<br>x=%{x}<br>y=%{y}<extra></extra>\",\"ids\":[\"SUV - STANDARD\"],\"legendgroup\":\"SUV - STANDARD\",\"line\":{\"color\":\"#6C7C32\",\"dash\":\"solid\"},\"marker\":{\"symbol\":\"circle\"},\"mode\":\"markers+lines\",\"name\":\"SUV - STANDARD\",\"orientation\":\"v\",\"showlegend\":true,\"x\":[2014],\"xaxis\":\"x\",\"y\":[22.813725490196077],\"yaxis\":\"y\",\"type\":\"scatter\"},{\"hovertemplate\":\"color=SPECIAL PURPOSE VEHICLE<br>animation_frame=2014<br>x=%{x}<br>y=%{y}<extra></extra>\",\"ids\":[\"SPECIAL PURPOSE VEHICLE\"],\"legendgroup\":\"SPECIAL PURPOSE VEHICLE\",\"line\":{\"color\":\"#778AAE\",\"dash\":\"solid\"},\"marker\":{\"symbol\":\"circle\"},\"mode\":\"markers+lines\",\"name\":\"SPECIAL PURPOSE VEHICLE\",\"orientation\":\"v\",\"showlegend\":true,\"x\":[2014],\"xaxis\":\"x\",\"y\":[31.857142857142858],\"yaxis\":\"y\",\"type\":\"scatter\"},{\"hovertemplate\":\"color=SUV - SMALL<br>animation_frame=2014<br>x=%{x}<br>y=%{y}<extra></extra>\",\"ids\":[\"SUV - SMALL\"],\"legendgroup\":\"SUV - SMALL\",\"line\":{\"color\":\"#862A16\",\"dash\":\"solid\"},\"marker\":{\"symbol\":\"circle\"},\"mode\":\"markers+lines\",\"name\":\"SUV - SMALL\",\"orientation\":\"v\",\"showlegend\":true,\"x\":[2014],\"xaxis\":\"x\",\"y\":[31.316129032258065],\"yaxis\":\"y\",\"type\":\"scatter\"}],\"name\":\"2014\"},{\"data\":[{\"hovertemplate\":\"color=COMPACT<br>animation_frame=2015<br>x=%{x}<br>y=%{y}<extra></extra>\",\"ids\":[\"COMPACT\"],\"legendgroup\":\"COMPACT\",\"line\":{\"color\":\"#2E91E5\",\"dash\":\"solid\"},\"marker\":{\"symbol\":\"circle\"},\"mode\":\"markers+lines\",\"name\":\"COMPACT\",\"orientation\":\"v\",\"showlegend\":true,\"x\":[2015],\"xaxis\":\"x\",\"y\":[31.333333333333332],\"yaxis\":\"y\",\"type\":\"scatter\"},{\"hovertemplate\":\"color=FULL-SIZE<br>animation_frame=2015<br>x=%{x}<br>y=%{y}<extra></extra>\",\"ids\":[\"FULL-SIZE\"],\"legendgroup\":\"FULL-SIZE\",\"line\":{\"color\":\"#E15F99\",\"dash\":\"solid\"},\"marker\":{\"symbol\":\"circle\"},\"mode\":\"markers+lines\",\"name\":\"FULL-SIZE\",\"orientation\":\"v\",\"showlegend\":true,\"x\":[2015],\"xaxis\":\"x\",\"y\":[24.0],\"yaxis\":\"y\",\"type\":\"scatter\"},{\"hovertemplate\":\"color=MID-SIZE<br>animation_frame=2015<br>x=%{x}<br>y=%{y}<extra></extra>\",\"ids\":[\"MID-SIZE\"],\"legendgroup\":\"MID-SIZE\",\"line\":{\"color\":\"#1CA71C\",\"dash\":\"solid\"},\"marker\":{\"symbol\":\"circle\"},\"mode\":\"markers+lines\",\"name\":\"MID-SIZE\",\"orientation\":\"v\",\"showlegend\":true,\"x\":[2015],\"xaxis\":\"x\",\"y\":[31.044444444444444],\"yaxis\":\"y\",\"type\":\"scatter\"},{\"hovertemplate\":\"color=MINICOMPACT<br>animation_frame=2015<br>x=%{x}<br>y=%{y}<extra></extra>\",\"ids\":[\"MINICOMPACT\"],\"legendgroup\":\"MINICOMPACT\",\"line\":{\"color\":\"#FB0D0D\",\"dash\":\"solid\"},\"marker\":{\"symbol\":\"circle\"},\"mode\":\"markers+lines\",\"name\":\"MINICOMPACT\",\"orientation\":\"v\",\"showlegend\":true,\"x\":[2015],\"xaxis\":\"x\",\"y\":[28.593220338983052],\"yaxis\":\"y\",\"type\":\"scatter\"},{\"hovertemplate\":\"color=MINIVAN<br>animation_frame=2015<br>x=%{x}<br>y=%{y}<extra></extra>\",\"ids\":[\"MINIVAN\"],\"legendgroup\":\"MINIVAN\",\"line\":{\"color\":\"#DA16FF\",\"dash\":\"solid\"},\"marker\":{\"symbol\":\"circle\"},\"mode\":\"markers+lines\",\"name\":\"MINIVAN\",\"orientation\":\"v\",\"showlegend\":true,\"x\":[2015],\"xaxis\":\"x\",\"y\":[23.8],\"yaxis\":\"y\",\"type\":\"scatter\"},{\"hovertemplate\":\"color=PICKUP TRUCK - SMALL<br>animation_frame=2015<br>x=%{x}<br>y=%{y}<extra></extra>\",\"ids\":[\"PICKUP TRUCK - SMALL\"],\"legendgroup\":\"PICKUP TRUCK - SMALL\",\"line\":{\"color\":\"#222A2A\",\"dash\":\"solid\"},\"marker\":{\"symbol\":\"circle\"},\"mode\":\"markers+lines\",\"name\":\"PICKUP TRUCK - SMALL\",\"orientation\":\"v\",\"showlegend\":true,\"x\":[2015],\"xaxis\":\"x\",\"y\":[23.954545454545453],\"yaxis\":\"y\",\"type\":\"scatter\"},{\"hovertemplate\":\"color=PICKUP TRUCK - STANDARD<br>animation_frame=2015<br>x=%{x}<br>y=%{y}<extra></extra>\",\"ids\":[\"PICKUP TRUCK - STANDARD\"],\"legendgroup\":\"PICKUP TRUCK - STANDARD\",\"line\":{\"color\":\"#B68100\",\"dash\":\"solid\"},\"marker\":{\"symbol\":\"circle\"},\"mode\":\"markers+lines\",\"name\":\"PICKUP TRUCK - STANDARD\",\"orientation\":\"v\",\"showlegend\":true,\"x\":[2015],\"xaxis\":\"x\",\"y\":[20.48076923076923],\"yaxis\":\"y\",\"type\":\"scatter\"},{\"hovertemplate\":\"color=STATION WAGON - MID-SIZE<br>animation_frame=2015<br>x=%{x}<br>y=%{y}<extra></extra>\",\"ids\":[\"STATION WAGON - MID-SIZE\"],\"legendgroup\":\"STATION WAGON - MID-SIZE\",\"line\":{\"color\":\"#750D86\",\"dash\":\"solid\"},\"marker\":{\"symbol\":\"circle\"},\"mode\":\"markers+lines\",\"name\":\"STATION WAGON - MID-SIZE\",\"orientation\":\"v\",\"showlegend\":true,\"x\":[2015],\"xaxis\":\"x\",\"y\":[30.625],\"yaxis\":\"y\",\"type\":\"scatter\"},{\"hovertemplate\":\"color=STATION WAGON - SMALL<br>animation_frame=2015<br>x=%{x}<br>y=%{y}<extra></extra>\",\"ids\":[\"STATION WAGON - SMALL\"],\"legendgroup\":\"STATION WAGON - SMALL\",\"line\":{\"color\":\"#EB663B\",\"dash\":\"solid\"},\"marker\":{\"symbol\":\"circle\"},\"mode\":\"markers+lines\",\"name\":\"STATION WAGON - SMALL\",\"orientation\":\"v\",\"showlegend\":true,\"x\":[2015],\"xaxis\":\"x\",\"y\":[33.48571428571429],\"yaxis\":\"y\",\"type\":\"scatter\"},{\"hovertemplate\":\"color=SUBCOMPACT<br>animation_frame=2015<br>x=%{x}<br>y=%{y}<extra></extra>\",\"ids\":[\"SUBCOMPACT\"],\"legendgroup\":\"SUBCOMPACT\",\"line\":{\"color\":\"#511CFB\",\"dash\":\"solid\"},\"marker\":{\"symbol\":\"circle\"},\"mode\":\"markers+lines\",\"name\":\"SUBCOMPACT\",\"orientation\":\"v\",\"showlegend\":true,\"x\":[2015],\"xaxis\":\"x\",\"y\":[28.66304347826087],\"yaxis\":\"y\",\"type\":\"scatter\"},{\"hovertemplate\":\"color=TWO-SEATER<br>animation_frame=2015<br>x=%{x}<br>y=%{y}<extra></extra>\",\"ids\":[\"TWO-SEATER\"],\"legendgroup\":\"TWO-SEATER\",\"line\":{\"color\":\"#FB00D1\",\"dash\":\"solid\"},\"marker\":{\"symbol\":\"circle\"},\"mode\":\"markers+lines\",\"name\":\"TWO-SEATER\",\"orientation\":\"v\",\"showlegend\":true,\"x\":[2015],\"xaxis\":\"x\",\"y\":[26.404761904761905],\"yaxis\":\"y\",\"type\":\"scatter\"},{\"hovertemplate\":\"color=VAN - PASSENGER<br>animation_frame=2015<br>x=%{x}<br>y=%{y}<extra></extra>\",\"ids\":[\"VAN - PASSENGER\"],\"legendgroup\":\"VAN - PASSENGER\",\"line\":{\"color\":\"#B2828D\",\"dash\":\"solid\"},\"marker\":{\"symbol\":\"circle\"},\"mode\":\"markers+lines\",\"name\":\"VAN - PASSENGER\",\"orientation\":\"v\",\"showlegend\":true,\"x\":[2015],\"xaxis\":\"x\",\"y\":[14.736842105263158],\"yaxis\":\"y\",\"type\":\"scatter\"},{\"hovertemplate\":\"color=SUV - STANDARD<br>animation_frame=2015<br>x=%{x}<br>y=%{y}<extra></extra>\",\"ids\":[\"SUV - STANDARD\"],\"legendgroup\":\"SUV - STANDARD\",\"line\":{\"color\":\"#6C7C32\",\"dash\":\"solid\"},\"marker\":{\"symbol\":\"circle\"},\"mode\":\"markers+lines\",\"name\":\"SUV - STANDARD\",\"orientation\":\"v\",\"showlegend\":true,\"x\":[2015],\"xaxis\":\"x\",\"y\":[21.08080808080808],\"yaxis\":\"y\",\"type\":\"scatter\"},{\"hovertemplate\":\"color=SPECIAL PURPOSE VEHICLE<br>animation_frame=2015<br>x=%{x}<br>y=%{y}<extra></extra>\",\"ids\":[\"SPECIAL PURPOSE VEHICLE\"],\"legendgroup\":\"SPECIAL PURPOSE VEHICLE\",\"line\":{\"color\":\"#778AAE\",\"dash\":\"solid\"},\"marker\":{\"symbol\":\"circle\"},\"mode\":\"markers+lines\",\"name\":\"SPECIAL PURPOSE VEHICLE\",\"orientation\":\"v\",\"showlegend\":true,\"x\":[2015],\"xaxis\":\"x\",\"y\":[28.22222222222222],\"yaxis\":\"y\",\"type\":\"scatter\"},{\"hovertemplate\":\"color=SUV - SMALL<br>animation_frame=2015<br>x=%{x}<br>y=%{y}<extra></extra>\",\"ids\":[\"SUV - SMALL\"],\"legendgroup\":\"SUV - SMALL\",\"line\":{\"color\":\"#862A16\",\"dash\":\"solid\"},\"marker\":{\"symbol\":\"circle\"},\"mode\":\"markers+lines\",\"name\":\"SUV - SMALL\",\"orientation\":\"v\",\"showlegend\":true,\"x\":[2015],\"xaxis\":\"x\",\"y\":[27.70949720670391],\"yaxis\":\"y\",\"type\":\"scatter\"}],\"name\":\"2015\"},{\"data\":[{\"hovertemplate\":\"color=COMPACT<br>animation_frame=2016<br>x=%{x}<br>y=%{y}<extra></extra>\",\"ids\":[\"COMPACT\"],\"legendgroup\":\"COMPACT\",\"line\":{\"color\":\"#2E91E5\",\"dash\":\"solid\"},\"marker\":{\"symbol\":\"circle\"},\"mode\":\"markers+lines\",\"name\":\"COMPACT\",\"orientation\":\"v\",\"showlegend\":true,\"x\":[2016],\"xaxis\":\"x\",\"y\":[31.414364640883978],\"yaxis\":\"y\",\"type\":\"scatter\"},{\"hovertemplate\":\"color=FULL-SIZE<br>animation_frame=2016<br>x=%{x}<br>y=%{y}<extra></extra>\",\"ids\":[\"FULL-SIZE\"],\"legendgroup\":\"FULL-SIZE\",\"line\":{\"color\":\"#E15F99\",\"dash\":\"solid\"},\"marker\":{\"symbol\":\"circle\"},\"mode\":\"markers+lines\",\"name\":\"FULL-SIZE\",\"orientation\":\"v\",\"showlegend\":true,\"x\":[2016],\"xaxis\":\"x\",\"y\":[24.27777777777778],\"yaxis\":\"y\",\"type\":\"scatter\"},{\"hovertemplate\":\"color=MID-SIZE<br>animation_frame=2016<br>x=%{x}<br>y=%{y}<extra></extra>\",\"ids\":[\"MID-SIZE\"],\"legendgroup\":\"MID-SIZE\",\"line\":{\"color\":\"#1CA71C\",\"dash\":\"solid\"},\"marker\":{\"symbol\":\"circle\"},\"mode\":\"markers+lines\",\"name\":\"MID-SIZE\",\"orientation\":\"v\",\"showlegend\":true,\"x\":[2016],\"xaxis\":\"x\",\"y\":[31.335106382978722],\"yaxis\":\"y\",\"type\":\"scatter\"},{\"hovertemplate\":\"color=MINICOMPACT<br>animation_frame=2016<br>x=%{x}<br>y=%{y}<extra></extra>\",\"ids\":[\"MINICOMPACT\"],\"legendgroup\":\"MINICOMPACT\",\"line\":{\"color\":\"#FB0D0D\",\"dash\":\"solid\"},\"marker\":{\"symbol\":\"circle\"},\"mode\":\"markers+lines\",\"name\":\"MINICOMPACT\",\"orientation\":\"v\",\"showlegend\":true,\"x\":[2016],\"xaxis\":\"x\",\"y\":[28.557692307692307],\"yaxis\":\"y\",\"type\":\"scatter\"},{\"hovertemplate\":\"color=MINIVAN<br>animation_frame=2016<br>x=%{x}<br>y=%{y}<extra></extra>\",\"ids\":[\"MINIVAN\"],\"legendgroup\":\"MINIVAN\",\"line\":{\"color\":\"#DA16FF\",\"dash\":\"solid\"},\"marker\":{\"symbol\":\"circle\"},\"mode\":\"markers+lines\",\"name\":\"MINIVAN\",\"orientation\":\"v\",\"showlegend\":true,\"x\":[2016],\"xaxis\":\"x\",\"y\":[23.916666666666668],\"yaxis\":\"y\",\"type\":\"scatter\"},{\"hovertemplate\":\"color=PICKUP TRUCK - SMALL<br>animation_frame=2016<br>x=%{x}<br>y=%{y}<extra></extra>\",\"ids\":[\"PICKUP TRUCK - SMALL\"],\"legendgroup\":\"PICKUP TRUCK - SMALL\",\"line\":{\"color\":\"#222A2A\",\"dash\":\"solid\"},\"marker\":{\"symbol\":\"circle\"},\"mode\":\"markers+lines\",\"name\":\"PICKUP TRUCK - SMALL\",\"orientation\":\"v\",\"showlegend\":true,\"x\":[2016],\"xaxis\":\"x\",\"y\":[24.884615384615383],\"yaxis\":\"y\",\"type\":\"scatter\"},{\"hovertemplate\":\"color=PICKUP TRUCK - STANDARD<br>animation_frame=2016<br>x=%{x}<br>y=%{y}<extra></extra>\",\"ids\":[\"PICKUP TRUCK - STANDARD\"],\"legendgroup\":\"PICKUP TRUCK - STANDARD\",\"line\":{\"color\":\"#B68100\",\"dash\":\"solid\"},\"marker\":{\"symbol\":\"circle\"},\"mode\":\"markers+lines\",\"name\":\"PICKUP TRUCK - STANDARD\",\"orientation\":\"v\",\"showlegend\":true,\"x\":[2016],\"xaxis\":\"x\",\"y\":[20.5],\"yaxis\":\"y\",\"type\":\"scatter\"},{\"hovertemplate\":\"color=STATION WAGON - MID-SIZE<br>animation_frame=2016<br>x=%{x}<br>y=%{y}<extra></extra>\",\"ids\":[\"STATION WAGON - MID-SIZE\"],\"legendgroup\":\"STATION WAGON - MID-SIZE\",\"line\":{\"color\":\"#750D86\",\"dash\":\"solid\"},\"marker\":{\"symbol\":\"circle\"},\"mode\":\"markers+lines\",\"name\":\"STATION WAGON - MID-SIZE\",\"orientation\":\"v\",\"showlegend\":true,\"x\":[2016],\"xaxis\":\"x\",\"y\":[30.857142857142858],\"yaxis\":\"y\",\"type\":\"scatter\"},{\"hovertemplate\":\"color=STATION WAGON - SMALL<br>animation_frame=2016<br>x=%{x}<br>y=%{y}<extra></extra>\",\"ids\":[\"STATION WAGON - SMALL\"],\"legendgroup\":\"STATION WAGON - SMALL\",\"line\":{\"color\":\"#EB663B\",\"dash\":\"solid\"},\"marker\":{\"symbol\":\"circle\"},\"mode\":\"markers+lines\",\"name\":\"STATION WAGON - SMALL\",\"orientation\":\"v\",\"showlegend\":true,\"x\":[2016],\"xaxis\":\"x\",\"y\":[33.270270270270274],\"yaxis\":\"y\",\"type\":\"scatter\"},{\"hovertemplate\":\"color=SUBCOMPACT<br>animation_frame=2016<br>x=%{x}<br>y=%{y}<extra></extra>\",\"ids\":[\"SUBCOMPACT\"],\"legendgroup\":\"SUBCOMPACT\",\"line\":{\"color\":\"#511CFB\",\"dash\":\"solid\"},\"marker\":{\"symbol\":\"circle\"},\"mode\":\"markers+lines\",\"name\":\"SUBCOMPACT\",\"orientation\":\"v\",\"showlegend\":true,\"x\":[2016],\"xaxis\":\"x\",\"y\":[28.513157894736842],\"yaxis\":\"y\",\"type\":\"scatter\"},{\"hovertemplate\":\"color=TWO-SEATER<br>animation_frame=2016<br>x=%{x}<br>y=%{y}<extra></extra>\",\"ids\":[\"TWO-SEATER\"],\"legendgroup\":\"TWO-SEATER\",\"line\":{\"color\":\"#FB00D1\",\"dash\":\"solid\"},\"marker\":{\"symbol\":\"circle\"},\"mode\":\"markers+lines\",\"name\":\"TWO-SEATER\",\"orientation\":\"v\",\"showlegend\":true,\"x\":[2016],\"xaxis\":\"x\",\"y\":[25.441176470588236],\"yaxis\":\"y\",\"type\":\"scatter\"},{\"hovertemplate\":\"color=VAN - PASSENGER<br>animation_frame=2016<br>x=%{x}<br>y=%{y}<extra></extra>\",\"ids\":[\"VAN - PASSENGER\"],\"legendgroup\":\"VAN - PASSENGER\",\"line\":{\"color\":\"#B2828D\",\"dash\":\"solid\"},\"marker\":{\"symbol\":\"circle\"},\"mode\":\"markers+lines\",\"name\":\"VAN - PASSENGER\",\"orientation\":\"v\",\"showlegend\":true,\"x\":[2016],\"xaxis\":\"x\",\"y\":[15.571428571428571],\"yaxis\":\"y\",\"type\":\"scatter\"},{\"hovertemplate\":\"color=SUV - STANDARD<br>animation_frame=2016<br>x=%{x}<br>y=%{y}<extra></extra>\",\"ids\":[\"SUV - STANDARD\"],\"legendgroup\":\"SUV - STANDARD\",\"line\":{\"color\":\"#6C7C32\",\"dash\":\"solid\"},\"marker\":{\"symbol\":\"circle\"},\"mode\":\"markers+lines\",\"name\":\"SUV - STANDARD\",\"orientation\":\"v\",\"showlegend\":true,\"x\":[2016],\"xaxis\":\"x\",\"y\":[21.850467289719628],\"yaxis\":\"y\",\"type\":\"scatter\"},{\"hovertemplate\":\"color=SPECIAL PURPOSE VEHICLE<br>animation_frame=2016<br>x=%{x}<br>y=%{y}<extra></extra>\",\"ids\":[\"SPECIAL PURPOSE VEHICLE\"],\"legendgroup\":\"SPECIAL PURPOSE VEHICLE\",\"line\":{\"color\":\"#778AAE\",\"dash\":\"solid\"},\"marker\":{\"symbol\":\"circle\"},\"mode\":\"markers+lines\",\"name\":\"SPECIAL PURPOSE VEHICLE\",\"orientation\":\"v\",\"showlegend\":true,\"x\":[2016],\"xaxis\":\"x\",\"y\":[25.647058823529413],\"yaxis\":\"y\",\"type\":\"scatter\"},{\"hovertemplate\":\"color=SUV - SMALL<br>animation_frame=2016<br>x=%{x}<br>y=%{y}<extra></extra>\",\"ids\":[\"SUV - SMALL\"],\"legendgroup\":\"SUV - SMALL\",\"line\":{\"color\":\"#862A16\",\"dash\":\"solid\"},\"marker\":{\"symbol\":\"circle\"},\"mode\":\"markers+lines\",\"name\":\"SUV - SMALL\",\"orientation\":\"v\",\"showlegend\":true,\"x\":[2016],\"xaxis\":\"x\",\"y\":[28.227777777777778],\"yaxis\":\"y\",\"type\":\"scatter\"}],\"name\":\"2016\"},{\"data\":[{\"hovertemplate\":\"color=COMPACT<br>animation_frame=2017<br>x=%{x}<br>y=%{y}<extra></extra>\",\"ids\":[\"COMPACT\"],\"legendgroup\":\"COMPACT\",\"line\":{\"color\":\"#2E91E5\",\"dash\":\"solid\"},\"marker\":{\"symbol\":\"circle\"},\"mode\":\"markers+lines\",\"name\":\"COMPACT\",\"orientation\":\"v\",\"showlegend\":true,\"x\":[2017],\"xaxis\":\"x\",\"y\":[31.60377358490566],\"yaxis\":\"y\",\"type\":\"scatter\"},{\"hovertemplate\":\"color=FULL-SIZE<br>animation_frame=2017<br>x=%{x}<br>y=%{y}<extra></extra>\",\"ids\":[\"FULL-SIZE\"],\"legendgroup\":\"FULL-SIZE\",\"line\":{\"color\":\"#E15F99\",\"dash\":\"solid\"},\"marker\":{\"symbol\":\"circle\"},\"mode\":\"markers+lines\",\"name\":\"FULL-SIZE\",\"orientation\":\"v\",\"showlegend\":true,\"x\":[2017],\"xaxis\":\"x\",\"y\":[26.402439024390244],\"yaxis\":\"y\",\"type\":\"scatter\"},{\"hovertemplate\":\"color=MID-SIZE<br>animation_frame=2017<br>x=%{x}<br>y=%{y}<extra></extra>\",\"ids\":[\"MID-SIZE\"],\"legendgroup\":\"MID-SIZE\",\"line\":{\"color\":\"#1CA71C\",\"dash\":\"solid\"},\"marker\":{\"symbol\":\"circle\"},\"mode\":\"markers+lines\",\"name\":\"MID-SIZE\",\"orientation\":\"v\",\"showlegend\":true,\"x\":[2017],\"xaxis\":\"x\",\"y\":[31.166666666666668],\"yaxis\":\"y\",\"type\":\"scatter\"},{\"hovertemplate\":\"color=MINICOMPACT<br>animation_frame=2017<br>x=%{x}<br>y=%{y}<extra></extra>\",\"ids\":[\"MINICOMPACT\"],\"legendgroup\":\"MINICOMPACT\",\"line\":{\"color\":\"#FB0D0D\",\"dash\":\"solid\"},\"marker\":{\"symbol\":\"circle\"},\"mode\":\"markers+lines\",\"name\":\"MINICOMPACT\",\"orientation\":\"v\",\"showlegend\":true,\"x\":[2017],\"xaxis\":\"x\",\"y\":[29.84090909090909],\"yaxis\":\"y\",\"type\":\"scatter\"},{\"hovertemplate\":\"color=MINIVAN<br>animation_frame=2017<br>x=%{x}<br>y=%{y}<extra></extra>\",\"ids\":[\"MINIVAN\"],\"legendgroup\":\"MINIVAN\",\"line\":{\"color\":\"#DA16FF\",\"dash\":\"solid\"},\"marker\":{\"symbol\":\"circle\"},\"mode\":\"markers+lines\",\"name\":\"MINIVAN\",\"orientation\":\"v\",\"showlegend\":true,\"x\":[2017],\"xaxis\":\"x\",\"y\":[25.0],\"yaxis\":\"y\",\"type\":\"scatter\"},{\"hovertemplate\":\"color=PICKUP TRUCK - SMALL<br>animation_frame=2017<br>x=%{x}<br>y=%{y}<extra></extra>\",\"ids\":[\"PICKUP TRUCK - SMALL\"],\"legendgroup\":\"PICKUP TRUCK - SMALL\",\"line\":{\"color\":\"#222A2A\",\"dash\":\"solid\"},\"marker\":{\"symbol\":\"circle\"},\"mode\":\"markers+lines\",\"name\":\"PICKUP TRUCK - SMALL\",\"orientation\":\"v\",\"showlegend\":true,\"x\":[2017],\"xaxis\":\"x\",\"y\":[24.392857142857142],\"yaxis\":\"y\",\"type\":\"scatter\"},{\"hovertemplate\":\"color=PICKUP TRUCK - STANDARD<br>animation_frame=2017<br>x=%{x}<br>y=%{y}<extra></extra>\",\"ids\":[\"PICKUP TRUCK - STANDARD\"],\"legendgroup\":\"PICKUP TRUCK - STANDARD\",\"line\":{\"color\":\"#B68100\",\"dash\":\"solid\"},\"marker\":{\"symbol\":\"circle\"},\"mode\":\"markers+lines\",\"name\":\"PICKUP TRUCK - STANDARD\",\"orientation\":\"v\",\"showlegend\":true,\"x\":[2017],\"xaxis\":\"x\",\"y\":[20.56],\"yaxis\":\"y\",\"type\":\"scatter\"},{\"hovertemplate\":\"color=STATION WAGON - MID-SIZE<br>animation_frame=2017<br>x=%{x}<br>y=%{y}<extra></extra>\",\"ids\":[\"STATION WAGON - MID-SIZE\"],\"legendgroup\":\"STATION WAGON - MID-SIZE\",\"line\":{\"color\":\"#750D86\",\"dash\":\"solid\"},\"marker\":{\"symbol\":\"circle\"},\"mode\":\"markers+lines\",\"name\":\"STATION WAGON - MID-SIZE\",\"orientation\":\"v\",\"showlegend\":true,\"x\":[2017],\"xaxis\":\"x\",\"y\":[32.125],\"yaxis\":\"y\",\"type\":\"scatter\"},{\"hovertemplate\":\"color=STATION WAGON - SMALL<br>animation_frame=2017<br>x=%{x}<br>y=%{y}<extra></extra>\",\"ids\":[\"STATION WAGON - SMALL\"],\"legendgroup\":\"STATION WAGON - SMALL\",\"line\":{\"color\":\"#EB663B\",\"dash\":\"solid\"},\"marker\":{\"symbol\":\"circle\"},\"mode\":\"markers+lines\",\"name\":\"STATION WAGON - SMALL\",\"orientation\":\"v\",\"showlegend\":true,\"x\":[2017],\"xaxis\":\"x\",\"y\":[35.06666666666667],\"yaxis\":\"y\",\"type\":\"scatter\"},{\"hovertemplate\":\"color=SUBCOMPACT<br>animation_frame=2017<br>x=%{x}<br>y=%{y}<extra></extra>\",\"ids\":[\"SUBCOMPACT\"],\"legendgroup\":\"SUBCOMPACT\",\"line\":{\"color\":\"#511CFB\",\"dash\":\"solid\"},\"marker\":{\"symbol\":\"circle\"},\"mode\":\"markers+lines\",\"name\":\"SUBCOMPACT\",\"orientation\":\"v\",\"showlegend\":true,\"x\":[2017],\"xaxis\":\"x\",\"y\":[27.580645161290324],\"yaxis\":\"y\",\"type\":\"scatter\"},{\"hovertemplate\":\"color=TWO-SEATER<br>animation_frame=2017<br>x=%{x}<br>y=%{y}<extra></extra>\",\"ids\":[\"TWO-SEATER\"],\"legendgroup\":\"TWO-SEATER\",\"line\":{\"color\":\"#FB00D1\",\"dash\":\"solid\"},\"marker\":{\"symbol\":\"circle\"},\"mode\":\"markers+lines\",\"name\":\"TWO-SEATER\",\"orientation\":\"v\",\"showlegend\":true,\"x\":[2017],\"xaxis\":\"x\",\"y\":[24.75438596491228],\"yaxis\":\"y\",\"type\":\"scatter\"},{\"hovertemplate\":\"color=VAN - PASSENGER<br>animation_frame=2017<br>x=%{x}<br>y=%{y}<extra></extra>\",\"ids\":[\"VAN - PASSENGER\"],\"legendgroup\":\"VAN - PASSENGER\",\"line\":{\"color\":\"#B2828D\",\"dash\":\"solid\"},\"marker\":{\"symbol\":\"circle\"},\"mode\":\"markers+lines\",\"name\":\"VAN - PASSENGER\",\"orientation\":\"v\",\"showlegend\":true,\"x\":[2017],\"xaxis\":\"x\",\"y\":[16.0],\"yaxis\":\"y\",\"type\":\"scatter\"},{\"hovertemplate\":\"color=SUV - STANDARD<br>animation_frame=2017<br>x=%{x}<br>y=%{y}<extra></extra>\",\"ids\":[\"SUV - STANDARD\"],\"legendgroup\":\"SUV - STANDARD\",\"line\":{\"color\":\"#6C7C32\",\"dash\":\"solid\"},\"marker\":{\"symbol\":\"circle\"},\"mode\":\"markers+lines\",\"name\":\"SUV - STANDARD\",\"orientation\":\"v\",\"showlegend\":true,\"x\":[2017],\"xaxis\":\"x\",\"y\":[21.598039215686274],\"yaxis\":\"y\",\"type\":\"scatter\"},{\"hovertemplate\":\"color=SPECIAL PURPOSE VEHICLE<br>animation_frame=2017<br>x=%{x}<br>y=%{y}<extra></extra>\",\"ids\":[\"SPECIAL PURPOSE VEHICLE\"],\"legendgroup\":\"SPECIAL PURPOSE VEHICLE\",\"line\":{\"color\":\"#778AAE\",\"dash\":\"solid\"},\"marker\":{\"symbol\":\"circle\"},\"mode\":\"markers+lines\",\"name\":\"SPECIAL PURPOSE VEHICLE\",\"orientation\":\"v\",\"showlegend\":true,\"x\":[2017],\"xaxis\":\"x\",\"y\":[25.8],\"yaxis\":\"y\",\"type\":\"scatter\"},{\"hovertemplate\":\"color=SUV - SMALL<br>animation_frame=2017<br>x=%{x}<br>y=%{y}<extra></extra>\",\"ids\":[\"SUV - SMALL\"],\"legendgroup\":\"SUV - SMALL\",\"line\":{\"color\":\"#862A16\",\"dash\":\"solid\"},\"marker\":{\"symbol\":\"circle\"},\"mode\":\"markers+lines\",\"name\":\"SUV - SMALL\",\"orientation\":\"v\",\"showlegend\":true,\"x\":[2017],\"xaxis\":\"x\",\"y\":[27.775862068965516],\"yaxis\":\"y\",\"type\":\"scatter\"}],\"name\":\"2017\"},{\"data\":[{\"hovertemplate\":\"color=COMPACT<br>animation_frame=2018<br>x=%{x}<br>y=%{y}<extra></extra>\",\"ids\":[\"COMPACT\"],\"legendgroup\":\"COMPACT\",\"line\":{\"color\":\"#2E91E5\",\"dash\":\"solid\"},\"marker\":{\"symbol\":\"circle\"},\"mode\":\"markers+lines\",\"name\":\"COMPACT\",\"orientation\":\"v\",\"showlegend\":true,\"x\":[2018],\"xaxis\":\"x\",\"y\":[32.23770491803279],\"yaxis\":\"y\",\"type\":\"scatter\"},{\"hovertemplate\":\"color=FULL-SIZE<br>animation_frame=2018<br>x=%{x}<br>y=%{y}<extra></extra>\",\"ids\":[\"FULL-SIZE\"],\"legendgroup\":\"FULL-SIZE\",\"line\":{\"color\":\"#E15F99\",\"dash\":\"solid\"},\"marker\":{\"symbol\":\"circle\"},\"mode\":\"markers+lines\",\"name\":\"FULL-SIZE\",\"orientation\":\"v\",\"showlegend\":true,\"x\":[2018],\"xaxis\":\"x\",\"y\":[27.192660550458715],\"yaxis\":\"y\",\"type\":\"scatter\"},{\"hovertemplate\":\"color=MID-SIZE<br>animation_frame=2018<br>x=%{x}<br>y=%{y}<extra></extra>\",\"ids\":[\"MID-SIZE\"],\"legendgroup\":\"MID-SIZE\",\"line\":{\"color\":\"#1CA71C\",\"dash\":\"solid\"},\"marker\":{\"symbol\":\"circle\"},\"mode\":\"markers+lines\",\"name\":\"MID-SIZE\",\"orientation\":\"v\",\"showlegend\":true,\"x\":[2018],\"xaxis\":\"x\",\"y\":[31.664556962025316],\"yaxis\":\"y\",\"type\":\"scatter\"},{\"hovertemplate\":\"color=MINICOMPACT<br>animation_frame=2018<br>x=%{x}<br>y=%{y}<extra></extra>\",\"ids\":[\"MINICOMPACT\"],\"legendgroup\":\"MINICOMPACT\",\"line\":{\"color\":\"#FB0D0D\",\"dash\":\"solid\"},\"marker\":{\"symbol\":\"circle\"},\"mode\":\"markers+lines\",\"name\":\"MINICOMPACT\",\"orientation\":\"v\",\"showlegend\":true,\"x\":[2018],\"xaxis\":\"x\",\"y\":[28.245283018867923],\"yaxis\":\"y\",\"type\":\"scatter\"},{\"hovertemplate\":\"color=MINIVAN<br>animation_frame=2018<br>x=%{x}<br>y=%{y}<extra></extra>\",\"ids\":[\"MINIVAN\"],\"legendgroup\":\"MINIVAN\",\"line\":{\"color\":\"#DA16FF\",\"dash\":\"solid\"},\"marker\":{\"symbol\":\"circle\"},\"mode\":\"markers+lines\",\"name\":\"MINIVAN\",\"orientation\":\"v\",\"showlegend\":true,\"x\":[2018],\"xaxis\":\"x\",\"y\":[24.454545454545453],\"yaxis\":\"y\",\"type\":\"scatter\"},{\"hovertemplate\":\"color=PICKUP TRUCK - SMALL<br>animation_frame=2018<br>x=%{x}<br>y=%{y}<extra></extra>\",\"ids\":[\"PICKUP TRUCK - SMALL\"],\"legendgroup\":\"PICKUP TRUCK - SMALL\",\"line\":{\"color\":\"#222A2A\",\"dash\":\"solid\"},\"marker\":{\"symbol\":\"circle\"},\"mode\":\"markers+lines\",\"name\":\"PICKUP TRUCK - SMALL\",\"orientation\":\"v\",\"showlegend\":true,\"x\":[2018],\"xaxis\":\"x\",\"y\":[24.296296296296298],\"yaxis\":\"y\",\"type\":\"scatter\"},{\"hovertemplate\":\"color=PICKUP TRUCK - STANDARD<br>animation_frame=2018<br>x=%{x}<br>y=%{y}<extra></extra>\",\"ids\":[\"PICKUP TRUCK - STANDARD\"],\"legendgroup\":\"PICKUP TRUCK - STANDARD\",\"line\":{\"color\":\"#B68100\",\"dash\":\"solid\"},\"marker\":{\"symbol\":\"circle\"},\"mode\":\"markers+lines\",\"name\":\"PICKUP TRUCK - STANDARD\",\"orientation\":\"v\",\"showlegend\":true,\"x\":[2018],\"xaxis\":\"x\",\"y\":[21.329896907216494],\"yaxis\":\"y\",\"type\":\"scatter\"},{\"hovertemplate\":\"color=STATION WAGON - MID-SIZE<br>animation_frame=2018<br>x=%{x}<br>y=%{y}<extra></extra>\",\"ids\":[\"STATION WAGON - MID-SIZE\"],\"legendgroup\":\"STATION WAGON - MID-SIZE\",\"line\":{\"color\":\"#750D86\",\"dash\":\"solid\"},\"marker\":{\"symbol\":\"circle\"},\"mode\":\"markers+lines\",\"name\":\"STATION WAGON - MID-SIZE\",\"orientation\":\"v\",\"showlegend\":true,\"x\":[2018],\"xaxis\":\"x\",\"y\":[30.2],\"yaxis\":\"y\",\"type\":\"scatter\"},{\"hovertemplate\":\"color=STATION WAGON - SMALL<br>animation_frame=2018<br>x=%{x}<br>y=%{y}<extra></extra>\",\"ids\":[\"STATION WAGON - SMALL\"],\"legendgroup\":\"STATION WAGON - SMALL\",\"line\":{\"color\":\"#EB663B\",\"dash\":\"solid\"},\"marker\":{\"symbol\":\"circle\"},\"mode\":\"markers+lines\",\"name\":\"STATION WAGON - SMALL\",\"orientation\":\"v\",\"showlegend\":true,\"x\":[2018],\"xaxis\":\"x\",\"y\":[35.17948717948718],\"yaxis\":\"y\",\"type\":\"scatter\"},{\"hovertemplate\":\"color=SUBCOMPACT<br>animation_frame=2018<br>x=%{x}<br>y=%{y}<extra></extra>\",\"ids\":[\"SUBCOMPACT\"],\"legendgroup\":\"SUBCOMPACT\",\"line\":{\"color\":\"#511CFB\",\"dash\":\"solid\"},\"marker\":{\"symbol\":\"circle\"},\"mode\":\"markers+lines\",\"name\":\"SUBCOMPACT\",\"orientation\":\"v\",\"showlegend\":true,\"x\":[2018],\"xaxis\":\"x\",\"y\":[27.78125],\"yaxis\":\"y\",\"type\":\"scatter\"},{\"hovertemplate\":\"color=TWO-SEATER<br>animation_frame=2018<br>x=%{x}<br>y=%{y}<extra></extra>\",\"ids\":[\"TWO-SEATER\"],\"legendgroup\":\"TWO-SEATER\",\"line\":{\"color\":\"#FB00D1\",\"dash\":\"solid\"},\"marker\":{\"symbol\":\"circle\"},\"mode\":\"markers+lines\",\"name\":\"TWO-SEATER\",\"orientation\":\"v\",\"showlegend\":true,\"x\":[2018],\"xaxis\":\"x\",\"y\":[24.333333333333332],\"yaxis\":\"y\",\"type\":\"scatter\"},{\"hovertemplate\":\"color=VAN - PASSENGER<br>animation_frame=2018<br>x=%{x}<br>y=%{y}<extra></extra>\",\"ids\":[\"VAN - PASSENGER\"],\"legendgroup\":\"VAN - PASSENGER\",\"line\":{\"color\":\"#B2828D\",\"dash\":\"solid\"},\"marker\":{\"symbol\":\"circle\"},\"mode\":\"markers+lines\",\"name\":\"VAN - PASSENGER\",\"orientation\":\"v\",\"showlegend\":true,\"x\":[2018],\"xaxis\":\"x\",\"y\":[19.0],\"yaxis\":\"y\",\"type\":\"scatter\"},{\"hovertemplate\":\"color=SUV - STANDARD<br>animation_frame=2018<br>x=%{x}<br>y=%{y}<extra></extra>\",\"ids\":[\"SUV - STANDARD\"],\"legendgroup\":\"SUV - STANDARD\",\"line\":{\"color\":\"#6C7C32\",\"dash\":\"solid\"},\"marker\":{\"symbol\":\"circle\"},\"mode\":\"markers+lines\",\"name\":\"SUV - STANDARD\",\"orientation\":\"v\",\"showlegend\":true,\"x\":[2018],\"xaxis\":\"x\",\"y\":[21.601941747572816],\"yaxis\":\"y\",\"type\":\"scatter\"},{\"hovertemplate\":\"color=SPECIAL PURPOSE VEHICLE<br>animation_frame=2018<br>x=%{x}<br>y=%{y}<extra></extra>\",\"ids\":[\"SPECIAL PURPOSE VEHICLE\"],\"legendgroup\":\"SPECIAL PURPOSE VEHICLE\",\"line\":{\"color\":\"#778AAE\",\"dash\":\"solid\"},\"marker\":{\"symbol\":\"circle\"},\"mode\":\"markers+lines\",\"name\":\"SPECIAL PURPOSE VEHICLE\",\"orientation\":\"v\",\"showlegend\":true,\"x\":[2018],\"xaxis\":\"x\",\"y\":[25.4],\"yaxis\":\"y\",\"type\":\"scatter\"},{\"hovertemplate\":\"color=SUV - SMALL<br>animation_frame=2018<br>x=%{x}<br>y=%{y}<extra></extra>\",\"ids\":[\"SUV - SMALL\"],\"legendgroup\":\"SUV - SMALL\",\"line\":{\"color\":\"#862A16\",\"dash\":\"solid\"},\"marker\":{\"symbol\":\"circle\"},\"mode\":\"markers+lines\",\"name\":\"SUV - SMALL\",\"orientation\":\"v\",\"showlegend\":true,\"x\":[2018],\"xaxis\":\"x\",\"y\":[28.372881355932204],\"yaxis\":\"y\",\"type\":\"scatter\"}],\"name\":\"2018\"},{\"data\":[{\"hovertemplate\":\"color=COMPACT<br>animation_frame=2019<br>x=%{x}<br>y=%{y}<extra></extra>\",\"ids\":[\"COMPACT\"],\"legendgroup\":\"COMPACT\",\"line\":{\"color\":\"#2E91E5\",\"dash\":\"solid\"},\"marker\":{\"symbol\":\"circle\"},\"mode\":\"markers+lines\",\"name\":\"COMPACT\",\"orientation\":\"v\",\"showlegend\":true,\"x\":[2019],\"xaxis\":\"x\",\"y\":[32.43396226415094],\"yaxis\":\"y\",\"type\":\"scatter\"},{\"hovertemplate\":\"color=FULL-SIZE<br>animation_frame=2019<br>x=%{x}<br>y=%{y}<extra></extra>\",\"ids\":[\"FULL-SIZE\"],\"legendgroup\":\"FULL-SIZE\",\"line\":{\"color\":\"#E15F99\",\"dash\":\"solid\"},\"marker\":{\"symbol\":\"circle\"},\"mode\":\"markers+lines\",\"name\":\"FULL-SIZE\",\"orientation\":\"v\",\"showlegend\":true,\"x\":[2019],\"xaxis\":\"x\",\"y\":[26.603960396039604],\"yaxis\":\"y\",\"type\":\"scatter\"},{\"hovertemplate\":\"color=MID-SIZE<br>animation_frame=2019<br>x=%{x}<br>y=%{y}<extra></extra>\",\"ids\":[\"MID-SIZE\"],\"legendgroup\":\"MID-SIZE\",\"line\":{\"color\":\"#1CA71C\",\"dash\":\"solid\"},\"marker\":{\"symbol\":\"circle\"},\"mode\":\"markers+lines\",\"name\":\"MID-SIZE\",\"orientation\":\"v\",\"showlegend\":true,\"x\":[2019],\"xaxis\":\"x\",\"y\":[32.66206896551724],\"yaxis\":\"y\",\"type\":\"scatter\"},{\"hovertemplate\":\"color=MINICOMPACT<br>animation_frame=2019<br>x=%{x}<br>y=%{y}<extra></extra>\",\"ids\":[\"MINICOMPACT\"],\"legendgroup\":\"MINICOMPACT\",\"line\":{\"color\":\"#FB0D0D\",\"dash\":\"solid\"},\"marker\":{\"symbol\":\"circle\"},\"mode\":\"markers+lines\",\"name\":\"MINICOMPACT\",\"orientation\":\"v\",\"showlegend\":true,\"x\":[2019],\"xaxis\":\"x\",\"y\":[28.0],\"yaxis\":\"y\",\"type\":\"scatter\"},{\"hovertemplate\":\"color=MINIVAN<br>animation_frame=2019<br>x=%{x}<br>y=%{y}<extra></extra>\",\"ids\":[\"MINIVAN\"],\"legendgroup\":\"MINIVAN\",\"line\":{\"color\":\"#DA16FF\",\"dash\":\"solid\"},\"marker\":{\"symbol\":\"circle\"},\"mode\":\"markers+lines\",\"name\":\"MINIVAN\",\"orientation\":\"v\",\"showlegend\":true,\"x\":[2019],\"xaxis\":\"x\",\"y\":[24.666666666666668],\"yaxis\":\"y\",\"type\":\"scatter\"},{\"hovertemplate\":\"color=PICKUP TRUCK - SMALL<br>animation_frame=2019<br>x=%{x}<br>y=%{y}<extra></extra>\",\"ids\":[\"PICKUP TRUCK - SMALL\"],\"legendgroup\":\"PICKUP TRUCK - SMALL\",\"line\":{\"color\":\"#222A2A\",\"dash\":\"solid\"},\"marker\":{\"symbol\":\"circle\"},\"mode\":\"markers+lines\",\"name\":\"PICKUP TRUCK - SMALL\",\"orientation\":\"v\",\"showlegend\":true,\"x\":[2019],\"xaxis\":\"x\",\"y\":[24.16],\"yaxis\":\"y\",\"type\":\"scatter\"},{\"hovertemplate\":\"color=PICKUP TRUCK - STANDARD<br>animation_frame=2019<br>x=%{x}<br>y=%{y}<extra></extra>\",\"ids\":[\"PICKUP TRUCK - STANDARD\"],\"legendgroup\":\"PICKUP TRUCK - STANDARD\",\"line\":{\"color\":\"#B68100\",\"dash\":\"solid\"},\"marker\":{\"symbol\":\"circle\"},\"mode\":\"markers+lines\",\"name\":\"PICKUP TRUCK - STANDARD\",\"orientation\":\"v\",\"showlegend\":true,\"x\":[2019],\"xaxis\":\"x\",\"y\":[21.32323232323232],\"yaxis\":\"y\",\"type\":\"scatter\"},{\"hovertemplate\":\"color=STATION WAGON - MID-SIZE<br>animation_frame=2019<br>x=%{x}<br>y=%{y}<extra></extra>\",\"ids\":[\"STATION WAGON - MID-SIZE\"],\"legendgroup\":\"STATION WAGON - MID-SIZE\",\"line\":{\"color\":\"#750D86\",\"dash\":\"solid\"},\"marker\":{\"symbol\":\"circle\"},\"mode\":\"markers+lines\",\"name\":\"STATION WAGON - MID-SIZE\",\"orientation\":\"v\",\"showlegend\":true,\"x\":[2019],\"xaxis\":\"x\",\"y\":[26.11111111111111],\"yaxis\":\"y\",\"type\":\"scatter\"},{\"hovertemplate\":\"color=STATION WAGON - SMALL<br>animation_frame=2019<br>x=%{x}<br>y=%{y}<extra></extra>\",\"ids\":[\"STATION WAGON - SMALL\"],\"legendgroup\":\"STATION WAGON - SMALL\",\"line\":{\"color\":\"#EB663B\",\"dash\":\"solid\"},\"marker\":{\"symbol\":\"circle\"},\"mode\":\"markers+lines\",\"name\":\"STATION WAGON - SMALL\",\"orientation\":\"v\",\"showlegend\":true,\"x\":[2019],\"xaxis\":\"x\",\"y\":[34.891891891891895],\"yaxis\":\"y\",\"type\":\"scatter\"},{\"hovertemplate\":\"color=SUBCOMPACT<br>animation_frame=2019<br>x=%{x}<br>y=%{y}<extra></extra>\",\"ids\":[\"SUBCOMPACT\"],\"legendgroup\":\"SUBCOMPACT\",\"line\":{\"color\":\"#511CFB\",\"dash\":\"solid\"},\"marker\":{\"symbol\":\"circle\"},\"mode\":\"markers+lines\",\"name\":\"SUBCOMPACT\",\"orientation\":\"v\",\"showlegend\":true,\"x\":[2019],\"xaxis\":\"x\",\"y\":[27.948979591836736],\"yaxis\":\"y\",\"type\":\"scatter\"},{\"hovertemplate\":\"color=TWO-SEATER<br>animation_frame=2019<br>x=%{x}<br>y=%{y}<extra></extra>\",\"ids\":[\"TWO-SEATER\"],\"legendgroup\":\"TWO-SEATER\",\"line\":{\"color\":\"#FB00D1\",\"dash\":\"solid\"},\"marker\":{\"symbol\":\"circle\"},\"mode\":\"markers+lines\",\"name\":\"TWO-SEATER\",\"orientation\":\"v\",\"showlegend\":true,\"x\":[2019],\"xaxis\":\"x\",\"y\":[24.37142857142857],\"yaxis\":\"y\",\"type\":\"scatter\"},{\"hovertemplate\":\"color=VAN - PASSENGER<br>animation_frame=2019<br>x=%{x}<br>y=%{y}<extra></extra>\",\"ids\":[\"VAN - PASSENGER\"],\"legendgroup\":\"VAN - PASSENGER\",\"line\":{\"color\":\"#B2828D\",\"dash\":\"solid\"},\"marker\":{\"symbol\":\"circle\"},\"mode\":\"markers+lines\",\"name\":\"VAN - PASSENGER\",\"orientation\":\"v\",\"showlegend\":true,\"x\":[2019],\"xaxis\":\"x\",\"y\":[19.0],\"yaxis\":\"y\",\"type\":\"scatter\"},{\"hovertemplate\":\"color=SUV - STANDARD<br>animation_frame=2019<br>x=%{x}<br>y=%{y}<extra></extra>\",\"ids\":[\"SUV - STANDARD\"],\"legendgroup\":\"SUV - STANDARD\",\"line\":{\"color\":\"#6C7C32\",\"dash\":\"solid\"},\"marker\":{\"symbol\":\"circle\"},\"mode\":\"markers+lines\",\"name\":\"SUV - STANDARD\",\"orientation\":\"v\",\"showlegend\":true,\"x\":[2019],\"xaxis\":\"x\",\"y\":[21.756756756756758],\"yaxis\":\"y\",\"type\":\"scatter\"},{\"hovertemplate\":\"color=SPECIAL PURPOSE VEHICLE<br>animation_frame=2019<br>x=%{x}<br>y=%{y}<extra></extra>\",\"ids\":[\"SPECIAL PURPOSE VEHICLE\"],\"legendgroup\":\"SPECIAL PURPOSE VEHICLE\",\"line\":{\"color\":\"#778AAE\",\"dash\":\"solid\"},\"marker\":{\"symbol\":\"circle\"},\"mode\":\"markers+lines\",\"name\":\"SPECIAL PURPOSE VEHICLE\",\"orientation\":\"v\",\"showlegend\":true,\"x\":[2019],\"xaxis\":\"x\",\"y\":[27.071428571428573],\"yaxis\":\"y\",\"type\":\"scatter\"},{\"hovertemplate\":\"color=SUV - SMALL<br>animation_frame=2019<br>x=%{x}<br>y=%{y}<extra></extra>\",\"ids\":[\"SUV - SMALL\"],\"legendgroup\":\"SUV - SMALL\",\"line\":{\"color\":\"#862A16\",\"dash\":\"solid\"},\"marker\":{\"symbol\":\"circle\"},\"mode\":\"markers+lines\",\"name\":\"SUV - SMALL\",\"orientation\":\"v\",\"showlegend\":true,\"x\":[2019],\"xaxis\":\"x\",\"y\":[28.913793103448278],\"yaxis\":\"y\",\"type\":\"scatter\"}],\"name\":\"2019\"},{\"data\":[{\"hovertemplate\":\"color=COMPACT<br>animation_frame=2020<br>x=%{x}<br>y=%{y}<extra></extra>\",\"ids\":[\"COMPACT\"],\"legendgroup\":\"COMPACT\",\"line\":{\"color\":\"#2E91E5\",\"dash\":\"solid\"},\"marker\":{\"symbol\":\"circle\"},\"mode\":\"markers+lines\",\"name\":\"COMPACT\",\"orientation\":\"v\",\"showlegend\":true,\"x\":[2020],\"xaxis\":\"x\",\"y\":[32.28703703703704],\"yaxis\":\"y\",\"type\":\"scatter\"},{\"hovertemplate\":\"color=FULL-SIZE<br>animation_frame=2020<br>x=%{x}<br>y=%{y}<extra></extra>\",\"ids\":[\"FULL-SIZE\"],\"legendgroup\":\"FULL-SIZE\",\"line\":{\"color\":\"#E15F99\",\"dash\":\"solid\"},\"marker\":{\"symbol\":\"circle\"},\"mode\":\"markers+lines\",\"name\":\"FULL-SIZE\",\"orientation\":\"v\",\"showlegend\":true,\"x\":[2020],\"xaxis\":\"x\",\"y\":[28.102564102564102],\"yaxis\":\"y\",\"type\":\"scatter\"},{\"hovertemplate\":\"color=MID-SIZE<br>animation_frame=2020<br>x=%{x}<br>y=%{y}<extra></extra>\",\"ids\":[\"MID-SIZE\"],\"legendgroup\":\"MID-SIZE\",\"line\":{\"color\":\"#1CA71C\",\"dash\":\"solid\"},\"marker\":{\"symbol\":\"circle\"},\"mode\":\"markers+lines\",\"name\":\"MID-SIZE\",\"orientation\":\"v\",\"showlegend\":true,\"x\":[2020],\"xaxis\":\"x\",\"y\":[31.365079365079364],\"yaxis\":\"y\",\"type\":\"scatter\"},{\"hovertemplate\":\"color=MINICOMPACT<br>animation_frame=2020<br>x=%{x}<br>y=%{y}<extra></extra>\",\"ids\":[\"MINICOMPACT\"],\"legendgroup\":\"MINICOMPACT\",\"line\":{\"color\":\"#FB0D0D\",\"dash\":\"solid\"},\"marker\":{\"symbol\":\"circle\"},\"mode\":\"markers+lines\",\"name\":\"MINICOMPACT\",\"orientation\":\"v\",\"showlegend\":true,\"x\":[2020],\"xaxis\":\"x\",\"y\":[26.652173913043477],\"yaxis\":\"y\",\"type\":\"scatter\"},{\"hovertemplate\":\"color=MINIVAN<br>animation_frame=2020<br>x=%{x}<br>y=%{y}<extra></extra>\",\"ids\":[\"MINIVAN\"],\"legendgroup\":\"MINIVAN\",\"line\":{\"color\":\"#DA16FF\",\"dash\":\"solid\"},\"marker\":{\"symbol\":\"circle\"},\"mode\":\"markers+lines\",\"name\":\"MINIVAN\",\"orientation\":\"v\",\"showlegend\":true,\"x\":[2020],\"xaxis\":\"x\",\"y\":[25.5],\"yaxis\":\"y\",\"type\":\"scatter\"},{\"hovertemplate\":\"color=PICKUP TRUCK - SMALL<br>animation_frame=2020<br>x=%{x}<br>y=%{y}<extra></extra>\",\"ids\":[\"PICKUP TRUCK - SMALL\"],\"legendgroup\":\"PICKUP TRUCK - SMALL\",\"line\":{\"color\":\"#222A2A\",\"dash\":\"solid\"},\"marker\":{\"symbol\":\"circle\"},\"mode\":\"markers+lines\",\"name\":\"PICKUP TRUCK - SMALL\",\"orientation\":\"v\",\"showlegend\":true,\"x\":[2020],\"xaxis\":\"x\",\"y\":[24.526315789473685],\"yaxis\":\"y\",\"type\":\"scatter\"},{\"hovertemplate\":\"color=PICKUP TRUCK - STANDARD<br>animation_frame=2020<br>x=%{x}<br>y=%{y}<extra></extra>\",\"ids\":[\"PICKUP TRUCK - STANDARD\"],\"legendgroup\":\"PICKUP TRUCK - STANDARD\",\"line\":{\"color\":\"#B68100\",\"dash\":\"solid\"},\"marker\":{\"symbol\":\"circle\"},\"mode\":\"markers+lines\",\"name\":\"PICKUP TRUCK - STANDARD\",\"orientation\":\"v\",\"showlegend\":true,\"x\":[2020],\"xaxis\":\"x\",\"y\":[22.13186813186813],\"yaxis\":\"y\",\"type\":\"scatter\"},{\"hovertemplate\":\"color=STATION WAGON - MID-SIZE<br>animation_frame=2020<br>x=%{x}<br>y=%{y}<extra></extra>\",\"ids\":[\"STATION WAGON - MID-SIZE\"],\"legendgroup\":\"STATION WAGON - MID-SIZE\",\"line\":{\"color\":\"#750D86\",\"dash\":\"solid\"},\"marker\":{\"symbol\":\"circle\"},\"mode\":\"markers+lines\",\"name\":\"STATION WAGON - MID-SIZE\",\"orientation\":\"v\",\"showlegend\":true,\"x\":[2020],\"xaxis\":\"x\",\"y\":[24.0],\"yaxis\":\"y\",\"type\":\"scatter\"},{\"hovertemplate\":\"color=STATION WAGON - SMALL<br>animation_frame=2020<br>x=%{x}<br>y=%{y}<extra></extra>\",\"ids\":[\"STATION WAGON - SMALL\"],\"legendgroup\":\"STATION WAGON - SMALL\",\"line\":{\"color\":\"#EB663B\",\"dash\":\"solid\"},\"marker\":{\"symbol\":\"circle\"},\"mode\":\"markers+lines\",\"name\":\"STATION WAGON - SMALL\",\"orientation\":\"v\",\"showlegend\":true,\"x\":[2020],\"xaxis\":\"x\",\"y\":[36.2],\"yaxis\":\"y\",\"type\":\"scatter\"},{\"hovertemplate\":\"color=SUBCOMPACT<br>animation_frame=2020<br>x=%{x}<br>y=%{y}<extra></extra>\",\"ids\":[\"SUBCOMPACT\"],\"legendgroup\":\"SUBCOMPACT\",\"line\":{\"color\":\"#511CFB\",\"dash\":\"solid\"},\"marker\":{\"symbol\":\"circle\"},\"mode\":\"markers+lines\",\"name\":\"SUBCOMPACT\",\"orientation\":\"v\",\"showlegend\":true,\"x\":[2020],\"xaxis\":\"x\",\"y\":[26.821052631578947],\"yaxis\":\"y\",\"type\":\"scatter\"},{\"hovertemplate\":\"color=TWO-SEATER<br>animation_frame=2020<br>x=%{x}<br>y=%{y}<extra></extra>\",\"ids\":[\"TWO-SEATER\"],\"legendgroup\":\"TWO-SEATER\",\"line\":{\"color\":\"#FB00D1\",\"dash\":\"solid\"},\"marker\":{\"symbol\":\"circle\"},\"mode\":\"markers+lines\",\"name\":\"TWO-SEATER\",\"orientation\":\"v\",\"showlegend\":true,\"x\":[2020],\"xaxis\":\"x\",\"y\":[24.421875],\"yaxis\":\"y\",\"type\":\"scatter\"},{\"hovertemplate\":\"color=VAN - PASSENGER<br>animation_frame=2020<br>x=%{x}<br>y=%{y}<extra></extra>\",\"ids\":[\"VAN - PASSENGER\"],\"legendgroup\":\"VAN - PASSENGER\",\"line\":{\"color\":\"#B2828D\",\"dash\":\"solid\"},\"marker\":{\"symbol\":\"circle\"},\"mode\":\"markers+lines\",\"name\":\"VAN - PASSENGER\",\"orientation\":\"v\",\"showlegend\":true,\"x\":[2020],\"xaxis\":\"x\",\"y\":[16.75],\"yaxis\":\"y\",\"type\":\"scatter\"},{\"hovertemplate\":\"color=SUV - STANDARD<br>animation_frame=2020<br>x=%{x}<br>y=%{y}<extra></extra>\",\"ids\":[\"SUV - STANDARD\"],\"legendgroup\":\"SUV - STANDARD\",\"line\":{\"color\":\"#6C7C32\",\"dash\":\"solid\"},\"marker\":{\"symbol\":\"circle\"},\"mode\":\"markers+lines\",\"name\":\"SUV - STANDARD\",\"orientation\":\"v\",\"showlegend\":true,\"x\":[2020],\"xaxis\":\"x\",\"y\":[22.084745762711865],\"yaxis\":\"y\",\"type\":\"scatter\"},{\"hovertemplate\":\"color=SPECIAL PURPOSE VEHICLE<br>animation_frame=2020<br>x=%{x}<br>y=%{y}<extra></extra>\",\"ids\":[\"SPECIAL PURPOSE VEHICLE\"],\"legendgroup\":\"SPECIAL PURPOSE VEHICLE\",\"line\":{\"color\":\"#778AAE\",\"dash\":\"solid\"},\"marker\":{\"symbol\":\"circle\"},\"mode\":\"markers+lines\",\"name\":\"SPECIAL PURPOSE VEHICLE\",\"orientation\":\"v\",\"showlegend\":true,\"x\":[2020],\"xaxis\":\"x\",\"y\":[27.615384615384617],\"yaxis\":\"y\",\"type\":\"scatter\"},{\"hovertemplate\":\"color=SUV - SMALL<br>animation_frame=2020<br>x=%{x}<br>y=%{y}<extra></extra>\",\"ids\":[\"SUV - SMALL\"],\"legendgroup\":\"SUV - SMALL\",\"line\":{\"color\":\"#862A16\",\"dash\":\"solid\"},\"marker\":{\"symbol\":\"circle\"},\"mode\":\"markers+lines\",\"name\":\"SUV - SMALL\",\"orientation\":\"v\",\"showlegend\":true,\"x\":[2020],\"xaxis\":\"x\",\"y\":[28.824468085106382],\"yaxis\":\"y\",\"type\":\"scatter\"}],\"name\":\"2020\"},{\"data\":[{\"hovertemplate\":\"color=COMPACT<br>animation_frame=2021<br>x=%{x}<br>y=%{y}<extra></extra>\",\"ids\":[\"COMPACT\"],\"legendgroup\":\"COMPACT\",\"line\":{\"color\":\"#2E91E5\",\"dash\":\"solid\"},\"marker\":{\"symbol\":\"circle\"},\"mode\":\"markers+lines\",\"name\":\"COMPACT\",\"orientation\":\"v\",\"showlegend\":true,\"x\":[2021],\"xaxis\":\"x\",\"y\":[32.92941176470588],\"yaxis\":\"y\",\"type\":\"scatter\"},{\"hovertemplate\":\"color=FULL-SIZE<br>animation_frame=2021<br>x=%{x}<br>y=%{y}<extra></extra>\",\"ids\":[\"FULL-SIZE\"],\"legendgroup\":\"FULL-SIZE\",\"line\":{\"color\":\"#E15F99\",\"dash\":\"solid\"},\"marker\":{\"symbol\":\"circle\"},\"mode\":\"markers+lines\",\"name\":\"FULL-SIZE\",\"orientation\":\"v\",\"showlegend\":true,\"x\":[2021],\"xaxis\":\"x\",\"y\":[29.0],\"yaxis\":\"y\",\"type\":\"scatter\"},{\"hovertemplate\":\"color=MID-SIZE<br>animation_frame=2021<br>x=%{x}<br>y=%{y}<extra></extra>\",\"ids\":[\"MID-SIZE\"],\"legendgroup\":\"MID-SIZE\",\"line\":{\"color\":\"#1CA71C\",\"dash\":\"solid\"},\"marker\":{\"symbol\":\"circle\"},\"mode\":\"markers+lines\",\"name\":\"MID-SIZE\",\"orientation\":\"v\",\"showlegend\":true,\"x\":[2021],\"xaxis\":\"x\",\"y\":[31.42105263157895],\"yaxis\":\"y\",\"type\":\"scatter\"},{\"hovertemplate\":\"color=MINICOMPACT<br>animation_frame=2021<br>x=%{x}<br>y=%{y}<extra></extra>\",\"ids\":[\"MINICOMPACT\"],\"legendgroup\":\"MINICOMPACT\",\"line\":{\"color\":\"#FB0D0D\",\"dash\":\"solid\"},\"marker\":{\"symbol\":\"circle\"},\"mode\":\"markers+lines\",\"name\":\"MINICOMPACT\",\"orientation\":\"v\",\"showlegend\":true,\"x\":[2021],\"xaxis\":\"x\",\"y\":[24.9],\"yaxis\":\"y\",\"type\":\"scatter\"},{\"hovertemplate\":\"color=MINIVAN<br>animation_frame=2021<br>x=%{x}<br>y=%{y}<extra></extra>\",\"ids\":[\"MINIVAN\"],\"legendgroup\":\"MINIVAN\",\"line\":{\"color\":\"#DA16FF\",\"dash\":\"solid\"},\"marker\":{\"symbol\":\"circle\"},\"mode\":\"markers+lines\",\"name\":\"MINIVAN\",\"orientation\":\"v\",\"showlegend\":true,\"x\":[2021],\"xaxis\":\"x\",\"y\":[30.714285714285715],\"yaxis\":\"y\",\"type\":\"scatter\"},{\"hovertemplate\":\"color=PICKUP TRUCK - SMALL<br>animation_frame=2021<br>x=%{x}<br>y=%{y}<extra></extra>\",\"ids\":[\"PICKUP TRUCK - SMALL\"],\"legendgroup\":\"PICKUP TRUCK - SMALL\",\"line\":{\"color\":\"#222A2A\",\"dash\":\"solid\"},\"marker\":{\"symbol\":\"circle\"},\"mode\":\"markers+lines\",\"name\":\"PICKUP TRUCK - SMALL\",\"orientation\":\"v\",\"showlegend\":true,\"x\":[2021],\"xaxis\":\"x\",\"y\":[24.58823529411765],\"yaxis\":\"y\",\"type\":\"scatter\"},{\"hovertemplate\":\"color=PICKUP TRUCK - STANDARD<br>animation_frame=2021<br>x=%{x}<br>y=%{y}<extra></extra>\",\"ids\":[\"PICKUP TRUCK - STANDARD\"],\"legendgroup\":\"PICKUP TRUCK - STANDARD\",\"line\":{\"color\":\"#B68100\",\"dash\":\"solid\"},\"marker\":{\"symbol\":\"circle\"},\"mode\":\"markers+lines\",\"name\":\"PICKUP TRUCK - STANDARD\",\"orientation\":\"v\",\"showlegend\":true,\"x\":[2021],\"xaxis\":\"x\",\"y\":[21.8],\"yaxis\":\"y\",\"type\":\"scatter\"},{\"hovertemplate\":\"color=STATION WAGON - MID-SIZE<br>animation_frame=2021<br>x=%{x}<br>y=%{y}<extra></extra>\",\"ids\":[\"STATION WAGON - MID-SIZE\"],\"legendgroup\":\"STATION WAGON - MID-SIZE\",\"line\":{\"color\":\"#750D86\",\"dash\":\"solid\"},\"marker\":{\"symbol\":\"circle\"},\"mode\":\"markers+lines\",\"name\":\"STATION WAGON - MID-SIZE\",\"orientation\":\"v\",\"showlegend\":true,\"x\":[2021],\"xaxis\":\"x\",\"y\":[24.0],\"yaxis\":\"y\",\"type\":\"scatter\"},{\"hovertemplate\":\"color=STATION WAGON - SMALL<br>animation_frame=2021<br>x=%{x}<br>y=%{y}<extra></extra>\",\"ids\":[\"STATION WAGON - SMALL\"],\"legendgroup\":\"STATION WAGON - SMALL\",\"line\":{\"color\":\"#EB663B\",\"dash\":\"solid\"},\"marker\":{\"symbol\":\"circle\"},\"mode\":\"markers+lines\",\"name\":\"STATION WAGON - SMALL\",\"orientation\":\"v\",\"showlegend\":true,\"x\":[2021],\"xaxis\":\"x\",\"y\":[36.4],\"yaxis\":\"y\",\"type\":\"scatter\"},{\"hovertemplate\":\"color=SUBCOMPACT<br>animation_frame=2021<br>x=%{x}<br>y=%{y}<extra></extra>\",\"ids\":[\"SUBCOMPACT\"],\"legendgroup\":\"SUBCOMPACT\",\"line\":{\"color\":\"#511CFB\",\"dash\":\"solid\"},\"marker\":{\"symbol\":\"circle\"},\"mode\":\"markers+lines\",\"name\":\"SUBCOMPACT\",\"orientation\":\"v\",\"showlegend\":true,\"x\":[2021],\"xaxis\":\"x\",\"y\":[27.373493975903614],\"yaxis\":\"y\",\"type\":\"scatter\"},{\"hovertemplate\":\"color=TWO-SEATER<br>animation_frame=2021<br>x=%{x}<br>y=%{y}<extra></extra>\",\"ids\":[\"TWO-SEATER\"],\"legendgroup\":\"TWO-SEATER\",\"line\":{\"color\":\"#FB00D1\",\"dash\":\"solid\"},\"marker\":{\"symbol\":\"circle\"},\"mode\":\"markers+lines\",\"name\":\"TWO-SEATER\",\"orientation\":\"v\",\"showlegend\":true,\"x\":[2021],\"xaxis\":\"x\",\"y\":[23.0],\"yaxis\":\"y\",\"type\":\"scatter\"},{\"hovertemplate\":\"color=VAN - PASSENGER<br>animation_frame=2021<br>x=%{x}<br>y=%{y}<extra></extra>\",\"ids\":[\"VAN - PASSENGER\"],\"legendgroup\":\"VAN - PASSENGER\",\"line\":{\"color\":\"#B2828D\",\"dash\":\"solid\"},\"marker\":{\"symbol\":\"circle\"},\"mode\":\"markers+lines\",\"name\":\"VAN - PASSENGER\",\"orientation\":\"v\",\"showlegend\":true,\"x\":[2021],\"xaxis\":\"x\",\"y\":[16.75],\"yaxis\":\"y\",\"type\":\"scatter\"},{\"hovertemplate\":\"color=SUV - STANDARD<br>animation_frame=2021<br>x=%{x}<br>y=%{y}<extra></extra>\",\"ids\":[\"SUV - STANDARD\"],\"legendgroup\":\"SUV - STANDARD\",\"line\":{\"color\":\"#6C7C32\",\"dash\":\"solid\"},\"marker\":{\"symbol\":\"circle\"},\"mode\":\"markers+lines\",\"name\":\"SUV - STANDARD\",\"orientation\":\"v\",\"showlegend\":true,\"x\":[2021],\"xaxis\":\"x\",\"y\":[22.58267716535433],\"yaxis\":\"y\",\"type\":\"scatter\"},{\"hovertemplate\":\"color=SPECIAL PURPOSE VEHICLE<br>animation_frame=2021<br>x=%{x}<br>y=%{y}<extra></extra>\",\"ids\":[\"SPECIAL PURPOSE VEHICLE\"],\"legendgroup\":\"SPECIAL PURPOSE VEHICLE\",\"line\":{\"color\":\"#778AAE\",\"dash\":\"solid\"},\"marker\":{\"symbol\":\"circle\"},\"mode\":\"markers+lines\",\"name\":\"SPECIAL PURPOSE VEHICLE\",\"orientation\":\"v\",\"showlegend\":true,\"x\":[2021],\"xaxis\":\"x\",\"y\":[27.076923076923077],\"yaxis\":\"y\",\"type\":\"scatter\"},{\"hovertemplate\":\"color=SUV - SMALL<br>animation_frame=2021<br>x=%{x}<br>y=%{y}<extra></extra>\",\"ids\":[\"SUV - SMALL\"],\"legendgroup\":\"SUV - SMALL\",\"line\":{\"color\":\"#862A16\",\"dash\":\"solid\"},\"marker\":{\"symbol\":\"circle\"},\"mode\":\"markers+lines\",\"name\":\"SUV - SMALL\",\"orientation\":\"v\",\"showlegend\":true,\"x\":[2021],\"xaxis\":\"x\",\"y\":[29.435233160621763],\"yaxis\":\"y\",\"type\":\"scatter\"}],\"name\":\"2021\"},{\"data\":[{\"hovertemplate\":\"color=COMPACT<br>animation_frame=2022<br>x=%{x}<br>y=%{y}<extra></extra>\",\"ids\":[\"COMPACT\"],\"legendgroup\":\"COMPACT\",\"line\":{\"color\":\"#2E91E5\",\"dash\":\"solid\"},\"marker\":{\"symbol\":\"circle\"},\"mode\":\"markers+lines\",\"name\":\"COMPACT\",\"orientation\":\"v\",\"showlegend\":true,\"x\":[2022],\"xaxis\":\"x\",\"y\":[33.22857142857143],\"yaxis\":\"y\",\"type\":\"scatter\"},{\"hovertemplate\":\"color=FULL-SIZE<br>animation_frame=2022<br>x=%{x}<br>y=%{y}<extra></extra>\",\"ids\":[\"FULL-SIZE\"],\"legendgroup\":\"FULL-SIZE\",\"line\":{\"color\":\"#E15F99\",\"dash\":\"solid\"},\"marker\":{\"symbol\":\"circle\"},\"mode\":\"markers+lines\",\"name\":\"FULL-SIZE\",\"orientation\":\"v\",\"showlegend\":true,\"x\":[2022],\"xaxis\":\"x\",\"y\":[28.890625],\"yaxis\":\"y\",\"type\":\"scatter\"},{\"hovertemplate\":\"color=MID-SIZE<br>animation_frame=2022<br>x=%{x}<br>y=%{y}<extra></extra>\",\"ids\":[\"MID-SIZE\"],\"legendgroup\":\"MID-SIZE\",\"line\":{\"color\":\"#1CA71C\",\"dash\":\"solid\"},\"marker\":{\"symbol\":\"circle\"},\"mode\":\"markers+lines\",\"name\":\"MID-SIZE\",\"orientation\":\"v\",\"showlegend\":true,\"x\":[2022],\"xaxis\":\"x\",\"y\":[31.034188034188034],\"yaxis\":\"y\",\"type\":\"scatter\"},{\"hovertemplate\":\"color=MINICOMPACT<br>animation_frame=2022<br>x=%{x}<br>y=%{y}<extra></extra>\",\"ids\":[\"MINICOMPACT\"],\"legendgroup\":\"MINICOMPACT\",\"line\":{\"color\":\"#FB0D0D\",\"dash\":\"solid\"},\"marker\":{\"symbol\":\"circle\"},\"mode\":\"markers+lines\",\"name\":\"MINICOMPACT\",\"orientation\":\"v\",\"showlegend\":true,\"x\":[2022],\"xaxis\":\"x\",\"y\":[24.224489795918366],\"yaxis\":\"y\",\"type\":\"scatter\"},{\"hovertemplate\":\"color=MINIVAN<br>animation_frame=2022<br>x=%{x}<br>y=%{y}<extra></extra>\",\"ids\":[\"MINIVAN\"],\"legendgroup\":\"MINIVAN\",\"line\":{\"color\":\"#DA16FF\",\"dash\":\"solid\"},\"marker\":{\"symbol\":\"circle\"},\"mode\":\"markers+lines\",\"name\":\"MINIVAN\",\"orientation\":\"v\",\"showlegend\":true,\"x\":[2022],\"xaxis\":\"x\",\"y\":[31.0],\"yaxis\":\"y\",\"type\":\"scatter\"},{\"hovertemplate\":\"color=PICKUP TRUCK - SMALL<br>animation_frame=2022<br>x=%{x}<br>y=%{y}<extra></extra>\",\"ids\":[\"PICKUP TRUCK - SMALL\"],\"legendgroup\":\"PICKUP TRUCK - SMALL\",\"line\":{\"color\":\"#222A2A\",\"dash\":\"solid\"},\"marker\":{\"symbol\":\"circle\"},\"mode\":\"markers+lines\",\"name\":\"PICKUP TRUCK - SMALL\",\"orientation\":\"v\",\"showlegend\":true,\"x\":[2022],\"xaxis\":\"x\",\"y\":[26.0],\"yaxis\":\"y\",\"type\":\"scatter\"},{\"hovertemplate\":\"color=PICKUP TRUCK - STANDARD<br>animation_frame=2022<br>x=%{x}<br>y=%{y}<extra></extra>\",\"ids\":[\"PICKUP TRUCK - STANDARD\"],\"legendgroup\":\"PICKUP TRUCK - STANDARD\",\"line\":{\"color\":\"#B68100\",\"dash\":\"solid\"},\"marker\":{\"symbol\":\"circle\"},\"mode\":\"markers+lines\",\"name\":\"PICKUP TRUCK - STANDARD\",\"orientation\":\"v\",\"showlegend\":true,\"x\":[2022],\"xaxis\":\"x\",\"y\":[21.460176991150444],\"yaxis\":\"y\",\"type\":\"scatter\"},{\"hovertemplate\":\"color=STATION WAGON - MID-SIZE<br>animation_frame=2022<br>x=%{x}<br>y=%{y}<extra></extra>\",\"ids\":[\"STATION WAGON - MID-SIZE\"],\"legendgroup\":\"STATION WAGON - MID-SIZE\",\"line\":{\"color\":\"#750D86\",\"dash\":\"solid\"},\"marker\":{\"symbol\":\"circle\"},\"mode\":\"markers+lines\",\"name\":\"STATION WAGON - MID-SIZE\",\"orientation\":\"v\",\"showlegend\":true,\"x\":[2022],\"xaxis\":\"x\",\"y\":[24.25],\"yaxis\":\"y\",\"type\":\"scatter\"},{\"hovertemplate\":\"color=STATION WAGON - SMALL<br>animation_frame=2022<br>x=%{x}<br>y=%{y}<extra></extra>\",\"ids\":[\"STATION WAGON - SMALL\"],\"legendgroup\":\"STATION WAGON - SMALL\",\"line\":{\"color\":\"#EB663B\",\"dash\":\"solid\"},\"marker\":{\"symbol\":\"circle\"},\"mode\":\"markers+lines\",\"name\":\"STATION WAGON - SMALL\",\"orientation\":\"v\",\"showlegend\":true,\"x\":[2022],\"xaxis\":\"x\",\"y\":[36.26315789473684],\"yaxis\":\"y\",\"type\":\"scatter\"},{\"hovertemplate\":\"color=SUBCOMPACT<br>animation_frame=2022<br>x=%{x}<br>y=%{y}<extra></extra>\",\"ids\":[\"SUBCOMPACT\"],\"legendgroup\":\"SUBCOMPACT\",\"line\":{\"color\":\"#511CFB\",\"dash\":\"solid\"},\"marker\":{\"symbol\":\"circle\"},\"mode\":\"markers+lines\",\"name\":\"SUBCOMPACT\",\"orientation\":\"v\",\"showlegend\":true,\"x\":[2022],\"xaxis\":\"x\",\"y\":[27.620253164556964],\"yaxis\":\"y\",\"type\":\"scatter\"},{\"hovertemplate\":\"color=TWO-SEATER<br>animation_frame=2022<br>x=%{x}<br>y=%{y}<extra></extra>\",\"ids\":[\"TWO-SEATER\"],\"legendgroup\":\"TWO-SEATER\",\"line\":{\"color\":\"#FB00D1\",\"dash\":\"solid\"},\"marker\":{\"symbol\":\"circle\"},\"mode\":\"markers+lines\",\"name\":\"TWO-SEATER\",\"orientation\":\"v\",\"showlegend\":true,\"x\":[2022],\"xaxis\":\"x\",\"y\":[23.15686274509804],\"yaxis\":\"y\",\"type\":\"scatter\"},{\"hovertemplate\":\"color=SUV - STANDARD<br>animation_frame=2022<br>x=%{x}<br>y=%{y}<extra></extra>\",\"ids\":[\"SUV - STANDARD\"],\"legendgroup\":\"SUV - STANDARD\",\"line\":{\"color\":\"#6C7C32\",\"dash\":\"solid\"},\"marker\":{\"symbol\":\"circle\"},\"mode\":\"markers+lines\",\"name\":\"SUV - STANDARD\",\"orientation\":\"v\",\"showlegend\":true,\"x\":[2022],\"xaxis\":\"x\",\"y\":[22.463087248322147],\"yaxis\":\"y\",\"type\":\"scatter\"},{\"hovertemplate\":\"color=SPECIAL PURPOSE VEHICLE<br>animation_frame=2022<br>x=%{x}<br>y=%{y}<extra></extra>\",\"ids\":[\"SPECIAL PURPOSE VEHICLE\"],\"legendgroup\":\"SPECIAL PURPOSE VEHICLE\",\"line\":{\"color\":\"#778AAE\",\"dash\":\"solid\"},\"marker\":{\"symbol\":\"circle\"},\"mode\":\"markers+lines\",\"name\":\"SPECIAL PURPOSE VEHICLE\",\"orientation\":\"v\",\"showlegend\":true,\"x\":[2022],\"xaxis\":\"x\",\"y\":[26.75],\"yaxis\":\"y\",\"type\":\"scatter\"},{\"hovertemplate\":\"color=SUV - SMALL<br>animation_frame=2022<br>x=%{x}<br>y=%{y}<extra></extra>\",\"ids\":[\"SUV - SMALL\"],\"legendgroup\":\"SUV - SMALL\",\"line\":{\"color\":\"#862A16\",\"dash\":\"solid\"},\"marker\":{\"symbol\":\"circle\"},\"mode\":\"markers+lines\",\"name\":\"SUV - SMALL\",\"orientation\":\"v\",\"showlegend\":true,\"x\":[2022],\"xaxis\":\"x\",\"y\":[29.781725888324875],\"yaxis\":\"y\",\"type\":\"scatter\"}],\"name\":\"2022\"}]);\n",
       "                        }).then(function(){\n",
       "                            \n",
       "var gd = document.getElementById('5276f79a-2896-4170-b985-e344fe4380c1');\n",
       "var x = new MutationObserver(function (mutations, observer) {{\n",
       "        var display = window.getComputedStyle(gd).display;\n",
       "        if (!display || display === 'none') {{\n",
       "            console.log([gd, 'removed!']);\n",
       "            Plotly.purge(gd);\n",
       "            observer.disconnect();\n",
       "        }}\n",
       "}});\n",
       "\n",
       "// Listen for the removal of the full notebook cells\n",
       "var notebookContainer = gd.closest('#notebook-container');\n",
       "if (notebookContainer) {{\n",
       "    x.observe(notebookContainer, {childList: true});\n",
       "}}\n",
       "\n",
       "// Listen for the clearing of the current output cell\n",
       "var outputEl = gd.closest('.output');\n",
       "if (outputEl) {{\n",
       "    x.observe(outputEl, {childList: true});\n",
       "}}\n",
       "\n",
       "                        })                };                });            </script>        </div>"
      ]
     },
     "metadata": {},
     "output_type": "display_data"
    }
   ],
   "source": [
    "Year = [x[0] for x in data_to_display.index]\n",
    "CombineMPG = data_to_display['COMB (mpg)']['mean'].values.tolist()\n",
    "VehicleClass = [x[1] for x in data_to_display.index]\n",
    "\n",
    "\n",
    "fig = px.line(x=Year,\n",
    "              y=CombineMPG, \n",
    "              color=VehicleClass,\n",
    "              markers=True,\n",
    "              color_discrete_sequence=px.colors.qualitative.Dark24,\n",
    "              animation_frame=Year, \n",
    "              animation_group=VehicleClass,\n",
    "              log_x=True, \n",
    "              range_x=[1999,2023], \n",
    "              range_y=[14,40]\n",
    "              )\n",
    "\n",
    "fig.update_layout(title='Average Combine MPG per Vehicle Class per Year',\n",
    "                  xaxis_title='Year',\n",
    "                  yaxis_title='Combine MPG Average',\n",
    "                  )\n",
    "#fig.update_xaxes(tickvals=Year, tickangle=45)\n",
    "fig.update_xaxes(tickangle=45,minor=dict(ticklen=5, tickcolor=\"black\", showgrid=True))\n",
    "                 \n",
    "fig.show()"
   ]
  },
  {
   "cell_type": "code",
   "execution_count": 14,
   "id": "af3a0d2d",
   "metadata": {},
   "outputs": [
    {
     "data": {
      "application/vnd.plotly.v1+json": {
       "config": {
        "plotlyServerURL": "https://plot.ly"
       },
       "data": [
        {
         "hovertemplate": "animation_frame=COMPACT<br>x=%{x}<br>y=%{y}<br>size=%{marker.size}<br>text=%{text}<br>color=%{marker.color}<extra></extra>",
         "ids": [
          105,
          145,
          133,
          143,
          154,
          146,
          137,
          116,
          148,
          150,
          140,
          124,
          133,
          168,
          168,
          186,
          181,
          159,
          122,
          106,
          108,
          85,
          70
         ],
         "legendgroup": "",
         "marker": {
          "color": [
           105,
           145,
           133,
           143,
           154,
           146,
           137,
           116,
           148,
           150,
           140,
           124,
           133,
           168,
           168,
           186,
           181,
           159,
           122,
           106,
           108,
           85,
           70
          ],
          "coloraxis": "coloraxis",
          "size": [
           105,
           145,
           133,
           143,
           154,
           146,
           137,
           116,
           148,
           150,
           140,
           124,
           133,
           168,
           168,
           186,
           181,
           159,
           122,
           106,
           108,
           85,
           70
          ],
          "sizemode": "area",
          "sizeref": 0.67,
          "symbol": "circle"
         },
         "mode": "markers+text",
         "name": "",
         "orientation": "v",
         "showlegend": false,
         "text": [
          105,
          145,
          133,
          143,
          154,
          146,
          137,
          116,
          148,
          150,
          140,
          124,
          133,
          168,
          168,
          186,
          181,
          159,
          122,
          106,
          108,
          85,
          70
         ],
         "textposition": "top center",
         "type": "scatter",
         "x": [
          2000,
          2001,
          2002,
          2003,
          2004,
          2005,
          2006,
          2007,
          2008,
          2009,
          2010,
          2011,
          2012,
          2013,
          2014,
          2015,
          2016,
          2017,
          2018,
          2019,
          2020,
          2021,
          2022
         ],
         "xaxis": "x",
         "y": [
          105,
          145,
          133,
          143,
          154,
          146,
          137,
          116,
          148,
          150,
          140,
          124,
          133,
          168,
          168,
          186,
          181,
          159,
          122,
          106,
          108,
          85,
          70
         ],
         "yaxis": "y"
        }
       ],
       "frames": [
        {
         "data": [
          {
           "hovertemplate": "animation_frame=COMPACT<br>x=%{x}<br>y=%{y}<br>size=%{marker.size}<br>text=%{text}<br>color=%{marker.color}<extra></extra>",
           "ids": [
            105,
            145,
            133,
            143,
            154,
            146,
            137,
            116,
            148,
            150,
            140,
            124,
            133,
            168,
            168,
            186,
            181,
            159,
            122,
            106,
            108,
            85,
            70
           ],
           "legendgroup": "",
           "marker": {
            "color": [
             105,
             145,
             133,
             143,
             154,
             146,
             137,
             116,
             148,
             150,
             140,
             124,
             133,
             168,
             168,
             186,
             181,
             159,
             122,
             106,
             108,
             85,
             70
            ],
            "coloraxis": "coloraxis",
            "size": [
             105,
             145,
             133,
             143,
             154,
             146,
             137,
             116,
             148,
             150,
             140,
             124,
             133,
             168,
             168,
             186,
             181,
             159,
             122,
             106,
             108,
             85,
             70
            ],
            "sizemode": "area",
            "sizeref": 0.67,
            "symbol": "circle"
           },
           "mode": "markers+text",
           "name": "",
           "orientation": "v",
           "showlegend": false,
           "text": [
            105,
            145,
            133,
            143,
            154,
            146,
            137,
            116,
            148,
            150,
            140,
            124,
            133,
            168,
            168,
            186,
            181,
            159,
            122,
            106,
            108,
            85,
            70
           ],
           "type": "scatter",
           "x": [
            2000,
            2001,
            2002,
            2003,
            2004,
            2005,
            2006,
            2007,
            2008,
            2009,
            2010,
            2011,
            2012,
            2013,
            2014,
            2015,
            2016,
            2017,
            2018,
            2019,
            2020,
            2021,
            2022
           ],
           "xaxis": "x",
           "y": [
            105,
            145,
            133,
            143,
            154,
            146,
            137,
            116,
            148,
            150,
            140,
            124,
            133,
            168,
            168,
            186,
            181,
            159,
            122,
            106,
            108,
            85,
            70
           ],
           "yaxis": "y"
          }
         ],
         "name": "COMPACT"
        },
        {
         "data": [
          {
           "hovertemplate": "animation_frame=FULL-SIZE<br>x=%{x}<br>y=%{y}<br>size=%{marker.size}<br>text=%{text}<br>color=%{marker.color}<extra></extra>",
           "ids": [
            28,
            30,
            29,
            25,
            34,
            45,
            56,
            54,
            63,
            68,
            77,
            71,
            81,
            76,
            84,
            93,
            90,
            82,
            109,
            101,
            78,
            65,
            64
           ],
           "legendgroup": "",
           "marker": {
            "color": [
             28,
             30,
             29,
             25,
             34,
             45,
             56,
             54,
             63,
             68,
             77,
             71,
             81,
             76,
             84,
             93,
             90,
             82,
             109,
             101,
             78,
             65,
             64
            ],
            "coloraxis": "coloraxis",
            "size": [
             28,
             30,
             29,
             25,
             34,
             45,
             56,
             54,
             63,
             68,
             77,
             71,
             81,
             76,
             84,
             93,
             90,
             82,
             109,
             101,
             78,
             65,
             64
            ],
            "sizemode": "area",
            "sizeref": 0.67,
            "symbol": "circle"
           },
           "mode": "markers+text",
           "name": "",
           "orientation": "v",
           "showlegend": false,
           "text": [
            28,
            30,
            29,
            25,
            34,
            45,
            56,
            54,
            63,
            68,
            77,
            71,
            81,
            76,
            84,
            93,
            90,
            82,
            109,
            101,
            78,
            65,
            64
           ],
           "type": "scatter",
           "x": [
            2000,
            2001,
            2002,
            2003,
            2004,
            2005,
            2006,
            2007,
            2008,
            2009,
            2010,
            2011,
            2012,
            2013,
            2014,
            2015,
            2016,
            2017,
            2018,
            2019,
            2020,
            2021,
            2022
           ],
           "xaxis": "x",
           "y": [
            28,
            30,
            29,
            25,
            34,
            45,
            56,
            54,
            63,
            68,
            77,
            71,
            81,
            76,
            84,
            93,
            90,
            82,
            109,
            101,
            78,
            65,
            64
           ],
           "yaxis": "y"
          }
         ],
         "name": "FULL-SIZE"
        },
        {
         "data": [
          {
           "hovertemplate": "animation_frame=MID-SIZE<br>x=%{x}<br>y=%{y}<br>size=%{marker.size}<br>text=%{text}<br>color=%{marker.color}<extra></extra>",
           "ids": [
            77,
            82,
            90,
            89,
            103,
            114,
            111,
            139,
            134,
            125,
            120,
            132,
            131,
            153,
            170,
            180,
            188,
            162,
            158,
            145,
            126,
            114,
            117
           ],
           "legendgroup": "",
           "marker": {
            "color": [
             77,
             82,
             90,
             89,
             103,
             114,
             111,
             139,
             134,
             125,
             120,
             132,
             131,
             153,
             170,
             180,
             188,
             162,
             158,
             145,
             126,
             114,
             117
            ],
            "coloraxis": "coloraxis",
            "size": [
             77,
             82,
             90,
             89,
             103,
             114,
             111,
             139,
             134,
             125,
             120,
             132,
             131,
             153,
             170,
             180,
             188,
             162,
             158,
             145,
             126,
             114,
             117
            ],
            "sizemode": "area",
            "sizeref": 0.67,
            "symbol": "circle"
           },
           "mode": "markers+text",
           "name": "",
           "orientation": "v",
           "showlegend": false,
           "text": [
            77,
            82,
            90,
            89,
            103,
            114,
            111,
            139,
            134,
            125,
            120,
            132,
            131,
            153,
            170,
            180,
            188,
            162,
            158,
            145,
            126,
            114,
            117
           ],
           "type": "scatter",
           "x": [
            2000,
            2001,
            2002,
            2003,
            2004,
            2005,
            2006,
            2007,
            2008,
            2009,
            2010,
            2011,
            2012,
            2013,
            2014,
            2015,
            2016,
            2017,
            2018,
            2019,
            2020,
            2021,
            2022
           ],
           "xaxis": "x",
           "y": [
            77,
            82,
            90,
            89,
            103,
            114,
            111,
            139,
            134,
            125,
            120,
            132,
            131,
            153,
            170,
            180,
            188,
            162,
            158,
            145,
            126,
            114,
            117
           ],
           "yaxis": "y"
          }
         ],
         "name": "MID-SIZE"
        },
        {
         "data": [
          {
           "hovertemplate": "animation_frame=MINICOMPACT<br>x=%{x}<br>y=%{y}<br>size=%{marker.size}<br>text=%{text}<br>color=%{marker.color}<extra></extra>",
           "ids": [
            11,
            17,
            22,
            33,
            25,
            74,
            37,
            47,
            49,
            43,
            41,
            53,
            76,
            53,
            47,
            59,
            52,
            44,
            53,
            56,
            23,
            30,
            49
           ],
           "legendgroup": "",
           "marker": {
            "color": [
             11,
             17,
             22,
             33,
             25,
             74,
             37,
             47,
             49,
             43,
             41,
             53,
             76,
             53,
             47,
             59,
             52,
             44,
             53,
             56,
             23,
             30,
             49
            ],
            "coloraxis": "coloraxis",
            "size": [
             11,
             17,
             22,
             33,
             25,
             74,
             37,
             47,
             49,
             43,
             41,
             53,
             76,
             53,
             47,
             59,
             52,
             44,
             53,
             56,
             23,
             30,
             49
            ],
            "sizemode": "area",
            "sizeref": 0.67,
            "symbol": "circle"
           },
           "mode": "markers+text",
           "name": "",
           "orientation": "v",
           "showlegend": false,
           "text": [
            11,
            17,
            22,
            33,
            25,
            74,
            37,
            47,
            49,
            43,
            41,
            53,
            76,
            53,
            47,
            59,
            52,
            44,
            53,
            56,
            23,
            30,
            49
           ],
           "type": "scatter",
           "x": [
            2000,
            2001,
            2002,
            2003,
            2004,
            2005,
            2006,
            2007,
            2008,
            2009,
            2010,
            2011,
            2012,
            2013,
            2014,
            2015,
            2016,
            2017,
            2018,
            2019,
            2020,
            2021,
            2022
           ],
           "xaxis": "x",
           "y": [
            11,
            17,
            22,
            33,
            25,
            74,
            37,
            47,
            49,
            43,
            41,
            53,
            76,
            53,
            47,
            59,
            52,
            44,
            53,
            56,
            23,
            30,
            49
           ],
           "yaxis": "y"
          }
         ],
         "name": "MINICOMPACT"
        },
        {
         "data": [
          {
           "hovertemplate": "animation_frame=MINIVAN<br>x=%{x}<br>y=%{y}<br>size=%{marker.size}<br>text=%{text}<br>color=%{marker.color}<extra></extra>",
           "ids": [
            26,
            17,
            22,
            28,
            21,
            33,
            35,
            34,
            22,
            16,
            14,
            14,
            16,
            15,
            14,
            15,
            12,
            12,
            11,
            9,
            8,
            7,
            7
           ],
           "legendgroup": "",
           "marker": {
            "color": [
             26,
             17,
             22,
             28,
             21,
             33,
             35,
             34,
             22,
             16,
             14,
             14,
             16,
             15,
             14,
             15,
             12,
             12,
             11,
             9,
             8,
             7,
             7
            ],
            "coloraxis": "coloraxis",
            "size": [
             26,
             17,
             22,
             28,
             21,
             33,
             35,
             34,
             22,
             16,
             14,
             14,
             16,
             15,
             14,
             15,
             12,
             12,
             11,
             9,
             8,
             7,
             7
            ],
            "sizemode": "area",
            "sizeref": 0.67,
            "symbol": "circle"
           },
           "mode": "markers+text",
           "name": "",
           "orientation": "v",
           "showlegend": false,
           "text": [
            26,
            17,
            22,
            28,
            21,
            33,
            35,
            34,
            22,
            16,
            14,
            14,
            16,
            15,
            14,
            15,
            12,
            12,
            11,
            9,
            8,
            7,
            7
           ],
           "type": "scatter",
           "x": [
            2000,
            2001,
            2002,
            2003,
            2004,
            2005,
            2006,
            2007,
            2008,
            2009,
            2010,
            2011,
            2012,
            2013,
            2014,
            2015,
            2016,
            2017,
            2018,
            2019,
            2020,
            2021,
            2022
           ],
           "xaxis": "x",
           "y": [
            26,
            17,
            22,
            28,
            21,
            33,
            35,
            34,
            22,
            16,
            14,
            14,
            16,
            15,
            14,
            15,
            12,
            12,
            11,
            9,
            8,
            7,
            7
           ],
           "yaxis": "y"
          }
         ],
         "name": "MINIVAN"
        },
        {
         "data": [
          {
           "hovertemplate": "animation_frame=PICKUP TRUCK - SMALL<br>x=%{x}<br>y=%{y}<br>size=%{marker.size}<br>text=%{text}<br>color=%{marker.color}<extra></extra>",
           "ids": [
            11,
            12,
            12,
            8,
            1,
            52,
            59,
            54,
            51,
            43,
            12,
            12,
            22,
            26,
            28,
            27,
            25,
            19,
            17,
            20
           ],
           "legendgroup": "",
           "marker": {
            "color": [
             11,
             12,
             12,
             8,
             1,
             52,
             59,
             54,
             51,
             43,
             12,
             12,
             22,
             26,
             28,
             27,
             25,
             19,
             17,
             20
            ],
            "coloraxis": "coloraxis",
            "size": [
             11,
             12,
             12,
             8,
             1,
             52,
             59,
             54,
             51,
             43,
             12,
             12,
             22,
             26,
             28,
             27,
             25,
             19,
             17,
             20
            ],
            "sizemode": "area",
            "sizeref": 0.67,
            "symbol": "circle"
           },
           "mode": "markers+text",
           "name": "",
           "orientation": "v",
           "showlegend": false,
           "text": [
            11,
            12,
            12,
            8,
            1,
            52,
            59,
            54,
            51,
            43,
            12,
            12,
            22,
            26,
            28,
            27,
            25,
            19,
            17,
            20
           ],
           "type": "scatter",
           "x": [
            2000,
            2001,
            2002,
            2003,
            2004,
            2008,
            2009,
            2010,
            2011,
            2012,
            2013,
            2014,
            2015,
            2016,
            2017,
            2018,
            2019,
            2020,
            2021,
            2022
           ],
           "xaxis": "x",
           "y": [
            11,
            12,
            12,
            8,
            1,
            52,
            59,
            54,
            51,
            43,
            12,
            12,
            22,
            26,
            28,
            27,
            25,
            19,
            17,
            20
           ],
           "yaxis": "y"
          }
         ],
         "name": "PICKUP TRUCK - SMALL"
        },
        {
         "data": [
          {
           "hovertemplate": "animation_frame=PICKUP TRUCK - STANDARD<br>x=%{x}<br>y=%{y}<br>size=%{marker.size}<br>text=%{text}<br>color=%{marker.color}<extra></extra>",
           "ids": [
            92,
            101,
            107,
            106,
            122,
            127,
            141,
            154,
            72,
            95,
            73,
            85,
            79,
            84,
            62,
            52,
            62,
            75,
            97,
            99,
            91,
            115,
            113
           ],
           "legendgroup": "",
           "marker": {
            "color": [
             92,
             101,
             107,
             106,
             122,
             127,
             141,
             154,
             72,
             95,
             73,
             85,
             79,
             84,
             62,
             52,
             62,
             75,
             97,
             99,
             91,
             115,
             113
            ],
            "coloraxis": "coloraxis",
            "size": [
             92,
             101,
             107,
             106,
             122,
             127,
             141,
             154,
             72,
             95,
             73,
             85,
             79,
             84,
             62,
             52,
             62,
             75,
             97,
             99,
             91,
             115,
             113
            ],
            "sizemode": "area",
            "sizeref": 0.67,
            "symbol": "circle"
           },
           "mode": "markers+text",
           "name": "",
           "orientation": "v",
           "showlegend": false,
           "text": [
            92,
            101,
            107,
            106,
            122,
            127,
            141,
            154,
            72,
            95,
            73,
            85,
            79,
            84,
            62,
            52,
            62,
            75,
            97,
            99,
            91,
            115,
            113
           ],
           "type": "scatter",
           "x": [
            2000,
            2001,
            2002,
            2003,
            2004,
            2005,
            2006,
            2007,
            2008,
            2009,
            2010,
            2011,
            2012,
            2013,
            2014,
            2015,
            2016,
            2017,
            2018,
            2019,
            2020,
            2021,
            2022
           ],
           "xaxis": "x",
           "y": [
            92,
            101,
            107,
            106,
            122,
            127,
            141,
            154,
            72,
            95,
            73,
            85,
            79,
            84,
            62,
            52,
            62,
            75,
            97,
            99,
            91,
            115,
            113
           ],
           "yaxis": "y"
          }
         ],
         "name": "PICKUP TRUCK - STANDARD"
        },
        {
         "data": [
          {
           "hovertemplate": "animation_frame=STATION WAGON - MID-SIZE<br>x=%{x}<br>y=%{y}<br>size=%{marker.size}<br>text=%{text}<br>color=%{marker.color}<extra></extra>",
           "ids": [
            25,
            31,
            32,
            35,
            41,
            38,
            28,
            32,
            18,
            13,
            9,
            4,
            5,
            3,
            6,
            8,
            7,
            8,
            10,
            9,
            8,
            9,
            8
           ],
           "legendgroup": "",
           "marker": {
            "color": [
             25,
             31,
             32,
             35,
             41,
             38,
             28,
             32,
             18,
             13,
             9,
             4,
             5,
             3,
             6,
             8,
             7,
             8,
             10,
             9,
             8,
             9,
             8
            ],
            "coloraxis": "coloraxis",
            "size": [
             25,
             31,
             32,
             35,
             41,
             38,
             28,
             32,
             18,
             13,
             9,
             4,
             5,
             3,
             6,
             8,
             7,
             8,
             10,
             9,
             8,
             9,
             8
            ],
            "sizemode": "area",
            "sizeref": 0.67,
            "symbol": "circle"
           },
           "mode": "markers+text",
           "name": "",
           "orientation": "v",
           "showlegend": false,
           "text": [
            25,
            31,
            32,
            35,
            41,
            38,
            28,
            32,
            18,
            13,
            9,
            4,
            5,
            3,
            6,
            8,
            7,
            8,
            10,
            9,
            8,
            9,
            8
           ],
           "type": "scatter",
           "x": [
            2000,
            2001,
            2002,
            2003,
            2004,
            2005,
            2006,
            2007,
            2008,
            2009,
            2010,
            2011,
            2012,
            2013,
            2014,
            2015,
            2016,
            2017,
            2018,
            2019,
            2020,
            2021,
            2022
           ],
           "xaxis": "x",
           "y": [
            25,
            31,
            32,
            35,
            41,
            38,
            28,
            32,
            18,
            13,
            9,
            4,
            5,
            3,
            6,
            8,
            7,
            8,
            10,
            9,
            8,
            9,
            8
           ],
           "yaxis": "y"
          }
         ],
         "name": "STATION WAGON - MID-SIZE"
        },
        {
         "data": [
          {
           "hovertemplate": "animation_frame=STATION WAGON - SMALL<br>x=%{x}<br>y=%{y}<br>size=%{marker.size}<br>text=%{text}<br>color=%{marker.color}<extra></extra>",
           "ids": [
            13,
            12,
            18,
            45,
            43,
            54,
            53,
            44,
            43,
            54,
            60,
            56,
            47,
            44,
            34,
            35,
            37,
            45,
            39,
            37,
            25,
            20,
            19
           ],
           "legendgroup": "",
           "marker": {
            "color": [
             13,
             12,
             18,
             45,
             43,
             54,
             53,
             44,
             43,
             54,
             60,
             56,
             47,
             44,
             34,
             35,
             37,
             45,
             39,
             37,
             25,
             20,
             19
            ],
            "coloraxis": "coloraxis",
            "size": [
             13,
             12,
             18,
             45,
             43,
             54,
             53,
             44,
             43,
             54,
             60,
             56,
             47,
             44,
             34,
             35,
             37,
             45,
             39,
             37,
             25,
             20,
             19
            ],
            "sizemode": "area",
            "sizeref": 0.67,
            "symbol": "circle"
           },
           "mode": "markers+text",
           "name": "",
           "orientation": "v",
           "showlegend": false,
           "text": [
            13,
            12,
            18,
            45,
            43,
            54,
            53,
            44,
            43,
            54,
            60,
            56,
            47,
            44,
            34,
            35,
            37,
            45,
            39,
            37,
            25,
            20,
            19
           ],
           "type": "scatter",
           "x": [
            2000,
            2001,
            2002,
            2003,
            2004,
            2005,
            2006,
            2007,
            2008,
            2009,
            2010,
            2011,
            2012,
            2013,
            2014,
            2015,
            2016,
            2017,
            2018,
            2019,
            2020,
            2021,
            2022
           ],
           "xaxis": "x",
           "y": [
            13,
            12,
            18,
            45,
            43,
            54,
            53,
            44,
            43,
            54,
            60,
            56,
            47,
            44,
            34,
            35,
            37,
            45,
            39,
            37,
            25,
            20,
            19
           ],
           "yaxis": "y"
          }
         ],
         "name": "STATION WAGON - SMALL"
        },
        {
         "data": [
          {
           "hovertemplate": "animation_frame=SUBCOMPACT<br>x=%{x}<br>y=%{y}<br>size=%{marker.size}<br>text=%{text}<br>color=%{marker.color}<extra></extra>",
           "ids": [
            104,
            62,
            73,
            65,
            86,
            87,
            78,
            83,
            100,
            99,
            98,
            104,
            102,
            95,
            62,
            92,
            76,
            93,
            96,
            98,
            95,
            83,
            79
           ],
           "legendgroup": "",
           "marker": {
            "color": [
             104,
             62,
             73,
             65,
             86,
             87,
             78,
             83,
             100,
             99,
             98,
             104,
             102,
             95,
             62,
             92,
             76,
             93,
             96,
             98,
             95,
             83,
             79
            ],
            "coloraxis": "coloraxis",
            "size": [
             104,
             62,
             73,
             65,
             86,
             87,
             78,
             83,
             100,
             99,
             98,
             104,
             102,
             95,
             62,
             92,
             76,
             93,
             96,
             98,
             95,
             83,
             79
            ],
            "sizemode": "area",
            "sizeref": 0.67,
            "symbol": "circle"
           },
           "mode": "markers+text",
           "name": "",
           "orientation": "v",
           "showlegend": false,
           "text": [
            104,
            62,
            73,
            65,
            86,
            87,
            78,
            83,
            100,
            99,
            98,
            104,
            102,
            95,
            62,
            92,
            76,
            93,
            96,
            98,
            95,
            83,
            79
           ],
           "type": "scatter",
           "x": [
            2000,
            2001,
            2002,
            2003,
            2004,
            2005,
            2006,
            2007,
            2008,
            2009,
            2010,
            2011,
            2012,
            2013,
            2014,
            2015,
            2016,
            2017,
            2018,
            2019,
            2020,
            2021,
            2022
           ],
           "xaxis": "x",
           "y": [
            104,
            62,
            73,
            65,
            86,
            87,
            78,
            83,
            100,
            99,
            98,
            104,
            102,
            95,
            62,
            92,
            76,
            93,
            96,
            98,
            95,
            83,
            79
           ],
           "yaxis": "y"
          }
         ],
         "name": "SUBCOMPACT"
        },
        {
         "data": [
          {
           "hovertemplate": "animation_frame=SUV<br>x=%{x}<br>y=%{y}<br>size=%{marker.size}<br>text=%{text}<br>color=%{marker.color}<extra></extra>",
           "ids": [
            97,
            98,
            124,
            160,
            190,
            224,
            221,
            239,
            267,
            268,
            249,
            268,
            235
           ],
           "legendgroup": "",
           "marker": {
            "color": [
             97,
             98,
             124,
             160,
             190,
             224,
             221,
             239,
             267,
             268,
             249,
             268,
             235
            ],
            "coloraxis": "coloraxis",
            "size": [
             97,
             98,
             124,
             160,
             190,
             224,
             221,
             239,
             267,
             268,
             249,
             268,
             235
            ],
            "sizemode": "area",
            "sizeref": 0.67,
            "symbol": "circle"
           },
           "mode": "markers+text",
           "name": "",
           "orientation": "v",
           "showlegend": false,
           "text": [
            97,
            98,
            124,
            160,
            190,
            224,
            221,
            239,
            267,
            268,
            249,
            268,
            235
           ],
           "type": "scatter",
           "x": [
            2000,
            2001,
            2002,
            2003,
            2004,
            2005,
            2006,
            2007,
            2008,
            2009,
            2010,
            2011,
            2012
           ],
           "xaxis": "x",
           "y": [
            97,
            98,
            124,
            160,
            190,
            224,
            221,
            239,
            267,
            268,
            249,
            268,
            235
           ],
           "yaxis": "y"
          }
         ],
         "name": "SUV"
        },
        {
         "data": [
          {
           "hovertemplate": "animation_frame=TWO-SEATER<br>x=%{x}<br>y=%{y}<br>size=%{marker.size}<br>text=%{text}<br>color=%{marker.color}<extra></extra>",
           "ids": [
            10,
            31,
            37,
            40,
            46,
            52,
            49,
            61,
            73,
            64,
            59,
            64,
            76,
            58,
            70,
            84,
            68,
            57,
            69,
            70,
            64,
            59,
            51
           ],
           "legendgroup": "",
           "marker": {
            "color": [
             10,
             31,
             37,
             40,
             46,
             52,
             49,
             61,
             73,
             64,
             59,
             64,
             76,
             58,
             70,
             84,
             68,
             57,
             69,
             70,
             64,
             59,
             51
            ],
            "coloraxis": "coloraxis",
            "size": [
             10,
             31,
             37,
             40,
             46,
             52,
             49,
             61,
             73,
             64,
             59,
             64,
             76,
             58,
             70,
             84,
             68,
             57,
             69,
             70,
             64,
             59,
             51
            ],
            "sizemode": "area",
            "sizeref": 0.67,
            "symbol": "circle"
           },
           "mode": "markers+text",
           "name": "",
           "orientation": "v",
           "showlegend": false,
           "text": [
            10,
            31,
            37,
            40,
            46,
            52,
            49,
            61,
            73,
            64,
            59,
            64,
            76,
            58,
            70,
            84,
            68,
            57,
            69,
            70,
            64,
            59,
            51
           ],
           "type": "scatter",
           "x": [
            2000,
            2001,
            2002,
            2003,
            2004,
            2005,
            2006,
            2007,
            2008,
            2009,
            2010,
            2011,
            2012,
            2013,
            2014,
            2015,
            2016,
            2017,
            2018,
            2019,
            2020,
            2021,
            2022
           ],
           "xaxis": "x",
           "y": [
            10,
            31,
            37,
            40,
            46,
            52,
            49,
            61,
            73,
            64,
            59,
            64,
            76,
            58,
            70,
            84,
            68,
            57,
            69,
            70,
            64,
            59,
            51
           ],
           "yaxis": "y"
          }
         ],
         "name": "TWO-SEATER"
        },
        {
         "data": [
          {
           "hovertemplate": "animation_frame=VAN - CARGO<br>x=%{x}<br>y=%{y}<br>size=%{marker.size}<br>text=%{text}<br>color=%{marker.color}<extra></extra>",
           "ids": [
            23,
            23,
            23,
            30,
            21,
            13,
            14,
            27,
            26,
            26,
            18,
            22,
            22,
            22,
            22
           ],
           "legendgroup": "",
           "marker": {
            "color": [
             23,
             23,
             23,
             30,
             21,
             13,
             14,
             27,
             26,
             26,
             18,
             22,
             22,
             22,
             22
            ],
            "coloraxis": "coloraxis",
            "size": [
             23,
             23,
             23,
             30,
             21,
             13,
             14,
             27,
             26,
             26,
             18,
             22,
             22,
             22,
             22
            ],
            "sizemode": "area",
            "sizeref": 0.67,
            "symbol": "circle"
           },
           "mode": "markers+text",
           "name": "",
           "orientation": "v",
           "showlegend": false,
           "text": [
            23,
            23,
            23,
            30,
            21,
            13,
            14,
            27,
            26,
            26,
            18,
            22,
            22,
            22,
            22
           ],
           "type": "scatter",
           "x": [
            2000,
            2001,
            2002,
            2003,
            2004,
            2005,
            2006,
            2007,
            2008,
            2009,
            2010,
            2011,
            2012,
            2013,
            2014
           ],
           "xaxis": "x",
           "y": [
            23,
            23,
            23,
            30,
            21,
            13,
            14,
            27,
            26,
            26,
            18,
            22,
            22,
            22,
            22
           ],
           "yaxis": "y"
          }
         ],
         "name": "VAN - CARGO"
        },
        {
         "data": [
          {
           "hovertemplate": "animation_frame=VAN - PASSENGER<br>x=%{x}<br>y=%{y}<br>size=%{marker.size}<br>text=%{text}<br>color=%{marker.color}<extra></extra>",
           "ids": [
            17,
            18,
            18,
            13,
            11,
            12,
            8,
            12,
            12,
            12,
            8,
            27,
            31,
            30,
            25,
            19,
            7,
            7,
            2,
            2,
            4,
            4
           ],
           "legendgroup": "",
           "marker": {
            "color": [
             17,
             18,
             18,
             13,
             11,
             12,
             8,
             12,
             12,
             12,
             8,
             27,
             31,
             30,
             25,
             19,
             7,
             7,
             2,
             2,
             4,
             4
            ],
            "coloraxis": "coloraxis",
            "size": [
             17,
             18,
             18,
             13,
             11,
             12,
             8,
             12,
             12,
             12,
             8,
             27,
             31,
             30,
             25,
             19,
             7,
             7,
             2,
             2,
             4,
             4
            ],
            "sizemode": "area",
            "sizeref": 0.67,
            "symbol": "circle"
           },
           "mode": "markers+text",
           "name": "",
           "orientation": "v",
           "showlegend": false,
           "text": [
            17,
            18,
            18,
            13,
            11,
            12,
            8,
            12,
            12,
            12,
            8,
            27,
            31,
            30,
            25,
            19,
            7,
            7,
            2,
            2,
            4,
            4
           ],
           "type": "scatter",
           "x": [
            2000,
            2001,
            2002,
            2003,
            2004,
            2005,
            2006,
            2007,
            2008,
            2009,
            2010,
            2011,
            2012,
            2013,
            2014,
            2015,
            2016,
            2017,
            2018,
            2019,
            2020,
            2021
           ],
           "xaxis": "x",
           "y": [
            17,
            18,
            18,
            13,
            11,
            12,
            8,
            12,
            12,
            12,
            8,
            27,
            31,
            30,
            25,
            19,
            7,
            7,
            2,
            2,
            4,
            4
           ],
           "yaxis": "y"
          }
         ],
         "name": "VAN - PASSENGER"
        },
        {
         "data": [
          {
           "hovertemplate": "animation_frame=SUV - STANDARD<br>x=%{x}<br>y=%{y}<br>size=%{marker.size}<br>text=%{text}<br>color=%{marker.color}<extra></extra>",
           "ids": [
            1,
            2,
            101,
            102,
            99,
            107,
            102,
            103,
            111,
            118,
            127,
            149
           ],
           "legendgroup": "",
           "marker": {
            "color": [
             1,
             2,
             101,
             102,
             99,
             107,
             102,
             103,
             111,
             118,
             127,
             149
            ],
            "coloraxis": "coloraxis",
            "size": [
             1,
             2,
             101,
             102,
             99,
             107,
             102,
             103,
             111,
             118,
             127,
             149
            ],
            "sizemode": "area",
            "sizeref": 0.67,
            "symbol": "circle"
           },
           "mode": "markers+text",
           "name": "",
           "orientation": "v",
           "showlegend": false,
           "text": [
            1,
            2,
            101,
            102,
            99,
            107,
            102,
            103,
            111,
            118,
            127,
            149
           ],
           "type": "scatter",
           "x": [
            2007,
            2012,
            2013,
            2014,
            2015,
            2016,
            2017,
            2018,
            2019,
            2020,
            2021,
            2022
           ],
           "xaxis": "x",
           "y": [
            1,
            2,
            101,
            102,
            99,
            107,
            102,
            103,
            111,
            118,
            127,
            149
           ],
           "yaxis": "y"
          }
         ],
         "name": "SUV - STANDARD"
        },
        {
         "data": [
          {
           "hovertemplate": "animation_frame=SPECIAL PURPOSE VEHICLE<br>x=%{x}<br>y=%{y}<br>size=%{marker.size}<br>text=%{text}<br>color=%{marker.color}<extra></extra>",
           "ids": [
            1,
            1,
            2,
            5,
            7,
            9,
            17,
            10,
            10,
            14,
            13,
            13,
            12
           ],
           "legendgroup": "",
           "marker": {
            "color": [
             1,
             1,
             2,
             5,
             7,
             9,
             17,
             10,
             10,
             14,
             13,
             13,
             12
            ],
            "coloraxis": "coloraxis",
            "size": [
             1,
             1,
             2,
             5,
             7,
             9,
             17,
             10,
             10,
             14,
             13,
             13,
             12
            ],
            "sizemode": "area",
            "sizeref": 0.67,
            "symbol": "circle"
           },
           "mode": "markers+text",
           "name": "",
           "orientation": "v",
           "showlegend": false,
           "text": [
            1,
            1,
            2,
            5,
            7,
            9,
            17,
            10,
            10,
            14,
            13,
            13,
            12
           ],
           "type": "scatter",
           "x": [
            2010,
            2011,
            2012,
            2013,
            2014,
            2015,
            2016,
            2017,
            2018,
            2019,
            2020,
            2021,
            2022
           ],
           "xaxis": "x",
           "y": [
            1,
            1,
            2,
            5,
            7,
            9,
            17,
            10,
            10,
            14,
            13,
            13,
            12
           ],
           "yaxis": "y"
          }
         ],
         "name": "SPECIAL PURPOSE VEHICLE"
        },
        {
         "data": [
          {
           "hovertemplate": "animation_frame=SUV - SMALL<br>x=%{x}<br>y=%{y}<br>size=%{marker.size}<br>text=%{text}<br>color=%{marker.color}<extra></extra>",
           "ids": [
            139,
            155,
            179,
            180,
            174,
            177,
            174,
            188,
            193,
            197
           ],
           "legendgroup": "",
           "marker": {
            "color": [
             139,
             155,
             179,
             180,
             174,
             177,
             174,
             188,
             193,
             197
            ],
            "coloraxis": "coloraxis",
            "size": [
             139,
             155,
             179,
             180,
             174,
             177,
             174,
             188,
             193,
             197
            ],
            "sizemode": "area",
            "sizeref": 0.67,
            "symbol": "circle"
           },
           "mode": "markers+text",
           "name": "",
           "orientation": "v",
           "showlegend": false,
           "text": [
            139,
            155,
            179,
            180,
            174,
            177,
            174,
            188,
            193,
            197
           ],
           "type": "scatter",
           "x": [
            2013,
            2014,
            2015,
            2016,
            2017,
            2018,
            2019,
            2020,
            2021,
            2022
           ],
           "xaxis": "x",
           "y": [
            139,
            155,
            179,
            180,
            174,
            177,
            174,
            188,
            193,
            197
           ],
           "yaxis": "y"
          }
         ],
         "name": "SUV - SMALL"
        }
       ],
       "layout": {
        "coloraxis": {
         "colorbar": {
          "title": {
           "text": "color"
          }
         },
         "colorscale": [
          [
           0,
           "rgb(0,0,131)"
          ],
          [
           0.2,
           "rgb(0,60,170)"
          ],
          [
           0.4,
           "rgb(5,255,255)"
          ],
          [
           0.6,
           "rgb(255,255,0)"
          ],
          [
           0.8,
           "rgb(250,0,0)"
          ],
          [
           1,
           "rgb(128,0,0)"
          ]
         ]
        },
        "legend": {
         "itemsizing": "constant",
         "tracegroupgap": 0
        },
        "margin": {
         "t": 60
        },
        "sliders": [
         {
          "active": 0,
          "currentvalue": {
           "prefix": "animation_frame="
          },
          "len": 0.9,
          "pad": {
           "b": 10,
           "t": 60
          },
          "steps": [
           {
            "args": [
             [
              "COMPACT"
             ],
             {
              "frame": {
               "duration": 0,
               "redraw": false
              },
              "fromcurrent": true,
              "mode": "immediate",
              "transition": {
               "duration": 0,
               "easing": "linear"
              }
             }
            ],
            "label": "COMPACT",
            "method": "animate"
           },
           {
            "args": [
             [
              "FULL-SIZE"
             ],
             {
              "frame": {
               "duration": 0,
               "redraw": false
              },
              "fromcurrent": true,
              "mode": "immediate",
              "transition": {
               "duration": 0,
               "easing": "linear"
              }
             }
            ],
            "label": "FULL-SIZE",
            "method": "animate"
           },
           {
            "args": [
             [
              "MID-SIZE"
             ],
             {
              "frame": {
               "duration": 0,
               "redraw": false
              },
              "fromcurrent": true,
              "mode": "immediate",
              "transition": {
               "duration": 0,
               "easing": "linear"
              }
             }
            ],
            "label": "MID-SIZE",
            "method": "animate"
           },
           {
            "args": [
             [
              "MINICOMPACT"
             ],
             {
              "frame": {
               "duration": 0,
               "redraw": false
              },
              "fromcurrent": true,
              "mode": "immediate",
              "transition": {
               "duration": 0,
               "easing": "linear"
              }
             }
            ],
            "label": "MINICOMPACT",
            "method": "animate"
           },
           {
            "args": [
             [
              "MINIVAN"
             ],
             {
              "frame": {
               "duration": 0,
               "redraw": false
              },
              "fromcurrent": true,
              "mode": "immediate",
              "transition": {
               "duration": 0,
               "easing": "linear"
              }
             }
            ],
            "label": "MINIVAN",
            "method": "animate"
           },
           {
            "args": [
             [
              "PICKUP TRUCK - SMALL"
             ],
             {
              "frame": {
               "duration": 0,
               "redraw": false
              },
              "fromcurrent": true,
              "mode": "immediate",
              "transition": {
               "duration": 0,
               "easing": "linear"
              }
             }
            ],
            "label": "PICKUP TRUCK - SMALL",
            "method": "animate"
           },
           {
            "args": [
             [
              "PICKUP TRUCK - STANDARD"
             ],
             {
              "frame": {
               "duration": 0,
               "redraw": false
              },
              "fromcurrent": true,
              "mode": "immediate",
              "transition": {
               "duration": 0,
               "easing": "linear"
              }
             }
            ],
            "label": "PICKUP TRUCK - STANDARD",
            "method": "animate"
           },
           {
            "args": [
             [
              "STATION WAGON - MID-SIZE"
             ],
             {
              "frame": {
               "duration": 0,
               "redraw": false
              },
              "fromcurrent": true,
              "mode": "immediate",
              "transition": {
               "duration": 0,
               "easing": "linear"
              }
             }
            ],
            "label": "STATION WAGON - MID-SIZE",
            "method": "animate"
           },
           {
            "args": [
             [
              "STATION WAGON - SMALL"
             ],
             {
              "frame": {
               "duration": 0,
               "redraw": false
              },
              "fromcurrent": true,
              "mode": "immediate",
              "transition": {
               "duration": 0,
               "easing": "linear"
              }
             }
            ],
            "label": "STATION WAGON - SMALL",
            "method": "animate"
           },
           {
            "args": [
             [
              "SUBCOMPACT"
             ],
             {
              "frame": {
               "duration": 0,
               "redraw": false
              },
              "fromcurrent": true,
              "mode": "immediate",
              "transition": {
               "duration": 0,
               "easing": "linear"
              }
             }
            ],
            "label": "SUBCOMPACT",
            "method": "animate"
           },
           {
            "args": [
             [
              "SUV"
             ],
             {
              "frame": {
               "duration": 0,
               "redraw": false
              },
              "fromcurrent": true,
              "mode": "immediate",
              "transition": {
               "duration": 0,
               "easing": "linear"
              }
             }
            ],
            "label": "SUV",
            "method": "animate"
           },
           {
            "args": [
             [
              "TWO-SEATER"
             ],
             {
              "frame": {
               "duration": 0,
               "redraw": false
              },
              "fromcurrent": true,
              "mode": "immediate",
              "transition": {
               "duration": 0,
               "easing": "linear"
              }
             }
            ],
            "label": "TWO-SEATER",
            "method": "animate"
           },
           {
            "args": [
             [
              "VAN - CARGO"
             ],
             {
              "frame": {
               "duration": 0,
               "redraw": false
              },
              "fromcurrent": true,
              "mode": "immediate",
              "transition": {
               "duration": 0,
               "easing": "linear"
              }
             }
            ],
            "label": "VAN - CARGO",
            "method": "animate"
           },
           {
            "args": [
             [
              "VAN - PASSENGER"
             ],
             {
              "frame": {
               "duration": 0,
               "redraw": false
              },
              "fromcurrent": true,
              "mode": "immediate",
              "transition": {
               "duration": 0,
               "easing": "linear"
              }
             }
            ],
            "label": "VAN - PASSENGER",
            "method": "animate"
           },
           {
            "args": [
             [
              "SUV - STANDARD"
             ],
             {
              "frame": {
               "duration": 0,
               "redraw": false
              },
              "fromcurrent": true,
              "mode": "immediate",
              "transition": {
               "duration": 0,
               "easing": "linear"
              }
             }
            ],
            "label": "SUV - STANDARD",
            "method": "animate"
           },
           {
            "args": [
             [
              "SPECIAL PURPOSE VEHICLE"
             ],
             {
              "frame": {
               "duration": 0,
               "redraw": false
              },
              "fromcurrent": true,
              "mode": "immediate",
              "transition": {
               "duration": 0,
               "easing": "linear"
              }
             }
            ],
            "label": "SPECIAL PURPOSE VEHICLE",
            "method": "animate"
           },
           {
            "args": [
             [
              "SUV - SMALL"
             ],
             {
              "frame": {
               "duration": 0,
               "redraw": false
              },
              "fromcurrent": true,
              "mode": "immediate",
              "transition": {
               "duration": 0,
               "easing": "linear"
              }
             }
            ],
            "label": "SUV - SMALL",
            "method": "animate"
           }
          ],
          "x": 0.1,
          "xanchor": "left",
          "y": 0,
          "yanchor": "top"
         }
        ],
        "template": {
         "data": {
          "bar": [
           {
            "error_x": {
             "color": "#2a3f5f"
            },
            "error_y": {
             "color": "#2a3f5f"
            },
            "marker": {
             "line": {
              "color": "#E5ECF6",
              "width": 0.5
             },
             "pattern": {
              "fillmode": "overlay",
              "size": 10,
              "solidity": 0.2
             }
            },
            "type": "bar"
           }
          ],
          "barpolar": [
           {
            "marker": {
             "line": {
              "color": "#E5ECF6",
              "width": 0.5
             },
             "pattern": {
              "fillmode": "overlay",
              "size": 10,
              "solidity": 0.2
             }
            },
            "type": "barpolar"
           }
          ],
          "carpet": [
           {
            "aaxis": {
             "endlinecolor": "#2a3f5f",
             "gridcolor": "white",
             "linecolor": "white",
             "minorgridcolor": "white",
             "startlinecolor": "#2a3f5f"
            },
            "baxis": {
             "endlinecolor": "#2a3f5f",
             "gridcolor": "white",
             "linecolor": "white",
             "minorgridcolor": "white",
             "startlinecolor": "#2a3f5f"
            },
            "type": "carpet"
           }
          ],
          "choropleth": [
           {
            "colorbar": {
             "outlinewidth": 0,
             "ticks": ""
            },
            "type": "choropleth"
           }
          ],
          "contour": [
           {
            "colorbar": {
             "outlinewidth": 0,
             "ticks": ""
            },
            "colorscale": [
             [
              0,
              "#0d0887"
             ],
             [
              0.1111111111111111,
              "#46039f"
             ],
             [
              0.2222222222222222,
              "#7201a8"
             ],
             [
              0.3333333333333333,
              "#9c179e"
             ],
             [
              0.4444444444444444,
              "#bd3786"
             ],
             [
              0.5555555555555556,
              "#d8576b"
             ],
             [
              0.6666666666666666,
              "#ed7953"
             ],
             [
              0.7777777777777778,
              "#fb9f3a"
             ],
             [
              0.8888888888888888,
              "#fdca26"
             ],
             [
              1,
              "#f0f921"
             ]
            ],
            "type": "contour"
           }
          ],
          "contourcarpet": [
           {
            "colorbar": {
             "outlinewidth": 0,
             "ticks": ""
            },
            "type": "contourcarpet"
           }
          ],
          "heatmap": [
           {
            "colorbar": {
             "outlinewidth": 0,
             "ticks": ""
            },
            "colorscale": [
             [
              0,
              "#0d0887"
             ],
             [
              0.1111111111111111,
              "#46039f"
             ],
             [
              0.2222222222222222,
              "#7201a8"
             ],
             [
              0.3333333333333333,
              "#9c179e"
             ],
             [
              0.4444444444444444,
              "#bd3786"
             ],
             [
              0.5555555555555556,
              "#d8576b"
             ],
             [
              0.6666666666666666,
              "#ed7953"
             ],
             [
              0.7777777777777778,
              "#fb9f3a"
             ],
             [
              0.8888888888888888,
              "#fdca26"
             ],
             [
              1,
              "#f0f921"
             ]
            ],
            "type": "heatmap"
           }
          ],
          "heatmapgl": [
           {
            "colorbar": {
             "outlinewidth": 0,
             "ticks": ""
            },
            "colorscale": [
             [
              0,
              "#0d0887"
             ],
             [
              0.1111111111111111,
              "#46039f"
             ],
             [
              0.2222222222222222,
              "#7201a8"
             ],
             [
              0.3333333333333333,
              "#9c179e"
             ],
             [
              0.4444444444444444,
              "#bd3786"
             ],
             [
              0.5555555555555556,
              "#d8576b"
             ],
             [
              0.6666666666666666,
              "#ed7953"
             ],
             [
              0.7777777777777778,
              "#fb9f3a"
             ],
             [
              0.8888888888888888,
              "#fdca26"
             ],
             [
              1,
              "#f0f921"
             ]
            ],
            "type": "heatmapgl"
           }
          ],
          "histogram": [
           {
            "marker": {
             "pattern": {
              "fillmode": "overlay",
              "size": 10,
              "solidity": 0.2
             }
            },
            "type": "histogram"
           }
          ],
          "histogram2d": [
           {
            "colorbar": {
             "outlinewidth": 0,
             "ticks": ""
            },
            "colorscale": [
             [
              0,
              "#0d0887"
             ],
             [
              0.1111111111111111,
              "#46039f"
             ],
             [
              0.2222222222222222,
              "#7201a8"
             ],
             [
              0.3333333333333333,
              "#9c179e"
             ],
             [
              0.4444444444444444,
              "#bd3786"
             ],
             [
              0.5555555555555556,
              "#d8576b"
             ],
             [
              0.6666666666666666,
              "#ed7953"
             ],
             [
              0.7777777777777778,
              "#fb9f3a"
             ],
             [
              0.8888888888888888,
              "#fdca26"
             ],
             [
              1,
              "#f0f921"
             ]
            ],
            "type": "histogram2d"
           }
          ],
          "histogram2dcontour": [
           {
            "colorbar": {
             "outlinewidth": 0,
             "ticks": ""
            },
            "colorscale": [
             [
              0,
              "#0d0887"
             ],
             [
              0.1111111111111111,
              "#46039f"
             ],
             [
              0.2222222222222222,
              "#7201a8"
             ],
             [
              0.3333333333333333,
              "#9c179e"
             ],
             [
              0.4444444444444444,
              "#bd3786"
             ],
             [
              0.5555555555555556,
              "#d8576b"
             ],
             [
              0.6666666666666666,
              "#ed7953"
             ],
             [
              0.7777777777777778,
              "#fb9f3a"
             ],
             [
              0.8888888888888888,
              "#fdca26"
             ],
             [
              1,
              "#f0f921"
             ]
            ],
            "type": "histogram2dcontour"
           }
          ],
          "mesh3d": [
           {
            "colorbar": {
             "outlinewidth": 0,
             "ticks": ""
            },
            "type": "mesh3d"
           }
          ],
          "parcoords": [
           {
            "line": {
             "colorbar": {
              "outlinewidth": 0,
              "ticks": ""
             }
            },
            "type": "parcoords"
           }
          ],
          "pie": [
           {
            "automargin": true,
            "type": "pie"
           }
          ],
          "scatter": [
           {
            "fillpattern": {
             "fillmode": "overlay",
             "size": 10,
             "solidity": 0.2
            },
            "type": "scatter"
           }
          ],
          "scatter3d": [
           {
            "line": {
             "colorbar": {
              "outlinewidth": 0,
              "ticks": ""
             }
            },
            "marker": {
             "colorbar": {
              "outlinewidth": 0,
              "ticks": ""
             }
            },
            "type": "scatter3d"
           }
          ],
          "scattercarpet": [
           {
            "marker": {
             "colorbar": {
              "outlinewidth": 0,
              "ticks": ""
             }
            },
            "type": "scattercarpet"
           }
          ],
          "scattergeo": [
           {
            "marker": {
             "colorbar": {
              "outlinewidth": 0,
              "ticks": ""
             }
            },
            "type": "scattergeo"
           }
          ],
          "scattergl": [
           {
            "marker": {
             "colorbar": {
              "outlinewidth": 0,
              "ticks": ""
             }
            },
            "type": "scattergl"
           }
          ],
          "scattermapbox": [
           {
            "marker": {
             "colorbar": {
              "outlinewidth": 0,
              "ticks": ""
             }
            },
            "type": "scattermapbox"
           }
          ],
          "scatterpolar": [
           {
            "marker": {
             "colorbar": {
              "outlinewidth": 0,
              "ticks": ""
             }
            },
            "type": "scatterpolar"
           }
          ],
          "scatterpolargl": [
           {
            "marker": {
             "colorbar": {
              "outlinewidth": 0,
              "ticks": ""
             }
            },
            "type": "scatterpolargl"
           }
          ],
          "scatterternary": [
           {
            "marker": {
             "colorbar": {
              "outlinewidth": 0,
              "ticks": ""
             }
            },
            "type": "scatterternary"
           }
          ],
          "surface": [
           {
            "colorbar": {
             "outlinewidth": 0,
             "ticks": ""
            },
            "colorscale": [
             [
              0,
              "#0d0887"
             ],
             [
              0.1111111111111111,
              "#46039f"
             ],
             [
              0.2222222222222222,
              "#7201a8"
             ],
             [
              0.3333333333333333,
              "#9c179e"
             ],
             [
              0.4444444444444444,
              "#bd3786"
             ],
             [
              0.5555555555555556,
              "#d8576b"
             ],
             [
              0.6666666666666666,
              "#ed7953"
             ],
             [
              0.7777777777777778,
              "#fb9f3a"
             ],
             [
              0.8888888888888888,
              "#fdca26"
             ],
             [
              1,
              "#f0f921"
             ]
            ],
            "type": "surface"
           }
          ],
          "table": [
           {
            "cells": {
             "fill": {
              "color": "#EBF0F8"
             },
             "line": {
              "color": "white"
             }
            },
            "header": {
             "fill": {
              "color": "#C8D4E3"
             },
             "line": {
              "color": "white"
             }
            },
            "type": "table"
           }
          ]
         },
         "layout": {
          "annotationdefaults": {
           "arrowcolor": "#2a3f5f",
           "arrowhead": 0,
           "arrowwidth": 1
          },
          "autotypenumbers": "strict",
          "coloraxis": {
           "colorbar": {
            "outlinewidth": 0,
            "ticks": ""
           }
          },
          "colorscale": {
           "diverging": [
            [
             0,
             "#8e0152"
            ],
            [
             0.1,
             "#c51b7d"
            ],
            [
             0.2,
             "#de77ae"
            ],
            [
             0.3,
             "#f1b6da"
            ],
            [
             0.4,
             "#fde0ef"
            ],
            [
             0.5,
             "#f7f7f7"
            ],
            [
             0.6,
             "#e6f5d0"
            ],
            [
             0.7,
             "#b8e186"
            ],
            [
             0.8,
             "#7fbc41"
            ],
            [
             0.9,
             "#4d9221"
            ],
            [
             1,
             "#276419"
            ]
           ],
           "sequential": [
            [
             0,
             "#0d0887"
            ],
            [
             0.1111111111111111,
             "#46039f"
            ],
            [
             0.2222222222222222,
             "#7201a8"
            ],
            [
             0.3333333333333333,
             "#9c179e"
            ],
            [
             0.4444444444444444,
             "#bd3786"
            ],
            [
             0.5555555555555556,
             "#d8576b"
            ],
            [
             0.6666666666666666,
             "#ed7953"
            ],
            [
             0.7777777777777778,
             "#fb9f3a"
            ],
            [
             0.8888888888888888,
             "#fdca26"
            ],
            [
             1,
             "#f0f921"
            ]
           ],
           "sequentialminus": [
            [
             0,
             "#0d0887"
            ],
            [
             0.1111111111111111,
             "#46039f"
            ],
            [
             0.2222222222222222,
             "#7201a8"
            ],
            [
             0.3333333333333333,
             "#9c179e"
            ],
            [
             0.4444444444444444,
             "#bd3786"
            ],
            [
             0.5555555555555556,
             "#d8576b"
            ],
            [
             0.6666666666666666,
             "#ed7953"
            ],
            [
             0.7777777777777778,
             "#fb9f3a"
            ],
            [
             0.8888888888888888,
             "#fdca26"
            ],
            [
             1,
             "#f0f921"
            ]
           ]
          },
          "colorway": [
           "#636efa",
           "#EF553B",
           "#00cc96",
           "#ab63fa",
           "#FFA15A",
           "#19d3f3",
           "#FF6692",
           "#B6E880",
           "#FF97FF",
           "#FECB52"
          ],
          "font": {
           "color": "#2a3f5f"
          },
          "geo": {
           "bgcolor": "white",
           "lakecolor": "white",
           "landcolor": "#E5ECF6",
           "showlakes": true,
           "showland": true,
           "subunitcolor": "white"
          },
          "hoverlabel": {
           "align": "left"
          },
          "hovermode": "closest",
          "mapbox": {
           "style": "light"
          },
          "paper_bgcolor": "white",
          "plot_bgcolor": "#E5ECF6",
          "polar": {
           "angularaxis": {
            "gridcolor": "white",
            "linecolor": "white",
            "ticks": ""
           },
           "bgcolor": "#E5ECF6",
           "radialaxis": {
            "gridcolor": "white",
            "linecolor": "white",
            "ticks": ""
           }
          },
          "scene": {
           "xaxis": {
            "backgroundcolor": "#E5ECF6",
            "gridcolor": "white",
            "gridwidth": 2,
            "linecolor": "white",
            "showbackground": true,
            "ticks": "",
            "zerolinecolor": "white"
           },
           "yaxis": {
            "backgroundcolor": "#E5ECF6",
            "gridcolor": "white",
            "gridwidth": 2,
            "linecolor": "white",
            "showbackground": true,
            "ticks": "",
            "zerolinecolor": "white"
           },
           "zaxis": {
            "backgroundcolor": "#E5ECF6",
            "gridcolor": "white",
            "gridwidth": 2,
            "linecolor": "white",
            "showbackground": true,
            "ticks": "",
            "zerolinecolor": "white"
           }
          },
          "shapedefaults": {
           "line": {
            "color": "#2a3f5f"
           }
          },
          "ternary": {
           "aaxis": {
            "gridcolor": "white",
            "linecolor": "white",
            "ticks": ""
           },
           "baxis": {
            "gridcolor": "white",
            "linecolor": "white",
            "ticks": ""
           },
           "bgcolor": "#E5ECF6",
           "caxis": {
            "gridcolor": "white",
            "linecolor": "white",
            "ticks": ""
           }
          },
          "title": {
           "x": 0.05
          },
          "xaxis": {
           "automargin": true,
           "gridcolor": "white",
           "linecolor": "white",
           "ticks": "",
           "title": {
            "standoff": 15
           },
           "zerolinecolor": "white",
           "zerolinewidth": 2
          },
          "yaxis": {
           "automargin": true,
           "gridcolor": "white",
           "linecolor": "white",
           "ticks": "",
           "title": {
            "standoff": 15
           },
           "zerolinecolor": "white",
           "zerolinewidth": 2
          }
         }
        },
        "title": {
         "text": "Number of Vehicle Models offered in each Vehicle Class each Year"
        },
        "updatemenus": [
         {
          "buttons": [
           {
            "args": [
             null,
             {
              "frame": {
               "duration": 500,
               "redraw": false
              },
              "fromcurrent": true,
              "mode": "immediate",
              "transition": {
               "duration": 500,
               "easing": "linear"
              }
             }
            ],
            "label": "&#9654;",
            "method": "animate"
           },
           {
            "args": [
             [
              null
             ],
             {
              "frame": {
               "duration": 0,
               "redraw": false
              },
              "fromcurrent": true,
              "mode": "immediate",
              "transition": {
               "duration": 0,
               "easing": "linear"
              }
             }
            ],
            "label": "&#9724;",
            "method": "animate"
           }
          ],
          "direction": "left",
          "pad": {
           "r": 10,
           "t": 70
          },
          "showactive": false,
          "type": "buttons",
          "x": 0.1,
          "xanchor": "right",
          "y": 0,
          "yanchor": "top"
         }
        ],
        "xaxis": {
         "anchor": "y",
         "domain": [
          0,
          1
         ],
         "minor": {
          "showgrid": true,
          "tickcolor": "black",
          "ticklen": 5
         },
         "range": [
          3.3008127941181167,
          3.3059958827708047
         ],
         "tickangle": 45,
         "title": {
          "text": "Year"
         },
         "type": "log"
        },
        "yaxis": {
         "anchor": "x",
         "domain": [
          0,
          1
         ],
         "minor": {
          "showgrid": true,
          "tickcolor": "black",
          "ticklen": 5
         },
         "range": [
          0,
          300
         ],
         "title": {
          "text": "Number of Vehicles"
         }
        }
       }
      },
      "text/html": [
       "<div>                            <div id=\"683b6d24-3dfb-4bdc-bc3d-be2c1596b721\" class=\"plotly-graph-div\" style=\"height:525px; width:100%;\"></div>            <script type=\"text/javascript\">                require([\"plotly\"], function(Plotly) {                    window.PLOTLYENV=window.PLOTLYENV || {};                                    if (document.getElementById(\"683b6d24-3dfb-4bdc-bc3d-be2c1596b721\")) {                    Plotly.newPlot(                        \"683b6d24-3dfb-4bdc-bc3d-be2c1596b721\",                        [{\"hovertemplate\":\"animation_frame=COMPACT<br>x=%{x}<br>y=%{y}<br>size=%{marker.size}<br>text=%{text}<br>color=%{marker.color}<extra></extra>\",\"ids\":[105.0,145.0,133.0,143.0,154.0,146.0,137.0,116.0,148.0,150.0,140.0,124.0,133.0,168.0,168.0,186.0,181.0,159.0,122.0,106.0,108.0,85.0,70.0],\"legendgroup\":\"\",\"marker\":{\"color\":[105.0,145.0,133.0,143.0,154.0,146.0,137.0,116.0,148.0,150.0,140.0,124.0,133.0,168.0,168.0,186.0,181.0,159.0,122.0,106.0,108.0,85.0,70.0],\"coloraxis\":\"coloraxis\",\"size\":[105.0,145.0,133.0,143.0,154.0,146.0,137.0,116.0,148.0,150.0,140.0,124.0,133.0,168.0,168.0,186.0,181.0,159.0,122.0,106.0,108.0,85.0,70.0],\"sizemode\":\"area\",\"sizeref\":0.67,\"symbol\":\"circle\"},\"mode\":\"markers+text\",\"name\":\"\",\"orientation\":\"v\",\"showlegend\":false,\"text\":[105.0,145.0,133.0,143.0,154.0,146.0,137.0,116.0,148.0,150.0,140.0,124.0,133.0,168.0,168.0,186.0,181.0,159.0,122.0,106.0,108.0,85.0,70.0],\"x\":[2000,2001,2002,2003,2004,2005,2006,2007,2008,2009,2010,2011,2012,2013,2014,2015,2016,2017,2018,2019,2020,2021,2022],\"xaxis\":\"x\",\"y\":[105.0,145.0,133.0,143.0,154.0,146.0,137.0,116.0,148.0,150.0,140.0,124.0,133.0,168.0,168.0,186.0,181.0,159.0,122.0,106.0,108.0,85.0,70.0],\"yaxis\":\"y\",\"type\":\"scatter\",\"textposition\":\"top center\"}],                        {\"template\":{\"data\":{\"histogram2dcontour\":[{\"type\":\"histogram2dcontour\",\"colorbar\":{\"outlinewidth\":0,\"ticks\":\"\"},\"colorscale\":[[0.0,\"#0d0887\"],[0.1111111111111111,\"#46039f\"],[0.2222222222222222,\"#7201a8\"],[0.3333333333333333,\"#9c179e\"],[0.4444444444444444,\"#bd3786\"],[0.5555555555555556,\"#d8576b\"],[0.6666666666666666,\"#ed7953\"],[0.7777777777777778,\"#fb9f3a\"],[0.8888888888888888,\"#fdca26\"],[1.0,\"#f0f921\"]]}],\"choropleth\":[{\"type\":\"choropleth\",\"colorbar\":{\"outlinewidth\":0,\"ticks\":\"\"}}],\"histogram2d\":[{\"type\":\"histogram2d\",\"colorbar\":{\"outlinewidth\":0,\"ticks\":\"\"},\"colorscale\":[[0.0,\"#0d0887\"],[0.1111111111111111,\"#46039f\"],[0.2222222222222222,\"#7201a8\"],[0.3333333333333333,\"#9c179e\"],[0.4444444444444444,\"#bd3786\"],[0.5555555555555556,\"#d8576b\"],[0.6666666666666666,\"#ed7953\"],[0.7777777777777778,\"#fb9f3a\"],[0.8888888888888888,\"#fdca26\"],[1.0,\"#f0f921\"]]}],\"heatmap\":[{\"type\":\"heatmap\",\"colorbar\":{\"outlinewidth\":0,\"ticks\":\"\"},\"colorscale\":[[0.0,\"#0d0887\"],[0.1111111111111111,\"#46039f\"],[0.2222222222222222,\"#7201a8\"],[0.3333333333333333,\"#9c179e\"],[0.4444444444444444,\"#bd3786\"],[0.5555555555555556,\"#d8576b\"],[0.6666666666666666,\"#ed7953\"],[0.7777777777777778,\"#fb9f3a\"],[0.8888888888888888,\"#fdca26\"],[1.0,\"#f0f921\"]]}],\"heatmapgl\":[{\"type\":\"heatmapgl\",\"colorbar\":{\"outlinewidth\":0,\"ticks\":\"\"},\"colorscale\":[[0.0,\"#0d0887\"],[0.1111111111111111,\"#46039f\"],[0.2222222222222222,\"#7201a8\"],[0.3333333333333333,\"#9c179e\"],[0.4444444444444444,\"#bd3786\"],[0.5555555555555556,\"#d8576b\"],[0.6666666666666666,\"#ed7953\"],[0.7777777777777778,\"#fb9f3a\"],[0.8888888888888888,\"#fdca26\"],[1.0,\"#f0f921\"]]}],\"contourcarpet\":[{\"type\":\"contourcarpet\",\"colorbar\":{\"outlinewidth\":0,\"ticks\":\"\"}}],\"contour\":[{\"type\":\"contour\",\"colorbar\":{\"outlinewidth\":0,\"ticks\":\"\"},\"colorscale\":[[0.0,\"#0d0887\"],[0.1111111111111111,\"#46039f\"],[0.2222222222222222,\"#7201a8\"],[0.3333333333333333,\"#9c179e\"],[0.4444444444444444,\"#bd3786\"],[0.5555555555555556,\"#d8576b\"],[0.6666666666666666,\"#ed7953\"],[0.7777777777777778,\"#fb9f3a\"],[0.8888888888888888,\"#fdca26\"],[1.0,\"#f0f921\"]]}],\"surface\":[{\"type\":\"surface\",\"colorbar\":{\"outlinewidth\":0,\"ticks\":\"\"},\"colorscale\":[[0.0,\"#0d0887\"],[0.1111111111111111,\"#46039f\"],[0.2222222222222222,\"#7201a8\"],[0.3333333333333333,\"#9c179e\"],[0.4444444444444444,\"#bd3786\"],[0.5555555555555556,\"#d8576b\"],[0.6666666666666666,\"#ed7953\"],[0.7777777777777778,\"#fb9f3a\"],[0.8888888888888888,\"#fdca26\"],[1.0,\"#f0f921\"]]}],\"mesh3d\":[{\"type\":\"mesh3d\",\"colorbar\":{\"outlinewidth\":0,\"ticks\":\"\"}}],\"scatter\":[{\"fillpattern\":{\"fillmode\":\"overlay\",\"size\":10,\"solidity\":0.2},\"type\":\"scatter\"}],\"parcoords\":[{\"type\":\"parcoords\",\"line\":{\"colorbar\":{\"outlinewidth\":0,\"ticks\":\"\"}}}],\"scatterpolargl\":[{\"type\":\"scatterpolargl\",\"marker\":{\"colorbar\":{\"outlinewidth\":0,\"ticks\":\"\"}}}],\"bar\":[{\"error_x\":{\"color\":\"#2a3f5f\"},\"error_y\":{\"color\":\"#2a3f5f\"},\"marker\":{\"line\":{\"color\":\"#E5ECF6\",\"width\":0.5},\"pattern\":{\"fillmode\":\"overlay\",\"size\":10,\"solidity\":0.2}},\"type\":\"bar\"}],\"scattergeo\":[{\"type\":\"scattergeo\",\"marker\":{\"colorbar\":{\"outlinewidth\":0,\"ticks\":\"\"}}}],\"scatterpolar\":[{\"type\":\"scatterpolar\",\"marker\":{\"colorbar\":{\"outlinewidth\":0,\"ticks\":\"\"}}}],\"histogram\":[{\"marker\":{\"pattern\":{\"fillmode\":\"overlay\",\"size\":10,\"solidity\":0.2}},\"type\":\"histogram\"}],\"scattergl\":[{\"type\":\"scattergl\",\"marker\":{\"colorbar\":{\"outlinewidth\":0,\"ticks\":\"\"}}}],\"scatter3d\":[{\"type\":\"scatter3d\",\"line\":{\"colorbar\":{\"outlinewidth\":0,\"ticks\":\"\"}},\"marker\":{\"colorbar\":{\"outlinewidth\":0,\"ticks\":\"\"}}}],\"scattermapbox\":[{\"type\":\"scattermapbox\",\"marker\":{\"colorbar\":{\"outlinewidth\":0,\"ticks\":\"\"}}}],\"scatterternary\":[{\"type\":\"scatterternary\",\"marker\":{\"colorbar\":{\"outlinewidth\":0,\"ticks\":\"\"}}}],\"scattercarpet\":[{\"type\":\"scattercarpet\",\"marker\":{\"colorbar\":{\"outlinewidth\":0,\"ticks\":\"\"}}}],\"carpet\":[{\"aaxis\":{\"endlinecolor\":\"#2a3f5f\",\"gridcolor\":\"white\",\"linecolor\":\"white\",\"minorgridcolor\":\"white\",\"startlinecolor\":\"#2a3f5f\"},\"baxis\":{\"endlinecolor\":\"#2a3f5f\",\"gridcolor\":\"white\",\"linecolor\":\"white\",\"minorgridcolor\":\"white\",\"startlinecolor\":\"#2a3f5f\"},\"type\":\"carpet\"}],\"table\":[{\"cells\":{\"fill\":{\"color\":\"#EBF0F8\"},\"line\":{\"color\":\"white\"}},\"header\":{\"fill\":{\"color\":\"#C8D4E3\"},\"line\":{\"color\":\"white\"}},\"type\":\"table\"}],\"barpolar\":[{\"marker\":{\"line\":{\"color\":\"#E5ECF6\",\"width\":0.5},\"pattern\":{\"fillmode\":\"overlay\",\"size\":10,\"solidity\":0.2}},\"type\":\"barpolar\"}],\"pie\":[{\"automargin\":true,\"type\":\"pie\"}]},\"layout\":{\"autotypenumbers\":\"strict\",\"colorway\":[\"#636efa\",\"#EF553B\",\"#00cc96\",\"#ab63fa\",\"#FFA15A\",\"#19d3f3\",\"#FF6692\",\"#B6E880\",\"#FF97FF\",\"#FECB52\"],\"font\":{\"color\":\"#2a3f5f\"},\"hovermode\":\"closest\",\"hoverlabel\":{\"align\":\"left\"},\"paper_bgcolor\":\"white\",\"plot_bgcolor\":\"#E5ECF6\",\"polar\":{\"bgcolor\":\"#E5ECF6\",\"angularaxis\":{\"gridcolor\":\"white\",\"linecolor\":\"white\",\"ticks\":\"\"},\"radialaxis\":{\"gridcolor\":\"white\",\"linecolor\":\"white\",\"ticks\":\"\"}},\"ternary\":{\"bgcolor\":\"#E5ECF6\",\"aaxis\":{\"gridcolor\":\"white\",\"linecolor\":\"white\",\"ticks\":\"\"},\"baxis\":{\"gridcolor\":\"white\",\"linecolor\":\"white\",\"ticks\":\"\"},\"caxis\":{\"gridcolor\":\"white\",\"linecolor\":\"white\",\"ticks\":\"\"}},\"coloraxis\":{\"colorbar\":{\"outlinewidth\":0,\"ticks\":\"\"}},\"colorscale\":{\"sequential\":[[0.0,\"#0d0887\"],[0.1111111111111111,\"#46039f\"],[0.2222222222222222,\"#7201a8\"],[0.3333333333333333,\"#9c179e\"],[0.4444444444444444,\"#bd3786\"],[0.5555555555555556,\"#d8576b\"],[0.6666666666666666,\"#ed7953\"],[0.7777777777777778,\"#fb9f3a\"],[0.8888888888888888,\"#fdca26\"],[1.0,\"#f0f921\"]],\"sequentialminus\":[[0.0,\"#0d0887\"],[0.1111111111111111,\"#46039f\"],[0.2222222222222222,\"#7201a8\"],[0.3333333333333333,\"#9c179e\"],[0.4444444444444444,\"#bd3786\"],[0.5555555555555556,\"#d8576b\"],[0.6666666666666666,\"#ed7953\"],[0.7777777777777778,\"#fb9f3a\"],[0.8888888888888888,\"#fdca26\"],[1.0,\"#f0f921\"]],\"diverging\":[[0,\"#8e0152\"],[0.1,\"#c51b7d\"],[0.2,\"#de77ae\"],[0.3,\"#f1b6da\"],[0.4,\"#fde0ef\"],[0.5,\"#f7f7f7\"],[0.6,\"#e6f5d0\"],[0.7,\"#b8e186\"],[0.8,\"#7fbc41\"],[0.9,\"#4d9221\"],[1,\"#276419\"]]},\"xaxis\":{\"gridcolor\":\"white\",\"linecolor\":\"white\",\"ticks\":\"\",\"title\":{\"standoff\":15},\"zerolinecolor\":\"white\",\"automargin\":true,\"zerolinewidth\":2},\"yaxis\":{\"gridcolor\":\"white\",\"linecolor\":\"white\",\"ticks\":\"\",\"title\":{\"standoff\":15},\"zerolinecolor\":\"white\",\"automargin\":true,\"zerolinewidth\":2},\"scene\":{\"xaxis\":{\"backgroundcolor\":\"#E5ECF6\",\"gridcolor\":\"white\",\"linecolor\":\"white\",\"showbackground\":true,\"ticks\":\"\",\"zerolinecolor\":\"white\",\"gridwidth\":2},\"yaxis\":{\"backgroundcolor\":\"#E5ECF6\",\"gridcolor\":\"white\",\"linecolor\":\"white\",\"showbackground\":true,\"ticks\":\"\",\"zerolinecolor\":\"white\",\"gridwidth\":2},\"zaxis\":{\"backgroundcolor\":\"#E5ECF6\",\"gridcolor\":\"white\",\"linecolor\":\"white\",\"showbackground\":true,\"ticks\":\"\",\"zerolinecolor\":\"white\",\"gridwidth\":2}},\"shapedefaults\":{\"line\":{\"color\":\"#2a3f5f\"}},\"annotationdefaults\":{\"arrowcolor\":\"#2a3f5f\",\"arrowhead\":0,\"arrowwidth\":1},\"geo\":{\"bgcolor\":\"white\",\"landcolor\":\"#E5ECF6\",\"subunitcolor\":\"white\",\"showland\":true,\"showlakes\":true,\"lakecolor\":\"white\"},\"title\":{\"x\":0.05},\"mapbox\":{\"style\":\"light\"}}},\"xaxis\":{\"anchor\":\"y\",\"domain\":[0.0,1.0],\"title\":{\"text\":\"Year\"},\"type\":\"log\",\"range\":[3.3008127941181167,3.3059958827708047],\"minor\":{\"ticklen\":5,\"tickcolor\":\"black\",\"showgrid\":true},\"tickangle\":45},\"yaxis\":{\"anchor\":\"x\",\"domain\":[0.0,1.0],\"title\":{\"text\":\"Number of Vehicles\"},\"range\":[0,300],\"minor\":{\"ticklen\":5,\"tickcolor\":\"black\",\"showgrid\":true}},\"coloraxis\":{\"colorbar\":{\"title\":{\"text\":\"color\"}},\"colorscale\":[[0.0,\"rgb(0,0,131)\"],[0.2,\"rgb(0,60,170)\"],[0.4,\"rgb(5,255,255)\"],[0.6,\"rgb(255,255,0)\"],[0.8,\"rgb(250,0,0)\"],[1.0,\"rgb(128,0,0)\"]]},\"legend\":{\"tracegroupgap\":0,\"itemsizing\":\"constant\"},\"margin\":{\"t\":60},\"updatemenus\":[{\"buttons\":[{\"args\":[null,{\"frame\":{\"duration\":500,\"redraw\":false},\"mode\":\"immediate\",\"fromcurrent\":true,\"transition\":{\"duration\":500,\"easing\":\"linear\"}}],\"label\":\"&#9654;\",\"method\":\"animate\"},{\"args\":[[null],{\"frame\":{\"duration\":0,\"redraw\":false},\"mode\":\"immediate\",\"fromcurrent\":true,\"transition\":{\"duration\":0,\"easing\":\"linear\"}}],\"label\":\"&#9724;\",\"method\":\"animate\"}],\"direction\":\"left\",\"pad\":{\"r\":10,\"t\":70},\"showactive\":false,\"type\":\"buttons\",\"x\":0.1,\"xanchor\":\"right\",\"y\":0,\"yanchor\":\"top\"}],\"sliders\":[{\"active\":0,\"currentvalue\":{\"prefix\":\"animation_frame=\"},\"len\":0.9,\"pad\":{\"b\":10,\"t\":60},\"steps\":[{\"args\":[[\"COMPACT\"],{\"frame\":{\"duration\":0,\"redraw\":false},\"mode\":\"immediate\",\"fromcurrent\":true,\"transition\":{\"duration\":0,\"easing\":\"linear\"}}],\"label\":\"COMPACT\",\"method\":\"animate\"},{\"args\":[[\"FULL-SIZE\"],{\"frame\":{\"duration\":0,\"redraw\":false},\"mode\":\"immediate\",\"fromcurrent\":true,\"transition\":{\"duration\":0,\"easing\":\"linear\"}}],\"label\":\"FULL-SIZE\",\"method\":\"animate\"},{\"args\":[[\"MID-SIZE\"],{\"frame\":{\"duration\":0,\"redraw\":false},\"mode\":\"immediate\",\"fromcurrent\":true,\"transition\":{\"duration\":0,\"easing\":\"linear\"}}],\"label\":\"MID-SIZE\",\"method\":\"animate\"},{\"args\":[[\"MINICOMPACT\"],{\"frame\":{\"duration\":0,\"redraw\":false},\"mode\":\"immediate\",\"fromcurrent\":true,\"transition\":{\"duration\":0,\"easing\":\"linear\"}}],\"label\":\"MINICOMPACT\",\"method\":\"animate\"},{\"args\":[[\"MINIVAN\"],{\"frame\":{\"duration\":0,\"redraw\":false},\"mode\":\"immediate\",\"fromcurrent\":true,\"transition\":{\"duration\":0,\"easing\":\"linear\"}}],\"label\":\"MINIVAN\",\"method\":\"animate\"},{\"args\":[[\"PICKUP TRUCK - SMALL\"],{\"frame\":{\"duration\":0,\"redraw\":false},\"mode\":\"immediate\",\"fromcurrent\":true,\"transition\":{\"duration\":0,\"easing\":\"linear\"}}],\"label\":\"PICKUP TRUCK - SMALL\",\"method\":\"animate\"},{\"args\":[[\"PICKUP TRUCK - STANDARD\"],{\"frame\":{\"duration\":0,\"redraw\":false},\"mode\":\"immediate\",\"fromcurrent\":true,\"transition\":{\"duration\":0,\"easing\":\"linear\"}}],\"label\":\"PICKUP TRUCK - STANDARD\",\"method\":\"animate\"},{\"args\":[[\"STATION WAGON - MID-SIZE\"],{\"frame\":{\"duration\":0,\"redraw\":false},\"mode\":\"immediate\",\"fromcurrent\":true,\"transition\":{\"duration\":0,\"easing\":\"linear\"}}],\"label\":\"STATION WAGON - MID-SIZE\",\"method\":\"animate\"},{\"args\":[[\"STATION WAGON - SMALL\"],{\"frame\":{\"duration\":0,\"redraw\":false},\"mode\":\"immediate\",\"fromcurrent\":true,\"transition\":{\"duration\":0,\"easing\":\"linear\"}}],\"label\":\"STATION WAGON - SMALL\",\"method\":\"animate\"},{\"args\":[[\"SUBCOMPACT\"],{\"frame\":{\"duration\":0,\"redraw\":false},\"mode\":\"immediate\",\"fromcurrent\":true,\"transition\":{\"duration\":0,\"easing\":\"linear\"}}],\"label\":\"SUBCOMPACT\",\"method\":\"animate\"},{\"args\":[[\"SUV\"],{\"frame\":{\"duration\":0,\"redraw\":false},\"mode\":\"immediate\",\"fromcurrent\":true,\"transition\":{\"duration\":0,\"easing\":\"linear\"}}],\"label\":\"SUV\",\"method\":\"animate\"},{\"args\":[[\"TWO-SEATER\"],{\"frame\":{\"duration\":0,\"redraw\":false},\"mode\":\"immediate\",\"fromcurrent\":true,\"transition\":{\"duration\":0,\"easing\":\"linear\"}}],\"label\":\"TWO-SEATER\",\"method\":\"animate\"},{\"args\":[[\"VAN - CARGO\"],{\"frame\":{\"duration\":0,\"redraw\":false},\"mode\":\"immediate\",\"fromcurrent\":true,\"transition\":{\"duration\":0,\"easing\":\"linear\"}}],\"label\":\"VAN - CARGO\",\"method\":\"animate\"},{\"args\":[[\"VAN - PASSENGER\"],{\"frame\":{\"duration\":0,\"redraw\":false},\"mode\":\"immediate\",\"fromcurrent\":true,\"transition\":{\"duration\":0,\"easing\":\"linear\"}}],\"label\":\"VAN - PASSENGER\",\"method\":\"animate\"},{\"args\":[[\"SUV - STANDARD\"],{\"frame\":{\"duration\":0,\"redraw\":false},\"mode\":\"immediate\",\"fromcurrent\":true,\"transition\":{\"duration\":0,\"easing\":\"linear\"}}],\"label\":\"SUV - STANDARD\",\"method\":\"animate\"},{\"args\":[[\"SPECIAL PURPOSE VEHICLE\"],{\"frame\":{\"duration\":0,\"redraw\":false},\"mode\":\"immediate\",\"fromcurrent\":true,\"transition\":{\"duration\":0,\"easing\":\"linear\"}}],\"label\":\"SPECIAL PURPOSE VEHICLE\",\"method\":\"animate\"},{\"args\":[[\"SUV - SMALL\"],{\"frame\":{\"duration\":0,\"redraw\":false},\"mode\":\"immediate\",\"fromcurrent\":true,\"transition\":{\"duration\":0,\"easing\":\"linear\"}}],\"label\":\"SUV - SMALL\",\"method\":\"animate\"}],\"x\":0.1,\"xanchor\":\"left\",\"y\":0,\"yanchor\":\"top\"}],\"title\":{\"text\":\"Number of Vehicle Models offered in each Vehicle Class each Year\"}},                        {\"responsive\": true}                    ).then(function(){\n",
       "                            Plotly.addFrames('683b6d24-3dfb-4bdc-bc3d-be2c1596b721', [{\"data\":[{\"hovertemplate\":\"animation_frame=COMPACT<br>x=%{x}<br>y=%{y}<br>size=%{marker.size}<br>text=%{text}<br>color=%{marker.color}<extra></extra>\",\"ids\":[105.0,145.0,133.0,143.0,154.0,146.0,137.0,116.0,148.0,150.0,140.0,124.0,133.0,168.0,168.0,186.0,181.0,159.0,122.0,106.0,108.0,85.0,70.0],\"legendgroup\":\"\",\"marker\":{\"color\":[105.0,145.0,133.0,143.0,154.0,146.0,137.0,116.0,148.0,150.0,140.0,124.0,133.0,168.0,168.0,186.0,181.0,159.0,122.0,106.0,108.0,85.0,70.0],\"coloraxis\":\"coloraxis\",\"size\":[105.0,145.0,133.0,143.0,154.0,146.0,137.0,116.0,148.0,150.0,140.0,124.0,133.0,168.0,168.0,186.0,181.0,159.0,122.0,106.0,108.0,85.0,70.0],\"sizemode\":\"area\",\"sizeref\":0.67,\"symbol\":\"circle\"},\"mode\":\"markers+text\",\"name\":\"\",\"orientation\":\"v\",\"showlegend\":false,\"text\":[105.0,145.0,133.0,143.0,154.0,146.0,137.0,116.0,148.0,150.0,140.0,124.0,133.0,168.0,168.0,186.0,181.0,159.0,122.0,106.0,108.0,85.0,70.0],\"x\":[2000,2001,2002,2003,2004,2005,2006,2007,2008,2009,2010,2011,2012,2013,2014,2015,2016,2017,2018,2019,2020,2021,2022],\"xaxis\":\"x\",\"y\":[105.0,145.0,133.0,143.0,154.0,146.0,137.0,116.0,148.0,150.0,140.0,124.0,133.0,168.0,168.0,186.0,181.0,159.0,122.0,106.0,108.0,85.0,70.0],\"yaxis\":\"y\",\"type\":\"scatter\"}],\"name\":\"COMPACT\"},{\"data\":[{\"hovertemplate\":\"animation_frame=FULL-SIZE<br>x=%{x}<br>y=%{y}<br>size=%{marker.size}<br>text=%{text}<br>color=%{marker.color}<extra></extra>\",\"ids\":[28.0,30.0,29.0,25.0,34.0,45.0,56.0,54.0,63.0,68.0,77.0,71.0,81.0,76.0,84.0,93.0,90.0,82.0,109.0,101.0,78.0,65.0,64.0],\"legendgroup\":\"\",\"marker\":{\"color\":[28.0,30.0,29.0,25.0,34.0,45.0,56.0,54.0,63.0,68.0,77.0,71.0,81.0,76.0,84.0,93.0,90.0,82.0,109.0,101.0,78.0,65.0,64.0],\"coloraxis\":\"coloraxis\",\"size\":[28.0,30.0,29.0,25.0,34.0,45.0,56.0,54.0,63.0,68.0,77.0,71.0,81.0,76.0,84.0,93.0,90.0,82.0,109.0,101.0,78.0,65.0,64.0],\"sizemode\":\"area\",\"sizeref\":0.67,\"symbol\":\"circle\"},\"mode\":\"markers+text\",\"name\":\"\",\"orientation\":\"v\",\"showlegend\":false,\"text\":[28.0,30.0,29.0,25.0,34.0,45.0,56.0,54.0,63.0,68.0,77.0,71.0,81.0,76.0,84.0,93.0,90.0,82.0,109.0,101.0,78.0,65.0,64.0],\"x\":[2000,2001,2002,2003,2004,2005,2006,2007,2008,2009,2010,2011,2012,2013,2014,2015,2016,2017,2018,2019,2020,2021,2022],\"xaxis\":\"x\",\"y\":[28.0,30.0,29.0,25.0,34.0,45.0,56.0,54.0,63.0,68.0,77.0,71.0,81.0,76.0,84.0,93.0,90.0,82.0,109.0,101.0,78.0,65.0,64.0],\"yaxis\":\"y\",\"type\":\"scatter\"}],\"name\":\"FULL-SIZE\"},{\"data\":[{\"hovertemplate\":\"animation_frame=MID-SIZE<br>x=%{x}<br>y=%{y}<br>size=%{marker.size}<br>text=%{text}<br>color=%{marker.color}<extra></extra>\",\"ids\":[77.0,82.0,90.0,89.0,103.0,114.0,111.0,139.0,134.0,125.0,120.0,132.0,131.0,153.0,170.0,180.0,188.0,162.0,158.0,145.0,126.0,114.0,117.0],\"legendgroup\":\"\",\"marker\":{\"color\":[77.0,82.0,90.0,89.0,103.0,114.0,111.0,139.0,134.0,125.0,120.0,132.0,131.0,153.0,170.0,180.0,188.0,162.0,158.0,145.0,126.0,114.0,117.0],\"coloraxis\":\"coloraxis\",\"size\":[77.0,82.0,90.0,89.0,103.0,114.0,111.0,139.0,134.0,125.0,120.0,132.0,131.0,153.0,170.0,180.0,188.0,162.0,158.0,145.0,126.0,114.0,117.0],\"sizemode\":\"area\",\"sizeref\":0.67,\"symbol\":\"circle\"},\"mode\":\"markers+text\",\"name\":\"\",\"orientation\":\"v\",\"showlegend\":false,\"text\":[77.0,82.0,90.0,89.0,103.0,114.0,111.0,139.0,134.0,125.0,120.0,132.0,131.0,153.0,170.0,180.0,188.0,162.0,158.0,145.0,126.0,114.0,117.0],\"x\":[2000,2001,2002,2003,2004,2005,2006,2007,2008,2009,2010,2011,2012,2013,2014,2015,2016,2017,2018,2019,2020,2021,2022],\"xaxis\":\"x\",\"y\":[77.0,82.0,90.0,89.0,103.0,114.0,111.0,139.0,134.0,125.0,120.0,132.0,131.0,153.0,170.0,180.0,188.0,162.0,158.0,145.0,126.0,114.0,117.0],\"yaxis\":\"y\",\"type\":\"scatter\"}],\"name\":\"MID-SIZE\"},{\"data\":[{\"hovertemplate\":\"animation_frame=MINICOMPACT<br>x=%{x}<br>y=%{y}<br>size=%{marker.size}<br>text=%{text}<br>color=%{marker.color}<extra></extra>\",\"ids\":[11.0,17.0,22.0,33.0,25.0,74.0,37.0,47.0,49.0,43.0,41.0,53.0,76.0,53.0,47.0,59.0,52.0,44.0,53.0,56.0,23.0,30.0,49.0],\"legendgroup\":\"\",\"marker\":{\"color\":[11.0,17.0,22.0,33.0,25.0,74.0,37.0,47.0,49.0,43.0,41.0,53.0,76.0,53.0,47.0,59.0,52.0,44.0,53.0,56.0,23.0,30.0,49.0],\"coloraxis\":\"coloraxis\",\"size\":[11.0,17.0,22.0,33.0,25.0,74.0,37.0,47.0,49.0,43.0,41.0,53.0,76.0,53.0,47.0,59.0,52.0,44.0,53.0,56.0,23.0,30.0,49.0],\"sizemode\":\"area\",\"sizeref\":0.67,\"symbol\":\"circle\"},\"mode\":\"markers+text\",\"name\":\"\",\"orientation\":\"v\",\"showlegend\":false,\"text\":[11.0,17.0,22.0,33.0,25.0,74.0,37.0,47.0,49.0,43.0,41.0,53.0,76.0,53.0,47.0,59.0,52.0,44.0,53.0,56.0,23.0,30.0,49.0],\"x\":[2000,2001,2002,2003,2004,2005,2006,2007,2008,2009,2010,2011,2012,2013,2014,2015,2016,2017,2018,2019,2020,2021,2022],\"xaxis\":\"x\",\"y\":[11.0,17.0,22.0,33.0,25.0,74.0,37.0,47.0,49.0,43.0,41.0,53.0,76.0,53.0,47.0,59.0,52.0,44.0,53.0,56.0,23.0,30.0,49.0],\"yaxis\":\"y\",\"type\":\"scatter\"}],\"name\":\"MINICOMPACT\"},{\"data\":[{\"hovertemplate\":\"animation_frame=MINIVAN<br>x=%{x}<br>y=%{y}<br>size=%{marker.size}<br>text=%{text}<br>color=%{marker.color}<extra></extra>\",\"ids\":[26.0,17.0,22.0,28.0,21.0,33.0,35.0,34.0,22.0,16.0,14.0,14.0,16.0,15.0,14.0,15.0,12.0,12.0,11.0,9.0,8.0,7.0,7.0],\"legendgroup\":\"\",\"marker\":{\"color\":[26.0,17.0,22.0,28.0,21.0,33.0,35.0,34.0,22.0,16.0,14.0,14.0,16.0,15.0,14.0,15.0,12.0,12.0,11.0,9.0,8.0,7.0,7.0],\"coloraxis\":\"coloraxis\",\"size\":[26.0,17.0,22.0,28.0,21.0,33.0,35.0,34.0,22.0,16.0,14.0,14.0,16.0,15.0,14.0,15.0,12.0,12.0,11.0,9.0,8.0,7.0,7.0],\"sizemode\":\"area\",\"sizeref\":0.67,\"symbol\":\"circle\"},\"mode\":\"markers+text\",\"name\":\"\",\"orientation\":\"v\",\"showlegend\":false,\"text\":[26.0,17.0,22.0,28.0,21.0,33.0,35.0,34.0,22.0,16.0,14.0,14.0,16.0,15.0,14.0,15.0,12.0,12.0,11.0,9.0,8.0,7.0,7.0],\"x\":[2000,2001,2002,2003,2004,2005,2006,2007,2008,2009,2010,2011,2012,2013,2014,2015,2016,2017,2018,2019,2020,2021,2022],\"xaxis\":\"x\",\"y\":[26.0,17.0,22.0,28.0,21.0,33.0,35.0,34.0,22.0,16.0,14.0,14.0,16.0,15.0,14.0,15.0,12.0,12.0,11.0,9.0,8.0,7.0,7.0],\"yaxis\":\"y\",\"type\":\"scatter\"}],\"name\":\"MINIVAN\"},{\"data\":[{\"hovertemplate\":\"animation_frame=PICKUP TRUCK - SMALL<br>x=%{x}<br>y=%{y}<br>size=%{marker.size}<br>text=%{text}<br>color=%{marker.color}<extra></extra>\",\"ids\":[11.0,12.0,12.0,8.0,1.0,52.0,59.0,54.0,51.0,43.0,12.0,12.0,22.0,26.0,28.0,27.0,25.0,19.0,17.0,20.0],\"legendgroup\":\"\",\"marker\":{\"color\":[11.0,12.0,12.0,8.0,1.0,52.0,59.0,54.0,51.0,43.0,12.0,12.0,22.0,26.0,28.0,27.0,25.0,19.0,17.0,20.0],\"coloraxis\":\"coloraxis\",\"size\":[11.0,12.0,12.0,8.0,1.0,52.0,59.0,54.0,51.0,43.0,12.0,12.0,22.0,26.0,28.0,27.0,25.0,19.0,17.0,20.0],\"sizemode\":\"area\",\"sizeref\":0.67,\"symbol\":\"circle\"},\"mode\":\"markers+text\",\"name\":\"\",\"orientation\":\"v\",\"showlegend\":false,\"text\":[11.0,12.0,12.0,8.0,1.0,52.0,59.0,54.0,51.0,43.0,12.0,12.0,22.0,26.0,28.0,27.0,25.0,19.0,17.0,20.0],\"x\":[2000,2001,2002,2003,2004,2008,2009,2010,2011,2012,2013,2014,2015,2016,2017,2018,2019,2020,2021,2022],\"xaxis\":\"x\",\"y\":[11.0,12.0,12.0,8.0,1.0,52.0,59.0,54.0,51.0,43.0,12.0,12.0,22.0,26.0,28.0,27.0,25.0,19.0,17.0,20.0],\"yaxis\":\"y\",\"type\":\"scatter\"}],\"name\":\"PICKUP TRUCK - SMALL\"},{\"data\":[{\"hovertemplate\":\"animation_frame=PICKUP TRUCK - STANDARD<br>x=%{x}<br>y=%{y}<br>size=%{marker.size}<br>text=%{text}<br>color=%{marker.color}<extra></extra>\",\"ids\":[92.0,101.0,107.0,106.0,122.0,127.0,141.0,154.0,72.0,95.0,73.0,85.0,79.0,84.0,62.0,52.0,62.0,75.0,97.0,99.0,91.0,115.0,113.0],\"legendgroup\":\"\",\"marker\":{\"color\":[92.0,101.0,107.0,106.0,122.0,127.0,141.0,154.0,72.0,95.0,73.0,85.0,79.0,84.0,62.0,52.0,62.0,75.0,97.0,99.0,91.0,115.0,113.0],\"coloraxis\":\"coloraxis\",\"size\":[92.0,101.0,107.0,106.0,122.0,127.0,141.0,154.0,72.0,95.0,73.0,85.0,79.0,84.0,62.0,52.0,62.0,75.0,97.0,99.0,91.0,115.0,113.0],\"sizemode\":\"area\",\"sizeref\":0.67,\"symbol\":\"circle\"},\"mode\":\"markers+text\",\"name\":\"\",\"orientation\":\"v\",\"showlegend\":false,\"text\":[92.0,101.0,107.0,106.0,122.0,127.0,141.0,154.0,72.0,95.0,73.0,85.0,79.0,84.0,62.0,52.0,62.0,75.0,97.0,99.0,91.0,115.0,113.0],\"x\":[2000,2001,2002,2003,2004,2005,2006,2007,2008,2009,2010,2011,2012,2013,2014,2015,2016,2017,2018,2019,2020,2021,2022],\"xaxis\":\"x\",\"y\":[92.0,101.0,107.0,106.0,122.0,127.0,141.0,154.0,72.0,95.0,73.0,85.0,79.0,84.0,62.0,52.0,62.0,75.0,97.0,99.0,91.0,115.0,113.0],\"yaxis\":\"y\",\"type\":\"scatter\"}],\"name\":\"PICKUP TRUCK - STANDARD\"},{\"data\":[{\"hovertemplate\":\"animation_frame=STATION WAGON - MID-SIZE<br>x=%{x}<br>y=%{y}<br>size=%{marker.size}<br>text=%{text}<br>color=%{marker.color}<extra></extra>\",\"ids\":[25.0,31.0,32.0,35.0,41.0,38.0,28.0,32.0,18.0,13.0,9.0,4.0,5.0,3.0,6.0,8.0,7.0,8.0,10.0,9.0,8.0,9.0,8.0],\"legendgroup\":\"\",\"marker\":{\"color\":[25.0,31.0,32.0,35.0,41.0,38.0,28.0,32.0,18.0,13.0,9.0,4.0,5.0,3.0,6.0,8.0,7.0,8.0,10.0,9.0,8.0,9.0,8.0],\"coloraxis\":\"coloraxis\",\"size\":[25.0,31.0,32.0,35.0,41.0,38.0,28.0,32.0,18.0,13.0,9.0,4.0,5.0,3.0,6.0,8.0,7.0,8.0,10.0,9.0,8.0,9.0,8.0],\"sizemode\":\"area\",\"sizeref\":0.67,\"symbol\":\"circle\"},\"mode\":\"markers+text\",\"name\":\"\",\"orientation\":\"v\",\"showlegend\":false,\"text\":[25.0,31.0,32.0,35.0,41.0,38.0,28.0,32.0,18.0,13.0,9.0,4.0,5.0,3.0,6.0,8.0,7.0,8.0,10.0,9.0,8.0,9.0,8.0],\"x\":[2000,2001,2002,2003,2004,2005,2006,2007,2008,2009,2010,2011,2012,2013,2014,2015,2016,2017,2018,2019,2020,2021,2022],\"xaxis\":\"x\",\"y\":[25.0,31.0,32.0,35.0,41.0,38.0,28.0,32.0,18.0,13.0,9.0,4.0,5.0,3.0,6.0,8.0,7.0,8.0,10.0,9.0,8.0,9.0,8.0],\"yaxis\":\"y\",\"type\":\"scatter\"}],\"name\":\"STATION WAGON - MID-SIZE\"},{\"data\":[{\"hovertemplate\":\"animation_frame=STATION WAGON - SMALL<br>x=%{x}<br>y=%{y}<br>size=%{marker.size}<br>text=%{text}<br>color=%{marker.color}<extra></extra>\",\"ids\":[13.0,12.0,18.0,45.0,43.0,54.0,53.0,44.0,43.0,54.0,60.0,56.0,47.0,44.0,34.0,35.0,37.0,45.0,39.0,37.0,25.0,20.0,19.0],\"legendgroup\":\"\",\"marker\":{\"color\":[13.0,12.0,18.0,45.0,43.0,54.0,53.0,44.0,43.0,54.0,60.0,56.0,47.0,44.0,34.0,35.0,37.0,45.0,39.0,37.0,25.0,20.0,19.0],\"coloraxis\":\"coloraxis\",\"size\":[13.0,12.0,18.0,45.0,43.0,54.0,53.0,44.0,43.0,54.0,60.0,56.0,47.0,44.0,34.0,35.0,37.0,45.0,39.0,37.0,25.0,20.0,19.0],\"sizemode\":\"area\",\"sizeref\":0.67,\"symbol\":\"circle\"},\"mode\":\"markers+text\",\"name\":\"\",\"orientation\":\"v\",\"showlegend\":false,\"text\":[13.0,12.0,18.0,45.0,43.0,54.0,53.0,44.0,43.0,54.0,60.0,56.0,47.0,44.0,34.0,35.0,37.0,45.0,39.0,37.0,25.0,20.0,19.0],\"x\":[2000,2001,2002,2003,2004,2005,2006,2007,2008,2009,2010,2011,2012,2013,2014,2015,2016,2017,2018,2019,2020,2021,2022],\"xaxis\":\"x\",\"y\":[13.0,12.0,18.0,45.0,43.0,54.0,53.0,44.0,43.0,54.0,60.0,56.0,47.0,44.0,34.0,35.0,37.0,45.0,39.0,37.0,25.0,20.0,19.0],\"yaxis\":\"y\",\"type\":\"scatter\"}],\"name\":\"STATION WAGON - SMALL\"},{\"data\":[{\"hovertemplate\":\"animation_frame=SUBCOMPACT<br>x=%{x}<br>y=%{y}<br>size=%{marker.size}<br>text=%{text}<br>color=%{marker.color}<extra></extra>\",\"ids\":[104.0,62.0,73.0,65.0,86.0,87.0,78.0,83.0,100.0,99.0,98.0,104.0,102.0,95.0,62.0,92.0,76.0,93.0,96.0,98.0,95.0,83.0,79.0],\"legendgroup\":\"\",\"marker\":{\"color\":[104.0,62.0,73.0,65.0,86.0,87.0,78.0,83.0,100.0,99.0,98.0,104.0,102.0,95.0,62.0,92.0,76.0,93.0,96.0,98.0,95.0,83.0,79.0],\"coloraxis\":\"coloraxis\",\"size\":[104.0,62.0,73.0,65.0,86.0,87.0,78.0,83.0,100.0,99.0,98.0,104.0,102.0,95.0,62.0,92.0,76.0,93.0,96.0,98.0,95.0,83.0,79.0],\"sizemode\":\"area\",\"sizeref\":0.67,\"symbol\":\"circle\"},\"mode\":\"markers+text\",\"name\":\"\",\"orientation\":\"v\",\"showlegend\":false,\"text\":[104.0,62.0,73.0,65.0,86.0,87.0,78.0,83.0,100.0,99.0,98.0,104.0,102.0,95.0,62.0,92.0,76.0,93.0,96.0,98.0,95.0,83.0,79.0],\"x\":[2000,2001,2002,2003,2004,2005,2006,2007,2008,2009,2010,2011,2012,2013,2014,2015,2016,2017,2018,2019,2020,2021,2022],\"xaxis\":\"x\",\"y\":[104.0,62.0,73.0,65.0,86.0,87.0,78.0,83.0,100.0,99.0,98.0,104.0,102.0,95.0,62.0,92.0,76.0,93.0,96.0,98.0,95.0,83.0,79.0],\"yaxis\":\"y\",\"type\":\"scatter\"}],\"name\":\"SUBCOMPACT\"},{\"data\":[{\"hovertemplate\":\"animation_frame=SUV<br>x=%{x}<br>y=%{y}<br>size=%{marker.size}<br>text=%{text}<br>color=%{marker.color}<extra></extra>\",\"ids\":[97.0,98.0,124.0,160.0,190.0,224.0,221.0,239.0,267.0,268.0,249.0,268.0,235.0],\"legendgroup\":\"\",\"marker\":{\"color\":[97.0,98.0,124.0,160.0,190.0,224.0,221.0,239.0,267.0,268.0,249.0,268.0,235.0],\"coloraxis\":\"coloraxis\",\"size\":[97.0,98.0,124.0,160.0,190.0,224.0,221.0,239.0,267.0,268.0,249.0,268.0,235.0],\"sizemode\":\"area\",\"sizeref\":0.67,\"symbol\":\"circle\"},\"mode\":\"markers+text\",\"name\":\"\",\"orientation\":\"v\",\"showlegend\":false,\"text\":[97.0,98.0,124.0,160.0,190.0,224.0,221.0,239.0,267.0,268.0,249.0,268.0,235.0],\"x\":[2000,2001,2002,2003,2004,2005,2006,2007,2008,2009,2010,2011,2012],\"xaxis\":\"x\",\"y\":[97.0,98.0,124.0,160.0,190.0,224.0,221.0,239.0,267.0,268.0,249.0,268.0,235.0],\"yaxis\":\"y\",\"type\":\"scatter\"}],\"name\":\"SUV\"},{\"data\":[{\"hovertemplate\":\"animation_frame=TWO-SEATER<br>x=%{x}<br>y=%{y}<br>size=%{marker.size}<br>text=%{text}<br>color=%{marker.color}<extra></extra>\",\"ids\":[10.0,31.0,37.0,40.0,46.0,52.0,49.0,61.0,73.0,64.0,59.0,64.0,76.0,58.0,70.0,84.0,68.0,57.0,69.0,70.0,64.0,59.0,51.0],\"legendgroup\":\"\",\"marker\":{\"color\":[10.0,31.0,37.0,40.0,46.0,52.0,49.0,61.0,73.0,64.0,59.0,64.0,76.0,58.0,70.0,84.0,68.0,57.0,69.0,70.0,64.0,59.0,51.0],\"coloraxis\":\"coloraxis\",\"size\":[10.0,31.0,37.0,40.0,46.0,52.0,49.0,61.0,73.0,64.0,59.0,64.0,76.0,58.0,70.0,84.0,68.0,57.0,69.0,70.0,64.0,59.0,51.0],\"sizemode\":\"area\",\"sizeref\":0.67,\"symbol\":\"circle\"},\"mode\":\"markers+text\",\"name\":\"\",\"orientation\":\"v\",\"showlegend\":false,\"text\":[10.0,31.0,37.0,40.0,46.0,52.0,49.0,61.0,73.0,64.0,59.0,64.0,76.0,58.0,70.0,84.0,68.0,57.0,69.0,70.0,64.0,59.0,51.0],\"x\":[2000,2001,2002,2003,2004,2005,2006,2007,2008,2009,2010,2011,2012,2013,2014,2015,2016,2017,2018,2019,2020,2021,2022],\"xaxis\":\"x\",\"y\":[10.0,31.0,37.0,40.0,46.0,52.0,49.0,61.0,73.0,64.0,59.0,64.0,76.0,58.0,70.0,84.0,68.0,57.0,69.0,70.0,64.0,59.0,51.0],\"yaxis\":\"y\",\"type\":\"scatter\"}],\"name\":\"TWO-SEATER\"},{\"data\":[{\"hovertemplate\":\"animation_frame=VAN - CARGO<br>x=%{x}<br>y=%{y}<br>size=%{marker.size}<br>text=%{text}<br>color=%{marker.color}<extra></extra>\",\"ids\":[23.0,23.0,23.0,30.0,21.0,13.0,14.0,27.0,26.0,26.0,18.0,22.0,22.0,22.0,22.0],\"legendgroup\":\"\",\"marker\":{\"color\":[23.0,23.0,23.0,30.0,21.0,13.0,14.0,27.0,26.0,26.0,18.0,22.0,22.0,22.0,22.0],\"coloraxis\":\"coloraxis\",\"size\":[23.0,23.0,23.0,30.0,21.0,13.0,14.0,27.0,26.0,26.0,18.0,22.0,22.0,22.0,22.0],\"sizemode\":\"area\",\"sizeref\":0.67,\"symbol\":\"circle\"},\"mode\":\"markers+text\",\"name\":\"\",\"orientation\":\"v\",\"showlegend\":false,\"text\":[23.0,23.0,23.0,30.0,21.0,13.0,14.0,27.0,26.0,26.0,18.0,22.0,22.0,22.0,22.0],\"x\":[2000,2001,2002,2003,2004,2005,2006,2007,2008,2009,2010,2011,2012,2013,2014],\"xaxis\":\"x\",\"y\":[23.0,23.0,23.0,30.0,21.0,13.0,14.0,27.0,26.0,26.0,18.0,22.0,22.0,22.0,22.0],\"yaxis\":\"y\",\"type\":\"scatter\"}],\"name\":\"VAN - CARGO\"},{\"data\":[{\"hovertemplate\":\"animation_frame=VAN - PASSENGER<br>x=%{x}<br>y=%{y}<br>size=%{marker.size}<br>text=%{text}<br>color=%{marker.color}<extra></extra>\",\"ids\":[17.0,18.0,18.0,13.0,11.0,12.0,8.0,12.0,12.0,12.0,8.0,27.0,31.0,30.0,25.0,19.0,7.0,7.0,2.0,2.0,4.0,4.0],\"legendgroup\":\"\",\"marker\":{\"color\":[17.0,18.0,18.0,13.0,11.0,12.0,8.0,12.0,12.0,12.0,8.0,27.0,31.0,30.0,25.0,19.0,7.0,7.0,2.0,2.0,4.0,4.0],\"coloraxis\":\"coloraxis\",\"size\":[17.0,18.0,18.0,13.0,11.0,12.0,8.0,12.0,12.0,12.0,8.0,27.0,31.0,30.0,25.0,19.0,7.0,7.0,2.0,2.0,4.0,4.0],\"sizemode\":\"area\",\"sizeref\":0.67,\"symbol\":\"circle\"},\"mode\":\"markers+text\",\"name\":\"\",\"orientation\":\"v\",\"showlegend\":false,\"text\":[17.0,18.0,18.0,13.0,11.0,12.0,8.0,12.0,12.0,12.0,8.0,27.0,31.0,30.0,25.0,19.0,7.0,7.0,2.0,2.0,4.0,4.0],\"x\":[2000,2001,2002,2003,2004,2005,2006,2007,2008,2009,2010,2011,2012,2013,2014,2015,2016,2017,2018,2019,2020,2021],\"xaxis\":\"x\",\"y\":[17.0,18.0,18.0,13.0,11.0,12.0,8.0,12.0,12.0,12.0,8.0,27.0,31.0,30.0,25.0,19.0,7.0,7.0,2.0,2.0,4.0,4.0],\"yaxis\":\"y\",\"type\":\"scatter\"}],\"name\":\"VAN - PASSENGER\"},{\"data\":[{\"hovertemplate\":\"animation_frame=SUV - STANDARD<br>x=%{x}<br>y=%{y}<br>size=%{marker.size}<br>text=%{text}<br>color=%{marker.color}<extra></extra>\",\"ids\":[1.0,2.0,101.0,102.0,99.0,107.0,102.0,103.0,111.0,118.0,127.0,149.0],\"legendgroup\":\"\",\"marker\":{\"color\":[1.0,2.0,101.0,102.0,99.0,107.0,102.0,103.0,111.0,118.0,127.0,149.0],\"coloraxis\":\"coloraxis\",\"size\":[1.0,2.0,101.0,102.0,99.0,107.0,102.0,103.0,111.0,118.0,127.0,149.0],\"sizemode\":\"area\",\"sizeref\":0.67,\"symbol\":\"circle\"},\"mode\":\"markers+text\",\"name\":\"\",\"orientation\":\"v\",\"showlegend\":false,\"text\":[1.0,2.0,101.0,102.0,99.0,107.0,102.0,103.0,111.0,118.0,127.0,149.0],\"x\":[2007,2012,2013,2014,2015,2016,2017,2018,2019,2020,2021,2022],\"xaxis\":\"x\",\"y\":[1.0,2.0,101.0,102.0,99.0,107.0,102.0,103.0,111.0,118.0,127.0,149.0],\"yaxis\":\"y\",\"type\":\"scatter\"}],\"name\":\"SUV - STANDARD\"},{\"data\":[{\"hovertemplate\":\"animation_frame=SPECIAL PURPOSE VEHICLE<br>x=%{x}<br>y=%{y}<br>size=%{marker.size}<br>text=%{text}<br>color=%{marker.color}<extra></extra>\",\"ids\":[1.0,1.0,2.0,5.0,7.0,9.0,17.0,10.0,10.0,14.0,13.0,13.0,12.0],\"legendgroup\":\"\",\"marker\":{\"color\":[1.0,1.0,2.0,5.0,7.0,9.0,17.0,10.0,10.0,14.0,13.0,13.0,12.0],\"coloraxis\":\"coloraxis\",\"size\":[1.0,1.0,2.0,5.0,7.0,9.0,17.0,10.0,10.0,14.0,13.0,13.0,12.0],\"sizemode\":\"area\",\"sizeref\":0.67,\"symbol\":\"circle\"},\"mode\":\"markers+text\",\"name\":\"\",\"orientation\":\"v\",\"showlegend\":false,\"text\":[1.0,1.0,2.0,5.0,7.0,9.0,17.0,10.0,10.0,14.0,13.0,13.0,12.0],\"x\":[2010,2011,2012,2013,2014,2015,2016,2017,2018,2019,2020,2021,2022],\"xaxis\":\"x\",\"y\":[1.0,1.0,2.0,5.0,7.0,9.0,17.0,10.0,10.0,14.0,13.0,13.0,12.0],\"yaxis\":\"y\",\"type\":\"scatter\"}],\"name\":\"SPECIAL PURPOSE VEHICLE\"},{\"data\":[{\"hovertemplate\":\"animation_frame=SUV - SMALL<br>x=%{x}<br>y=%{y}<br>size=%{marker.size}<br>text=%{text}<br>color=%{marker.color}<extra></extra>\",\"ids\":[139.0,155.0,179.0,180.0,174.0,177.0,174.0,188.0,193.0,197.0],\"legendgroup\":\"\",\"marker\":{\"color\":[139.0,155.0,179.0,180.0,174.0,177.0,174.0,188.0,193.0,197.0],\"coloraxis\":\"coloraxis\",\"size\":[139.0,155.0,179.0,180.0,174.0,177.0,174.0,188.0,193.0,197.0],\"sizemode\":\"area\",\"sizeref\":0.67,\"symbol\":\"circle\"},\"mode\":\"markers+text\",\"name\":\"\",\"orientation\":\"v\",\"showlegend\":false,\"text\":[139.0,155.0,179.0,180.0,174.0,177.0,174.0,188.0,193.0,197.0],\"x\":[2013,2014,2015,2016,2017,2018,2019,2020,2021,2022],\"xaxis\":\"x\",\"y\":[139.0,155.0,179.0,180.0,174.0,177.0,174.0,188.0,193.0,197.0],\"yaxis\":\"y\",\"type\":\"scatter\"}],\"name\":\"SUV - SMALL\"}]);\n",
       "                        }).then(function(){\n",
       "                            \n",
       "var gd = document.getElementById('683b6d24-3dfb-4bdc-bc3d-be2c1596b721');\n",
       "var x = new MutationObserver(function (mutations, observer) {{\n",
       "        var display = window.getComputedStyle(gd).display;\n",
       "        if (!display || display === 'none') {{\n",
       "            console.log([gd, 'removed!']);\n",
       "            Plotly.purge(gd);\n",
       "            observer.disconnect();\n",
       "        }}\n",
       "}});\n",
       "\n",
       "// Listen for the removal of the full notebook cells\n",
       "var notebookContainer = gd.closest('#notebook-container');\n",
       "if (notebookContainer) {{\n",
       "    x.observe(notebookContainer, {childList: true});\n",
       "}}\n",
       "\n",
       "// Listen for the clearing of the current output cell\n",
       "var outputEl = gd.closest('.output');\n",
       "if (outputEl) {{\n",
       "    x.observe(outputEl, {childList: true});\n",
       "}}\n",
       "\n",
       "                        })                };                });            </script>        </div>"
      ]
     },
     "metadata": {},
     "output_type": "display_data"
    }
   ],
   "source": [
    "Year = [x[0] for x in data_to_display.index]\n",
    "Count = data_to_display['ID']['count'].values.tolist()\n",
    "VehicleClass = [x[1] for x in data_to_display.index]\n",
    "\n",
    "fig = px.scatter(x= Year, \n",
    "                 y=Count, \n",
    "                 color=Count,\n",
    "                 color_continuous_scale=px.colors.sequential.Jet,\n",
    "                 size=Count,\n",
    "                 text=Count,\n",
    "                 animation_frame=VehicleClass, \n",
    "                 animation_group=Count,\n",
    "                 log_x=True, \n",
    "                 range_x=[1999,2023], \n",
    "                 range_y=[0,300]\n",
    "                 )\n",
    "\n",
    "fig.update_layout(title='Number of Vehicle Models offered in each Vehicle Class each Year',\n",
    "                  xaxis_title='Year',\n",
    "                  yaxis_title='Number of Vehicles',\n",
    "                  )\n",
    "\n",
    "fig.update_xaxes(tickangle=45,minor=dict(ticklen=5, tickcolor=\"black\", showgrid=True))\n",
    "fig.update_yaxes(minor=dict(ticklen=5, tickcolor=\"black\", showgrid=True))\n",
    "fig.update_traces(textposition='top center')\n",
    "\n",
    "fig.show()"
   ]
  },
  {
   "cell_type": "code",
   "execution_count": 19,
   "id": "03580477",
   "metadata": {},
   "outputs": [
    {
     "data": {
      "application/vnd.plotly.v1+json": {
       "config": {
        "plotlyServerURL": "https://plot.ly"
       },
       "data": [
        {
         "alignmentgroup": "True",
         "hovertemplate": "<b>Class: %{text}</b><br>Year: %{x}</br>Count: %{y}<br>",
         "legendgroup": "COMPACT",
         "marker": {
          "color": "#FD3216",
          "pattern": {
           "shape": ""
          }
         },
         "name": "COMPACT",
         "offsetgroup": "COMPACT",
         "orientation": "v",
         "showlegend": true,
         "text": [
          "COMPACT",
          "COMPACT",
          "COMPACT",
          "COMPACT",
          "COMPACT",
          "COMPACT",
          "COMPACT",
          "COMPACT",
          "COMPACT",
          "COMPACT",
          "COMPACT",
          "COMPACT",
          "COMPACT",
          "COMPACT",
          "COMPACT",
          "COMPACT",
          "COMPACT",
          "COMPACT",
          "COMPACT",
          "COMPACT",
          "COMPACT",
          "COMPACT",
          "COMPACT"
         ],
         "textposition": "auto",
         "type": "bar",
         "x": [
          2000,
          2001,
          2002,
          2003,
          2004,
          2005,
          2006,
          2007,
          2008,
          2009,
          2010,
          2011,
          2012,
          2013,
          2014,
          2015,
          2016,
          2017,
          2018,
          2019,
          2020,
          2021,
          2022
         ],
         "xaxis": "x",
         "y": [
          105,
          145,
          133,
          143,
          154,
          146,
          137,
          116,
          148,
          150,
          140,
          124,
          133,
          168,
          168,
          186,
          181,
          159,
          122,
          106,
          108,
          85,
          70
         ],
         "yaxis": "y"
        },
        {
         "alignmentgroup": "True",
         "hovertemplate": "<b>Class: %{text}</b><br>Year: %{x}</br>Count: %{y}<br>",
         "legendgroup": "FULL-SIZE",
         "marker": {
          "color": "#00FE35",
          "pattern": {
           "shape": ""
          }
         },
         "name": "FULL-SIZE",
         "offsetgroup": "FULL-SIZE",
         "orientation": "v",
         "showlegend": true,
         "text": [
          "FULL-SIZE",
          "FULL-SIZE",
          "FULL-SIZE",
          "FULL-SIZE",
          "FULL-SIZE",
          "FULL-SIZE",
          "FULL-SIZE",
          "FULL-SIZE",
          "FULL-SIZE",
          "FULL-SIZE",
          "FULL-SIZE",
          "FULL-SIZE",
          "FULL-SIZE",
          "FULL-SIZE",
          "FULL-SIZE",
          "FULL-SIZE",
          "FULL-SIZE",
          "FULL-SIZE",
          "FULL-SIZE",
          "FULL-SIZE",
          "FULL-SIZE",
          "FULL-SIZE",
          "FULL-SIZE"
         ],
         "textposition": "auto",
         "type": "bar",
         "x": [
          2000,
          2001,
          2002,
          2003,
          2004,
          2005,
          2006,
          2007,
          2008,
          2009,
          2010,
          2011,
          2012,
          2013,
          2014,
          2015,
          2016,
          2017,
          2018,
          2019,
          2020,
          2021,
          2022
         ],
         "xaxis": "x",
         "y": [
          28,
          30,
          29,
          25,
          34,
          45,
          56,
          54,
          63,
          68,
          77,
          71,
          81,
          76,
          84,
          93,
          90,
          82,
          109,
          101,
          78,
          65,
          64
         ],
         "yaxis": "y"
        },
        {
         "alignmentgroup": "True",
         "hovertemplate": "<b>Class: %{text}</b><br>Year: %{x}</br>Count: %{y}<br>",
         "legendgroup": "MID-SIZE",
         "marker": {
          "color": "#6A76FC",
          "pattern": {
           "shape": ""
          }
         },
         "name": "MID-SIZE",
         "offsetgroup": "MID-SIZE",
         "orientation": "v",
         "showlegend": true,
         "text": [
          "MID-SIZE",
          "MID-SIZE",
          "MID-SIZE",
          "MID-SIZE",
          "MID-SIZE",
          "MID-SIZE",
          "MID-SIZE",
          "MID-SIZE",
          "MID-SIZE",
          "MID-SIZE",
          "MID-SIZE",
          "MID-SIZE",
          "MID-SIZE",
          "MID-SIZE",
          "MID-SIZE",
          "MID-SIZE",
          "MID-SIZE",
          "MID-SIZE",
          "MID-SIZE",
          "MID-SIZE",
          "MID-SIZE",
          "MID-SIZE",
          "MID-SIZE"
         ],
         "textposition": "auto",
         "type": "bar",
         "x": [
          2000,
          2001,
          2002,
          2003,
          2004,
          2005,
          2006,
          2007,
          2008,
          2009,
          2010,
          2011,
          2012,
          2013,
          2014,
          2015,
          2016,
          2017,
          2018,
          2019,
          2020,
          2021,
          2022
         ],
         "xaxis": "x",
         "y": [
          77,
          82,
          90,
          89,
          103,
          114,
          111,
          139,
          134,
          125,
          120,
          132,
          131,
          153,
          170,
          180,
          188,
          162,
          158,
          145,
          126,
          114,
          117
         ],
         "yaxis": "y"
        },
        {
         "alignmentgroup": "True",
         "hovertemplate": "<b>Class: %{text}</b><br>Year: %{x}</br>Count: %{y}<br>",
         "legendgroup": "MINICOMPACT",
         "marker": {
          "color": "#FED4C4",
          "pattern": {
           "shape": ""
          }
         },
         "name": "MINICOMPACT",
         "offsetgroup": "MINICOMPACT",
         "orientation": "v",
         "showlegend": true,
         "text": [
          "MINICOMPACT",
          "MINICOMPACT",
          "MINICOMPACT",
          "MINICOMPACT",
          "MINICOMPACT",
          "MINICOMPACT",
          "MINICOMPACT",
          "MINICOMPACT",
          "MINICOMPACT",
          "MINICOMPACT",
          "MINICOMPACT",
          "MINICOMPACT",
          "MINICOMPACT",
          "MINICOMPACT",
          "MINICOMPACT",
          "MINICOMPACT",
          "MINICOMPACT",
          "MINICOMPACT",
          "MINICOMPACT",
          "MINICOMPACT",
          "MINICOMPACT",
          "MINICOMPACT",
          "MINICOMPACT"
         ],
         "textposition": "auto",
         "type": "bar",
         "x": [
          2000,
          2001,
          2002,
          2003,
          2004,
          2005,
          2006,
          2007,
          2008,
          2009,
          2010,
          2011,
          2012,
          2013,
          2014,
          2015,
          2016,
          2017,
          2018,
          2019,
          2020,
          2021,
          2022
         ],
         "xaxis": "x",
         "y": [
          11,
          17,
          22,
          33,
          25,
          74,
          37,
          47,
          49,
          43,
          41,
          53,
          76,
          53,
          47,
          59,
          52,
          44,
          53,
          56,
          23,
          30,
          49
         ],
         "yaxis": "y"
        },
        {
         "alignmentgroup": "True",
         "hovertemplate": "<b>Class: %{text}</b><br>Year: %{x}</br>Count: %{y}<br>",
         "legendgroup": "MINIVAN",
         "marker": {
          "color": "#FE00CE",
          "pattern": {
           "shape": ""
          }
         },
         "name": "MINIVAN",
         "offsetgroup": "MINIVAN",
         "orientation": "v",
         "showlegend": true,
         "text": [
          "MINIVAN",
          "MINIVAN",
          "MINIVAN",
          "MINIVAN",
          "MINIVAN",
          "MINIVAN",
          "MINIVAN",
          "MINIVAN",
          "MINIVAN",
          "MINIVAN",
          "MINIVAN",
          "MINIVAN",
          "MINIVAN",
          "MINIVAN",
          "MINIVAN",
          "MINIVAN",
          "MINIVAN",
          "MINIVAN",
          "MINIVAN",
          "MINIVAN",
          "MINIVAN",
          "MINIVAN",
          "MINIVAN"
         ],
         "textposition": "auto",
         "type": "bar",
         "x": [
          2000,
          2001,
          2002,
          2003,
          2004,
          2005,
          2006,
          2007,
          2008,
          2009,
          2010,
          2011,
          2012,
          2013,
          2014,
          2015,
          2016,
          2017,
          2018,
          2019,
          2020,
          2021,
          2022
         ],
         "xaxis": "x",
         "y": [
          26,
          17,
          22,
          28,
          21,
          33,
          35,
          34,
          22,
          16,
          14,
          14,
          16,
          15,
          14,
          15,
          12,
          12,
          11,
          9,
          8,
          7,
          7
         ],
         "yaxis": "y"
        },
        {
         "alignmentgroup": "True",
         "hovertemplate": "<b>Class: %{text}</b><br>Year: %{x}</br>Count: %{y}<br>",
         "legendgroup": "PICKUP TRUCK - SMALL",
         "marker": {
          "color": "#0DF9FF",
          "pattern": {
           "shape": ""
          }
         },
         "name": "PICKUP TRUCK - SMALL",
         "offsetgroup": "PICKUP TRUCK - SMALL",
         "orientation": "v",
         "showlegend": true,
         "text": [
          "PICKUP TRUCK - SMALL",
          "PICKUP TRUCK - SMALL",
          "PICKUP TRUCK - SMALL",
          "PICKUP TRUCK - SMALL",
          "PICKUP TRUCK - SMALL",
          "PICKUP TRUCK - SMALL",
          "PICKUP TRUCK - SMALL",
          "PICKUP TRUCK - SMALL",
          "PICKUP TRUCK - SMALL",
          "PICKUP TRUCK - SMALL",
          "PICKUP TRUCK - SMALL",
          "PICKUP TRUCK - SMALL",
          "PICKUP TRUCK - SMALL",
          "PICKUP TRUCK - SMALL",
          "PICKUP TRUCK - SMALL",
          "PICKUP TRUCK - SMALL",
          "PICKUP TRUCK - SMALL",
          "PICKUP TRUCK - SMALL",
          "PICKUP TRUCK - SMALL",
          "PICKUP TRUCK - SMALL"
         ],
         "textposition": "auto",
         "type": "bar",
         "x": [
          2000,
          2001,
          2002,
          2003,
          2004,
          2008,
          2009,
          2010,
          2011,
          2012,
          2013,
          2014,
          2015,
          2016,
          2017,
          2018,
          2019,
          2020,
          2021,
          2022
         ],
         "xaxis": "x",
         "y": [
          11,
          12,
          12,
          8,
          1,
          52,
          59,
          54,
          51,
          43,
          12,
          12,
          22,
          26,
          28,
          27,
          25,
          19,
          17,
          20
         ],
         "yaxis": "y"
        },
        {
         "alignmentgroup": "True",
         "hovertemplate": "<b>Class: %{text}</b><br>Year: %{x}</br>Count: %{y}<br>",
         "legendgroup": "PICKUP TRUCK - STANDARD",
         "marker": {
          "color": "#F6F926",
          "pattern": {
           "shape": ""
          }
         },
         "name": "PICKUP TRUCK - STANDARD",
         "offsetgroup": "PICKUP TRUCK - STANDARD",
         "orientation": "v",
         "showlegend": true,
         "text": [
          "PICKUP TRUCK - STANDARD",
          "PICKUP TRUCK - STANDARD",
          "PICKUP TRUCK - STANDARD",
          "PICKUP TRUCK - STANDARD",
          "PICKUP TRUCK - STANDARD",
          "PICKUP TRUCK - STANDARD",
          "PICKUP TRUCK - STANDARD",
          "PICKUP TRUCK - STANDARD",
          "PICKUP TRUCK - STANDARD",
          "PICKUP TRUCK - STANDARD",
          "PICKUP TRUCK - STANDARD",
          "PICKUP TRUCK - STANDARD",
          "PICKUP TRUCK - STANDARD",
          "PICKUP TRUCK - STANDARD",
          "PICKUP TRUCK - STANDARD",
          "PICKUP TRUCK - STANDARD",
          "PICKUP TRUCK - STANDARD",
          "PICKUP TRUCK - STANDARD",
          "PICKUP TRUCK - STANDARD",
          "PICKUP TRUCK - STANDARD",
          "PICKUP TRUCK - STANDARD",
          "PICKUP TRUCK - STANDARD",
          "PICKUP TRUCK - STANDARD"
         ],
         "textposition": "auto",
         "type": "bar",
         "x": [
          2000,
          2001,
          2002,
          2003,
          2004,
          2005,
          2006,
          2007,
          2008,
          2009,
          2010,
          2011,
          2012,
          2013,
          2014,
          2015,
          2016,
          2017,
          2018,
          2019,
          2020,
          2021,
          2022
         ],
         "xaxis": "x",
         "y": [
          92,
          101,
          107,
          106,
          122,
          127,
          141,
          154,
          72,
          95,
          73,
          85,
          79,
          84,
          62,
          52,
          62,
          75,
          97,
          99,
          91,
          115,
          113
         ],
         "yaxis": "y"
        },
        {
         "alignmentgroup": "True",
         "hovertemplate": "<b>Class: %{text}</b><br>Year: %{x}</br>Count: %{y}<br>",
         "legendgroup": "STATION WAGON - MID-SIZE",
         "marker": {
          "color": "#FF9616",
          "pattern": {
           "shape": ""
          }
         },
         "name": "STATION WAGON - MID-SIZE",
         "offsetgroup": "STATION WAGON - MID-SIZE",
         "orientation": "v",
         "showlegend": true,
         "text": [
          "STATION WAGON - MID-SIZE",
          "STATION WAGON - MID-SIZE",
          "STATION WAGON - MID-SIZE",
          "STATION WAGON - MID-SIZE",
          "STATION WAGON - MID-SIZE",
          "STATION WAGON - MID-SIZE",
          "STATION WAGON - MID-SIZE",
          "STATION WAGON - MID-SIZE",
          "STATION WAGON - MID-SIZE",
          "STATION WAGON - MID-SIZE",
          "STATION WAGON - MID-SIZE",
          "STATION WAGON - MID-SIZE",
          "STATION WAGON - MID-SIZE",
          "STATION WAGON - MID-SIZE",
          "STATION WAGON - MID-SIZE",
          "STATION WAGON - MID-SIZE",
          "STATION WAGON - MID-SIZE",
          "STATION WAGON - MID-SIZE",
          "STATION WAGON - MID-SIZE",
          "STATION WAGON - MID-SIZE",
          "STATION WAGON - MID-SIZE",
          "STATION WAGON - MID-SIZE",
          "STATION WAGON - MID-SIZE"
         ],
         "textposition": "auto",
         "type": "bar",
         "x": [
          2000,
          2001,
          2002,
          2003,
          2004,
          2005,
          2006,
          2007,
          2008,
          2009,
          2010,
          2011,
          2012,
          2013,
          2014,
          2015,
          2016,
          2017,
          2018,
          2019,
          2020,
          2021,
          2022
         ],
         "xaxis": "x",
         "y": [
          25,
          31,
          32,
          35,
          41,
          38,
          28,
          32,
          18,
          13,
          9,
          4,
          5,
          3,
          6,
          8,
          7,
          8,
          10,
          9,
          8,
          9,
          8
         ],
         "yaxis": "y"
        },
        {
         "alignmentgroup": "True",
         "hovertemplate": "<b>Class: %{text}</b><br>Year: %{x}</br>Count: %{y}<br>",
         "legendgroup": "STATION WAGON - SMALL",
         "marker": {
          "color": "#479B55",
          "pattern": {
           "shape": ""
          }
         },
         "name": "STATION WAGON - SMALL",
         "offsetgroup": "STATION WAGON - SMALL",
         "orientation": "v",
         "showlegend": true,
         "text": [
          "STATION WAGON - SMALL",
          "STATION WAGON - SMALL",
          "STATION WAGON - SMALL",
          "STATION WAGON - SMALL",
          "STATION WAGON - SMALL",
          "STATION WAGON - SMALL",
          "STATION WAGON - SMALL",
          "STATION WAGON - SMALL",
          "STATION WAGON - SMALL",
          "STATION WAGON - SMALL",
          "STATION WAGON - SMALL",
          "STATION WAGON - SMALL",
          "STATION WAGON - SMALL",
          "STATION WAGON - SMALL",
          "STATION WAGON - SMALL",
          "STATION WAGON - SMALL",
          "STATION WAGON - SMALL",
          "STATION WAGON - SMALL",
          "STATION WAGON - SMALL",
          "STATION WAGON - SMALL",
          "STATION WAGON - SMALL",
          "STATION WAGON - SMALL",
          "STATION WAGON - SMALL"
         ],
         "textposition": "auto",
         "type": "bar",
         "x": [
          2000,
          2001,
          2002,
          2003,
          2004,
          2005,
          2006,
          2007,
          2008,
          2009,
          2010,
          2011,
          2012,
          2013,
          2014,
          2015,
          2016,
          2017,
          2018,
          2019,
          2020,
          2021,
          2022
         ],
         "xaxis": "x",
         "y": [
          13,
          12,
          18,
          45,
          43,
          54,
          53,
          44,
          43,
          54,
          60,
          56,
          47,
          44,
          34,
          35,
          37,
          45,
          39,
          37,
          25,
          20,
          19
         ],
         "yaxis": "y"
        },
        {
         "alignmentgroup": "True",
         "hovertemplate": "<b>Class: %{text}</b><br>Year: %{x}</br>Count: %{y}<br>",
         "legendgroup": "SUBCOMPACT",
         "marker": {
          "color": "#EEA6FB",
          "pattern": {
           "shape": ""
          }
         },
         "name": "SUBCOMPACT",
         "offsetgroup": "SUBCOMPACT",
         "orientation": "v",
         "showlegend": true,
         "text": [
          "SUBCOMPACT",
          "SUBCOMPACT",
          "SUBCOMPACT",
          "SUBCOMPACT",
          "SUBCOMPACT",
          "SUBCOMPACT",
          "SUBCOMPACT",
          "SUBCOMPACT",
          "SUBCOMPACT",
          "SUBCOMPACT",
          "SUBCOMPACT",
          "SUBCOMPACT",
          "SUBCOMPACT",
          "SUBCOMPACT",
          "SUBCOMPACT",
          "SUBCOMPACT",
          "SUBCOMPACT",
          "SUBCOMPACT",
          "SUBCOMPACT",
          "SUBCOMPACT",
          "SUBCOMPACT",
          "SUBCOMPACT",
          "SUBCOMPACT"
         ],
         "textposition": "auto",
         "type": "bar",
         "x": [
          2000,
          2001,
          2002,
          2003,
          2004,
          2005,
          2006,
          2007,
          2008,
          2009,
          2010,
          2011,
          2012,
          2013,
          2014,
          2015,
          2016,
          2017,
          2018,
          2019,
          2020,
          2021,
          2022
         ],
         "xaxis": "x",
         "y": [
          104,
          62,
          73,
          65,
          86,
          87,
          78,
          83,
          100,
          99,
          98,
          104,
          102,
          95,
          62,
          92,
          76,
          93,
          96,
          98,
          95,
          83,
          79
         ],
         "yaxis": "y"
        },
        {
         "alignmentgroup": "True",
         "hovertemplate": "<b>Class: %{text}</b><br>Year: %{x}</br>Count: %{y}<br>",
         "legendgroup": "SUV",
         "marker": {
          "color": "#DC587D",
          "pattern": {
           "shape": ""
          }
         },
         "name": "SUV",
         "offsetgroup": "SUV",
         "orientation": "v",
         "showlegend": true,
         "text": [
          "SUV",
          "SUV",
          "SUV",
          "SUV",
          "SUV",
          "SUV",
          "SUV",
          "SUV",
          "SUV",
          "SUV",
          "SUV",
          "SUV",
          "SUV"
         ],
         "textposition": "auto",
         "type": "bar",
         "x": [
          2000,
          2001,
          2002,
          2003,
          2004,
          2005,
          2006,
          2007,
          2008,
          2009,
          2010,
          2011,
          2012
         ],
         "xaxis": "x",
         "y": [
          97,
          98,
          124,
          160,
          190,
          224,
          221,
          239,
          267,
          268,
          249,
          268,
          235
         ],
         "yaxis": "y"
        },
        {
         "alignmentgroup": "True",
         "hovertemplate": "<b>Class: %{text}</b><br>Year: %{x}</br>Count: %{y}<br>",
         "legendgroup": "TWO-SEATER",
         "marker": {
          "color": "#D626FF",
          "pattern": {
           "shape": ""
          }
         },
         "name": "TWO-SEATER",
         "offsetgroup": "TWO-SEATER",
         "orientation": "v",
         "showlegend": true,
         "text": [
          "TWO-SEATER",
          "TWO-SEATER",
          "TWO-SEATER",
          "TWO-SEATER",
          "TWO-SEATER",
          "TWO-SEATER",
          "TWO-SEATER",
          "TWO-SEATER",
          "TWO-SEATER",
          "TWO-SEATER",
          "TWO-SEATER",
          "TWO-SEATER",
          "TWO-SEATER",
          "TWO-SEATER",
          "TWO-SEATER",
          "TWO-SEATER",
          "TWO-SEATER",
          "TWO-SEATER",
          "TWO-SEATER",
          "TWO-SEATER",
          "TWO-SEATER",
          "TWO-SEATER",
          "TWO-SEATER"
         ],
         "textposition": "auto",
         "type": "bar",
         "x": [
          2000,
          2001,
          2002,
          2003,
          2004,
          2005,
          2006,
          2007,
          2008,
          2009,
          2010,
          2011,
          2012,
          2013,
          2014,
          2015,
          2016,
          2017,
          2018,
          2019,
          2020,
          2021,
          2022
         ],
         "xaxis": "x",
         "y": [
          10,
          31,
          37,
          40,
          46,
          52,
          49,
          61,
          73,
          64,
          59,
          64,
          76,
          58,
          70,
          84,
          68,
          57,
          69,
          70,
          64,
          59,
          51
         ],
         "yaxis": "y"
        },
        {
         "alignmentgroup": "True",
         "hovertemplate": "<b>Class: %{text}</b><br>Year: %{x}</br>Count: %{y}<br>",
         "legendgroup": "VAN - CARGO",
         "marker": {
          "color": "#6E899C",
          "pattern": {
           "shape": ""
          }
         },
         "name": "VAN - CARGO",
         "offsetgroup": "VAN - CARGO",
         "orientation": "v",
         "showlegend": true,
         "text": [
          "VAN - CARGO",
          "VAN - CARGO",
          "VAN - CARGO",
          "VAN - CARGO",
          "VAN - CARGO",
          "VAN - CARGO",
          "VAN - CARGO",
          "VAN - CARGO",
          "VAN - CARGO",
          "VAN - CARGO",
          "VAN - CARGO",
          "VAN - CARGO",
          "VAN - CARGO",
          "VAN - CARGO",
          "VAN - CARGO"
         ],
         "textposition": "auto",
         "type": "bar",
         "x": [
          2000,
          2001,
          2002,
          2003,
          2004,
          2005,
          2006,
          2007,
          2008,
          2009,
          2010,
          2011,
          2012,
          2013,
          2014
         ],
         "xaxis": "x",
         "y": [
          23,
          23,
          23,
          30,
          21,
          13,
          14,
          27,
          26,
          26,
          18,
          22,
          22,
          22,
          22
         ],
         "yaxis": "y"
        },
        {
         "alignmentgroup": "True",
         "hovertemplate": "<b>Class: %{text}</b><br>Year: %{x}</br>Count: %{y}<br>",
         "legendgroup": "VAN - PASSENGER",
         "marker": {
          "color": "#00B5F7",
          "pattern": {
           "shape": ""
          }
         },
         "name": "VAN - PASSENGER",
         "offsetgroup": "VAN - PASSENGER",
         "orientation": "v",
         "showlegend": true,
         "text": [
          "VAN - PASSENGER",
          "VAN - PASSENGER",
          "VAN - PASSENGER",
          "VAN - PASSENGER",
          "VAN - PASSENGER",
          "VAN - PASSENGER",
          "VAN - PASSENGER",
          "VAN - PASSENGER",
          "VAN - PASSENGER",
          "VAN - PASSENGER",
          "VAN - PASSENGER",
          "VAN - PASSENGER",
          "VAN - PASSENGER",
          "VAN - PASSENGER",
          "VAN - PASSENGER",
          "VAN - PASSENGER",
          "VAN - PASSENGER",
          "VAN - PASSENGER",
          "VAN - PASSENGER",
          "VAN - PASSENGER",
          "VAN - PASSENGER",
          "VAN - PASSENGER"
         ],
         "textposition": "auto",
         "type": "bar",
         "x": [
          2000,
          2001,
          2002,
          2003,
          2004,
          2005,
          2006,
          2007,
          2008,
          2009,
          2010,
          2011,
          2012,
          2013,
          2014,
          2015,
          2016,
          2017,
          2018,
          2019,
          2020,
          2021
         ],
         "xaxis": "x",
         "y": [
          17,
          18,
          18,
          13,
          11,
          12,
          8,
          12,
          12,
          12,
          8,
          27,
          31,
          30,
          25,
          19,
          7,
          7,
          2,
          2,
          4,
          4
         ],
         "yaxis": "y"
        },
        {
         "alignmentgroup": "True",
         "hovertemplate": "<b>Class: %{text}</b><br>Year: %{x}</br>Count: %{y}<br>",
         "legendgroup": "SUV - STANDARD",
         "marker": {
          "color": "#B68E00",
          "pattern": {
           "shape": ""
          }
         },
         "name": "SUV - STANDARD",
         "offsetgroup": "SUV - STANDARD",
         "orientation": "v",
         "showlegend": true,
         "text": [
          "SUV - STANDARD",
          "SUV - STANDARD",
          "SUV - STANDARD",
          "SUV - STANDARD",
          "SUV - STANDARD",
          "SUV - STANDARD",
          "SUV - STANDARD",
          "SUV - STANDARD",
          "SUV - STANDARD",
          "SUV - STANDARD",
          "SUV - STANDARD",
          "SUV - STANDARD"
         ],
         "textposition": "auto",
         "type": "bar",
         "x": [
          2007,
          2012,
          2013,
          2014,
          2015,
          2016,
          2017,
          2018,
          2019,
          2020,
          2021,
          2022
         ],
         "xaxis": "x",
         "y": [
          1,
          2,
          101,
          102,
          99,
          107,
          102,
          103,
          111,
          118,
          127,
          149
         ],
         "yaxis": "y"
        },
        {
         "alignmentgroup": "True",
         "hovertemplate": "<b>Class: %{text}</b><br>Year: %{x}</br>Count: %{y}<br>",
         "legendgroup": "SPECIAL PURPOSE VEHICLE",
         "marker": {
          "color": "#C9FBE5",
          "pattern": {
           "shape": ""
          }
         },
         "name": "SPECIAL PURPOSE VEHICLE",
         "offsetgroup": "SPECIAL PURPOSE VEHICLE",
         "orientation": "v",
         "showlegend": true,
         "text": [
          "SPECIAL PURPOSE VEHICLE",
          "SPECIAL PURPOSE VEHICLE",
          "SPECIAL PURPOSE VEHICLE",
          "SPECIAL PURPOSE VEHICLE",
          "SPECIAL PURPOSE VEHICLE",
          "SPECIAL PURPOSE VEHICLE",
          "SPECIAL PURPOSE VEHICLE",
          "SPECIAL PURPOSE VEHICLE",
          "SPECIAL PURPOSE VEHICLE",
          "SPECIAL PURPOSE VEHICLE",
          "SPECIAL PURPOSE VEHICLE",
          "SPECIAL PURPOSE VEHICLE",
          "SPECIAL PURPOSE VEHICLE"
         ],
         "textposition": "auto",
         "type": "bar",
         "x": [
          2010,
          2011,
          2012,
          2013,
          2014,
          2015,
          2016,
          2017,
          2018,
          2019,
          2020,
          2021,
          2022
         ],
         "xaxis": "x",
         "y": [
          1,
          1,
          2,
          5,
          7,
          9,
          17,
          10,
          10,
          14,
          13,
          13,
          12
         ],
         "yaxis": "y"
        },
        {
         "alignmentgroup": "True",
         "hovertemplate": "<b>Class: %{text}</b><br>Year: %{x}</br>Count: %{y}<br>",
         "legendgroup": "SUV - SMALL",
         "marker": {
          "color": "#FF0092",
          "pattern": {
           "shape": ""
          }
         },
         "name": "SUV - SMALL",
         "offsetgroup": "SUV - SMALL",
         "orientation": "v",
         "showlegend": true,
         "text": [
          "SUV - SMALL",
          "SUV - SMALL",
          "SUV - SMALL",
          "SUV - SMALL",
          "SUV - SMALL",
          "SUV - SMALL",
          "SUV - SMALL",
          "SUV - SMALL",
          "SUV - SMALL",
          "SUV - SMALL"
         ],
         "textposition": "auto",
         "type": "bar",
         "x": [
          2013,
          2014,
          2015,
          2016,
          2017,
          2018,
          2019,
          2020,
          2021,
          2022
         ],
         "xaxis": "x",
         "y": [
          139,
          155,
          179,
          180,
          174,
          177,
          174,
          188,
          193,
          197
         ],
         "yaxis": "y"
        }
       ],
       "layout": {
        "barmode": "relative",
        "hovermode": "closest",
        "legend": {
         "title": {
          "text": "color"
         },
         "tracegroupgap": 0
        },
        "template": {
         "data": {
          "bar": [
           {
            "error_x": {
             "color": "#2a3f5f"
            },
            "error_y": {
             "color": "#2a3f5f"
            },
            "marker": {
             "line": {
              "color": "#E5ECF6",
              "width": 0.5
             },
             "pattern": {
              "fillmode": "overlay",
              "size": 10,
              "solidity": 0.2
             }
            },
            "type": "bar"
           }
          ],
          "barpolar": [
           {
            "marker": {
             "line": {
              "color": "#E5ECF6",
              "width": 0.5
             },
             "pattern": {
              "fillmode": "overlay",
              "size": 10,
              "solidity": 0.2
             }
            },
            "type": "barpolar"
           }
          ],
          "carpet": [
           {
            "aaxis": {
             "endlinecolor": "#2a3f5f",
             "gridcolor": "white",
             "linecolor": "white",
             "minorgridcolor": "white",
             "startlinecolor": "#2a3f5f"
            },
            "baxis": {
             "endlinecolor": "#2a3f5f",
             "gridcolor": "white",
             "linecolor": "white",
             "minorgridcolor": "white",
             "startlinecolor": "#2a3f5f"
            },
            "type": "carpet"
           }
          ],
          "choropleth": [
           {
            "colorbar": {
             "outlinewidth": 0,
             "ticks": ""
            },
            "type": "choropleth"
           }
          ],
          "contour": [
           {
            "colorbar": {
             "outlinewidth": 0,
             "ticks": ""
            },
            "colorscale": [
             [
              0,
              "#0d0887"
             ],
             [
              0.1111111111111111,
              "#46039f"
             ],
             [
              0.2222222222222222,
              "#7201a8"
             ],
             [
              0.3333333333333333,
              "#9c179e"
             ],
             [
              0.4444444444444444,
              "#bd3786"
             ],
             [
              0.5555555555555556,
              "#d8576b"
             ],
             [
              0.6666666666666666,
              "#ed7953"
             ],
             [
              0.7777777777777778,
              "#fb9f3a"
             ],
             [
              0.8888888888888888,
              "#fdca26"
             ],
             [
              1,
              "#f0f921"
             ]
            ],
            "type": "contour"
           }
          ],
          "contourcarpet": [
           {
            "colorbar": {
             "outlinewidth": 0,
             "ticks": ""
            },
            "type": "contourcarpet"
           }
          ],
          "heatmap": [
           {
            "colorbar": {
             "outlinewidth": 0,
             "ticks": ""
            },
            "colorscale": [
             [
              0,
              "#0d0887"
             ],
             [
              0.1111111111111111,
              "#46039f"
             ],
             [
              0.2222222222222222,
              "#7201a8"
             ],
             [
              0.3333333333333333,
              "#9c179e"
             ],
             [
              0.4444444444444444,
              "#bd3786"
             ],
             [
              0.5555555555555556,
              "#d8576b"
             ],
             [
              0.6666666666666666,
              "#ed7953"
             ],
             [
              0.7777777777777778,
              "#fb9f3a"
             ],
             [
              0.8888888888888888,
              "#fdca26"
             ],
             [
              1,
              "#f0f921"
             ]
            ],
            "type": "heatmap"
           }
          ],
          "heatmapgl": [
           {
            "colorbar": {
             "outlinewidth": 0,
             "ticks": ""
            },
            "colorscale": [
             [
              0,
              "#0d0887"
             ],
             [
              0.1111111111111111,
              "#46039f"
             ],
             [
              0.2222222222222222,
              "#7201a8"
             ],
             [
              0.3333333333333333,
              "#9c179e"
             ],
             [
              0.4444444444444444,
              "#bd3786"
             ],
             [
              0.5555555555555556,
              "#d8576b"
             ],
             [
              0.6666666666666666,
              "#ed7953"
             ],
             [
              0.7777777777777778,
              "#fb9f3a"
             ],
             [
              0.8888888888888888,
              "#fdca26"
             ],
             [
              1,
              "#f0f921"
             ]
            ],
            "type": "heatmapgl"
           }
          ],
          "histogram": [
           {
            "marker": {
             "pattern": {
              "fillmode": "overlay",
              "size": 10,
              "solidity": 0.2
             }
            },
            "type": "histogram"
           }
          ],
          "histogram2d": [
           {
            "colorbar": {
             "outlinewidth": 0,
             "ticks": ""
            },
            "colorscale": [
             [
              0,
              "#0d0887"
             ],
             [
              0.1111111111111111,
              "#46039f"
             ],
             [
              0.2222222222222222,
              "#7201a8"
             ],
             [
              0.3333333333333333,
              "#9c179e"
             ],
             [
              0.4444444444444444,
              "#bd3786"
             ],
             [
              0.5555555555555556,
              "#d8576b"
             ],
             [
              0.6666666666666666,
              "#ed7953"
             ],
             [
              0.7777777777777778,
              "#fb9f3a"
             ],
             [
              0.8888888888888888,
              "#fdca26"
             ],
             [
              1,
              "#f0f921"
             ]
            ],
            "type": "histogram2d"
           }
          ],
          "histogram2dcontour": [
           {
            "colorbar": {
             "outlinewidth": 0,
             "ticks": ""
            },
            "colorscale": [
             [
              0,
              "#0d0887"
             ],
             [
              0.1111111111111111,
              "#46039f"
             ],
             [
              0.2222222222222222,
              "#7201a8"
             ],
             [
              0.3333333333333333,
              "#9c179e"
             ],
             [
              0.4444444444444444,
              "#bd3786"
             ],
             [
              0.5555555555555556,
              "#d8576b"
             ],
             [
              0.6666666666666666,
              "#ed7953"
             ],
             [
              0.7777777777777778,
              "#fb9f3a"
             ],
             [
              0.8888888888888888,
              "#fdca26"
             ],
             [
              1,
              "#f0f921"
             ]
            ],
            "type": "histogram2dcontour"
           }
          ],
          "mesh3d": [
           {
            "colorbar": {
             "outlinewidth": 0,
             "ticks": ""
            },
            "type": "mesh3d"
           }
          ],
          "parcoords": [
           {
            "line": {
             "colorbar": {
              "outlinewidth": 0,
              "ticks": ""
             }
            },
            "type": "parcoords"
           }
          ],
          "pie": [
           {
            "automargin": true,
            "type": "pie"
           }
          ],
          "scatter": [
           {
            "fillpattern": {
             "fillmode": "overlay",
             "size": 10,
             "solidity": 0.2
            },
            "type": "scatter"
           }
          ],
          "scatter3d": [
           {
            "line": {
             "colorbar": {
              "outlinewidth": 0,
              "ticks": ""
             }
            },
            "marker": {
             "colorbar": {
              "outlinewidth": 0,
              "ticks": ""
             }
            },
            "type": "scatter3d"
           }
          ],
          "scattercarpet": [
           {
            "marker": {
             "colorbar": {
              "outlinewidth": 0,
              "ticks": ""
             }
            },
            "type": "scattercarpet"
           }
          ],
          "scattergeo": [
           {
            "marker": {
             "colorbar": {
              "outlinewidth": 0,
              "ticks": ""
             }
            },
            "type": "scattergeo"
           }
          ],
          "scattergl": [
           {
            "marker": {
             "colorbar": {
              "outlinewidth": 0,
              "ticks": ""
             }
            },
            "type": "scattergl"
           }
          ],
          "scattermapbox": [
           {
            "marker": {
             "colorbar": {
              "outlinewidth": 0,
              "ticks": ""
             }
            },
            "type": "scattermapbox"
           }
          ],
          "scatterpolar": [
           {
            "marker": {
             "colorbar": {
              "outlinewidth": 0,
              "ticks": ""
             }
            },
            "type": "scatterpolar"
           }
          ],
          "scatterpolargl": [
           {
            "marker": {
             "colorbar": {
              "outlinewidth": 0,
              "ticks": ""
             }
            },
            "type": "scatterpolargl"
           }
          ],
          "scatterternary": [
           {
            "marker": {
             "colorbar": {
              "outlinewidth": 0,
              "ticks": ""
             }
            },
            "type": "scatterternary"
           }
          ],
          "surface": [
           {
            "colorbar": {
             "outlinewidth": 0,
             "ticks": ""
            },
            "colorscale": [
             [
              0,
              "#0d0887"
             ],
             [
              0.1111111111111111,
              "#46039f"
             ],
             [
              0.2222222222222222,
              "#7201a8"
             ],
             [
              0.3333333333333333,
              "#9c179e"
             ],
             [
              0.4444444444444444,
              "#bd3786"
             ],
             [
              0.5555555555555556,
              "#d8576b"
             ],
             [
              0.6666666666666666,
              "#ed7953"
             ],
             [
              0.7777777777777778,
              "#fb9f3a"
             ],
             [
              0.8888888888888888,
              "#fdca26"
             ],
             [
              1,
              "#f0f921"
             ]
            ],
            "type": "surface"
           }
          ],
          "table": [
           {
            "cells": {
             "fill": {
              "color": "#EBF0F8"
             },
             "line": {
              "color": "white"
             }
            },
            "header": {
             "fill": {
              "color": "#C8D4E3"
             },
             "line": {
              "color": "white"
             }
            },
            "type": "table"
           }
          ]
         },
         "layout": {
          "annotationdefaults": {
           "arrowcolor": "#2a3f5f",
           "arrowhead": 0,
           "arrowwidth": 1
          },
          "autotypenumbers": "strict",
          "coloraxis": {
           "colorbar": {
            "outlinewidth": 0,
            "ticks": ""
           }
          },
          "colorscale": {
           "diverging": [
            [
             0,
             "#8e0152"
            ],
            [
             0.1,
             "#c51b7d"
            ],
            [
             0.2,
             "#de77ae"
            ],
            [
             0.3,
             "#f1b6da"
            ],
            [
             0.4,
             "#fde0ef"
            ],
            [
             0.5,
             "#f7f7f7"
            ],
            [
             0.6,
             "#e6f5d0"
            ],
            [
             0.7,
             "#b8e186"
            ],
            [
             0.8,
             "#7fbc41"
            ],
            [
             0.9,
             "#4d9221"
            ],
            [
             1,
             "#276419"
            ]
           ],
           "sequential": [
            [
             0,
             "#0d0887"
            ],
            [
             0.1111111111111111,
             "#46039f"
            ],
            [
             0.2222222222222222,
             "#7201a8"
            ],
            [
             0.3333333333333333,
             "#9c179e"
            ],
            [
             0.4444444444444444,
             "#bd3786"
            ],
            [
             0.5555555555555556,
             "#d8576b"
            ],
            [
             0.6666666666666666,
             "#ed7953"
            ],
            [
             0.7777777777777778,
             "#fb9f3a"
            ],
            [
             0.8888888888888888,
             "#fdca26"
            ],
            [
             1,
             "#f0f921"
            ]
           ],
           "sequentialminus": [
            [
             0,
             "#0d0887"
            ],
            [
             0.1111111111111111,
             "#46039f"
            ],
            [
             0.2222222222222222,
             "#7201a8"
            ],
            [
             0.3333333333333333,
             "#9c179e"
            ],
            [
             0.4444444444444444,
             "#bd3786"
            ],
            [
             0.5555555555555556,
             "#d8576b"
            ],
            [
             0.6666666666666666,
             "#ed7953"
            ],
            [
             0.7777777777777778,
             "#fb9f3a"
            ],
            [
             0.8888888888888888,
             "#fdca26"
            ],
            [
             1,
             "#f0f921"
            ]
           ]
          },
          "colorway": [
           "#636efa",
           "#EF553B",
           "#00cc96",
           "#ab63fa",
           "#FFA15A",
           "#19d3f3",
           "#FF6692",
           "#B6E880",
           "#FF97FF",
           "#FECB52"
          ],
          "font": {
           "color": "#2a3f5f"
          },
          "geo": {
           "bgcolor": "white",
           "lakecolor": "white",
           "landcolor": "#E5ECF6",
           "showlakes": true,
           "showland": true,
           "subunitcolor": "white"
          },
          "hoverlabel": {
           "align": "left"
          },
          "hovermode": "closest",
          "mapbox": {
           "style": "light"
          },
          "paper_bgcolor": "white",
          "plot_bgcolor": "#E5ECF6",
          "polar": {
           "angularaxis": {
            "gridcolor": "white",
            "linecolor": "white",
            "ticks": ""
           },
           "bgcolor": "#E5ECF6",
           "radialaxis": {
            "gridcolor": "white",
            "linecolor": "white",
            "ticks": ""
           }
          },
          "scene": {
           "xaxis": {
            "backgroundcolor": "#E5ECF6",
            "gridcolor": "white",
            "gridwidth": 2,
            "linecolor": "white",
            "showbackground": true,
            "ticks": "",
            "zerolinecolor": "white"
           },
           "yaxis": {
            "backgroundcolor": "#E5ECF6",
            "gridcolor": "white",
            "gridwidth": 2,
            "linecolor": "white",
            "showbackground": true,
            "ticks": "",
            "zerolinecolor": "white"
           },
           "zaxis": {
            "backgroundcolor": "#E5ECF6",
            "gridcolor": "white",
            "gridwidth": 2,
            "linecolor": "white",
            "showbackground": true,
            "ticks": "",
            "zerolinecolor": "white"
           }
          },
          "shapedefaults": {
           "line": {
            "color": "#2a3f5f"
           }
          },
          "ternary": {
           "aaxis": {
            "gridcolor": "white",
            "linecolor": "white",
            "ticks": ""
           },
           "baxis": {
            "gridcolor": "white",
            "linecolor": "white",
            "ticks": ""
           },
           "bgcolor": "#E5ECF6",
           "caxis": {
            "gridcolor": "white",
            "linecolor": "white",
            "ticks": ""
           }
          },
          "title": {
           "x": 0.05
          },
          "xaxis": {
           "automargin": true,
           "gridcolor": "white",
           "linecolor": "white",
           "ticks": "",
           "title": {
            "standoff": 15
           },
           "zerolinecolor": "white",
           "zerolinewidth": 2
          },
          "yaxis": {
           "automargin": true,
           "gridcolor": "white",
           "linecolor": "white",
           "ticks": "",
           "title": {
            "standoff": 15
           },
           "zerolinecolor": "white",
           "zerolinewidth": 2
          }
         }
        },
        "title": {
         "text": "Vehicle Class focus per Year"
        },
        "xaxis": {
         "anchor": "y",
         "domain": [
          0,
          1
         ],
         "minor": {
          "showgrid": true,
          "tickcolor": "black"
         },
         "tickangle": 45,
         "title": {
          "text": "Year"
         }
        },
        "yaxis": {
         "anchor": "x",
         "domain": [
          0,
          1
         ],
         "minor": {
          "showgrid": true,
          "tickcolor": "black",
          "ticklen": 5
         },
         "title": {
          "text": "Number of Vehicles grouped by Class"
         }
        }
       }
      },
      "text/html": [
       "<div>                            <div id=\"db448307-3e71-42e8-a281-177e70b55ac9\" class=\"plotly-graph-div\" style=\"height:525px; width:100%;\"></div>            <script type=\"text/javascript\">                require([\"plotly\"], function(Plotly) {                    window.PLOTLYENV=window.PLOTLYENV || {};                                    if (document.getElementById(\"db448307-3e71-42e8-a281-177e70b55ac9\")) {                    Plotly.newPlot(                        \"db448307-3e71-42e8-a281-177e70b55ac9\",                        [{\"alignmentgroup\":\"True\",\"hovertemplate\":\"<b>Class: %{text}</b><br>Year: %{x}</br>Count: %{y}<br>\",\"legendgroup\":\"COMPACT\",\"marker\":{\"color\":\"#FD3216\",\"pattern\":{\"shape\":\"\"}},\"name\":\"COMPACT\",\"offsetgroup\":\"COMPACT\",\"orientation\":\"v\",\"showlegend\":true,\"text\":[\"COMPACT\",\"COMPACT\",\"COMPACT\",\"COMPACT\",\"COMPACT\",\"COMPACT\",\"COMPACT\",\"COMPACT\",\"COMPACT\",\"COMPACT\",\"COMPACT\",\"COMPACT\",\"COMPACT\",\"COMPACT\",\"COMPACT\",\"COMPACT\",\"COMPACT\",\"COMPACT\",\"COMPACT\",\"COMPACT\",\"COMPACT\",\"COMPACT\",\"COMPACT\"],\"textposition\":\"auto\",\"x\":[2000,2001,2002,2003,2004,2005,2006,2007,2008,2009,2010,2011,2012,2013,2014,2015,2016,2017,2018,2019,2020,2021,2022],\"xaxis\":\"x\",\"y\":[105.0,145.0,133.0,143.0,154.0,146.0,137.0,116.0,148.0,150.0,140.0,124.0,133.0,168.0,168.0,186.0,181.0,159.0,122.0,106.0,108.0,85.0,70.0],\"yaxis\":\"y\",\"type\":\"bar\"},{\"alignmentgroup\":\"True\",\"hovertemplate\":\"<b>Class: %{text}</b><br>Year: %{x}</br>Count: %{y}<br>\",\"legendgroup\":\"FULL-SIZE\",\"marker\":{\"color\":\"#00FE35\",\"pattern\":{\"shape\":\"\"}},\"name\":\"FULL-SIZE\",\"offsetgroup\":\"FULL-SIZE\",\"orientation\":\"v\",\"showlegend\":true,\"text\":[\"FULL-SIZE\",\"FULL-SIZE\",\"FULL-SIZE\",\"FULL-SIZE\",\"FULL-SIZE\",\"FULL-SIZE\",\"FULL-SIZE\",\"FULL-SIZE\",\"FULL-SIZE\",\"FULL-SIZE\",\"FULL-SIZE\",\"FULL-SIZE\",\"FULL-SIZE\",\"FULL-SIZE\",\"FULL-SIZE\",\"FULL-SIZE\",\"FULL-SIZE\",\"FULL-SIZE\",\"FULL-SIZE\",\"FULL-SIZE\",\"FULL-SIZE\",\"FULL-SIZE\",\"FULL-SIZE\"],\"textposition\":\"auto\",\"x\":[2000,2001,2002,2003,2004,2005,2006,2007,2008,2009,2010,2011,2012,2013,2014,2015,2016,2017,2018,2019,2020,2021,2022],\"xaxis\":\"x\",\"y\":[28.0,30.0,29.0,25.0,34.0,45.0,56.0,54.0,63.0,68.0,77.0,71.0,81.0,76.0,84.0,93.0,90.0,82.0,109.0,101.0,78.0,65.0,64.0],\"yaxis\":\"y\",\"type\":\"bar\"},{\"alignmentgroup\":\"True\",\"hovertemplate\":\"<b>Class: %{text}</b><br>Year: %{x}</br>Count: %{y}<br>\",\"legendgroup\":\"MID-SIZE\",\"marker\":{\"color\":\"#6A76FC\",\"pattern\":{\"shape\":\"\"}},\"name\":\"MID-SIZE\",\"offsetgroup\":\"MID-SIZE\",\"orientation\":\"v\",\"showlegend\":true,\"text\":[\"MID-SIZE\",\"MID-SIZE\",\"MID-SIZE\",\"MID-SIZE\",\"MID-SIZE\",\"MID-SIZE\",\"MID-SIZE\",\"MID-SIZE\",\"MID-SIZE\",\"MID-SIZE\",\"MID-SIZE\",\"MID-SIZE\",\"MID-SIZE\",\"MID-SIZE\",\"MID-SIZE\",\"MID-SIZE\",\"MID-SIZE\",\"MID-SIZE\",\"MID-SIZE\",\"MID-SIZE\",\"MID-SIZE\",\"MID-SIZE\",\"MID-SIZE\"],\"textposition\":\"auto\",\"x\":[2000,2001,2002,2003,2004,2005,2006,2007,2008,2009,2010,2011,2012,2013,2014,2015,2016,2017,2018,2019,2020,2021,2022],\"xaxis\":\"x\",\"y\":[77.0,82.0,90.0,89.0,103.0,114.0,111.0,139.0,134.0,125.0,120.0,132.0,131.0,153.0,170.0,180.0,188.0,162.0,158.0,145.0,126.0,114.0,117.0],\"yaxis\":\"y\",\"type\":\"bar\"},{\"alignmentgroup\":\"True\",\"hovertemplate\":\"<b>Class: %{text}</b><br>Year: %{x}</br>Count: %{y}<br>\",\"legendgroup\":\"MINICOMPACT\",\"marker\":{\"color\":\"#FED4C4\",\"pattern\":{\"shape\":\"\"}},\"name\":\"MINICOMPACT\",\"offsetgroup\":\"MINICOMPACT\",\"orientation\":\"v\",\"showlegend\":true,\"text\":[\"MINICOMPACT\",\"MINICOMPACT\",\"MINICOMPACT\",\"MINICOMPACT\",\"MINICOMPACT\",\"MINICOMPACT\",\"MINICOMPACT\",\"MINICOMPACT\",\"MINICOMPACT\",\"MINICOMPACT\",\"MINICOMPACT\",\"MINICOMPACT\",\"MINICOMPACT\",\"MINICOMPACT\",\"MINICOMPACT\",\"MINICOMPACT\",\"MINICOMPACT\",\"MINICOMPACT\",\"MINICOMPACT\",\"MINICOMPACT\",\"MINICOMPACT\",\"MINICOMPACT\",\"MINICOMPACT\"],\"textposition\":\"auto\",\"x\":[2000,2001,2002,2003,2004,2005,2006,2007,2008,2009,2010,2011,2012,2013,2014,2015,2016,2017,2018,2019,2020,2021,2022],\"xaxis\":\"x\",\"y\":[11.0,17.0,22.0,33.0,25.0,74.0,37.0,47.0,49.0,43.0,41.0,53.0,76.0,53.0,47.0,59.0,52.0,44.0,53.0,56.0,23.0,30.0,49.0],\"yaxis\":\"y\",\"type\":\"bar\"},{\"alignmentgroup\":\"True\",\"hovertemplate\":\"<b>Class: %{text}</b><br>Year: %{x}</br>Count: %{y}<br>\",\"legendgroup\":\"MINIVAN\",\"marker\":{\"color\":\"#FE00CE\",\"pattern\":{\"shape\":\"\"}},\"name\":\"MINIVAN\",\"offsetgroup\":\"MINIVAN\",\"orientation\":\"v\",\"showlegend\":true,\"text\":[\"MINIVAN\",\"MINIVAN\",\"MINIVAN\",\"MINIVAN\",\"MINIVAN\",\"MINIVAN\",\"MINIVAN\",\"MINIVAN\",\"MINIVAN\",\"MINIVAN\",\"MINIVAN\",\"MINIVAN\",\"MINIVAN\",\"MINIVAN\",\"MINIVAN\",\"MINIVAN\",\"MINIVAN\",\"MINIVAN\",\"MINIVAN\",\"MINIVAN\",\"MINIVAN\",\"MINIVAN\",\"MINIVAN\"],\"textposition\":\"auto\",\"x\":[2000,2001,2002,2003,2004,2005,2006,2007,2008,2009,2010,2011,2012,2013,2014,2015,2016,2017,2018,2019,2020,2021,2022],\"xaxis\":\"x\",\"y\":[26.0,17.0,22.0,28.0,21.0,33.0,35.0,34.0,22.0,16.0,14.0,14.0,16.0,15.0,14.0,15.0,12.0,12.0,11.0,9.0,8.0,7.0,7.0],\"yaxis\":\"y\",\"type\":\"bar\"},{\"alignmentgroup\":\"True\",\"hovertemplate\":\"<b>Class: %{text}</b><br>Year: %{x}</br>Count: %{y}<br>\",\"legendgroup\":\"PICKUP TRUCK - SMALL\",\"marker\":{\"color\":\"#0DF9FF\",\"pattern\":{\"shape\":\"\"}},\"name\":\"PICKUP TRUCK - SMALL\",\"offsetgroup\":\"PICKUP TRUCK - SMALL\",\"orientation\":\"v\",\"showlegend\":true,\"text\":[\"PICKUP TRUCK - SMALL\",\"PICKUP TRUCK - SMALL\",\"PICKUP TRUCK - SMALL\",\"PICKUP TRUCK - SMALL\",\"PICKUP TRUCK - SMALL\",\"PICKUP TRUCK - SMALL\",\"PICKUP TRUCK - SMALL\",\"PICKUP TRUCK - SMALL\",\"PICKUP TRUCK - SMALL\",\"PICKUP TRUCK - SMALL\",\"PICKUP TRUCK - SMALL\",\"PICKUP TRUCK - SMALL\",\"PICKUP TRUCK - SMALL\",\"PICKUP TRUCK - SMALL\",\"PICKUP TRUCK - SMALL\",\"PICKUP TRUCK - SMALL\",\"PICKUP TRUCK - SMALL\",\"PICKUP TRUCK - SMALL\",\"PICKUP TRUCK - SMALL\",\"PICKUP TRUCK - SMALL\"],\"textposition\":\"auto\",\"x\":[2000,2001,2002,2003,2004,2008,2009,2010,2011,2012,2013,2014,2015,2016,2017,2018,2019,2020,2021,2022],\"xaxis\":\"x\",\"y\":[11.0,12.0,12.0,8.0,1.0,52.0,59.0,54.0,51.0,43.0,12.0,12.0,22.0,26.0,28.0,27.0,25.0,19.0,17.0,20.0],\"yaxis\":\"y\",\"type\":\"bar\"},{\"alignmentgroup\":\"True\",\"hovertemplate\":\"<b>Class: %{text}</b><br>Year: %{x}</br>Count: %{y}<br>\",\"legendgroup\":\"PICKUP TRUCK - STANDARD\",\"marker\":{\"color\":\"#F6F926\",\"pattern\":{\"shape\":\"\"}},\"name\":\"PICKUP TRUCK - STANDARD\",\"offsetgroup\":\"PICKUP TRUCK - STANDARD\",\"orientation\":\"v\",\"showlegend\":true,\"text\":[\"PICKUP TRUCK - STANDARD\",\"PICKUP TRUCK - STANDARD\",\"PICKUP TRUCK - STANDARD\",\"PICKUP TRUCK - STANDARD\",\"PICKUP TRUCK - STANDARD\",\"PICKUP TRUCK - STANDARD\",\"PICKUP TRUCK - STANDARD\",\"PICKUP TRUCK - STANDARD\",\"PICKUP TRUCK - STANDARD\",\"PICKUP TRUCK - STANDARD\",\"PICKUP TRUCK - STANDARD\",\"PICKUP TRUCK - STANDARD\",\"PICKUP TRUCK - STANDARD\",\"PICKUP TRUCK - STANDARD\",\"PICKUP TRUCK - STANDARD\",\"PICKUP TRUCK - STANDARD\",\"PICKUP TRUCK - STANDARD\",\"PICKUP TRUCK - STANDARD\",\"PICKUP TRUCK - STANDARD\",\"PICKUP TRUCK - STANDARD\",\"PICKUP TRUCK - STANDARD\",\"PICKUP TRUCK - STANDARD\",\"PICKUP TRUCK - STANDARD\"],\"textposition\":\"auto\",\"x\":[2000,2001,2002,2003,2004,2005,2006,2007,2008,2009,2010,2011,2012,2013,2014,2015,2016,2017,2018,2019,2020,2021,2022],\"xaxis\":\"x\",\"y\":[92.0,101.0,107.0,106.0,122.0,127.0,141.0,154.0,72.0,95.0,73.0,85.0,79.0,84.0,62.0,52.0,62.0,75.0,97.0,99.0,91.0,115.0,113.0],\"yaxis\":\"y\",\"type\":\"bar\"},{\"alignmentgroup\":\"True\",\"hovertemplate\":\"<b>Class: %{text}</b><br>Year: %{x}</br>Count: %{y}<br>\",\"legendgroup\":\"STATION WAGON - MID-SIZE\",\"marker\":{\"color\":\"#FF9616\",\"pattern\":{\"shape\":\"\"}},\"name\":\"STATION WAGON - MID-SIZE\",\"offsetgroup\":\"STATION WAGON - MID-SIZE\",\"orientation\":\"v\",\"showlegend\":true,\"text\":[\"STATION WAGON - MID-SIZE\",\"STATION WAGON - MID-SIZE\",\"STATION WAGON - MID-SIZE\",\"STATION WAGON - MID-SIZE\",\"STATION WAGON - MID-SIZE\",\"STATION WAGON - MID-SIZE\",\"STATION WAGON - MID-SIZE\",\"STATION WAGON - MID-SIZE\",\"STATION WAGON - MID-SIZE\",\"STATION WAGON - MID-SIZE\",\"STATION WAGON - MID-SIZE\",\"STATION WAGON - MID-SIZE\",\"STATION WAGON - MID-SIZE\",\"STATION WAGON - MID-SIZE\",\"STATION WAGON - MID-SIZE\",\"STATION WAGON - MID-SIZE\",\"STATION WAGON - MID-SIZE\",\"STATION WAGON - MID-SIZE\",\"STATION WAGON - MID-SIZE\",\"STATION WAGON - MID-SIZE\",\"STATION WAGON - MID-SIZE\",\"STATION WAGON - MID-SIZE\",\"STATION WAGON - MID-SIZE\"],\"textposition\":\"auto\",\"x\":[2000,2001,2002,2003,2004,2005,2006,2007,2008,2009,2010,2011,2012,2013,2014,2015,2016,2017,2018,2019,2020,2021,2022],\"xaxis\":\"x\",\"y\":[25.0,31.0,32.0,35.0,41.0,38.0,28.0,32.0,18.0,13.0,9.0,4.0,5.0,3.0,6.0,8.0,7.0,8.0,10.0,9.0,8.0,9.0,8.0],\"yaxis\":\"y\",\"type\":\"bar\"},{\"alignmentgroup\":\"True\",\"hovertemplate\":\"<b>Class: %{text}</b><br>Year: %{x}</br>Count: %{y}<br>\",\"legendgroup\":\"STATION WAGON - SMALL\",\"marker\":{\"color\":\"#479B55\",\"pattern\":{\"shape\":\"\"}},\"name\":\"STATION WAGON - SMALL\",\"offsetgroup\":\"STATION WAGON - SMALL\",\"orientation\":\"v\",\"showlegend\":true,\"text\":[\"STATION WAGON - SMALL\",\"STATION WAGON - SMALL\",\"STATION WAGON - SMALL\",\"STATION WAGON - SMALL\",\"STATION WAGON - SMALL\",\"STATION WAGON - SMALL\",\"STATION WAGON - SMALL\",\"STATION WAGON - SMALL\",\"STATION WAGON - SMALL\",\"STATION WAGON - SMALL\",\"STATION WAGON - SMALL\",\"STATION WAGON - SMALL\",\"STATION WAGON - SMALL\",\"STATION WAGON - SMALL\",\"STATION WAGON - SMALL\",\"STATION WAGON - SMALL\",\"STATION WAGON - SMALL\",\"STATION WAGON - SMALL\",\"STATION WAGON - SMALL\",\"STATION WAGON - SMALL\",\"STATION WAGON - SMALL\",\"STATION WAGON - SMALL\",\"STATION WAGON - SMALL\"],\"textposition\":\"auto\",\"x\":[2000,2001,2002,2003,2004,2005,2006,2007,2008,2009,2010,2011,2012,2013,2014,2015,2016,2017,2018,2019,2020,2021,2022],\"xaxis\":\"x\",\"y\":[13.0,12.0,18.0,45.0,43.0,54.0,53.0,44.0,43.0,54.0,60.0,56.0,47.0,44.0,34.0,35.0,37.0,45.0,39.0,37.0,25.0,20.0,19.0],\"yaxis\":\"y\",\"type\":\"bar\"},{\"alignmentgroup\":\"True\",\"hovertemplate\":\"<b>Class: %{text}</b><br>Year: %{x}</br>Count: %{y}<br>\",\"legendgroup\":\"SUBCOMPACT\",\"marker\":{\"color\":\"#EEA6FB\",\"pattern\":{\"shape\":\"\"}},\"name\":\"SUBCOMPACT\",\"offsetgroup\":\"SUBCOMPACT\",\"orientation\":\"v\",\"showlegend\":true,\"text\":[\"SUBCOMPACT\",\"SUBCOMPACT\",\"SUBCOMPACT\",\"SUBCOMPACT\",\"SUBCOMPACT\",\"SUBCOMPACT\",\"SUBCOMPACT\",\"SUBCOMPACT\",\"SUBCOMPACT\",\"SUBCOMPACT\",\"SUBCOMPACT\",\"SUBCOMPACT\",\"SUBCOMPACT\",\"SUBCOMPACT\",\"SUBCOMPACT\",\"SUBCOMPACT\",\"SUBCOMPACT\",\"SUBCOMPACT\",\"SUBCOMPACT\",\"SUBCOMPACT\",\"SUBCOMPACT\",\"SUBCOMPACT\",\"SUBCOMPACT\"],\"textposition\":\"auto\",\"x\":[2000,2001,2002,2003,2004,2005,2006,2007,2008,2009,2010,2011,2012,2013,2014,2015,2016,2017,2018,2019,2020,2021,2022],\"xaxis\":\"x\",\"y\":[104.0,62.0,73.0,65.0,86.0,87.0,78.0,83.0,100.0,99.0,98.0,104.0,102.0,95.0,62.0,92.0,76.0,93.0,96.0,98.0,95.0,83.0,79.0],\"yaxis\":\"y\",\"type\":\"bar\"},{\"alignmentgroup\":\"True\",\"hovertemplate\":\"<b>Class: %{text}</b><br>Year: %{x}</br>Count: %{y}<br>\",\"legendgroup\":\"SUV\",\"marker\":{\"color\":\"#DC587D\",\"pattern\":{\"shape\":\"\"}},\"name\":\"SUV\",\"offsetgroup\":\"SUV\",\"orientation\":\"v\",\"showlegend\":true,\"text\":[\"SUV\",\"SUV\",\"SUV\",\"SUV\",\"SUV\",\"SUV\",\"SUV\",\"SUV\",\"SUV\",\"SUV\",\"SUV\",\"SUV\",\"SUV\"],\"textposition\":\"auto\",\"x\":[2000,2001,2002,2003,2004,2005,2006,2007,2008,2009,2010,2011,2012],\"xaxis\":\"x\",\"y\":[97.0,98.0,124.0,160.0,190.0,224.0,221.0,239.0,267.0,268.0,249.0,268.0,235.0],\"yaxis\":\"y\",\"type\":\"bar\"},{\"alignmentgroup\":\"True\",\"hovertemplate\":\"<b>Class: %{text}</b><br>Year: %{x}</br>Count: %{y}<br>\",\"legendgroup\":\"TWO-SEATER\",\"marker\":{\"color\":\"#D626FF\",\"pattern\":{\"shape\":\"\"}},\"name\":\"TWO-SEATER\",\"offsetgroup\":\"TWO-SEATER\",\"orientation\":\"v\",\"showlegend\":true,\"text\":[\"TWO-SEATER\",\"TWO-SEATER\",\"TWO-SEATER\",\"TWO-SEATER\",\"TWO-SEATER\",\"TWO-SEATER\",\"TWO-SEATER\",\"TWO-SEATER\",\"TWO-SEATER\",\"TWO-SEATER\",\"TWO-SEATER\",\"TWO-SEATER\",\"TWO-SEATER\",\"TWO-SEATER\",\"TWO-SEATER\",\"TWO-SEATER\",\"TWO-SEATER\",\"TWO-SEATER\",\"TWO-SEATER\",\"TWO-SEATER\",\"TWO-SEATER\",\"TWO-SEATER\",\"TWO-SEATER\"],\"textposition\":\"auto\",\"x\":[2000,2001,2002,2003,2004,2005,2006,2007,2008,2009,2010,2011,2012,2013,2014,2015,2016,2017,2018,2019,2020,2021,2022],\"xaxis\":\"x\",\"y\":[10.0,31.0,37.0,40.0,46.0,52.0,49.0,61.0,73.0,64.0,59.0,64.0,76.0,58.0,70.0,84.0,68.0,57.0,69.0,70.0,64.0,59.0,51.0],\"yaxis\":\"y\",\"type\":\"bar\"},{\"alignmentgroup\":\"True\",\"hovertemplate\":\"<b>Class: %{text}</b><br>Year: %{x}</br>Count: %{y}<br>\",\"legendgroup\":\"VAN - CARGO\",\"marker\":{\"color\":\"#6E899C\",\"pattern\":{\"shape\":\"\"}},\"name\":\"VAN - CARGO\",\"offsetgroup\":\"VAN - CARGO\",\"orientation\":\"v\",\"showlegend\":true,\"text\":[\"VAN - CARGO\",\"VAN - CARGO\",\"VAN - CARGO\",\"VAN - CARGO\",\"VAN - CARGO\",\"VAN - CARGO\",\"VAN - CARGO\",\"VAN - CARGO\",\"VAN - CARGO\",\"VAN - CARGO\",\"VAN - CARGO\",\"VAN - CARGO\",\"VAN - CARGO\",\"VAN - CARGO\",\"VAN - CARGO\"],\"textposition\":\"auto\",\"x\":[2000,2001,2002,2003,2004,2005,2006,2007,2008,2009,2010,2011,2012,2013,2014],\"xaxis\":\"x\",\"y\":[23.0,23.0,23.0,30.0,21.0,13.0,14.0,27.0,26.0,26.0,18.0,22.0,22.0,22.0,22.0],\"yaxis\":\"y\",\"type\":\"bar\"},{\"alignmentgroup\":\"True\",\"hovertemplate\":\"<b>Class: %{text}</b><br>Year: %{x}</br>Count: %{y}<br>\",\"legendgroup\":\"VAN - PASSENGER\",\"marker\":{\"color\":\"#00B5F7\",\"pattern\":{\"shape\":\"\"}},\"name\":\"VAN - PASSENGER\",\"offsetgroup\":\"VAN - PASSENGER\",\"orientation\":\"v\",\"showlegend\":true,\"text\":[\"VAN - PASSENGER\",\"VAN - PASSENGER\",\"VAN - PASSENGER\",\"VAN - PASSENGER\",\"VAN - PASSENGER\",\"VAN - PASSENGER\",\"VAN - PASSENGER\",\"VAN - PASSENGER\",\"VAN - PASSENGER\",\"VAN - PASSENGER\",\"VAN - PASSENGER\",\"VAN - PASSENGER\",\"VAN - PASSENGER\",\"VAN - PASSENGER\",\"VAN - PASSENGER\",\"VAN - PASSENGER\",\"VAN - PASSENGER\",\"VAN - PASSENGER\",\"VAN - PASSENGER\",\"VAN - PASSENGER\",\"VAN - PASSENGER\",\"VAN - PASSENGER\"],\"textposition\":\"auto\",\"x\":[2000,2001,2002,2003,2004,2005,2006,2007,2008,2009,2010,2011,2012,2013,2014,2015,2016,2017,2018,2019,2020,2021],\"xaxis\":\"x\",\"y\":[17.0,18.0,18.0,13.0,11.0,12.0,8.0,12.0,12.0,12.0,8.0,27.0,31.0,30.0,25.0,19.0,7.0,7.0,2.0,2.0,4.0,4.0],\"yaxis\":\"y\",\"type\":\"bar\"},{\"alignmentgroup\":\"True\",\"hovertemplate\":\"<b>Class: %{text}</b><br>Year: %{x}</br>Count: %{y}<br>\",\"legendgroup\":\"SUV - STANDARD\",\"marker\":{\"color\":\"#B68E00\",\"pattern\":{\"shape\":\"\"}},\"name\":\"SUV - STANDARD\",\"offsetgroup\":\"SUV - STANDARD\",\"orientation\":\"v\",\"showlegend\":true,\"text\":[\"SUV - STANDARD\",\"SUV - STANDARD\",\"SUV - STANDARD\",\"SUV - STANDARD\",\"SUV - STANDARD\",\"SUV - STANDARD\",\"SUV - STANDARD\",\"SUV - STANDARD\",\"SUV - STANDARD\",\"SUV - STANDARD\",\"SUV - STANDARD\",\"SUV - STANDARD\"],\"textposition\":\"auto\",\"x\":[2007,2012,2013,2014,2015,2016,2017,2018,2019,2020,2021,2022],\"xaxis\":\"x\",\"y\":[1.0,2.0,101.0,102.0,99.0,107.0,102.0,103.0,111.0,118.0,127.0,149.0],\"yaxis\":\"y\",\"type\":\"bar\"},{\"alignmentgroup\":\"True\",\"hovertemplate\":\"<b>Class: %{text}</b><br>Year: %{x}</br>Count: %{y}<br>\",\"legendgroup\":\"SPECIAL PURPOSE VEHICLE\",\"marker\":{\"color\":\"#C9FBE5\",\"pattern\":{\"shape\":\"\"}},\"name\":\"SPECIAL PURPOSE VEHICLE\",\"offsetgroup\":\"SPECIAL PURPOSE VEHICLE\",\"orientation\":\"v\",\"showlegend\":true,\"text\":[\"SPECIAL PURPOSE VEHICLE\",\"SPECIAL PURPOSE VEHICLE\",\"SPECIAL PURPOSE VEHICLE\",\"SPECIAL PURPOSE VEHICLE\",\"SPECIAL PURPOSE VEHICLE\",\"SPECIAL PURPOSE VEHICLE\",\"SPECIAL PURPOSE VEHICLE\",\"SPECIAL PURPOSE VEHICLE\",\"SPECIAL PURPOSE VEHICLE\",\"SPECIAL PURPOSE VEHICLE\",\"SPECIAL PURPOSE VEHICLE\",\"SPECIAL PURPOSE VEHICLE\",\"SPECIAL PURPOSE VEHICLE\"],\"textposition\":\"auto\",\"x\":[2010,2011,2012,2013,2014,2015,2016,2017,2018,2019,2020,2021,2022],\"xaxis\":\"x\",\"y\":[1.0,1.0,2.0,5.0,7.0,9.0,17.0,10.0,10.0,14.0,13.0,13.0,12.0],\"yaxis\":\"y\",\"type\":\"bar\"},{\"alignmentgroup\":\"True\",\"hovertemplate\":\"<b>Class: %{text}</b><br>Year: %{x}</br>Count: %{y}<br>\",\"legendgroup\":\"SUV - SMALL\",\"marker\":{\"color\":\"#FF0092\",\"pattern\":{\"shape\":\"\"}},\"name\":\"SUV - SMALL\",\"offsetgroup\":\"SUV - SMALL\",\"orientation\":\"v\",\"showlegend\":true,\"text\":[\"SUV - SMALL\",\"SUV - SMALL\",\"SUV - SMALL\",\"SUV - SMALL\",\"SUV - SMALL\",\"SUV - SMALL\",\"SUV - SMALL\",\"SUV - SMALL\",\"SUV - SMALL\",\"SUV - SMALL\"],\"textposition\":\"auto\",\"x\":[2013,2014,2015,2016,2017,2018,2019,2020,2021,2022],\"xaxis\":\"x\",\"y\":[139.0,155.0,179.0,180.0,174.0,177.0,174.0,188.0,193.0,197.0],\"yaxis\":\"y\",\"type\":\"bar\"}],                        {\"template\":{\"data\":{\"histogram2dcontour\":[{\"type\":\"histogram2dcontour\",\"colorbar\":{\"outlinewidth\":0,\"ticks\":\"\"},\"colorscale\":[[0.0,\"#0d0887\"],[0.1111111111111111,\"#46039f\"],[0.2222222222222222,\"#7201a8\"],[0.3333333333333333,\"#9c179e\"],[0.4444444444444444,\"#bd3786\"],[0.5555555555555556,\"#d8576b\"],[0.6666666666666666,\"#ed7953\"],[0.7777777777777778,\"#fb9f3a\"],[0.8888888888888888,\"#fdca26\"],[1.0,\"#f0f921\"]]}],\"choropleth\":[{\"type\":\"choropleth\",\"colorbar\":{\"outlinewidth\":0,\"ticks\":\"\"}}],\"histogram2d\":[{\"type\":\"histogram2d\",\"colorbar\":{\"outlinewidth\":0,\"ticks\":\"\"},\"colorscale\":[[0.0,\"#0d0887\"],[0.1111111111111111,\"#46039f\"],[0.2222222222222222,\"#7201a8\"],[0.3333333333333333,\"#9c179e\"],[0.4444444444444444,\"#bd3786\"],[0.5555555555555556,\"#d8576b\"],[0.6666666666666666,\"#ed7953\"],[0.7777777777777778,\"#fb9f3a\"],[0.8888888888888888,\"#fdca26\"],[1.0,\"#f0f921\"]]}],\"heatmap\":[{\"type\":\"heatmap\",\"colorbar\":{\"outlinewidth\":0,\"ticks\":\"\"},\"colorscale\":[[0.0,\"#0d0887\"],[0.1111111111111111,\"#46039f\"],[0.2222222222222222,\"#7201a8\"],[0.3333333333333333,\"#9c179e\"],[0.4444444444444444,\"#bd3786\"],[0.5555555555555556,\"#d8576b\"],[0.6666666666666666,\"#ed7953\"],[0.7777777777777778,\"#fb9f3a\"],[0.8888888888888888,\"#fdca26\"],[1.0,\"#f0f921\"]]}],\"heatmapgl\":[{\"type\":\"heatmapgl\",\"colorbar\":{\"outlinewidth\":0,\"ticks\":\"\"},\"colorscale\":[[0.0,\"#0d0887\"],[0.1111111111111111,\"#46039f\"],[0.2222222222222222,\"#7201a8\"],[0.3333333333333333,\"#9c179e\"],[0.4444444444444444,\"#bd3786\"],[0.5555555555555556,\"#d8576b\"],[0.6666666666666666,\"#ed7953\"],[0.7777777777777778,\"#fb9f3a\"],[0.8888888888888888,\"#fdca26\"],[1.0,\"#f0f921\"]]}],\"contourcarpet\":[{\"type\":\"contourcarpet\",\"colorbar\":{\"outlinewidth\":0,\"ticks\":\"\"}}],\"contour\":[{\"type\":\"contour\",\"colorbar\":{\"outlinewidth\":0,\"ticks\":\"\"},\"colorscale\":[[0.0,\"#0d0887\"],[0.1111111111111111,\"#46039f\"],[0.2222222222222222,\"#7201a8\"],[0.3333333333333333,\"#9c179e\"],[0.4444444444444444,\"#bd3786\"],[0.5555555555555556,\"#d8576b\"],[0.6666666666666666,\"#ed7953\"],[0.7777777777777778,\"#fb9f3a\"],[0.8888888888888888,\"#fdca26\"],[1.0,\"#f0f921\"]]}],\"surface\":[{\"type\":\"surface\",\"colorbar\":{\"outlinewidth\":0,\"ticks\":\"\"},\"colorscale\":[[0.0,\"#0d0887\"],[0.1111111111111111,\"#46039f\"],[0.2222222222222222,\"#7201a8\"],[0.3333333333333333,\"#9c179e\"],[0.4444444444444444,\"#bd3786\"],[0.5555555555555556,\"#d8576b\"],[0.6666666666666666,\"#ed7953\"],[0.7777777777777778,\"#fb9f3a\"],[0.8888888888888888,\"#fdca26\"],[1.0,\"#f0f921\"]]}],\"mesh3d\":[{\"type\":\"mesh3d\",\"colorbar\":{\"outlinewidth\":0,\"ticks\":\"\"}}],\"scatter\":[{\"fillpattern\":{\"fillmode\":\"overlay\",\"size\":10,\"solidity\":0.2},\"type\":\"scatter\"}],\"parcoords\":[{\"type\":\"parcoords\",\"line\":{\"colorbar\":{\"outlinewidth\":0,\"ticks\":\"\"}}}],\"scatterpolargl\":[{\"type\":\"scatterpolargl\",\"marker\":{\"colorbar\":{\"outlinewidth\":0,\"ticks\":\"\"}}}],\"bar\":[{\"error_x\":{\"color\":\"#2a3f5f\"},\"error_y\":{\"color\":\"#2a3f5f\"},\"marker\":{\"line\":{\"color\":\"#E5ECF6\",\"width\":0.5},\"pattern\":{\"fillmode\":\"overlay\",\"size\":10,\"solidity\":0.2}},\"type\":\"bar\"}],\"scattergeo\":[{\"type\":\"scattergeo\",\"marker\":{\"colorbar\":{\"outlinewidth\":0,\"ticks\":\"\"}}}],\"scatterpolar\":[{\"type\":\"scatterpolar\",\"marker\":{\"colorbar\":{\"outlinewidth\":0,\"ticks\":\"\"}}}],\"histogram\":[{\"marker\":{\"pattern\":{\"fillmode\":\"overlay\",\"size\":10,\"solidity\":0.2}},\"type\":\"histogram\"}],\"scattergl\":[{\"type\":\"scattergl\",\"marker\":{\"colorbar\":{\"outlinewidth\":0,\"ticks\":\"\"}}}],\"scatter3d\":[{\"type\":\"scatter3d\",\"line\":{\"colorbar\":{\"outlinewidth\":0,\"ticks\":\"\"}},\"marker\":{\"colorbar\":{\"outlinewidth\":0,\"ticks\":\"\"}}}],\"scattermapbox\":[{\"type\":\"scattermapbox\",\"marker\":{\"colorbar\":{\"outlinewidth\":0,\"ticks\":\"\"}}}],\"scatterternary\":[{\"type\":\"scatterternary\",\"marker\":{\"colorbar\":{\"outlinewidth\":0,\"ticks\":\"\"}}}],\"scattercarpet\":[{\"type\":\"scattercarpet\",\"marker\":{\"colorbar\":{\"outlinewidth\":0,\"ticks\":\"\"}}}],\"carpet\":[{\"aaxis\":{\"endlinecolor\":\"#2a3f5f\",\"gridcolor\":\"white\",\"linecolor\":\"white\",\"minorgridcolor\":\"white\",\"startlinecolor\":\"#2a3f5f\"},\"baxis\":{\"endlinecolor\":\"#2a3f5f\",\"gridcolor\":\"white\",\"linecolor\":\"white\",\"minorgridcolor\":\"white\",\"startlinecolor\":\"#2a3f5f\"},\"type\":\"carpet\"}],\"table\":[{\"cells\":{\"fill\":{\"color\":\"#EBF0F8\"},\"line\":{\"color\":\"white\"}},\"header\":{\"fill\":{\"color\":\"#C8D4E3\"},\"line\":{\"color\":\"white\"}},\"type\":\"table\"}],\"barpolar\":[{\"marker\":{\"line\":{\"color\":\"#E5ECF6\",\"width\":0.5},\"pattern\":{\"fillmode\":\"overlay\",\"size\":10,\"solidity\":0.2}},\"type\":\"barpolar\"}],\"pie\":[{\"automargin\":true,\"type\":\"pie\"}]},\"layout\":{\"autotypenumbers\":\"strict\",\"colorway\":[\"#636efa\",\"#EF553B\",\"#00cc96\",\"#ab63fa\",\"#FFA15A\",\"#19d3f3\",\"#FF6692\",\"#B6E880\",\"#FF97FF\",\"#FECB52\"],\"font\":{\"color\":\"#2a3f5f\"},\"hovermode\":\"closest\",\"hoverlabel\":{\"align\":\"left\"},\"paper_bgcolor\":\"white\",\"plot_bgcolor\":\"#E5ECF6\",\"polar\":{\"bgcolor\":\"#E5ECF6\",\"angularaxis\":{\"gridcolor\":\"white\",\"linecolor\":\"white\",\"ticks\":\"\"},\"radialaxis\":{\"gridcolor\":\"white\",\"linecolor\":\"white\",\"ticks\":\"\"}},\"ternary\":{\"bgcolor\":\"#E5ECF6\",\"aaxis\":{\"gridcolor\":\"white\",\"linecolor\":\"white\",\"ticks\":\"\"},\"baxis\":{\"gridcolor\":\"white\",\"linecolor\":\"white\",\"ticks\":\"\"},\"caxis\":{\"gridcolor\":\"white\",\"linecolor\":\"white\",\"ticks\":\"\"}},\"coloraxis\":{\"colorbar\":{\"outlinewidth\":0,\"ticks\":\"\"}},\"colorscale\":{\"sequential\":[[0.0,\"#0d0887\"],[0.1111111111111111,\"#46039f\"],[0.2222222222222222,\"#7201a8\"],[0.3333333333333333,\"#9c179e\"],[0.4444444444444444,\"#bd3786\"],[0.5555555555555556,\"#d8576b\"],[0.6666666666666666,\"#ed7953\"],[0.7777777777777778,\"#fb9f3a\"],[0.8888888888888888,\"#fdca26\"],[1.0,\"#f0f921\"]],\"sequentialminus\":[[0.0,\"#0d0887\"],[0.1111111111111111,\"#46039f\"],[0.2222222222222222,\"#7201a8\"],[0.3333333333333333,\"#9c179e\"],[0.4444444444444444,\"#bd3786\"],[0.5555555555555556,\"#d8576b\"],[0.6666666666666666,\"#ed7953\"],[0.7777777777777778,\"#fb9f3a\"],[0.8888888888888888,\"#fdca26\"],[1.0,\"#f0f921\"]],\"diverging\":[[0,\"#8e0152\"],[0.1,\"#c51b7d\"],[0.2,\"#de77ae\"],[0.3,\"#f1b6da\"],[0.4,\"#fde0ef\"],[0.5,\"#f7f7f7\"],[0.6,\"#e6f5d0\"],[0.7,\"#b8e186\"],[0.8,\"#7fbc41\"],[0.9,\"#4d9221\"],[1,\"#276419\"]]},\"xaxis\":{\"gridcolor\":\"white\",\"linecolor\":\"white\",\"ticks\":\"\",\"title\":{\"standoff\":15},\"zerolinecolor\":\"white\",\"automargin\":true,\"zerolinewidth\":2},\"yaxis\":{\"gridcolor\":\"white\",\"linecolor\":\"white\",\"ticks\":\"\",\"title\":{\"standoff\":15},\"zerolinecolor\":\"white\",\"automargin\":true,\"zerolinewidth\":2},\"scene\":{\"xaxis\":{\"backgroundcolor\":\"#E5ECF6\",\"gridcolor\":\"white\",\"linecolor\":\"white\",\"showbackground\":true,\"ticks\":\"\",\"zerolinecolor\":\"white\",\"gridwidth\":2},\"yaxis\":{\"backgroundcolor\":\"#E5ECF6\",\"gridcolor\":\"white\",\"linecolor\":\"white\",\"showbackground\":true,\"ticks\":\"\",\"zerolinecolor\":\"white\",\"gridwidth\":2},\"zaxis\":{\"backgroundcolor\":\"#E5ECF6\",\"gridcolor\":\"white\",\"linecolor\":\"white\",\"showbackground\":true,\"ticks\":\"\",\"zerolinecolor\":\"white\",\"gridwidth\":2}},\"shapedefaults\":{\"line\":{\"color\":\"#2a3f5f\"}},\"annotationdefaults\":{\"arrowcolor\":\"#2a3f5f\",\"arrowhead\":0,\"arrowwidth\":1},\"geo\":{\"bgcolor\":\"white\",\"landcolor\":\"#E5ECF6\",\"subunitcolor\":\"white\",\"showland\":true,\"showlakes\":true,\"lakecolor\":\"white\"},\"title\":{\"x\":0.05},\"mapbox\":{\"style\":\"light\"}}},\"xaxis\":{\"anchor\":\"y\",\"domain\":[0.0,1.0],\"title\":{\"text\":\"Year\"},\"minor\":{\"tickcolor\":\"black\",\"showgrid\":true},\"tickangle\":45},\"yaxis\":{\"anchor\":\"x\",\"domain\":[0.0,1.0],\"title\":{\"text\":\"Number of Vehicles grouped by Class\"},\"minor\":{\"ticklen\":5,\"tickcolor\":\"black\",\"showgrid\":true}},\"legend\":{\"title\":{\"text\":\"color\"},\"tracegroupgap\":0},\"title\":{\"text\":\"Vehicle Class focus per Year\"},\"barmode\":\"relative\",\"hovermode\":\"closest\"},                        {\"responsive\": true}                    ).then(function(){\n",
       "                            \n",
       "var gd = document.getElementById('db448307-3e71-42e8-a281-177e70b55ac9');\n",
       "var x = new MutationObserver(function (mutations, observer) {{\n",
       "        var display = window.getComputedStyle(gd).display;\n",
       "        if (!display || display === 'none') {{\n",
       "            console.log([gd, 'removed!']);\n",
       "            Plotly.purge(gd);\n",
       "            observer.disconnect();\n",
       "        }}\n",
       "}});\n",
       "\n",
       "// Listen for the removal of the full notebook cells\n",
       "var notebookContainer = gd.closest('#notebook-container');\n",
       "if (notebookContainer) {{\n",
       "    x.observe(notebookContainer, {childList: true});\n",
       "}}\n",
       "\n",
       "// Listen for the clearing of the current output cell\n",
       "var outputEl = gd.closest('.output');\n",
       "if (outputEl) {{\n",
       "    x.observe(outputEl, {childList: true});\n",
       "}}\n",
       "\n",
       "                        })                };                });            </script>        </div>"
      ]
     },
     "metadata": {},
     "output_type": "display_data"
    }
   ],
   "source": [
    "Year = [x[0] for x in data_to_display.index]\n",
    "Count = data_to_display['ID']['count'].values.tolist()\n",
    "VehicleClass = [x[1] for x in data_to_display.index]\n",
    "text = VehicleClass\n",
    "\n",
    "fig = px.bar(x=Year, \n",
    "             y=Count, \n",
    "             color=VehicleClass, \n",
    "             color_discrete_sequence=px.colors.qualitative.Light24,\n",
    "             title=\"Vehicle Class focus per Year\",\n",
    "             text=VehicleClass\n",
    "             ) \n",
    "\n",
    "fig.update_layout(xaxis_title='Year',\n",
    "                  yaxis_title='Number of Vehicles grouped by Class',\n",
    "                  )\n",
    "\n",
    "fig.update_xaxes(tickangle=45,minor=dict(tickcolor=\"black\", showgrid=True))\n",
    "fig.update_yaxes(minor=dict(ticklen=5, tickcolor=\"black\", showgrid=True))\n",
    "fig.update_layout(hovermode='closest')\n",
    "fig.update_traces(hovertemplate= \"<b>Class: %{text}</b><br>\" + \"Year: %{x}</br>\" + \"Count: %{y}<br>\", selector=dict(type='bar'))\n",
    "\n",
    "fig.show()"
   ]
  },
  {
   "cell_type": "code",
   "execution_count": 16,
   "id": "55e8e84a",
   "metadata": {
    "scrolled": true
   },
   "outputs": [
    {
     "data": {
      "text/html": [
       "<div>\n",
       "<style scoped>\n",
       "    .dataframe tbody tr th:only-of-type {\n",
       "        vertical-align: middle;\n",
       "    }\n",
       "\n",
       "    .dataframe tbody tr th {\n",
       "        vertical-align: top;\n",
       "    }\n",
       "\n",
       "    .dataframe thead tr th {\n",
       "        text-align: left;\n",
       "    }\n",
       "\n",
       "    .dataframe thead tr:last-of-type th {\n",
       "        text-align: right;\n",
       "    }\n",
       "</style>\n",
       "<table border=\"1\" class=\"dataframe\">\n",
       "  <thead>\n",
       "    <tr>\n",
       "      <th></th>\n",
       "      <th></th>\n",
       "      <th colspan=\"8\" halign=\"left\">ID</th>\n",
       "      <th colspan=\"2\" halign=\"left\">ENGINE SIZE</th>\n",
       "      <th>...</th>\n",
       "      <th colspan=\"2\" halign=\"left\">COMB (mpg)</th>\n",
       "      <th colspan=\"8\" halign=\"left\">EMISSIONS</th>\n",
       "    </tr>\n",
       "    <tr>\n",
       "      <th></th>\n",
       "      <th></th>\n",
       "      <th>count</th>\n",
       "      <th>mean</th>\n",
       "      <th>std</th>\n",
       "      <th>min</th>\n",
       "      <th>25%</th>\n",
       "      <th>50%</th>\n",
       "      <th>75%</th>\n",
       "      <th>max</th>\n",
       "      <th>count</th>\n",
       "      <th>mean</th>\n",
       "      <th>...</th>\n",
       "      <th>75%</th>\n",
       "      <th>max</th>\n",
       "      <th>count</th>\n",
       "      <th>mean</th>\n",
       "      <th>std</th>\n",
       "      <th>min</th>\n",
       "      <th>25%</th>\n",
       "      <th>50%</th>\n",
       "      <th>75%</th>\n",
       "      <th>max</th>\n",
       "    </tr>\n",
       "    <tr>\n",
       "      <th>MAKE</th>\n",
       "      <th>VEHICLE CLASS</th>\n",
       "      <th></th>\n",
       "      <th></th>\n",
       "      <th></th>\n",
       "      <th></th>\n",
       "      <th></th>\n",
       "      <th></th>\n",
       "      <th></th>\n",
       "      <th></th>\n",
       "      <th></th>\n",
       "      <th></th>\n",
       "      <th></th>\n",
       "      <th></th>\n",
       "      <th></th>\n",
       "      <th></th>\n",
       "      <th></th>\n",
       "      <th></th>\n",
       "      <th></th>\n",
       "      <th></th>\n",
       "      <th></th>\n",
       "      <th></th>\n",
       "      <th></th>\n",
       "    </tr>\n",
       "  </thead>\n",
       "  <tbody>\n",
       "    <tr>\n",
       "      <th rowspan=\"5\" valign=\"top\">ACURA</th>\n",
       "      <th>COMPACT</th>\n",
       "      <td>102.0</td>\n",
       "      <td>10923.705882</td>\n",
       "      <td>6435.149032</td>\n",
       "      <td>1.0</td>\n",
       "      <td>5765.25</td>\n",
       "      <td>10545.5</td>\n",
       "      <td>16501.25</td>\n",
       "      <td>21609.0</td>\n",
       "      <td>102.0</td>\n",
       "      <td>2.411765</td>\n",
       "      <td>...</td>\n",
       "      <td>35.75</td>\n",
       "      <td>58.0</td>\n",
       "      <td>102.0</td>\n",
       "      <td>198.421569</td>\n",
       "      <td>27.198368</td>\n",
       "      <td>113.0</td>\n",
       "      <td>183.00</td>\n",
       "      <td>199.5</td>\n",
       "      <td>212.00</td>\n",
       "      <td>261.0</td>\n",
       "    </tr>\n",
       "    <tr>\n",
       "      <th>MID-SIZE</th>\n",
       "      <td>55.0</td>\n",
       "      <td>8324.236364</td>\n",
       "      <td>5088.902326</td>\n",
       "      <td>3.0</td>\n",
       "      <td>4293.00</td>\n",
       "      <td>7893.0</td>\n",
       "      <td>12161.50</td>\n",
       "      <td>19700.0</td>\n",
       "      <td>55.0</td>\n",
       "      <td>3.489091</td>\n",
       "      <td>...</td>\n",
       "      <td>29.00</td>\n",
       "      <td>37.0</td>\n",
       "      <td>55.0</td>\n",
       "      <td>228.709091</td>\n",
       "      <td>20.635885</td>\n",
       "      <td>177.0</td>\n",
       "      <td>223.00</td>\n",
       "      <td>228.0</td>\n",
       "      <td>239.00</td>\n",
       "      <td>264.0</td>\n",
       "    </tr>\n",
       "    <tr>\n",
       "      <th>SUBCOMPACT</th>\n",
       "      <td>25.0</td>\n",
       "      <td>2028.520000</td>\n",
       "      <td>1609.384435</td>\n",
       "      <td>5.0</td>\n",
       "      <td>646.00</td>\n",
       "      <td>2067.0</td>\n",
       "      <td>2888.00</td>\n",
       "      <td>4802.0</td>\n",
       "      <td>25.0</td>\n",
       "      <td>2.128000</td>\n",
       "      <td>...</td>\n",
       "      <td>35.00</td>\n",
       "      <td>37.0</td>\n",
       "      <td>25.0</td>\n",
       "      <td>201.440000</td>\n",
       "      <td>31.098071</td>\n",
       "      <td>175.0</td>\n",
       "      <td>184.00</td>\n",
       "      <td>191.0</td>\n",
       "      <td>200.00</td>\n",
       "      <td>271.0</td>\n",
       "    </tr>\n",
       "    <tr>\n",
       "      <th>SUV</th>\n",
       "      <td>20.0</td>\n",
       "      <td>6882.350000</td>\n",
       "      <td>3389.977539</td>\n",
       "      <td>648.0</td>\n",
       "      <td>4543.25</td>\n",
       "      <td>7350.0</td>\n",
       "      <td>10002.25</td>\n",
       "      <td>11084.0</td>\n",
       "      <td>20.0</td>\n",
       "      <td>3.220000</td>\n",
       "      <td>...</td>\n",
       "      <td>26.00</td>\n",
       "      <td>27.0</td>\n",
       "      <td>20.0</td>\n",
       "      <td>263.150000</td>\n",
       "      <td>15.163235</td>\n",
       "      <td>237.0</td>\n",
       "      <td>252.50</td>\n",
       "      <td>267.0</td>\n",
       "      <td>276.50</td>\n",
       "      <td>278.0</td>\n",
       "    </tr>\n",
       "    <tr>\n",
       "      <th>SUV - SMALL</th>\n",
       "      <td>33.0</td>\n",
       "      <td>17322.575758</td>\n",
       "      <td>2854.399521</td>\n",
       "      <td>12159.0</td>\n",
       "      <td>15388.00</td>\n",
       "      <td>17557.0</td>\n",
       "      <td>19695.00</td>\n",
       "      <td>21605.0</td>\n",
       "      <td>33.0</td>\n",
       "      <td>3.087879</td>\n",
       "      <td>...</td>\n",
       "      <td>29.00</td>\n",
       "      <td>31.0</td>\n",
       "      <td>33.0</td>\n",
       "      <td>241.090909</td>\n",
       "      <td>17.614560</td>\n",
       "      <td>210.0</td>\n",
       "      <td>232.00</td>\n",
       "      <td>249.0</td>\n",
       "      <td>254.00</td>\n",
       "      <td>267.0</td>\n",
       "    </tr>\n",
       "    <tr>\n",
       "      <th>...</th>\n",
       "      <th>...</th>\n",
       "      <td>...</td>\n",
       "      <td>...</td>\n",
       "      <td>...</td>\n",
       "      <td>...</td>\n",
       "      <td>...</td>\n",
       "      <td>...</td>\n",
       "      <td>...</td>\n",
       "      <td>...</td>\n",
       "      <td>...</td>\n",
       "      <td>...</td>\n",
       "      <td>...</td>\n",
       "      <td>...</td>\n",
       "      <td>...</td>\n",
       "      <td>...</td>\n",
       "      <td>...</td>\n",
       "      <td>...</td>\n",
       "      <td>...</td>\n",
       "      <td>...</td>\n",
       "      <td>...</td>\n",
       "      <td>...</td>\n",
       "      <td>...</td>\n",
       "    </tr>\n",
       "    <tr>\n",
       "      <th rowspan=\"5\" valign=\"top\">VOLVO</th>\n",
       "      <th>STATION WAGON - SMALL</th>\n",
       "      <td>71.0</td>\n",
       "      <td>11823.366197</td>\n",
       "      <td>6153.472075</td>\n",
       "      <td>1310.0</td>\n",
       "      <td>6787.50</td>\n",
       "      <td>9985.0</td>\n",
       "      <td>17541.50</td>\n",
       "      <td>22549.0</td>\n",
       "      <td>71.0</td>\n",
       "      <td>2.315493</td>\n",
       "      <td>...</td>\n",
       "      <td>31.00</td>\n",
       "      <td>34.0</td>\n",
       "      <td>71.0</td>\n",
       "      <td>219.140845</td>\n",
       "      <td>15.430300</td>\n",
       "      <td>193.0</td>\n",
       "      <td>207.00</td>\n",
       "      <td>218.0</td>\n",
       "      <td>228.00</td>\n",
       "      <td>259.0</td>\n",
       "    </tr>\n",
       "    <tr>\n",
       "      <th>SUBCOMPACT</th>\n",
       "      <td>22.0</td>\n",
       "      <td>4949.590909</td>\n",
       "      <td>4305.847195</td>\n",
       "      <td>619.0</td>\n",
       "      <td>1482.00</td>\n",
       "      <td>2858.5</td>\n",
       "      <td>9172.25</td>\n",
       "      <td>13202.0</td>\n",
       "      <td>22.0</td>\n",
       "      <td>2.390909</td>\n",
       "      <td>...</td>\n",
       "      <td>29.75</td>\n",
       "      <td>31.0</td>\n",
       "      <td>22.0</td>\n",
       "      <td>229.590909</td>\n",
       "      <td>11.454503</td>\n",
       "      <td>212.0</td>\n",
       "      <td>218.75</td>\n",
       "      <td>230.0</td>\n",
       "      <td>237.00</td>\n",
       "      <td>251.0</td>\n",
       "    </tr>\n",
       "    <tr>\n",
       "      <th>SUV</th>\n",
       "      <td>55.0</td>\n",
       "      <td>8154.800000</td>\n",
       "      <td>3134.694630</td>\n",
       "      <td>1318.0</td>\n",
       "      <td>5761.50</td>\n",
       "      <td>8974.0</td>\n",
       "      <td>11068.50</td>\n",
       "      <td>12155.0</td>\n",
       "      <td>55.0</td>\n",
       "      <td>3.094545</td>\n",
       "      <td>...</td>\n",
       "      <td>26.00</td>\n",
       "      <td>29.0</td>\n",
       "      <td>55.0</td>\n",
       "      <td>267.454545</td>\n",
       "      <td>25.964233</td>\n",
       "      <td>223.0</td>\n",
       "      <td>251.00</td>\n",
       "      <td>267.0</td>\n",
       "      <td>283.00</td>\n",
       "      <td>315.0</td>\n",
       "    </tr>\n",
       "    <tr>\n",
       "      <th>SUV - SMALL</th>\n",
       "      <td>48.0</td>\n",
       "      <td>17403.770833</td>\n",
       "      <td>3033.581797</td>\n",
       "      <td>13208.0</td>\n",
       "      <td>15376.75</td>\n",
       "      <td>16489.5</td>\n",
       "      <td>20654.25</td>\n",
       "      <td>22554.0</td>\n",
       "      <td>48.0</td>\n",
       "      <td>2.387500</td>\n",
       "      <td>...</td>\n",
       "      <td>30.00</td>\n",
       "      <td>32.0</td>\n",
       "      <td>48.0</td>\n",
       "      <td>231.937500</td>\n",
       "      <td>19.007732</td>\n",
       "      <td>202.0</td>\n",
       "      <td>218.50</td>\n",
       "      <td>230.0</td>\n",
       "      <td>240.00</td>\n",
       "      <td>276.0</td>\n",
       "    </tr>\n",
       "    <tr>\n",
       "      <th>SUV - STANDARD</th>\n",
       "      <td>18.0</td>\n",
       "      <td>18660.500000</td>\n",
       "      <td>2707.475778</td>\n",
       "      <td>13213.0</td>\n",
       "      <td>16759.00</td>\n",
       "      <td>18635.5</td>\n",
       "      <td>20659.75</td>\n",
       "      <td>22556.0</td>\n",
       "      <td>18.0</td>\n",
       "      <td>2.133333</td>\n",
       "      <td>...</td>\n",
       "      <td>28.00</td>\n",
       "      <td>29.0</td>\n",
       "      <td>18.0</td>\n",
       "      <td>241.833333</td>\n",
       "      <td>9.376127</td>\n",
       "      <td>227.0</td>\n",
       "      <td>233.75</td>\n",
       "      <td>239.5</td>\n",
       "      <td>248.75</td>\n",
       "      <td>258.0</td>\n",
       "    </tr>\n",
       "  </tbody>\n",
       "</table>\n",
       "<p>361 rows × 48 columns</p>\n",
       "</div>"
      ],
      "text/plain": [
       "                                ID                                      \\\n",
       "                             count          mean          std      min   \n",
       "MAKE  VEHICLE CLASS                                                      \n",
       "ACURA COMPACT                102.0  10923.705882  6435.149032      1.0   \n",
       "      MID-SIZE                55.0   8324.236364  5088.902326      3.0   \n",
       "      SUBCOMPACT              25.0   2028.520000  1609.384435      5.0   \n",
       "      SUV                     20.0   6882.350000  3389.977539    648.0   \n",
       "      SUV - SMALL             33.0  17322.575758  2854.399521  12159.0   \n",
       "...                            ...           ...          ...      ...   \n",
       "VOLVO STATION WAGON - SMALL   71.0  11823.366197  6153.472075   1310.0   \n",
       "      SUBCOMPACT              22.0   4949.590909  4305.847195    619.0   \n",
       "      SUV                     55.0   8154.800000  3134.694630   1318.0   \n",
       "      SUV - SMALL             48.0  17403.770833  3033.581797  13208.0   \n",
       "      SUV - STANDARD          18.0  18660.500000  2707.475778  13213.0   \n",
       "\n",
       "                                                                  ENGINE SIZE  \\\n",
       "                                  25%      50%       75%      max       count   \n",
       "MAKE  VEHICLE CLASS                                                             \n",
       "ACURA COMPACT                 5765.25  10545.5  16501.25  21609.0       102.0   \n",
       "      MID-SIZE                4293.00   7893.0  12161.50  19700.0        55.0   \n",
       "      SUBCOMPACT               646.00   2067.0   2888.00   4802.0        25.0   \n",
       "      SUV                     4543.25   7350.0  10002.25  11084.0        20.0   \n",
       "      SUV - SMALL            15388.00  17557.0  19695.00  21605.0        33.0   \n",
       "...                               ...      ...       ...      ...         ...   \n",
       "VOLVO STATION WAGON - SMALL   6787.50   9985.0  17541.50  22549.0        71.0   \n",
       "      SUBCOMPACT              1482.00   2858.5   9172.25  13202.0        22.0   \n",
       "      SUV                     5761.50   8974.0  11068.50  12155.0        55.0   \n",
       "      SUV - SMALL            15376.75  16489.5  20654.25  22554.0        48.0   \n",
       "      SUV - STANDARD         16759.00  18635.5  20659.75  22556.0        18.0   \n",
       "\n",
       "                                       ... COMB (mpg)       EMISSIONS  \\\n",
       "                                 mean  ...        75%   max     count   \n",
       "MAKE  VEHICLE CLASS                    ...                              \n",
       "ACURA COMPACT                2.411765  ...      35.75  58.0     102.0   \n",
       "      MID-SIZE               3.489091  ...      29.00  37.0      55.0   \n",
       "      SUBCOMPACT             2.128000  ...      35.00  37.0      25.0   \n",
       "      SUV                    3.220000  ...      26.00  27.0      20.0   \n",
       "      SUV - SMALL            3.087879  ...      29.00  31.0      33.0   \n",
       "...                               ...  ...        ...   ...       ...   \n",
       "VOLVO STATION WAGON - SMALL  2.315493  ...      31.00  34.0      71.0   \n",
       "      SUBCOMPACT             2.390909  ...      29.75  31.0      22.0   \n",
       "      SUV                    3.094545  ...      26.00  29.0      55.0   \n",
       "      SUV - SMALL            2.387500  ...      30.00  32.0      48.0   \n",
       "      SUV - STANDARD         2.133333  ...      28.00  29.0      18.0   \n",
       "\n",
       "                                                                          \\\n",
       "                                   mean        std    min     25%    50%   \n",
       "MAKE  VEHICLE CLASS                                                        \n",
       "ACURA COMPACT                198.421569  27.198368  113.0  183.00  199.5   \n",
       "      MID-SIZE               228.709091  20.635885  177.0  223.00  228.0   \n",
       "      SUBCOMPACT             201.440000  31.098071  175.0  184.00  191.0   \n",
       "      SUV                    263.150000  15.163235  237.0  252.50  267.0   \n",
       "      SUV - SMALL            241.090909  17.614560  210.0  232.00  249.0   \n",
       "...                                 ...        ...    ...     ...    ...   \n",
       "VOLVO STATION WAGON - SMALL  219.140845  15.430300  193.0  207.00  218.0   \n",
       "      SUBCOMPACT             229.590909  11.454503  212.0  218.75  230.0   \n",
       "      SUV                    267.454545  25.964233  223.0  251.00  267.0   \n",
       "      SUV - SMALL            231.937500  19.007732  202.0  218.50  230.0   \n",
       "      SUV - STANDARD         241.833333   9.376127  227.0  233.75  239.5   \n",
       "\n",
       "                                            \n",
       "                                75%    max  \n",
       "MAKE  VEHICLE CLASS                         \n",
       "ACURA COMPACT                212.00  261.0  \n",
       "      MID-SIZE               239.00  264.0  \n",
       "      SUBCOMPACT             200.00  271.0  \n",
       "      SUV                    276.50  278.0  \n",
       "      SUV - SMALL            254.00  267.0  \n",
       "...                             ...    ...  \n",
       "VOLVO STATION WAGON - SMALL  228.00  259.0  \n",
       "      SUBCOMPACT             237.00  251.0  \n",
       "      SUV                    283.00  315.0  \n",
       "      SUV - SMALL            240.00  276.0  \n",
       "      SUV - STANDARD         248.75  258.0  \n",
       "\n",
       "[361 rows x 48 columns]"
      ]
     },
     "execution_count": 16,
     "metadata": {},
     "output_type": "execute_result"
    }
   ],
   "source": [
    "data_by_make = data_group.groupby(['MAKE', 'VEHICLE CLASS']).describe()\n",
    "data_by_make"
   ]
  },
  {
   "cell_type": "code",
   "execution_count": 21,
   "id": "82c2eb6a",
   "metadata": {
    "scrolled": true
   },
   "outputs": [
    {
     "data": {
      "application/vnd.plotly.v1+json": {
       "config": {
        "plotlyServerURL": "https://plot.ly"
       },
       "data": [
        {
         "alignmentgroup": "True",
         "hovertemplate": "color=COMPACT<br>x=%{x}<br>y=%{y}<extra></extra>",
         "legendgroup": "COMPACT",
         "marker": {
          "color": "#AA0DFE",
          "pattern": {
           "shape": ""
          }
         },
         "name": "COMPACT",
         "offsetgroup": "COMPACT",
         "orientation": "v",
         "showlegend": true,
         "textposition": "auto",
         "type": "bar",
         "x": [
          "ACURA",
          "AUDI",
          "BENTLEY",
          "BMW",
          "BUICK",
          "CADILLAC",
          "CHEVROLET",
          "CHRYSLER",
          "DAEWOO",
          "DODGE",
          "FORD",
          "GENESIS",
          "HONDA",
          "HYUNDAI",
          "INFINITI",
          "JAGUAR",
          "KIA",
          "LEXUS",
          "MAZDA",
          "MERCEDES-BENZ",
          "MINI",
          "MITSUBISHI",
          "NISSAN",
          "OLDSMOBILE",
          "PONTIAC",
          "ROLLS-ROYCE",
          "SAAB",
          "SATURN",
          "SCION",
          "SUBARU",
          "SUZUKI",
          "TOYOTA",
          "VOLKSWAGEN",
          "VOLVO"
         ],
         "xaxis": "x",
         "y": [
          102,
          139,
          22,
          368,
          16,
          63,
          135,
          62,
          18,
          25,
          125,
          11,
          103,
          100,
          38,
          32,
          92,
          67,
          137,
          279,
          52,
          96,
          57,
          15,
          67,
          26,
          43,
          18,
          12,
          113,
          56,
          146,
          315,
          177
         ],
         "yaxis": "y"
        },
        {
         "alignmentgroup": "True",
         "hovertemplate": "color=MID-SIZE<br>x=%{x}<br>y=%{y}<extra></extra>",
         "legendgroup": "MID-SIZE",
         "marker": {
          "color": "#3283FE",
          "pattern": {
           "shape": ""
          }
         },
         "name": "MID-SIZE",
         "offsetgroup": "MID-SIZE",
         "orientation": "v",
         "showlegend": true,
         "textposition": "auto",
         "type": "bar",
         "x": [
          "ACURA",
          "ALFA ROMEO",
          "AUDI",
          "BENTLEY",
          "BMW",
          "BUICK",
          "CADILLAC",
          "CHEVROLET",
          "CHRYSLER",
          "DAEWOO",
          "DODGE",
          "FERRARI",
          "FORD",
          "HONDA",
          "HYUNDAI",
          "INFINITI",
          "JAGUAR",
          "KIA",
          "LEXUS",
          "LINCOLN",
          "MASERATI",
          "MAZDA",
          "MERCEDES-BENZ",
          "MINI",
          "MITSUBISHI",
          "NISSAN",
          "OLDSMOBILE",
          "PONTIAC",
          "ROLLS-ROYCE",
          "SAAB",
          "SATURN",
          "SCION",
          "SUBARU",
          "SUZUKI",
          "TOYOTA",
          "VOLKSWAGEN",
          "VOLVO"
         ],
         "xaxis": "x",
         "y": [
          55,
          18,
          144,
          45,
          151,
          107,
          160,
          150,
          95,
          4,
          178,
          19,
          117,
          101,
          102,
          92,
          69,
          108,
          151,
          68,
          27,
          131,
          120,
          57,
          18,
          196,
          8,
          29,
          21,
          41,
          25,
          2,
          41,
          3,
          178,
          77,
          52
         ],
         "yaxis": "y"
        },
        {
         "alignmentgroup": "True",
         "hovertemplate": "color=SUBCOMPACT<br>x=%{x}<br>y=%{y}<extra></extra>",
         "legendgroup": "SUBCOMPACT",
         "marker": {
          "color": "#85660D",
          "pattern": {
           "shape": ""
          }
         },
         "name": "SUBCOMPACT",
         "offsetgroup": "SUBCOMPACT",
         "orientation": "v",
         "showlegend": true,
         "textposition": "auto",
         "type": "bar",
         "x": [
          "ACURA",
          "ASTON MARTIN",
          "AUDI",
          "BENTLEY",
          "BMW",
          "CHEVROLET",
          "CHRYSLER",
          "DAEWOO",
          "DODGE",
          "FERRARI",
          "FORD",
          "HONDA",
          "HYUNDAI",
          "INFINITI",
          "JAGUAR",
          "JEEP",
          "KIA",
          "LEXUS",
          "MASERATI",
          "MAZDA",
          "MERCEDES-BENZ",
          "MINI",
          "MITSUBISHI",
          "NISSAN",
          "PLYMOUTH",
          "PONTIAC",
          "ROLLS-ROYCE",
          "SAAB",
          "SATURN",
          "SCION",
          "SUBARU",
          "SUZUKI",
          "TOYOTA",
          "VOLKSWAGEN",
          "VOLVO"
         ],
         "xaxis": "x",
         "y": [
          25,
          8,
          181,
          26,
          428,
          137,
          7,
          4,
          2,
          7,
          184,
          26,
          53,
          52,
          34,
          1,
          2,
          93,
          31,
          19,
          177,
          112,
          39,
          34,
          1,
          56,
          1,
          27,
          28,
          8,
          35,
          12,
          46,
          92,
          22
         ],
         "yaxis": "y"
        },
        {
         "alignmentgroup": "True",
         "hovertemplate": "color=SUV<br>x=%{x}<br>y=%{y}<extra></extra>",
         "legendgroup": "SUV",
         "marker": {
          "color": "#782AB6",
          "pattern": {
           "shape": ""
          }
         },
         "name": "SUV",
         "offsetgroup": "SUV",
         "orientation": "v",
         "showlegend": true,
         "textposition": "auto",
         "type": "bar",
         "x": [
          "ACURA",
          "AUDI",
          "BMW",
          "BUICK",
          "CADILLAC",
          "CHEVROLET",
          "CHRYSLER",
          "DODGE",
          "FORD",
          "GMC",
          "HONDA",
          "HUMMER",
          "HYUNDAI",
          "INFINITI",
          "ISUZU",
          "JEEP",
          "KIA",
          "LAND ROVER",
          "LEXUS",
          "LINCOLN",
          "MAZDA",
          "MERCEDES-BENZ",
          "MITSUBISHI",
          "NISSAN",
          "OLDSMOBILE",
          "PONTIAC",
          "PORSCHE",
          "SAAB",
          "SATURN",
          "SUBARU",
          "SUZUKI",
          "TOYOTA",
          "VOLKSWAGEN",
          "VOLVO"
         ],
         "xaxis": "x",
         "y": [
          20,
          25,
          85,
          34,
          60,
          360,
          51,
          92,
          175,
          285,
          72,
          14,
          88,
          32,
          14,
          201,
          80,
          63,
          50,
          24,
          74,
          90,
          56,
          87,
          3,
          22,
          43,
          11,
          49,
          101,
          61,
          135,
          28,
          55
         ],
         "yaxis": "y"
        },
        {
         "alignmentgroup": "True",
         "hovertemplate": "color=SUV - SMALL<br>x=%{x}<br>y=%{y}<extra></extra>",
         "legendgroup": "SUV - SMALL",
         "marker": {
          "color": "#565656",
          "pattern": {
           "shape": ""
          }
         },
         "name": "SUV - SMALL",
         "offsetgroup": "SUV - SMALL",
         "orientation": "v",
         "showlegend": true,
         "textposition": "auto",
         "type": "bar",
         "x": [
          "ACURA",
          "ALFA ROMEO",
          "AUDI",
          "BMW",
          "BUICK",
          "CADILLAC",
          "CHEVROLET",
          "DODGE",
          "FIAT",
          "FORD",
          "GENESIS",
          "GMC",
          "HONDA",
          "HYUNDAI",
          "INFINITI",
          "JAGUAR",
          "JEEP",
          "KIA",
          "LAND ROVER",
          "LEXUS",
          "LINCOLN",
          "MAZDA",
          "MERCEDES-BENZ",
          "MITSUBISHI",
          "NISSAN",
          "PORSCHE",
          "SUBARU",
          "SUZUKI",
          "TOYOTA",
          "VOLKSWAGEN",
          "VOLVO"
         ],
         "xaxis": "x",
         "y": [
          33,
          14,
          40,
          74,
          50,
          28,
          108,
          29,
          13,
          131,
          2,
          47,
          54,
          100,
          24,
          16,
          283,
          80,
          34,
          46,
          39,
          74,
          50,
          59,
          54,
          26,
          76,
          1,
          85,
          38,
          48
         ],
         "yaxis": "y"
        },
        {
         "alignmentgroup": "True",
         "hovertemplate": "color=TWO-SEATER<br>x=%{x}<br>y=%{y}<extra></extra>",
         "legendgroup": "TWO-SEATER",
         "marker": {
          "color": "#1C8356",
          "pattern": {
           "shape": ""
          }
         },
         "name": "TWO-SEATER",
         "offsetgroup": "TWO-SEATER",
         "orientation": "v",
         "showlegend": true,
         "textposition": "auto",
         "type": "bar",
         "x": [
          "ACURA",
          "ALFA ROMEO",
          "ASTON MARTIN",
          "AUDI",
          "BENTLEY",
          "BMW",
          "BUGATTI",
          "CADILLAC",
          "CHEVROLET",
          "CHRYSLER",
          "DODGE",
          "FERRARI",
          "FIAT",
          "FORD",
          "HONDA",
          "JAGUAR",
          "LAMBORGHINI",
          "LEXUS",
          "MASERATI",
          "MAZDA",
          "MERCEDES-BENZ",
          "MINI",
          "NISSAN",
          "PLYMOUTH",
          "PONTIAC",
          "PORSCHE",
          "SATURN",
          "SMART",
          "SRT",
          "TOYOTA"
         ],
         "xaxis": "x",
         "y": [
          12,
          10,
          48,
          96,
          6,
          83,
          12,
          9,
          66,
          24,
          18,
          47,
          8,
          13,
          27,
          88,
          107,
          1,
          10,
          57,
          175,
          46,
          67,
          1,
          13,
          225,
          12,
          22,
          4,
          5
         ],
         "yaxis": "y"
        },
        {
         "alignmentgroup": "True",
         "hovertemplate": "color=MINICOMPACT<br>x=%{x}<br>y=%{y}<extra></extra>",
         "legendgroup": "MINICOMPACT",
         "marker": {
          "color": "#16FF32",
          "pattern": {
           "shape": ""
          }
         },
         "name": "MINICOMPACT",
         "offsetgroup": "MINICOMPACT",
         "orientation": "v",
         "showlegend": true,
         "textposition": "auto",
         "type": "bar",
         "x": [
          "ASTON MARTIN",
          "AUDI",
          "BENTLEY",
          "BMW",
          "FIAT",
          "JAGUAR",
          "LEXUS",
          "MERCEDES-BENZ",
          "MINI",
          "MITSUBISHI",
          "PORSCHE",
          "SCION",
          "SUBARU",
          "TOYOTA",
          "VOLKSWAGEN"
         ],
         "xaxis": "x",
         "y": [
          48,
          16,
          4,
          39,
          52,
          53,
          11,
          8,
          135,
          32,
          534,
          12,
          20,
          10,
          20
         ],
         "yaxis": "y"
        },
        {
         "alignmentgroup": "True",
         "hovertemplate": "color=SUV - STANDARD<br>x=%{x}<br>y=%{y}<extra></extra>",
         "legendgroup": "SUV - STANDARD",
         "marker": {
          "color": "#F7E1A0",
          "pattern": {
           "shape": ""
          }
         },
         "name": "SUV - STANDARD",
         "offsetgroup": "SUV - STANDARD",
         "orientation": "v",
         "showlegend": true,
         "textposition": "auto",
         "type": "bar",
         "x": [
          "ASTON MARTIN",
          "AUDI",
          "BENTLEY",
          "BMW",
          "BUICK",
          "CADILLAC",
          "CHEVROLET",
          "DODGE",
          "FORD",
          "GENESIS",
          "GMC",
          "HONDA",
          "HYUNDAI",
          "INFINITI",
          "JEEP",
          "LAMBORGHINI",
          "LAND ROVER",
          "LEXUS",
          "LINCOLN",
          "MASERATI",
          "MERCEDES-BENZ",
          "NISSAN",
          "PORSCHE",
          "SUBARU",
          "TOYOTA",
          "VOLKSWAGEN",
          "VOLVO"
         ],
         "xaxis": "x",
         "y": [
          2,
          29,
          9,
          81,
          22,
          34,
          146,
          29,
          100,
          4,
          177,
          1,
          5,
          15,
          49,
          4,
          77,
          31,
          24,
          20,
          113,
          11,
          51,
          4,
          59,
          7,
          18
         ],
         "yaxis": "y"
        },
        {
         "alignmentgroup": "True",
         "hovertemplate": "color=FULL-SIZE<br>x=%{x}<br>y=%{y}<extra></extra>",
         "legendgroup": "FULL-SIZE",
         "marker": {
          "color": "#E2E2E2",
          "pattern": {
           "shape": ""
          }
         },
         "name": "FULL-SIZE",
         "offsetgroup": "FULL-SIZE",
         "orientation": "v",
         "showlegend": true,
         "textposition": "auto",
         "type": "bar",
         "x": [
          "AUDI",
          "BENTLEY",
          "BMW",
          "BUICK",
          "CADILLAC",
          "CHEVROLET",
          "CHRYSLER",
          "DODGE",
          "FORD",
          "GENESIS",
          "HONDA",
          "HYUNDAI",
          "INFINITI",
          "JAGUAR",
          "KIA",
          "LEXUS",
          "LINCOLN",
          "MASERATI",
          "MERCEDES-BENZ",
          "PONTIAC",
          "PORSCHE",
          "ROLLS-ROYCE",
          "SAAB",
          "SUBARU",
          "TOYOTA",
          "VOLKSWAGEN"
         ],
         "xaxis": "x",
         "y": [
          43,
          6,
          116,
          36,
          47,
          73,
          141,
          167,
          97,
          25,
          70,
          99,
          19,
          64,
          61,
          9,
          55,
          37,
          136,
          13,
          109,
          51,
          3,
          6,
          12,
          8
         ],
         "yaxis": "y"
        },
        {
         "alignmentgroup": "True",
         "hovertemplate": "color=STATION WAGON - MID-SIZE<br>x=%{x}<br>y=%{y}<extra></extra>",
         "legendgroup": "STATION WAGON - MID-SIZE",
         "marker": {
          "color": "#1CBE4F",
          "pattern": {
           "shape": ""
          }
         },
         "name": "STATION WAGON - MID-SIZE",
         "offsetgroup": "STATION WAGON - MID-SIZE",
         "orientation": "v",
         "showlegend": true,
         "textposition": "auto",
         "type": "bar",
         "x": [
          "AUDI",
          "BMW",
          "FORD",
          "KIA",
          "LEXUS",
          "MAZDA",
          "MERCEDES-BENZ",
          "NISSAN",
          "ROLLS-ROYCE",
          "SAAB",
          "SATURN",
          "SUBARU",
          "TOYOTA",
          "VOLKSWAGEN",
          "VOLVO"
         ],
         "xaxis": "x",
         "y": [
          17,
          10,
          38,
          19,
          1,
          10,
          51,
          15,
          7,
          37,
          12,
          42,
          7,
          49,
          72
         ],
         "yaxis": "y"
        },
        {
         "alignmentgroup": "True",
         "hovertemplate": "color=STATION WAGON - SMALL<br>x=%{x}<br>y=%{y}<extra></extra>",
         "legendgroup": "STATION WAGON - SMALL",
         "marker": {
          "color": "#C4451C",
          "pattern": {
           "shape": ""
          }
         },
         "name": "STATION WAGON - SMALL",
         "offsetgroup": "STATION WAGON - SMALL",
         "orientation": "v",
         "showlegend": true,
         "textposition": "auto",
         "type": "bar",
         "x": [
          "AUDI",
          "BMW",
          "CADILLAC",
          "CHEVROLET",
          "DAEWOO",
          "FIAT",
          "HONDA",
          "HYUNDAI",
          "INFINITI",
          "JAGUAR",
          "KIA",
          "MERCEDES-BENZ",
          "MINI",
          "MITSUBISHI",
          "NISSAN",
          "PONTIAC",
          "SAAB",
          "SATURN",
          "SCION",
          "SUBARU",
          "SUZUKI",
          "TOYOTA",
          "VOLKSWAGEN",
          "VOLVO"
         ],
         "xaxis": "x",
         "y": [
          75,
          55,
          28,
          20,
          8,
          12,
          58,
          10,
          8,
          8,
          62,
          59,
          4,
          22,
          56,
          32,
          28,
          4,
          10,
          82,
          61,
          48,
          56,
          71
         ],
         "yaxis": "y"
        },
        {
         "alignmentgroup": "True",
         "hovertemplate": "color=MINIVAN<br>x=%{x}<br>y=%{y}<extra></extra>",
         "legendgroup": "MINIVAN",
         "marker": {
          "color": "#DEA0FD",
          "pattern": {
           "shape": ""
          }
         },
         "name": "MINIVAN",
         "offsetgroup": "MINIVAN",
         "orientation": "v",
         "showlegend": true,
         "textposition": "auto",
         "type": "bar",
         "x": [
          "BUICK",
          "CHEVROLET",
          "CHRYSLER",
          "DODGE",
          "FORD",
          "HONDA",
          "HYUNDAI",
          "KIA",
          "MAZDA",
          "NISSAN",
          "OLDSMOBILE",
          "PONTIAC",
          "RAM",
          "SATURN",
          "TOYOTA",
          "VOLKSWAGEN"
         ],
         "xaxis": "x",
         "y": [
          8,
          21,
          45,
          121,
          9,
          34,
          3,
          28,
          25,
          15,
          8,
          21,
          8,
          8,
          43,
          11
         ],
         "yaxis": "y"
        },
        {
         "alignmentgroup": "True",
         "hovertemplate": "color=PICKUP TRUCK - STANDARD<br>x=%{x}<br>y=%{y}<extra></extra>",
         "legendgroup": "PICKUP TRUCK - STANDARD",
         "marker": {
          "color": "#FE00FA",
          "pattern": {
           "shape": ""
          }
         },
         "name": "PICKUP TRUCK - STANDARD",
         "offsetgroup": "PICKUP TRUCK - STANDARD",
         "orientation": "v",
         "showlegend": true,
         "textposition": "auto",
         "type": "bar",
         "x": [
          "CADILLAC",
          "CHEVROLET",
          "DODGE",
          "FORD",
          "GMC",
          "HONDA",
          "HUMMER",
          "ISUZU",
          "JEEP",
          "LINCOLN",
          "MAZDA",
          "NISSAN",
          "RAM",
          "TOYOTA"
         ],
         "xaxis": "x",
         "y": [
          5,
          513,
          223,
          525,
          464,
          15,
          7,
          1,
          10,
          4,
          58,
          102,
          137,
          140
         ],
         "yaxis": "y"
        },
        {
         "alignmentgroup": "True",
         "hovertemplate": "color=PICKUP TRUCK - SMALL<br>x=%{x}<br>y=%{y}<extra></extra>",
         "legendgroup": "PICKUP TRUCK - SMALL",
         "marker": {
          "color": "#325A9B",
          "pattern": {
           "shape": ""
          }
         },
         "name": "PICKUP TRUCK - SMALL",
         "offsetgroup": "PICKUP TRUCK - SMALL",
         "orientation": "v",
         "showlegend": true,
         "textposition": "auto",
         "type": "bar",
         "x": [
          "CHEVROLET",
          "FORD",
          "GMC",
          "HYUNDAI",
          "ISUZU",
          "MAZDA",
          "NISSAN",
          "SUZUKI",
          "TOYOTA"
         ],
         "xaxis": "x",
         "y": [
          160,
          30,
          147,
          1,
          3,
          17,
          61,
          5,
          87
         ],
         "yaxis": "y"
        },
        {
         "alignmentgroup": "True",
         "hovertemplate": "color=SPECIAL PURPOSE VEHICLE<br>x=%{x}<br>y=%{y}<extra></extra>",
         "legendgroup": "SPECIAL PURPOSE VEHICLE",
         "marker": {
          "color": "#FEAF16",
          "pattern": {
           "shape": ""
          }
         },
         "name": "SPECIAL PURPOSE VEHICLE",
         "offsetgroup": "SPECIAL PURPOSE VEHICLE",
         "orientation": "v",
         "showlegend": true,
         "textposition": "auto",
         "type": "bar",
         "x": [
          "CHEVROLET",
          "FORD",
          "LINCOLN",
          "MERCEDES-BENZ",
          "NISSAN",
          "RAM"
         ],
         "xaxis": "x",
         "y": [
          4,
          64,
          11,
          18,
          9,
          8
         ],
         "yaxis": "y"
        },
        {
         "alignmentgroup": "True",
         "hovertemplate": "color=VAN - CARGO<br>x=%{x}<br>y=%{y}<extra></extra>",
         "legendgroup": "VAN - CARGO",
         "marker": {
          "color": "#F8A19F",
          "pattern": {
           "shape": ""
          }
         },
         "name": "VAN - CARGO",
         "offsetgroup": "VAN - CARGO",
         "orientation": "v",
         "showlegend": true,
         "textposition": "auto",
         "type": "bar",
         "x": [
          "CHEVROLET",
          "DODGE",
          "FORD",
          "GMC"
         ],
         "xaxis": "x",
         "y": [
          127,
          27,
          52,
          126
         ],
         "yaxis": "y"
        },
        {
         "alignmentgroup": "True",
         "hovertemplate": "color=VAN - PASSENGER<br>x=%{x}<br>y=%{y}<extra></extra>",
         "legendgroup": "VAN - PASSENGER",
         "marker": {
          "color": "#90AD1C",
          "pattern": {
           "shape": ""
          }
         },
         "name": "VAN - PASSENGER",
         "offsetgroup": "VAN - PASSENGER",
         "orientation": "v",
         "showlegend": true,
         "textposition": "auto",
         "type": "bar",
         "x": [
          "CHEVROLET",
          "DODGE",
          "FORD",
          "GMC"
         ],
         "xaxis": "x",
         "y": [
          110,
          14,
          64,
          111
         ],
         "yaxis": "y"
        }
       ],
       "layout": {
        "barmode": "relative",
        "legend": {
         "title": {
          "text": "color"
         },
         "tracegroupgap": 0
        },
        "template": {
         "data": {
          "bar": [
           {
            "error_x": {
             "color": "#2a3f5f"
            },
            "error_y": {
             "color": "#2a3f5f"
            },
            "marker": {
             "line": {
              "color": "#E5ECF6",
              "width": 0.5
             },
             "pattern": {
              "fillmode": "overlay",
              "size": 10,
              "solidity": 0.2
             }
            },
            "type": "bar"
           }
          ],
          "barpolar": [
           {
            "marker": {
             "line": {
              "color": "#E5ECF6",
              "width": 0.5
             },
             "pattern": {
              "fillmode": "overlay",
              "size": 10,
              "solidity": 0.2
             }
            },
            "type": "barpolar"
           }
          ],
          "carpet": [
           {
            "aaxis": {
             "endlinecolor": "#2a3f5f",
             "gridcolor": "white",
             "linecolor": "white",
             "minorgridcolor": "white",
             "startlinecolor": "#2a3f5f"
            },
            "baxis": {
             "endlinecolor": "#2a3f5f",
             "gridcolor": "white",
             "linecolor": "white",
             "minorgridcolor": "white",
             "startlinecolor": "#2a3f5f"
            },
            "type": "carpet"
           }
          ],
          "choropleth": [
           {
            "colorbar": {
             "outlinewidth": 0,
             "ticks": ""
            },
            "type": "choropleth"
           }
          ],
          "contour": [
           {
            "colorbar": {
             "outlinewidth": 0,
             "ticks": ""
            },
            "colorscale": [
             [
              0,
              "#0d0887"
             ],
             [
              0.1111111111111111,
              "#46039f"
             ],
             [
              0.2222222222222222,
              "#7201a8"
             ],
             [
              0.3333333333333333,
              "#9c179e"
             ],
             [
              0.4444444444444444,
              "#bd3786"
             ],
             [
              0.5555555555555556,
              "#d8576b"
             ],
             [
              0.6666666666666666,
              "#ed7953"
             ],
             [
              0.7777777777777778,
              "#fb9f3a"
             ],
             [
              0.8888888888888888,
              "#fdca26"
             ],
             [
              1,
              "#f0f921"
             ]
            ],
            "type": "contour"
           }
          ],
          "contourcarpet": [
           {
            "colorbar": {
             "outlinewidth": 0,
             "ticks": ""
            },
            "type": "contourcarpet"
           }
          ],
          "heatmap": [
           {
            "colorbar": {
             "outlinewidth": 0,
             "ticks": ""
            },
            "colorscale": [
             [
              0,
              "#0d0887"
             ],
             [
              0.1111111111111111,
              "#46039f"
             ],
             [
              0.2222222222222222,
              "#7201a8"
             ],
             [
              0.3333333333333333,
              "#9c179e"
             ],
             [
              0.4444444444444444,
              "#bd3786"
             ],
             [
              0.5555555555555556,
              "#d8576b"
             ],
             [
              0.6666666666666666,
              "#ed7953"
             ],
             [
              0.7777777777777778,
              "#fb9f3a"
             ],
             [
              0.8888888888888888,
              "#fdca26"
             ],
             [
              1,
              "#f0f921"
             ]
            ],
            "type": "heatmap"
           }
          ],
          "heatmapgl": [
           {
            "colorbar": {
             "outlinewidth": 0,
             "ticks": ""
            },
            "colorscale": [
             [
              0,
              "#0d0887"
             ],
             [
              0.1111111111111111,
              "#46039f"
             ],
             [
              0.2222222222222222,
              "#7201a8"
             ],
             [
              0.3333333333333333,
              "#9c179e"
             ],
             [
              0.4444444444444444,
              "#bd3786"
             ],
             [
              0.5555555555555556,
              "#d8576b"
             ],
             [
              0.6666666666666666,
              "#ed7953"
             ],
             [
              0.7777777777777778,
              "#fb9f3a"
             ],
             [
              0.8888888888888888,
              "#fdca26"
             ],
             [
              1,
              "#f0f921"
             ]
            ],
            "type": "heatmapgl"
           }
          ],
          "histogram": [
           {
            "marker": {
             "pattern": {
              "fillmode": "overlay",
              "size": 10,
              "solidity": 0.2
             }
            },
            "type": "histogram"
           }
          ],
          "histogram2d": [
           {
            "colorbar": {
             "outlinewidth": 0,
             "ticks": ""
            },
            "colorscale": [
             [
              0,
              "#0d0887"
             ],
             [
              0.1111111111111111,
              "#46039f"
             ],
             [
              0.2222222222222222,
              "#7201a8"
             ],
             [
              0.3333333333333333,
              "#9c179e"
             ],
             [
              0.4444444444444444,
              "#bd3786"
             ],
             [
              0.5555555555555556,
              "#d8576b"
             ],
             [
              0.6666666666666666,
              "#ed7953"
             ],
             [
              0.7777777777777778,
              "#fb9f3a"
             ],
             [
              0.8888888888888888,
              "#fdca26"
             ],
             [
              1,
              "#f0f921"
             ]
            ],
            "type": "histogram2d"
           }
          ],
          "histogram2dcontour": [
           {
            "colorbar": {
             "outlinewidth": 0,
             "ticks": ""
            },
            "colorscale": [
             [
              0,
              "#0d0887"
             ],
             [
              0.1111111111111111,
              "#46039f"
             ],
             [
              0.2222222222222222,
              "#7201a8"
             ],
             [
              0.3333333333333333,
              "#9c179e"
             ],
             [
              0.4444444444444444,
              "#bd3786"
             ],
             [
              0.5555555555555556,
              "#d8576b"
             ],
             [
              0.6666666666666666,
              "#ed7953"
             ],
             [
              0.7777777777777778,
              "#fb9f3a"
             ],
             [
              0.8888888888888888,
              "#fdca26"
             ],
             [
              1,
              "#f0f921"
             ]
            ],
            "type": "histogram2dcontour"
           }
          ],
          "mesh3d": [
           {
            "colorbar": {
             "outlinewidth": 0,
             "ticks": ""
            },
            "type": "mesh3d"
           }
          ],
          "parcoords": [
           {
            "line": {
             "colorbar": {
              "outlinewidth": 0,
              "ticks": ""
             }
            },
            "type": "parcoords"
           }
          ],
          "pie": [
           {
            "automargin": true,
            "type": "pie"
           }
          ],
          "scatter": [
           {
            "fillpattern": {
             "fillmode": "overlay",
             "size": 10,
             "solidity": 0.2
            },
            "type": "scatter"
           }
          ],
          "scatter3d": [
           {
            "line": {
             "colorbar": {
              "outlinewidth": 0,
              "ticks": ""
             }
            },
            "marker": {
             "colorbar": {
              "outlinewidth": 0,
              "ticks": ""
             }
            },
            "type": "scatter3d"
           }
          ],
          "scattercarpet": [
           {
            "marker": {
             "colorbar": {
              "outlinewidth": 0,
              "ticks": ""
             }
            },
            "type": "scattercarpet"
           }
          ],
          "scattergeo": [
           {
            "marker": {
             "colorbar": {
              "outlinewidth": 0,
              "ticks": ""
             }
            },
            "type": "scattergeo"
           }
          ],
          "scattergl": [
           {
            "marker": {
             "colorbar": {
              "outlinewidth": 0,
              "ticks": ""
             }
            },
            "type": "scattergl"
           }
          ],
          "scattermapbox": [
           {
            "marker": {
             "colorbar": {
              "outlinewidth": 0,
              "ticks": ""
             }
            },
            "type": "scattermapbox"
           }
          ],
          "scatterpolar": [
           {
            "marker": {
             "colorbar": {
              "outlinewidth": 0,
              "ticks": ""
             }
            },
            "type": "scatterpolar"
           }
          ],
          "scatterpolargl": [
           {
            "marker": {
             "colorbar": {
              "outlinewidth": 0,
              "ticks": ""
             }
            },
            "type": "scatterpolargl"
           }
          ],
          "scatterternary": [
           {
            "marker": {
             "colorbar": {
              "outlinewidth": 0,
              "ticks": ""
             }
            },
            "type": "scatterternary"
           }
          ],
          "surface": [
           {
            "colorbar": {
             "outlinewidth": 0,
             "ticks": ""
            },
            "colorscale": [
             [
              0,
              "#0d0887"
             ],
             [
              0.1111111111111111,
              "#46039f"
             ],
             [
              0.2222222222222222,
              "#7201a8"
             ],
             [
              0.3333333333333333,
              "#9c179e"
             ],
             [
              0.4444444444444444,
              "#bd3786"
             ],
             [
              0.5555555555555556,
              "#d8576b"
             ],
             [
              0.6666666666666666,
              "#ed7953"
             ],
             [
              0.7777777777777778,
              "#fb9f3a"
             ],
             [
              0.8888888888888888,
              "#fdca26"
             ],
             [
              1,
              "#f0f921"
             ]
            ],
            "type": "surface"
           }
          ],
          "table": [
           {
            "cells": {
             "fill": {
              "color": "#EBF0F8"
             },
             "line": {
              "color": "white"
             }
            },
            "header": {
             "fill": {
              "color": "#C8D4E3"
             },
             "line": {
              "color": "white"
             }
            },
            "type": "table"
           }
          ]
         },
         "layout": {
          "annotationdefaults": {
           "arrowcolor": "#2a3f5f",
           "arrowhead": 0,
           "arrowwidth": 1
          },
          "autotypenumbers": "strict",
          "coloraxis": {
           "colorbar": {
            "outlinewidth": 0,
            "ticks": ""
           }
          },
          "colorscale": {
           "diverging": [
            [
             0,
             "#8e0152"
            ],
            [
             0.1,
             "#c51b7d"
            ],
            [
             0.2,
             "#de77ae"
            ],
            [
             0.3,
             "#f1b6da"
            ],
            [
             0.4,
             "#fde0ef"
            ],
            [
             0.5,
             "#f7f7f7"
            ],
            [
             0.6,
             "#e6f5d0"
            ],
            [
             0.7,
             "#b8e186"
            ],
            [
             0.8,
             "#7fbc41"
            ],
            [
             0.9,
             "#4d9221"
            ],
            [
             1,
             "#276419"
            ]
           ],
           "sequential": [
            [
             0,
             "#0d0887"
            ],
            [
             0.1111111111111111,
             "#46039f"
            ],
            [
             0.2222222222222222,
             "#7201a8"
            ],
            [
             0.3333333333333333,
             "#9c179e"
            ],
            [
             0.4444444444444444,
             "#bd3786"
            ],
            [
             0.5555555555555556,
             "#d8576b"
            ],
            [
             0.6666666666666666,
             "#ed7953"
            ],
            [
             0.7777777777777778,
             "#fb9f3a"
            ],
            [
             0.8888888888888888,
             "#fdca26"
            ],
            [
             1,
             "#f0f921"
            ]
           ],
           "sequentialminus": [
            [
             0,
             "#0d0887"
            ],
            [
             0.1111111111111111,
             "#46039f"
            ],
            [
             0.2222222222222222,
             "#7201a8"
            ],
            [
             0.3333333333333333,
             "#9c179e"
            ],
            [
             0.4444444444444444,
             "#bd3786"
            ],
            [
             0.5555555555555556,
             "#d8576b"
            ],
            [
             0.6666666666666666,
             "#ed7953"
            ],
            [
             0.7777777777777778,
             "#fb9f3a"
            ],
            [
             0.8888888888888888,
             "#fdca26"
            ],
            [
             1,
             "#f0f921"
            ]
           ]
          },
          "colorway": [
           "#636efa",
           "#EF553B",
           "#00cc96",
           "#ab63fa",
           "#FFA15A",
           "#19d3f3",
           "#FF6692",
           "#B6E880",
           "#FF97FF",
           "#FECB52"
          ],
          "font": {
           "color": "#2a3f5f"
          },
          "geo": {
           "bgcolor": "white",
           "lakecolor": "white",
           "landcolor": "#E5ECF6",
           "showlakes": true,
           "showland": true,
           "subunitcolor": "white"
          },
          "hoverlabel": {
           "align": "left"
          },
          "hovermode": "closest",
          "mapbox": {
           "style": "light"
          },
          "paper_bgcolor": "white",
          "plot_bgcolor": "#E5ECF6",
          "polar": {
           "angularaxis": {
            "gridcolor": "white",
            "linecolor": "white",
            "ticks": ""
           },
           "bgcolor": "#E5ECF6",
           "radialaxis": {
            "gridcolor": "white",
            "linecolor": "white",
            "ticks": ""
           }
          },
          "scene": {
           "xaxis": {
            "backgroundcolor": "#E5ECF6",
            "gridcolor": "white",
            "gridwidth": 2,
            "linecolor": "white",
            "showbackground": true,
            "ticks": "",
            "zerolinecolor": "white"
           },
           "yaxis": {
            "backgroundcolor": "#E5ECF6",
            "gridcolor": "white",
            "gridwidth": 2,
            "linecolor": "white",
            "showbackground": true,
            "ticks": "",
            "zerolinecolor": "white"
           },
           "zaxis": {
            "backgroundcolor": "#E5ECF6",
            "gridcolor": "white",
            "gridwidth": 2,
            "linecolor": "white",
            "showbackground": true,
            "ticks": "",
            "zerolinecolor": "white"
           }
          },
          "shapedefaults": {
           "line": {
            "color": "#2a3f5f"
           }
          },
          "ternary": {
           "aaxis": {
            "gridcolor": "white",
            "linecolor": "white",
            "ticks": ""
           },
           "baxis": {
            "gridcolor": "white",
            "linecolor": "white",
            "ticks": ""
           },
           "bgcolor": "#E5ECF6",
           "caxis": {
            "gridcolor": "white",
            "linecolor": "white",
            "ticks": ""
           }
          },
          "title": {
           "x": 0.05
          },
          "xaxis": {
           "automargin": true,
           "gridcolor": "white",
           "linecolor": "white",
           "ticks": "",
           "title": {
            "standoff": 15
           },
           "zerolinecolor": "white",
           "zerolinewidth": 2
          },
          "yaxis": {
           "automargin": true,
           "gridcolor": "white",
           "linecolor": "white",
           "ticks": "",
           "title": {
            "standoff": 15
           },
           "zerolinecolor": "white",
           "zerolinewidth": 2
          }
         }
        },
        "title": {
         "text": "Manufacturer Class Focus"
        },
        "xaxis": {
         "anchor": "y",
         "domain": [
          0,
          1
         ],
         "minor": {
          "showgrid": true,
          "tickcolor": "black"
         },
         "tickangle": 45,
         "title": {
          "text": "Make/Manufacturer"
         }
        },
        "yaxis": {
         "anchor": "x",
         "domain": [
          0,
          1
         ],
         "title": {
          "text": "Number of Vehicles grouped by Class"
         }
        }
       }
      },
      "text/html": [
       "<div>                            <div id=\"42f4170f-1791-46d1-b039-0c3ee8026b8b\" class=\"plotly-graph-div\" style=\"height:525px; width:100%;\"></div>            <script type=\"text/javascript\">                require([\"plotly\"], function(Plotly) {                    window.PLOTLYENV=window.PLOTLYENV || {};                                    if (document.getElementById(\"42f4170f-1791-46d1-b039-0c3ee8026b8b\")) {                    Plotly.newPlot(                        \"42f4170f-1791-46d1-b039-0c3ee8026b8b\",                        [{\"alignmentgroup\":\"True\",\"hovertemplate\":\"color=COMPACT<br>x=%{x}<br>y=%{y}<extra></extra>\",\"legendgroup\":\"COMPACT\",\"marker\":{\"color\":\"#AA0DFE\",\"pattern\":{\"shape\":\"\"}},\"name\":\"COMPACT\",\"offsetgroup\":\"COMPACT\",\"orientation\":\"v\",\"showlegend\":true,\"textposition\":\"auto\",\"x\":[\"ACURA\",\"AUDI\",\"BENTLEY\",\"BMW\",\"BUICK\",\"CADILLAC\",\"CHEVROLET\",\"CHRYSLER\",\"DAEWOO\",\"DODGE\",\"FORD\",\"GENESIS\",\"HONDA\",\"HYUNDAI\",\"INFINITI\",\"JAGUAR\",\"KIA\",\"LEXUS\",\"MAZDA\",\"MERCEDES-BENZ\",\"MINI\",\"MITSUBISHI\",\"NISSAN\",\"OLDSMOBILE\",\"PONTIAC\",\"ROLLS-ROYCE\",\"SAAB\",\"SATURN\",\"SCION\",\"SUBARU\",\"SUZUKI\",\"TOYOTA\",\"VOLKSWAGEN\",\"VOLVO\"],\"xaxis\":\"x\",\"y\":[102.0,139.0,22.0,368.0,16.0,63.0,135.0,62.0,18.0,25.0,125.0,11.0,103.0,100.0,38.0,32.0,92.0,67.0,137.0,279.0,52.0,96.0,57.0,15.0,67.0,26.0,43.0,18.0,12.0,113.0,56.0,146.0,315.0,177.0],\"yaxis\":\"y\",\"type\":\"bar\"},{\"alignmentgroup\":\"True\",\"hovertemplate\":\"color=MID-SIZE<br>x=%{x}<br>y=%{y}<extra></extra>\",\"legendgroup\":\"MID-SIZE\",\"marker\":{\"color\":\"#3283FE\",\"pattern\":{\"shape\":\"\"}},\"name\":\"MID-SIZE\",\"offsetgroup\":\"MID-SIZE\",\"orientation\":\"v\",\"showlegend\":true,\"textposition\":\"auto\",\"x\":[\"ACURA\",\"ALFA ROMEO\",\"AUDI\",\"BENTLEY\",\"BMW\",\"BUICK\",\"CADILLAC\",\"CHEVROLET\",\"CHRYSLER\",\"DAEWOO\",\"DODGE\",\"FERRARI\",\"FORD\",\"HONDA\",\"HYUNDAI\",\"INFINITI\",\"JAGUAR\",\"KIA\",\"LEXUS\",\"LINCOLN\",\"MASERATI\",\"MAZDA\",\"MERCEDES-BENZ\",\"MINI\",\"MITSUBISHI\",\"NISSAN\",\"OLDSMOBILE\",\"PONTIAC\",\"ROLLS-ROYCE\",\"SAAB\",\"SATURN\",\"SCION\",\"SUBARU\",\"SUZUKI\",\"TOYOTA\",\"VOLKSWAGEN\",\"VOLVO\"],\"xaxis\":\"x\",\"y\":[55.0,18.0,144.0,45.0,151.0,107.0,160.0,150.0,95.0,4.0,178.0,19.0,117.0,101.0,102.0,92.0,69.0,108.0,151.0,68.0,27.0,131.0,120.0,57.0,18.0,196.0,8.0,29.0,21.0,41.0,25.0,2.0,41.0,3.0,178.0,77.0,52.0],\"yaxis\":\"y\",\"type\":\"bar\"},{\"alignmentgroup\":\"True\",\"hovertemplate\":\"color=SUBCOMPACT<br>x=%{x}<br>y=%{y}<extra></extra>\",\"legendgroup\":\"SUBCOMPACT\",\"marker\":{\"color\":\"#85660D\",\"pattern\":{\"shape\":\"\"}},\"name\":\"SUBCOMPACT\",\"offsetgroup\":\"SUBCOMPACT\",\"orientation\":\"v\",\"showlegend\":true,\"textposition\":\"auto\",\"x\":[\"ACURA\",\"ASTON MARTIN\",\"AUDI\",\"BENTLEY\",\"BMW\",\"CHEVROLET\",\"CHRYSLER\",\"DAEWOO\",\"DODGE\",\"FERRARI\",\"FORD\",\"HONDA\",\"HYUNDAI\",\"INFINITI\",\"JAGUAR\",\"JEEP\",\"KIA\",\"LEXUS\",\"MASERATI\",\"MAZDA\",\"MERCEDES-BENZ\",\"MINI\",\"MITSUBISHI\",\"NISSAN\",\"PLYMOUTH\",\"PONTIAC\",\"ROLLS-ROYCE\",\"SAAB\",\"SATURN\",\"SCION\",\"SUBARU\",\"SUZUKI\",\"TOYOTA\",\"VOLKSWAGEN\",\"VOLVO\"],\"xaxis\":\"x\",\"y\":[25.0,8.0,181.0,26.0,428.0,137.0,7.0,4.0,2.0,7.0,184.0,26.0,53.0,52.0,34.0,1.0,2.0,93.0,31.0,19.0,177.0,112.0,39.0,34.0,1.0,56.0,1.0,27.0,28.0,8.0,35.0,12.0,46.0,92.0,22.0],\"yaxis\":\"y\",\"type\":\"bar\"},{\"alignmentgroup\":\"True\",\"hovertemplate\":\"color=SUV<br>x=%{x}<br>y=%{y}<extra></extra>\",\"legendgroup\":\"SUV\",\"marker\":{\"color\":\"#782AB6\",\"pattern\":{\"shape\":\"\"}},\"name\":\"SUV\",\"offsetgroup\":\"SUV\",\"orientation\":\"v\",\"showlegend\":true,\"textposition\":\"auto\",\"x\":[\"ACURA\",\"AUDI\",\"BMW\",\"BUICK\",\"CADILLAC\",\"CHEVROLET\",\"CHRYSLER\",\"DODGE\",\"FORD\",\"GMC\",\"HONDA\",\"HUMMER\",\"HYUNDAI\",\"INFINITI\",\"ISUZU\",\"JEEP\",\"KIA\",\"LAND ROVER\",\"LEXUS\",\"LINCOLN\",\"MAZDA\",\"MERCEDES-BENZ\",\"MITSUBISHI\",\"NISSAN\",\"OLDSMOBILE\",\"PONTIAC\",\"PORSCHE\",\"SAAB\",\"SATURN\",\"SUBARU\",\"SUZUKI\",\"TOYOTA\",\"VOLKSWAGEN\",\"VOLVO\"],\"xaxis\":\"x\",\"y\":[20.0,25.0,85.0,34.0,60.0,360.0,51.0,92.0,175.0,285.0,72.0,14.0,88.0,32.0,14.0,201.0,80.0,63.0,50.0,24.0,74.0,90.0,56.0,87.0,3.0,22.0,43.0,11.0,49.0,101.0,61.0,135.0,28.0,55.0],\"yaxis\":\"y\",\"type\":\"bar\"},{\"alignmentgroup\":\"True\",\"hovertemplate\":\"color=SUV - SMALL<br>x=%{x}<br>y=%{y}<extra></extra>\",\"legendgroup\":\"SUV - SMALL\",\"marker\":{\"color\":\"#565656\",\"pattern\":{\"shape\":\"\"}},\"name\":\"SUV - SMALL\",\"offsetgroup\":\"SUV - SMALL\",\"orientation\":\"v\",\"showlegend\":true,\"textposition\":\"auto\",\"x\":[\"ACURA\",\"ALFA ROMEO\",\"AUDI\",\"BMW\",\"BUICK\",\"CADILLAC\",\"CHEVROLET\",\"DODGE\",\"FIAT\",\"FORD\",\"GENESIS\",\"GMC\",\"HONDA\",\"HYUNDAI\",\"INFINITI\",\"JAGUAR\",\"JEEP\",\"KIA\",\"LAND ROVER\",\"LEXUS\",\"LINCOLN\",\"MAZDA\",\"MERCEDES-BENZ\",\"MITSUBISHI\",\"NISSAN\",\"PORSCHE\",\"SUBARU\",\"SUZUKI\",\"TOYOTA\",\"VOLKSWAGEN\",\"VOLVO\"],\"xaxis\":\"x\",\"y\":[33.0,14.0,40.0,74.0,50.0,28.0,108.0,29.0,13.0,131.0,2.0,47.0,54.0,100.0,24.0,16.0,283.0,80.0,34.0,46.0,39.0,74.0,50.0,59.0,54.0,26.0,76.0,1.0,85.0,38.0,48.0],\"yaxis\":\"y\",\"type\":\"bar\"},{\"alignmentgroup\":\"True\",\"hovertemplate\":\"color=TWO-SEATER<br>x=%{x}<br>y=%{y}<extra></extra>\",\"legendgroup\":\"TWO-SEATER\",\"marker\":{\"color\":\"#1C8356\",\"pattern\":{\"shape\":\"\"}},\"name\":\"TWO-SEATER\",\"offsetgroup\":\"TWO-SEATER\",\"orientation\":\"v\",\"showlegend\":true,\"textposition\":\"auto\",\"x\":[\"ACURA\",\"ALFA ROMEO\",\"ASTON MARTIN\",\"AUDI\",\"BENTLEY\",\"BMW\",\"BUGATTI\",\"CADILLAC\",\"CHEVROLET\",\"CHRYSLER\",\"DODGE\",\"FERRARI\",\"FIAT\",\"FORD\",\"HONDA\",\"JAGUAR\",\"LAMBORGHINI\",\"LEXUS\",\"MASERATI\",\"MAZDA\",\"MERCEDES-BENZ\",\"MINI\",\"NISSAN\",\"PLYMOUTH\",\"PONTIAC\",\"PORSCHE\",\"SATURN\",\"SMART\",\"SRT\",\"TOYOTA\"],\"xaxis\":\"x\",\"y\":[12.0,10.0,48.0,96.0,6.0,83.0,12.0,9.0,66.0,24.0,18.0,47.0,8.0,13.0,27.0,88.0,107.0,1.0,10.0,57.0,175.0,46.0,67.0,1.0,13.0,225.0,12.0,22.0,4.0,5.0],\"yaxis\":\"y\",\"type\":\"bar\"},{\"alignmentgroup\":\"True\",\"hovertemplate\":\"color=MINICOMPACT<br>x=%{x}<br>y=%{y}<extra></extra>\",\"legendgroup\":\"MINICOMPACT\",\"marker\":{\"color\":\"#16FF32\",\"pattern\":{\"shape\":\"\"}},\"name\":\"MINICOMPACT\",\"offsetgroup\":\"MINICOMPACT\",\"orientation\":\"v\",\"showlegend\":true,\"textposition\":\"auto\",\"x\":[\"ASTON MARTIN\",\"AUDI\",\"BENTLEY\",\"BMW\",\"FIAT\",\"JAGUAR\",\"LEXUS\",\"MERCEDES-BENZ\",\"MINI\",\"MITSUBISHI\",\"PORSCHE\",\"SCION\",\"SUBARU\",\"TOYOTA\",\"VOLKSWAGEN\"],\"xaxis\":\"x\",\"y\":[48.0,16.0,4.0,39.0,52.0,53.0,11.0,8.0,135.0,32.0,534.0,12.0,20.0,10.0,20.0],\"yaxis\":\"y\",\"type\":\"bar\"},{\"alignmentgroup\":\"True\",\"hovertemplate\":\"color=SUV - STANDARD<br>x=%{x}<br>y=%{y}<extra></extra>\",\"legendgroup\":\"SUV - STANDARD\",\"marker\":{\"color\":\"#F7E1A0\",\"pattern\":{\"shape\":\"\"}},\"name\":\"SUV - STANDARD\",\"offsetgroup\":\"SUV - STANDARD\",\"orientation\":\"v\",\"showlegend\":true,\"textposition\":\"auto\",\"x\":[\"ASTON MARTIN\",\"AUDI\",\"BENTLEY\",\"BMW\",\"BUICK\",\"CADILLAC\",\"CHEVROLET\",\"DODGE\",\"FORD\",\"GENESIS\",\"GMC\",\"HONDA\",\"HYUNDAI\",\"INFINITI\",\"JEEP\",\"LAMBORGHINI\",\"LAND ROVER\",\"LEXUS\",\"LINCOLN\",\"MASERATI\",\"MERCEDES-BENZ\",\"NISSAN\",\"PORSCHE\",\"SUBARU\",\"TOYOTA\",\"VOLKSWAGEN\",\"VOLVO\"],\"xaxis\":\"x\",\"y\":[2.0,29.0,9.0,81.0,22.0,34.0,146.0,29.0,100.0,4.0,177.0,1.0,5.0,15.0,49.0,4.0,77.0,31.0,24.0,20.0,113.0,11.0,51.0,4.0,59.0,7.0,18.0],\"yaxis\":\"y\",\"type\":\"bar\"},{\"alignmentgroup\":\"True\",\"hovertemplate\":\"color=FULL-SIZE<br>x=%{x}<br>y=%{y}<extra></extra>\",\"legendgroup\":\"FULL-SIZE\",\"marker\":{\"color\":\"#E2E2E2\",\"pattern\":{\"shape\":\"\"}},\"name\":\"FULL-SIZE\",\"offsetgroup\":\"FULL-SIZE\",\"orientation\":\"v\",\"showlegend\":true,\"textposition\":\"auto\",\"x\":[\"AUDI\",\"BENTLEY\",\"BMW\",\"BUICK\",\"CADILLAC\",\"CHEVROLET\",\"CHRYSLER\",\"DODGE\",\"FORD\",\"GENESIS\",\"HONDA\",\"HYUNDAI\",\"INFINITI\",\"JAGUAR\",\"KIA\",\"LEXUS\",\"LINCOLN\",\"MASERATI\",\"MERCEDES-BENZ\",\"PONTIAC\",\"PORSCHE\",\"ROLLS-ROYCE\",\"SAAB\",\"SUBARU\",\"TOYOTA\",\"VOLKSWAGEN\"],\"xaxis\":\"x\",\"y\":[43.0,6.0,116.0,36.0,47.0,73.0,141.0,167.0,97.0,25.0,70.0,99.0,19.0,64.0,61.0,9.0,55.0,37.0,136.0,13.0,109.0,51.0,3.0,6.0,12.0,8.0],\"yaxis\":\"y\",\"type\":\"bar\"},{\"alignmentgroup\":\"True\",\"hovertemplate\":\"color=STATION WAGON - MID-SIZE<br>x=%{x}<br>y=%{y}<extra></extra>\",\"legendgroup\":\"STATION WAGON - MID-SIZE\",\"marker\":{\"color\":\"#1CBE4F\",\"pattern\":{\"shape\":\"\"}},\"name\":\"STATION WAGON - MID-SIZE\",\"offsetgroup\":\"STATION WAGON - MID-SIZE\",\"orientation\":\"v\",\"showlegend\":true,\"textposition\":\"auto\",\"x\":[\"AUDI\",\"BMW\",\"FORD\",\"KIA\",\"LEXUS\",\"MAZDA\",\"MERCEDES-BENZ\",\"NISSAN\",\"ROLLS-ROYCE\",\"SAAB\",\"SATURN\",\"SUBARU\",\"TOYOTA\",\"VOLKSWAGEN\",\"VOLVO\"],\"xaxis\":\"x\",\"y\":[17.0,10.0,38.0,19.0,1.0,10.0,51.0,15.0,7.0,37.0,12.0,42.0,7.0,49.0,72.0],\"yaxis\":\"y\",\"type\":\"bar\"},{\"alignmentgroup\":\"True\",\"hovertemplate\":\"color=STATION WAGON - SMALL<br>x=%{x}<br>y=%{y}<extra></extra>\",\"legendgroup\":\"STATION WAGON - SMALL\",\"marker\":{\"color\":\"#C4451C\",\"pattern\":{\"shape\":\"\"}},\"name\":\"STATION WAGON - SMALL\",\"offsetgroup\":\"STATION WAGON - SMALL\",\"orientation\":\"v\",\"showlegend\":true,\"textposition\":\"auto\",\"x\":[\"AUDI\",\"BMW\",\"CADILLAC\",\"CHEVROLET\",\"DAEWOO\",\"FIAT\",\"HONDA\",\"HYUNDAI\",\"INFINITI\",\"JAGUAR\",\"KIA\",\"MERCEDES-BENZ\",\"MINI\",\"MITSUBISHI\",\"NISSAN\",\"PONTIAC\",\"SAAB\",\"SATURN\",\"SCION\",\"SUBARU\",\"SUZUKI\",\"TOYOTA\",\"VOLKSWAGEN\",\"VOLVO\"],\"xaxis\":\"x\",\"y\":[75.0,55.0,28.0,20.0,8.0,12.0,58.0,10.0,8.0,8.0,62.0,59.0,4.0,22.0,56.0,32.0,28.0,4.0,10.0,82.0,61.0,48.0,56.0,71.0],\"yaxis\":\"y\",\"type\":\"bar\"},{\"alignmentgroup\":\"True\",\"hovertemplate\":\"color=MINIVAN<br>x=%{x}<br>y=%{y}<extra></extra>\",\"legendgroup\":\"MINIVAN\",\"marker\":{\"color\":\"#DEA0FD\",\"pattern\":{\"shape\":\"\"}},\"name\":\"MINIVAN\",\"offsetgroup\":\"MINIVAN\",\"orientation\":\"v\",\"showlegend\":true,\"textposition\":\"auto\",\"x\":[\"BUICK\",\"CHEVROLET\",\"CHRYSLER\",\"DODGE\",\"FORD\",\"HONDA\",\"HYUNDAI\",\"KIA\",\"MAZDA\",\"NISSAN\",\"OLDSMOBILE\",\"PONTIAC\",\"RAM\",\"SATURN\",\"TOYOTA\",\"VOLKSWAGEN\"],\"xaxis\":\"x\",\"y\":[8.0,21.0,45.0,121.0,9.0,34.0,3.0,28.0,25.0,15.0,8.0,21.0,8.0,8.0,43.0,11.0],\"yaxis\":\"y\",\"type\":\"bar\"},{\"alignmentgroup\":\"True\",\"hovertemplate\":\"color=PICKUP TRUCK - STANDARD<br>x=%{x}<br>y=%{y}<extra></extra>\",\"legendgroup\":\"PICKUP TRUCK - STANDARD\",\"marker\":{\"color\":\"#FE00FA\",\"pattern\":{\"shape\":\"\"}},\"name\":\"PICKUP TRUCK - STANDARD\",\"offsetgroup\":\"PICKUP TRUCK - STANDARD\",\"orientation\":\"v\",\"showlegend\":true,\"textposition\":\"auto\",\"x\":[\"CADILLAC\",\"CHEVROLET\",\"DODGE\",\"FORD\",\"GMC\",\"HONDA\",\"HUMMER\",\"ISUZU\",\"JEEP\",\"LINCOLN\",\"MAZDA\",\"NISSAN\",\"RAM\",\"TOYOTA\"],\"xaxis\":\"x\",\"y\":[5.0,513.0,223.0,525.0,464.0,15.0,7.0,1.0,10.0,4.0,58.0,102.0,137.0,140.0],\"yaxis\":\"y\",\"type\":\"bar\"},{\"alignmentgroup\":\"True\",\"hovertemplate\":\"color=PICKUP TRUCK - SMALL<br>x=%{x}<br>y=%{y}<extra></extra>\",\"legendgroup\":\"PICKUP TRUCK - SMALL\",\"marker\":{\"color\":\"#325A9B\",\"pattern\":{\"shape\":\"\"}},\"name\":\"PICKUP TRUCK - SMALL\",\"offsetgroup\":\"PICKUP TRUCK - SMALL\",\"orientation\":\"v\",\"showlegend\":true,\"textposition\":\"auto\",\"x\":[\"CHEVROLET\",\"FORD\",\"GMC\",\"HYUNDAI\",\"ISUZU\",\"MAZDA\",\"NISSAN\",\"SUZUKI\",\"TOYOTA\"],\"xaxis\":\"x\",\"y\":[160.0,30.0,147.0,1.0,3.0,17.0,61.0,5.0,87.0],\"yaxis\":\"y\",\"type\":\"bar\"},{\"alignmentgroup\":\"True\",\"hovertemplate\":\"color=SPECIAL PURPOSE VEHICLE<br>x=%{x}<br>y=%{y}<extra></extra>\",\"legendgroup\":\"SPECIAL PURPOSE VEHICLE\",\"marker\":{\"color\":\"#FEAF16\",\"pattern\":{\"shape\":\"\"}},\"name\":\"SPECIAL PURPOSE VEHICLE\",\"offsetgroup\":\"SPECIAL PURPOSE VEHICLE\",\"orientation\":\"v\",\"showlegend\":true,\"textposition\":\"auto\",\"x\":[\"CHEVROLET\",\"FORD\",\"LINCOLN\",\"MERCEDES-BENZ\",\"NISSAN\",\"RAM\"],\"xaxis\":\"x\",\"y\":[4.0,64.0,11.0,18.0,9.0,8.0],\"yaxis\":\"y\",\"type\":\"bar\"},{\"alignmentgroup\":\"True\",\"hovertemplate\":\"color=VAN - CARGO<br>x=%{x}<br>y=%{y}<extra></extra>\",\"legendgroup\":\"VAN - CARGO\",\"marker\":{\"color\":\"#F8A19F\",\"pattern\":{\"shape\":\"\"}},\"name\":\"VAN - CARGO\",\"offsetgroup\":\"VAN - CARGO\",\"orientation\":\"v\",\"showlegend\":true,\"textposition\":\"auto\",\"x\":[\"CHEVROLET\",\"DODGE\",\"FORD\",\"GMC\"],\"xaxis\":\"x\",\"y\":[127.0,27.0,52.0,126.0],\"yaxis\":\"y\",\"type\":\"bar\"},{\"alignmentgroup\":\"True\",\"hovertemplate\":\"color=VAN - PASSENGER<br>x=%{x}<br>y=%{y}<extra></extra>\",\"legendgroup\":\"VAN - PASSENGER\",\"marker\":{\"color\":\"#90AD1C\",\"pattern\":{\"shape\":\"\"}},\"name\":\"VAN - PASSENGER\",\"offsetgroup\":\"VAN - PASSENGER\",\"orientation\":\"v\",\"showlegend\":true,\"textposition\":\"auto\",\"x\":[\"CHEVROLET\",\"DODGE\",\"FORD\",\"GMC\"],\"xaxis\":\"x\",\"y\":[110.0,14.0,64.0,111.0],\"yaxis\":\"y\",\"type\":\"bar\"}],                        {\"template\":{\"data\":{\"histogram2dcontour\":[{\"type\":\"histogram2dcontour\",\"colorbar\":{\"outlinewidth\":0,\"ticks\":\"\"},\"colorscale\":[[0.0,\"#0d0887\"],[0.1111111111111111,\"#46039f\"],[0.2222222222222222,\"#7201a8\"],[0.3333333333333333,\"#9c179e\"],[0.4444444444444444,\"#bd3786\"],[0.5555555555555556,\"#d8576b\"],[0.6666666666666666,\"#ed7953\"],[0.7777777777777778,\"#fb9f3a\"],[0.8888888888888888,\"#fdca26\"],[1.0,\"#f0f921\"]]}],\"choropleth\":[{\"type\":\"choropleth\",\"colorbar\":{\"outlinewidth\":0,\"ticks\":\"\"}}],\"histogram2d\":[{\"type\":\"histogram2d\",\"colorbar\":{\"outlinewidth\":0,\"ticks\":\"\"},\"colorscale\":[[0.0,\"#0d0887\"],[0.1111111111111111,\"#46039f\"],[0.2222222222222222,\"#7201a8\"],[0.3333333333333333,\"#9c179e\"],[0.4444444444444444,\"#bd3786\"],[0.5555555555555556,\"#d8576b\"],[0.6666666666666666,\"#ed7953\"],[0.7777777777777778,\"#fb9f3a\"],[0.8888888888888888,\"#fdca26\"],[1.0,\"#f0f921\"]]}],\"heatmap\":[{\"type\":\"heatmap\",\"colorbar\":{\"outlinewidth\":0,\"ticks\":\"\"},\"colorscale\":[[0.0,\"#0d0887\"],[0.1111111111111111,\"#46039f\"],[0.2222222222222222,\"#7201a8\"],[0.3333333333333333,\"#9c179e\"],[0.4444444444444444,\"#bd3786\"],[0.5555555555555556,\"#d8576b\"],[0.6666666666666666,\"#ed7953\"],[0.7777777777777778,\"#fb9f3a\"],[0.8888888888888888,\"#fdca26\"],[1.0,\"#f0f921\"]]}],\"heatmapgl\":[{\"type\":\"heatmapgl\",\"colorbar\":{\"outlinewidth\":0,\"ticks\":\"\"},\"colorscale\":[[0.0,\"#0d0887\"],[0.1111111111111111,\"#46039f\"],[0.2222222222222222,\"#7201a8\"],[0.3333333333333333,\"#9c179e\"],[0.4444444444444444,\"#bd3786\"],[0.5555555555555556,\"#d8576b\"],[0.6666666666666666,\"#ed7953\"],[0.7777777777777778,\"#fb9f3a\"],[0.8888888888888888,\"#fdca26\"],[1.0,\"#f0f921\"]]}],\"contourcarpet\":[{\"type\":\"contourcarpet\",\"colorbar\":{\"outlinewidth\":0,\"ticks\":\"\"}}],\"contour\":[{\"type\":\"contour\",\"colorbar\":{\"outlinewidth\":0,\"ticks\":\"\"},\"colorscale\":[[0.0,\"#0d0887\"],[0.1111111111111111,\"#46039f\"],[0.2222222222222222,\"#7201a8\"],[0.3333333333333333,\"#9c179e\"],[0.4444444444444444,\"#bd3786\"],[0.5555555555555556,\"#d8576b\"],[0.6666666666666666,\"#ed7953\"],[0.7777777777777778,\"#fb9f3a\"],[0.8888888888888888,\"#fdca26\"],[1.0,\"#f0f921\"]]}],\"surface\":[{\"type\":\"surface\",\"colorbar\":{\"outlinewidth\":0,\"ticks\":\"\"},\"colorscale\":[[0.0,\"#0d0887\"],[0.1111111111111111,\"#46039f\"],[0.2222222222222222,\"#7201a8\"],[0.3333333333333333,\"#9c179e\"],[0.4444444444444444,\"#bd3786\"],[0.5555555555555556,\"#d8576b\"],[0.6666666666666666,\"#ed7953\"],[0.7777777777777778,\"#fb9f3a\"],[0.8888888888888888,\"#fdca26\"],[1.0,\"#f0f921\"]]}],\"mesh3d\":[{\"type\":\"mesh3d\",\"colorbar\":{\"outlinewidth\":0,\"ticks\":\"\"}}],\"scatter\":[{\"fillpattern\":{\"fillmode\":\"overlay\",\"size\":10,\"solidity\":0.2},\"type\":\"scatter\"}],\"parcoords\":[{\"type\":\"parcoords\",\"line\":{\"colorbar\":{\"outlinewidth\":0,\"ticks\":\"\"}}}],\"scatterpolargl\":[{\"type\":\"scatterpolargl\",\"marker\":{\"colorbar\":{\"outlinewidth\":0,\"ticks\":\"\"}}}],\"bar\":[{\"error_x\":{\"color\":\"#2a3f5f\"},\"error_y\":{\"color\":\"#2a3f5f\"},\"marker\":{\"line\":{\"color\":\"#E5ECF6\",\"width\":0.5},\"pattern\":{\"fillmode\":\"overlay\",\"size\":10,\"solidity\":0.2}},\"type\":\"bar\"}],\"scattergeo\":[{\"type\":\"scattergeo\",\"marker\":{\"colorbar\":{\"outlinewidth\":0,\"ticks\":\"\"}}}],\"scatterpolar\":[{\"type\":\"scatterpolar\",\"marker\":{\"colorbar\":{\"outlinewidth\":0,\"ticks\":\"\"}}}],\"histogram\":[{\"marker\":{\"pattern\":{\"fillmode\":\"overlay\",\"size\":10,\"solidity\":0.2}},\"type\":\"histogram\"}],\"scattergl\":[{\"type\":\"scattergl\",\"marker\":{\"colorbar\":{\"outlinewidth\":0,\"ticks\":\"\"}}}],\"scatter3d\":[{\"type\":\"scatter3d\",\"line\":{\"colorbar\":{\"outlinewidth\":0,\"ticks\":\"\"}},\"marker\":{\"colorbar\":{\"outlinewidth\":0,\"ticks\":\"\"}}}],\"scattermapbox\":[{\"type\":\"scattermapbox\",\"marker\":{\"colorbar\":{\"outlinewidth\":0,\"ticks\":\"\"}}}],\"scatterternary\":[{\"type\":\"scatterternary\",\"marker\":{\"colorbar\":{\"outlinewidth\":0,\"ticks\":\"\"}}}],\"scattercarpet\":[{\"type\":\"scattercarpet\",\"marker\":{\"colorbar\":{\"outlinewidth\":0,\"ticks\":\"\"}}}],\"carpet\":[{\"aaxis\":{\"endlinecolor\":\"#2a3f5f\",\"gridcolor\":\"white\",\"linecolor\":\"white\",\"minorgridcolor\":\"white\",\"startlinecolor\":\"#2a3f5f\"},\"baxis\":{\"endlinecolor\":\"#2a3f5f\",\"gridcolor\":\"white\",\"linecolor\":\"white\",\"minorgridcolor\":\"white\",\"startlinecolor\":\"#2a3f5f\"},\"type\":\"carpet\"}],\"table\":[{\"cells\":{\"fill\":{\"color\":\"#EBF0F8\"},\"line\":{\"color\":\"white\"}},\"header\":{\"fill\":{\"color\":\"#C8D4E3\"},\"line\":{\"color\":\"white\"}},\"type\":\"table\"}],\"barpolar\":[{\"marker\":{\"line\":{\"color\":\"#E5ECF6\",\"width\":0.5},\"pattern\":{\"fillmode\":\"overlay\",\"size\":10,\"solidity\":0.2}},\"type\":\"barpolar\"}],\"pie\":[{\"automargin\":true,\"type\":\"pie\"}]},\"layout\":{\"autotypenumbers\":\"strict\",\"colorway\":[\"#636efa\",\"#EF553B\",\"#00cc96\",\"#ab63fa\",\"#FFA15A\",\"#19d3f3\",\"#FF6692\",\"#B6E880\",\"#FF97FF\",\"#FECB52\"],\"font\":{\"color\":\"#2a3f5f\"},\"hovermode\":\"closest\",\"hoverlabel\":{\"align\":\"left\"},\"paper_bgcolor\":\"white\",\"plot_bgcolor\":\"#E5ECF6\",\"polar\":{\"bgcolor\":\"#E5ECF6\",\"angularaxis\":{\"gridcolor\":\"white\",\"linecolor\":\"white\",\"ticks\":\"\"},\"radialaxis\":{\"gridcolor\":\"white\",\"linecolor\":\"white\",\"ticks\":\"\"}},\"ternary\":{\"bgcolor\":\"#E5ECF6\",\"aaxis\":{\"gridcolor\":\"white\",\"linecolor\":\"white\",\"ticks\":\"\"},\"baxis\":{\"gridcolor\":\"white\",\"linecolor\":\"white\",\"ticks\":\"\"},\"caxis\":{\"gridcolor\":\"white\",\"linecolor\":\"white\",\"ticks\":\"\"}},\"coloraxis\":{\"colorbar\":{\"outlinewidth\":0,\"ticks\":\"\"}},\"colorscale\":{\"sequential\":[[0.0,\"#0d0887\"],[0.1111111111111111,\"#46039f\"],[0.2222222222222222,\"#7201a8\"],[0.3333333333333333,\"#9c179e\"],[0.4444444444444444,\"#bd3786\"],[0.5555555555555556,\"#d8576b\"],[0.6666666666666666,\"#ed7953\"],[0.7777777777777778,\"#fb9f3a\"],[0.8888888888888888,\"#fdca26\"],[1.0,\"#f0f921\"]],\"sequentialminus\":[[0.0,\"#0d0887\"],[0.1111111111111111,\"#46039f\"],[0.2222222222222222,\"#7201a8\"],[0.3333333333333333,\"#9c179e\"],[0.4444444444444444,\"#bd3786\"],[0.5555555555555556,\"#d8576b\"],[0.6666666666666666,\"#ed7953\"],[0.7777777777777778,\"#fb9f3a\"],[0.8888888888888888,\"#fdca26\"],[1.0,\"#f0f921\"]],\"diverging\":[[0,\"#8e0152\"],[0.1,\"#c51b7d\"],[0.2,\"#de77ae\"],[0.3,\"#f1b6da\"],[0.4,\"#fde0ef\"],[0.5,\"#f7f7f7\"],[0.6,\"#e6f5d0\"],[0.7,\"#b8e186\"],[0.8,\"#7fbc41\"],[0.9,\"#4d9221\"],[1,\"#276419\"]]},\"xaxis\":{\"gridcolor\":\"white\",\"linecolor\":\"white\",\"ticks\":\"\",\"title\":{\"standoff\":15},\"zerolinecolor\":\"white\",\"automargin\":true,\"zerolinewidth\":2},\"yaxis\":{\"gridcolor\":\"white\",\"linecolor\":\"white\",\"ticks\":\"\",\"title\":{\"standoff\":15},\"zerolinecolor\":\"white\",\"automargin\":true,\"zerolinewidth\":2},\"scene\":{\"xaxis\":{\"backgroundcolor\":\"#E5ECF6\",\"gridcolor\":\"white\",\"linecolor\":\"white\",\"showbackground\":true,\"ticks\":\"\",\"zerolinecolor\":\"white\",\"gridwidth\":2},\"yaxis\":{\"backgroundcolor\":\"#E5ECF6\",\"gridcolor\":\"white\",\"linecolor\":\"white\",\"showbackground\":true,\"ticks\":\"\",\"zerolinecolor\":\"white\",\"gridwidth\":2},\"zaxis\":{\"backgroundcolor\":\"#E5ECF6\",\"gridcolor\":\"white\",\"linecolor\":\"white\",\"showbackground\":true,\"ticks\":\"\",\"zerolinecolor\":\"white\",\"gridwidth\":2}},\"shapedefaults\":{\"line\":{\"color\":\"#2a3f5f\"}},\"annotationdefaults\":{\"arrowcolor\":\"#2a3f5f\",\"arrowhead\":0,\"arrowwidth\":1},\"geo\":{\"bgcolor\":\"white\",\"landcolor\":\"#E5ECF6\",\"subunitcolor\":\"white\",\"showland\":true,\"showlakes\":true,\"lakecolor\":\"white\"},\"title\":{\"x\":0.05},\"mapbox\":{\"style\":\"light\"}}},\"xaxis\":{\"anchor\":\"y\",\"domain\":[0.0,1.0],\"title\":{\"text\":\"Make/Manufacturer\"},\"minor\":{\"tickcolor\":\"black\",\"showgrid\":true},\"tickangle\":45},\"yaxis\":{\"anchor\":\"x\",\"domain\":[0.0,1.0],\"title\":{\"text\":\"Number of Vehicles grouped by Class\"}},\"legend\":{\"title\":{\"text\":\"color\"},\"tracegroupgap\":0},\"title\":{\"text\":\"Manufacturer Class Focus\"},\"barmode\":\"relative\"},                        {\"responsive\": true}                    ).then(function(){\n",
       "                            \n",
       "var gd = document.getElementById('42f4170f-1791-46d1-b039-0c3ee8026b8b');\n",
       "var x = new MutationObserver(function (mutations, observer) {{\n",
       "        var display = window.getComputedStyle(gd).display;\n",
       "        if (!display || display === 'none') {{\n",
       "            console.log([gd, 'removed!']);\n",
       "            Plotly.purge(gd);\n",
       "            observer.disconnect();\n",
       "        }}\n",
       "}});\n",
       "\n",
       "// Listen for the removal of the full notebook cells\n",
       "var notebookContainer = gd.closest('#notebook-container');\n",
       "if (notebookContainer) {{\n",
       "    x.observe(notebookContainer, {childList: true});\n",
       "}}\n",
       "\n",
       "// Listen for the clearing of the current output cell\n",
       "var outputEl = gd.closest('.output');\n",
       "if (outputEl) {{\n",
       "    x.observe(outputEl, {childList: true});\n",
       "}}\n",
       "\n",
       "                        })                };                });            </script>        </div>"
      ]
     },
     "metadata": {},
     "output_type": "display_data"
    }
   ],
   "source": [
    "Make = [x[0] for x in data_by_make.index]\n",
    "Count = data_by_make['ID']['count'].values.tolist()\n",
    "VehicleClass = [x[1] for x in data_by_make.index]\n",
    "\n",
    "fig = px.bar(x=Make, \n",
    "             y=Count, \n",
    "             color=VehicleClass, \n",
    "             color_discrete_sequence=px.colors.qualitative.Alphabet,\n",
    "             title=\"Manufacturer Class Focus\")\n",
    "\n",
    "fig.update_layout(xaxis_title='Make/Manufacturer',\n",
    "                  yaxis_title='Number of Vehicles grouped by Class',\n",
    "                  )                \n",
    "fig.update_xaxes(tickangle=45,minor=dict(tickcolor=\"black\", showgrid=True))    \n",
    "    \n",
    "fig.show()"
   ]
  },
  {
   "cell_type": "code",
   "execution_count": 20,
   "id": "ce80ccbb",
   "metadata": {},
   "outputs": [
    {
     "data": {
      "application/vnd.plotly.v1+json": {
       "config": {
        "plotlyServerURL": "https://plot.ly"
       },
       "data": [
        {
         "alignmentgroup": "True",
         "hovertemplate": "<b>Class: %{x}</b><br>Count: %{y}</br>Make: %{text}<br>",
         "legendgroup": "ACURA",
         "marker": {
          "color": "#AA0DFE",
          "pattern": {
           "shape": ""
          }
         },
         "name": "ACURA",
         "offsetgroup": "ACURA",
         "orientation": "v",
         "showlegend": true,
         "text": [
          "ACURA",
          "ACURA",
          "ACURA",
          "ACURA",
          "ACURA",
          "ACURA"
         ],
         "textposition": "auto",
         "type": "bar",
         "x": [
          "COMPACT",
          "MID-SIZE",
          "SUBCOMPACT",
          "SUV",
          "SUV - SMALL",
          "TWO-SEATER"
         ],
         "xaxis": "x",
         "y": [
          102,
          55,
          25,
          20,
          33,
          12
         ],
         "yaxis": "y"
        },
        {
         "alignmentgroup": "True",
         "hovertemplate": "<b>Class: %{x}</b><br>Count: %{y}</br>Make: %{text}<br>",
         "legendgroup": "ALFA ROMEO",
         "marker": {
          "color": "#3283FE",
          "pattern": {
           "shape": ""
          }
         },
         "name": "ALFA ROMEO",
         "offsetgroup": "ALFA ROMEO",
         "orientation": "v",
         "showlegend": true,
         "text": [
          "ALFA ROMEO",
          "ALFA ROMEO",
          "ALFA ROMEO"
         ],
         "textposition": "auto",
         "type": "bar",
         "x": [
          "MID-SIZE",
          "SUV - SMALL",
          "TWO-SEATER"
         ],
         "xaxis": "x",
         "y": [
          18,
          14,
          10
         ],
         "yaxis": "y"
        },
        {
         "alignmentgroup": "True",
         "hovertemplate": "<b>Class: %{x}</b><br>Count: %{y}</br>Make: %{text}<br>",
         "legendgroup": "ASTON MARTIN",
         "marker": {
          "color": "#85660D",
          "pattern": {
           "shape": ""
          }
         },
         "name": "ASTON MARTIN",
         "offsetgroup": "ASTON MARTIN",
         "orientation": "v",
         "showlegend": true,
         "text": [
          "ASTON MARTIN",
          "ASTON MARTIN",
          "ASTON MARTIN",
          "ASTON MARTIN"
         ],
         "textposition": "auto",
         "type": "bar",
         "x": [
          "MINICOMPACT",
          "SUBCOMPACT",
          "SUV - STANDARD",
          "TWO-SEATER"
         ],
         "xaxis": "x",
         "y": [
          48,
          8,
          2,
          48
         ],
         "yaxis": "y"
        },
        {
         "alignmentgroup": "True",
         "hovertemplate": "<b>Class: %{x}</b><br>Count: %{y}</br>Make: %{text}<br>",
         "legendgroup": "AUDI",
         "marker": {
          "color": "#782AB6",
          "pattern": {
           "shape": ""
          }
         },
         "name": "AUDI",
         "offsetgroup": "AUDI",
         "orientation": "v",
         "showlegend": true,
         "text": [
          "AUDI",
          "AUDI",
          "AUDI",
          "AUDI",
          "AUDI",
          "AUDI",
          "AUDI",
          "AUDI",
          "AUDI",
          "AUDI",
          "AUDI"
         ],
         "textposition": "auto",
         "type": "bar",
         "x": [
          "COMPACT",
          "FULL-SIZE",
          "MID-SIZE",
          "MINICOMPACT",
          "STATION WAGON - MID-SIZE",
          "STATION WAGON - SMALL",
          "SUBCOMPACT",
          "SUV",
          "SUV - SMALL",
          "SUV - STANDARD",
          "TWO-SEATER"
         ],
         "xaxis": "x",
         "y": [
          139,
          43,
          144,
          16,
          17,
          75,
          181,
          25,
          40,
          29,
          96
         ],
         "yaxis": "y"
        },
        {
         "alignmentgroup": "True",
         "hovertemplate": "<b>Class: %{x}</b><br>Count: %{y}</br>Make: %{text}<br>",
         "legendgroup": "BENTLEY",
         "marker": {
          "color": "#565656",
          "pattern": {
           "shape": ""
          }
         },
         "name": "BENTLEY",
         "offsetgroup": "BENTLEY",
         "orientation": "v",
         "showlegend": true,
         "text": [
          "BENTLEY",
          "BENTLEY",
          "BENTLEY",
          "BENTLEY",
          "BENTLEY",
          "BENTLEY",
          "BENTLEY"
         ],
         "textposition": "auto",
         "type": "bar",
         "x": [
          "COMPACT",
          "FULL-SIZE",
          "MID-SIZE",
          "MINICOMPACT",
          "SUBCOMPACT",
          "SUV - STANDARD",
          "TWO-SEATER"
         ],
         "xaxis": "x",
         "y": [
          22,
          6,
          45,
          4,
          26,
          9,
          6
         ],
         "yaxis": "y"
        },
        {
         "alignmentgroup": "True",
         "hovertemplate": "<b>Class: %{x}</b><br>Count: %{y}</br>Make: %{text}<br>",
         "legendgroup": "BMW",
         "marker": {
          "color": "#1C8356",
          "pattern": {
           "shape": ""
          }
         },
         "name": "BMW",
         "offsetgroup": "BMW",
         "orientation": "v",
         "showlegend": true,
         "text": [
          "BMW",
          "BMW",
          "BMW",
          "BMW",
          "BMW",
          "BMW",
          "BMW",
          "BMW",
          "BMW",
          "BMW",
          "BMW"
         ],
         "textposition": "auto",
         "type": "bar",
         "x": [
          "COMPACT",
          "FULL-SIZE",
          "MID-SIZE",
          "MINICOMPACT",
          "STATION WAGON - MID-SIZE",
          "STATION WAGON - SMALL",
          "SUBCOMPACT",
          "SUV",
          "SUV - SMALL",
          "SUV - STANDARD",
          "TWO-SEATER"
         ],
         "xaxis": "x",
         "y": [
          368,
          116,
          151,
          39,
          10,
          55,
          428,
          85,
          74,
          81,
          83
         ],
         "yaxis": "y"
        },
        {
         "alignmentgroup": "True",
         "hovertemplate": "<b>Class: %{x}</b><br>Count: %{y}</br>Make: %{text}<br>",
         "legendgroup": "BUGATTI",
         "marker": {
          "color": "#16FF32",
          "pattern": {
           "shape": ""
          }
         },
         "name": "BUGATTI",
         "offsetgroup": "BUGATTI",
         "orientation": "v",
         "showlegend": true,
         "text": [
          "BUGATTI"
         ],
         "textposition": "auto",
         "type": "bar",
         "x": [
          "TWO-SEATER"
         ],
         "xaxis": "x",
         "y": [
          12
         ],
         "yaxis": "y"
        },
        {
         "alignmentgroup": "True",
         "hovertemplate": "<b>Class: %{x}</b><br>Count: %{y}</br>Make: %{text}<br>",
         "legendgroup": "BUICK",
         "marker": {
          "color": "#F7E1A0",
          "pattern": {
           "shape": ""
          }
         },
         "name": "BUICK",
         "offsetgroup": "BUICK",
         "orientation": "v",
         "showlegend": true,
         "text": [
          "BUICK",
          "BUICK",
          "BUICK",
          "BUICK",
          "BUICK",
          "BUICK",
          "BUICK"
         ],
         "textposition": "auto",
         "type": "bar",
         "x": [
          "COMPACT",
          "FULL-SIZE",
          "MID-SIZE",
          "MINIVAN",
          "SUV",
          "SUV - SMALL",
          "SUV - STANDARD"
         ],
         "xaxis": "x",
         "y": [
          16,
          36,
          107,
          8,
          34,
          50,
          22
         ],
         "yaxis": "y"
        },
        {
         "alignmentgroup": "True",
         "hovertemplate": "<b>Class: %{x}</b><br>Count: %{y}</br>Make: %{text}<br>",
         "legendgroup": "CADILLAC",
         "marker": {
          "color": "#E2E2E2",
          "pattern": {
           "shape": ""
          }
         },
         "name": "CADILLAC",
         "offsetgroup": "CADILLAC",
         "orientation": "v",
         "showlegend": true,
         "text": [
          "CADILLAC",
          "CADILLAC",
          "CADILLAC",
          "CADILLAC",
          "CADILLAC",
          "CADILLAC",
          "CADILLAC",
          "CADILLAC",
          "CADILLAC"
         ],
         "textposition": "auto",
         "type": "bar",
         "x": [
          "COMPACT",
          "FULL-SIZE",
          "MID-SIZE",
          "PICKUP TRUCK - STANDARD",
          "STATION WAGON - SMALL",
          "SUV",
          "SUV - SMALL",
          "SUV - STANDARD",
          "TWO-SEATER"
         ],
         "xaxis": "x",
         "y": [
          63,
          47,
          160,
          5,
          28,
          60,
          28,
          34,
          9
         ],
         "yaxis": "y"
        },
        {
         "alignmentgroup": "True",
         "hovertemplate": "<b>Class: %{x}</b><br>Count: %{y}</br>Make: %{text}<br>",
         "legendgroup": "CHEVROLET",
         "marker": {
          "color": "#1CBE4F",
          "pattern": {
           "shape": ""
          }
         },
         "name": "CHEVROLET",
         "offsetgroup": "CHEVROLET",
         "orientation": "v",
         "showlegend": true,
         "text": [
          "CHEVROLET",
          "CHEVROLET",
          "CHEVROLET",
          "CHEVROLET",
          "CHEVROLET",
          "CHEVROLET",
          "CHEVROLET",
          "CHEVROLET",
          "CHEVROLET",
          "CHEVROLET",
          "CHEVROLET",
          "CHEVROLET",
          "CHEVROLET",
          "CHEVROLET",
          "CHEVROLET"
         ],
         "textposition": "auto",
         "type": "bar",
         "x": [
          "COMPACT",
          "FULL-SIZE",
          "MID-SIZE",
          "MINIVAN",
          "PICKUP TRUCK - SMALL",
          "PICKUP TRUCK - STANDARD",
          "SPECIAL PURPOSE VEHICLE",
          "STATION WAGON - SMALL",
          "SUBCOMPACT",
          "SUV",
          "SUV - SMALL",
          "SUV - STANDARD",
          "TWO-SEATER",
          "VAN - CARGO",
          "VAN - PASSENGER"
         ],
         "xaxis": "x",
         "y": [
          135,
          73,
          150,
          21,
          160,
          513,
          4,
          20,
          137,
          360,
          108,
          146,
          66,
          127,
          110
         ],
         "yaxis": "y"
        },
        {
         "alignmentgroup": "True",
         "hovertemplate": "<b>Class: %{x}</b><br>Count: %{y}</br>Make: %{text}<br>",
         "legendgroup": "CHRYSLER",
         "marker": {
          "color": "#C4451C",
          "pattern": {
           "shape": ""
          }
         },
         "name": "CHRYSLER",
         "offsetgroup": "CHRYSLER",
         "orientation": "v",
         "showlegend": true,
         "text": [
          "CHRYSLER",
          "CHRYSLER",
          "CHRYSLER",
          "CHRYSLER",
          "CHRYSLER",
          "CHRYSLER",
          "CHRYSLER"
         ],
         "textposition": "auto",
         "type": "bar",
         "x": [
          "COMPACT",
          "FULL-SIZE",
          "MID-SIZE",
          "MINIVAN",
          "SUBCOMPACT",
          "SUV",
          "TWO-SEATER"
         ],
         "xaxis": "x",
         "y": [
          62,
          141,
          95,
          45,
          7,
          51,
          24
         ],
         "yaxis": "y"
        },
        {
         "alignmentgroup": "True",
         "hovertemplate": "<b>Class: %{x}</b><br>Count: %{y}</br>Make: %{text}<br>",
         "legendgroup": "DAEWOO",
         "marker": {
          "color": "#DEA0FD",
          "pattern": {
           "shape": ""
          }
         },
         "name": "DAEWOO",
         "offsetgroup": "DAEWOO",
         "orientation": "v",
         "showlegend": true,
         "text": [
          "DAEWOO",
          "DAEWOO",
          "DAEWOO",
          "DAEWOO"
         ],
         "textposition": "auto",
         "type": "bar",
         "x": [
          "COMPACT",
          "MID-SIZE",
          "STATION WAGON - SMALL",
          "SUBCOMPACT"
         ],
         "xaxis": "x",
         "y": [
          18,
          4,
          8,
          4
         ],
         "yaxis": "y"
        },
        {
         "alignmentgroup": "True",
         "hovertemplate": "<b>Class: %{x}</b><br>Count: %{y}</br>Make: %{text}<br>",
         "legendgroup": "DODGE",
         "marker": {
          "color": "#FE00FA",
          "pattern": {
           "shape": ""
          }
         },
         "name": "DODGE",
         "offsetgroup": "DODGE",
         "orientation": "v",
         "showlegend": true,
         "text": [
          "DODGE",
          "DODGE",
          "DODGE",
          "DODGE",
          "DODGE",
          "DODGE",
          "DODGE",
          "DODGE",
          "DODGE",
          "DODGE",
          "DODGE",
          "DODGE"
         ],
         "textposition": "auto",
         "type": "bar",
         "x": [
          "COMPACT",
          "FULL-SIZE",
          "MID-SIZE",
          "MINIVAN",
          "PICKUP TRUCK - STANDARD",
          "SUBCOMPACT",
          "SUV",
          "SUV - SMALL",
          "SUV - STANDARD",
          "TWO-SEATER",
          "VAN - CARGO",
          "VAN - PASSENGER"
         ],
         "xaxis": "x",
         "y": [
          25,
          167,
          178,
          121,
          223,
          2,
          92,
          29,
          29,
          18,
          27,
          14
         ],
         "yaxis": "y"
        },
        {
         "alignmentgroup": "True",
         "hovertemplate": "<b>Class: %{x}</b><br>Count: %{y}</br>Make: %{text}<br>",
         "legendgroup": "FERRARI",
         "marker": {
          "color": "#325A9B",
          "pattern": {
           "shape": ""
          }
         },
         "name": "FERRARI",
         "offsetgroup": "FERRARI",
         "orientation": "v",
         "showlegend": true,
         "text": [
          "FERRARI",
          "FERRARI",
          "FERRARI"
         ],
         "textposition": "auto",
         "type": "bar",
         "x": [
          "MID-SIZE",
          "SUBCOMPACT",
          "TWO-SEATER"
         ],
         "xaxis": "x",
         "y": [
          19,
          7,
          47
         ],
         "yaxis": "y"
        },
        {
         "alignmentgroup": "True",
         "hovertemplate": "<b>Class: %{x}</b><br>Count: %{y}</br>Make: %{text}<br>",
         "legendgroup": "FIAT",
         "marker": {
          "color": "#FEAF16",
          "pattern": {
           "shape": ""
          }
         },
         "name": "FIAT",
         "offsetgroup": "FIAT",
         "orientation": "v",
         "showlegend": true,
         "text": [
          "FIAT",
          "FIAT",
          "FIAT",
          "FIAT"
         ],
         "textposition": "auto",
         "type": "bar",
         "x": [
          "MINICOMPACT",
          "STATION WAGON - SMALL",
          "SUV - SMALL",
          "TWO-SEATER"
         ],
         "xaxis": "x",
         "y": [
          52,
          12,
          13,
          8
         ],
         "yaxis": "y"
        },
        {
         "alignmentgroup": "True",
         "hovertemplate": "<b>Class: %{x}</b><br>Count: %{y}</br>Make: %{text}<br>",
         "legendgroup": "FORD",
         "marker": {
          "color": "#F8A19F",
          "pattern": {
           "shape": ""
          }
         },
         "name": "FORD",
         "offsetgroup": "FORD",
         "orientation": "v",
         "showlegend": true,
         "text": [
          "FORD",
          "FORD",
          "FORD",
          "FORD",
          "FORD",
          "FORD",
          "FORD",
          "FORD",
          "FORD",
          "FORD",
          "FORD",
          "FORD",
          "FORD",
          "FORD",
          "FORD"
         ],
         "textposition": "auto",
         "type": "bar",
         "x": [
          "COMPACT",
          "FULL-SIZE",
          "MID-SIZE",
          "MINIVAN",
          "PICKUP TRUCK - SMALL",
          "PICKUP TRUCK - STANDARD",
          "SPECIAL PURPOSE VEHICLE",
          "STATION WAGON - MID-SIZE",
          "SUBCOMPACT",
          "SUV",
          "SUV - SMALL",
          "SUV - STANDARD",
          "TWO-SEATER",
          "VAN - CARGO",
          "VAN - PASSENGER"
         ],
         "xaxis": "x",
         "y": [
          125,
          97,
          117,
          9,
          30,
          525,
          64,
          38,
          184,
          175,
          131,
          100,
          13,
          52,
          64
         ],
         "yaxis": "y"
        },
        {
         "alignmentgroup": "True",
         "hovertemplate": "<b>Class: %{x}</b><br>Count: %{y}</br>Make: %{text}<br>",
         "legendgroup": "GENESIS",
         "marker": {
          "color": "#90AD1C",
          "pattern": {
           "shape": ""
          }
         },
         "name": "GENESIS",
         "offsetgroup": "GENESIS",
         "orientation": "v",
         "showlegend": true,
         "text": [
          "GENESIS",
          "GENESIS",
          "GENESIS",
          "GENESIS"
         ],
         "textposition": "auto",
         "type": "bar",
         "x": [
          "COMPACT",
          "FULL-SIZE",
          "SUV - SMALL",
          "SUV - STANDARD"
         ],
         "xaxis": "x",
         "y": [
          11,
          25,
          2,
          4
         ],
         "yaxis": "y"
        },
        {
         "alignmentgroup": "True",
         "hovertemplate": "<b>Class: %{x}</b><br>Count: %{y}</br>Make: %{text}<br>",
         "legendgroup": "GMC",
         "marker": {
          "color": "#F6222E",
          "pattern": {
           "shape": ""
          }
         },
         "name": "GMC",
         "offsetgroup": "GMC",
         "orientation": "v",
         "showlegend": true,
         "text": [
          "GMC",
          "GMC",
          "GMC",
          "GMC",
          "GMC",
          "GMC",
          "GMC"
         ],
         "textposition": "auto",
         "type": "bar",
         "x": [
          "PICKUP TRUCK - SMALL",
          "PICKUP TRUCK - STANDARD",
          "SUV",
          "SUV - SMALL",
          "SUV - STANDARD",
          "VAN - CARGO",
          "VAN - PASSENGER"
         ],
         "xaxis": "x",
         "y": [
          147,
          464,
          285,
          47,
          177,
          126,
          111
         ],
         "yaxis": "y"
        },
        {
         "alignmentgroup": "True",
         "hovertemplate": "<b>Class: %{x}</b><br>Count: %{y}</br>Make: %{text}<br>",
         "legendgroup": "HONDA",
         "marker": {
          "color": "#1CFFCE",
          "pattern": {
           "shape": ""
          }
         },
         "name": "HONDA",
         "offsetgroup": "HONDA",
         "orientation": "v",
         "showlegend": true,
         "text": [
          "HONDA",
          "HONDA",
          "HONDA",
          "HONDA",
          "HONDA",
          "HONDA",
          "HONDA",
          "HONDA",
          "HONDA",
          "HONDA",
          "HONDA"
         ],
         "textposition": "auto",
         "type": "bar",
         "x": [
          "COMPACT",
          "FULL-SIZE",
          "MID-SIZE",
          "MINIVAN",
          "PICKUP TRUCK - STANDARD",
          "STATION WAGON - SMALL",
          "SUBCOMPACT",
          "SUV",
          "SUV - SMALL",
          "SUV - STANDARD",
          "TWO-SEATER"
         ],
         "xaxis": "x",
         "y": [
          103,
          70,
          101,
          34,
          15,
          58,
          26,
          72,
          54,
          1,
          27
         ],
         "yaxis": "y"
        },
        {
         "alignmentgroup": "True",
         "hovertemplate": "<b>Class: %{x}</b><br>Count: %{y}</br>Make: %{text}<br>",
         "legendgroup": "HUMMER",
         "marker": {
          "color": "#2ED9FF",
          "pattern": {
           "shape": ""
          }
         },
         "name": "HUMMER",
         "offsetgroup": "HUMMER",
         "orientation": "v",
         "showlegend": true,
         "text": [
          "HUMMER",
          "HUMMER"
         ],
         "textposition": "auto",
         "type": "bar",
         "x": [
          "PICKUP TRUCK - STANDARD",
          "SUV"
         ],
         "xaxis": "x",
         "y": [
          7,
          14
         ],
         "yaxis": "y"
        },
        {
         "alignmentgroup": "True",
         "hovertemplate": "<b>Class: %{x}</b><br>Count: %{y}</br>Make: %{text}<br>",
         "legendgroup": "HYUNDAI",
         "marker": {
          "color": "#B10DA1",
          "pattern": {
           "shape": ""
          }
         },
         "name": "HYUNDAI",
         "offsetgroup": "HYUNDAI",
         "orientation": "v",
         "showlegend": true,
         "text": [
          "HYUNDAI",
          "HYUNDAI",
          "HYUNDAI",
          "HYUNDAI",
          "HYUNDAI",
          "HYUNDAI",
          "HYUNDAI",
          "HYUNDAI",
          "HYUNDAI",
          "HYUNDAI"
         ],
         "textposition": "auto",
         "type": "bar",
         "x": [
          "COMPACT",
          "FULL-SIZE",
          "MID-SIZE",
          "MINIVAN",
          "PICKUP TRUCK - SMALL",
          "STATION WAGON - SMALL",
          "SUBCOMPACT",
          "SUV",
          "SUV - SMALL",
          "SUV - STANDARD"
         ],
         "xaxis": "x",
         "y": [
          100,
          99,
          102,
          3,
          1,
          10,
          53,
          88,
          100,
          5
         ],
         "yaxis": "y"
        },
        {
         "alignmentgroup": "True",
         "hovertemplate": "<b>Class: %{x}</b><br>Count: %{y}</br>Make: %{text}<br>",
         "legendgroup": "INFINITI",
         "marker": {
          "color": "#C075A6",
          "pattern": {
           "shape": ""
          }
         },
         "name": "INFINITI",
         "offsetgroup": "INFINITI",
         "orientation": "v",
         "showlegend": true,
         "text": [
          "INFINITI",
          "INFINITI",
          "INFINITI",
          "INFINITI",
          "INFINITI",
          "INFINITI",
          "INFINITI",
          "INFINITI"
         ],
         "textposition": "auto",
         "type": "bar",
         "x": [
          "COMPACT",
          "FULL-SIZE",
          "MID-SIZE",
          "STATION WAGON - SMALL",
          "SUBCOMPACT",
          "SUV",
          "SUV - SMALL",
          "SUV - STANDARD"
         ],
         "xaxis": "x",
         "y": [
          38,
          19,
          92,
          8,
          52,
          32,
          24,
          15
         ],
         "yaxis": "y"
        },
        {
         "alignmentgroup": "True",
         "hovertemplate": "<b>Class: %{x}</b><br>Count: %{y}</br>Make: %{text}<br>",
         "legendgroup": "ISUZU",
         "marker": {
          "color": "#FC1CBF",
          "pattern": {
           "shape": ""
          }
         },
         "name": "ISUZU",
         "offsetgroup": "ISUZU",
         "orientation": "v",
         "showlegend": true,
         "text": [
          "ISUZU",
          "ISUZU",
          "ISUZU"
         ],
         "textposition": "auto",
         "type": "bar",
         "x": [
          "PICKUP TRUCK - SMALL",
          "PICKUP TRUCK - STANDARD",
          "SUV"
         ],
         "xaxis": "x",
         "y": [
          3,
          1,
          14
         ],
         "yaxis": "y"
        },
        {
         "alignmentgroup": "True",
         "hovertemplate": "<b>Class: %{x}</b><br>Count: %{y}</br>Make: %{text}<br>",
         "legendgroup": "JAGUAR",
         "marker": {
          "color": "#B00068",
          "pattern": {
           "shape": ""
          }
         },
         "name": "JAGUAR",
         "offsetgroup": "JAGUAR",
         "orientation": "v",
         "showlegend": true,
         "text": [
          "JAGUAR",
          "JAGUAR",
          "JAGUAR",
          "JAGUAR",
          "JAGUAR",
          "JAGUAR",
          "JAGUAR",
          "JAGUAR"
         ],
         "textposition": "auto",
         "type": "bar",
         "x": [
          "COMPACT",
          "FULL-SIZE",
          "MID-SIZE",
          "MINICOMPACT",
          "STATION WAGON - SMALL",
          "SUBCOMPACT",
          "SUV - SMALL",
          "TWO-SEATER"
         ],
         "xaxis": "x",
         "y": [
          32,
          64,
          69,
          53,
          8,
          34,
          16,
          88
         ],
         "yaxis": "y"
        },
        {
         "alignmentgroup": "True",
         "hovertemplate": "<b>Class: %{x}</b><br>Count: %{y}</br>Make: %{text}<br>",
         "legendgroup": "JEEP",
         "marker": {
          "color": "#FBE426",
          "pattern": {
           "shape": ""
          }
         },
         "name": "JEEP",
         "offsetgroup": "JEEP",
         "orientation": "v",
         "showlegend": true,
         "text": [
          "JEEP",
          "JEEP",
          "JEEP",
          "JEEP",
          "JEEP"
         ],
         "textposition": "auto",
         "type": "bar",
         "x": [
          "PICKUP TRUCK - STANDARD",
          "SUBCOMPACT",
          "SUV",
          "SUV - SMALL",
          "SUV - STANDARD"
         ],
         "xaxis": "x",
         "y": [
          10,
          1,
          201,
          283,
          49
         ],
         "yaxis": "y"
        },
        {
         "alignmentgroup": "True",
         "hovertemplate": "<b>Class: %{x}</b><br>Count: %{y}</br>Make: %{text}<br>",
         "legendgroup": "KIA",
         "marker": {
          "color": "#FA0087",
          "pattern": {
           "shape": ""
          }
         },
         "name": "KIA",
         "offsetgroup": "KIA",
         "orientation": "v",
         "showlegend": true,
         "text": [
          "KIA",
          "KIA",
          "KIA",
          "KIA",
          "KIA",
          "KIA",
          "KIA",
          "KIA",
          "KIA"
         ],
         "textposition": "auto",
         "type": "bar",
         "x": [
          "COMPACT",
          "FULL-SIZE",
          "MID-SIZE",
          "MINIVAN",
          "STATION WAGON - MID-SIZE",
          "STATION WAGON - SMALL",
          "SUBCOMPACT",
          "SUV",
          "SUV - SMALL"
         ],
         "xaxis": "x",
         "y": [
          92,
          61,
          108,
          28,
          19,
          62,
          2,
          80,
          80
         ],
         "yaxis": "y"
        },
        {
         "alignmentgroup": "True",
         "hovertemplate": "<b>Class: %{x}</b><br>Count: %{y}</br>Make: %{text}<br>",
         "legendgroup": "LAMBORGHINI",
         "marker": {
          "color": "#AA0DFE",
          "pattern": {
           "shape": ""
          }
         },
         "name": "LAMBORGHINI",
         "offsetgroup": "LAMBORGHINI",
         "orientation": "v",
         "showlegend": true,
         "text": [
          "LAMBORGHINI",
          "LAMBORGHINI"
         ],
         "textposition": "auto",
         "type": "bar",
         "x": [
          "SUV - STANDARD",
          "TWO-SEATER"
         ],
         "xaxis": "x",
         "y": [
          4,
          107
         ],
         "yaxis": "y"
        },
        {
         "alignmentgroup": "True",
         "hovertemplate": "<b>Class: %{x}</b><br>Count: %{y}</br>Make: %{text}<br>",
         "legendgroup": "LAND ROVER",
         "marker": {
          "color": "#3283FE",
          "pattern": {
           "shape": ""
          }
         },
         "name": "LAND ROVER",
         "offsetgroup": "LAND ROVER",
         "orientation": "v",
         "showlegend": true,
         "text": [
          "LAND ROVER",
          "LAND ROVER",
          "LAND ROVER"
         ],
         "textposition": "auto",
         "type": "bar",
         "x": [
          "SUV",
          "SUV - SMALL",
          "SUV - STANDARD"
         ],
         "xaxis": "x",
         "y": [
          63,
          34,
          77
         ],
         "yaxis": "y"
        },
        {
         "alignmentgroup": "True",
         "hovertemplate": "<b>Class: %{x}</b><br>Count: %{y}</br>Make: %{text}<br>",
         "legendgroup": "LEXUS",
         "marker": {
          "color": "#85660D",
          "pattern": {
           "shape": ""
          }
         },
         "name": "LEXUS",
         "offsetgroup": "LEXUS",
         "orientation": "v",
         "showlegend": true,
         "text": [
          "LEXUS",
          "LEXUS",
          "LEXUS",
          "LEXUS",
          "LEXUS",
          "LEXUS",
          "LEXUS",
          "LEXUS",
          "LEXUS",
          "LEXUS"
         ],
         "textposition": "auto",
         "type": "bar",
         "x": [
          "COMPACT",
          "FULL-SIZE",
          "MID-SIZE",
          "MINICOMPACT",
          "STATION WAGON - MID-SIZE",
          "SUBCOMPACT",
          "SUV",
          "SUV - SMALL",
          "SUV - STANDARD",
          "TWO-SEATER"
         ],
         "xaxis": "x",
         "y": [
          67,
          9,
          151,
          11,
          1,
          93,
          50,
          46,
          31,
          1
         ],
         "yaxis": "y"
        },
        {
         "alignmentgroup": "True",
         "hovertemplate": "<b>Class: %{x}</b><br>Count: %{y}</br>Make: %{text}<br>",
         "legendgroup": "LINCOLN",
         "marker": {
          "color": "#782AB6",
          "pattern": {
           "shape": ""
          }
         },
         "name": "LINCOLN",
         "offsetgroup": "LINCOLN",
         "orientation": "v",
         "showlegend": true,
         "text": [
          "LINCOLN",
          "LINCOLN",
          "LINCOLN",
          "LINCOLN",
          "LINCOLN",
          "LINCOLN",
          "LINCOLN"
         ],
         "textposition": "auto",
         "type": "bar",
         "x": [
          "FULL-SIZE",
          "MID-SIZE",
          "PICKUP TRUCK - STANDARD",
          "SPECIAL PURPOSE VEHICLE",
          "SUV",
          "SUV - SMALL",
          "SUV - STANDARD"
         ],
         "xaxis": "x",
         "y": [
          55,
          68,
          4,
          11,
          24,
          39,
          24
         ],
         "yaxis": "y"
        },
        {
         "alignmentgroup": "True",
         "hovertemplate": "<b>Class: %{x}</b><br>Count: %{y}</br>Make: %{text}<br>",
         "legendgroup": "MASERATI",
         "marker": {
          "color": "#565656",
          "pattern": {
           "shape": ""
          }
         },
         "name": "MASERATI",
         "offsetgroup": "MASERATI",
         "orientation": "v",
         "showlegend": true,
         "text": [
          "MASERATI",
          "MASERATI",
          "MASERATI",
          "MASERATI",
          "MASERATI"
         ],
         "textposition": "auto",
         "type": "bar",
         "x": [
          "FULL-SIZE",
          "MID-SIZE",
          "SUBCOMPACT",
          "SUV - STANDARD",
          "TWO-SEATER"
         ],
         "xaxis": "x",
         "y": [
          37,
          27,
          31,
          20,
          10
         ],
         "yaxis": "y"
        },
        {
         "alignmentgroup": "True",
         "hovertemplate": "<b>Class: %{x}</b><br>Count: %{y}</br>Make: %{text}<br>",
         "legendgroup": "MAZDA",
         "marker": {
          "color": "#1C8356",
          "pattern": {
           "shape": ""
          }
         },
         "name": "MAZDA",
         "offsetgroup": "MAZDA",
         "orientation": "v",
         "showlegend": true,
         "text": [
          "MAZDA",
          "MAZDA",
          "MAZDA",
          "MAZDA",
          "MAZDA",
          "MAZDA",
          "MAZDA",
          "MAZDA",
          "MAZDA",
          "MAZDA"
         ],
         "textposition": "auto",
         "type": "bar",
         "x": [
          "COMPACT",
          "MID-SIZE",
          "MINIVAN",
          "PICKUP TRUCK - SMALL",
          "PICKUP TRUCK - STANDARD",
          "STATION WAGON - MID-SIZE",
          "SUBCOMPACT",
          "SUV",
          "SUV - SMALL",
          "TWO-SEATER"
         ],
         "xaxis": "x",
         "y": [
          137,
          131,
          25,
          17,
          58,
          10,
          19,
          74,
          74,
          57
         ],
         "yaxis": "y"
        },
        {
         "alignmentgroup": "True",
         "hovertemplate": "<b>Class: %{x}</b><br>Count: %{y}</br>Make: %{text}<br>",
         "legendgroup": "MERCEDES-BENZ",
         "marker": {
          "color": "#16FF32",
          "pattern": {
           "shape": ""
          }
         },
         "name": "MERCEDES-BENZ",
         "offsetgroup": "MERCEDES-BENZ",
         "orientation": "v",
         "showlegend": true,
         "text": [
          "MERCEDES-BENZ",
          "MERCEDES-BENZ",
          "MERCEDES-BENZ",
          "MERCEDES-BENZ",
          "MERCEDES-BENZ",
          "MERCEDES-BENZ",
          "MERCEDES-BENZ",
          "MERCEDES-BENZ",
          "MERCEDES-BENZ",
          "MERCEDES-BENZ",
          "MERCEDES-BENZ",
          "MERCEDES-BENZ"
         ],
         "textposition": "auto",
         "type": "bar",
         "x": [
          "COMPACT",
          "FULL-SIZE",
          "MID-SIZE",
          "MINICOMPACT",
          "SPECIAL PURPOSE VEHICLE",
          "STATION WAGON - MID-SIZE",
          "STATION WAGON - SMALL",
          "SUBCOMPACT",
          "SUV",
          "SUV - SMALL",
          "SUV - STANDARD",
          "TWO-SEATER"
         ],
         "xaxis": "x",
         "y": [
          279,
          136,
          120,
          8,
          18,
          51,
          59,
          177,
          90,
          50,
          113,
          175
         ],
         "yaxis": "y"
        },
        {
         "alignmentgroup": "True",
         "hovertemplate": "<b>Class: %{x}</b><br>Count: %{y}</br>Make: %{text}<br>",
         "legendgroup": "MINI",
         "marker": {
          "color": "#F7E1A0",
          "pattern": {
           "shape": ""
          }
         },
         "name": "MINI",
         "offsetgroup": "MINI",
         "orientation": "v",
         "showlegend": true,
         "text": [
          "MINI",
          "MINI",
          "MINI",
          "MINI",
          "MINI",
          "MINI"
         ],
         "textposition": "auto",
         "type": "bar",
         "x": [
          "COMPACT",
          "MID-SIZE",
          "MINICOMPACT",
          "STATION WAGON - SMALL",
          "SUBCOMPACT",
          "TWO-SEATER"
         ],
         "xaxis": "x",
         "y": [
          52,
          57,
          135,
          4,
          112,
          46
         ],
         "yaxis": "y"
        },
        {
         "alignmentgroup": "True",
         "hovertemplate": "<b>Class: %{x}</b><br>Count: %{y}</br>Make: %{text}<br>",
         "legendgroup": "MITSUBISHI",
         "marker": {
          "color": "#E2E2E2",
          "pattern": {
           "shape": ""
          }
         },
         "name": "MITSUBISHI",
         "offsetgroup": "MITSUBISHI",
         "orientation": "v",
         "showlegend": true,
         "text": [
          "MITSUBISHI",
          "MITSUBISHI",
          "MITSUBISHI",
          "MITSUBISHI",
          "MITSUBISHI",
          "MITSUBISHI",
          "MITSUBISHI"
         ],
         "textposition": "auto",
         "type": "bar",
         "x": [
          "COMPACT",
          "MID-SIZE",
          "MINICOMPACT",
          "STATION WAGON - SMALL",
          "SUBCOMPACT",
          "SUV",
          "SUV - SMALL"
         ],
         "xaxis": "x",
         "y": [
          96,
          18,
          32,
          22,
          39,
          56,
          59
         ],
         "yaxis": "y"
        },
        {
         "alignmentgroup": "True",
         "hovertemplate": "<b>Class: %{x}</b><br>Count: %{y}</br>Make: %{text}<br>",
         "legendgroup": "NISSAN",
         "marker": {
          "color": "#1CBE4F",
          "pattern": {
           "shape": ""
          }
         },
         "name": "NISSAN",
         "offsetgroup": "NISSAN",
         "orientation": "v",
         "showlegend": true,
         "text": [
          "NISSAN",
          "NISSAN",
          "NISSAN",
          "NISSAN",
          "NISSAN",
          "NISSAN",
          "NISSAN",
          "NISSAN",
          "NISSAN",
          "NISSAN",
          "NISSAN",
          "NISSAN",
          "NISSAN"
         ],
         "textposition": "auto",
         "type": "bar",
         "x": [
          "COMPACT",
          "MID-SIZE",
          "MINIVAN",
          "PICKUP TRUCK - SMALL",
          "PICKUP TRUCK - STANDARD",
          "SPECIAL PURPOSE VEHICLE",
          "STATION WAGON - MID-SIZE",
          "STATION WAGON - SMALL",
          "SUBCOMPACT",
          "SUV",
          "SUV - SMALL",
          "SUV - STANDARD",
          "TWO-SEATER"
         ],
         "xaxis": "x",
         "y": [
          57,
          196,
          15,
          61,
          102,
          9,
          15,
          56,
          34,
          87,
          54,
          11,
          67
         ],
         "yaxis": "y"
        },
        {
         "alignmentgroup": "True",
         "hovertemplate": "<b>Class: %{x}</b><br>Count: %{y}</br>Make: %{text}<br>",
         "legendgroup": "OLDSMOBILE",
         "marker": {
          "color": "#C4451C",
          "pattern": {
           "shape": ""
          }
         },
         "name": "OLDSMOBILE",
         "offsetgroup": "OLDSMOBILE",
         "orientation": "v",
         "showlegend": true,
         "text": [
          "OLDSMOBILE",
          "OLDSMOBILE",
          "OLDSMOBILE",
          "OLDSMOBILE"
         ],
         "textposition": "auto",
         "type": "bar",
         "x": [
          "COMPACT",
          "MID-SIZE",
          "MINIVAN",
          "SUV"
         ],
         "xaxis": "x",
         "y": [
          15,
          8,
          8,
          3
         ],
         "yaxis": "y"
        },
        {
         "alignmentgroup": "True",
         "hovertemplate": "<b>Class: %{x}</b><br>Count: %{y}</br>Make: %{text}<br>",
         "legendgroup": "PLYMOUTH",
         "marker": {
          "color": "#DEA0FD",
          "pattern": {
           "shape": ""
          }
         },
         "name": "PLYMOUTH",
         "offsetgroup": "PLYMOUTH",
         "orientation": "v",
         "showlegend": true,
         "text": [
          "PLYMOUTH",
          "PLYMOUTH"
         ],
         "textposition": "auto",
         "type": "bar",
         "x": [
          "SUBCOMPACT",
          "TWO-SEATER"
         ],
         "xaxis": "x",
         "y": [
          1,
          1
         ],
         "yaxis": "y"
        },
        {
         "alignmentgroup": "True",
         "hovertemplate": "<b>Class: %{x}</b><br>Count: %{y}</br>Make: %{text}<br>",
         "legendgroup": "PONTIAC",
         "marker": {
          "color": "#FE00FA",
          "pattern": {
           "shape": ""
          }
         },
         "name": "PONTIAC",
         "offsetgroup": "PONTIAC",
         "orientation": "v",
         "showlegend": true,
         "text": [
          "PONTIAC",
          "PONTIAC",
          "PONTIAC",
          "PONTIAC",
          "PONTIAC",
          "PONTIAC",
          "PONTIAC",
          "PONTIAC"
         ],
         "textposition": "auto",
         "type": "bar",
         "x": [
          "COMPACT",
          "FULL-SIZE",
          "MID-SIZE",
          "MINIVAN",
          "STATION WAGON - SMALL",
          "SUBCOMPACT",
          "SUV",
          "TWO-SEATER"
         ],
         "xaxis": "x",
         "y": [
          67,
          13,
          29,
          21,
          32,
          56,
          22,
          13
         ],
         "yaxis": "y"
        },
        {
         "alignmentgroup": "True",
         "hovertemplate": "<b>Class: %{x}</b><br>Count: %{y}</br>Make: %{text}<br>",
         "legendgroup": "PORSCHE",
         "marker": {
          "color": "#325A9B",
          "pattern": {
           "shape": ""
          }
         },
         "name": "PORSCHE",
         "offsetgroup": "PORSCHE",
         "orientation": "v",
         "showlegend": true,
         "text": [
          "PORSCHE",
          "PORSCHE",
          "PORSCHE",
          "PORSCHE",
          "PORSCHE",
          "PORSCHE"
         ],
         "textposition": "auto",
         "type": "bar",
         "x": [
          "FULL-SIZE",
          "MINICOMPACT",
          "SUV",
          "SUV - SMALL",
          "SUV - STANDARD",
          "TWO-SEATER"
         ],
         "xaxis": "x",
         "y": [
          109,
          534,
          43,
          26,
          51,
          225
         ],
         "yaxis": "y"
        },
        {
         "alignmentgroup": "True",
         "hovertemplate": "<b>Class: %{x}</b><br>Count: %{y}</br>Make: %{text}<br>",
         "legendgroup": "RAM",
         "marker": {
          "color": "#FEAF16",
          "pattern": {
           "shape": ""
          }
         },
         "name": "RAM",
         "offsetgroup": "RAM",
         "orientation": "v",
         "showlegend": true,
         "text": [
          "RAM",
          "RAM",
          "RAM"
         ],
         "textposition": "auto",
         "type": "bar",
         "x": [
          "MINIVAN",
          "PICKUP TRUCK - STANDARD",
          "SPECIAL PURPOSE VEHICLE"
         ],
         "xaxis": "x",
         "y": [
          8,
          137,
          8
         ],
         "yaxis": "y"
        },
        {
         "alignmentgroup": "True",
         "hovertemplate": "<b>Class: %{x}</b><br>Count: %{y}</br>Make: %{text}<br>",
         "legendgroup": "ROLLS-ROYCE",
         "marker": {
          "color": "#F8A19F",
          "pattern": {
           "shape": ""
          }
         },
         "name": "ROLLS-ROYCE",
         "offsetgroup": "ROLLS-ROYCE",
         "orientation": "v",
         "showlegend": true,
         "text": [
          "ROLLS-ROYCE",
          "ROLLS-ROYCE",
          "ROLLS-ROYCE",
          "ROLLS-ROYCE",
          "ROLLS-ROYCE"
         ],
         "textposition": "auto",
         "type": "bar",
         "x": [
          "COMPACT",
          "FULL-SIZE",
          "MID-SIZE",
          "STATION WAGON - MID-SIZE",
          "SUBCOMPACT"
         ],
         "xaxis": "x",
         "y": [
          26,
          51,
          21,
          7,
          1
         ],
         "yaxis": "y"
        },
        {
         "alignmentgroup": "True",
         "hovertemplate": "<b>Class: %{x}</b><br>Count: %{y}</br>Make: %{text}<br>",
         "legendgroup": "SAAB",
         "marker": {
          "color": "#90AD1C",
          "pattern": {
           "shape": ""
          }
         },
         "name": "SAAB",
         "offsetgroup": "SAAB",
         "orientation": "v",
         "showlegend": true,
         "text": [
          "SAAB",
          "SAAB",
          "SAAB",
          "SAAB",
          "SAAB",
          "SAAB",
          "SAAB"
         ],
         "textposition": "auto",
         "type": "bar",
         "x": [
          "COMPACT",
          "FULL-SIZE",
          "MID-SIZE",
          "STATION WAGON - MID-SIZE",
          "STATION WAGON - SMALL",
          "SUBCOMPACT",
          "SUV"
         ],
         "xaxis": "x",
         "y": [
          43,
          3,
          41,
          37,
          28,
          27,
          11
         ],
         "yaxis": "y"
        },
        {
         "alignmentgroup": "True",
         "hovertemplate": "<b>Class: %{x}</b><br>Count: %{y}</br>Make: %{text}<br>",
         "legendgroup": "SATURN",
         "marker": {
          "color": "#F6222E",
          "pattern": {
           "shape": ""
          }
         },
         "name": "SATURN",
         "offsetgroup": "SATURN",
         "orientation": "v",
         "showlegend": true,
         "text": [
          "SATURN",
          "SATURN",
          "SATURN",
          "SATURN",
          "SATURN",
          "SATURN",
          "SATURN",
          "SATURN"
         ],
         "textposition": "auto",
         "type": "bar",
         "x": [
          "COMPACT",
          "MID-SIZE",
          "MINIVAN",
          "STATION WAGON - MID-SIZE",
          "STATION WAGON - SMALL",
          "SUBCOMPACT",
          "SUV",
          "TWO-SEATER"
         ],
         "xaxis": "x",
         "y": [
          18,
          25,
          8,
          12,
          4,
          28,
          49,
          12
         ],
         "yaxis": "y"
        },
        {
         "alignmentgroup": "True",
         "hovertemplate": "<b>Class: %{x}</b><br>Count: %{y}</br>Make: %{text}<br>",
         "legendgroup": "SCION",
         "marker": {
          "color": "#1CFFCE",
          "pattern": {
           "shape": ""
          }
         },
         "name": "SCION",
         "offsetgroup": "SCION",
         "orientation": "v",
         "showlegend": true,
         "text": [
          "SCION",
          "SCION",
          "SCION",
          "SCION",
          "SCION"
         ],
         "textposition": "auto",
         "type": "bar",
         "x": [
          "COMPACT",
          "MID-SIZE",
          "MINICOMPACT",
          "STATION WAGON - SMALL",
          "SUBCOMPACT"
         ],
         "xaxis": "x",
         "y": [
          12,
          2,
          12,
          10,
          8
         ],
         "yaxis": "y"
        },
        {
         "alignmentgroup": "True",
         "hovertemplate": "<b>Class: %{x}</b><br>Count: %{y}</br>Make: %{text}<br>",
         "legendgroup": "SMART",
         "marker": {
          "color": "#2ED9FF",
          "pattern": {
           "shape": ""
          }
         },
         "name": "SMART",
         "offsetgroup": "SMART",
         "orientation": "v",
         "showlegend": true,
         "text": [
          "SMART"
         ],
         "textposition": "auto",
         "type": "bar",
         "x": [
          "TWO-SEATER"
         ],
         "xaxis": "x",
         "y": [
          22
         ],
         "yaxis": "y"
        },
        {
         "alignmentgroup": "True",
         "hovertemplate": "<b>Class: %{x}</b><br>Count: %{y}</br>Make: %{text}<br>",
         "legendgroup": "SRT",
         "marker": {
          "color": "#B10DA1",
          "pattern": {
           "shape": ""
          }
         },
         "name": "SRT",
         "offsetgroup": "SRT",
         "orientation": "v",
         "showlegend": true,
         "text": [
          "SRT"
         ],
         "textposition": "auto",
         "type": "bar",
         "x": [
          "TWO-SEATER"
         ],
         "xaxis": "x",
         "y": [
          4
         ],
         "yaxis": "y"
        },
        {
         "alignmentgroup": "True",
         "hovertemplate": "<b>Class: %{x}</b><br>Count: %{y}</br>Make: %{text}<br>",
         "legendgroup": "SUBARU",
         "marker": {
          "color": "#C075A6",
          "pattern": {
           "shape": ""
          }
         },
         "name": "SUBARU",
         "offsetgroup": "SUBARU",
         "orientation": "v",
         "showlegend": true,
         "text": [
          "SUBARU",
          "SUBARU",
          "SUBARU",
          "SUBARU",
          "SUBARU",
          "SUBARU",
          "SUBARU",
          "SUBARU",
          "SUBARU",
          "SUBARU"
         ],
         "textposition": "auto",
         "type": "bar",
         "x": [
          "COMPACT",
          "FULL-SIZE",
          "MID-SIZE",
          "MINICOMPACT",
          "STATION WAGON - MID-SIZE",
          "STATION WAGON - SMALL",
          "SUBCOMPACT",
          "SUV",
          "SUV - SMALL",
          "SUV - STANDARD"
         ],
         "xaxis": "x",
         "y": [
          113,
          6,
          41,
          20,
          42,
          82,
          35,
          101,
          76,
          4
         ],
         "yaxis": "y"
        },
        {
         "alignmentgroup": "True",
         "hovertemplate": "<b>Class: %{x}</b><br>Count: %{y}</br>Make: %{text}<br>",
         "legendgroup": "SUZUKI",
         "marker": {
          "color": "#FC1CBF",
          "pattern": {
           "shape": ""
          }
         },
         "name": "SUZUKI",
         "offsetgroup": "SUZUKI",
         "orientation": "v",
         "showlegend": true,
         "text": [
          "SUZUKI",
          "SUZUKI",
          "SUZUKI",
          "SUZUKI",
          "SUZUKI",
          "SUZUKI",
          "SUZUKI"
         ],
         "textposition": "auto",
         "type": "bar",
         "x": [
          "COMPACT",
          "MID-SIZE",
          "PICKUP TRUCK - SMALL",
          "STATION WAGON - SMALL",
          "SUBCOMPACT",
          "SUV",
          "SUV - SMALL"
         ],
         "xaxis": "x",
         "y": [
          56,
          3,
          5,
          61,
          12,
          61,
          1
         ],
         "yaxis": "y"
        },
        {
         "alignmentgroup": "True",
         "hovertemplate": "<b>Class: %{x}</b><br>Count: %{y}</br>Make: %{text}<br>",
         "legendgroup": "TOYOTA",
         "marker": {
          "color": "#B00068",
          "pattern": {
           "shape": ""
          }
         },
         "name": "TOYOTA",
         "offsetgroup": "TOYOTA",
         "orientation": "v",
         "showlegend": true,
         "text": [
          "TOYOTA",
          "TOYOTA",
          "TOYOTA",
          "TOYOTA",
          "TOYOTA",
          "TOYOTA",
          "TOYOTA",
          "TOYOTA",
          "TOYOTA",
          "TOYOTA",
          "TOYOTA",
          "TOYOTA",
          "TOYOTA",
          "TOYOTA"
         ],
         "textposition": "auto",
         "type": "bar",
         "x": [
          "COMPACT",
          "FULL-SIZE",
          "MID-SIZE",
          "MINICOMPACT",
          "MINIVAN",
          "PICKUP TRUCK - SMALL",
          "PICKUP TRUCK - STANDARD",
          "STATION WAGON - MID-SIZE",
          "STATION WAGON - SMALL",
          "SUBCOMPACT",
          "SUV",
          "SUV - SMALL",
          "SUV - STANDARD",
          "TWO-SEATER"
         ],
         "xaxis": "x",
         "y": [
          146,
          12,
          178,
          10,
          43,
          87,
          140,
          7,
          48,
          46,
          135,
          85,
          59,
          5
         ],
         "yaxis": "y"
        },
        {
         "alignmentgroup": "True",
         "hovertemplate": "<b>Class: %{x}</b><br>Count: %{y}</br>Make: %{text}<br>",
         "legendgroup": "VOLKSWAGEN",
         "marker": {
          "color": "#FBE426",
          "pattern": {
           "shape": ""
          }
         },
         "name": "VOLKSWAGEN",
         "offsetgroup": "VOLKSWAGEN",
         "orientation": "v",
         "showlegend": true,
         "text": [
          "VOLKSWAGEN",
          "VOLKSWAGEN",
          "VOLKSWAGEN",
          "VOLKSWAGEN",
          "VOLKSWAGEN",
          "VOLKSWAGEN",
          "VOLKSWAGEN",
          "VOLKSWAGEN",
          "VOLKSWAGEN",
          "VOLKSWAGEN",
          "VOLKSWAGEN"
         ],
         "textposition": "auto",
         "type": "bar",
         "x": [
          "COMPACT",
          "FULL-SIZE",
          "MID-SIZE",
          "MINICOMPACT",
          "MINIVAN",
          "STATION WAGON - MID-SIZE",
          "STATION WAGON - SMALL",
          "SUBCOMPACT",
          "SUV",
          "SUV - SMALL",
          "SUV - STANDARD"
         ],
         "xaxis": "x",
         "y": [
          315,
          8,
          77,
          20,
          11,
          49,
          56,
          92,
          28,
          38,
          7
         ],
         "yaxis": "y"
        },
        {
         "alignmentgroup": "True",
         "hovertemplate": "<b>Class: %{x}</b><br>Count: %{y}</br>Make: %{text}<br>",
         "legendgroup": "VOLVO",
         "marker": {
          "color": "#FA0087",
          "pattern": {
           "shape": ""
          }
         },
         "name": "VOLVO",
         "offsetgroup": "VOLVO",
         "orientation": "v",
         "showlegend": true,
         "text": [
          "VOLVO",
          "VOLVO",
          "VOLVO",
          "VOLVO",
          "VOLVO",
          "VOLVO",
          "VOLVO",
          "VOLVO"
         ],
         "textposition": "auto",
         "type": "bar",
         "x": [
          "COMPACT",
          "MID-SIZE",
          "STATION WAGON - MID-SIZE",
          "STATION WAGON - SMALL",
          "SUBCOMPACT",
          "SUV",
          "SUV - SMALL",
          "SUV - STANDARD"
         ],
         "xaxis": "x",
         "y": [
          177,
          52,
          72,
          71,
          22,
          55,
          48,
          18
         ],
         "yaxis": "y"
        }
       ],
       "layout": {
        "barmode": "relative",
        "legend": {
         "title": {
          "text": "color"
         },
         "tracegroupgap": 0
        },
        "template": {
         "data": {
          "bar": [
           {
            "error_x": {
             "color": "#2a3f5f"
            },
            "error_y": {
             "color": "#2a3f5f"
            },
            "marker": {
             "line": {
              "color": "#E5ECF6",
              "width": 0.5
             },
             "pattern": {
              "fillmode": "overlay",
              "size": 10,
              "solidity": 0.2
             }
            },
            "type": "bar"
           }
          ],
          "barpolar": [
           {
            "marker": {
             "line": {
              "color": "#E5ECF6",
              "width": 0.5
             },
             "pattern": {
              "fillmode": "overlay",
              "size": 10,
              "solidity": 0.2
             }
            },
            "type": "barpolar"
           }
          ],
          "carpet": [
           {
            "aaxis": {
             "endlinecolor": "#2a3f5f",
             "gridcolor": "white",
             "linecolor": "white",
             "minorgridcolor": "white",
             "startlinecolor": "#2a3f5f"
            },
            "baxis": {
             "endlinecolor": "#2a3f5f",
             "gridcolor": "white",
             "linecolor": "white",
             "minorgridcolor": "white",
             "startlinecolor": "#2a3f5f"
            },
            "type": "carpet"
           }
          ],
          "choropleth": [
           {
            "colorbar": {
             "outlinewidth": 0,
             "ticks": ""
            },
            "type": "choropleth"
           }
          ],
          "contour": [
           {
            "colorbar": {
             "outlinewidth": 0,
             "ticks": ""
            },
            "colorscale": [
             [
              0,
              "#0d0887"
             ],
             [
              0.1111111111111111,
              "#46039f"
             ],
             [
              0.2222222222222222,
              "#7201a8"
             ],
             [
              0.3333333333333333,
              "#9c179e"
             ],
             [
              0.4444444444444444,
              "#bd3786"
             ],
             [
              0.5555555555555556,
              "#d8576b"
             ],
             [
              0.6666666666666666,
              "#ed7953"
             ],
             [
              0.7777777777777778,
              "#fb9f3a"
             ],
             [
              0.8888888888888888,
              "#fdca26"
             ],
             [
              1,
              "#f0f921"
             ]
            ],
            "type": "contour"
           }
          ],
          "contourcarpet": [
           {
            "colorbar": {
             "outlinewidth": 0,
             "ticks": ""
            },
            "type": "contourcarpet"
           }
          ],
          "heatmap": [
           {
            "colorbar": {
             "outlinewidth": 0,
             "ticks": ""
            },
            "colorscale": [
             [
              0,
              "#0d0887"
             ],
             [
              0.1111111111111111,
              "#46039f"
             ],
             [
              0.2222222222222222,
              "#7201a8"
             ],
             [
              0.3333333333333333,
              "#9c179e"
             ],
             [
              0.4444444444444444,
              "#bd3786"
             ],
             [
              0.5555555555555556,
              "#d8576b"
             ],
             [
              0.6666666666666666,
              "#ed7953"
             ],
             [
              0.7777777777777778,
              "#fb9f3a"
             ],
             [
              0.8888888888888888,
              "#fdca26"
             ],
             [
              1,
              "#f0f921"
             ]
            ],
            "type": "heatmap"
           }
          ],
          "heatmapgl": [
           {
            "colorbar": {
             "outlinewidth": 0,
             "ticks": ""
            },
            "colorscale": [
             [
              0,
              "#0d0887"
             ],
             [
              0.1111111111111111,
              "#46039f"
             ],
             [
              0.2222222222222222,
              "#7201a8"
             ],
             [
              0.3333333333333333,
              "#9c179e"
             ],
             [
              0.4444444444444444,
              "#bd3786"
             ],
             [
              0.5555555555555556,
              "#d8576b"
             ],
             [
              0.6666666666666666,
              "#ed7953"
             ],
             [
              0.7777777777777778,
              "#fb9f3a"
             ],
             [
              0.8888888888888888,
              "#fdca26"
             ],
             [
              1,
              "#f0f921"
             ]
            ],
            "type": "heatmapgl"
           }
          ],
          "histogram": [
           {
            "marker": {
             "pattern": {
              "fillmode": "overlay",
              "size": 10,
              "solidity": 0.2
             }
            },
            "type": "histogram"
           }
          ],
          "histogram2d": [
           {
            "colorbar": {
             "outlinewidth": 0,
             "ticks": ""
            },
            "colorscale": [
             [
              0,
              "#0d0887"
             ],
             [
              0.1111111111111111,
              "#46039f"
             ],
             [
              0.2222222222222222,
              "#7201a8"
             ],
             [
              0.3333333333333333,
              "#9c179e"
             ],
             [
              0.4444444444444444,
              "#bd3786"
             ],
             [
              0.5555555555555556,
              "#d8576b"
             ],
             [
              0.6666666666666666,
              "#ed7953"
             ],
             [
              0.7777777777777778,
              "#fb9f3a"
             ],
             [
              0.8888888888888888,
              "#fdca26"
             ],
             [
              1,
              "#f0f921"
             ]
            ],
            "type": "histogram2d"
           }
          ],
          "histogram2dcontour": [
           {
            "colorbar": {
             "outlinewidth": 0,
             "ticks": ""
            },
            "colorscale": [
             [
              0,
              "#0d0887"
             ],
             [
              0.1111111111111111,
              "#46039f"
             ],
             [
              0.2222222222222222,
              "#7201a8"
             ],
             [
              0.3333333333333333,
              "#9c179e"
             ],
             [
              0.4444444444444444,
              "#bd3786"
             ],
             [
              0.5555555555555556,
              "#d8576b"
             ],
             [
              0.6666666666666666,
              "#ed7953"
             ],
             [
              0.7777777777777778,
              "#fb9f3a"
             ],
             [
              0.8888888888888888,
              "#fdca26"
             ],
             [
              1,
              "#f0f921"
             ]
            ],
            "type": "histogram2dcontour"
           }
          ],
          "mesh3d": [
           {
            "colorbar": {
             "outlinewidth": 0,
             "ticks": ""
            },
            "type": "mesh3d"
           }
          ],
          "parcoords": [
           {
            "line": {
             "colorbar": {
              "outlinewidth": 0,
              "ticks": ""
             }
            },
            "type": "parcoords"
           }
          ],
          "pie": [
           {
            "automargin": true,
            "type": "pie"
           }
          ],
          "scatter": [
           {
            "fillpattern": {
             "fillmode": "overlay",
             "size": 10,
             "solidity": 0.2
            },
            "type": "scatter"
           }
          ],
          "scatter3d": [
           {
            "line": {
             "colorbar": {
              "outlinewidth": 0,
              "ticks": ""
             }
            },
            "marker": {
             "colorbar": {
              "outlinewidth": 0,
              "ticks": ""
             }
            },
            "type": "scatter3d"
           }
          ],
          "scattercarpet": [
           {
            "marker": {
             "colorbar": {
              "outlinewidth": 0,
              "ticks": ""
             }
            },
            "type": "scattercarpet"
           }
          ],
          "scattergeo": [
           {
            "marker": {
             "colorbar": {
              "outlinewidth": 0,
              "ticks": ""
             }
            },
            "type": "scattergeo"
           }
          ],
          "scattergl": [
           {
            "marker": {
             "colorbar": {
              "outlinewidth": 0,
              "ticks": ""
             }
            },
            "type": "scattergl"
           }
          ],
          "scattermapbox": [
           {
            "marker": {
             "colorbar": {
              "outlinewidth": 0,
              "ticks": ""
             }
            },
            "type": "scattermapbox"
           }
          ],
          "scatterpolar": [
           {
            "marker": {
             "colorbar": {
              "outlinewidth": 0,
              "ticks": ""
             }
            },
            "type": "scatterpolar"
           }
          ],
          "scatterpolargl": [
           {
            "marker": {
             "colorbar": {
              "outlinewidth": 0,
              "ticks": ""
             }
            },
            "type": "scatterpolargl"
           }
          ],
          "scatterternary": [
           {
            "marker": {
             "colorbar": {
              "outlinewidth": 0,
              "ticks": ""
             }
            },
            "type": "scatterternary"
           }
          ],
          "surface": [
           {
            "colorbar": {
             "outlinewidth": 0,
             "ticks": ""
            },
            "colorscale": [
             [
              0,
              "#0d0887"
             ],
             [
              0.1111111111111111,
              "#46039f"
             ],
             [
              0.2222222222222222,
              "#7201a8"
             ],
             [
              0.3333333333333333,
              "#9c179e"
             ],
             [
              0.4444444444444444,
              "#bd3786"
             ],
             [
              0.5555555555555556,
              "#d8576b"
             ],
             [
              0.6666666666666666,
              "#ed7953"
             ],
             [
              0.7777777777777778,
              "#fb9f3a"
             ],
             [
              0.8888888888888888,
              "#fdca26"
             ],
             [
              1,
              "#f0f921"
             ]
            ],
            "type": "surface"
           }
          ],
          "table": [
           {
            "cells": {
             "fill": {
              "color": "#EBF0F8"
             },
             "line": {
              "color": "white"
             }
            },
            "header": {
             "fill": {
              "color": "#C8D4E3"
             },
             "line": {
              "color": "white"
             }
            },
            "type": "table"
           }
          ]
         },
         "layout": {
          "annotationdefaults": {
           "arrowcolor": "#2a3f5f",
           "arrowhead": 0,
           "arrowwidth": 1
          },
          "autotypenumbers": "strict",
          "coloraxis": {
           "colorbar": {
            "outlinewidth": 0,
            "ticks": ""
           }
          },
          "colorscale": {
           "diverging": [
            [
             0,
             "#8e0152"
            ],
            [
             0.1,
             "#c51b7d"
            ],
            [
             0.2,
             "#de77ae"
            ],
            [
             0.3,
             "#f1b6da"
            ],
            [
             0.4,
             "#fde0ef"
            ],
            [
             0.5,
             "#f7f7f7"
            ],
            [
             0.6,
             "#e6f5d0"
            ],
            [
             0.7,
             "#b8e186"
            ],
            [
             0.8,
             "#7fbc41"
            ],
            [
             0.9,
             "#4d9221"
            ],
            [
             1,
             "#276419"
            ]
           ],
           "sequential": [
            [
             0,
             "#0d0887"
            ],
            [
             0.1111111111111111,
             "#46039f"
            ],
            [
             0.2222222222222222,
             "#7201a8"
            ],
            [
             0.3333333333333333,
             "#9c179e"
            ],
            [
             0.4444444444444444,
             "#bd3786"
            ],
            [
             0.5555555555555556,
             "#d8576b"
            ],
            [
             0.6666666666666666,
             "#ed7953"
            ],
            [
             0.7777777777777778,
             "#fb9f3a"
            ],
            [
             0.8888888888888888,
             "#fdca26"
            ],
            [
             1,
             "#f0f921"
            ]
           ],
           "sequentialminus": [
            [
             0,
             "#0d0887"
            ],
            [
             0.1111111111111111,
             "#46039f"
            ],
            [
             0.2222222222222222,
             "#7201a8"
            ],
            [
             0.3333333333333333,
             "#9c179e"
            ],
            [
             0.4444444444444444,
             "#bd3786"
            ],
            [
             0.5555555555555556,
             "#d8576b"
            ],
            [
             0.6666666666666666,
             "#ed7953"
            ],
            [
             0.7777777777777778,
             "#fb9f3a"
            ],
            [
             0.8888888888888888,
             "#fdca26"
            ],
            [
             1,
             "#f0f921"
            ]
           ]
          },
          "colorway": [
           "#636efa",
           "#EF553B",
           "#00cc96",
           "#ab63fa",
           "#FFA15A",
           "#19d3f3",
           "#FF6692",
           "#B6E880",
           "#FF97FF",
           "#FECB52"
          ],
          "font": {
           "color": "#2a3f5f"
          },
          "geo": {
           "bgcolor": "white",
           "lakecolor": "white",
           "landcolor": "#E5ECF6",
           "showlakes": true,
           "showland": true,
           "subunitcolor": "white"
          },
          "hoverlabel": {
           "align": "left"
          },
          "hovermode": "closest",
          "mapbox": {
           "style": "light"
          },
          "paper_bgcolor": "white",
          "plot_bgcolor": "#E5ECF6",
          "polar": {
           "angularaxis": {
            "gridcolor": "white",
            "linecolor": "white",
            "ticks": ""
           },
           "bgcolor": "#E5ECF6",
           "radialaxis": {
            "gridcolor": "white",
            "linecolor": "white",
            "ticks": ""
           }
          },
          "scene": {
           "xaxis": {
            "backgroundcolor": "#E5ECF6",
            "gridcolor": "white",
            "gridwidth": 2,
            "linecolor": "white",
            "showbackground": true,
            "ticks": "",
            "zerolinecolor": "white"
           },
           "yaxis": {
            "backgroundcolor": "#E5ECF6",
            "gridcolor": "white",
            "gridwidth": 2,
            "linecolor": "white",
            "showbackground": true,
            "ticks": "",
            "zerolinecolor": "white"
           },
           "zaxis": {
            "backgroundcolor": "#E5ECF6",
            "gridcolor": "white",
            "gridwidth": 2,
            "linecolor": "white",
            "showbackground": true,
            "ticks": "",
            "zerolinecolor": "white"
           }
          },
          "shapedefaults": {
           "line": {
            "color": "#2a3f5f"
           }
          },
          "ternary": {
           "aaxis": {
            "gridcolor": "white",
            "linecolor": "white",
            "ticks": ""
           },
           "baxis": {
            "gridcolor": "white",
            "linecolor": "white",
            "ticks": ""
           },
           "bgcolor": "#E5ECF6",
           "caxis": {
            "gridcolor": "white",
            "linecolor": "white",
            "ticks": ""
           }
          },
          "title": {
           "x": 0.05
          },
          "xaxis": {
           "automargin": true,
           "gridcolor": "white",
           "linecolor": "white",
           "ticks": "",
           "title": {
            "standoff": 15
           },
           "zerolinecolor": "white",
           "zerolinewidth": 2
          },
          "yaxis": {
           "automargin": true,
           "gridcolor": "white",
           "linecolor": "white",
           "ticks": "",
           "title": {
            "standoff": 15
           },
           "zerolinecolor": "white",
           "zerolinewidth": 2
          }
         }
        },
        "title": {
         "text": "Vehicle Class focus for each Manufacturer"
        },
        "xaxis": {
         "anchor": "y",
         "domain": [
          0,
          1
         ],
         "title": {
          "text": "Vehicle Class"
         }
        },
        "yaxis": {
         "anchor": "x",
         "domain": [
          0,
          1
         ],
         "title": {
          "text": "Number of Vehicles grouped by Make"
         }
        }
       }
      },
      "text/html": [
       "<div>                            <div id=\"411f4b2d-aa84-42c8-8214-e79b799cf4fe\" class=\"plotly-graph-div\" style=\"height:525px; width:100%;\"></div>            <script type=\"text/javascript\">                require([\"plotly\"], function(Plotly) {                    window.PLOTLYENV=window.PLOTLYENV || {};                                    if (document.getElementById(\"411f4b2d-aa84-42c8-8214-e79b799cf4fe\")) {                    Plotly.newPlot(                        \"411f4b2d-aa84-42c8-8214-e79b799cf4fe\",                        [{\"alignmentgroup\":\"True\",\"hovertemplate\":\"<b>Class: %{x}</b><br>Count: %{y}</br>Make: %{text}<br>\",\"legendgroup\":\"ACURA\",\"marker\":{\"color\":\"#AA0DFE\",\"pattern\":{\"shape\":\"\"}},\"name\":\"ACURA\",\"offsetgroup\":\"ACURA\",\"orientation\":\"v\",\"showlegend\":true,\"text\":[\"ACURA\",\"ACURA\",\"ACURA\",\"ACURA\",\"ACURA\",\"ACURA\"],\"textposition\":\"auto\",\"x\":[\"COMPACT\",\"MID-SIZE\",\"SUBCOMPACT\",\"SUV\",\"SUV - SMALL\",\"TWO-SEATER\"],\"xaxis\":\"x\",\"y\":[102.0,55.0,25.0,20.0,33.0,12.0],\"yaxis\":\"y\",\"type\":\"bar\"},{\"alignmentgroup\":\"True\",\"hovertemplate\":\"<b>Class: %{x}</b><br>Count: %{y}</br>Make: %{text}<br>\",\"legendgroup\":\"ALFA ROMEO\",\"marker\":{\"color\":\"#3283FE\",\"pattern\":{\"shape\":\"\"}},\"name\":\"ALFA ROMEO\",\"offsetgroup\":\"ALFA ROMEO\",\"orientation\":\"v\",\"showlegend\":true,\"text\":[\"ALFA ROMEO\",\"ALFA ROMEO\",\"ALFA ROMEO\"],\"textposition\":\"auto\",\"x\":[\"MID-SIZE\",\"SUV - SMALL\",\"TWO-SEATER\"],\"xaxis\":\"x\",\"y\":[18.0,14.0,10.0],\"yaxis\":\"y\",\"type\":\"bar\"},{\"alignmentgroup\":\"True\",\"hovertemplate\":\"<b>Class: %{x}</b><br>Count: %{y}</br>Make: %{text}<br>\",\"legendgroup\":\"ASTON MARTIN\",\"marker\":{\"color\":\"#85660D\",\"pattern\":{\"shape\":\"\"}},\"name\":\"ASTON MARTIN\",\"offsetgroup\":\"ASTON MARTIN\",\"orientation\":\"v\",\"showlegend\":true,\"text\":[\"ASTON MARTIN\",\"ASTON MARTIN\",\"ASTON MARTIN\",\"ASTON MARTIN\"],\"textposition\":\"auto\",\"x\":[\"MINICOMPACT\",\"SUBCOMPACT\",\"SUV - STANDARD\",\"TWO-SEATER\"],\"xaxis\":\"x\",\"y\":[48.0,8.0,2.0,48.0],\"yaxis\":\"y\",\"type\":\"bar\"},{\"alignmentgroup\":\"True\",\"hovertemplate\":\"<b>Class: %{x}</b><br>Count: %{y}</br>Make: %{text}<br>\",\"legendgroup\":\"AUDI\",\"marker\":{\"color\":\"#782AB6\",\"pattern\":{\"shape\":\"\"}},\"name\":\"AUDI\",\"offsetgroup\":\"AUDI\",\"orientation\":\"v\",\"showlegend\":true,\"text\":[\"AUDI\",\"AUDI\",\"AUDI\",\"AUDI\",\"AUDI\",\"AUDI\",\"AUDI\",\"AUDI\",\"AUDI\",\"AUDI\",\"AUDI\"],\"textposition\":\"auto\",\"x\":[\"COMPACT\",\"FULL-SIZE\",\"MID-SIZE\",\"MINICOMPACT\",\"STATION WAGON - MID-SIZE\",\"STATION WAGON - SMALL\",\"SUBCOMPACT\",\"SUV\",\"SUV - SMALL\",\"SUV - STANDARD\",\"TWO-SEATER\"],\"xaxis\":\"x\",\"y\":[139.0,43.0,144.0,16.0,17.0,75.0,181.0,25.0,40.0,29.0,96.0],\"yaxis\":\"y\",\"type\":\"bar\"},{\"alignmentgroup\":\"True\",\"hovertemplate\":\"<b>Class: %{x}</b><br>Count: %{y}</br>Make: %{text}<br>\",\"legendgroup\":\"BENTLEY\",\"marker\":{\"color\":\"#565656\",\"pattern\":{\"shape\":\"\"}},\"name\":\"BENTLEY\",\"offsetgroup\":\"BENTLEY\",\"orientation\":\"v\",\"showlegend\":true,\"text\":[\"BENTLEY\",\"BENTLEY\",\"BENTLEY\",\"BENTLEY\",\"BENTLEY\",\"BENTLEY\",\"BENTLEY\"],\"textposition\":\"auto\",\"x\":[\"COMPACT\",\"FULL-SIZE\",\"MID-SIZE\",\"MINICOMPACT\",\"SUBCOMPACT\",\"SUV - STANDARD\",\"TWO-SEATER\"],\"xaxis\":\"x\",\"y\":[22.0,6.0,45.0,4.0,26.0,9.0,6.0],\"yaxis\":\"y\",\"type\":\"bar\"},{\"alignmentgroup\":\"True\",\"hovertemplate\":\"<b>Class: %{x}</b><br>Count: %{y}</br>Make: %{text}<br>\",\"legendgroup\":\"BMW\",\"marker\":{\"color\":\"#1C8356\",\"pattern\":{\"shape\":\"\"}},\"name\":\"BMW\",\"offsetgroup\":\"BMW\",\"orientation\":\"v\",\"showlegend\":true,\"text\":[\"BMW\",\"BMW\",\"BMW\",\"BMW\",\"BMW\",\"BMW\",\"BMW\",\"BMW\",\"BMW\",\"BMW\",\"BMW\"],\"textposition\":\"auto\",\"x\":[\"COMPACT\",\"FULL-SIZE\",\"MID-SIZE\",\"MINICOMPACT\",\"STATION WAGON - MID-SIZE\",\"STATION WAGON - SMALL\",\"SUBCOMPACT\",\"SUV\",\"SUV - SMALL\",\"SUV - STANDARD\",\"TWO-SEATER\"],\"xaxis\":\"x\",\"y\":[368.0,116.0,151.0,39.0,10.0,55.0,428.0,85.0,74.0,81.0,83.0],\"yaxis\":\"y\",\"type\":\"bar\"},{\"alignmentgroup\":\"True\",\"hovertemplate\":\"<b>Class: %{x}</b><br>Count: %{y}</br>Make: %{text}<br>\",\"legendgroup\":\"BUGATTI\",\"marker\":{\"color\":\"#16FF32\",\"pattern\":{\"shape\":\"\"}},\"name\":\"BUGATTI\",\"offsetgroup\":\"BUGATTI\",\"orientation\":\"v\",\"showlegend\":true,\"text\":[\"BUGATTI\"],\"textposition\":\"auto\",\"x\":[\"TWO-SEATER\"],\"xaxis\":\"x\",\"y\":[12.0],\"yaxis\":\"y\",\"type\":\"bar\"},{\"alignmentgroup\":\"True\",\"hovertemplate\":\"<b>Class: %{x}</b><br>Count: %{y}</br>Make: %{text}<br>\",\"legendgroup\":\"BUICK\",\"marker\":{\"color\":\"#F7E1A0\",\"pattern\":{\"shape\":\"\"}},\"name\":\"BUICK\",\"offsetgroup\":\"BUICK\",\"orientation\":\"v\",\"showlegend\":true,\"text\":[\"BUICK\",\"BUICK\",\"BUICK\",\"BUICK\",\"BUICK\",\"BUICK\",\"BUICK\"],\"textposition\":\"auto\",\"x\":[\"COMPACT\",\"FULL-SIZE\",\"MID-SIZE\",\"MINIVAN\",\"SUV\",\"SUV - SMALL\",\"SUV - STANDARD\"],\"xaxis\":\"x\",\"y\":[16.0,36.0,107.0,8.0,34.0,50.0,22.0],\"yaxis\":\"y\",\"type\":\"bar\"},{\"alignmentgroup\":\"True\",\"hovertemplate\":\"<b>Class: %{x}</b><br>Count: %{y}</br>Make: %{text}<br>\",\"legendgroup\":\"CADILLAC\",\"marker\":{\"color\":\"#E2E2E2\",\"pattern\":{\"shape\":\"\"}},\"name\":\"CADILLAC\",\"offsetgroup\":\"CADILLAC\",\"orientation\":\"v\",\"showlegend\":true,\"text\":[\"CADILLAC\",\"CADILLAC\",\"CADILLAC\",\"CADILLAC\",\"CADILLAC\",\"CADILLAC\",\"CADILLAC\",\"CADILLAC\",\"CADILLAC\"],\"textposition\":\"auto\",\"x\":[\"COMPACT\",\"FULL-SIZE\",\"MID-SIZE\",\"PICKUP TRUCK - STANDARD\",\"STATION WAGON - SMALL\",\"SUV\",\"SUV - SMALL\",\"SUV - STANDARD\",\"TWO-SEATER\"],\"xaxis\":\"x\",\"y\":[63.0,47.0,160.0,5.0,28.0,60.0,28.0,34.0,9.0],\"yaxis\":\"y\",\"type\":\"bar\"},{\"alignmentgroup\":\"True\",\"hovertemplate\":\"<b>Class: %{x}</b><br>Count: %{y}</br>Make: %{text}<br>\",\"legendgroup\":\"CHEVROLET\",\"marker\":{\"color\":\"#1CBE4F\",\"pattern\":{\"shape\":\"\"}},\"name\":\"CHEVROLET\",\"offsetgroup\":\"CHEVROLET\",\"orientation\":\"v\",\"showlegend\":true,\"text\":[\"CHEVROLET\",\"CHEVROLET\",\"CHEVROLET\",\"CHEVROLET\",\"CHEVROLET\",\"CHEVROLET\",\"CHEVROLET\",\"CHEVROLET\",\"CHEVROLET\",\"CHEVROLET\",\"CHEVROLET\",\"CHEVROLET\",\"CHEVROLET\",\"CHEVROLET\",\"CHEVROLET\"],\"textposition\":\"auto\",\"x\":[\"COMPACT\",\"FULL-SIZE\",\"MID-SIZE\",\"MINIVAN\",\"PICKUP TRUCK - SMALL\",\"PICKUP TRUCK - STANDARD\",\"SPECIAL PURPOSE VEHICLE\",\"STATION WAGON - SMALL\",\"SUBCOMPACT\",\"SUV\",\"SUV - SMALL\",\"SUV - STANDARD\",\"TWO-SEATER\",\"VAN - CARGO\",\"VAN - PASSENGER\"],\"xaxis\":\"x\",\"y\":[135.0,73.0,150.0,21.0,160.0,513.0,4.0,20.0,137.0,360.0,108.0,146.0,66.0,127.0,110.0],\"yaxis\":\"y\",\"type\":\"bar\"},{\"alignmentgroup\":\"True\",\"hovertemplate\":\"<b>Class: %{x}</b><br>Count: %{y}</br>Make: %{text}<br>\",\"legendgroup\":\"CHRYSLER\",\"marker\":{\"color\":\"#C4451C\",\"pattern\":{\"shape\":\"\"}},\"name\":\"CHRYSLER\",\"offsetgroup\":\"CHRYSLER\",\"orientation\":\"v\",\"showlegend\":true,\"text\":[\"CHRYSLER\",\"CHRYSLER\",\"CHRYSLER\",\"CHRYSLER\",\"CHRYSLER\",\"CHRYSLER\",\"CHRYSLER\"],\"textposition\":\"auto\",\"x\":[\"COMPACT\",\"FULL-SIZE\",\"MID-SIZE\",\"MINIVAN\",\"SUBCOMPACT\",\"SUV\",\"TWO-SEATER\"],\"xaxis\":\"x\",\"y\":[62.0,141.0,95.0,45.0,7.0,51.0,24.0],\"yaxis\":\"y\",\"type\":\"bar\"},{\"alignmentgroup\":\"True\",\"hovertemplate\":\"<b>Class: %{x}</b><br>Count: %{y}</br>Make: %{text}<br>\",\"legendgroup\":\"DAEWOO\",\"marker\":{\"color\":\"#DEA0FD\",\"pattern\":{\"shape\":\"\"}},\"name\":\"DAEWOO\",\"offsetgroup\":\"DAEWOO\",\"orientation\":\"v\",\"showlegend\":true,\"text\":[\"DAEWOO\",\"DAEWOO\",\"DAEWOO\",\"DAEWOO\"],\"textposition\":\"auto\",\"x\":[\"COMPACT\",\"MID-SIZE\",\"STATION WAGON - SMALL\",\"SUBCOMPACT\"],\"xaxis\":\"x\",\"y\":[18.0,4.0,8.0,4.0],\"yaxis\":\"y\",\"type\":\"bar\"},{\"alignmentgroup\":\"True\",\"hovertemplate\":\"<b>Class: %{x}</b><br>Count: %{y}</br>Make: %{text}<br>\",\"legendgroup\":\"DODGE\",\"marker\":{\"color\":\"#FE00FA\",\"pattern\":{\"shape\":\"\"}},\"name\":\"DODGE\",\"offsetgroup\":\"DODGE\",\"orientation\":\"v\",\"showlegend\":true,\"text\":[\"DODGE\",\"DODGE\",\"DODGE\",\"DODGE\",\"DODGE\",\"DODGE\",\"DODGE\",\"DODGE\",\"DODGE\",\"DODGE\",\"DODGE\",\"DODGE\"],\"textposition\":\"auto\",\"x\":[\"COMPACT\",\"FULL-SIZE\",\"MID-SIZE\",\"MINIVAN\",\"PICKUP TRUCK - STANDARD\",\"SUBCOMPACT\",\"SUV\",\"SUV - SMALL\",\"SUV - STANDARD\",\"TWO-SEATER\",\"VAN - CARGO\",\"VAN - PASSENGER\"],\"xaxis\":\"x\",\"y\":[25.0,167.0,178.0,121.0,223.0,2.0,92.0,29.0,29.0,18.0,27.0,14.0],\"yaxis\":\"y\",\"type\":\"bar\"},{\"alignmentgroup\":\"True\",\"hovertemplate\":\"<b>Class: %{x}</b><br>Count: %{y}</br>Make: %{text}<br>\",\"legendgroup\":\"FERRARI\",\"marker\":{\"color\":\"#325A9B\",\"pattern\":{\"shape\":\"\"}},\"name\":\"FERRARI\",\"offsetgroup\":\"FERRARI\",\"orientation\":\"v\",\"showlegend\":true,\"text\":[\"FERRARI\",\"FERRARI\",\"FERRARI\"],\"textposition\":\"auto\",\"x\":[\"MID-SIZE\",\"SUBCOMPACT\",\"TWO-SEATER\"],\"xaxis\":\"x\",\"y\":[19.0,7.0,47.0],\"yaxis\":\"y\",\"type\":\"bar\"},{\"alignmentgroup\":\"True\",\"hovertemplate\":\"<b>Class: %{x}</b><br>Count: %{y}</br>Make: %{text}<br>\",\"legendgroup\":\"FIAT\",\"marker\":{\"color\":\"#FEAF16\",\"pattern\":{\"shape\":\"\"}},\"name\":\"FIAT\",\"offsetgroup\":\"FIAT\",\"orientation\":\"v\",\"showlegend\":true,\"text\":[\"FIAT\",\"FIAT\",\"FIAT\",\"FIAT\"],\"textposition\":\"auto\",\"x\":[\"MINICOMPACT\",\"STATION WAGON - SMALL\",\"SUV - SMALL\",\"TWO-SEATER\"],\"xaxis\":\"x\",\"y\":[52.0,12.0,13.0,8.0],\"yaxis\":\"y\",\"type\":\"bar\"},{\"alignmentgroup\":\"True\",\"hovertemplate\":\"<b>Class: %{x}</b><br>Count: %{y}</br>Make: %{text}<br>\",\"legendgroup\":\"FORD\",\"marker\":{\"color\":\"#F8A19F\",\"pattern\":{\"shape\":\"\"}},\"name\":\"FORD\",\"offsetgroup\":\"FORD\",\"orientation\":\"v\",\"showlegend\":true,\"text\":[\"FORD\",\"FORD\",\"FORD\",\"FORD\",\"FORD\",\"FORD\",\"FORD\",\"FORD\",\"FORD\",\"FORD\",\"FORD\",\"FORD\",\"FORD\",\"FORD\",\"FORD\"],\"textposition\":\"auto\",\"x\":[\"COMPACT\",\"FULL-SIZE\",\"MID-SIZE\",\"MINIVAN\",\"PICKUP TRUCK - SMALL\",\"PICKUP TRUCK - STANDARD\",\"SPECIAL PURPOSE VEHICLE\",\"STATION WAGON - MID-SIZE\",\"SUBCOMPACT\",\"SUV\",\"SUV - SMALL\",\"SUV - STANDARD\",\"TWO-SEATER\",\"VAN - CARGO\",\"VAN - PASSENGER\"],\"xaxis\":\"x\",\"y\":[125.0,97.0,117.0,9.0,30.0,525.0,64.0,38.0,184.0,175.0,131.0,100.0,13.0,52.0,64.0],\"yaxis\":\"y\",\"type\":\"bar\"},{\"alignmentgroup\":\"True\",\"hovertemplate\":\"<b>Class: %{x}</b><br>Count: %{y}</br>Make: %{text}<br>\",\"legendgroup\":\"GENESIS\",\"marker\":{\"color\":\"#90AD1C\",\"pattern\":{\"shape\":\"\"}},\"name\":\"GENESIS\",\"offsetgroup\":\"GENESIS\",\"orientation\":\"v\",\"showlegend\":true,\"text\":[\"GENESIS\",\"GENESIS\",\"GENESIS\",\"GENESIS\"],\"textposition\":\"auto\",\"x\":[\"COMPACT\",\"FULL-SIZE\",\"SUV - SMALL\",\"SUV - STANDARD\"],\"xaxis\":\"x\",\"y\":[11.0,25.0,2.0,4.0],\"yaxis\":\"y\",\"type\":\"bar\"},{\"alignmentgroup\":\"True\",\"hovertemplate\":\"<b>Class: %{x}</b><br>Count: %{y}</br>Make: %{text}<br>\",\"legendgroup\":\"GMC\",\"marker\":{\"color\":\"#F6222E\",\"pattern\":{\"shape\":\"\"}},\"name\":\"GMC\",\"offsetgroup\":\"GMC\",\"orientation\":\"v\",\"showlegend\":true,\"text\":[\"GMC\",\"GMC\",\"GMC\",\"GMC\",\"GMC\",\"GMC\",\"GMC\"],\"textposition\":\"auto\",\"x\":[\"PICKUP TRUCK - SMALL\",\"PICKUP TRUCK - STANDARD\",\"SUV\",\"SUV - SMALL\",\"SUV - STANDARD\",\"VAN - CARGO\",\"VAN - PASSENGER\"],\"xaxis\":\"x\",\"y\":[147.0,464.0,285.0,47.0,177.0,126.0,111.0],\"yaxis\":\"y\",\"type\":\"bar\"},{\"alignmentgroup\":\"True\",\"hovertemplate\":\"<b>Class: %{x}</b><br>Count: %{y}</br>Make: %{text}<br>\",\"legendgroup\":\"HONDA\",\"marker\":{\"color\":\"#1CFFCE\",\"pattern\":{\"shape\":\"\"}},\"name\":\"HONDA\",\"offsetgroup\":\"HONDA\",\"orientation\":\"v\",\"showlegend\":true,\"text\":[\"HONDA\",\"HONDA\",\"HONDA\",\"HONDA\",\"HONDA\",\"HONDA\",\"HONDA\",\"HONDA\",\"HONDA\",\"HONDA\",\"HONDA\"],\"textposition\":\"auto\",\"x\":[\"COMPACT\",\"FULL-SIZE\",\"MID-SIZE\",\"MINIVAN\",\"PICKUP TRUCK - STANDARD\",\"STATION WAGON - SMALL\",\"SUBCOMPACT\",\"SUV\",\"SUV - SMALL\",\"SUV - STANDARD\",\"TWO-SEATER\"],\"xaxis\":\"x\",\"y\":[103.0,70.0,101.0,34.0,15.0,58.0,26.0,72.0,54.0,1.0,27.0],\"yaxis\":\"y\",\"type\":\"bar\"},{\"alignmentgroup\":\"True\",\"hovertemplate\":\"<b>Class: %{x}</b><br>Count: %{y}</br>Make: %{text}<br>\",\"legendgroup\":\"HUMMER\",\"marker\":{\"color\":\"#2ED9FF\",\"pattern\":{\"shape\":\"\"}},\"name\":\"HUMMER\",\"offsetgroup\":\"HUMMER\",\"orientation\":\"v\",\"showlegend\":true,\"text\":[\"HUMMER\",\"HUMMER\"],\"textposition\":\"auto\",\"x\":[\"PICKUP TRUCK - STANDARD\",\"SUV\"],\"xaxis\":\"x\",\"y\":[7.0,14.0],\"yaxis\":\"y\",\"type\":\"bar\"},{\"alignmentgroup\":\"True\",\"hovertemplate\":\"<b>Class: %{x}</b><br>Count: %{y}</br>Make: %{text}<br>\",\"legendgroup\":\"HYUNDAI\",\"marker\":{\"color\":\"#B10DA1\",\"pattern\":{\"shape\":\"\"}},\"name\":\"HYUNDAI\",\"offsetgroup\":\"HYUNDAI\",\"orientation\":\"v\",\"showlegend\":true,\"text\":[\"HYUNDAI\",\"HYUNDAI\",\"HYUNDAI\",\"HYUNDAI\",\"HYUNDAI\",\"HYUNDAI\",\"HYUNDAI\",\"HYUNDAI\",\"HYUNDAI\",\"HYUNDAI\"],\"textposition\":\"auto\",\"x\":[\"COMPACT\",\"FULL-SIZE\",\"MID-SIZE\",\"MINIVAN\",\"PICKUP TRUCK - SMALL\",\"STATION WAGON - SMALL\",\"SUBCOMPACT\",\"SUV\",\"SUV - SMALL\",\"SUV - STANDARD\"],\"xaxis\":\"x\",\"y\":[100.0,99.0,102.0,3.0,1.0,10.0,53.0,88.0,100.0,5.0],\"yaxis\":\"y\",\"type\":\"bar\"},{\"alignmentgroup\":\"True\",\"hovertemplate\":\"<b>Class: %{x}</b><br>Count: %{y}</br>Make: %{text}<br>\",\"legendgroup\":\"INFINITI\",\"marker\":{\"color\":\"#C075A6\",\"pattern\":{\"shape\":\"\"}},\"name\":\"INFINITI\",\"offsetgroup\":\"INFINITI\",\"orientation\":\"v\",\"showlegend\":true,\"text\":[\"INFINITI\",\"INFINITI\",\"INFINITI\",\"INFINITI\",\"INFINITI\",\"INFINITI\",\"INFINITI\",\"INFINITI\"],\"textposition\":\"auto\",\"x\":[\"COMPACT\",\"FULL-SIZE\",\"MID-SIZE\",\"STATION WAGON - SMALL\",\"SUBCOMPACT\",\"SUV\",\"SUV - SMALL\",\"SUV - STANDARD\"],\"xaxis\":\"x\",\"y\":[38.0,19.0,92.0,8.0,52.0,32.0,24.0,15.0],\"yaxis\":\"y\",\"type\":\"bar\"},{\"alignmentgroup\":\"True\",\"hovertemplate\":\"<b>Class: %{x}</b><br>Count: %{y}</br>Make: %{text}<br>\",\"legendgroup\":\"ISUZU\",\"marker\":{\"color\":\"#FC1CBF\",\"pattern\":{\"shape\":\"\"}},\"name\":\"ISUZU\",\"offsetgroup\":\"ISUZU\",\"orientation\":\"v\",\"showlegend\":true,\"text\":[\"ISUZU\",\"ISUZU\",\"ISUZU\"],\"textposition\":\"auto\",\"x\":[\"PICKUP TRUCK - SMALL\",\"PICKUP TRUCK - STANDARD\",\"SUV\"],\"xaxis\":\"x\",\"y\":[3.0,1.0,14.0],\"yaxis\":\"y\",\"type\":\"bar\"},{\"alignmentgroup\":\"True\",\"hovertemplate\":\"<b>Class: %{x}</b><br>Count: %{y}</br>Make: %{text}<br>\",\"legendgroup\":\"JAGUAR\",\"marker\":{\"color\":\"#B00068\",\"pattern\":{\"shape\":\"\"}},\"name\":\"JAGUAR\",\"offsetgroup\":\"JAGUAR\",\"orientation\":\"v\",\"showlegend\":true,\"text\":[\"JAGUAR\",\"JAGUAR\",\"JAGUAR\",\"JAGUAR\",\"JAGUAR\",\"JAGUAR\",\"JAGUAR\",\"JAGUAR\"],\"textposition\":\"auto\",\"x\":[\"COMPACT\",\"FULL-SIZE\",\"MID-SIZE\",\"MINICOMPACT\",\"STATION WAGON - SMALL\",\"SUBCOMPACT\",\"SUV - SMALL\",\"TWO-SEATER\"],\"xaxis\":\"x\",\"y\":[32.0,64.0,69.0,53.0,8.0,34.0,16.0,88.0],\"yaxis\":\"y\",\"type\":\"bar\"},{\"alignmentgroup\":\"True\",\"hovertemplate\":\"<b>Class: %{x}</b><br>Count: %{y}</br>Make: %{text}<br>\",\"legendgroup\":\"JEEP\",\"marker\":{\"color\":\"#FBE426\",\"pattern\":{\"shape\":\"\"}},\"name\":\"JEEP\",\"offsetgroup\":\"JEEP\",\"orientation\":\"v\",\"showlegend\":true,\"text\":[\"JEEP\",\"JEEP\",\"JEEP\",\"JEEP\",\"JEEP\"],\"textposition\":\"auto\",\"x\":[\"PICKUP TRUCK - STANDARD\",\"SUBCOMPACT\",\"SUV\",\"SUV - SMALL\",\"SUV - STANDARD\"],\"xaxis\":\"x\",\"y\":[10.0,1.0,201.0,283.0,49.0],\"yaxis\":\"y\",\"type\":\"bar\"},{\"alignmentgroup\":\"True\",\"hovertemplate\":\"<b>Class: %{x}</b><br>Count: %{y}</br>Make: %{text}<br>\",\"legendgroup\":\"KIA\",\"marker\":{\"color\":\"#FA0087\",\"pattern\":{\"shape\":\"\"}},\"name\":\"KIA\",\"offsetgroup\":\"KIA\",\"orientation\":\"v\",\"showlegend\":true,\"text\":[\"KIA\",\"KIA\",\"KIA\",\"KIA\",\"KIA\",\"KIA\",\"KIA\",\"KIA\",\"KIA\"],\"textposition\":\"auto\",\"x\":[\"COMPACT\",\"FULL-SIZE\",\"MID-SIZE\",\"MINIVAN\",\"STATION WAGON - MID-SIZE\",\"STATION WAGON - SMALL\",\"SUBCOMPACT\",\"SUV\",\"SUV - SMALL\"],\"xaxis\":\"x\",\"y\":[92.0,61.0,108.0,28.0,19.0,62.0,2.0,80.0,80.0],\"yaxis\":\"y\",\"type\":\"bar\"},{\"alignmentgroup\":\"True\",\"hovertemplate\":\"<b>Class: %{x}</b><br>Count: %{y}</br>Make: %{text}<br>\",\"legendgroup\":\"LAMBORGHINI\",\"marker\":{\"color\":\"#AA0DFE\",\"pattern\":{\"shape\":\"\"}},\"name\":\"LAMBORGHINI\",\"offsetgroup\":\"LAMBORGHINI\",\"orientation\":\"v\",\"showlegend\":true,\"text\":[\"LAMBORGHINI\",\"LAMBORGHINI\"],\"textposition\":\"auto\",\"x\":[\"SUV - STANDARD\",\"TWO-SEATER\"],\"xaxis\":\"x\",\"y\":[4.0,107.0],\"yaxis\":\"y\",\"type\":\"bar\"},{\"alignmentgroup\":\"True\",\"hovertemplate\":\"<b>Class: %{x}</b><br>Count: %{y}</br>Make: %{text}<br>\",\"legendgroup\":\"LAND ROVER\",\"marker\":{\"color\":\"#3283FE\",\"pattern\":{\"shape\":\"\"}},\"name\":\"LAND ROVER\",\"offsetgroup\":\"LAND ROVER\",\"orientation\":\"v\",\"showlegend\":true,\"text\":[\"LAND ROVER\",\"LAND ROVER\",\"LAND ROVER\"],\"textposition\":\"auto\",\"x\":[\"SUV\",\"SUV - SMALL\",\"SUV - STANDARD\"],\"xaxis\":\"x\",\"y\":[63.0,34.0,77.0],\"yaxis\":\"y\",\"type\":\"bar\"},{\"alignmentgroup\":\"True\",\"hovertemplate\":\"<b>Class: %{x}</b><br>Count: %{y}</br>Make: %{text}<br>\",\"legendgroup\":\"LEXUS\",\"marker\":{\"color\":\"#85660D\",\"pattern\":{\"shape\":\"\"}},\"name\":\"LEXUS\",\"offsetgroup\":\"LEXUS\",\"orientation\":\"v\",\"showlegend\":true,\"text\":[\"LEXUS\",\"LEXUS\",\"LEXUS\",\"LEXUS\",\"LEXUS\",\"LEXUS\",\"LEXUS\",\"LEXUS\",\"LEXUS\",\"LEXUS\"],\"textposition\":\"auto\",\"x\":[\"COMPACT\",\"FULL-SIZE\",\"MID-SIZE\",\"MINICOMPACT\",\"STATION WAGON - MID-SIZE\",\"SUBCOMPACT\",\"SUV\",\"SUV - SMALL\",\"SUV - STANDARD\",\"TWO-SEATER\"],\"xaxis\":\"x\",\"y\":[67.0,9.0,151.0,11.0,1.0,93.0,50.0,46.0,31.0,1.0],\"yaxis\":\"y\",\"type\":\"bar\"},{\"alignmentgroup\":\"True\",\"hovertemplate\":\"<b>Class: %{x}</b><br>Count: %{y}</br>Make: %{text}<br>\",\"legendgroup\":\"LINCOLN\",\"marker\":{\"color\":\"#782AB6\",\"pattern\":{\"shape\":\"\"}},\"name\":\"LINCOLN\",\"offsetgroup\":\"LINCOLN\",\"orientation\":\"v\",\"showlegend\":true,\"text\":[\"LINCOLN\",\"LINCOLN\",\"LINCOLN\",\"LINCOLN\",\"LINCOLN\",\"LINCOLN\",\"LINCOLN\"],\"textposition\":\"auto\",\"x\":[\"FULL-SIZE\",\"MID-SIZE\",\"PICKUP TRUCK - STANDARD\",\"SPECIAL PURPOSE VEHICLE\",\"SUV\",\"SUV - SMALL\",\"SUV - STANDARD\"],\"xaxis\":\"x\",\"y\":[55.0,68.0,4.0,11.0,24.0,39.0,24.0],\"yaxis\":\"y\",\"type\":\"bar\"},{\"alignmentgroup\":\"True\",\"hovertemplate\":\"<b>Class: %{x}</b><br>Count: %{y}</br>Make: %{text}<br>\",\"legendgroup\":\"MASERATI\",\"marker\":{\"color\":\"#565656\",\"pattern\":{\"shape\":\"\"}},\"name\":\"MASERATI\",\"offsetgroup\":\"MASERATI\",\"orientation\":\"v\",\"showlegend\":true,\"text\":[\"MASERATI\",\"MASERATI\",\"MASERATI\",\"MASERATI\",\"MASERATI\"],\"textposition\":\"auto\",\"x\":[\"FULL-SIZE\",\"MID-SIZE\",\"SUBCOMPACT\",\"SUV - STANDARD\",\"TWO-SEATER\"],\"xaxis\":\"x\",\"y\":[37.0,27.0,31.0,20.0,10.0],\"yaxis\":\"y\",\"type\":\"bar\"},{\"alignmentgroup\":\"True\",\"hovertemplate\":\"<b>Class: %{x}</b><br>Count: %{y}</br>Make: %{text}<br>\",\"legendgroup\":\"MAZDA\",\"marker\":{\"color\":\"#1C8356\",\"pattern\":{\"shape\":\"\"}},\"name\":\"MAZDA\",\"offsetgroup\":\"MAZDA\",\"orientation\":\"v\",\"showlegend\":true,\"text\":[\"MAZDA\",\"MAZDA\",\"MAZDA\",\"MAZDA\",\"MAZDA\",\"MAZDA\",\"MAZDA\",\"MAZDA\",\"MAZDA\",\"MAZDA\"],\"textposition\":\"auto\",\"x\":[\"COMPACT\",\"MID-SIZE\",\"MINIVAN\",\"PICKUP TRUCK - SMALL\",\"PICKUP TRUCK - STANDARD\",\"STATION WAGON - MID-SIZE\",\"SUBCOMPACT\",\"SUV\",\"SUV - SMALL\",\"TWO-SEATER\"],\"xaxis\":\"x\",\"y\":[137.0,131.0,25.0,17.0,58.0,10.0,19.0,74.0,74.0,57.0],\"yaxis\":\"y\",\"type\":\"bar\"},{\"alignmentgroup\":\"True\",\"hovertemplate\":\"<b>Class: %{x}</b><br>Count: %{y}</br>Make: %{text}<br>\",\"legendgroup\":\"MERCEDES-BENZ\",\"marker\":{\"color\":\"#16FF32\",\"pattern\":{\"shape\":\"\"}},\"name\":\"MERCEDES-BENZ\",\"offsetgroup\":\"MERCEDES-BENZ\",\"orientation\":\"v\",\"showlegend\":true,\"text\":[\"MERCEDES-BENZ\",\"MERCEDES-BENZ\",\"MERCEDES-BENZ\",\"MERCEDES-BENZ\",\"MERCEDES-BENZ\",\"MERCEDES-BENZ\",\"MERCEDES-BENZ\",\"MERCEDES-BENZ\",\"MERCEDES-BENZ\",\"MERCEDES-BENZ\",\"MERCEDES-BENZ\",\"MERCEDES-BENZ\"],\"textposition\":\"auto\",\"x\":[\"COMPACT\",\"FULL-SIZE\",\"MID-SIZE\",\"MINICOMPACT\",\"SPECIAL PURPOSE VEHICLE\",\"STATION WAGON - MID-SIZE\",\"STATION WAGON - SMALL\",\"SUBCOMPACT\",\"SUV\",\"SUV - SMALL\",\"SUV - STANDARD\",\"TWO-SEATER\"],\"xaxis\":\"x\",\"y\":[279.0,136.0,120.0,8.0,18.0,51.0,59.0,177.0,90.0,50.0,113.0,175.0],\"yaxis\":\"y\",\"type\":\"bar\"},{\"alignmentgroup\":\"True\",\"hovertemplate\":\"<b>Class: %{x}</b><br>Count: %{y}</br>Make: %{text}<br>\",\"legendgroup\":\"MINI\",\"marker\":{\"color\":\"#F7E1A0\",\"pattern\":{\"shape\":\"\"}},\"name\":\"MINI\",\"offsetgroup\":\"MINI\",\"orientation\":\"v\",\"showlegend\":true,\"text\":[\"MINI\",\"MINI\",\"MINI\",\"MINI\",\"MINI\",\"MINI\"],\"textposition\":\"auto\",\"x\":[\"COMPACT\",\"MID-SIZE\",\"MINICOMPACT\",\"STATION WAGON - SMALL\",\"SUBCOMPACT\",\"TWO-SEATER\"],\"xaxis\":\"x\",\"y\":[52.0,57.0,135.0,4.0,112.0,46.0],\"yaxis\":\"y\",\"type\":\"bar\"},{\"alignmentgroup\":\"True\",\"hovertemplate\":\"<b>Class: %{x}</b><br>Count: %{y}</br>Make: %{text}<br>\",\"legendgroup\":\"MITSUBISHI\",\"marker\":{\"color\":\"#E2E2E2\",\"pattern\":{\"shape\":\"\"}},\"name\":\"MITSUBISHI\",\"offsetgroup\":\"MITSUBISHI\",\"orientation\":\"v\",\"showlegend\":true,\"text\":[\"MITSUBISHI\",\"MITSUBISHI\",\"MITSUBISHI\",\"MITSUBISHI\",\"MITSUBISHI\",\"MITSUBISHI\",\"MITSUBISHI\"],\"textposition\":\"auto\",\"x\":[\"COMPACT\",\"MID-SIZE\",\"MINICOMPACT\",\"STATION WAGON - SMALL\",\"SUBCOMPACT\",\"SUV\",\"SUV - SMALL\"],\"xaxis\":\"x\",\"y\":[96.0,18.0,32.0,22.0,39.0,56.0,59.0],\"yaxis\":\"y\",\"type\":\"bar\"},{\"alignmentgroup\":\"True\",\"hovertemplate\":\"<b>Class: %{x}</b><br>Count: %{y}</br>Make: %{text}<br>\",\"legendgroup\":\"NISSAN\",\"marker\":{\"color\":\"#1CBE4F\",\"pattern\":{\"shape\":\"\"}},\"name\":\"NISSAN\",\"offsetgroup\":\"NISSAN\",\"orientation\":\"v\",\"showlegend\":true,\"text\":[\"NISSAN\",\"NISSAN\",\"NISSAN\",\"NISSAN\",\"NISSAN\",\"NISSAN\",\"NISSAN\",\"NISSAN\",\"NISSAN\",\"NISSAN\",\"NISSAN\",\"NISSAN\",\"NISSAN\"],\"textposition\":\"auto\",\"x\":[\"COMPACT\",\"MID-SIZE\",\"MINIVAN\",\"PICKUP TRUCK - SMALL\",\"PICKUP TRUCK - STANDARD\",\"SPECIAL PURPOSE VEHICLE\",\"STATION WAGON - MID-SIZE\",\"STATION WAGON - SMALL\",\"SUBCOMPACT\",\"SUV\",\"SUV - SMALL\",\"SUV - STANDARD\",\"TWO-SEATER\"],\"xaxis\":\"x\",\"y\":[57.0,196.0,15.0,61.0,102.0,9.0,15.0,56.0,34.0,87.0,54.0,11.0,67.0],\"yaxis\":\"y\",\"type\":\"bar\"},{\"alignmentgroup\":\"True\",\"hovertemplate\":\"<b>Class: %{x}</b><br>Count: %{y}</br>Make: %{text}<br>\",\"legendgroup\":\"OLDSMOBILE\",\"marker\":{\"color\":\"#C4451C\",\"pattern\":{\"shape\":\"\"}},\"name\":\"OLDSMOBILE\",\"offsetgroup\":\"OLDSMOBILE\",\"orientation\":\"v\",\"showlegend\":true,\"text\":[\"OLDSMOBILE\",\"OLDSMOBILE\",\"OLDSMOBILE\",\"OLDSMOBILE\"],\"textposition\":\"auto\",\"x\":[\"COMPACT\",\"MID-SIZE\",\"MINIVAN\",\"SUV\"],\"xaxis\":\"x\",\"y\":[15.0,8.0,8.0,3.0],\"yaxis\":\"y\",\"type\":\"bar\"},{\"alignmentgroup\":\"True\",\"hovertemplate\":\"<b>Class: %{x}</b><br>Count: %{y}</br>Make: %{text}<br>\",\"legendgroup\":\"PLYMOUTH\",\"marker\":{\"color\":\"#DEA0FD\",\"pattern\":{\"shape\":\"\"}},\"name\":\"PLYMOUTH\",\"offsetgroup\":\"PLYMOUTH\",\"orientation\":\"v\",\"showlegend\":true,\"text\":[\"PLYMOUTH\",\"PLYMOUTH\"],\"textposition\":\"auto\",\"x\":[\"SUBCOMPACT\",\"TWO-SEATER\"],\"xaxis\":\"x\",\"y\":[1.0,1.0],\"yaxis\":\"y\",\"type\":\"bar\"},{\"alignmentgroup\":\"True\",\"hovertemplate\":\"<b>Class: %{x}</b><br>Count: %{y}</br>Make: %{text}<br>\",\"legendgroup\":\"PONTIAC\",\"marker\":{\"color\":\"#FE00FA\",\"pattern\":{\"shape\":\"\"}},\"name\":\"PONTIAC\",\"offsetgroup\":\"PONTIAC\",\"orientation\":\"v\",\"showlegend\":true,\"text\":[\"PONTIAC\",\"PONTIAC\",\"PONTIAC\",\"PONTIAC\",\"PONTIAC\",\"PONTIAC\",\"PONTIAC\",\"PONTIAC\"],\"textposition\":\"auto\",\"x\":[\"COMPACT\",\"FULL-SIZE\",\"MID-SIZE\",\"MINIVAN\",\"STATION WAGON - SMALL\",\"SUBCOMPACT\",\"SUV\",\"TWO-SEATER\"],\"xaxis\":\"x\",\"y\":[67.0,13.0,29.0,21.0,32.0,56.0,22.0,13.0],\"yaxis\":\"y\",\"type\":\"bar\"},{\"alignmentgroup\":\"True\",\"hovertemplate\":\"<b>Class: %{x}</b><br>Count: %{y}</br>Make: %{text}<br>\",\"legendgroup\":\"PORSCHE\",\"marker\":{\"color\":\"#325A9B\",\"pattern\":{\"shape\":\"\"}},\"name\":\"PORSCHE\",\"offsetgroup\":\"PORSCHE\",\"orientation\":\"v\",\"showlegend\":true,\"text\":[\"PORSCHE\",\"PORSCHE\",\"PORSCHE\",\"PORSCHE\",\"PORSCHE\",\"PORSCHE\"],\"textposition\":\"auto\",\"x\":[\"FULL-SIZE\",\"MINICOMPACT\",\"SUV\",\"SUV - SMALL\",\"SUV - STANDARD\",\"TWO-SEATER\"],\"xaxis\":\"x\",\"y\":[109.0,534.0,43.0,26.0,51.0,225.0],\"yaxis\":\"y\",\"type\":\"bar\"},{\"alignmentgroup\":\"True\",\"hovertemplate\":\"<b>Class: %{x}</b><br>Count: %{y}</br>Make: %{text}<br>\",\"legendgroup\":\"RAM\",\"marker\":{\"color\":\"#FEAF16\",\"pattern\":{\"shape\":\"\"}},\"name\":\"RAM\",\"offsetgroup\":\"RAM\",\"orientation\":\"v\",\"showlegend\":true,\"text\":[\"RAM\",\"RAM\",\"RAM\"],\"textposition\":\"auto\",\"x\":[\"MINIVAN\",\"PICKUP TRUCK - STANDARD\",\"SPECIAL PURPOSE VEHICLE\"],\"xaxis\":\"x\",\"y\":[8.0,137.0,8.0],\"yaxis\":\"y\",\"type\":\"bar\"},{\"alignmentgroup\":\"True\",\"hovertemplate\":\"<b>Class: %{x}</b><br>Count: %{y}</br>Make: %{text}<br>\",\"legendgroup\":\"ROLLS-ROYCE\",\"marker\":{\"color\":\"#F8A19F\",\"pattern\":{\"shape\":\"\"}},\"name\":\"ROLLS-ROYCE\",\"offsetgroup\":\"ROLLS-ROYCE\",\"orientation\":\"v\",\"showlegend\":true,\"text\":[\"ROLLS-ROYCE\",\"ROLLS-ROYCE\",\"ROLLS-ROYCE\",\"ROLLS-ROYCE\",\"ROLLS-ROYCE\"],\"textposition\":\"auto\",\"x\":[\"COMPACT\",\"FULL-SIZE\",\"MID-SIZE\",\"STATION WAGON - MID-SIZE\",\"SUBCOMPACT\"],\"xaxis\":\"x\",\"y\":[26.0,51.0,21.0,7.0,1.0],\"yaxis\":\"y\",\"type\":\"bar\"},{\"alignmentgroup\":\"True\",\"hovertemplate\":\"<b>Class: %{x}</b><br>Count: %{y}</br>Make: %{text}<br>\",\"legendgroup\":\"SAAB\",\"marker\":{\"color\":\"#90AD1C\",\"pattern\":{\"shape\":\"\"}},\"name\":\"SAAB\",\"offsetgroup\":\"SAAB\",\"orientation\":\"v\",\"showlegend\":true,\"text\":[\"SAAB\",\"SAAB\",\"SAAB\",\"SAAB\",\"SAAB\",\"SAAB\",\"SAAB\"],\"textposition\":\"auto\",\"x\":[\"COMPACT\",\"FULL-SIZE\",\"MID-SIZE\",\"STATION WAGON - MID-SIZE\",\"STATION WAGON - SMALL\",\"SUBCOMPACT\",\"SUV\"],\"xaxis\":\"x\",\"y\":[43.0,3.0,41.0,37.0,28.0,27.0,11.0],\"yaxis\":\"y\",\"type\":\"bar\"},{\"alignmentgroup\":\"True\",\"hovertemplate\":\"<b>Class: %{x}</b><br>Count: %{y}</br>Make: %{text}<br>\",\"legendgroup\":\"SATURN\",\"marker\":{\"color\":\"#F6222E\",\"pattern\":{\"shape\":\"\"}},\"name\":\"SATURN\",\"offsetgroup\":\"SATURN\",\"orientation\":\"v\",\"showlegend\":true,\"text\":[\"SATURN\",\"SATURN\",\"SATURN\",\"SATURN\",\"SATURN\",\"SATURN\",\"SATURN\",\"SATURN\"],\"textposition\":\"auto\",\"x\":[\"COMPACT\",\"MID-SIZE\",\"MINIVAN\",\"STATION WAGON - MID-SIZE\",\"STATION WAGON - SMALL\",\"SUBCOMPACT\",\"SUV\",\"TWO-SEATER\"],\"xaxis\":\"x\",\"y\":[18.0,25.0,8.0,12.0,4.0,28.0,49.0,12.0],\"yaxis\":\"y\",\"type\":\"bar\"},{\"alignmentgroup\":\"True\",\"hovertemplate\":\"<b>Class: %{x}</b><br>Count: %{y}</br>Make: %{text}<br>\",\"legendgroup\":\"SCION\",\"marker\":{\"color\":\"#1CFFCE\",\"pattern\":{\"shape\":\"\"}},\"name\":\"SCION\",\"offsetgroup\":\"SCION\",\"orientation\":\"v\",\"showlegend\":true,\"text\":[\"SCION\",\"SCION\",\"SCION\",\"SCION\",\"SCION\"],\"textposition\":\"auto\",\"x\":[\"COMPACT\",\"MID-SIZE\",\"MINICOMPACT\",\"STATION WAGON - SMALL\",\"SUBCOMPACT\"],\"xaxis\":\"x\",\"y\":[12.0,2.0,12.0,10.0,8.0],\"yaxis\":\"y\",\"type\":\"bar\"},{\"alignmentgroup\":\"True\",\"hovertemplate\":\"<b>Class: %{x}</b><br>Count: %{y}</br>Make: %{text}<br>\",\"legendgroup\":\"SMART\",\"marker\":{\"color\":\"#2ED9FF\",\"pattern\":{\"shape\":\"\"}},\"name\":\"SMART\",\"offsetgroup\":\"SMART\",\"orientation\":\"v\",\"showlegend\":true,\"text\":[\"SMART\"],\"textposition\":\"auto\",\"x\":[\"TWO-SEATER\"],\"xaxis\":\"x\",\"y\":[22.0],\"yaxis\":\"y\",\"type\":\"bar\"},{\"alignmentgroup\":\"True\",\"hovertemplate\":\"<b>Class: %{x}</b><br>Count: %{y}</br>Make: %{text}<br>\",\"legendgroup\":\"SRT\",\"marker\":{\"color\":\"#B10DA1\",\"pattern\":{\"shape\":\"\"}},\"name\":\"SRT\",\"offsetgroup\":\"SRT\",\"orientation\":\"v\",\"showlegend\":true,\"text\":[\"SRT\"],\"textposition\":\"auto\",\"x\":[\"TWO-SEATER\"],\"xaxis\":\"x\",\"y\":[4.0],\"yaxis\":\"y\",\"type\":\"bar\"},{\"alignmentgroup\":\"True\",\"hovertemplate\":\"<b>Class: %{x}</b><br>Count: %{y}</br>Make: %{text}<br>\",\"legendgroup\":\"SUBARU\",\"marker\":{\"color\":\"#C075A6\",\"pattern\":{\"shape\":\"\"}},\"name\":\"SUBARU\",\"offsetgroup\":\"SUBARU\",\"orientation\":\"v\",\"showlegend\":true,\"text\":[\"SUBARU\",\"SUBARU\",\"SUBARU\",\"SUBARU\",\"SUBARU\",\"SUBARU\",\"SUBARU\",\"SUBARU\",\"SUBARU\",\"SUBARU\"],\"textposition\":\"auto\",\"x\":[\"COMPACT\",\"FULL-SIZE\",\"MID-SIZE\",\"MINICOMPACT\",\"STATION WAGON - MID-SIZE\",\"STATION WAGON - SMALL\",\"SUBCOMPACT\",\"SUV\",\"SUV - SMALL\",\"SUV - STANDARD\"],\"xaxis\":\"x\",\"y\":[113.0,6.0,41.0,20.0,42.0,82.0,35.0,101.0,76.0,4.0],\"yaxis\":\"y\",\"type\":\"bar\"},{\"alignmentgroup\":\"True\",\"hovertemplate\":\"<b>Class: %{x}</b><br>Count: %{y}</br>Make: %{text}<br>\",\"legendgroup\":\"SUZUKI\",\"marker\":{\"color\":\"#FC1CBF\",\"pattern\":{\"shape\":\"\"}},\"name\":\"SUZUKI\",\"offsetgroup\":\"SUZUKI\",\"orientation\":\"v\",\"showlegend\":true,\"text\":[\"SUZUKI\",\"SUZUKI\",\"SUZUKI\",\"SUZUKI\",\"SUZUKI\",\"SUZUKI\",\"SUZUKI\"],\"textposition\":\"auto\",\"x\":[\"COMPACT\",\"MID-SIZE\",\"PICKUP TRUCK - SMALL\",\"STATION WAGON - SMALL\",\"SUBCOMPACT\",\"SUV\",\"SUV - SMALL\"],\"xaxis\":\"x\",\"y\":[56.0,3.0,5.0,61.0,12.0,61.0,1.0],\"yaxis\":\"y\",\"type\":\"bar\"},{\"alignmentgroup\":\"True\",\"hovertemplate\":\"<b>Class: %{x}</b><br>Count: %{y}</br>Make: %{text}<br>\",\"legendgroup\":\"TOYOTA\",\"marker\":{\"color\":\"#B00068\",\"pattern\":{\"shape\":\"\"}},\"name\":\"TOYOTA\",\"offsetgroup\":\"TOYOTA\",\"orientation\":\"v\",\"showlegend\":true,\"text\":[\"TOYOTA\",\"TOYOTA\",\"TOYOTA\",\"TOYOTA\",\"TOYOTA\",\"TOYOTA\",\"TOYOTA\",\"TOYOTA\",\"TOYOTA\",\"TOYOTA\",\"TOYOTA\",\"TOYOTA\",\"TOYOTA\",\"TOYOTA\"],\"textposition\":\"auto\",\"x\":[\"COMPACT\",\"FULL-SIZE\",\"MID-SIZE\",\"MINICOMPACT\",\"MINIVAN\",\"PICKUP TRUCK - SMALL\",\"PICKUP TRUCK - STANDARD\",\"STATION WAGON - MID-SIZE\",\"STATION WAGON - SMALL\",\"SUBCOMPACT\",\"SUV\",\"SUV - SMALL\",\"SUV - STANDARD\",\"TWO-SEATER\"],\"xaxis\":\"x\",\"y\":[146.0,12.0,178.0,10.0,43.0,87.0,140.0,7.0,48.0,46.0,135.0,85.0,59.0,5.0],\"yaxis\":\"y\",\"type\":\"bar\"},{\"alignmentgroup\":\"True\",\"hovertemplate\":\"<b>Class: %{x}</b><br>Count: %{y}</br>Make: %{text}<br>\",\"legendgroup\":\"VOLKSWAGEN\",\"marker\":{\"color\":\"#FBE426\",\"pattern\":{\"shape\":\"\"}},\"name\":\"VOLKSWAGEN\",\"offsetgroup\":\"VOLKSWAGEN\",\"orientation\":\"v\",\"showlegend\":true,\"text\":[\"VOLKSWAGEN\",\"VOLKSWAGEN\",\"VOLKSWAGEN\",\"VOLKSWAGEN\",\"VOLKSWAGEN\",\"VOLKSWAGEN\",\"VOLKSWAGEN\",\"VOLKSWAGEN\",\"VOLKSWAGEN\",\"VOLKSWAGEN\",\"VOLKSWAGEN\"],\"textposition\":\"auto\",\"x\":[\"COMPACT\",\"FULL-SIZE\",\"MID-SIZE\",\"MINICOMPACT\",\"MINIVAN\",\"STATION WAGON - MID-SIZE\",\"STATION WAGON - SMALL\",\"SUBCOMPACT\",\"SUV\",\"SUV - SMALL\",\"SUV - STANDARD\"],\"xaxis\":\"x\",\"y\":[315.0,8.0,77.0,20.0,11.0,49.0,56.0,92.0,28.0,38.0,7.0],\"yaxis\":\"y\",\"type\":\"bar\"},{\"alignmentgroup\":\"True\",\"hovertemplate\":\"<b>Class: %{x}</b><br>Count: %{y}</br>Make: %{text}<br>\",\"legendgroup\":\"VOLVO\",\"marker\":{\"color\":\"#FA0087\",\"pattern\":{\"shape\":\"\"}},\"name\":\"VOLVO\",\"offsetgroup\":\"VOLVO\",\"orientation\":\"v\",\"showlegend\":true,\"text\":[\"VOLVO\",\"VOLVO\",\"VOLVO\",\"VOLVO\",\"VOLVO\",\"VOLVO\",\"VOLVO\",\"VOLVO\"],\"textposition\":\"auto\",\"x\":[\"COMPACT\",\"MID-SIZE\",\"STATION WAGON - MID-SIZE\",\"STATION WAGON - SMALL\",\"SUBCOMPACT\",\"SUV\",\"SUV - SMALL\",\"SUV - STANDARD\"],\"xaxis\":\"x\",\"y\":[177.0,52.0,72.0,71.0,22.0,55.0,48.0,18.0],\"yaxis\":\"y\",\"type\":\"bar\"}],                        {\"template\":{\"data\":{\"histogram2dcontour\":[{\"type\":\"histogram2dcontour\",\"colorbar\":{\"outlinewidth\":0,\"ticks\":\"\"},\"colorscale\":[[0.0,\"#0d0887\"],[0.1111111111111111,\"#46039f\"],[0.2222222222222222,\"#7201a8\"],[0.3333333333333333,\"#9c179e\"],[0.4444444444444444,\"#bd3786\"],[0.5555555555555556,\"#d8576b\"],[0.6666666666666666,\"#ed7953\"],[0.7777777777777778,\"#fb9f3a\"],[0.8888888888888888,\"#fdca26\"],[1.0,\"#f0f921\"]]}],\"choropleth\":[{\"type\":\"choropleth\",\"colorbar\":{\"outlinewidth\":0,\"ticks\":\"\"}}],\"histogram2d\":[{\"type\":\"histogram2d\",\"colorbar\":{\"outlinewidth\":0,\"ticks\":\"\"},\"colorscale\":[[0.0,\"#0d0887\"],[0.1111111111111111,\"#46039f\"],[0.2222222222222222,\"#7201a8\"],[0.3333333333333333,\"#9c179e\"],[0.4444444444444444,\"#bd3786\"],[0.5555555555555556,\"#d8576b\"],[0.6666666666666666,\"#ed7953\"],[0.7777777777777778,\"#fb9f3a\"],[0.8888888888888888,\"#fdca26\"],[1.0,\"#f0f921\"]]}],\"heatmap\":[{\"type\":\"heatmap\",\"colorbar\":{\"outlinewidth\":0,\"ticks\":\"\"},\"colorscale\":[[0.0,\"#0d0887\"],[0.1111111111111111,\"#46039f\"],[0.2222222222222222,\"#7201a8\"],[0.3333333333333333,\"#9c179e\"],[0.4444444444444444,\"#bd3786\"],[0.5555555555555556,\"#d8576b\"],[0.6666666666666666,\"#ed7953\"],[0.7777777777777778,\"#fb9f3a\"],[0.8888888888888888,\"#fdca26\"],[1.0,\"#f0f921\"]]}],\"heatmapgl\":[{\"type\":\"heatmapgl\",\"colorbar\":{\"outlinewidth\":0,\"ticks\":\"\"},\"colorscale\":[[0.0,\"#0d0887\"],[0.1111111111111111,\"#46039f\"],[0.2222222222222222,\"#7201a8\"],[0.3333333333333333,\"#9c179e\"],[0.4444444444444444,\"#bd3786\"],[0.5555555555555556,\"#d8576b\"],[0.6666666666666666,\"#ed7953\"],[0.7777777777777778,\"#fb9f3a\"],[0.8888888888888888,\"#fdca26\"],[1.0,\"#f0f921\"]]}],\"contourcarpet\":[{\"type\":\"contourcarpet\",\"colorbar\":{\"outlinewidth\":0,\"ticks\":\"\"}}],\"contour\":[{\"type\":\"contour\",\"colorbar\":{\"outlinewidth\":0,\"ticks\":\"\"},\"colorscale\":[[0.0,\"#0d0887\"],[0.1111111111111111,\"#46039f\"],[0.2222222222222222,\"#7201a8\"],[0.3333333333333333,\"#9c179e\"],[0.4444444444444444,\"#bd3786\"],[0.5555555555555556,\"#d8576b\"],[0.6666666666666666,\"#ed7953\"],[0.7777777777777778,\"#fb9f3a\"],[0.8888888888888888,\"#fdca26\"],[1.0,\"#f0f921\"]]}],\"surface\":[{\"type\":\"surface\",\"colorbar\":{\"outlinewidth\":0,\"ticks\":\"\"},\"colorscale\":[[0.0,\"#0d0887\"],[0.1111111111111111,\"#46039f\"],[0.2222222222222222,\"#7201a8\"],[0.3333333333333333,\"#9c179e\"],[0.4444444444444444,\"#bd3786\"],[0.5555555555555556,\"#d8576b\"],[0.6666666666666666,\"#ed7953\"],[0.7777777777777778,\"#fb9f3a\"],[0.8888888888888888,\"#fdca26\"],[1.0,\"#f0f921\"]]}],\"mesh3d\":[{\"type\":\"mesh3d\",\"colorbar\":{\"outlinewidth\":0,\"ticks\":\"\"}}],\"scatter\":[{\"fillpattern\":{\"fillmode\":\"overlay\",\"size\":10,\"solidity\":0.2},\"type\":\"scatter\"}],\"parcoords\":[{\"type\":\"parcoords\",\"line\":{\"colorbar\":{\"outlinewidth\":0,\"ticks\":\"\"}}}],\"scatterpolargl\":[{\"type\":\"scatterpolargl\",\"marker\":{\"colorbar\":{\"outlinewidth\":0,\"ticks\":\"\"}}}],\"bar\":[{\"error_x\":{\"color\":\"#2a3f5f\"},\"error_y\":{\"color\":\"#2a3f5f\"},\"marker\":{\"line\":{\"color\":\"#E5ECF6\",\"width\":0.5},\"pattern\":{\"fillmode\":\"overlay\",\"size\":10,\"solidity\":0.2}},\"type\":\"bar\"}],\"scattergeo\":[{\"type\":\"scattergeo\",\"marker\":{\"colorbar\":{\"outlinewidth\":0,\"ticks\":\"\"}}}],\"scatterpolar\":[{\"type\":\"scatterpolar\",\"marker\":{\"colorbar\":{\"outlinewidth\":0,\"ticks\":\"\"}}}],\"histogram\":[{\"marker\":{\"pattern\":{\"fillmode\":\"overlay\",\"size\":10,\"solidity\":0.2}},\"type\":\"histogram\"}],\"scattergl\":[{\"type\":\"scattergl\",\"marker\":{\"colorbar\":{\"outlinewidth\":0,\"ticks\":\"\"}}}],\"scatter3d\":[{\"type\":\"scatter3d\",\"line\":{\"colorbar\":{\"outlinewidth\":0,\"ticks\":\"\"}},\"marker\":{\"colorbar\":{\"outlinewidth\":0,\"ticks\":\"\"}}}],\"scattermapbox\":[{\"type\":\"scattermapbox\",\"marker\":{\"colorbar\":{\"outlinewidth\":0,\"ticks\":\"\"}}}],\"scatterternary\":[{\"type\":\"scatterternary\",\"marker\":{\"colorbar\":{\"outlinewidth\":0,\"ticks\":\"\"}}}],\"scattercarpet\":[{\"type\":\"scattercarpet\",\"marker\":{\"colorbar\":{\"outlinewidth\":0,\"ticks\":\"\"}}}],\"carpet\":[{\"aaxis\":{\"endlinecolor\":\"#2a3f5f\",\"gridcolor\":\"white\",\"linecolor\":\"white\",\"minorgridcolor\":\"white\",\"startlinecolor\":\"#2a3f5f\"},\"baxis\":{\"endlinecolor\":\"#2a3f5f\",\"gridcolor\":\"white\",\"linecolor\":\"white\",\"minorgridcolor\":\"white\",\"startlinecolor\":\"#2a3f5f\"},\"type\":\"carpet\"}],\"table\":[{\"cells\":{\"fill\":{\"color\":\"#EBF0F8\"},\"line\":{\"color\":\"white\"}},\"header\":{\"fill\":{\"color\":\"#C8D4E3\"},\"line\":{\"color\":\"white\"}},\"type\":\"table\"}],\"barpolar\":[{\"marker\":{\"line\":{\"color\":\"#E5ECF6\",\"width\":0.5},\"pattern\":{\"fillmode\":\"overlay\",\"size\":10,\"solidity\":0.2}},\"type\":\"barpolar\"}],\"pie\":[{\"automargin\":true,\"type\":\"pie\"}]},\"layout\":{\"autotypenumbers\":\"strict\",\"colorway\":[\"#636efa\",\"#EF553B\",\"#00cc96\",\"#ab63fa\",\"#FFA15A\",\"#19d3f3\",\"#FF6692\",\"#B6E880\",\"#FF97FF\",\"#FECB52\"],\"font\":{\"color\":\"#2a3f5f\"},\"hovermode\":\"closest\",\"hoverlabel\":{\"align\":\"left\"},\"paper_bgcolor\":\"white\",\"plot_bgcolor\":\"#E5ECF6\",\"polar\":{\"bgcolor\":\"#E5ECF6\",\"angularaxis\":{\"gridcolor\":\"white\",\"linecolor\":\"white\",\"ticks\":\"\"},\"radialaxis\":{\"gridcolor\":\"white\",\"linecolor\":\"white\",\"ticks\":\"\"}},\"ternary\":{\"bgcolor\":\"#E5ECF6\",\"aaxis\":{\"gridcolor\":\"white\",\"linecolor\":\"white\",\"ticks\":\"\"},\"baxis\":{\"gridcolor\":\"white\",\"linecolor\":\"white\",\"ticks\":\"\"},\"caxis\":{\"gridcolor\":\"white\",\"linecolor\":\"white\",\"ticks\":\"\"}},\"coloraxis\":{\"colorbar\":{\"outlinewidth\":0,\"ticks\":\"\"}},\"colorscale\":{\"sequential\":[[0.0,\"#0d0887\"],[0.1111111111111111,\"#46039f\"],[0.2222222222222222,\"#7201a8\"],[0.3333333333333333,\"#9c179e\"],[0.4444444444444444,\"#bd3786\"],[0.5555555555555556,\"#d8576b\"],[0.6666666666666666,\"#ed7953\"],[0.7777777777777778,\"#fb9f3a\"],[0.8888888888888888,\"#fdca26\"],[1.0,\"#f0f921\"]],\"sequentialminus\":[[0.0,\"#0d0887\"],[0.1111111111111111,\"#46039f\"],[0.2222222222222222,\"#7201a8\"],[0.3333333333333333,\"#9c179e\"],[0.4444444444444444,\"#bd3786\"],[0.5555555555555556,\"#d8576b\"],[0.6666666666666666,\"#ed7953\"],[0.7777777777777778,\"#fb9f3a\"],[0.8888888888888888,\"#fdca26\"],[1.0,\"#f0f921\"]],\"diverging\":[[0,\"#8e0152\"],[0.1,\"#c51b7d\"],[0.2,\"#de77ae\"],[0.3,\"#f1b6da\"],[0.4,\"#fde0ef\"],[0.5,\"#f7f7f7\"],[0.6,\"#e6f5d0\"],[0.7,\"#b8e186\"],[0.8,\"#7fbc41\"],[0.9,\"#4d9221\"],[1,\"#276419\"]]},\"xaxis\":{\"gridcolor\":\"white\",\"linecolor\":\"white\",\"ticks\":\"\",\"title\":{\"standoff\":15},\"zerolinecolor\":\"white\",\"automargin\":true,\"zerolinewidth\":2},\"yaxis\":{\"gridcolor\":\"white\",\"linecolor\":\"white\",\"ticks\":\"\",\"title\":{\"standoff\":15},\"zerolinecolor\":\"white\",\"automargin\":true,\"zerolinewidth\":2},\"scene\":{\"xaxis\":{\"backgroundcolor\":\"#E5ECF6\",\"gridcolor\":\"white\",\"linecolor\":\"white\",\"showbackground\":true,\"ticks\":\"\",\"zerolinecolor\":\"white\",\"gridwidth\":2},\"yaxis\":{\"backgroundcolor\":\"#E5ECF6\",\"gridcolor\":\"white\",\"linecolor\":\"white\",\"showbackground\":true,\"ticks\":\"\",\"zerolinecolor\":\"white\",\"gridwidth\":2},\"zaxis\":{\"backgroundcolor\":\"#E5ECF6\",\"gridcolor\":\"white\",\"linecolor\":\"white\",\"showbackground\":true,\"ticks\":\"\",\"zerolinecolor\":\"white\",\"gridwidth\":2}},\"shapedefaults\":{\"line\":{\"color\":\"#2a3f5f\"}},\"annotationdefaults\":{\"arrowcolor\":\"#2a3f5f\",\"arrowhead\":0,\"arrowwidth\":1},\"geo\":{\"bgcolor\":\"white\",\"landcolor\":\"#E5ECF6\",\"subunitcolor\":\"white\",\"showland\":true,\"showlakes\":true,\"lakecolor\":\"white\"},\"title\":{\"x\":0.05},\"mapbox\":{\"style\":\"light\"}}},\"xaxis\":{\"anchor\":\"y\",\"domain\":[0.0,1.0],\"title\":{\"text\":\"Vehicle Class\"}},\"yaxis\":{\"anchor\":\"x\",\"domain\":[0.0,1.0],\"title\":{\"text\":\"Number of Vehicles grouped by Make\"}},\"legend\":{\"title\":{\"text\":\"color\"},\"tracegroupgap\":0},\"title\":{\"text\":\"Vehicle Class focus for each Manufacturer\"},\"barmode\":\"relative\"},                        {\"responsive\": true}                    ).then(function(){\n",
       "                            \n",
       "var gd = document.getElementById('411f4b2d-aa84-42c8-8214-e79b799cf4fe');\n",
       "var x = new MutationObserver(function (mutations, observer) {{\n",
       "        var display = window.getComputedStyle(gd).display;\n",
       "        if (!display || display === 'none') {{\n",
       "            console.log([gd, 'removed!']);\n",
       "            Plotly.purge(gd);\n",
       "            observer.disconnect();\n",
       "        }}\n",
       "}});\n",
       "\n",
       "// Listen for the removal of the full notebook cells\n",
       "var notebookContainer = gd.closest('#notebook-container');\n",
       "if (notebookContainer) {{\n",
       "    x.observe(notebookContainer, {childList: true});\n",
       "}}\n",
       "\n",
       "// Listen for the clearing of the current output cell\n",
       "var outputEl = gd.closest('.output');\n",
       "if (outputEl) {{\n",
       "    x.observe(outputEl, {childList: true});\n",
       "}}\n",
       "\n",
       "                        })                };                });            </script>        </div>"
      ]
     },
     "metadata": {},
     "output_type": "display_data"
    }
   ],
   "source": [
    "Make = [x[0] for x in data_by_make.index]\n",
    "Count = data_by_make['ID']['count'].values.tolist()\n",
    "VehicleClass = [x[1] for x in data_by_make.index]\n",
    "\n",
    "fig = px.bar(x=VehicleClass, \n",
    "             y=Count, \n",
    "             color=Make, \n",
    "             color_discrete_sequence=px.colors.qualitative.Alphabet,\n",
    "             text=Make,\n",
    "             title=\"Vehicle Class focus for each Manufacturer\")\n",
    "\n",
    "fig.update_layout(xaxis_title='Vehicle Class',\n",
    "                  yaxis_title='Number of Vehicles grouped by Make',\n",
    "                  )\n",
    "\n",
    "fig.update_traces(hovertemplate= \"<b>Class: %{x}</b><br>\" + \"Count: %{y}</br>\" + \"Make: %{text}<br>\", selector=dict(type='bar'))\n",
    "\n",
    "fig.show()"
   ]
  },
  {
   "cell_type": "code",
   "execution_count": null,
   "id": "b4e98c45",
   "metadata": {},
   "outputs": [],
   "source": []
  }
 ],
 "metadata": {
  "kernelspec": {
   "display_name": "Python 3 (ipykernel)",
   "language": "python",
   "name": "python3"
  },
  "language_info": {
   "codemirror_mode": {
    "name": "ipython",
    "version": 3
   },
   "file_extension": ".py",
   "mimetype": "text/x-python",
   "name": "python",
   "nbconvert_exporter": "python",
   "pygments_lexer": "ipython3",
   "version": "3.9.16"
  }
 },
 "nbformat": 4,
 "nbformat_minor": 5
}
